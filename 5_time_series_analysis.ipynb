{
 "cells": [
  {
   "cell_type": "markdown",
   "metadata": {},
   "source": [
    "# Time series analysis"
   ]
  },
  {
   "cell_type": "code",
   "execution_count": null,
   "metadata": {},
   "outputs": [],
   "source": [
    "import pandas as pd\n",
    "\n",
    "# KMEANS\n",
    "from sklearn.cluster import KMeans\n",
    "from yellowbrick.cluster.elbow import KElbowVisualizer \n",
    "from yellowbrick.cluster import silhouette_visualizer \n",
    "\n",
    "# Visualization\n",
    "import plotly.express as px\n",
    "import plotly.io as pio\n",
    "pd.options.plotting.backend = \"plotly\"\n",
    "pio.templates.default = \"seaborn\"\n",
    "import matplotlib.pyplot as plt\n",
    "# geo (visualization)\n",
    "\n",
    "pd.set_option('display.max_columns', None)"
   ]
  },
  {
   "cell_type": "code",
   "execution_count": null,
   "metadata": {},
   "outputs": [],
   "source": [
    "# Read datasets\n",
    "df_temperature = pd.read_csv(\"./datasets/CityGlobalTemperature2000-2009.csv\", index_col=0) # index_col takes the index from the csv rather than creating it automatically (i.e. unnamed col is removed)"
   ]
  },
  {
   "cell_type": "code",
   "execution_count": null,
   "metadata": {},
   "outputs": [],
   "source": [
    "df_temperature.head()"
   ]
  },
  {
   "cell_type": "markdown",
   "metadata": {},
   "source": [
    "## Data Anlaysis"
   ]
  },
  {
   "cell_type": "markdown",
   "metadata": {},
   "source": [
    "Null values and Type analysis"
   ]
  },
  {
   "cell_type": "code",
   "execution_count": null,
   "metadata": {},
   "outputs": [],
   "source": [
    "df_temperature.info()"
   ]
  },
  {
   "cell_type": "markdown",
   "metadata": {},
   "source": [
    "I verify that each city has the same Country, Latitude and Longitude in all its records."
   ]
  },
  {
   "cell_type": "code",
   "execution_count": null,
   "metadata": {},
   "outputs": [],
   "source": [
    "something_different = False\n",
    "\n",
    "for city in df_temperature.City.unique():\n",
    "    query = df_temperature['City'] == city\n",
    "\n",
    "    if not df_temperature[query].loc[:, 'Country'].eq(df_temperature[query].loc[:, 'Country'].iloc[0]).all():\n",
    "        something_different = True\n",
    "        print(city + ' has different Country')\n",
    "    if not df_temperature[query].loc[:, 'Latitude'].eq(df_temperature[query].loc[:, 'Latitude'].iloc[0]).all():\n",
    "        something_different = True\n",
    "        print(city + ' has different Latitude')\n",
    "    if not df_temperature[query].loc[:, 'Longitude'].eq(df_temperature[query].loc[:, 'Longitude'].iloc[0]).all():\n",
    "        something_different = True\n",
    "        print(city + ' has different Longitude')\n",
    "\n",
    "if not something_different:\n",
    "    print('Each city has the same Country, Latitude and Longitude')"
   ]
  },
  {
   "cell_type": "markdown",
   "metadata": {},
   "source": [
    "Studying the uncertanty related to average temperature for each city"
   ]
  },
  {
   "cell_type": "code",
   "execution_count": null,
   "metadata": {},
   "outputs": [],
   "source": [
    "df_temperature.sort_values(by='AverageTemperatureUncertainty')"
   ]
  },
  {
   "cell_type": "code",
   "execution_count": null,
   "metadata": {},
   "outputs": [],
   "source": [
    "df_city = df_temperature.groupby('City').agg('mean')\n",
    "df_city = df_city.join(df_temperature.groupby('City').Country.first())\n",
    "df_city = df_city.join(df_temperature.groupby('City').Latitude.first())\n",
    "df_city = df_city.join(df_temperature.groupby('City').Longitude.first())\n",
    "\n",
    "px.scatter_3d(df_city, x = 'Longitude', y='Latitude', z='AverageTemperatureUncertainty', color='Country')"
   ]
  },
  {
   "cell_type": "markdown",
   "metadata": {},
   "source": [
    "## Data Transformation and Feature Engegneering"
   ]
  },
  {
   "cell_type": "markdown",
   "metadata": {},
   "source": [
    "Creating 12 new attributes related to the average temperature that occured in each month across all the years."
   ]
  },
  {
   "cell_type": "code",
   "execution_count": null,
   "metadata": {},
   "outputs": [],
   "source": [
    "df_temperature['year'] = pd.DatetimeIndex(df_temperature['time']).year\n",
    "df_temperature['month'] = pd.DatetimeIndex(df_temperature['time']).month\n",
    "\n",
    "df_moths_average_temp = df_temperature.set_index('City').pivot_table('AverageTemperature', 'City', 'month').rename_axis(None, axis=1)#.reset_index(drop=True)\n",
    "df_moths_average_temp\n",
    "\n",
    "df_city = df_city.join(df_moths_average_temp, on='City')\n",
    "df_city"
   ]
  },
  {
   "cell_type": "markdown",
   "metadata": {},
   "source": [
    "Transforming latitude and longitude from String to int"
   ]
  },
  {
   "cell_type": "code",
   "execution_count": null,
   "metadata": {},
   "outputs": [],
   "source": [
    "# conversion functions\n",
    "def latitude_to_float(latitude):\n",
    "\n",
    "    if(latitude[-1] == 'N'):\n",
    "        return float(latitude[0:-1])\n",
    "    elif(latitude[-1] == 'S'):\n",
    "        return - float(latitude[0:-1])\n",
    "    else:\n",
    "        print('Conversion error: ' + latitude)\n",
    "\n",
    "def longitude_to_float(longitude):\n",
    "\n",
    "    if(longitude[-1] == 'W'):\n",
    "        return - float(longitude[0:-1])\n",
    "    elif(longitude[-1] == 'E'):\n",
    "        return float(longitude[0:-1])\n",
    "    else:\n",
    "        print('Conversion error: ' + longitude)\n",
    "\n",
    "\n",
    "# applying conversions\n",
    "df_city.Latitude = df_city.Latitude.apply(lambda x: latitude_to_float(x))\n",
    "df_city.Longitude = df_city.Longitude.apply(lambda x: longitude_to_float(x))\n",
    "df_city"
   ]
  },
  {
   "cell_type": "code",
   "execution_count": null,
   "metadata": {},
   "outputs": [],
   "source": [
    "df_city.info()"
   ]
  },
  {
   "cell_type": "markdown",
   "metadata": {},
   "source": [
    "## Cluster"
   ]
  },
  {
   "cell_type": "code",
   "execution_count": null,
   "metadata": {},
   "outputs": [],
   "source": [
    "features = [1, 2, 3, 4, 5, 6, 7, 8, 9, 10, 11, 12]\n",
    "\n",
    "df_data = df_city[features].reset_index(drop=True)\n",
    "df_data"
   ]
  },
  {
   "cell_type": "code",
   "execution_count": null,
   "metadata": {},
   "outputs": [],
   "source": [
    "model = KMeans(n_init=10, max_iter=100, init=\"k-means++\")\n",
    "sse_visualizer = KElbowVisualizer(model, k=(2,30), timings=False)\n",
    "sse_visualizer.fit(df_data)\n",
    "sse_visualizer.show()\n",
    "\n",
    "sil_visualizer = KElbowVisualizer(model, k=(2,30), timings=False, metric=\"silhouette\")\n",
    "sil_visualizer.fit(df_data)\n",
    "sil_visualizer.show()"
   ]
  },
  {
   "cell_type": "code",
   "execution_count": null,
   "metadata": {},
   "outputs": [],
   "source": [
    "optimal_k = sse_visualizer.elbow_value_\n",
    "kmeans = KMeans(n_clusters=optimal_k, n_init=10, max_iter=100, init=\"k-means++\")\n",
    "kmeans.fit(df_data)\n",
    "\n",
    "df_city[\"cluster_kmeans\"] = kmeans.labels_.astype(str)\n",
    "\n",
    "x = silhouette_visualizer(KMeans(optimal_k, random_state=42), df_data)\n",
    "print(\"The silhoutte score is: \" + str(x.silhouette_score_))"
   ]
  },
  {
   "cell_type": "code",
   "execution_count": null,
   "metadata": {},
   "outputs": [],
   "source": [
    "plt.figure(figsize=(15, 4))\n",
    "for i in range(0, len(kmeans.cluster_centers_)):\n",
    "    plt.plot(kmeans.cluster_centers_[i], marker='o', label='Cluster %s' % i)\n",
    "plt.xticks(range(0, len(df_data.columns)), df_data.columns, fontsize=15)\n",
    "plt.legend(fontsize=10)\n",
    "plt.show()"
   ]
  },
  {
   "cell_type": "code",
   "execution_count": null,
   "metadata": {},
   "outputs": [],
   "source": [
    "df_city.groupby(\"cluster_kmeans\").agg({\"cluster_kmeans\":\"count\", \"AverageTemperature\": \"mean\", 1: \"mean\", 2: \"mean\", 3: \"mean\", 4: \"mean\", 5: \"mean\", 6: \"mean\", 7: \"mean\", 8: \"mean\", 9: \"mean\", 10: \"mean\", 11: \"mean\", 12: \"mean\"}).sort_values(by=\"AverageTemperature\", ascending=False).round(2).rename(columns={\"cluster_kmeans\": \"cluster size\"})"
   ]
  },
  {
   "cell_type": "code",
   "execution_count": null,
   "metadata": {},
   "outputs": [],
   "source": [
    "px.scatter_geo(df_city, lat=\"Latitude\", lon=\"Longitude\", color=\"cluster_kmeans\").show()"
   ]
  },
  {
   "cell_type": "code",
   "execution_count": null,
   "metadata": {},
   "outputs": [],
   "source": [
    "px.scatter_mapbox(df_city, lat=\"Latitude\", lon=\"Longitude\", color=\"cluster_kmeans\", zoom=1, mapbox_style=\"open-street-map\").show()"
   ]
  }
 ],
 "metadata": {
  "interpreter": {
   "hash": "7b36721443da4019c3aa4c050fbf86f78680ca0d16a7ae834f64d9ed2e29b204"
  },
  "kernelspec": {
   "display_name": "Python 3.9.7 64-bit ('dm': conda)",
   "language": "python",
   "name": "python3"
  },
  "language_info": {
   "codemirror_mode": {
    "name": "ipython",
    "version": 3
   },
   "file_extension": ".py",
   "mimetype": "text/x-python",
   "name": "python",
   "nbconvert_exporter": "python",
   "pygments_lexer": "ipython3",
   "version": "3.9.7"
  },
  "orig_nbformat": 4
 },
 "nbformat": 4,
 "nbformat_minor": 2
}
