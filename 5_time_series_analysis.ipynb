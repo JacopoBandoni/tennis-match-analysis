{
 "cells": [
  {
   "cell_type": "markdown",
   "metadata": {},
   "source": [
    "# Time series analysis"
   ]
  },
  {
   "cell_type": "code",
   "execution_count": 63,
   "metadata": {},
   "outputs": [],
   "source": [
    "import pandas as pd\n",
    "import numpy as np\n",
    "\n",
    "# KMEANS\n",
    "from sklearn.cluster import KMeans\n",
    "from yellowbrick.cluster.elbow import KElbowVisualizer \n",
    "from yellowbrick.cluster import silhouette_visualizer \n",
    "\n",
    "# Visualization\n",
    "import plotly.express as px\n",
    "import plotly.io as pio\n",
    "import plotly.figure_factory as ff\n",
    "import plotly.graph_objects as go\n",
    "pd.options.plotting.backend = \"plotly\"\n",
    "pio.templates.default = \"seaborn\"\n",
    "import matplotlib.pyplot as plt\n",
    "import seaborn as sns\n",
    "# geo (visualization)\n",
    "import fiona\n",
    "from shapely.geometry import Point\n",
    "import geopandas as gpd\n",
    "from geopandas import GeoDataFrame\n",
    "\n",
    "pd.set_option('display.max_columns', None)"
   ]
  },
  {
   "cell_type": "code",
   "execution_count": 81,
   "metadata": {},
   "outputs": [],
   "source": [
    "# Read datasets\n",
    "df_temperature = pd.read_csv(\"./datasets/CityGlobalTemperature2000-2009.csv\", index_col=0) # index_col takes the index from the csv rather than creating it automatically (i.e. unnamed col is removed)"
   ]
  },
  {
   "cell_type": "code",
   "execution_count": 82,
   "metadata": {},
   "outputs": [
    {
     "data": {
      "text/html": [
       "<div>\n",
       "<style scoped>\n",
       "    .dataframe tbody tr th:only-of-type {\n",
       "        vertical-align: middle;\n",
       "    }\n",
       "\n",
       "    .dataframe tbody tr th {\n",
       "        vertical-align: top;\n",
       "    }\n",
       "\n",
       "    .dataframe thead th {\n",
       "        text-align: right;\n",
       "    }\n",
       "</style>\n",
       "<table border=\"1\" class=\"dataframe\">\n",
       "  <thead>\n",
       "    <tr style=\"text-align: right;\">\n",
       "      <th></th>\n",
       "      <th>AverageTemperature</th>\n",
       "      <th>AverageTemperatureUncertainty</th>\n",
       "      <th>City</th>\n",
       "      <th>Country</th>\n",
       "      <th>Latitude</th>\n",
       "      <th>Longitude</th>\n",
       "      <th>time</th>\n",
       "    </tr>\n",
       "  </thead>\n",
       "  <tbody>\n",
       "    <tr>\n",
       "      <th>1813</th>\n",
       "      <td>27.685</td>\n",
       "      <td>0.267</td>\n",
       "      <td>Abidjan</td>\n",
       "      <td>Côte D'Ivoire</td>\n",
       "      <td>5.63N</td>\n",
       "      <td>3.23W</td>\n",
       "      <td>2000-02-01</td>\n",
       "    </tr>\n",
       "    <tr>\n",
       "      <th>1814</th>\n",
       "      <td>29.061</td>\n",
       "      <td>0.224</td>\n",
       "      <td>Abidjan</td>\n",
       "      <td>Côte D'Ivoire</td>\n",
       "      <td>5.63N</td>\n",
       "      <td>3.23W</td>\n",
       "      <td>2000-03-01</td>\n",
       "    </tr>\n",
       "    <tr>\n",
       "      <th>1815</th>\n",
       "      <td>28.162</td>\n",
       "      <td>0.478</td>\n",
       "      <td>Abidjan</td>\n",
       "      <td>Côte D'Ivoire</td>\n",
       "      <td>5.63N</td>\n",
       "      <td>3.23W</td>\n",
       "      <td>2000-04-01</td>\n",
       "    </tr>\n",
       "    <tr>\n",
       "      <th>1816</th>\n",
       "      <td>27.547</td>\n",
       "      <td>0.509</td>\n",
       "      <td>Abidjan</td>\n",
       "      <td>Côte D'Ivoire</td>\n",
       "      <td>5.63N</td>\n",
       "      <td>3.23W</td>\n",
       "      <td>2000-05-01</td>\n",
       "    </tr>\n",
       "    <tr>\n",
       "      <th>1817</th>\n",
       "      <td>25.812</td>\n",
       "      <td>0.231</td>\n",
       "      <td>Abidjan</td>\n",
       "      <td>Côte D'Ivoire</td>\n",
       "      <td>5.63N</td>\n",
       "      <td>3.23W</td>\n",
       "      <td>2000-06-01</td>\n",
       "    </tr>\n",
       "  </tbody>\n",
       "</table>\n",
       "</div>"
      ],
      "text/plain": [
       "      AverageTemperature  AverageTemperatureUncertainty     City  \\\n",
       "1813              27.685                          0.267  Abidjan   \n",
       "1814              29.061                          0.224  Abidjan   \n",
       "1815              28.162                          0.478  Abidjan   \n",
       "1816              27.547                          0.509  Abidjan   \n",
       "1817              25.812                          0.231  Abidjan   \n",
       "\n",
       "            Country Latitude Longitude        time  \n",
       "1813  Côte D'Ivoire    5.63N     3.23W  2000-02-01  \n",
       "1814  Côte D'Ivoire    5.63N     3.23W  2000-03-01  \n",
       "1815  Côte D'Ivoire    5.63N     3.23W  2000-04-01  \n",
       "1816  Côte D'Ivoire    5.63N     3.23W  2000-05-01  \n",
       "1817  Côte D'Ivoire    5.63N     3.23W  2000-06-01  "
      ]
     },
     "execution_count": 82,
     "metadata": {},
     "output_type": "execute_result"
    }
   ],
   "source": [
    "df_temperature.head()"
   ]
  },
  {
   "cell_type": "markdown",
   "metadata": {},
   "source": [
    "## Data Anlaysis"
   ]
  },
  {
   "cell_type": "markdown",
   "metadata": {},
   "source": [
    "Null values and Type analysis"
   ]
  },
  {
   "cell_type": "code",
   "execution_count": 65,
   "metadata": {},
   "outputs": [
    {
     "name": "stdout",
     "output_type": "stream",
     "text": [
      "<class 'pandas.core.frame.DataFrame'>\n",
      "Int64Index: 12000 entries, 1813 to 239132\n",
      "Data columns (total 7 columns):\n",
      " #   Column                         Non-Null Count  Dtype  \n",
      "---  ------                         --------------  -----  \n",
      " 0   AverageTemperature             12000 non-null  float64\n",
      " 1   AverageTemperatureUncertainty  12000 non-null  float64\n",
      " 2   City                           12000 non-null  object \n",
      " 3   Country                        12000 non-null  object \n",
      " 4   Latitude                       12000 non-null  object \n",
      " 5   Longitude                      12000 non-null  object \n",
      " 6   time                           12000 non-null  object \n",
      "dtypes: float64(2), object(5)\n",
      "memory usage: 750.0+ KB\n"
     ]
    }
   ],
   "source": [
    "df_temperature.info()"
   ]
  },
  {
   "cell_type": "markdown",
   "metadata": {},
   "source": [
    "I verify that each city has the same Country, Latitude and Longitude in all its records."
   ]
  },
  {
   "cell_type": "code",
   "execution_count": 66,
   "metadata": {},
   "outputs": [
    {
     "name": "stdout",
     "output_type": "stream",
     "text": [
      "Each city has the same Country, Latitude and Longitude\n"
     ]
    }
   ],
   "source": [
    "something_different = False\n",
    "\n",
    "for city in df_temperature.City.unique():\n",
    "    query = df_temperature['City'] == city\n",
    "\n",
    "    if not df_temperature[query].loc[:, 'Country'].eq(df_temperature[query].loc[:, 'Country'].iloc[0]).all():\n",
    "        something_different = True\n",
    "        print(city + ' has different Country')\n",
    "    if not df_temperature[query].loc[:, 'Latitude'].eq(df_temperature[query].loc[:, 'Latitude'].iloc[0]).all():\n",
    "        something_different = True\n",
    "        print(city + ' has different Latitude')\n",
    "    if not df_temperature[query].loc[:, 'Longitude'].eq(df_temperature[query].loc[:, 'Longitude'].iloc[0]).all():\n",
    "        something_different = True\n",
    "        print(city + ' has different Longitude')\n",
    "\n",
    "if not something_different:\n",
    "    print('Each city has the same Country, Latitude and Longitude')"
   ]
  },
  {
   "cell_type": "markdown",
   "metadata": {},
   "source": [
    "Studying the uncertanty related to average temperature for each city"
   ]
  },
  {
   "cell_type": "code",
   "execution_count": 67,
   "metadata": {},
   "outputs": [
    {
     "data": {
      "text/html": [
       "<div>\n",
       "<style scoped>\n",
       "    .dataframe tbody tr th:only-of-type {\n",
       "        vertical-align: middle;\n",
       "    }\n",
       "\n",
       "    .dataframe tbody tr th {\n",
       "        vertical-align: top;\n",
       "    }\n",
       "\n",
       "    .dataframe thead th {\n",
       "        text-align: right;\n",
       "    }\n",
       "</style>\n",
       "<table border=\"1\" class=\"dataframe\">\n",
       "  <thead>\n",
       "    <tr style=\"text-align: right;\">\n",
       "      <th></th>\n",
       "      <th>AverageTemperature</th>\n",
       "      <th>AverageTemperatureUncertainty</th>\n",
       "      <th>City</th>\n",
       "      <th>Country</th>\n",
       "      <th>Latitude</th>\n",
       "      <th>Longitude</th>\n",
       "      <th>time</th>\n",
       "    </tr>\n",
       "  </thead>\n",
       "  <tbody>\n",
       "    <tr>\n",
       "      <th>49249</th>\n",
       "      <td>-1.004</td>\n",
       "      <td>0.056</td>\n",
       "      <td>Changchun</td>\n",
       "      <td>China</td>\n",
       "      <td>44.20N</td>\n",
       "      <td>125.22E</td>\n",
       "      <td>2004-11-01</td>\n",
       "    </tr>\n",
       "    <tr>\n",
       "      <th>79052</th>\n",
       "      <td>26.198</td>\n",
       "      <td>0.068</td>\n",
       "      <td>Guangzhou</td>\n",
       "      <td>China</td>\n",
       "      <td>23.31N</td>\n",
       "      <td>112.72E</td>\n",
       "      <td>2001-05-01</td>\n",
       "    </tr>\n",
       "    <tr>\n",
       "      <th>143541</th>\n",
       "      <td>27.217</td>\n",
       "      <td>0.071</td>\n",
       "      <td>Manila</td>\n",
       "      <td>Philippines</td>\n",
       "      <td>15.27N</td>\n",
       "      <td>120.83E</td>\n",
       "      <td>2009-06-01</td>\n",
       "    </tr>\n",
       "    <tr>\n",
       "      <th>105472</th>\n",
       "      <td>9.733</td>\n",
       "      <td>0.075</td>\n",
       "      <td>Jinan</td>\n",
       "      <td>China</td>\n",
       "      <td>36.17N</td>\n",
       "      <td>117.35E</td>\n",
       "      <td>2000-03-01</td>\n",
       "    </tr>\n",
       "    <tr>\n",
       "      <th>160428</th>\n",
       "      <td>18.110</td>\n",
       "      <td>0.080</td>\n",
       "      <td>Nagoya</td>\n",
       "      <td>Japan</td>\n",
       "      <td>34.56N</td>\n",
       "      <td>136.22E</td>\n",
       "      <td>2007-05-01</td>\n",
       "    </tr>\n",
       "    <tr>\n",
       "      <th>...</th>\n",
       "      <td>...</td>\n",
       "      <td>...</td>\n",
       "      <td>...</td>\n",
       "      <td>...</td>\n",
       "      <td>...</td>\n",
       "      <td>...</td>\n",
       "      <td>...</td>\n",
       "    </tr>\n",
       "    <tr>\n",
       "      <th>124313</th>\n",
       "      <td>24.852</td>\n",
       "      <td>2.577</td>\n",
       "      <td>Lahore</td>\n",
       "      <td>Pakistan</td>\n",
       "      <td>31.35N</td>\n",
       "      <td>73.51E</td>\n",
       "      <td>2006-04-01</td>\n",
       "    </tr>\n",
       "    <tr>\n",
       "      <th>72541</th>\n",
       "      <td>24.852</td>\n",
       "      <td>2.577</td>\n",
       "      <td>Faisalabad</td>\n",
       "      <td>Pakistan</td>\n",
       "      <td>31.35N</td>\n",
       "      <td>73.51E</td>\n",
       "      <td>2006-04-01</td>\n",
       "    </tr>\n",
       "    <tr>\n",
       "      <th>135581</th>\n",
       "      <td>23.028</td>\n",
       "      <td>2.622</td>\n",
       "      <td>Luanda</td>\n",
       "      <td>Angola</td>\n",
       "      <td>8.84S</td>\n",
       "      <td>13.78E</td>\n",
       "      <td>2002-07-01</td>\n",
       "    </tr>\n",
       "    <tr>\n",
       "      <th>135616</th>\n",
       "      <td>23.396</td>\n",
       "      <td>2.673</td>\n",
       "      <td>Luanda</td>\n",
       "      <td>Angola</td>\n",
       "      <td>8.84S</td>\n",
       "      <td>13.78E</td>\n",
       "      <td>2005-06-01</td>\n",
       "    </tr>\n",
       "    <tr>\n",
       "      <th>109625</th>\n",
       "      <td>28.023</td>\n",
       "      <td>2.854</td>\n",
       "      <td>Kano</td>\n",
       "      <td>Nigeria</td>\n",
       "      <td>12.05N</td>\n",
       "      <td>8.22E</td>\n",
       "      <td>2007-10-01</td>\n",
       "    </tr>\n",
       "  </tbody>\n",
       "</table>\n",
       "<p>12000 rows × 7 columns</p>\n",
       "</div>"
      ],
      "text/plain": [
       "        AverageTemperature  AverageTemperatureUncertainty        City  \\\n",
       "49249               -1.004                          0.056   Changchun   \n",
       "79052               26.198                          0.068   Guangzhou   \n",
       "143541              27.217                          0.071      Manila   \n",
       "105472               9.733                          0.075       Jinan   \n",
       "160428              18.110                          0.080      Nagoya   \n",
       "...                    ...                            ...         ...   \n",
       "124313              24.852                          2.577      Lahore   \n",
       "72541               24.852                          2.577  Faisalabad   \n",
       "135581              23.028                          2.622      Luanda   \n",
       "135616              23.396                          2.673      Luanda   \n",
       "109625              28.023                          2.854        Kano   \n",
       "\n",
       "            Country Latitude Longitude        time  \n",
       "49249         China   44.20N   125.22E  2004-11-01  \n",
       "79052         China   23.31N   112.72E  2001-05-01  \n",
       "143541  Philippines   15.27N   120.83E  2009-06-01  \n",
       "105472        China   36.17N   117.35E  2000-03-01  \n",
       "160428        Japan   34.56N   136.22E  2007-05-01  \n",
       "...             ...      ...       ...         ...  \n",
       "124313     Pakistan   31.35N    73.51E  2006-04-01  \n",
       "72541      Pakistan   31.35N    73.51E  2006-04-01  \n",
       "135581       Angola    8.84S    13.78E  2002-07-01  \n",
       "135616       Angola    8.84S    13.78E  2005-06-01  \n",
       "109625      Nigeria   12.05N     8.22E  2007-10-01  \n",
       "\n",
       "[12000 rows x 7 columns]"
      ]
     },
     "execution_count": 67,
     "metadata": {},
     "output_type": "execute_result"
    }
   ],
   "source": [
    "df_temperature.sort_values(by='AverageTemperatureUncertainty')"
   ]
  },
  {
   "cell_type": "code",
   "execution_count": 68,
   "metadata": {},
   "outputs": [
    {
     "data": {
      "application/vnd.plotly.v1+json": {
       "config": {
        "plotlyServerURL": "https://plot.ly"
       },
       "data": [
        {
         "hovertemplate": "Country=Côte D'Ivoire<br>Longitude=%{x}<br>Latitude=%{y}<br>AverageTemperatureUncertainty=%{z}<extra></extra>",
         "legendgroup": "Côte D'Ivoire",
         "marker": {
          "color": "rgb(76,114,176)",
          "symbol": "circle"
         },
         "mode": "markers",
         "name": "Côte D'Ivoire",
         "scene": "scene",
         "showlegend": true,
         "type": "scatter3d",
         "x": [
          "3.23W"
         ],
         "y": [
          "5.63N"
         ],
         "z": [
          0.38654999999999995
         ]
        },
        {
         "hovertemplate": "Country=Ethiopia<br>Longitude=%{x}<br>Latitude=%{y}<br>AverageTemperatureUncertainty=%{z}<extra></extra>",
         "legendgroup": "Ethiopia",
         "marker": {
          "color": "rgb(221,132,82)",
          "symbol": "circle"
         },
         "mode": "markers",
         "name": "Ethiopia",
         "scene": "scene",
         "showlegend": true,
         "type": "scatter3d",
         "x": [
          "38.11E"
         ],
         "y": [
          "8.84N"
         ],
         "z": [
          0.5661916666666666
         ]
        },
        {
         "hovertemplate": "Country=India<br>Longitude=%{x}<br>Latitude=%{y}<br>AverageTemperatureUncertainty=%{z}<extra></extra>",
         "legendgroup": "India",
         "marker": {
          "color": "rgb(85,168,104)",
          "symbol": "circle"
         },
         "mode": "markers",
         "name": "India",
         "scene": "scene",
         "showlegend": true,
         "type": "scatter3d",
         "x": [
          "72.52E",
          "77.26E",
          "72.68E",
          "88.25E",
          "77.27E",
          "78.70E",
          "75.22E",
          "80.60E",
          "80.60E",
          "80.09E",
          "78.75E",
          "77.27E",
          "74.37E",
          "73.56E"
         ],
         "y": [
          "23.31N",
          "12.05N",
          "18.48N",
          "23.31N",
          "28.13N",
          "16.87N",
          "26.52N",
          "26.52N",
          "26.52N",
          "13.66N",
          "21.70N",
          "28.13N",
          "18.48N",
          "21.70N"
         ],
         "z": [
          0.44910833333333333,
          0.302275,
          0.38689999999999997,
          0.323275,
          0.4328916666666667,
          0.36160833333333336,
          0.4025916666666667,
          0.42867500000000003,
          0.42867500000000003,
          0.32903333333333334,
          0.37154166666666666,
          0.4328916666666667,
          0.34481666666666666,
          0.39164166666666667
         ]
        },
        {
         "hovertemplate": "Country=Syria<br>Longitude=%{x}<br>Latitude=%{y}<br>AverageTemperatureUncertainty=%{z}<extra></extra>",
         "legendgroup": "Syria",
         "marker": {
          "color": "rgb(196,78,82)",
          "symbol": "circle"
         },
         "mode": "markers",
         "name": "Syria",
         "scene": "scene",
         "showlegend": true,
         "type": "scatter3d",
         "x": [
          "37.79E"
         ],
         "y": [
          "36.17N"
         ],
         "z": [
          0.3444083333333333
         ]
        },
        {
         "hovertemplate": "Country=Egypt<br>Longitude=%{x}<br>Latitude=%{y}<br>AverageTemperatureUncertainty=%{z}<extra></extra>",
         "legendgroup": "Egypt",
         "marker": {
          "color": "rgb(129,114,179)",
          "symbol": "circle"
         },
         "mode": "markers",
         "name": "Egypt",
         "scene": "scene",
         "showlegend": true,
         "type": "scatter3d",
         "x": [
          "30.16E",
          "31.38E",
          "31.38E"
         ],
         "y": [
          "31.35N",
          "29.74N",
          "29.74N"
         ],
         "z": [
          0.29255000000000003,
          0.2750916666666667,
          0.2750916666666667
         ]
        },
        {
         "hovertemplate": "Country=Turkey<br>Longitude=%{x}<br>Latitude=%{y}<br>AverageTemperatureUncertainty=%{z}<extra></extra>",
         "legendgroup": "Turkey",
         "marker": {
          "color": "rgb(147,120,96)",
          "symbol": "circle"
         },
         "mode": "markers",
         "name": "Turkey",
         "scene": "scene",
         "showlegend": true,
         "type": "scatter3d",
         "x": [
          "33.29E",
          "29.82E",
          "26.44E"
         ],
         "y": [
          "39.38N",
          "40.99N",
          "37.78N"
         ],
         "z": [
          0.3192333333333333,
          0.31935,
          0.28042500000000004
         ]
        },
        {
         "hovertemplate": "Country=Iraq<br>Longitude=%{x}<br>Latitude=%{y}<br>AverageTemperatureUncertainty=%{z}<extra></extra>",
         "legendgroup": "Iraq",
         "marker": {
          "color": "rgb(218,139,195)",
          "symbol": "circle"
         },
         "mode": "markers",
         "name": "Iraq",
         "scene": "scene",
         "showlegend": true,
         "type": "scatter3d",
         "x": [
          "45.00E"
         ],
         "y": [
          "32.95N"
         ],
         "z": [
          0.396075
         ]
        },
        {
         "hovertemplate": "Country=Thailand<br>Longitude=%{x}<br>Latitude=%{y}<br>AverageTemperatureUncertainty=%{z}<extra></extra>",
         "legendgroup": "Thailand",
         "marker": {
          "color": "rgb(140,140,140)",
          "symbol": "circle"
         },
         "mode": "markers",
         "name": "Thailand",
         "scene": "scene",
         "showlegend": true,
         "type": "scatter3d",
         "x": [
          "99.91E"
         ],
         "y": [
          "13.66N"
         ],
         "z": [
          0.2598166666666667
         ]
        },
        {
         "hovertemplate": "Country=Brazil<br>Longitude=%{x}<br>Latitude=%{y}<br>AverageTemperatureUncertainty=%{z}<extra></extra>",
         "legendgroup": "Brazil",
         "marker": {
          "color": "rgb(204,185,116)",
          "symbol": "circle"
         },
         "mode": "markers",
         "name": "Brazil",
         "scene": "scene",
         "showlegend": true,
         "type": "scatter3d",
         "x": [
          "44.36W",
          "47.50W",
          "40.98W",
          "42.82W",
          "38.81W",
          "46.31W"
         ],
         "y": [
          "20.09S",
          "15.27S",
          "4.02S",
          "23.31S",
          "13.66S",
          "23.31S"
         ],
         "z": [
          0.3268583333333333,
          0.38966666666666666,
          0.39719166666666667,
          0.4347916666666667,
          0.35814166666666664,
          0.32808333333333334
         ]
        },
        {
         "hovertemplate": "Country=Germany<br>Longitude=%{x}<br>Latitude=%{y}<br>AverageTemperatureUncertainty=%{z}<extra></extra>",
         "legendgroup": "Germany",
         "marker": {
          "color": "rgb(100,181,205)",
          "symbol": "circle"
         },
         "mode": "markers",
         "name": "Germany",
         "scene": "scene",
         "showlegend": true,
         "type": "scatter3d",
         "x": [
          "13.14E"
         ],
         "y": [
          "52.24N"
         ],
         "z": [
          0.22260833333333335
         ]
        },
        {
         "hovertemplate": "Country=Colombia<br>Longitude=%{x}<br>Latitude=%{y}<br>AverageTemperatureUncertainty=%{z}<extra></extra>",
         "legendgroup": "Colombia",
         "marker": {
          "color": "rgb(76,114,176)",
          "symbol": "circle"
         },
         "mode": "markers",
         "name": "Colombia",
         "scene": "scene",
         "showlegend": true,
         "type": "scatter3d",
         "x": [
          "74.73W",
          "76.34W"
         ],
         "y": [
          "4.02N",
          "4.02N"
         ],
         "z": [
          0.35841666666666666,
          0.30451666666666666
         ]
        },
        {
         "hovertemplate": "Country=South Africa<br>Longitude=%{x}<br>Latitude=%{y}<br>AverageTemperatureUncertainty=%{z}<extra></extra>",
         "legendgroup": "South Africa",
         "marker": {
          "color": "rgb(221,132,82)",
          "symbol": "circle"
         },
         "mode": "markers",
         "name": "South Africa",
         "scene": "scene",
         "showlegend": true,
         "type": "scatter3d",
         "x": [
          "18.19E",
          "31.38E"
         ],
         "y": [
          "32.95S",
          "29.74S"
         ],
         "z": [
          0.5072416666666667,
          0.4090416666666667
         ]
        },
        {
         "hovertemplate": "Country=Morocco<br>Longitude=%{x}<br>Latitude=%{y}<br>AverageTemperatureUncertainty=%{z}<extra></extra>",
         "legendgroup": "Morocco",
         "marker": {
          "color": "rgb(85,168,104)",
          "symbol": "circle"
         },
         "mode": "markers",
         "name": "Morocco",
         "scene": "scene",
         "showlegend": true,
         "type": "scatter3d",
         "x": [
          "6.70W"
         ],
         "y": [
          "32.95N"
         ],
         "z": [
          0.42715833333333336
         ]
        },
        {
         "hovertemplate": "Country=China<br>Longitude=%{x}<br>Latitude=%{y}<br>AverageTemperatureUncertainty=%{z}<extra></extra>",
         "legendgroup": "China",
         "marker": {
          "color": "rgb(196,78,82)",
          "symbol": "circle"
         },
         "mode": "markers",
         "name": "China",
         "scene": "scene",
         "showlegend": true,
         "type": "scatter3d",
         "x": [
          "125.22E",
          "103.66E",
          "107.08E",
          "120.69E",
          "112.72E",
          "125.77E",
          "117.35E",
          "118.74E",
          "116.53E",
          "120.63E",
          "123.55E",
          "111.86E",
          "113.90E",
          "116.53E",
          "114.46E",
          "108.97E"
         ],
         "y": [
          "44.20N",
          "31.35N",
          "29.74N",
          "39.38N",
          "23.31N",
          "45.81N",
          "36.17N",
          "31.35N",
          "39.38N",
          "31.35N",
          "40.99N",
          "37.78N",
          "37.78N",
          "39.38N",
          "29.74N",
          "34.56N"
         ],
         "z": [
          0.3335916666666667,
          0.39152499999999996,
          0.2785916666666666,
          0.283925,
          0.209175,
          0.3040583333333334,
          0.25335,
          0.23943333333333333,
          0.27555,
          0.233975,
          0.2836666666666667,
          0.34959999999999997,
          0.30406666666666665,
          0.27555,
          0.263975,
          0.3636416666666667
         ]
        },
        {
         "hovertemplate": "Country=United States<br>Longitude=%{x}<br>Latitude=%{y}<br>AverageTemperatureUncertainty=%{z}<extra></extra>",
         "legendgroup": "United States",
         "marker": {
          "color": "rgb(129,114,179)",
          "symbol": "circle"
         },
         "mode": "markers",
         "name": "United States",
         "scene": "scene",
         "showlegend": true,
         "type": "scatter3d",
         "x": [
          "87.27W",
          "118.70W",
          "74.56W"
         ],
         "y": [
          "42.59N",
          "34.56N",
          "40.99N"
         ],
         "z": [
          0.33015833333333333,
          0.4096,
          0.2464
         ]
        },
        {
         "hovertemplate": "Country=Senegal<br>Longitude=%{x}<br>Latitude=%{y}<br>AverageTemperatureUncertainty=%{z}<extra></extra>",
         "legendgroup": "Senegal",
         "marker": {
          "color": "rgb(147,120,96)",
          "symbol": "circle"
         },
         "mode": "markers",
         "name": "Senegal",
         "scene": "scene",
         "showlegend": true,
         "type": "scatter3d",
         "x": [
          "17.50W"
         ],
         "y": [
          "15.27N"
         ],
         "z": [
          0.6102416666666667
         ]
        },
        {
         "hovertemplate": "Country=Tanzania<br>Longitude=%{x}<br>Latitude=%{y}<br>AverageTemperatureUncertainty=%{z}<extra></extra>",
         "legendgroup": "Tanzania",
         "marker": {
          "color": "rgb(218,139,195)",
          "symbol": "circle"
         },
         "mode": "markers",
         "name": "Tanzania",
         "scene": "scene",
         "showlegend": true,
         "type": "scatter3d",
         "x": [
          "39.73E"
         ],
         "y": [
          "7.23S"
         ],
         "z": [
          0.371825
         ]
        },
        {
         "hovertemplate": "Country=Bangladesh<br>Longitude=%{x}<br>Latitude=%{y}<br>AverageTemperatureUncertainty=%{z}<extra></extra>",
         "legendgroup": "Bangladesh",
         "marker": {
          "color": "rgb(140,140,140)",
          "symbol": "circle"
         },
         "mode": "markers",
         "name": "Bangladesh",
         "scene": "scene",
         "showlegend": true,
         "type": "scatter3d",
         "x": [
          "90.00E"
         ],
         "y": [
          "23.31N"
         ],
         "z": [
          0.35068333333333335
         ]
        },
        {
         "hovertemplate": "Country=Pakistan<br>Longitude=%{x}<br>Latitude=%{y}<br>AverageTemperatureUncertainty=%{z}<extra></extra>",
         "legendgroup": "Pakistan",
         "marker": {
          "color": "rgb(204,185,116)",
          "symbol": "circle"
         },
         "mode": "markers",
         "name": "Pakistan",
         "scene": "scene",
         "showlegend": true,
         "type": "scatter3d",
         "x": [
          "73.51E",
          "67.39E",
          "73.51E"
         ],
         "y": [
          "31.35N",
          "24.92N",
          "31.35N"
         ],
         "z": [
          0.38534999999999997,
          0.4423916666666667,
          0.38534999999999997
         ]
        },
        {
         "hovertemplate": "Country=Zimbabwe<br>Longitude=%{x}<br>Latitude=%{y}<br>AverageTemperatureUncertainty=%{z}<extra></extra>",
         "legendgroup": "Zimbabwe",
         "marker": {
          "color": "rgb(100,181,205)",
          "symbol": "circle"
         },
         "mode": "markers",
         "name": "Zimbabwe",
         "scene": "scene",
         "showlegend": true,
         "type": "scatter3d",
         "x": [
          "30.42E"
         ],
         "y": [
          "18.48S"
         ],
         "z": [
          0.4377833333333333
         ]
        },
        {
         "hovertemplate": "Country=Vietnam<br>Longitude=%{x}<br>Latitude=%{y}<br>AverageTemperatureUncertainty=%{z}<extra></extra>",
         "legendgroup": "Vietnam",
         "marker": {
          "color": "rgb(76,114,176)",
          "symbol": "circle"
         },
         "mode": "markers",
         "name": "Vietnam",
         "scene": "scene",
         "showlegend": true,
         "type": "scatter3d",
         "x": [
          "107.18E"
         ],
         "y": [
          "10.45N"
         ],
         "z": [
          0.3534833333333333
         ]
        },
        {
         "hovertemplate": "Country=Nigeria<br>Longitude=%{x}<br>Latitude=%{y}<br>AverageTemperatureUncertainty=%{z}<extra></extra>",
         "legendgroup": "Nigeria",
         "marker": {
          "color": "rgb(221,132,82)",
          "symbol": "circle"
         },
         "mode": "markers",
         "name": "Nigeria",
         "scene": "scene",
         "showlegend": true,
         "type": "scatter3d",
         "x": [
          "4.05E",
          "8.22E",
          "3.23E"
         ],
         "y": [
          "7.23N",
          "12.05N",
          "5.63N"
         ],
         "z": [
          0.4287916666666666,
          0.546175,
          0.43050000000000005
         ]
        },
        {
         "hovertemplate": "Country=Indonesia<br>Longitude=%{x}<br>Latitude=%{y}<br>AverageTemperatureUncertainty=%{z}<extra></extra>",
         "legendgroup": "Indonesia",
         "marker": {
          "color": "rgb(85,168,104)",
          "symbol": "circle"
         },
         "mode": "markers",
         "name": "Indonesia",
         "scene": "scene",
         "showlegend": true,
         "type": "scatter3d",
         "x": [
          "106.55E",
          "112.70E"
         ],
         "y": [
          "5.63S",
          "7.23S"
         ],
         "z": [
          0.29736666666666667,
          0.3158916666666667
         ]
        },
        {
         "hovertemplate": "Country=Saudi Arabia<br>Longitude=%{x}<br>Latitude=%{y}<br>AverageTemperatureUncertainty=%{z}<extra></extra>",
         "legendgroup": "Saudi Arabia",
         "marker": {
          "color": "rgb(196,78,82)",
          "symbol": "circle"
         },
         "mode": "markers",
         "name": "Saudi Arabia",
         "scene": "scene",
         "showlegend": true,
         "type": "scatter3d",
         "x": [
          "38.94E",
          "46.11E"
         ],
         "y": [
          "21.70N",
          "24.92N"
         ],
         "z": [
          0.443825,
          0.38406666666666667
         ]
        },
        {
         "hovertemplate": "Country=Afghanistan<br>Longitude=%{x}<br>Latitude=%{y}<br>AverageTemperatureUncertainty=%{z}<extra></extra>",
         "legendgroup": "Afghanistan",
         "marker": {
          "color": "rgb(129,114,179)",
          "symbol": "circle"
         },
         "mode": "markers",
         "name": "Afghanistan",
         "scene": "scene",
         "showlegend": true,
         "type": "scatter3d",
         "x": [
          "70.05E"
         ],
         "y": [
          "34.56N"
         ],
         "z": [
          0.68455
         ]
        },
        {
         "hovertemplate": "Country=Ukraine<br>Longitude=%{x}<br>Latitude=%{y}<br>AverageTemperatureUncertainty=%{z}<extra></extra>",
         "legendgroup": "Ukraine",
         "marker": {
          "color": "rgb(147,120,96)",
          "symbol": "circle"
         },
         "mode": "markers",
         "name": "Ukraine",
         "scene": "scene",
         "showlegend": true,
         "type": "scatter3d",
         "x": [
          "31.69E"
         ],
         "y": [
          "50.63N"
         ],
         "z": [
          0.25959166666666667
         ]
        },
        {
         "hovertemplate": "Country=Congo (Democratic Republic Of The)<br>Longitude=%{x}<br>Latitude=%{y}<br>AverageTemperatureUncertainty=%{z}<extra></extra>",
         "legendgroup": "Congo (Democratic Republic Of The)",
         "marker": {
          "color": "rgb(218,139,195)",
          "symbol": "circle"
         },
         "mode": "markers",
         "name": "Congo (Democratic Republic Of The)",
         "scene": "scene",
         "showlegend": true,
         "type": "scatter3d",
         "x": [
          "15.27E"
         ],
         "y": [
          "4.02S"
         ],
         "z": [
          0.5302166666666667
         ]
        },
        {
         "hovertemplate": "Country=Peru<br>Longitude=%{x}<br>Latitude=%{y}<br>AverageTemperatureUncertainty=%{z}<extra></extra>",
         "legendgroup": "Peru",
         "marker": {
          "color": "rgb(140,140,140)",
          "symbol": "circle"
         },
         "mode": "markers",
         "name": "Peru",
         "scene": "scene",
         "showlegend": true,
         "type": "scatter3d",
         "x": [
          "77.26W"
         ],
         "y": [
          "12.05S"
         ],
         "z": [
          0.650225
         ]
        },
        {
         "hovertemplate": "Country=United Kingdom<br>Longitude=%{x}<br>Latitude=%{y}<br>AverageTemperatureUncertainty=%{z}<extra></extra>",
         "legendgroup": "United Kingdom",
         "marker": {
          "color": "rgb(204,185,116)",
          "symbol": "circle"
         },
         "mode": "markers",
         "name": "United Kingdom",
         "scene": "scene",
         "showlegend": true,
         "type": "scatter3d",
         "x": [
          "0.00W"
         ],
         "y": [
          "52.24N"
         ],
         "z": [
          0.23981666666666665
         ]
        },
        {
         "hovertemplate": "Country=Angola<br>Longitude=%{x}<br>Latitude=%{y}<br>AverageTemperatureUncertainty=%{z}<extra></extra>",
         "legendgroup": "Angola",
         "marker": {
          "color": "rgb(100,181,205)",
          "symbol": "circle"
         },
         "mode": "markers",
         "name": "Angola",
         "scene": "scene",
         "showlegend": true,
         "type": "scatter3d",
         "x": [
          "13.78E"
         ],
         "y": [
          "8.84S"
         ],
         "z": [
          0.962625
         ]
        },
        {
         "hovertemplate": "Country=Spain<br>Longitude=%{x}<br>Latitude=%{y}<br>AverageTemperatureUncertainty=%{z}<extra></extra>",
         "legendgroup": "Spain",
         "marker": {
          "color": "rgb(76,114,176)",
          "symbol": "circle"
         },
         "mode": "markers",
         "name": "Spain",
         "scene": "scene",
         "showlegend": true,
         "type": "scatter3d",
         "x": [
          "4.26W"
         ],
         "y": [
          "40.99N"
         ],
         "z": [
          0.271375
         ]
        },
        {
         "hovertemplate": "Country=Philippines<br>Longitude=%{x}<br>Latitude=%{y}<br>AverageTemperatureUncertainty=%{z}<extra></extra>",
         "legendgroup": "Philippines",
         "marker": {
          "color": "rgb(221,132,82)",
          "symbol": "circle"
         },
         "mode": "markers",
         "name": "Philippines",
         "scene": "scene",
         "showlegend": true,
         "type": "scatter3d",
         "x": [
          "120.83E"
         ],
         "y": [
          "15.27N"
         ],
         "z": [
          0.27241666666666664
         ]
        },
        {
         "hovertemplate": "Country=Iran<br>Longitude=%{x}<br>Latitude=%{y}<br>AverageTemperatureUncertainty=%{z}<extra></extra>",
         "legendgroup": "Iran",
         "marker": {
          "color": "rgb(85,168,104)",
          "symbol": "circle"
         },
         "mode": "markers",
         "name": "Iran",
         "scene": "scene",
         "showlegend": true,
         "type": "scatter3d",
         "x": [
          "59.67E"
         ],
         "y": [
          "36.17N"
         ],
         "z": [
          0.4643083333333333
         ]
        },
        {
         "hovertemplate": "Country=Australia<br>Longitude=%{x}<br>Latitude=%{y}<br>AverageTemperatureUncertainty=%{z}<extra></extra>",
         "legendgroup": "Australia",
         "marker": {
          "color": "rgb(196,78,82)",
          "symbol": "circle"
         },
         "mode": "markers",
         "name": "Australia",
         "scene": "scene",
         "showlegend": true,
         "type": "scatter3d",
         "x": [
          "144.41E",
          "151.78E"
         ],
         "y": [
          "37.78S",
          "34.56S"
         ],
         "z": [
          0.24248333333333333,
          0.22471666666666668
         ]
        },
        {
         "hovertemplate": "Country=Mexico<br>Longitude=%{x}<br>Latitude=%{y}<br>AverageTemperatureUncertainty=%{z}<extra></extra>",
         "legendgroup": "Mexico",
         "marker": {
          "color": "rgb(129,114,179)",
          "symbol": "circle"
         },
         "mode": "markers",
         "name": "Mexico",
         "scene": "scene",
         "showlegend": true,
         "type": "scatter3d",
         "x": [
          "98.96W"
         ],
         "y": [
          "20.09N"
         ],
         "z": [
          0.3622916666666667
         ]
        },
        {
         "hovertemplate": "Country=Somalia<br>Longitude=%{x}<br>Latitude=%{y}<br>AverageTemperatureUncertainty=%{z}<extra></extra>",
         "legendgroup": "Somalia",
         "marker": {
          "color": "rgb(147,120,96)",
          "symbol": "circle"
         },
         "mode": "markers",
         "name": "Somalia",
         "scene": "scene",
         "showlegend": true,
         "type": "scatter3d",
         "x": [
          "45.80E"
         ],
         "y": [
          "2.41N"
         ],
         "z": [
          0.7626000000000001
         ]
        },
        {
         "hovertemplate": "Country=Canada<br>Longitude=%{x}<br>Latitude=%{y}<br>AverageTemperatureUncertainty=%{z}<extra></extra>",
         "legendgroup": "Canada",
         "marker": {
          "color": "rgb(218,139,195)",
          "symbol": "circle"
         },
         "mode": "markers",
         "name": "Canada",
         "scene": "scene",
         "showlegend": true,
         "type": "scatter3d",
         "x": [
          "72.69W",
          "80.50W"
         ],
         "y": [
          "45.81N",
          "44.20N"
         ],
         "z": [
          0.26214166666666666,
          0.22322499999999998
         ]
        },
        {
         "hovertemplate": "Country=Russia<br>Longitude=%{x}<br>Latitude=%{y}<br>AverageTemperatureUncertainty=%{z}<extra></extra>",
         "legendgroup": "Russia",
         "marker": {
          "color": "rgb(140,140,140)",
          "symbol": "circle"
         },
         "mode": "markers",
         "name": "Russia",
         "scene": "scene",
         "showlegend": true,
         "type": "scatter3d",
         "x": [
          "36.85E",
          "29.19E"
         ],
         "y": [
          "55.45N",
          "60.27N"
         ],
         "z": [
          0.23316666666666666,
          0.275325
         ]
        },
        {
         "hovertemplate": "Country=Japan<br>Longitude=%{x}<br>Latitude=%{y}<br>AverageTemperatureUncertainty=%{z}<extra></extra>",
         "legendgroup": "Japan",
         "marker": {
          "color": "rgb(204,185,116)",
          "symbol": "circle"
         },
         "mode": "markers",
         "name": "Japan",
         "scene": "scene",
         "showlegend": true,
         "type": "scatter3d",
         "x": [
          "136.22E",
          "139.23E"
         ],
         "y": [
          "34.56N",
          "36.17N"
         ],
         "z": [
          0.19693333333333332,
          0.22626666666666667
         ]
        },
        {
         "hovertemplate": "Country=Kenya<br>Longitude=%{x}<br>Latitude=%{y}<br>AverageTemperatureUncertainty=%{z}<extra></extra>",
         "legendgroup": "Kenya",
         "marker": {
          "color": "rgb(100,181,205)",
          "symbol": "circle"
         },
         "mode": "markers",
         "name": "Kenya",
         "scene": "scene",
         "showlegend": true,
         "type": "scatter3d",
         "x": [
          "36.16E"
         ],
         "y": [
          "0.80S"
         ],
         "z": [
          0.34945
         ]
        },
        {
         "hovertemplate": "Country=France<br>Longitude=%{x}<br>Latitude=%{y}<br>AverageTemperatureUncertainty=%{z}<extra></extra>",
         "legendgroup": "France",
         "marker": {
          "color": "rgb(76,114,176)",
          "symbol": "circle"
         },
         "mode": "markers",
         "name": "France",
         "scene": "scene",
         "showlegend": true,
         "type": "scatter3d",
         "x": [
          "2.45E"
         ],
         "y": [
          "49.03N"
         ],
         "z": [
          0.23055833333333334
         ]
        },
        {
         "hovertemplate": "Country=Burma<br>Longitude=%{x}<br>Latitude=%{y}<br>AverageTemperatureUncertainty=%{z}<extra></extra>",
         "legendgroup": "Burma",
         "marker": {
          "color": "rgb(221,132,82)",
          "symbol": "circle"
         },
         "mode": "markers",
         "name": "Burma",
         "scene": "scene",
         "showlegend": true,
         "type": "scatter3d",
         "x": [
          "95.44E"
         ],
         "y": [
          "16.87N"
         ],
         "z": [
          0.47550000000000003
         ]
        },
        {
         "hovertemplate": "Country=Italy<br>Longitude=%{x}<br>Latitude=%{y}<br>AverageTemperatureUncertainty=%{z}<extra></extra>",
         "legendgroup": "Italy",
         "marker": {
          "color": "rgb(85,168,104)",
          "symbol": "circle"
         },
         "mode": "markers",
         "name": "Italy",
         "scene": "scene",
         "showlegend": true,
         "type": "scatter3d",
         "x": [
          "13.09E"
         ],
         "y": [
          "42.59N"
         ],
         "z": [
          0.41525
         ]
        },
        {
         "hovertemplate": "Country=Chile<br>Longitude=%{x}<br>Latitude=%{y}<br>AverageTemperatureUncertainty=%{z}<extra></extra>",
         "legendgroup": "Chile",
         "marker": {
          "color": "rgb(196,78,82)",
          "symbol": "circle"
         },
         "mode": "markers",
         "name": "Chile",
         "scene": "scene",
         "showlegend": true,
         "type": "scatter3d",
         "x": [
          "69.89W"
         ],
         "y": [
          "32.95S"
         ],
         "z": [
          0.37500833333333333
         ]
        },
        {
         "hovertemplate": "Country=Dominican Republic<br>Longitude=%{x}<br>Latitude=%{y}<br>AverageTemperatureUncertainty=%{z}<extra></extra>",
         "legendgroup": "Dominican Republic",
         "marker": {
          "color": "rgb(129,114,179)",
          "symbol": "circle"
         },
         "mode": "markers",
         "name": "Dominican Republic",
         "scene": "scene",
         "showlegend": true,
         "type": "scatter3d",
         "x": [
          "69.30W"
         ],
         "y": [
          "18.48N"
         ],
         "z": [
          0.3612083333333333
         ]
        },
        {
         "hovertemplate": "Country=South Korea<br>Longitude=%{x}<br>Latitude=%{y}<br>AverageTemperatureUncertainty=%{z}<extra></extra>",
         "legendgroup": "South Korea",
         "marker": {
          "color": "rgb(147,120,96)",
          "symbol": "circle"
         },
         "mode": "markers",
         "name": "South Korea",
         "scene": "scene",
         "showlegend": true,
         "type": "scatter3d",
         "x": [
          "126.10E"
         ],
         "y": [
          "37.78N"
         ],
         "z": [
          0.2765333333333333
         ]
        },
        {
         "hovertemplate": "Country=Singapore<br>Longitude=%{x}<br>Latitude=%{y}<br>AverageTemperatureUncertainty=%{z}<extra></extra>",
         "legendgroup": "Singapore",
         "marker": {
          "color": "rgb(218,139,195)",
          "symbol": "circle"
         },
         "mode": "markers",
         "name": "Singapore",
         "scene": "scene",
         "showlegend": true,
         "type": "scatter3d",
         "x": [
          "103.66E"
         ],
         "y": [
          "0.80N"
         ],
         "z": [
          0.26555833333333334
         ]
        },
        {
         "hovertemplate": "Country=Taiwan<br>Longitude=%{x}<br>Latitude=%{y}<br>AverageTemperatureUncertainty=%{z}<extra></extra>",
         "legendgroup": "Taiwan",
         "marker": {
          "color": "rgb(140,140,140)",
          "symbol": "circle"
         },
         "mode": "markers",
         "name": "Taiwan",
         "scene": "scene",
         "showlegend": true,
         "type": "scatter3d",
         "x": [
          "122.36E"
         ],
         "y": [
          "24.92N"
         ],
         "z": [
          0.24721666666666667
         ]
        },
        {
         "hovertemplate": "Country=Sudan<br>Longitude=%{x}<br>Latitude=%{y}<br>AverageTemperatureUncertainty=%{z}<extra></extra>",
         "legendgroup": "Sudan",
         "marker": {
          "color": "rgb(204,185,116)",
          "symbol": "circle"
         },
         "mode": "markers",
         "name": "Sudan",
         "scene": "scene",
         "showlegend": true,
         "type": "scatter3d",
         "x": [
          "32.50E"
         ],
         "y": [
          "15.27N"
         ],
         "z": [
          0.528875
         ]
        }
       ],
       "layout": {
        "legend": {
         "title": {
          "text": "Country"
         },
         "tracegroupgap": 0
        },
        "margin": {
         "t": 60
        },
        "scene": {
         "domain": {
          "x": [
           0,
           1
          ],
          "y": [
           0,
           1
          ]
         },
         "xaxis": {
          "title": {
           "text": "Longitude"
          }
         },
         "yaxis": {
          "title": {
           "text": "Latitude"
          }
         },
         "zaxis": {
          "title": {
           "text": "AverageTemperatureUncertainty"
          }
         }
        },
        "template": {
         "data": {
          "bar": [
           {
            "error_x": {
             "color": "rgb(36,36,36)"
            },
            "error_y": {
             "color": "rgb(36,36,36)"
            },
            "marker": {
             "line": {
              "color": "rgb(234,234,242)",
              "width": 0.5
             },
             "pattern": {
              "fillmode": "overlay",
              "size": 10,
              "solidity": 0.2
             }
            },
            "type": "bar"
           }
          ],
          "barpolar": [
           {
            "marker": {
             "line": {
              "color": "rgb(234,234,242)",
              "width": 0.5
             },
             "pattern": {
              "fillmode": "overlay",
              "size": 10,
              "solidity": 0.2
             }
            },
            "type": "barpolar"
           }
          ],
          "carpet": [
           {
            "aaxis": {
             "endlinecolor": "rgb(36,36,36)",
             "gridcolor": "white",
             "linecolor": "white",
             "minorgridcolor": "white",
             "startlinecolor": "rgb(36,36,36)"
            },
            "baxis": {
             "endlinecolor": "rgb(36,36,36)",
             "gridcolor": "white",
             "linecolor": "white",
             "minorgridcolor": "white",
             "startlinecolor": "rgb(36,36,36)"
            },
            "type": "carpet"
           }
          ],
          "choropleth": [
           {
            "colorbar": {
             "outlinewidth": 0,
             "tickcolor": "rgb(36,36,36)",
             "ticklen": 8,
             "ticks": "outside",
             "tickwidth": 2
            },
            "type": "choropleth"
           }
          ],
          "contour": [
           {
            "colorbar": {
             "outlinewidth": 0,
             "tickcolor": "rgb(36,36,36)",
             "ticklen": 8,
             "ticks": "outside",
             "tickwidth": 2
            },
            "colorscale": [
             [
              0,
              "rgb(2,4,25)"
             ],
             [
              0.06274509803921569,
              "rgb(24,15,41)"
             ],
             [
              0.12549019607843137,
              "rgb(47,23,57)"
             ],
             [
              0.18823529411764706,
              "rgb(71,28,72)"
             ],
             [
              0.25098039215686274,
              "rgb(97,30,82)"
             ],
             [
              0.3137254901960784,
              "rgb(123,30,89)"
             ],
             [
              0.3764705882352941,
              "rgb(150,27,91)"
             ],
             [
              0.4392156862745098,
              "rgb(177,22,88)"
             ],
             [
              0.5019607843137255,
              "rgb(203,26,79)"
             ],
             [
              0.5647058823529412,
              "rgb(223,47,67)"
             ],
             [
              0.6274509803921569,
              "rgb(236,76,61)"
             ],
             [
              0.6901960784313725,
              "rgb(242,107,73)"
             ],
             [
              0.7529411764705882,
              "rgb(244,135,95)"
             ],
             [
              0.8156862745098039,
              "rgb(245,162,122)"
             ],
             [
              0.8784313725490196,
              "rgb(246,188,153)"
             ],
             [
              0.9411764705882353,
              "rgb(247,212,187)"
             ],
             [
              1,
              "rgb(250,234,220)"
             ]
            ],
            "type": "contour"
           }
          ],
          "contourcarpet": [
           {
            "colorbar": {
             "outlinewidth": 0,
             "tickcolor": "rgb(36,36,36)",
             "ticklen": 8,
             "ticks": "outside",
             "tickwidth": 2
            },
            "type": "contourcarpet"
           }
          ],
          "heatmap": [
           {
            "colorbar": {
             "outlinewidth": 0,
             "tickcolor": "rgb(36,36,36)",
             "ticklen": 8,
             "ticks": "outside",
             "tickwidth": 2
            },
            "colorscale": [
             [
              0,
              "rgb(2,4,25)"
             ],
             [
              0.06274509803921569,
              "rgb(24,15,41)"
             ],
             [
              0.12549019607843137,
              "rgb(47,23,57)"
             ],
             [
              0.18823529411764706,
              "rgb(71,28,72)"
             ],
             [
              0.25098039215686274,
              "rgb(97,30,82)"
             ],
             [
              0.3137254901960784,
              "rgb(123,30,89)"
             ],
             [
              0.3764705882352941,
              "rgb(150,27,91)"
             ],
             [
              0.4392156862745098,
              "rgb(177,22,88)"
             ],
             [
              0.5019607843137255,
              "rgb(203,26,79)"
             ],
             [
              0.5647058823529412,
              "rgb(223,47,67)"
             ],
             [
              0.6274509803921569,
              "rgb(236,76,61)"
             ],
             [
              0.6901960784313725,
              "rgb(242,107,73)"
             ],
             [
              0.7529411764705882,
              "rgb(244,135,95)"
             ],
             [
              0.8156862745098039,
              "rgb(245,162,122)"
             ],
             [
              0.8784313725490196,
              "rgb(246,188,153)"
             ],
             [
              0.9411764705882353,
              "rgb(247,212,187)"
             ],
             [
              1,
              "rgb(250,234,220)"
             ]
            ],
            "type": "heatmap"
           }
          ],
          "heatmapgl": [
           {
            "colorbar": {
             "outlinewidth": 0,
             "tickcolor": "rgb(36,36,36)",
             "ticklen": 8,
             "ticks": "outside",
             "tickwidth": 2
            },
            "colorscale": [
             [
              0,
              "rgb(2,4,25)"
             ],
             [
              0.06274509803921569,
              "rgb(24,15,41)"
             ],
             [
              0.12549019607843137,
              "rgb(47,23,57)"
             ],
             [
              0.18823529411764706,
              "rgb(71,28,72)"
             ],
             [
              0.25098039215686274,
              "rgb(97,30,82)"
             ],
             [
              0.3137254901960784,
              "rgb(123,30,89)"
             ],
             [
              0.3764705882352941,
              "rgb(150,27,91)"
             ],
             [
              0.4392156862745098,
              "rgb(177,22,88)"
             ],
             [
              0.5019607843137255,
              "rgb(203,26,79)"
             ],
             [
              0.5647058823529412,
              "rgb(223,47,67)"
             ],
             [
              0.6274509803921569,
              "rgb(236,76,61)"
             ],
             [
              0.6901960784313725,
              "rgb(242,107,73)"
             ],
             [
              0.7529411764705882,
              "rgb(244,135,95)"
             ],
             [
              0.8156862745098039,
              "rgb(245,162,122)"
             ],
             [
              0.8784313725490196,
              "rgb(246,188,153)"
             ],
             [
              0.9411764705882353,
              "rgb(247,212,187)"
             ],
             [
              1,
              "rgb(250,234,220)"
             ]
            ],
            "type": "heatmapgl"
           }
          ],
          "histogram": [
           {
            "marker": {
             "pattern": {
              "fillmode": "overlay",
              "size": 10,
              "solidity": 0.2
             }
            },
            "type": "histogram"
           }
          ],
          "histogram2d": [
           {
            "colorbar": {
             "outlinewidth": 0,
             "tickcolor": "rgb(36,36,36)",
             "ticklen": 8,
             "ticks": "outside",
             "tickwidth": 2
            },
            "colorscale": [
             [
              0,
              "rgb(2,4,25)"
             ],
             [
              0.06274509803921569,
              "rgb(24,15,41)"
             ],
             [
              0.12549019607843137,
              "rgb(47,23,57)"
             ],
             [
              0.18823529411764706,
              "rgb(71,28,72)"
             ],
             [
              0.25098039215686274,
              "rgb(97,30,82)"
             ],
             [
              0.3137254901960784,
              "rgb(123,30,89)"
             ],
             [
              0.3764705882352941,
              "rgb(150,27,91)"
             ],
             [
              0.4392156862745098,
              "rgb(177,22,88)"
             ],
             [
              0.5019607843137255,
              "rgb(203,26,79)"
             ],
             [
              0.5647058823529412,
              "rgb(223,47,67)"
             ],
             [
              0.6274509803921569,
              "rgb(236,76,61)"
             ],
             [
              0.6901960784313725,
              "rgb(242,107,73)"
             ],
             [
              0.7529411764705882,
              "rgb(244,135,95)"
             ],
             [
              0.8156862745098039,
              "rgb(245,162,122)"
             ],
             [
              0.8784313725490196,
              "rgb(246,188,153)"
             ],
             [
              0.9411764705882353,
              "rgb(247,212,187)"
             ],
             [
              1,
              "rgb(250,234,220)"
             ]
            ],
            "type": "histogram2d"
           }
          ],
          "histogram2dcontour": [
           {
            "colorbar": {
             "outlinewidth": 0,
             "tickcolor": "rgb(36,36,36)",
             "ticklen": 8,
             "ticks": "outside",
             "tickwidth": 2
            },
            "colorscale": [
             [
              0,
              "rgb(2,4,25)"
             ],
             [
              0.06274509803921569,
              "rgb(24,15,41)"
             ],
             [
              0.12549019607843137,
              "rgb(47,23,57)"
             ],
             [
              0.18823529411764706,
              "rgb(71,28,72)"
             ],
             [
              0.25098039215686274,
              "rgb(97,30,82)"
             ],
             [
              0.3137254901960784,
              "rgb(123,30,89)"
             ],
             [
              0.3764705882352941,
              "rgb(150,27,91)"
             ],
             [
              0.4392156862745098,
              "rgb(177,22,88)"
             ],
             [
              0.5019607843137255,
              "rgb(203,26,79)"
             ],
             [
              0.5647058823529412,
              "rgb(223,47,67)"
             ],
             [
              0.6274509803921569,
              "rgb(236,76,61)"
             ],
             [
              0.6901960784313725,
              "rgb(242,107,73)"
             ],
             [
              0.7529411764705882,
              "rgb(244,135,95)"
             ],
             [
              0.8156862745098039,
              "rgb(245,162,122)"
             ],
             [
              0.8784313725490196,
              "rgb(246,188,153)"
             ],
             [
              0.9411764705882353,
              "rgb(247,212,187)"
             ],
             [
              1,
              "rgb(250,234,220)"
             ]
            ],
            "type": "histogram2dcontour"
           }
          ],
          "mesh3d": [
           {
            "colorbar": {
             "outlinewidth": 0,
             "tickcolor": "rgb(36,36,36)",
             "ticklen": 8,
             "ticks": "outside",
             "tickwidth": 2
            },
            "type": "mesh3d"
           }
          ],
          "parcoords": [
           {
            "line": {
             "colorbar": {
              "outlinewidth": 0,
              "tickcolor": "rgb(36,36,36)",
              "ticklen": 8,
              "ticks": "outside",
              "tickwidth": 2
             }
            },
            "type": "parcoords"
           }
          ],
          "pie": [
           {
            "automargin": true,
            "type": "pie"
           }
          ],
          "scatter": [
           {
            "marker": {
             "colorbar": {
              "outlinewidth": 0,
              "tickcolor": "rgb(36,36,36)",
              "ticklen": 8,
              "ticks": "outside",
              "tickwidth": 2
             }
            },
            "type": "scatter"
           }
          ],
          "scatter3d": [
           {
            "line": {
             "colorbar": {
              "outlinewidth": 0,
              "tickcolor": "rgb(36,36,36)",
              "ticklen": 8,
              "ticks": "outside",
              "tickwidth": 2
             }
            },
            "marker": {
             "colorbar": {
              "outlinewidth": 0,
              "tickcolor": "rgb(36,36,36)",
              "ticklen": 8,
              "ticks": "outside",
              "tickwidth": 2
             }
            },
            "type": "scatter3d"
           }
          ],
          "scattercarpet": [
           {
            "marker": {
             "colorbar": {
              "outlinewidth": 0,
              "tickcolor": "rgb(36,36,36)",
              "ticklen": 8,
              "ticks": "outside",
              "tickwidth": 2
             }
            },
            "type": "scattercarpet"
           }
          ],
          "scattergeo": [
           {
            "marker": {
             "colorbar": {
              "outlinewidth": 0,
              "tickcolor": "rgb(36,36,36)",
              "ticklen": 8,
              "ticks": "outside",
              "tickwidth": 2
             }
            },
            "type": "scattergeo"
           }
          ],
          "scattergl": [
           {
            "marker": {
             "colorbar": {
              "outlinewidth": 0,
              "tickcolor": "rgb(36,36,36)",
              "ticklen": 8,
              "ticks": "outside",
              "tickwidth": 2
             }
            },
            "type": "scattergl"
           }
          ],
          "scattermapbox": [
           {
            "marker": {
             "colorbar": {
              "outlinewidth": 0,
              "tickcolor": "rgb(36,36,36)",
              "ticklen": 8,
              "ticks": "outside",
              "tickwidth": 2
             }
            },
            "type": "scattermapbox"
           }
          ],
          "scatterpolar": [
           {
            "marker": {
             "colorbar": {
              "outlinewidth": 0,
              "tickcolor": "rgb(36,36,36)",
              "ticklen": 8,
              "ticks": "outside",
              "tickwidth": 2
             }
            },
            "type": "scatterpolar"
           }
          ],
          "scatterpolargl": [
           {
            "marker": {
             "colorbar": {
              "outlinewidth": 0,
              "tickcolor": "rgb(36,36,36)",
              "ticklen": 8,
              "ticks": "outside",
              "tickwidth": 2
             }
            },
            "type": "scatterpolargl"
           }
          ],
          "scatterternary": [
           {
            "marker": {
             "colorbar": {
              "outlinewidth": 0,
              "tickcolor": "rgb(36,36,36)",
              "ticklen": 8,
              "ticks": "outside",
              "tickwidth": 2
             }
            },
            "type": "scatterternary"
           }
          ],
          "surface": [
           {
            "colorbar": {
             "outlinewidth": 0,
             "tickcolor": "rgb(36,36,36)",
             "ticklen": 8,
             "ticks": "outside",
             "tickwidth": 2
            },
            "colorscale": [
             [
              0,
              "rgb(2,4,25)"
             ],
             [
              0.06274509803921569,
              "rgb(24,15,41)"
             ],
             [
              0.12549019607843137,
              "rgb(47,23,57)"
             ],
             [
              0.18823529411764706,
              "rgb(71,28,72)"
             ],
             [
              0.25098039215686274,
              "rgb(97,30,82)"
             ],
             [
              0.3137254901960784,
              "rgb(123,30,89)"
             ],
             [
              0.3764705882352941,
              "rgb(150,27,91)"
             ],
             [
              0.4392156862745098,
              "rgb(177,22,88)"
             ],
             [
              0.5019607843137255,
              "rgb(203,26,79)"
             ],
             [
              0.5647058823529412,
              "rgb(223,47,67)"
             ],
             [
              0.6274509803921569,
              "rgb(236,76,61)"
             ],
             [
              0.6901960784313725,
              "rgb(242,107,73)"
             ],
             [
              0.7529411764705882,
              "rgb(244,135,95)"
             ],
             [
              0.8156862745098039,
              "rgb(245,162,122)"
             ],
             [
              0.8784313725490196,
              "rgb(246,188,153)"
             ],
             [
              0.9411764705882353,
              "rgb(247,212,187)"
             ],
             [
              1,
              "rgb(250,234,220)"
             ]
            ],
            "type": "surface"
           }
          ],
          "table": [
           {
            "cells": {
             "fill": {
              "color": "rgb(231,231,240)"
             },
             "line": {
              "color": "white"
             }
            },
            "header": {
             "fill": {
              "color": "rgb(183,183,191)"
             },
             "line": {
              "color": "white"
             }
            },
            "type": "table"
           }
          ]
         },
         "layout": {
          "annotationdefaults": {
           "arrowcolor": "rgb(67,103,167)"
          },
          "autotypenumbers": "strict",
          "coloraxis": {
           "colorbar": {
            "outlinewidth": 0,
            "tickcolor": "rgb(36,36,36)",
            "ticklen": 8,
            "ticks": "outside",
            "tickwidth": 2
           }
          },
          "colorscale": {
           "sequential": [
            [
             0,
             "rgb(2,4,25)"
            ],
            [
             0.06274509803921569,
             "rgb(24,15,41)"
            ],
            [
             0.12549019607843137,
             "rgb(47,23,57)"
            ],
            [
             0.18823529411764706,
             "rgb(71,28,72)"
            ],
            [
             0.25098039215686274,
             "rgb(97,30,82)"
            ],
            [
             0.3137254901960784,
             "rgb(123,30,89)"
            ],
            [
             0.3764705882352941,
             "rgb(150,27,91)"
            ],
            [
             0.4392156862745098,
             "rgb(177,22,88)"
            ],
            [
             0.5019607843137255,
             "rgb(203,26,79)"
            ],
            [
             0.5647058823529412,
             "rgb(223,47,67)"
            ],
            [
             0.6274509803921569,
             "rgb(236,76,61)"
            ],
            [
             0.6901960784313725,
             "rgb(242,107,73)"
            ],
            [
             0.7529411764705882,
             "rgb(244,135,95)"
            ],
            [
             0.8156862745098039,
             "rgb(245,162,122)"
            ],
            [
             0.8784313725490196,
             "rgb(246,188,153)"
            ],
            [
             0.9411764705882353,
             "rgb(247,212,187)"
            ],
            [
             1,
             "rgb(250,234,220)"
            ]
           ],
           "sequentialminus": [
            [
             0,
             "rgb(2,4,25)"
            ],
            [
             0.06274509803921569,
             "rgb(24,15,41)"
            ],
            [
             0.12549019607843137,
             "rgb(47,23,57)"
            ],
            [
             0.18823529411764706,
             "rgb(71,28,72)"
            ],
            [
             0.25098039215686274,
             "rgb(97,30,82)"
            ],
            [
             0.3137254901960784,
             "rgb(123,30,89)"
            ],
            [
             0.3764705882352941,
             "rgb(150,27,91)"
            ],
            [
             0.4392156862745098,
             "rgb(177,22,88)"
            ],
            [
             0.5019607843137255,
             "rgb(203,26,79)"
            ],
            [
             0.5647058823529412,
             "rgb(223,47,67)"
            ],
            [
             0.6274509803921569,
             "rgb(236,76,61)"
            ],
            [
             0.6901960784313725,
             "rgb(242,107,73)"
            ],
            [
             0.7529411764705882,
             "rgb(244,135,95)"
            ],
            [
             0.8156862745098039,
             "rgb(245,162,122)"
            ],
            [
             0.8784313725490196,
             "rgb(246,188,153)"
            ],
            [
             0.9411764705882353,
             "rgb(247,212,187)"
            ],
            [
             1,
             "rgb(250,234,220)"
            ]
           ]
          },
          "colorway": [
           "rgb(76,114,176)",
           "rgb(221,132,82)",
           "rgb(85,168,104)",
           "rgb(196,78,82)",
           "rgb(129,114,179)",
           "rgb(147,120,96)",
           "rgb(218,139,195)",
           "rgb(140,140,140)",
           "rgb(204,185,116)",
           "rgb(100,181,205)"
          ],
          "font": {
           "color": "rgb(36,36,36)"
          },
          "geo": {
           "bgcolor": "white",
           "lakecolor": "white",
           "landcolor": "rgb(234,234,242)",
           "showlakes": true,
           "showland": true,
           "subunitcolor": "white"
          },
          "hoverlabel": {
           "align": "left"
          },
          "hovermode": "closest",
          "paper_bgcolor": "white",
          "plot_bgcolor": "rgb(234,234,242)",
          "polar": {
           "angularaxis": {
            "gridcolor": "white",
            "linecolor": "white",
            "showgrid": true,
            "ticks": ""
           },
           "bgcolor": "rgb(234,234,242)",
           "radialaxis": {
            "gridcolor": "white",
            "linecolor": "white",
            "showgrid": true,
            "ticks": ""
           }
          },
          "scene": {
           "xaxis": {
            "backgroundcolor": "rgb(234,234,242)",
            "gridcolor": "white",
            "gridwidth": 2,
            "linecolor": "white",
            "showbackground": true,
            "showgrid": true,
            "ticks": "",
            "zerolinecolor": "white"
           },
           "yaxis": {
            "backgroundcolor": "rgb(234,234,242)",
            "gridcolor": "white",
            "gridwidth": 2,
            "linecolor": "white",
            "showbackground": true,
            "showgrid": true,
            "ticks": "",
            "zerolinecolor": "white"
           },
           "zaxis": {
            "backgroundcolor": "rgb(234,234,242)",
            "gridcolor": "white",
            "gridwidth": 2,
            "linecolor": "white",
            "showbackground": true,
            "showgrid": true,
            "ticks": "",
            "zerolinecolor": "white"
           }
          },
          "shapedefaults": {
           "fillcolor": "rgb(67,103,167)",
           "line": {
            "width": 0
           },
           "opacity": 0.5
          },
          "ternary": {
           "aaxis": {
            "gridcolor": "white",
            "linecolor": "white",
            "showgrid": true,
            "ticks": ""
           },
           "baxis": {
            "gridcolor": "white",
            "linecolor": "white",
            "showgrid": true,
            "ticks": ""
           },
           "bgcolor": "rgb(234,234,242)",
           "caxis": {
            "gridcolor": "white",
            "linecolor": "white",
            "showgrid": true,
            "ticks": ""
           }
          },
          "xaxis": {
           "automargin": true,
           "gridcolor": "white",
           "linecolor": "white",
           "showgrid": true,
           "ticks": "",
           "title": {
            "standoff": 15
           },
           "zerolinecolor": "white"
          },
          "yaxis": {
           "automargin": true,
           "gridcolor": "white",
           "linecolor": "white",
           "showgrid": true,
           "ticks": "",
           "title": {
            "standoff": 15
           },
           "zerolinecolor": "white"
          }
         }
        }
       }
      }
     },
     "metadata": {},
     "output_type": "display_data"
    }
   ],
   "source": [
    "df_city = df_temperature.groupby('City').agg('mean')\n",
    "df_city = df_city.join(df_temperature.groupby('City').Country.first())\n",
    "df_city = df_city.join(df_temperature.groupby('City').Latitude.first())\n",
    "df_city = df_city.join(df_temperature.groupby('City').Longitude.first())\n",
    "\n",
    "px.scatter_3d(df_city, x = 'Longitude', y='Latitude', z='AverageTemperatureUncertainty', color='Country')"
   ]
  },
  {
   "cell_type": "markdown",
   "metadata": {},
   "source": [
    "## Data Transformation and Feature Engegneering"
   ]
  },
  {
   "cell_type": "markdown",
   "metadata": {},
   "source": [
    "Creating 12 new attributes related to the average temperature that occured in each month across all the years."
   ]
  },
  {
   "cell_type": "code",
   "execution_count": 69,
   "metadata": {},
   "outputs": [
    {
     "data": {
      "text/html": [
       "<div>\n",
       "<style scoped>\n",
       "    .dataframe tbody tr th:only-of-type {\n",
       "        vertical-align: middle;\n",
       "    }\n",
       "\n",
       "    .dataframe tbody tr th {\n",
       "        vertical-align: top;\n",
       "    }\n",
       "\n",
       "    .dataframe thead th {\n",
       "        text-align: right;\n",
       "    }\n",
       "</style>\n",
       "<table border=\"1\" class=\"dataframe\">\n",
       "  <thead>\n",
       "    <tr style=\"text-align: right;\">\n",
       "      <th></th>\n",
       "      <th>AverageTemperature</th>\n",
       "      <th>AverageTemperatureUncertainty</th>\n",
       "      <th>Country</th>\n",
       "      <th>Latitude</th>\n",
       "      <th>Longitude</th>\n",
       "      <th>1</th>\n",
       "      <th>2</th>\n",
       "      <th>3</th>\n",
       "      <th>4</th>\n",
       "      <th>5</th>\n",
       "      <th>6</th>\n",
       "      <th>7</th>\n",
       "      <th>8</th>\n",
       "      <th>9</th>\n",
       "      <th>10</th>\n",
       "      <th>11</th>\n",
       "      <th>12</th>\n",
       "    </tr>\n",
       "    <tr>\n",
       "      <th>City</th>\n",
       "      <th></th>\n",
       "      <th></th>\n",
       "      <th></th>\n",
       "      <th></th>\n",
       "      <th></th>\n",
       "      <th></th>\n",
       "      <th></th>\n",
       "      <th></th>\n",
       "      <th></th>\n",
       "      <th></th>\n",
       "      <th></th>\n",
       "      <th></th>\n",
       "      <th></th>\n",
       "      <th></th>\n",
       "      <th></th>\n",
       "      <th></th>\n",
       "      <th></th>\n",
       "    </tr>\n",
       "  </thead>\n",
       "  <tbody>\n",
       "    <tr>\n",
       "      <th>Abidjan</th>\n",
       "      <td>26.930375</td>\n",
       "      <td>0.386550</td>\n",
       "      <td>Côte D'Ivoire</td>\n",
       "      <td>5.63N</td>\n",
       "      <td>3.23W</td>\n",
       "      <td>27.2104</td>\n",
       "      <td>28.6023</td>\n",
       "      <td>28.9006</td>\n",
       "      <td>28.2400</td>\n",
       "      <td>27.5392</td>\n",
       "      <td>26.0854</td>\n",
       "      <td>25.1940</td>\n",
       "      <td>24.8005</td>\n",
       "      <td>25.4952</td>\n",
       "      <td>26.3535</td>\n",
       "      <td>27.3589</td>\n",
       "      <td>27.3845</td>\n",
       "    </tr>\n",
       "    <tr>\n",
       "      <th>Addis Abeba</th>\n",
       "      <td>18.351717</td>\n",
       "      <td>0.566192</td>\n",
       "      <td>Ethiopia</td>\n",
       "      <td>8.84N</td>\n",
       "      <td>38.11E</td>\n",
       "      <td>18.2615</td>\n",
       "      <td>19.4287</td>\n",
       "      <td>20.1868</td>\n",
       "      <td>20.0349</td>\n",
       "      <td>19.9104</td>\n",
       "      <td>18.2156</td>\n",
       "      <td>17.0864</td>\n",
       "      <td>17.1638</td>\n",
       "      <td>17.5866</td>\n",
       "      <td>17.4151</td>\n",
       "      <td>17.4975</td>\n",
       "      <td>17.4333</td>\n",
       "    </tr>\n",
       "    <tr>\n",
       "      <th>Ahmadabad</th>\n",
       "      <td>27.416742</td>\n",
       "      <td>0.449108</td>\n",
       "      <td>India</td>\n",
       "      <td>23.31N</td>\n",
       "      <td>72.52E</td>\n",
       "      <td>20.2431</td>\n",
       "      <td>22.7144</td>\n",
       "      <td>27.5728</td>\n",
       "      <td>31.5733</td>\n",
       "      <td>33.5029</td>\n",
       "      <td>32.0304</td>\n",
       "      <td>29.0154</td>\n",
       "      <td>27.8735</td>\n",
       "      <td>28.7618</td>\n",
       "      <td>28.3600</td>\n",
       "      <td>25.4374</td>\n",
       "      <td>21.9159</td>\n",
       "    </tr>\n",
       "    <tr>\n",
       "      <th>Aleppo</th>\n",
       "      <td>18.345783</td>\n",
       "      <td>0.344408</td>\n",
       "      <td>Syria</td>\n",
       "      <td>36.17N</td>\n",
       "      <td>37.79E</td>\n",
       "      <td>6.0204</td>\n",
       "      <td>7.8457</td>\n",
       "      <td>12.4506</td>\n",
       "      <td>16.8803</td>\n",
       "      <td>22.3965</td>\n",
       "      <td>27.7393</td>\n",
       "      <td>30.6218</td>\n",
       "      <td>30.1781</td>\n",
       "      <td>26.0022</td>\n",
       "      <td>20.3516</td>\n",
       "      <td>12.4561</td>\n",
       "      <td>7.2068</td>\n",
       "    </tr>\n",
       "    <tr>\n",
       "      <th>Alexandria</th>\n",
       "      <td>21.331192</td>\n",
       "      <td>0.292550</td>\n",
       "      <td>Egypt</td>\n",
       "      <td>31.35N</td>\n",
       "      <td>30.16E</td>\n",
       "      <td>14.8878</td>\n",
       "      <td>14.9763</td>\n",
       "      <td>17.1055</td>\n",
       "      <td>19.2533</td>\n",
       "      <td>22.1642</td>\n",
       "      <td>25.2457</td>\n",
       "      <td>27.3494</td>\n",
       "      <td>27.8062</td>\n",
       "      <td>26.5975</td>\n",
       "      <td>23.7940</td>\n",
       "      <td>20.3589</td>\n",
       "      <td>16.4355</td>\n",
       "    </tr>\n",
       "    <tr>\n",
       "      <th>...</th>\n",
       "      <td>...</td>\n",
       "      <td>...</td>\n",
       "      <td>...</td>\n",
       "      <td>...</td>\n",
       "      <td>...</td>\n",
       "      <td>...</td>\n",
       "      <td>...</td>\n",
       "      <td>...</td>\n",
       "      <td>...</td>\n",
       "      <td>...</td>\n",
       "      <td>...</td>\n",
       "      <td>...</td>\n",
       "      <td>...</td>\n",
       "      <td>...</td>\n",
       "      <td>...</td>\n",
       "      <td>...</td>\n",
       "      <td>...</td>\n",
       "    </tr>\n",
       "    <tr>\n",
       "      <th>Tokyo</th>\n",
       "      <td>13.370042</td>\n",
       "      <td>0.226267</td>\n",
       "      <td>Japan</td>\n",
       "      <td>36.17N</td>\n",
       "      <td>139.23E</td>\n",
       "      <td>2.0084</td>\n",
       "      <td>3.1993</td>\n",
       "      <td>6.5052</td>\n",
       "      <td>11.9995</td>\n",
       "      <td>16.6967</td>\n",
       "      <td>20.5148</td>\n",
       "      <td>24.1534</td>\n",
       "      <td>24.9984</td>\n",
       "      <td>21.3098</td>\n",
       "      <td>15.1640</td>\n",
       "      <td>9.5840</td>\n",
       "      <td>4.3070</td>\n",
       "    </tr>\n",
       "    <tr>\n",
       "      <th>Toronto</th>\n",
       "      <td>6.934975</td>\n",
       "      <td>0.223225</td>\n",
       "      <td>Canada</td>\n",
       "      <td>44.20N</td>\n",
       "      <td>80.50W</td>\n",
       "      <td>-6.8175</td>\n",
       "      <td>-6.5381</td>\n",
       "      <td>-1.5354</td>\n",
       "      <td>5.8324</td>\n",
       "      <td>11.9252</td>\n",
       "      <td>17.7160</td>\n",
       "      <td>19.6951</td>\n",
       "      <td>19.3907</td>\n",
       "      <td>15.8131</td>\n",
       "      <td>8.6788</td>\n",
       "      <td>3.0395</td>\n",
       "      <td>-3.9801</td>\n",
       "    </tr>\n",
       "    <tr>\n",
       "      <th>Umm Durman</th>\n",
       "      <td>29.882492</td>\n",
       "      <td>0.528875</td>\n",
       "      <td>Sudan</td>\n",
       "      <td>15.27N</td>\n",
       "      <td>32.50E</td>\n",
       "      <td>23.1234</td>\n",
       "      <td>25.6489</td>\n",
       "      <td>28.8060</td>\n",
       "      <td>32.7768</td>\n",
       "      <td>34.5343</td>\n",
       "      <td>34.3116</td>\n",
       "      <td>31.9165</td>\n",
       "      <td>30.7415</td>\n",
       "      <td>31.7856</td>\n",
       "      <td>32.0204</td>\n",
       "      <td>28.5019</td>\n",
       "      <td>24.4230</td>\n",
       "    </tr>\n",
       "    <tr>\n",
       "      <th>Wuhan</th>\n",
       "      <td>17.779067</td>\n",
       "      <td>0.263975</td>\n",
       "      <td>China</td>\n",
       "      <td>29.74N</td>\n",
       "      <td>114.46E</td>\n",
       "      <td>4.5549</td>\n",
       "      <td>7.5392</td>\n",
       "      <td>12.4869</td>\n",
       "      <td>18.1027</td>\n",
       "      <td>23.0371</td>\n",
       "      <td>26.7031</td>\n",
       "      <td>29.7552</td>\n",
       "      <td>28.3623</td>\n",
       "      <td>24.7555</td>\n",
       "      <td>19.0946</td>\n",
       "      <td>12.5024</td>\n",
       "      <td>6.4549</td>\n",
       "    </tr>\n",
       "    <tr>\n",
       "      <th>Xian</th>\n",
       "      <td>12.469417</td>\n",
       "      <td>0.363642</td>\n",
       "      <td>China</td>\n",
       "      <td>34.56N</td>\n",
       "      <td>108.97E</td>\n",
       "      <td>-1.3598</td>\n",
       "      <td>2.4856</td>\n",
       "      <td>8.3118</td>\n",
       "      <td>13.8142</td>\n",
       "      <td>19.1416</td>\n",
       "      <td>23.5835</td>\n",
       "      <td>25.0434</td>\n",
       "      <td>22.8801</td>\n",
       "      <td>18.1008</td>\n",
       "      <td>12.3465</td>\n",
       "      <td>5.6288</td>\n",
       "      <td>-0.3435</td>\n",
       "    </tr>\n",
       "  </tbody>\n",
       "</table>\n",
       "<p>100 rows × 17 columns</p>\n",
       "</div>"
      ],
      "text/plain": [
       "             AverageTemperature  AverageTemperatureUncertainty        Country  \\\n",
       "City                                                                            \n",
       "Abidjan               26.930375                       0.386550  Côte D'Ivoire   \n",
       "Addis Abeba           18.351717                       0.566192       Ethiopia   \n",
       "Ahmadabad             27.416742                       0.449108          India   \n",
       "Aleppo                18.345783                       0.344408          Syria   \n",
       "Alexandria            21.331192                       0.292550          Egypt   \n",
       "...                         ...                            ...            ...   \n",
       "Tokyo                 13.370042                       0.226267          Japan   \n",
       "Toronto                6.934975                       0.223225         Canada   \n",
       "Umm Durman            29.882492                       0.528875          Sudan   \n",
       "Wuhan                 17.779067                       0.263975          China   \n",
       "Xian                  12.469417                       0.363642          China   \n",
       "\n",
       "            Latitude Longitude        1        2        3        4        5  \\\n",
       "City                                                                          \n",
       "Abidjan        5.63N     3.23W  27.2104  28.6023  28.9006  28.2400  27.5392   \n",
       "Addis Abeba    8.84N    38.11E  18.2615  19.4287  20.1868  20.0349  19.9104   \n",
       "Ahmadabad     23.31N    72.52E  20.2431  22.7144  27.5728  31.5733  33.5029   \n",
       "Aleppo        36.17N    37.79E   6.0204   7.8457  12.4506  16.8803  22.3965   \n",
       "Alexandria    31.35N    30.16E  14.8878  14.9763  17.1055  19.2533  22.1642   \n",
       "...              ...       ...      ...      ...      ...      ...      ...   \n",
       "Tokyo         36.17N   139.23E   2.0084   3.1993   6.5052  11.9995  16.6967   \n",
       "Toronto       44.20N    80.50W  -6.8175  -6.5381  -1.5354   5.8324  11.9252   \n",
       "Umm Durman    15.27N    32.50E  23.1234  25.6489  28.8060  32.7768  34.5343   \n",
       "Wuhan         29.74N   114.46E   4.5549   7.5392  12.4869  18.1027  23.0371   \n",
       "Xian          34.56N   108.97E  -1.3598   2.4856   8.3118  13.8142  19.1416   \n",
       "\n",
       "                   6        7        8        9       10       11       12  \n",
       "City                                                                        \n",
       "Abidjan      26.0854  25.1940  24.8005  25.4952  26.3535  27.3589  27.3845  \n",
       "Addis Abeba  18.2156  17.0864  17.1638  17.5866  17.4151  17.4975  17.4333  \n",
       "Ahmadabad    32.0304  29.0154  27.8735  28.7618  28.3600  25.4374  21.9159  \n",
       "Aleppo       27.7393  30.6218  30.1781  26.0022  20.3516  12.4561   7.2068  \n",
       "Alexandria   25.2457  27.3494  27.8062  26.5975  23.7940  20.3589  16.4355  \n",
       "...              ...      ...      ...      ...      ...      ...      ...  \n",
       "Tokyo        20.5148  24.1534  24.9984  21.3098  15.1640   9.5840   4.3070  \n",
       "Toronto      17.7160  19.6951  19.3907  15.8131   8.6788   3.0395  -3.9801  \n",
       "Umm Durman   34.3116  31.9165  30.7415  31.7856  32.0204  28.5019  24.4230  \n",
       "Wuhan        26.7031  29.7552  28.3623  24.7555  19.0946  12.5024   6.4549  \n",
       "Xian         23.5835  25.0434  22.8801  18.1008  12.3465   5.6288  -0.3435  \n",
       "\n",
       "[100 rows x 17 columns]"
      ]
     },
     "execution_count": 69,
     "metadata": {},
     "output_type": "execute_result"
    }
   ],
   "source": [
    "df_temperature['year'] = pd.DatetimeIndex(df_temperature['time']).year\n",
    "df_temperature['month'] = pd.DatetimeIndex(df_temperature['time']).month\n",
    "\n",
    "df_moths_average_temp = df_temperature.set_index('City').pivot_table('AverageTemperature', 'City', 'month').rename_axis(None, axis=1)#.reset_index(drop=True)\n",
    "df_moths_average_temp\n",
    "\n",
    "df_city = df_city.join(df_moths_average_temp, on='City')\n",
    "df_city"
   ]
  },
  {
   "cell_type": "markdown",
   "metadata": {},
   "source": [
    "Transforming latitude and longitude from String to int"
   ]
  },
  {
   "cell_type": "code",
   "execution_count": 70,
   "metadata": {},
   "outputs": [
    {
     "data": {
      "text/html": [
       "<div>\n",
       "<style scoped>\n",
       "    .dataframe tbody tr th:only-of-type {\n",
       "        vertical-align: middle;\n",
       "    }\n",
       "\n",
       "    .dataframe tbody tr th {\n",
       "        vertical-align: top;\n",
       "    }\n",
       "\n",
       "    .dataframe thead th {\n",
       "        text-align: right;\n",
       "    }\n",
       "</style>\n",
       "<table border=\"1\" class=\"dataframe\">\n",
       "  <thead>\n",
       "    <tr style=\"text-align: right;\">\n",
       "      <th></th>\n",
       "      <th>AverageTemperature</th>\n",
       "      <th>AverageTemperatureUncertainty</th>\n",
       "      <th>Country</th>\n",
       "      <th>Latitude</th>\n",
       "      <th>Longitude</th>\n",
       "      <th>1</th>\n",
       "      <th>2</th>\n",
       "      <th>3</th>\n",
       "      <th>4</th>\n",
       "      <th>5</th>\n",
       "      <th>6</th>\n",
       "      <th>7</th>\n",
       "      <th>8</th>\n",
       "      <th>9</th>\n",
       "      <th>10</th>\n",
       "      <th>11</th>\n",
       "      <th>12</th>\n",
       "    </tr>\n",
       "    <tr>\n",
       "      <th>City</th>\n",
       "      <th></th>\n",
       "      <th></th>\n",
       "      <th></th>\n",
       "      <th></th>\n",
       "      <th></th>\n",
       "      <th></th>\n",
       "      <th></th>\n",
       "      <th></th>\n",
       "      <th></th>\n",
       "      <th></th>\n",
       "      <th></th>\n",
       "      <th></th>\n",
       "      <th></th>\n",
       "      <th></th>\n",
       "      <th></th>\n",
       "      <th></th>\n",
       "      <th></th>\n",
       "    </tr>\n",
       "  </thead>\n",
       "  <tbody>\n",
       "    <tr>\n",
       "      <th>Abidjan</th>\n",
       "      <td>26.930375</td>\n",
       "      <td>0.386550</td>\n",
       "      <td>Côte D'Ivoire</td>\n",
       "      <td>5.63</td>\n",
       "      <td>-3.23</td>\n",
       "      <td>27.2104</td>\n",
       "      <td>28.6023</td>\n",
       "      <td>28.9006</td>\n",
       "      <td>28.2400</td>\n",
       "      <td>27.5392</td>\n",
       "      <td>26.0854</td>\n",
       "      <td>25.1940</td>\n",
       "      <td>24.8005</td>\n",
       "      <td>25.4952</td>\n",
       "      <td>26.3535</td>\n",
       "      <td>27.3589</td>\n",
       "      <td>27.3845</td>\n",
       "    </tr>\n",
       "    <tr>\n",
       "      <th>Addis Abeba</th>\n",
       "      <td>18.351717</td>\n",
       "      <td>0.566192</td>\n",
       "      <td>Ethiopia</td>\n",
       "      <td>8.84</td>\n",
       "      <td>38.11</td>\n",
       "      <td>18.2615</td>\n",
       "      <td>19.4287</td>\n",
       "      <td>20.1868</td>\n",
       "      <td>20.0349</td>\n",
       "      <td>19.9104</td>\n",
       "      <td>18.2156</td>\n",
       "      <td>17.0864</td>\n",
       "      <td>17.1638</td>\n",
       "      <td>17.5866</td>\n",
       "      <td>17.4151</td>\n",
       "      <td>17.4975</td>\n",
       "      <td>17.4333</td>\n",
       "    </tr>\n",
       "    <tr>\n",
       "      <th>Ahmadabad</th>\n",
       "      <td>27.416742</td>\n",
       "      <td>0.449108</td>\n",
       "      <td>India</td>\n",
       "      <td>23.31</td>\n",
       "      <td>72.52</td>\n",
       "      <td>20.2431</td>\n",
       "      <td>22.7144</td>\n",
       "      <td>27.5728</td>\n",
       "      <td>31.5733</td>\n",
       "      <td>33.5029</td>\n",
       "      <td>32.0304</td>\n",
       "      <td>29.0154</td>\n",
       "      <td>27.8735</td>\n",
       "      <td>28.7618</td>\n",
       "      <td>28.3600</td>\n",
       "      <td>25.4374</td>\n",
       "      <td>21.9159</td>\n",
       "    </tr>\n",
       "    <tr>\n",
       "      <th>Aleppo</th>\n",
       "      <td>18.345783</td>\n",
       "      <td>0.344408</td>\n",
       "      <td>Syria</td>\n",
       "      <td>36.17</td>\n",
       "      <td>37.79</td>\n",
       "      <td>6.0204</td>\n",
       "      <td>7.8457</td>\n",
       "      <td>12.4506</td>\n",
       "      <td>16.8803</td>\n",
       "      <td>22.3965</td>\n",
       "      <td>27.7393</td>\n",
       "      <td>30.6218</td>\n",
       "      <td>30.1781</td>\n",
       "      <td>26.0022</td>\n",
       "      <td>20.3516</td>\n",
       "      <td>12.4561</td>\n",
       "      <td>7.2068</td>\n",
       "    </tr>\n",
       "    <tr>\n",
       "      <th>Alexandria</th>\n",
       "      <td>21.331192</td>\n",
       "      <td>0.292550</td>\n",
       "      <td>Egypt</td>\n",
       "      <td>31.35</td>\n",
       "      <td>30.16</td>\n",
       "      <td>14.8878</td>\n",
       "      <td>14.9763</td>\n",
       "      <td>17.1055</td>\n",
       "      <td>19.2533</td>\n",
       "      <td>22.1642</td>\n",
       "      <td>25.2457</td>\n",
       "      <td>27.3494</td>\n",
       "      <td>27.8062</td>\n",
       "      <td>26.5975</td>\n",
       "      <td>23.7940</td>\n",
       "      <td>20.3589</td>\n",
       "      <td>16.4355</td>\n",
       "    </tr>\n",
       "    <tr>\n",
       "      <th>...</th>\n",
       "      <td>...</td>\n",
       "      <td>...</td>\n",
       "      <td>...</td>\n",
       "      <td>...</td>\n",
       "      <td>...</td>\n",
       "      <td>...</td>\n",
       "      <td>...</td>\n",
       "      <td>...</td>\n",
       "      <td>...</td>\n",
       "      <td>...</td>\n",
       "      <td>...</td>\n",
       "      <td>...</td>\n",
       "      <td>...</td>\n",
       "      <td>...</td>\n",
       "      <td>...</td>\n",
       "      <td>...</td>\n",
       "      <td>...</td>\n",
       "    </tr>\n",
       "    <tr>\n",
       "      <th>Tokyo</th>\n",
       "      <td>13.370042</td>\n",
       "      <td>0.226267</td>\n",
       "      <td>Japan</td>\n",
       "      <td>36.17</td>\n",
       "      <td>139.23</td>\n",
       "      <td>2.0084</td>\n",
       "      <td>3.1993</td>\n",
       "      <td>6.5052</td>\n",
       "      <td>11.9995</td>\n",
       "      <td>16.6967</td>\n",
       "      <td>20.5148</td>\n",
       "      <td>24.1534</td>\n",
       "      <td>24.9984</td>\n",
       "      <td>21.3098</td>\n",
       "      <td>15.1640</td>\n",
       "      <td>9.5840</td>\n",
       "      <td>4.3070</td>\n",
       "    </tr>\n",
       "    <tr>\n",
       "      <th>Toronto</th>\n",
       "      <td>6.934975</td>\n",
       "      <td>0.223225</td>\n",
       "      <td>Canada</td>\n",
       "      <td>44.20</td>\n",
       "      <td>-80.50</td>\n",
       "      <td>-6.8175</td>\n",
       "      <td>-6.5381</td>\n",
       "      <td>-1.5354</td>\n",
       "      <td>5.8324</td>\n",
       "      <td>11.9252</td>\n",
       "      <td>17.7160</td>\n",
       "      <td>19.6951</td>\n",
       "      <td>19.3907</td>\n",
       "      <td>15.8131</td>\n",
       "      <td>8.6788</td>\n",
       "      <td>3.0395</td>\n",
       "      <td>-3.9801</td>\n",
       "    </tr>\n",
       "    <tr>\n",
       "      <th>Umm Durman</th>\n",
       "      <td>29.882492</td>\n",
       "      <td>0.528875</td>\n",
       "      <td>Sudan</td>\n",
       "      <td>15.27</td>\n",
       "      <td>32.50</td>\n",
       "      <td>23.1234</td>\n",
       "      <td>25.6489</td>\n",
       "      <td>28.8060</td>\n",
       "      <td>32.7768</td>\n",
       "      <td>34.5343</td>\n",
       "      <td>34.3116</td>\n",
       "      <td>31.9165</td>\n",
       "      <td>30.7415</td>\n",
       "      <td>31.7856</td>\n",
       "      <td>32.0204</td>\n",
       "      <td>28.5019</td>\n",
       "      <td>24.4230</td>\n",
       "    </tr>\n",
       "    <tr>\n",
       "      <th>Wuhan</th>\n",
       "      <td>17.779067</td>\n",
       "      <td>0.263975</td>\n",
       "      <td>China</td>\n",
       "      <td>29.74</td>\n",
       "      <td>114.46</td>\n",
       "      <td>4.5549</td>\n",
       "      <td>7.5392</td>\n",
       "      <td>12.4869</td>\n",
       "      <td>18.1027</td>\n",
       "      <td>23.0371</td>\n",
       "      <td>26.7031</td>\n",
       "      <td>29.7552</td>\n",
       "      <td>28.3623</td>\n",
       "      <td>24.7555</td>\n",
       "      <td>19.0946</td>\n",
       "      <td>12.5024</td>\n",
       "      <td>6.4549</td>\n",
       "    </tr>\n",
       "    <tr>\n",
       "      <th>Xian</th>\n",
       "      <td>12.469417</td>\n",
       "      <td>0.363642</td>\n",
       "      <td>China</td>\n",
       "      <td>34.56</td>\n",
       "      <td>108.97</td>\n",
       "      <td>-1.3598</td>\n",
       "      <td>2.4856</td>\n",
       "      <td>8.3118</td>\n",
       "      <td>13.8142</td>\n",
       "      <td>19.1416</td>\n",
       "      <td>23.5835</td>\n",
       "      <td>25.0434</td>\n",
       "      <td>22.8801</td>\n",
       "      <td>18.1008</td>\n",
       "      <td>12.3465</td>\n",
       "      <td>5.6288</td>\n",
       "      <td>-0.3435</td>\n",
       "    </tr>\n",
       "  </tbody>\n",
       "</table>\n",
       "<p>100 rows × 17 columns</p>\n",
       "</div>"
      ],
      "text/plain": [
       "             AverageTemperature  AverageTemperatureUncertainty        Country  \\\n",
       "City                                                                            \n",
       "Abidjan               26.930375                       0.386550  Côte D'Ivoire   \n",
       "Addis Abeba           18.351717                       0.566192       Ethiopia   \n",
       "Ahmadabad             27.416742                       0.449108          India   \n",
       "Aleppo                18.345783                       0.344408          Syria   \n",
       "Alexandria            21.331192                       0.292550          Egypt   \n",
       "...                         ...                            ...            ...   \n",
       "Tokyo                 13.370042                       0.226267          Japan   \n",
       "Toronto                6.934975                       0.223225         Canada   \n",
       "Umm Durman            29.882492                       0.528875          Sudan   \n",
       "Wuhan                 17.779067                       0.263975          China   \n",
       "Xian                  12.469417                       0.363642          China   \n",
       "\n",
       "             Latitude  Longitude        1        2        3        4        5  \\\n",
       "City                                                                            \n",
       "Abidjan          5.63      -3.23  27.2104  28.6023  28.9006  28.2400  27.5392   \n",
       "Addis Abeba      8.84      38.11  18.2615  19.4287  20.1868  20.0349  19.9104   \n",
       "Ahmadabad       23.31      72.52  20.2431  22.7144  27.5728  31.5733  33.5029   \n",
       "Aleppo          36.17      37.79   6.0204   7.8457  12.4506  16.8803  22.3965   \n",
       "Alexandria      31.35      30.16  14.8878  14.9763  17.1055  19.2533  22.1642   \n",
       "...               ...        ...      ...      ...      ...      ...      ...   \n",
       "Tokyo           36.17     139.23   2.0084   3.1993   6.5052  11.9995  16.6967   \n",
       "Toronto         44.20     -80.50  -6.8175  -6.5381  -1.5354   5.8324  11.9252   \n",
       "Umm Durman      15.27      32.50  23.1234  25.6489  28.8060  32.7768  34.5343   \n",
       "Wuhan           29.74     114.46   4.5549   7.5392  12.4869  18.1027  23.0371   \n",
       "Xian            34.56     108.97  -1.3598   2.4856   8.3118  13.8142  19.1416   \n",
       "\n",
       "                   6        7        8        9       10       11       12  \n",
       "City                                                                        \n",
       "Abidjan      26.0854  25.1940  24.8005  25.4952  26.3535  27.3589  27.3845  \n",
       "Addis Abeba  18.2156  17.0864  17.1638  17.5866  17.4151  17.4975  17.4333  \n",
       "Ahmadabad    32.0304  29.0154  27.8735  28.7618  28.3600  25.4374  21.9159  \n",
       "Aleppo       27.7393  30.6218  30.1781  26.0022  20.3516  12.4561   7.2068  \n",
       "Alexandria   25.2457  27.3494  27.8062  26.5975  23.7940  20.3589  16.4355  \n",
       "...              ...      ...      ...      ...      ...      ...      ...  \n",
       "Tokyo        20.5148  24.1534  24.9984  21.3098  15.1640   9.5840   4.3070  \n",
       "Toronto      17.7160  19.6951  19.3907  15.8131   8.6788   3.0395  -3.9801  \n",
       "Umm Durman   34.3116  31.9165  30.7415  31.7856  32.0204  28.5019  24.4230  \n",
       "Wuhan        26.7031  29.7552  28.3623  24.7555  19.0946  12.5024   6.4549  \n",
       "Xian         23.5835  25.0434  22.8801  18.1008  12.3465   5.6288  -0.3435  \n",
       "\n",
       "[100 rows x 17 columns]"
      ]
     },
     "execution_count": 70,
     "metadata": {},
     "output_type": "execute_result"
    }
   ],
   "source": [
    "# conversion functions\n",
    "def latitude_to_float(latitude):\n",
    "\n",
    "    if(latitude[-1] == 'N'):\n",
    "        return float(latitude[0:-1])\n",
    "    elif(latitude[-1] == 'S'):\n",
    "        return - float(latitude[0:-1])\n",
    "    else:\n",
    "        print('Conversion error: ' + latitude)\n",
    "\n",
    "def longitude_to_float(longitude):\n",
    "\n",
    "    if(longitude[-1] == 'W'):\n",
    "        return - float(longitude[0:-1])\n",
    "    elif(longitude[-1] == 'E'):\n",
    "        return float(longitude[0:-1])\n",
    "    else:\n",
    "        print('Conversion error: ' + longitude)\n",
    "\n",
    "\n",
    "# applying conversions\n",
    "df_city.Latitude = df_city.Latitude.apply(lambda x: latitude_to_float(x))\n",
    "df_city.Longitude = df_city.Longitude.apply(lambda x: longitude_to_float(x))\n",
    "df_city"
   ]
  },
  {
   "cell_type": "code",
   "execution_count": 71,
   "metadata": {},
   "outputs": [
    {
     "name": "stdout",
     "output_type": "stream",
     "text": [
      "<class 'pandas.core.frame.DataFrame'>\n",
      "Index: 100 entries, Abidjan to Xian\n",
      "Data columns (total 17 columns):\n",
      " #   Column                         Non-Null Count  Dtype  \n",
      "---  ------                         --------------  -----  \n",
      " 0   AverageTemperature             100 non-null    float64\n",
      " 1   AverageTemperatureUncertainty  100 non-null    float64\n",
      " 2   Country                        100 non-null    object \n",
      " 3   Latitude                       100 non-null    float64\n",
      " 4   Longitude                      100 non-null    float64\n",
      " 5   1                              100 non-null    float64\n",
      " 6   2                              100 non-null    float64\n",
      " 7   3                              100 non-null    float64\n",
      " 8   4                              100 non-null    float64\n",
      " 9   5                              100 non-null    float64\n",
      " 10  6                              100 non-null    float64\n",
      " 11  7                              100 non-null    float64\n",
      " 12  8                              100 non-null    float64\n",
      " 13  9                              100 non-null    float64\n",
      " 14  10                             100 non-null    float64\n",
      " 15  11                             100 non-null    float64\n",
      " 16  12                             100 non-null    float64\n",
      "dtypes: float64(16), object(1)\n",
      "memory usage: 18.1+ KB\n"
     ]
    }
   ],
   "source": [
    "df_city.info()"
   ]
  },
  {
   "cell_type": "markdown",
   "metadata": {},
   "source": [
    "## Cluster"
   ]
  },
  {
   "cell_type": "code",
   "execution_count": 72,
   "metadata": {},
   "outputs": [
    {
     "data": {
      "text/html": [
       "<div>\n",
       "<style scoped>\n",
       "    .dataframe tbody tr th:only-of-type {\n",
       "        vertical-align: middle;\n",
       "    }\n",
       "\n",
       "    .dataframe tbody tr th {\n",
       "        vertical-align: top;\n",
       "    }\n",
       "\n",
       "    .dataframe thead th {\n",
       "        text-align: right;\n",
       "    }\n",
       "</style>\n",
       "<table border=\"1\" class=\"dataframe\">\n",
       "  <thead>\n",
       "    <tr style=\"text-align: right;\">\n",
       "      <th></th>\n",
       "      <th>1</th>\n",
       "      <th>2</th>\n",
       "      <th>3</th>\n",
       "      <th>4</th>\n",
       "      <th>5</th>\n",
       "      <th>6</th>\n",
       "      <th>7</th>\n",
       "      <th>8</th>\n",
       "      <th>9</th>\n",
       "      <th>10</th>\n",
       "      <th>11</th>\n",
       "      <th>12</th>\n",
       "    </tr>\n",
       "  </thead>\n",
       "  <tbody>\n",
       "    <tr>\n",
       "      <th>0</th>\n",
       "      <td>27.2104</td>\n",
       "      <td>28.6023</td>\n",
       "      <td>28.9006</td>\n",
       "      <td>28.2400</td>\n",
       "      <td>27.5392</td>\n",
       "      <td>26.0854</td>\n",
       "      <td>25.1940</td>\n",
       "      <td>24.8005</td>\n",
       "      <td>25.4952</td>\n",
       "      <td>26.3535</td>\n",
       "      <td>27.3589</td>\n",
       "      <td>27.3845</td>\n",
       "    </tr>\n",
       "    <tr>\n",
       "      <th>1</th>\n",
       "      <td>18.2615</td>\n",
       "      <td>19.4287</td>\n",
       "      <td>20.1868</td>\n",
       "      <td>20.0349</td>\n",
       "      <td>19.9104</td>\n",
       "      <td>18.2156</td>\n",
       "      <td>17.0864</td>\n",
       "      <td>17.1638</td>\n",
       "      <td>17.5866</td>\n",
       "      <td>17.4151</td>\n",
       "      <td>17.4975</td>\n",
       "      <td>17.4333</td>\n",
       "    </tr>\n",
       "    <tr>\n",
       "      <th>2</th>\n",
       "      <td>20.2431</td>\n",
       "      <td>22.7144</td>\n",
       "      <td>27.5728</td>\n",
       "      <td>31.5733</td>\n",
       "      <td>33.5029</td>\n",
       "      <td>32.0304</td>\n",
       "      <td>29.0154</td>\n",
       "      <td>27.8735</td>\n",
       "      <td>28.7618</td>\n",
       "      <td>28.3600</td>\n",
       "      <td>25.4374</td>\n",
       "      <td>21.9159</td>\n",
       "    </tr>\n",
       "    <tr>\n",
       "      <th>3</th>\n",
       "      <td>6.0204</td>\n",
       "      <td>7.8457</td>\n",
       "      <td>12.4506</td>\n",
       "      <td>16.8803</td>\n",
       "      <td>22.3965</td>\n",
       "      <td>27.7393</td>\n",
       "      <td>30.6218</td>\n",
       "      <td>30.1781</td>\n",
       "      <td>26.0022</td>\n",
       "      <td>20.3516</td>\n",
       "      <td>12.4561</td>\n",
       "      <td>7.2068</td>\n",
       "    </tr>\n",
       "    <tr>\n",
       "      <th>4</th>\n",
       "      <td>14.8878</td>\n",
       "      <td>14.9763</td>\n",
       "      <td>17.1055</td>\n",
       "      <td>19.2533</td>\n",
       "      <td>22.1642</td>\n",
       "      <td>25.2457</td>\n",
       "      <td>27.3494</td>\n",
       "      <td>27.8062</td>\n",
       "      <td>26.5975</td>\n",
       "      <td>23.7940</td>\n",
       "      <td>20.3589</td>\n",
       "      <td>16.4355</td>\n",
       "    </tr>\n",
       "    <tr>\n",
       "      <th>...</th>\n",
       "      <td>...</td>\n",
       "      <td>...</td>\n",
       "      <td>...</td>\n",
       "      <td>...</td>\n",
       "      <td>...</td>\n",
       "      <td>...</td>\n",
       "      <td>...</td>\n",
       "      <td>...</td>\n",
       "      <td>...</td>\n",
       "      <td>...</td>\n",
       "      <td>...</td>\n",
       "      <td>...</td>\n",
       "    </tr>\n",
       "    <tr>\n",
       "      <th>95</th>\n",
       "      <td>2.0084</td>\n",
       "      <td>3.1993</td>\n",
       "      <td>6.5052</td>\n",
       "      <td>11.9995</td>\n",
       "      <td>16.6967</td>\n",
       "      <td>20.5148</td>\n",
       "      <td>24.1534</td>\n",
       "      <td>24.9984</td>\n",
       "      <td>21.3098</td>\n",
       "      <td>15.1640</td>\n",
       "      <td>9.5840</td>\n",
       "      <td>4.3070</td>\n",
       "    </tr>\n",
       "    <tr>\n",
       "      <th>96</th>\n",
       "      <td>-6.8175</td>\n",
       "      <td>-6.5381</td>\n",
       "      <td>-1.5354</td>\n",
       "      <td>5.8324</td>\n",
       "      <td>11.9252</td>\n",
       "      <td>17.7160</td>\n",
       "      <td>19.6951</td>\n",
       "      <td>19.3907</td>\n",
       "      <td>15.8131</td>\n",
       "      <td>8.6788</td>\n",
       "      <td>3.0395</td>\n",
       "      <td>-3.9801</td>\n",
       "    </tr>\n",
       "    <tr>\n",
       "      <th>97</th>\n",
       "      <td>23.1234</td>\n",
       "      <td>25.6489</td>\n",
       "      <td>28.8060</td>\n",
       "      <td>32.7768</td>\n",
       "      <td>34.5343</td>\n",
       "      <td>34.3116</td>\n",
       "      <td>31.9165</td>\n",
       "      <td>30.7415</td>\n",
       "      <td>31.7856</td>\n",
       "      <td>32.0204</td>\n",
       "      <td>28.5019</td>\n",
       "      <td>24.4230</td>\n",
       "    </tr>\n",
       "    <tr>\n",
       "      <th>98</th>\n",
       "      <td>4.5549</td>\n",
       "      <td>7.5392</td>\n",
       "      <td>12.4869</td>\n",
       "      <td>18.1027</td>\n",
       "      <td>23.0371</td>\n",
       "      <td>26.7031</td>\n",
       "      <td>29.7552</td>\n",
       "      <td>28.3623</td>\n",
       "      <td>24.7555</td>\n",
       "      <td>19.0946</td>\n",
       "      <td>12.5024</td>\n",
       "      <td>6.4549</td>\n",
       "    </tr>\n",
       "    <tr>\n",
       "      <th>99</th>\n",
       "      <td>-1.3598</td>\n",
       "      <td>2.4856</td>\n",
       "      <td>8.3118</td>\n",
       "      <td>13.8142</td>\n",
       "      <td>19.1416</td>\n",
       "      <td>23.5835</td>\n",
       "      <td>25.0434</td>\n",
       "      <td>22.8801</td>\n",
       "      <td>18.1008</td>\n",
       "      <td>12.3465</td>\n",
       "      <td>5.6288</td>\n",
       "      <td>-0.3435</td>\n",
       "    </tr>\n",
       "  </tbody>\n",
       "</table>\n",
       "<p>100 rows × 12 columns</p>\n",
       "</div>"
      ],
      "text/plain": [
       "          1        2        3        4        5        6        7        8  \\\n",
       "0   27.2104  28.6023  28.9006  28.2400  27.5392  26.0854  25.1940  24.8005   \n",
       "1   18.2615  19.4287  20.1868  20.0349  19.9104  18.2156  17.0864  17.1638   \n",
       "2   20.2431  22.7144  27.5728  31.5733  33.5029  32.0304  29.0154  27.8735   \n",
       "3    6.0204   7.8457  12.4506  16.8803  22.3965  27.7393  30.6218  30.1781   \n",
       "4   14.8878  14.9763  17.1055  19.2533  22.1642  25.2457  27.3494  27.8062   \n",
       "..      ...      ...      ...      ...      ...      ...      ...      ...   \n",
       "95   2.0084   3.1993   6.5052  11.9995  16.6967  20.5148  24.1534  24.9984   \n",
       "96  -6.8175  -6.5381  -1.5354   5.8324  11.9252  17.7160  19.6951  19.3907   \n",
       "97  23.1234  25.6489  28.8060  32.7768  34.5343  34.3116  31.9165  30.7415   \n",
       "98   4.5549   7.5392  12.4869  18.1027  23.0371  26.7031  29.7552  28.3623   \n",
       "99  -1.3598   2.4856   8.3118  13.8142  19.1416  23.5835  25.0434  22.8801   \n",
       "\n",
       "          9       10       11       12  \n",
       "0   25.4952  26.3535  27.3589  27.3845  \n",
       "1   17.5866  17.4151  17.4975  17.4333  \n",
       "2   28.7618  28.3600  25.4374  21.9159  \n",
       "3   26.0022  20.3516  12.4561   7.2068  \n",
       "4   26.5975  23.7940  20.3589  16.4355  \n",
       "..      ...      ...      ...      ...  \n",
       "95  21.3098  15.1640   9.5840   4.3070  \n",
       "96  15.8131   8.6788   3.0395  -3.9801  \n",
       "97  31.7856  32.0204  28.5019  24.4230  \n",
       "98  24.7555  19.0946  12.5024   6.4549  \n",
       "99  18.1008  12.3465   5.6288  -0.3435  \n",
       "\n",
       "[100 rows x 12 columns]"
      ]
     },
     "execution_count": 72,
     "metadata": {},
     "output_type": "execute_result"
    }
   ],
   "source": [
    "features = [1, 2, 3, 4, 5, 6, 7, 8, 9, 10, 11, 12]\n",
    "\n",
    "df_data = df_city[features].reset_index(drop=True)\n",
    "df_data"
   ]
  },
  {
   "cell_type": "code",
   "execution_count": 73,
   "metadata": {},
   "outputs": [
    {
     "data": {
      "image/png": "[encoded data removed]",
      "text/plain": [
       "<Figure size 576x396 with 1 Axes>"
      ]
     },
     "metadata": {},
     "output_type": "display_data"
    },
    {
     "data": {
      "image/png": "[encoded data removed]",
      "text/plain": [
       "<Figure size 576x396 with 1 Axes>"
      ]
     },
     "metadata": {},
     "output_type": "display_data"
    },
    {
     "data": {
      "text/plain": [
       "<AxesSubplot:title={'center':'Silhouette Score Elbow for KMeans Clustering'}, xlabel='k', ylabel='silhouette score'>"
      ]
     },
     "execution_count": 73,
     "metadata": {},
     "output_type": "execute_result"
    }
   ],
   "source": [
    "model = KMeans(n_init=10, max_iter=100, init=\"k-means++\")\n",
    "sse_visualizer = KElbowVisualizer(model, k=(2,30), timings=False)\n",
    "sse_visualizer.fit(df_data)\n",
    "sse_visualizer.show()\n",
    "\n",
    "sil_visualizer = KElbowVisualizer(model, k=(2,30), timings=False, metric=\"silhouette\")\n",
    "sil_visualizer.fit(df_data)\n",
    "sil_visualizer.show()"
   ]
  },
  {
   "cell_type": "code",
   "execution_count": 84,
   "metadata": {},
   "outputs": [
    {
     "data": {
      "image/png": "[encoded data removed]",
      "text/plain": [
       "<Figure size 576x396 with 1 Axes>"
      ]
     },
     "metadata": {},
     "output_type": "display_data"
    },
    {
     "name": "stdout",
     "output_type": "stream",
     "text": [
      "The silhoutte score is: 0.5719825583542005\n"
     ]
    }
   ],
   "source": [
    "optimal_k = 2#sse_visualizer.elbow_value_\n",
    "kmeans = KMeans(n_clusters=optimal_k, n_init=10, max_iter=100, init=\"k-means++\")\n",
    "kmeans.fit(df_data)\n",
    "\n",
    "df_city[\"cluster_kmeans\"] = kmeans.labels_.astype(str)\n",
    "\n",
    "x = silhouette_visualizer(KMeans(optimal_k, random_state=42), df_data)\n",
    "print(\"The silhoutte score is: \" + str(x.silhouette_score_))"
   ]
  },
  {
   "cell_type": "code",
   "execution_count": 85,
   "metadata": {},
   "outputs": [
    {
     "data": {
      "image/png": "[encoded data removed]",
      "text/plain": [
       "<Figure size 1080x288 with 1 Axes>"
      ]
     },
     "metadata": {},
     "output_type": "display_data"
    }
   ],
   "source": [
    "plt.figure(figsize=(15, 4))\n",
    "for i in range(0, len(kmeans.cluster_centers_)):\n",
    "    plt.plot(kmeans.cluster_centers_[i], marker='o', label='Cluster %s' % i)\n",
    "plt.xticks(range(0, len(df_data.columns)), df_data.columns, fontsize=15)\n",
    "plt.legend(fontsize=10)\n",
    "plt.show()"
   ]
  },
  {
   "cell_type": "code",
   "execution_count": 86,
   "metadata": {},
   "outputs": [
    {
     "data": {
      "text/html": [
       "<div>\n",
       "<style scoped>\n",
       "    .dataframe tbody tr th:only-of-type {\n",
       "        vertical-align: middle;\n",
       "    }\n",
       "\n",
       "    .dataframe tbody tr th {\n",
       "        vertical-align: top;\n",
       "    }\n",
       "\n",
       "    .dataframe thead th {\n",
       "        text-align: right;\n",
       "    }\n",
       "</style>\n",
       "<table border=\"1\" class=\"dataframe\">\n",
       "  <thead>\n",
       "    <tr style=\"text-align: right;\">\n",
       "      <th></th>\n",
       "      <th>cluster size</th>\n",
       "      <th>AverageTemperature</th>\n",
       "      <th>1</th>\n",
       "      <th>2</th>\n",
       "      <th>3</th>\n",
       "      <th>4</th>\n",
       "      <th>5</th>\n",
       "      <th>6</th>\n",
       "      <th>7</th>\n",
       "      <th>8</th>\n",
       "      <th>9</th>\n",
       "      <th>10</th>\n",
       "      <th>11</th>\n",
       "      <th>12</th>\n",
       "    </tr>\n",
       "    <tr>\n",
       "      <th>cluster_kmeans</th>\n",
       "      <th></th>\n",
       "      <th></th>\n",
       "      <th></th>\n",
       "      <th></th>\n",
       "      <th></th>\n",
       "      <th></th>\n",
       "      <th></th>\n",
       "      <th></th>\n",
       "      <th></th>\n",
       "      <th></th>\n",
       "      <th></th>\n",
       "      <th></th>\n",
       "      <th></th>\n",
       "      <th></th>\n",
       "    </tr>\n",
       "  </thead>\n",
       "  <tbody>\n",
       "    <tr>\n",
       "      <th>0</th>\n",
       "      <td>60</td>\n",
       "      <td>24.70</td>\n",
       "      <td>21.26</td>\n",
       "      <td>22.69</td>\n",
       "      <td>24.66</td>\n",
       "      <td>26.20</td>\n",
       "      <td>27.01</td>\n",
       "      <td>26.56</td>\n",
       "      <td>25.88</td>\n",
       "      <td>25.83</td>\n",
       "      <td>25.86</td>\n",
       "      <td>25.13</td>\n",
       "      <td>23.53</td>\n",
       "      <td>21.75</td>\n",
       "    </tr>\n",
       "    <tr>\n",
       "      <th>1</th>\n",
       "      <td>40</td>\n",
       "      <td>12.23</td>\n",
       "      <td>0.30</td>\n",
       "      <td>2.32</td>\n",
       "      <td>6.91</td>\n",
       "      <td>12.09</td>\n",
       "      <td>17.08</td>\n",
       "      <td>20.95</td>\n",
       "      <td>23.27</td>\n",
       "      <td>22.71</td>\n",
       "      <td>18.84</td>\n",
       "      <td>13.26</td>\n",
       "      <td>7.18</td>\n",
       "      <td>1.81</td>\n",
       "    </tr>\n",
       "  </tbody>\n",
       "</table>\n",
       "</div>"
      ],
      "text/plain": [
       "                cluster size  AverageTemperature      1      2      3      4  \\\n",
       "cluster_kmeans                                                                 \n",
       "0                         60               24.70  21.26  22.69  24.66  26.20   \n",
       "1                         40               12.23   0.30   2.32   6.91  12.09   \n",
       "\n",
       "                    5      6      7      8      9     10     11     12  \n",
       "cluster_kmeans                                                          \n",
       "0               27.01  26.56  25.88  25.83  25.86  25.13  23.53  21.75  \n",
       "1               17.08  20.95  23.27  22.71  18.84  13.26   7.18   1.81  "
      ]
     },
     "execution_count": 86,
     "metadata": {},
     "output_type": "execute_result"
    }
   ],
   "source": [
    "df_city.groupby(\"cluster_kmeans\").agg({\"cluster_kmeans\":\"count\", \"AverageTemperature\": \"mean\", 1: \"mean\", 2: \"mean\", 3: \"mean\", 4: \"mean\", 5: \"mean\", 6: \"mean\", 7: \"mean\", 8: \"mean\", 9: \"mean\", 10: \"mean\", 11: \"mean\", 12: \"mean\"}).sort_values(by=\"AverageTemperature\", ascending=False).round(2).rename(columns={\"cluster_kmeans\": \"cluster size\"})"
   ]
  },
  {
   "cell_type": "code",
   "execution_count": 87,
   "metadata": {},
   "outputs": [
    {
     "data": {
      "image/png": "[encoded data removed]",
      "text/plain": [
       "<Figure size 720x432 with 1 Axes>"
      ]
     },
     "metadata": {},
     "output_type": "display_data"
    },
    {
     "data": {
      "image/png": "[encoded data removed]",
      "text/plain": [
       "<Figure size 720x432 with 1 Axes>"
      ]
     },
     "metadata": {},
     "output_type": "display_data"
    }
   ],
   "source": [
    "# plotting the map\n",
    "world = gpd.read_file(gpd.datasets.get_path('naturalearth_lowres'))\n",
    "\n",
    "for i in range(0, optimal_k):\n",
    "    \n",
    "    filter = (df_city['cluster_kmeans'] == str(i))\n",
    "    #df_city[filter]\n",
    "\n",
    "    geometry = [Point(xy) for xy in zip(df_city[filter]['Longitude'], df_city[filter]['Latitude'])]\n",
    "    gdf = GeoDataFrame(df_city[filter], geometry=geometry)   \n",
    "\n",
    "    gdf.plot(ax=world.plot(figsize=(10, 6)), marker='o', color='red', markersize=15)\n"
   ]
  }
 ],
 "metadata": {
  "interpreter": {
   "hash": "7b36721443da4019c3aa4c050fbf86f78680ca0d16a7ae834f64d9ed2e29b204"
  },
  "kernelspec": {
   "display_name": "Python 3.9.7 64-bit ('dm': conda)",
   "language": "python",
   "name": "python3"
  },
  "language_info": {
   "codemirror_mode": {
    "name": "ipython",
    "version": 3
   },
   "file_extension": ".py",
   "mimetype": "text/x-python",
   "name": "python",
   "nbconvert_exporter": "python",
   "pygments_lexer": "ipython3",
   "version": "3.9.9"
  },
  "orig_nbformat": 4
 },
 "nbformat": 4,
 "nbformat_minor": 2
}
