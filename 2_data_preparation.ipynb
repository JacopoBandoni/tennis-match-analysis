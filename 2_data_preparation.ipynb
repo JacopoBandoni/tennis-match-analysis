{
 "cells": [
  {
   "cell_type": "markdown",
   "source": "# Players dataset preparation",
   "metadata": {
    "cell_id": "00000-6d7bd2a9-f467-46e3-8bab-0f2e57fecd74",
    "tags": [],
    "deepnote_cell_type": "markdown"
   }
  },
  {
   "cell_type": "code",
   "metadata": {
    "cell_id": "00007-e4e23cab-52a6-4d81-95b2-312666a29307",
    "deepnote_to_be_reexecuted": false,
    "execution_millis": 1131,
    "execution_start": 1636929369139,
    "source_hash": "1e33ae68",
    "tags": [],
    "output_cleared": true,
    "deepnote_cell_type": "code"
   },
   "source": "import pandas as pd\nimport numpy as np\n\n# Visualization\nimport plotly.express as px\nimport plotly.io as pio\npd.options.plotting.backend = 'plotly'\npio.templates.default = \"seaborn\"",
   "execution_count": null,
   "outputs": []
  },
  {
   "cell_type": "markdown",
   "source": "## Dataset preparation",
   "metadata": {
    "cell_id": "00005-e868dfee-80d4-4dee-b17c-413edb43f67e",
    "is_collapsed": false,
    "tags": [],
    "deepnote_cell_type": "text-cell-h2"
   }
  },
  {
   "cell_type": "code",
   "metadata": {
    "cell_id": "00000-3b97f354-41cd-4023-bf75-89686aff1d4c",
    "deepnote_to_be_reexecuted": false,
    "execution_millis": 1884,
    "execution_start": 1636929370278,
    "source_hash": "907a6341",
    "tags": [],
    "output_cleared": true,
    "deepnote_cell_type": "code"
   },
   "source": "# Read datasets\ndf_tennis = pd.read_csv(\"./datasets/tennis_matches_cleaned.csv\", parse_dates=[\"tourney_date\"], index_col=0)\ndf_male = pd.read_csv(\"./datasets/male_players.csv\")\ndf_female = pd.read_csv(\"./datasets/female_players.csv\")\n\ndf_male.drop_duplicates(inplace=True)\ndf_female.drop_duplicates(inplace=True)\n\ndef preprocess_strings(df):\n    df = df.applymap(lambda x:x.lower().strip() if type(x) == str else x)\n    return df.replace(r\"\\s{2,}\", \" \", regex=True)\n\ndf_tennis.tourney_date = pd.to_datetime(df_tennis.tourney_date, format='%Y%m%d')\n\n# Normalize strings\ndf_male = preprocess_strings(df_male)\ndf_female = preprocess_strings(df_female)",
   "execution_count": null,
   "outputs": []
  },
  {
   "cell_type": "code",
   "metadata": {
    "cell_id": "00003-5904af19-0d29-44f9-9183-81cfd807befa",
    "deepnote_to_be_reexecuted": false,
    "execution_millis": 1360,
    "execution_start": 1636929372179,
    "source_hash": "8a97309a",
    "tags": [],
    "output_cleared": false,
    "deepnote_cell_type": "code"
   },
   "source": "# Create a new players dataset whose name is the concatenation of the name and the surname for the male and female players\ndf = pd.concat([df_male.name + \" \" + df_male.surname], axis=1, keys=[\"name\", \"gender\"])\ndf[\"gender\"] = \"m\"\ndf_players = df\ndf = pd.concat([df_female.name + \" \" + df_female.surname], axis=1, keys=[\"name\", \"gender\"])\ndf[\"gender\"] = \"f\"\ndf_players = df_players.append(df)\n\n# Remove duplicates arising from the intersection\ndf_players = df_players.drop_duplicates(subset=[\"name\"])\ndf_players = df_players.sort_values(by=[\"name\"])\ndf_players.reset_index(drop=True, inplace=True)\n\n# Merge the players dataset with the tennis dataset\ndf = pd.merge(df_tennis, df_players.rename(columns = {'name': 'winner_name', 'gender':'winner_gender'}), on=\"winner_name\", how=\"left\")\ndf = pd.merge(df, df_players.rename(columns = {'name': 'loser_name', 'gender':'loser_gender'}), on=\"loser_name\", how=\"left\")\n\n# Find the players who do not have a gender and assign them the most common among the genders of the players they played with. \nwinners = df[df.winner_gender.isnull()].groupby([\"winner_name\", \"loser_gender\"]).loser_gender.count().reset_index(name=\"occurrences\").rename(columns={\"winner_name\":\"name\", \"loser_gender\":\"gender\"})\n\nlosers = df[df.loser_gender.isnull()].groupby([\"loser_name\", \"winner_gender\"]).winner_gender.count().reset_index(name=\"occurrences\").rename(columns={\"loser_name\":\"name\", \"winner_gender\":\"gender\"})\n\nestimate = pd.concat([winners, losers]).groupby([\"name\", \"gender\"]).occurrences.sum().reset_index(name=\"occurrences\")\nestimate = estimate.sort_values(by=[\"name\", \"occurrences\"], ascending=[1, 0]).drop_duplicates(\"name\", keep=\"first\").drop(columns=[\"occurrences\"])\n\n# Create the players dataset\ndf_players = df.loc[:, ['winner_name', 'winner_gender']].set_axis(['name', 'gender'], axis=1, inplace=False)\ndf_players = df_players.append(df.loc[:, ['loser_name', 'loser_gender']].set_axis(['name', 'gender'], axis=1, inplace=False))\ndf_players = df_players.append(estimate)\ndf_players = df_players.dropna().drop_duplicates()\ndf_players = df_players.sort_values(by=[\"name\"]).reset_index(drop=True)\ndf_players.head()",
   "execution_count": null,
   "outputs": [
    {
     "output_type": "execute_result",
     "execution_count": 3,
     "data": {
      "application/vnd.deepnote.dataframe.v2+json": {
       "row_count": 5,
       "column_count": 2,
       "columns": [
        {
         "name": "name",
         "dtype": "object",
         "stats": {
          "unique_count": 5,
          "nan_count": 0,
          "categories": [
           {
            "name": "aada inna",
            "count": 1
           },
           {
            "name": "aalisha alexis",
            "count": 1
           },
           {
            "name": "3 others",
            "count": 3
           }
          ]
         }
        },
        {
         "name": "gender",
         "dtype": "object",
         "stats": {
          "unique_count": 1,
          "nan_count": 0,
          "categories": [
           {
            "name": "f",
            "count": 5
           }
          ]
         }
        },
        {
         "name": "_deepnote_index_column",
         "dtype": "int64"
        }
       ],
       "rows_top": [
        {
         "name": "aada inna",
         "gender": "f",
         "_deepnote_index_column": 0
        },
        {
         "name": "aalisha alexis",
         "gender": "f",
         "_deepnote_index_column": 1
        },
        {
         "name": "aaliya ebrahim",
         "gender": "f",
         "_deepnote_index_column": 2
        },
        {
         "name": "aaliyah hohmann",
         "gender": "f",
         "_deepnote_index_column": 3
        },
        {
         "name": "aalyka ebrahim",
         "gender": "f",
         "_deepnote_index_column": 4
        }
       ],
       "rows_bottom": null
      },
      "text/plain": "              name gender\n0        aada inna      f\n1   aalisha alexis      f\n2   aaliya ebrahim      f\n3  aaliyah hohmann      f\n4   aalyka ebrahim      f",
      "text/html": "<div>\n<style scoped>\n    .dataframe tbody tr th:only-of-type {\n        vertical-align: middle;\n    }\n\n    .dataframe tbody tr th {\n        vertical-align: top;\n    }\n\n    .dataframe thead th {\n        text-align: right;\n    }\n</style>\n<table border=\"1\" class=\"dataframe\">\n  <thead>\n    <tr style=\"text-align: right;\">\n      <th></th>\n      <th>name</th>\n      <th>gender</th>\n    </tr>\n  </thead>\n  <tbody>\n    <tr>\n      <th>0</th>\n      <td>aada inna</td>\n      <td>f</td>\n    </tr>\n    <tr>\n      <th>1</th>\n      <td>aalisha alexis</td>\n      <td>f</td>\n    </tr>\n    <tr>\n      <th>2</th>\n      <td>aaliya ebrahim</td>\n      <td>f</td>\n    </tr>\n    <tr>\n      <th>3</th>\n      <td>aaliyah hohmann</td>\n      <td>f</td>\n    </tr>\n    <tr>\n      <th>4</th>\n      <td>aalyka ebrahim</td>\n      <td>f</td>\n    </tr>\n  </tbody>\n</table>\n</div>"
     },
     "metadata": {}
    }
   ]
  },
  {
   "cell_type": "markdown",
   "source": "## Feature engineering",
   "metadata": {
    "cell_id": "00009-6a38d428-6806-42d6-bdf9-ce4f38117aab",
    "is_collapsed": false,
    "tags": [],
    "deepnote_cell_type": "text-cell-h2"
   }
  },
  {
   "cell_type": "markdown",
   "source": "### Tourneys played",
   "metadata": {
    "cell_id": "00008-05dc878c-fc01-4140-9e70-da3d89a47860",
    "is_collapsed": false,
    "tags": [],
    "deepnote_cell_type": "text-cell-h3"
   }
  },
  {
   "cell_type": "code",
   "metadata": {
    "cell_id": "00003-39d62f33-0711-4ce7-b493-b934dd7a7c78",
    "deepnote_to_be_reexecuted": false,
    "execution_millis": 144,
    "execution_start": 1636929373558,
    "source_hash": "223d3d86",
    "tags": [],
    "output_cleared": false,
    "deepnote_cell_type": "code"
   },
   "source": "df_w = df_tennis.loc[:, ['winner_name', 'tourney_id']].rename(columns={'winner_name': 'name'})\ndf_l = df_tennis.loc[:, ['loser_name', 'tourney_id']].rename(columns={'loser_name': 'name'})\n\n#  giocatori e relativo numero di partecipazioni ai tornei\ndf = pd.concat([df_w, df_l]).groupby('name').tourney_id.nunique().reset_index(name=\"total_tourneys_played\")\n\n# aggiungere feature al data_frame dei profili dei player\ndf_players = df_players.merge(df, on=\"name\")\n\n# stampare dataframe\nprint(len(df))\nprint(len(df_players))",
   "execution_count": null,
   "outputs": [
    {
     "name": "stdout",
     "text": "10103\n10103\n",
     "output_type": "stream"
    }
   ]
  },
  {
   "cell_type": "markdown",
   "source": "### Matches played",
   "metadata": {
    "cell_id": "00005-027c5828-3572-4f88-89d7-7bae902ee473",
    "is_collapsed": false,
    "tags": [],
    "deepnote_cell_type": "text-cell-h3"
   }
  },
  {
   "cell_type": "code",
   "metadata": {
    "cell_id": "00005-54f4defe-bae9-4e9d-a90c-59b4bc23ab2d",
    "deepnote_to_be_reexecuted": false,
    "execution_millis": 99,
    "execution_start": 1636929373713,
    "source_hash": "449072bb",
    "tags": [],
    "output_cleared": false,
    "deepnote_cell_type": "code"
   },
   "source": "df_w = df_tennis.loc[:, ['winner_name', 'tourney_id']].rename(columns={'winner_name': 'name'})\ndf_l = df_tennis.loc[:, ['loser_name', 'tourney_id']].rename(columns={'loser_name': 'name'})\n\n#  giocatori e relativo numero di match giocati\ndf = pd.concat([df_w, df_l]).groupby('name').tourney_id.count().reset_index(name=\"total_matches_played\")\n\n# aggiungere feature al data_frame dei profili dei player\ndf_players = df_players.merge(df, on=\"name\")\n\n# stampare dataframe\nprint(len(df))\nprint(len(df_players))",
   "execution_count": null,
   "outputs": [
    {
     "name": "stdout",
     "text": "10103\n10103\n",
     "output_type": "stream"
    }
   ]
  },
  {
   "cell_type": "markdown",
   "source": "### Matches won",
   "metadata": {
    "cell_id": "00012-9a3e5bfe-b099-4311-841d-f96254921293",
    "is_collapsed": false,
    "tags": [],
    "deepnote_cell_type": "text-cell-h3"
   }
  },
  {
   "cell_type": "code",
   "metadata": {
    "cell_id": "00007-7c9f71b8-4ac7-4062-97fd-1cff9e4df3f5",
    "deepnote_to_be_reexecuted": false,
    "execution_millis": 56,
    "execution_start": 1636929373831,
    "source_hash": "513eebb7",
    "tags": [],
    "output_cleared": false,
    "deepnote_cell_type": "code"
   },
   "source": "df = df_tennis.loc[:, ['winner_name', 'tourney_id']].rename(columns={'winner_name': 'name'})\n\n#  giocatori e relativo numero di match vinti\ndf = df.groupby('name').tourney_id.count().reset_index(name=\"total_matches_won\")\n\n# aggiungere feature al data_frame dei profili dei player\ndf_players = df_players.merge(df, on=\"name\", how=\"left\")\ndf_players.total_matches_won.fillna(0, inplace=True)\n\n# stampare dataframe\nprint(len(df))\nprint(len(df_players))",
   "execution_count": null,
   "outputs": [
    {
     "name": "stdout",
     "text": "6179\n10103\n",
     "output_type": "stream"
    }
   ]
  },
  {
   "cell_type": "markdown",
   "source": "### Matches won ratio",
   "metadata": {
    "tags": [],
    "is_collapsed": false,
    "cell_id": "00017-145c4f0b-7ad1-44c1-8857-89fe4b90ba26",
    "deepnote_cell_type": "text-cell-h3"
   }
  },
  {
   "cell_type": "code",
   "metadata": {
    "tags": [],
    "cell_id": "00015-cfdd4a5e-b1a8-489e-86a0-833011ab2b06",
    "deepnote_to_be_reexecuted": false,
    "source_hash": "34bbd411",
    "execution_start": 1636929373888,
    "execution_millis": 9,
    "output_cleared": true,
    "deepnote_cell_type": "code"
   },
   "source": "df_players[\"matches_won_ratio\"] = df_players[\"total_matches_won\"] / df_players[\"total_matches_played\"]",
   "execution_count": null,
   "outputs": []
  },
  {
   "cell_type": "markdown",
   "source": "### Mean, max, min, entropy of performance_index",
   "metadata": {
    "cell_id": "00020-21326ab5-8361-4bf1-8d48-a2ee71b76e18",
    "is_collapsed": false,
    "tags": [],
    "deepnote_cell_type": "text-cell-h3"
   }
  },
  {
   "cell_type": "code",
   "metadata": {
    "cell_id": "00016-8fe8aeab-e3ee-44f2-acdc-b36c5693a6a1",
    "deepnote_to_be_reexecuted": false,
    "source_hash": "542a2bd7",
    "execution_start": 1636929373908,
    "execution_millis": 428,
    "deepnote_cell_type": "code"
   },
   "source": "df_w = df_tennis.loc[:, ['winner_name', 'tourney_id', \"draw_size\"]].rename(columns={'winner_name': 'name'})\ndf_l = df_tennis.loc[:, ['loser_name', 'tourney_id', \"draw_size\"]].rename(columns={'loser_name': 'name'})\n\nmatches_won_per_tourney = df_w.groupby(['name', 'tourney_id']).tourney_id.count().reset_index(name=\"total_matches_won_per_tourney\")\ndf = pd.concat([df_w, df_l])\ndf = df.merge(matches_won_per_tourney, on=['name', 'tourney_id'], how=\"left\")\ndf[\"total_matches_won_per_tourney\"] = df[\"total_matches_won_per_tourney\"].fillna(0).astype('Int32')\n\ndf[\"matches_to_play_per_tourney\"] = np.log2(df[\"draw_size\"]) + 1\ndf[\"performance_index\"] = df[\"total_matches_won_per_tourney\"] / df[\"matches_to_play_per_tourney\"]\n# If performance_index is bigger than 1 (won more matches than the number of matches I am supposed to play), then set it to 1. That's the case of extra qualifications\ndf[\"performance_index\"].clip(lower=0, upper=1, inplace=True)\n\n# Stats about performance_index\ndf_stats = df.groupby('name')['performance_index'].agg(mean_performance_index='mean', max_performance_index='max', min_performance_index='min')\n\n# Entropy of performance_index\n# g_sum = df.groupby('name')['performance_index'].transform('sum')\n# values = df['performance_index']/g_sum\n# df['performance_index_entropy'] = -values*np.log(values)\n# df_entropy = df.groupby('name')['performance_index_entropy'].sum().reset_index()\n\n# Merge stats and entropy with players\ndf_players = df_players.merge(df_stats, on=\"name\")\n# df_players = df_players.merge(df_entropy, on=\"name\")\n#del df_entropy, df_stats",
   "execution_count": null,
   "outputs": []
  },
  {
   "cell_type": "markdown",
   "source": "### Height",
   "metadata": {
    "cell_id": "00004-61bb3085-2df2-489a-ab3b-2a29a018ae9f",
    "is_collapsed": false,
    "tags": [],
    "deepnote_cell_type": "text-cell-h3"
   }
  },
  {
   "cell_type": "markdown",
   "source": "Feature probabilmente inutilizzabile, l'abbiamo solo per 541 giocatori",
   "metadata": {
    "cell_id": "00020-b76a4886-bccc-41be-a21d-20402808aa27",
    "tags": [],
    "deepnote_cell_type": "markdown"
   }
  },
  {
   "cell_type": "code",
   "metadata": {
    "cell_id": "00005-a7c4542c-e696-42b4-bf1e-206fce7509eb",
    "deepnote_to_be_reexecuted": false,
    "execution_millis": 116,
    "execution_start": 1636929374366,
    "source_hash": "552c5774",
    "tags": [],
    "output_cleared": false,
    "deepnote_cell_type": "code"
   },
   "source": "df_w = df_tennis.loc[:, ['winner_name', 'winner_ht', 'tourney_date']].rename(columns={'winner_name': 'name', 'winner_ht': 'ht'})\ndf_l = df_tennis.loc[:, ['loser_name', 'loser_ht', 'tourney_date']].rename(columns={'loser_name': 'name', 'loser_ht': 'ht'})\n\n# giocatori e relativa altezza\ndf = pd.concat([df_w, df_l]).sort_values('tourney_date', ascending='False').groupby('name').ht.first().reset_index()\n\n# aggiungere feature al data_frame dei profili dei player\ndf_players = df_players.merge(df, on=\"name\")\n\n# stampare numero di valori nulli e dataframe\nprint('Numero giocatori per cui abbiamo altezza ' + str(len(df[df.ht.notnull()])))\nprint('Numero giocatori totali ' + str(len(df)))\ndf\n\nprint(len(df))\nprint(len(df_players))",
   "execution_count": null,
   "outputs": [
    {
     "name": "stdout",
     "text": "Numero giocatori per cui abbiamo altezza 541\nNumero giocatori totali 10103\n10103\n10103\n",
     "output_type": "stream"
    }
   ]
  },
  {
   "cell_type": "markdown",
   "source": "### Age",
   "metadata": {
    "cell_id": "00006-de571e94-5140-4939-a4a7-3b13a9c91869",
    "is_collapsed": false,
    "tags": [],
    "deepnote_cell_type": "text-cell-h3"
   }
  },
  {
   "cell_type": "code",
   "metadata": {
    "cell_id": "00007-74e95c47-38b9-4ecb-a46c-a8d09da758e0",
    "deepnote_to_be_reexecuted": false,
    "execution_millis": 303,
    "execution_start": 1636929374491,
    "source_hash": "e1c0834a",
    "tags": [],
    "output_cleared": false,
    "deepnote_cell_type": "code"
   },
   "source": "df_w = df_tennis.loc[:, ['winner_name', 'winner_age', 'tourney_date']].rename(columns={'winner_name': 'name', 'winner_age': 'age'})\ndf_l = (df_tennis.loc[:, ['loser_name', 'loser_age', 'tourney_date']]).rename(columns={'loser_name': 'name', 'loser_age': 'age'})\n\n# giocatori e relativa età\ndf = pd.concat([df_w, df_l]).sort_values('tourney_date', ascending='False').groupby('name').age.first().reset_index()\n\n# aggiungere feature al data_frame dei profili dei player\ndf_players = df_players.merge(df, on=\"name\")\n\n# stampare numero di valori nulli e dataframe\nprint('Numero giocatori per cui abbiamo l\\'età ' + str(len(df[df.age.notnull()])))\nprint('Numero giocatori totali ' + str(len(df)))\ndf\n\nprint(len(df))\nprint(len(df_players))\n",
   "execution_count": null,
   "outputs": [
    {
     "name": "stdout",
     "text": "Numero giocatori per cui abbiamo l'età 8012\nNumero giocatori totali 10103\n10103\n10103\n",
     "output_type": "stream"
    }
   ]
  },
  {
   "cell_type": "markdown",
   "source": "### Hand",
   "metadata": {
    "cell_id": "00007-281c7043-a12f-4590-a603-a520172915e8",
    "is_collapsed": false,
    "tags": [],
    "deepnote_cell_type": "text-cell-h3"
   }
  },
  {
   "cell_type": "code",
   "metadata": {
    "cell_id": "00008-b86f7be5-e75f-471a-8ceb-95d5cff67137",
    "deepnote_to_be_reexecuted": false,
    "execution_millis": 2444,
    "execution_start": 1636929374665,
    "source_hash": "f62f8cf6",
    "tags": [],
    "output_cleared": false,
    "deepnote_cell_type": "code"
   },
   "source": "df_w = df_tennis.loc[:, ['winner_name', 'winner_hand']].rename(columns={'winner_name': 'name', 'winner_hand': 'hand'})\ndf_l = (df_tennis.loc[:, ['loser_name', 'loser_hand']]).rename(columns={'loser_name': 'name', 'loser_hand': 'hand'})\n\n# giocatori e relativa mano preferita\ndf = pd.concat([df_w, df_l]).groupby('name').hand.agg(pd.Series.mode).reset_index()\n\n# aggiungere feature al data_frame dei profili dei player\ndf_players = df_players.merge(df, on=\"name\")\n\n# stampare numero di valori nulli e dataframe\nprint('Numero giocatori per cui abbiamo la mano ' + str(len(df[df.hand.notnull()])))\nprint('Numero giocatori totali ' + str(len(df)))\ndf\n\nprint(len(df))\nprint(len(df_players))",
   "execution_count": null,
   "outputs": [
    {
     "name": "stdout",
     "text": "Numero giocatori per cui abbiamo la mano 10103\nNumero giocatori totali 10103\n10103\n10103\n",
     "output_type": "stream"
    }
   ]
  },
  {
   "cell_type": "markdown",
   "source": "### Mean, max, entropy of minutes",
   "metadata": {
    "cell_id": "00024-5226a9a6-4b34-4c0d-8c23-ed3ad882f431",
    "deepnote_cell_type": "markdown"
   }
  },
  {
   "cell_type": "code",
   "metadata": {
    "cell_id": "00025-6b7cac24-05f6-4d82-8a62-95f53026e0b7",
    "deepnote_to_be_reexecuted": false,
    "source_hash": "1ee9964a",
    "execution_start": 1636929377089,
    "execution_millis": 238,
    "deepnote_cell_type": "code"
   },
   "source": "df_w = df_tennis.loc[:, ['winner_name', 'minutes']].rename(columns={'winner_name': 'name'})\ndf_l = df_tennis.loc[:, ['loser_name', 'minutes']].rename(columns={'loser_name': 'name'})\n\n# Mean and max minutes\ndf = pd.concat([df_w, df_l]).groupby('name')['minutes'].agg(mean_minutes='mean', max_minutes='max')\ndf_players = df_players.merge(df, on=\"name\")\n\n# Entropy\ndf = pd.concat([df_w, df_l])\ng_sum = df.groupby('name')['minutes'].transform('sum')\nvalues = df['minutes']/g_sum\ndf['minutes_entropy'] = -(values*np.log(values))\ndf_entropy = df.groupby('name')['minutes_entropy'].sum().reset_index()\n\ndf_players = df_players.merge(df_entropy, on=\"name\")",
   "execution_count": null,
   "outputs": [
    {
     "name": "stderr",
     "text": "/shared-libs/python3.9/py/lib/python3.9/site-packages/pandas/core/arraylike.py:358: RuntimeWarning: divide by zero encountered in log\n  result = getattr(ufunc, method)(*inputs, **kwargs)\n",
     "output_type": "stream"
    }
   ]
  },
  {
   "cell_type": "markdown",
   "source": "### Ranking",
   "metadata": {
    "cell_id": "00019-cb201105-9966-4f97-92fe-45c5d78d33b6",
    "is_collapsed": false,
    "tags": [],
    "deepnote_cell_type": "text-cell-h3"
   }
  },
  {
   "cell_type": "code",
   "metadata": {
    "cell_id": "00017-9cb4ac3a-d191-420b-b2c0-417a5ee66375",
    "deepnote_to_be_reexecuted": false,
    "execution_millis": 2180,
    "execution_start": 1636929377338,
    "source_hash": "993aa301",
    "tags": [],
    "output_cleared": false,
    "deepnote_cell_type": "code"
   },
   "source": "df_w = df_tennis.loc[:, ['winner_name', 'winner_rank_points', 'tourney_date']].rename(columns={'winner_name': 'name', 'winner_rank_points': 'rank_points'})\ndf_l = (df_tennis.loc[:, ['loser_name', 'loser_rank_points', 'tourney_date']]).rename(columns={'loser_name': 'name', 'loser_rank_points': 'rank_points'})\n\n# giocatori e relative misure su ranking (varianza, media, max)\ndf = pd.concat([df_l, df_w]).sort_values('tourney_date', ascending = False).groupby('name').rank_points.agg(mean_rank_points='mean', max_rank_points='max', last_rank_points='first', variance_rank_points=lambda x: np.var(x,ddof=0)).reset_index()\n\n# aggiungere feature al data_frame dei profili dei player\ndf_players = df_players.merge(df, on=\"name\")\n\n# stampare numero di valori nulli e dataframe\nprint('numero di valori null mean_rank_points ' + str(df.mean_rank_points.isna().sum()) + ' su ' + str(len(df.mean_rank_points)))\nprint('numero di valori null max_rank_points ' + str(df.max_rank_points.isna().sum()) + ' su ' + str(len(df.mean_rank_points)))\nprint('numero di valori null last_rank_points ' + str(df.last_rank_points.isna().sum()) + ' su ' + str(len(df.mean_rank_points)))\nprint('numero di valori null variance_rank_points ' + str(df.variance_rank_points.isna().sum()) + ' su ' + str(len(df.variance_rank_points)))\ndf\n\nprint(len(df))\nprint(len(df_players))",
   "execution_count": null,
   "outputs": [
    {
     "name": "stdout",
     "text": "numero di valori null mean_rank_points 5656 su 10103\nnumero di valori null max_rank_points 5656 su 10103\nnumero di valori null last_rank_points 5656 su 10103\nnumero di valori null variance_rank_points 5656 su 10103\n10103\n10103\n",
     "output_type": "stream"
    }
   ]
  },
  {
   "cell_type": "markdown",
   "source": "### Spectator",
   "metadata": {
    "cell_id": "00024-67fc80ff-dc20-4c7c-9952-9c1a7be5511f",
    "is_collapsed": false,
    "tags": [],
    "deepnote_cell_type": "text-cell-h3"
   }
  },
  {
   "cell_type": "code",
   "metadata": {
    "cell_id": "00024-41e99b0f-16a3-418c-b2e9-7d4551f46734",
    "deepnote_to_be_reexecuted": false,
    "execution_millis": 116,
    "execution_start": 1636929379531,
    "source_hash": "ada4c700",
    "tags": [],
    "output_cleared": false,
    "deepnote_cell_type": "code"
   },
   "source": "df_w = df_tennis.loc[:, ['winner_name', 'tourney_spectators']].rename(columns = {'winner_name': 'name'})\ndf_l = (df_tennis.loc[:, ['loser_name', 'tourney_spectators']]).rename(columns = {'loser_name': 'name'})\n\n# giocatori e relative misure sugli spectator (media e max)\ndf = pd.concat([df_l, df_w]).groupby('name').tourney_spectators.agg(mean_tourney_spectators='mean', max_tourney_spectators='max').reset_index()\n\n# aggiungere feature al data_frame dei profili dei player\ndf_players = df_players.merge(df, on=\"name\")\n\n# stampare numero di valori nulli e dataframe\nprint('Numero di nulli in mean_tourney_spectators ' + str(df.mean_tourney_spectators.isna().sum()))\nprint('Numero di nulli in max_tourney_spectators ' + str(df.max_tourney_spectators.isna().sum()))\ndf\n\n\nprint(len(df))\nprint(len(df_players))",
   "execution_count": null,
   "outputs": [
    {
     "name": "stdout",
     "text": "Numero di nulli in mean_tourney_spectators 0\nNumero di nulli in max_tourney_spectators 0\n10103\n10103\n",
     "output_type": "stream"
    }
   ]
  },
  {
   "cell_type": "markdown",
   "source": "### Revenue",
   "metadata": {
    "cell_id": "00025-885fd7a5-8de2-4538-8379-94c820528af9",
    "is_collapsed": false,
    "tags": [],
    "deepnote_cell_type": "text-cell-h3"
   }
  },
  {
   "cell_type": "code",
   "metadata": {
    "cell_id": "00026-742b09e3-5a35-4d24-9575-3ae24eebc4ee",
    "deepnote_to_be_reexecuted": false,
    "execution_millis": 92,
    "execution_start": 1636929379658,
    "source_hash": "c10be9e0",
    "tags": [],
    "output_cleared": false,
    "deepnote_cell_type": "code"
   },
   "source": "df_w = df_tennis.loc[:, ['winner_name', 'tourney_revenue']].rename(columns = {'winner_name': 'name'})\ndf_l = (df_tennis.loc[:, ['loser_name', 'tourney_revenue']]).rename(columns = {'loser_name': 'name'})\n\n# giocatori e relative misure su revenue (media e max)\ndf = pd.concat([df_l, df_w]).groupby('name').tourney_revenue.agg(mean_tourney_revenue='mean', max_tourney_revenue='max').reset_index()\n\n# aggiungere feature al data_frame dei profili dei player\ndf_players = df_players.merge(df, on=\"name\")\n\n# stampare numero di valori nulli e dataframe\nprint('Numero di nulli in mean_tourney_revenue ' + str(df.mean_tourney_revenue.isna().sum()))\nprint('Numero di nulli in max_tourney_revenue ' + str(df.max_tourney_revenue.isna().sum()))\ndf\n\nprint(len(df))\nprint(len(df_players))",
   "execution_count": null,
   "outputs": [
    {
     "name": "stdout",
     "text": "Numero di nulli in mean_tourney_revenue 0\nNumero di nulli in max_tourney_revenue 0\n10103\n10103\n",
     "output_type": "stream"
    }
   ]
  },
  {
   "cell_type": "markdown",
   "source": "### Player in-match features",
   "metadata": {
    "tags": [],
    "is_collapsed": false,
    "cell_id": "00034-ee189a61-70cc-4113-9509-231478a23652",
    "deepnote_cell_type": "text-cell-h3"
   }
  },
  {
   "cell_type": "code",
   "metadata": {
    "tags": [],
    "cell_id": "00032-999ff1b1-0c41-4fba-afaa-a710577b084b",
    "deepnote_to_be_reexecuted": false,
    "source_hash": "514ff48a",
    "execution_start": 1636929379753,
    "execution_millis": 55,
    "output_cleared": true,
    "deepnote_cell_type": "code"
   },
   "source": "# Those feature where also used to check possible outliers, but nothing particullarry significant was found\n\ndf_tennis['rel_w_ace'] = df_tennis['w_ace']/df_tennis['w_svpt']\ndf_tennis['rel_l_ace'] = df_tennis['l_ace']/df_tennis['l_svpt']\n\ndf_tennis['rel_w_df'] = df_tennis['w_df']/df_tennis['w_svpt']\ndf_tennis['rel_l_df'] = df_tennis['l_df']/df_tennis['l_svpt']\n\ndf_tennis['rel_w_1stIn'] = df_tennis['w_1stIn']/df_tennis['w_svpt']\ndf_tennis['rel_l_1stIn'] = df_tennis['l_1stIn']/df_tennis['l_svpt']\n\ndf_tennis['rel_w_1stWon'] = df_tennis['w_1stWon']/df_tennis['w_svpt']\ndf_tennis['rel_l_1stWon'] = df_tennis['l_1stWon']/df_tennis['l_svpt']\n\ndf_tennis['rel_w_2ndWon'] = df_tennis['w_2ndWon']/df_tennis['w_svpt']\ndf_tennis['rel_l_2ndWon'] = df_tennis['l_2ndWon']/df_tennis['l_svpt']\n\ndf_tennis['w_1WonOn1In'] = df_tennis['w_1stWon']/df_tennis['w_1stIn']\ndf_tennis['l_1WonOn1In'] = df_tennis['l_1stWon']/df_tennis['l_1stIn']\n\ndf_tennis['w_1WonOnTotWon'] = df_tennis['w_1stWon']/(df_tennis['w_2ndWon'] + df_tennis['w_1stWon'])\ndf_tennis['l_1WonOnTotWon'] = df_tennis['l_1stWon']/(df_tennis['l_2ndWon'] + df_tennis['l_1stWon'])\n\ndf_tennis['rel_w_ptsWon'] = (df_tennis['w_1stWon'] + df_tennis['w_2ndWon'])/(df_tennis['w_1stWon'] + df_tennis['w_2ndWon'] + df_tennis['l_1stWon'] + df_tennis['l_2ndWon'])\ndf_tennis['rel_l_ptsWon'] = (df_tennis['l_1stWon'] + df_tennis['l_2ndWon'])/(df_tennis['w_1stWon'] + df_tennis['w_2ndWon'] + df_tennis['l_1stWon'] + df_tennis['l_2ndWon'])\n\ndf_tennis['rel_w_bpFaced'] = df_tennis['w_bpFaced']/(df_tennis['w_svpt'] + df_tennis['l_svpt'])\ndf_tennis['rel_l_bpFaced'] = df_tennis['l_bpFaced']/(df_tennis['w_svpt'] + df_tennis['l_svpt'])\n\ndf_tennis['rel_w_bpSaved'] = df_tennis['w_bpSaved']/df_tennis['w_bpFaced']\ndf_tennis['rel_l_bpSaved'] = df_tennis['l_bpSaved']/df_tennis['l_bpFaced']\n\ndf_tennis['rel_w_gmsWon'] = df_tennis['w_gmsWon']/(df_tennis['w_gmsWon'] + df_tennis['l_gmsWon'])\ndf_tennis['rel_l_gmsWon'] = df_tennis['l_gmsWon']/(df_tennis['w_gmsWon'] + df_tennis['l_gmsWon'])",
   "execution_count": null,
   "outputs": []
  },
  {
   "cell_type": "code",
   "metadata": {
    "tags": [],
    "cell_id": "00035-0c8e60d9-b144-4d99-b1d8-027a2bab6c21",
    "deepnote_to_be_reexecuted": false,
    "source_hash": "e3db8be1",
    "execution_start": 1636929379810,
    "execution_millis": 140,
    "output_cleared": false,
    "deepnote_cell_type": "code"
   },
   "source": "df_winner = df_tennis.loc[:, ['winner_name', 'rel_w_ace', 'rel_w_df', 'rel_w_1stIn', 'rel_w_1stWon', 'rel_w_2ndWon', 'w_1WonOn1In', 'w_1WonOnTotWon', 'rel_w_ptsWon', 'rel_w_bpFaced', 'rel_w_bpSaved', 'rel_w_gmsWon']]\ndf_loser = df_tennis.loc[:, ['loser_name', 'rel_l_ace', 'rel_l_df', 'rel_l_1stIn', 'rel_l_1stWon', 'rel_l_2ndWon', 'l_1WonOn1In', 'l_1WonOnTotWon', 'rel_l_ptsWon', 'rel_l_bpFaced', 'rel_l_bpSaved', 'rel_l_gmsWon']]\nren_attr_list = ['name', 'rel_ace', 'rel_df', 'rel_1stIn', 'rel_1stWon', 'rel_2ndWon', '1WonOn1In', '1WonOnTotWon', 'rel_ptsWon', 'rel_bpFaced', 'rel_bpSaved', 'rel_gmsWon']\n\ndf_winner.set_axis(ren_attr_list, axis=1, inplace=True)\ndf_loser.set_axis(ren_attr_list, axis=1, inplace=True)\ndf = pd.concat([df_winner, df_loser]).groupby('name').mean().reset_index()\n\ndf_players = df_players.merge(df, on=\"name\")",
   "execution_count": null,
   "outputs": []
  },
  {
   "cell_type": "markdown",
   "source": "## Feature selection",
   "metadata": {
    "tags": [],
    "is_collapsed": false,
    "cell_id": "00042-d3713447-0a80-47e8-a493-4ec3f5737baa",
    "deepnote_cell_type": "text-cell-h2"
   }
  },
  {
   "cell_type": "code",
   "metadata": {
    "tags": [],
    "cell_id": "00035-0a62ec37-973e-4224-b703-e73955c05170",
    "deepnote_to_be_reexecuted": false,
    "source_hash": "7bb2a531",
    "execution_start": 1636929380003,
    "execution_millis": 4,
    "deepnote_cell_type": "code"
   },
   "source": "df_players.info()",
   "execution_count": null,
   "outputs": [
    {
     "name": "stdout",
     "text": "<class 'pandas.core.frame.DataFrame'>\nInt64Index: 10103 entries, 0 to 10102\nData columns (total 34 columns):\n #   Column                   Non-Null Count  Dtype  \n---  ------                   --------------  -----  \n 0   name                     10103 non-null  object \n 1   gender                   10103 non-null  object \n 2   total_tourneys_played    10103 non-null  int64  \n 3   total_matches_played     10103 non-null  int64  \n 4   total_matches_won        10103 non-null  float64\n 5   matches_won_ratio        10103 non-null  float64\n 6   mean_performance_index   10103 non-null  Float64\n 7   max_performance_index    10103 non-null  Float64\n 8   min_performance_index    10103 non-null  Float64\n 9   ht                       541 non-null    float64\n 10  age                      8012 non-null   float64\n 11  hand                     10103 non-null  object \n 12  mean_minutes             4237 non-null   float64\n 13  max_minutes              4237 non-null   float64\n 14  minutes_entropy          10103 non-null  float64\n 15  mean_rank_points         4447 non-null   float64\n 16  max_rank_points          4447 non-null   float64\n 17  last_rank_points         4447 non-null   float64\n 18  variance_rank_points     4447 non-null   float64\n 19  mean_tourney_spectators  10103 non-null  float64\n 20  max_tourney_spectators   10103 non-null  float64\n 21  mean_tourney_revenue     10103 non-null  float64\n 22  max_tourney_revenue      10103 non-null  float64\n 23  rel_ace                  4253 non-null   float64\n 24  rel_df                   4253 non-null   float64\n 25  rel_1stIn                4253 non-null   float64\n 26  rel_1stWon               4253 non-null   float64\n 27  rel_2ndWon               4253 non-null   float64\n 28  1WonOn1In                4253 non-null   float64\n 29  1WonOnTotWon             4253 non-null   float64\n 30  rel_ptsWon               4253 non-null   float64\n 31  rel_bpFaced              4253 non-null   float64\n 32  rel_bpSaved              4246 non-null   float64\n 33  rel_gmsWon               10047 non-null  float64\ndtypes: Float64(3), float64(26), int64(2), object(3)\nmemory usage: 2.7+ MB\n",
     "output_type": "stream"
    }
   ]
  },
  {
   "cell_type": "code",
   "metadata": {
    "tags": [],
    "cell_id": "00035-13c9a5ac-bec4-4204-96aa-946473f17426",
    "deepnote_to_be_reexecuted": false,
    "source_hash": "78afe156",
    "execution_start": 1636929380046,
    "execution_millis": 113,
    "deepnote_cell_type": "code"
   },
   "source": "df_players.head()",
   "execution_count": null,
   "outputs": [
    {
     "output_type": "execute_result",
     "execution_count": 19,
     "data": {
      "application/vnd.deepnote.dataframe.v2+json": {
       "row_count": 5,
       "column_count": 34,
       "columns": [
        {
         "name": "name",
         "dtype": "object",
         "stats": {
          "unique_count": 5,
          "nan_count": 0,
          "categories": [
           {
            "name": "aada inna",
            "count": 1
           },
           {
            "name": "aalisha alexis",
            "count": 1
           },
           {
            "name": "3 others",
            "count": 3
           }
          ]
         }
        },
        {
         "name": "gender",
         "dtype": "object",
         "stats": {
          "unique_count": 1,
          "nan_count": 0,
          "categories": [
           {
            "name": "f",
            "count": 5
           }
          ]
         }
        },
        {
         "name": "total_tourneys_played",
         "dtype": "int64",
         "stats": {
          "unique_count": 4,
          "nan_count": 0,
          "min": "1",
          "max": "7",
          "histogram": [
           {
            "bin_start": 1,
            "bin_end": 1.6,
            "count": 1
           },
           {
            "bin_start": 1.6,
            "bin_end": 2.2,
            "count": 2
           },
           {
            "bin_start": 2.2,
            "bin_end": 2.8,
            "count": 0
           },
           {
            "bin_start": 2.8,
            "bin_end": 3.4,
            "count": 0
           },
           {
            "bin_start": 3.4,
            "bin_end": 4,
            "count": 0
           },
           {
            "bin_start": 4,
            "bin_end": 4.6,
            "count": 1
           },
           {
            "bin_start": 4.6,
            "bin_end": 5.2,
            "count": 0
           },
           {
            "bin_start": 5.2,
            "bin_end": 5.8,
            "count": 0
           },
           {
            "bin_start": 5.8,
            "bin_end": 6.3999999999999995,
            "count": 0
           },
           {
            "bin_start": 6.3999999999999995,
            "bin_end": 7,
            "count": 1
           }
          ]
         }
        },
        {
         "name": "total_matches_played",
         "dtype": "int64",
         "stats": {
          "unique_count": 5,
          "nan_count": 0,
          "min": "1",
          "max": "9",
          "histogram": [
           {
            "bin_start": 1,
            "bin_end": 1.8,
            "count": 1
           },
           {
            "bin_start": 1.8,
            "bin_end": 2.6,
            "count": 1
           },
           {
            "bin_start": 2.6,
            "bin_end": 3.4000000000000004,
            "count": 1
           },
           {
            "bin_start": 3.4000000000000004,
            "bin_end": 4.2,
            "count": 1
           },
           {
            "bin_start": 4.2,
            "bin_end": 5,
            "count": 0
           },
           {
            "bin_start": 5,
            "bin_end": 5.800000000000001,
            "count": 0
           },
           {
            "bin_start": 5.800000000000001,
            "bin_end": 6.6000000000000005,
            "count": 0
           },
           {
            "bin_start": 6.6000000000000005,
            "bin_end": 7.4,
            "count": 0
           },
           {
            "bin_start": 7.4,
            "bin_end": 8.2,
            "count": 0
           },
           {
            "bin_start": 8.2,
            "bin_end": 9,
            "count": 1
           }
          ]
         }
        },
        {
         "name": "total_matches_won",
         "dtype": "float64",
         "stats": {
          "unique_count": 3,
          "nan_count": 0,
          "min": "0.0",
          "max": "2.0",
          "histogram": [
           {
            "bin_start": 0,
            "bin_end": 0.2,
            "count": 3
           },
           {
            "bin_start": 0.2,
            "bin_end": 0.4,
            "count": 0
           },
           {
            "bin_start": 0.4,
            "bin_end": 0.6000000000000001,
            "count": 0
           },
           {
            "bin_start": 0.6000000000000001,
            "bin_end": 0.8,
            "count": 0
           },
           {
            "bin_start": 0.8,
            "bin_end": 1,
            "count": 0
           },
           {
            "bin_start": 1,
            "bin_end": 1.2000000000000002,
            "count": 1
           },
           {
            "bin_start": 1.2000000000000002,
            "bin_end": 1.4000000000000001,
            "count": 0
           },
           {
            "bin_start": 1.4000000000000001,
            "bin_end": 1.6,
            "count": 0
           },
           {
            "bin_start": 1.6,
            "bin_end": 1.8,
            "count": 0
           },
           {
            "bin_start": 1.8,
            "bin_end": 2,
            "count": 1
           }
          ]
         }
        },
        {
         "name": "matches_won_ratio",
         "dtype": "float64",
         "stats": {
          "unique_count": 3,
          "nan_count": 0,
          "min": "0.0",
          "max": "0.3333333333333333",
          "histogram": [
           {
            "bin_start": 0,
            "bin_end": 0.03333333333333333,
            "count": 3
           },
           {
            "bin_start": 0.03333333333333333,
            "bin_end": 0.06666666666666667,
            "count": 0
           },
           {
            "bin_start": 0.06666666666666667,
            "bin_end": 0.1,
            "count": 0
           },
           {
            "bin_start": 0.1,
            "bin_end": 0.13333333333333333,
            "count": 0
           },
           {
            "bin_start": 0.13333333333333333,
            "bin_end": 0.16666666666666666,
            "count": 0
           },
           {
            "bin_start": 0.16666666666666666,
            "bin_end": 0.2,
            "count": 0
           },
           {
            "bin_start": 0.2,
            "bin_end": 0.23333333333333334,
            "count": 1
           },
           {
            "bin_start": 0.23333333333333334,
            "bin_end": 0.26666666666666666,
            "count": 0
           },
           {
            "bin_start": 0.26666666666666666,
            "bin_end": 0.3,
            "count": 0
           },
           {
            "bin_start": 0.3,
            "bin_end": 0.3333333333333333,
            "count": 1
           }
          ]
         }
        },
        {
         "name": "mean_performance_index",
         "dtype": "Float64",
         "stats": {
          "unique_count": 3,
          "nan_count": 0,
          "categories": [
           {
            "name": "0.0",
            "count": 3
           },
           {
            "name": "0.07407407407407407",
            "count": 1
           },
           {
            "name": "0.1111111111111111",
            "count": 1
           }
          ]
         }
        },
        {
         "name": "max_performance_index",
         "dtype": "Float64",
         "stats": {
          "unique_count": 2,
          "nan_count": 0,
          "categories": [
           {
            "name": "0.0",
            "count": 3
           },
           {
            "name": "0.16666666666666666",
            "count": 2
           }
          ]
         }
        },
        {
         "name": "min_performance_index",
         "dtype": "Float64",
         "stats": {
          "unique_count": 1,
          "nan_count": 0,
          "categories": [
           {
            "name": "0.0",
            "count": 5
           }
          ]
         }
        },
        {
         "name": "ht",
         "dtype": "float64",
         "stats": {
          "unique_count": 0,
          "nan_count": 5,
          "min": null,
          "max": null,
          "histogram": [
           {
            "bin_start": 0,
            "bin_end": 0.1,
            "count": 0
           },
           {
            "bin_start": 0.1,
            "bin_end": 0.2,
            "count": 0
           },
           {
            "bin_start": 0.2,
            "bin_end": 0.30000000000000004,
            "count": 0
           },
           {
            "bin_start": 0.30000000000000004,
            "bin_end": 0.4,
            "count": 0
           },
           {
            "bin_start": 0.4,
            "bin_end": 0.5,
            "count": 0
           },
           {
            "bin_start": 0.5,
            "bin_end": 0.6000000000000001,
            "count": 0
           },
           {
            "bin_start": 0.6000000000000001,
            "bin_end": 0.7000000000000001,
            "count": 0
           },
           {
            "bin_start": 0.7000000000000001,
            "bin_end": 0.8,
            "count": 0
           },
           {
            "bin_start": 0.8,
            "bin_end": 0.9,
            "count": 0
           },
           {
            "bin_start": 0.9,
            "bin_end": 1,
            "count": 0
           }
          ]
         }
        },
        {
         "name": "age",
         "dtype": "float64",
         "stats": {
          "unique_count": 0,
          "nan_count": 5,
          "min": null,
          "max": null,
          "histogram": [
           {
            "bin_start": 0,
            "bin_end": 0.1,
            "count": 0
           },
           {
            "bin_start": 0.1,
            "bin_end": 0.2,
            "count": 0
           },
           {
            "bin_start": 0.2,
            "bin_end": 0.30000000000000004,
            "count": 0
           },
           {
            "bin_start": 0.30000000000000004,
            "bin_end": 0.4,
            "count": 0
           },
           {
            "bin_start": 0.4,
            "bin_end": 0.5,
            "count": 0
           },
           {
            "bin_start": 0.5,
            "bin_end": 0.6000000000000001,
            "count": 0
           },
           {
            "bin_start": 0.6000000000000001,
            "bin_end": 0.7000000000000001,
            "count": 0
           },
           {
            "bin_start": 0.7000000000000001,
            "bin_end": 0.8,
            "count": 0
           },
           {
            "bin_start": 0.8,
            "bin_end": 0.9,
            "count": 0
           },
           {
            "bin_start": 0.9,
            "bin_end": 1,
            "count": 0
           }
          ]
         }
        },
        {
         "name": "hand",
         "dtype": "object",
         "stats": {
          "unique_count": 2,
          "nan_count": 0,
          "categories": [
           {
            "name": "u",
            "count": 4
           },
           {
            "name": "r",
            "count": 1
           }
          ]
         }
        },
        {
         "name": "mean_minutes",
         "dtype": "float64",
         "stats": {
          "unique_count": 0,
          "nan_count": 5,
          "min": null,
          "max": null,
          "histogram": [
           {
            "bin_start": 0,
            "bin_end": 0.1,
            "count": 0
           },
           {
            "bin_start": 0.1,
            "bin_end": 0.2,
            "count": 0
           },
           {
            "bin_start": 0.2,
            "bin_end": 0.30000000000000004,
            "count": 0
           },
           {
            "bin_start": 0.30000000000000004,
            "bin_end": 0.4,
            "count": 0
           },
           {
            "bin_start": 0.4,
            "bin_end": 0.5,
            "count": 0
           },
           {
            "bin_start": 0.5,
            "bin_end": 0.6000000000000001,
            "count": 0
           },
           {
            "bin_start": 0.6000000000000001,
            "bin_end": 0.7000000000000001,
            "count": 0
           },
           {
            "bin_start": 0.7000000000000001,
            "bin_end": 0.8,
            "count": 0
           },
           {
            "bin_start": 0.8,
            "bin_end": 0.9,
            "count": 0
           },
           {
            "bin_start": 0.9,
            "bin_end": 1,
            "count": 0
           }
          ]
         }
        },
        {
         "name": "max_minutes",
         "dtype": "float64",
         "stats": {
          "unique_count": 0,
          "nan_count": 5,
          "min": null,
          "max": null,
          "histogram": [
           {
            "bin_start": 0,
            "bin_end": 0.1,
            "count": 0
           },
           {
            "bin_start": 0.1,
            "bin_end": 0.2,
            "count": 0
           },
           {
            "bin_start": 0.2,
            "bin_end": 0.30000000000000004,
            "count": 0
           },
           {
            "bin_start": 0.30000000000000004,
            "bin_end": 0.4,
            "count": 0
           },
           {
            "bin_start": 0.4,
            "bin_end": 0.5,
            "count": 0
           },
           {
            "bin_start": 0.5,
            "bin_end": 0.6000000000000001,
            "count": 0
           },
           {
            "bin_start": 0.6000000000000001,
            "bin_end": 0.7000000000000001,
            "count": 0
           },
           {
            "bin_start": 0.7000000000000001,
            "bin_end": 0.8,
            "count": 0
           },
           {
            "bin_start": 0.8,
            "bin_end": 0.9,
            "count": 0
           },
           {
            "bin_start": 0.9,
            "bin_end": 1,
            "count": 0
           }
          ]
         }
        },
        {
         "name": "minutes_entropy",
         "dtype": "float64",
         "stats": {
          "unique_count": 1,
          "nan_count": 0,
          "min": "0.0",
          "max": "0.0",
          "histogram": [
           {
            "bin_start": -0.5,
            "bin_end": -0.4,
            "count": 0
           },
           {
            "bin_start": -0.4,
            "bin_end": -0.3,
            "count": 0
           },
           {
            "bin_start": -0.3,
            "bin_end": -0.19999999999999996,
            "count": 0
           },
           {
            "bin_start": -0.19999999999999996,
            "bin_end": -0.09999999999999998,
            "count": 0
           },
           {
            "bin_start": -0.09999999999999998,
            "bin_end": 0,
            "count": 0
           },
           {
            "bin_start": 0,
            "bin_end": 0.10000000000000009,
            "count": 5
           },
           {
            "bin_start": 0.10000000000000009,
            "bin_end": 0.20000000000000007,
            "count": 0
           },
           {
            "bin_start": 0.20000000000000007,
            "bin_end": 0.30000000000000004,
            "count": 0
           },
           {
            "bin_start": 0.30000000000000004,
            "bin_end": 0.4,
            "count": 0
           },
           {
            "bin_start": 0.4,
            "bin_end": 0.5,
            "count": 0
           }
          ]
         }
        },
        {
         "name": "mean_rank_points",
         "dtype": "float64",
         "stats": {
          "unique_count": 0,
          "nan_count": 5,
          "min": null,
          "max": null,
          "histogram": [
           {
            "bin_start": 0,
            "bin_end": 0.1,
            "count": 0
           },
           {
            "bin_start": 0.1,
            "bin_end": 0.2,
            "count": 0
           },
           {
            "bin_start": 0.2,
            "bin_end": 0.30000000000000004,
            "count": 0
           },
           {
            "bin_start": 0.30000000000000004,
            "bin_end": 0.4,
            "count": 0
           },
           {
            "bin_start": 0.4,
            "bin_end": 0.5,
            "count": 0
           },
           {
            "bin_start": 0.5,
            "bin_end": 0.6000000000000001,
            "count": 0
           },
           {
            "bin_start": 0.6000000000000001,
            "bin_end": 0.7000000000000001,
            "count": 0
           },
           {
            "bin_start": 0.7000000000000001,
            "bin_end": 0.8,
            "count": 0
           },
           {
            "bin_start": 0.8,
            "bin_end": 0.9,
            "count": 0
           },
           {
            "bin_start": 0.9,
            "bin_end": 1,
            "count": 0
           }
          ]
         }
        },
        {
         "name": "max_rank_points",
         "dtype": "float64",
         "stats": {
          "unique_count": 0,
          "nan_count": 5,
          "min": null,
          "max": null,
          "histogram": [
           {
            "bin_start": 0,
            "bin_end": 0.1,
            "count": 0
           },
           {
            "bin_start": 0.1,
            "bin_end": 0.2,
            "count": 0
           },
           {
            "bin_start": 0.2,
            "bin_end": 0.30000000000000004,
            "count": 0
           },
           {
            "bin_start": 0.30000000000000004,
            "bin_end": 0.4,
            "count": 0
           },
           {
            "bin_start": 0.4,
            "bin_end": 0.5,
            "count": 0
           },
           {
            "bin_start": 0.5,
            "bin_end": 0.6000000000000001,
            "count": 0
           },
           {
            "bin_start": 0.6000000000000001,
            "bin_end": 0.7000000000000001,
            "count": 0
           },
           {
            "bin_start": 0.7000000000000001,
            "bin_end": 0.8,
            "count": 0
           },
           {
            "bin_start": 0.8,
            "bin_end": 0.9,
            "count": 0
           },
           {
            "bin_start": 0.9,
            "bin_end": 1,
            "count": 0
           }
          ]
         }
        },
        {
         "name": "last_rank_points",
         "dtype": "float64",
         "stats": {
          "unique_count": 0,
          "nan_count": 5,
          "min": null,
          "max": null,
          "histogram": [
           {
            "bin_start": 0,
            "bin_end": 0.1,
            "count": 0
           },
           {
            "bin_start": 0.1,
            "bin_end": 0.2,
            "count": 0
           },
           {
            "bin_start": 0.2,
            "bin_end": 0.30000000000000004,
            "count": 0
           },
           {
            "bin_start": 0.30000000000000004,
            "bin_end": 0.4,
            "count": 0
           },
           {
            "bin_start": 0.4,
            "bin_end": 0.5,
            "count": 0
           },
           {
            "bin_start": 0.5,
            "bin_end": 0.6000000000000001,
            "count": 0
           },
           {
            "bin_start": 0.6000000000000001,
            "bin_end": 0.7000000000000001,
            "count": 0
           },
           {
            "bin_start": 0.7000000000000001,
            "bin_end": 0.8,
            "count": 0
           },
           {
            "bin_start": 0.8,
            "bin_end": 0.9,
            "count": 0
           },
           {
            "bin_start": 0.9,
            "bin_end": 1,
            "count": 0
           }
          ]
         }
        },
        {
         "name": "variance_rank_points",
         "dtype": "float64",
         "stats": {
          "unique_count": 0,
          "nan_count": 5,
          "min": null,
          "max": null,
          "histogram": [
           {
            "bin_start": 0,
            "bin_end": 0.1,
            "count": 0
           },
           {
            "bin_start": 0.1,
            "bin_end": 0.2,
            "count": 0
           },
           {
            "bin_start": 0.2,
            "bin_end": 0.30000000000000004,
            "count": 0
           },
           {
            "bin_start": 0.30000000000000004,
            "bin_end": 0.4,
            "count": 0
           },
           {
            "bin_start": 0.4,
            "bin_end": 0.5,
            "count": 0
           },
           {
            "bin_start": 0.5,
            "bin_end": 0.6000000000000001,
            "count": 0
           },
           {
            "bin_start": 0.6000000000000001,
            "bin_end": 0.7000000000000001,
            "count": 0
           },
           {
            "bin_start": 0.7000000000000001,
            "bin_end": 0.8,
            "count": 0
           },
           {
            "bin_start": 0.8,
            "bin_end": 0.9,
            "count": 0
           },
           {
            "bin_start": 0.9,
            "bin_end": 1,
            "count": 0
           }
          ]
         }
        },
        {
         "name": "mean_tourney_spectators",
         "dtype": "float64",
         "stats": {
          "unique_count": 5,
          "nan_count": 0,
          "min": "2792.6666666666665",
          "max": "4059.0",
          "histogram": [
           {
            "bin_start": 2792.6666666666665,
            "bin_end": 2919.2999999999997,
            "count": 1
           },
           {
            "bin_start": 2919.2999999999997,
            "bin_end": 3045.9333333333334,
            "count": 0
           },
           {
            "bin_start": 3045.9333333333334,
            "bin_end": 3172.5666666666666,
            "count": 0
           },
           {
            "bin_start": 3172.5666666666666,
            "bin_end": 3299.2,
            "count": 2
           },
           {
            "bin_start": 3299.2,
            "bin_end": 3425.833333333333,
            "count": 0
           },
           {
            "bin_start": 3425.833333333333,
            "bin_end": 3552.4666666666667,
            "count": 0
           },
           {
            "bin_start": 3552.4666666666667,
            "bin_end": 3679.1,
            "count": 1
           },
           {
            "bin_start": 3679.1,
            "bin_end": 3805.7333333333336,
            "count": 0
           },
           {
            "bin_start": 3805.7333333333336,
            "bin_end": 3932.366666666667,
            "count": 0
           },
           {
            "bin_start": 3932.366666666667,
            "bin_end": 4059,
            "count": 1
           }
          ]
         }
        },
        {
         "name": "max_tourney_spectators",
         "dtype": "float64",
         "stats": {
          "unique_count": 5,
          "nan_count": 0,
          "min": "2996.0",
          "max": "4070.0",
          "histogram": [
           {
            "bin_start": 2996,
            "bin_end": 3103.4,
            "count": 1
           },
           {
            "bin_start": 3103.4,
            "bin_end": 3210.8,
            "count": 0
           },
           {
            "bin_start": 3210.8,
            "bin_end": 3318.2,
            "count": 0
           },
           {
            "bin_start": 3318.2,
            "bin_end": 3425.6,
            "count": 0
           },
           {
            "bin_start": 3425.6,
            "bin_end": 3533,
            "count": 0
           },
           {
            "bin_start": 3533,
            "bin_end": 3640.4,
            "count": 1
           },
           {
            "bin_start": 3640.4,
            "bin_end": 3747.8,
            "count": 0
           },
           {
            "bin_start": 3747.8,
            "bin_end": 3855.2,
            "count": 0
           },
           {
            "bin_start": 3855.2,
            "bin_end": 3962.6,
            "count": 1
           },
           {
            "bin_start": 3962.6,
            "bin_end": 4070,
            "count": 2
           }
          ]
         }
        },
        {
         "name": "mean_tourney_revenue",
         "dtype": "float64",
         "stats": {
          "unique_count": 5,
          "nan_count": 0,
          "min": "551917.33",
          "max": "939835.24",
          "histogram": [
           {
            "bin_start": 551917.33,
            "bin_end": 590709.1209999999,
            "count": 1
           },
           {
            "bin_start": 590709.1209999999,
            "bin_end": 629500.912,
            "count": 0
           },
           {
            "bin_start": 629500.912,
            "bin_end": 668292.703,
            "count": 0
           },
           {
            "bin_start": 668292.703,
            "bin_end": 707084.494,
            "count": 1
           },
           {
            "bin_start": 707084.494,
            "bin_end": 745876.2849999999,
            "count": 2
           },
           {
            "bin_start": 745876.2849999999,
            "bin_end": 784668.076,
            "count": 0
           },
           {
            "bin_start": 784668.076,
            "bin_end": 823459.867,
            "count": 0
           },
           {
            "bin_start": 823459.867,
            "bin_end": 862251.658,
            "count": 0
           },
           {
            "bin_start": 862251.658,
            "bin_end": 901043.449,
            "count": 0
           },
           {
            "bin_start": 901043.449,
            "bin_end": 939835.24,
            "count": 1
           }
          ]
         }
        },
        {
         "name": "max_tourney_revenue",
         "dtype": "float64",
         "stats": {
          "unique_count": 4,
          "nan_count": 0,
          "min": "593484.95",
          "max": "939835.24",
          "histogram": [
           {
            "bin_start": 593484.95,
            "bin_end": 628119.9789999999,
            "count": 1
           },
           {
            "bin_start": 628119.9789999999,
            "bin_end": 662755.0079999999,
            "count": 0
           },
           {
            "bin_start": 662755.0079999999,
            "bin_end": 697390.037,
            "count": 0
           },
           {
            "bin_start": 697390.037,
            "bin_end": 732025.066,
            "count": 1
           },
           {
            "bin_start": 732025.066,
            "bin_end": 766660.095,
            "count": 0
           },
           {
            "bin_start": 766660.095,
            "bin_end": 801295.124,
            "count": 0
           },
           {
            "bin_start": 801295.124,
            "bin_end": 835930.1529999999,
            "count": 0
           },
           {
            "bin_start": 835930.1529999999,
            "bin_end": 870565.182,
            "count": 0
           },
           {
            "bin_start": 870565.182,
            "bin_end": 905200.2109999999,
            "count": 2
           },
           {
            "bin_start": 905200.2109999999,
            "bin_end": 939835.24,
            "count": 1
           }
          ]
         }
        },
        {
         "name": "rel_ace",
         "dtype": "float64",
         "stats": {
          "unique_count": 0,
          "nan_count": 5,
          "min": null,
          "max": null,
          "histogram": [
           {
            "bin_start": 0,
            "bin_end": 0.1,
            "count": 0
           },
           {
            "bin_start": 0.1,
            "bin_end": 0.2,
            "count": 0
           },
           {
            "bin_start": 0.2,
            "bin_end": 0.30000000000000004,
            "count": 0
           },
           {
            "bin_start": 0.30000000000000004,
            "bin_end": 0.4,
            "count": 0
           },
           {
            "bin_start": 0.4,
            "bin_end": 0.5,
            "count": 0
           },
           {
            "bin_start": 0.5,
            "bin_end": 0.6000000000000001,
            "count": 0
           },
           {
            "bin_start": 0.6000000000000001,
            "bin_end": 0.7000000000000001,
            "count": 0
           },
           {
            "bin_start": 0.7000000000000001,
            "bin_end": 0.8,
            "count": 0
           },
           {
            "bin_start": 0.8,
            "bin_end": 0.9,
            "count": 0
           },
           {
            "bin_start": 0.9,
            "bin_end": 1,
            "count": 0
           }
          ]
         }
        },
        {
         "name": "rel_df",
         "dtype": "float64",
         "stats": {
          "unique_count": 0,
          "nan_count": 5,
          "min": null,
          "max": null,
          "histogram": [
           {
            "bin_start": 0,
            "bin_end": 0.1,
            "count": 0
           },
           {
            "bin_start": 0.1,
            "bin_end": 0.2,
            "count": 0
           },
           {
            "bin_start": 0.2,
            "bin_end": 0.30000000000000004,
            "count": 0
           },
           {
            "bin_start": 0.30000000000000004,
            "bin_end": 0.4,
            "count": 0
           },
           {
            "bin_start": 0.4,
            "bin_end": 0.5,
            "count": 0
           },
           {
            "bin_start": 0.5,
            "bin_end": 0.6000000000000001,
            "count": 0
           },
           {
            "bin_start": 0.6000000000000001,
            "bin_end": 0.7000000000000001,
            "count": 0
           },
           {
            "bin_start": 0.7000000000000001,
            "bin_end": 0.8,
            "count": 0
           },
           {
            "bin_start": 0.8,
            "bin_end": 0.9,
            "count": 0
           },
           {
            "bin_start": 0.9,
            "bin_end": 1,
            "count": 0
           }
          ]
         }
        },
        {
         "name": "rel_1stIn",
         "dtype": "float64",
         "stats": {
          "unique_count": 0,
          "nan_count": 5,
          "min": null,
          "max": null,
          "histogram": [
           {
            "bin_start": 0,
            "bin_end": 0.1,
            "count": 0
           },
           {
            "bin_start": 0.1,
            "bin_end": 0.2,
            "count": 0
           },
           {
            "bin_start": 0.2,
            "bin_end": 0.30000000000000004,
            "count": 0
           },
           {
            "bin_start": 0.30000000000000004,
            "bin_end": 0.4,
            "count": 0
           },
           {
            "bin_start": 0.4,
            "bin_end": 0.5,
            "count": 0
           },
           {
            "bin_start": 0.5,
            "bin_end": 0.6000000000000001,
            "count": 0
           },
           {
            "bin_start": 0.6000000000000001,
            "bin_end": 0.7000000000000001,
            "count": 0
           },
           {
            "bin_start": 0.7000000000000001,
            "bin_end": 0.8,
            "count": 0
           },
           {
            "bin_start": 0.8,
            "bin_end": 0.9,
            "count": 0
           },
           {
            "bin_start": 0.9,
            "bin_end": 1,
            "count": 0
           }
          ]
         }
        },
        {
         "name": "rel_1stWon",
         "dtype": "float64",
         "stats": {
          "unique_count": 0,
          "nan_count": 5,
          "min": null,
          "max": null,
          "histogram": [
           {
            "bin_start": 0,
            "bin_end": 0.1,
            "count": 0
           },
           {
            "bin_start": 0.1,
            "bin_end": 0.2,
            "count": 0
           },
           {
            "bin_start": 0.2,
            "bin_end": 0.30000000000000004,
            "count": 0
           },
           {
            "bin_start": 0.30000000000000004,
            "bin_end": 0.4,
            "count": 0
           },
           {
            "bin_start": 0.4,
            "bin_end": 0.5,
            "count": 0
           },
           {
            "bin_start": 0.5,
            "bin_end": 0.6000000000000001,
            "count": 0
           },
           {
            "bin_start": 0.6000000000000001,
            "bin_end": 0.7000000000000001,
            "count": 0
           },
           {
            "bin_start": 0.7000000000000001,
            "bin_end": 0.8,
            "count": 0
           },
           {
            "bin_start": 0.8,
            "bin_end": 0.9,
            "count": 0
           },
           {
            "bin_start": 0.9,
            "bin_end": 1,
            "count": 0
           }
          ]
         }
        },
        {
         "name": "rel_2ndWon",
         "dtype": "float64",
         "stats": {
          "unique_count": 0,
          "nan_count": 5,
          "min": null,
          "max": null,
          "histogram": [
           {
            "bin_start": 0,
            "bin_end": 0.1,
            "count": 0
           },
           {
            "bin_start": 0.1,
            "bin_end": 0.2,
            "count": 0
           },
           {
            "bin_start": 0.2,
            "bin_end": 0.30000000000000004,
            "count": 0
           },
           {
            "bin_start": 0.30000000000000004,
            "bin_end": 0.4,
            "count": 0
           },
           {
            "bin_start": 0.4,
            "bin_end": 0.5,
            "count": 0
           },
           {
            "bin_start": 0.5,
            "bin_end": 0.6000000000000001,
            "count": 0
           },
           {
            "bin_start": 0.6000000000000001,
            "bin_end": 0.7000000000000001,
            "count": 0
           },
           {
            "bin_start": 0.7000000000000001,
            "bin_end": 0.8,
            "count": 0
           },
           {
            "bin_start": 0.8,
            "bin_end": 0.9,
            "count": 0
           },
           {
            "bin_start": 0.9,
            "bin_end": 1,
            "count": 0
           }
          ]
         }
        },
        {
         "name": "1WonOn1In",
         "dtype": "float64",
         "stats": {
          "unique_count": 0,
          "nan_count": 5,
          "min": null,
          "max": null,
          "histogram": [
           {
            "bin_start": 0,
            "bin_end": 0.1,
            "count": 0
           },
           {
            "bin_start": 0.1,
            "bin_end": 0.2,
            "count": 0
           },
           {
            "bin_start": 0.2,
            "bin_end": 0.30000000000000004,
            "count": 0
           },
           {
            "bin_start": 0.30000000000000004,
            "bin_end": 0.4,
            "count": 0
           },
           {
            "bin_start": 0.4,
            "bin_end": 0.5,
            "count": 0
           },
           {
            "bin_start": 0.5,
            "bin_end": 0.6000000000000001,
            "count": 0
           },
           {
            "bin_start": 0.6000000000000001,
            "bin_end": 0.7000000000000001,
            "count": 0
           },
           {
            "bin_start": 0.7000000000000001,
            "bin_end": 0.8,
            "count": 0
           },
           {
            "bin_start": 0.8,
            "bin_end": 0.9,
            "count": 0
           },
           {
            "bin_start": 0.9,
            "bin_end": 1,
            "count": 0
           }
          ]
         }
        },
        {
         "name": "1WonOnTotWon",
         "dtype": "float64",
         "stats": {
          "unique_count": 0,
          "nan_count": 5,
          "min": null,
          "max": null,
          "histogram": [
           {
            "bin_start": 0,
            "bin_end": 0.1,
            "count": 0
           },
           {
            "bin_start": 0.1,
            "bin_end": 0.2,
            "count": 0
           },
           {
            "bin_start": 0.2,
            "bin_end": 0.30000000000000004,
            "count": 0
           },
           {
            "bin_start": 0.30000000000000004,
            "bin_end": 0.4,
            "count": 0
           },
           {
            "bin_start": 0.4,
            "bin_end": 0.5,
            "count": 0
           },
           {
            "bin_start": 0.5,
            "bin_end": 0.6000000000000001,
            "count": 0
           },
           {
            "bin_start": 0.6000000000000001,
            "bin_end": 0.7000000000000001,
            "count": 0
           },
           {
            "bin_start": 0.7000000000000001,
            "bin_end": 0.8,
            "count": 0
           },
           {
            "bin_start": 0.8,
            "bin_end": 0.9,
            "count": 0
           },
           {
            "bin_start": 0.9,
            "bin_end": 1,
            "count": 0
           }
          ]
         }
        },
        {
         "name": "rel_ptsWon",
         "dtype": "float64",
         "stats": {
          "unique_count": 0,
          "nan_count": 5,
          "min": null,
          "max": null,
          "histogram": [
           {
            "bin_start": 0,
            "bin_end": 0.1,
            "count": 0
           },
           {
            "bin_start": 0.1,
            "bin_end": 0.2,
            "count": 0
           },
           {
            "bin_start": 0.2,
            "bin_end": 0.30000000000000004,
            "count": 0
           },
           {
            "bin_start": 0.30000000000000004,
            "bin_end": 0.4,
            "count": 0
           },
           {
            "bin_start": 0.4,
            "bin_end": 0.5,
            "count": 0
           },
           {
            "bin_start": 0.5,
            "bin_end": 0.6000000000000001,
            "count": 0
           },
           {
            "bin_start": 0.6000000000000001,
            "bin_end": 0.7000000000000001,
            "count": 0
           },
           {
            "bin_start": 0.7000000000000001,
            "bin_end": 0.8,
            "count": 0
           },
           {
            "bin_start": 0.8,
            "bin_end": 0.9,
            "count": 0
           },
           {
            "bin_start": 0.9,
            "bin_end": 1,
            "count": 0
           }
          ]
         }
        },
        {
         "name": "rel_bpFaced",
         "dtype": "float64",
         "stats": {
          "unique_count": 0,
          "nan_count": 5,
          "min": null,
          "max": null,
          "histogram": [
           {
            "bin_start": 0,
            "bin_end": 0.1,
            "count": 0
           },
           {
            "bin_start": 0.1,
            "bin_end": 0.2,
            "count": 0
           },
           {
            "bin_start": 0.2,
            "bin_end": 0.30000000000000004,
            "count": 0
           },
           {
            "bin_start": 0.30000000000000004,
            "bin_end": 0.4,
            "count": 0
           },
           {
            "bin_start": 0.4,
            "bin_end": 0.5,
            "count": 0
           },
           {
            "bin_start": 0.5,
            "bin_end": 0.6000000000000001,
            "count": 0
           },
           {
            "bin_start": 0.6000000000000001,
            "bin_end": 0.7000000000000001,
            "count": 0
           },
           {
            "bin_start": 0.7000000000000001,
            "bin_end": 0.8,
            "count": 0
           },
           {
            "bin_start": 0.8,
            "bin_end": 0.9,
            "count": 0
           },
           {
            "bin_start": 0.9,
            "bin_end": 1,
            "count": 0
           }
          ]
         }
        },
        {
         "name": "rel_bpSaved",
         "dtype": "float64",
         "stats": {
          "unique_count": 0,
          "nan_count": 5,
          "min": null,
          "max": null,
          "histogram": [
           {
            "bin_start": 0,
            "bin_end": 0.1,
            "count": 0
           },
           {
            "bin_start": 0.1,
            "bin_end": 0.2,
            "count": 0
           },
           {
            "bin_start": 0.2,
            "bin_end": 0.30000000000000004,
            "count": 0
           },
           {
            "bin_start": 0.30000000000000004,
            "bin_end": 0.4,
            "count": 0
           },
           {
            "bin_start": 0.4,
            "bin_end": 0.5,
            "count": 0
           },
           {
            "bin_start": 0.5,
            "bin_end": 0.6000000000000001,
            "count": 0
           },
           {
            "bin_start": 0.6000000000000001,
            "bin_end": 0.7000000000000001,
            "count": 0
           },
           {
            "bin_start": 0.7000000000000001,
            "bin_end": 0.8,
            "count": 0
           },
           {
            "bin_start": 0.8,
            "bin_end": 0.9,
            "count": 0
           },
           {
            "bin_start": 0.9,
            "bin_end": 1,
            "count": 0
           }
          ]
         }
        },
        {
         "name": "rel_gmsWon",
         "dtype": "float64",
         "stats": {
          "unique_count": 5,
          "nan_count": 0,
          "min": "0.0",
          "max": "0.3462881058856292",
          "histogram": [
           {
            "bin_start": 0,
            "bin_end": 0.03462881058856292,
            "count": 1
           },
           {
            "bin_start": 0.03462881058856292,
            "bin_end": 0.06925762117712583,
            "count": 0
           },
           {
            "bin_start": 0.06925762117712583,
            "bin_end": 0.10388643176568875,
            "count": 1
           },
           {
            "bin_start": 0.10388643176568875,
            "bin_end": 0.13851524235425167,
            "count": 1
           },
           {
            "bin_start": 0.13851524235425167,
            "bin_end": 0.1731440529428146,
            "count": 0
           },
           {
            "bin_start": 0.1731440529428146,
            "bin_end": 0.2077728635313775,
            "count": 0
           },
           {
            "bin_start": 0.2077728635313775,
            "bin_end": 0.2424016741199404,
            "count": 0
           },
           {
            "bin_start": 0.2424016741199404,
            "bin_end": 0.27703048470850333,
            "count": 0
           },
           {
            "bin_start": 0.27703048470850333,
            "bin_end": 0.31165929529706626,
            "count": 0
           },
           {
            "bin_start": 0.31165929529706626,
            "bin_end": 0.3462881058856292,
            "count": 2
           }
          ]
         }
        },
        {
         "name": "_deepnote_index_column",
         "dtype": "int64"
        }
       ],
       "rows_top": [
        {
         "name": "aada inna",
         "gender": "f",
         "total_tourneys_played": 1,
         "total_matches_played": 1,
         "total_matches_won": 0,
         "matches_won_ratio": 0,
         "mean_performance_index": 0,
         "max_performance_index": 0,
         "min_performance_index": 0,
         "ht": "nan",
         "age": "nan",
         "hand": "u",
         "mean_minutes": "nan",
         "max_minutes": "nan",
         "minutes_entropy": 0,
         "mean_rank_points": "nan",
         "max_rank_points": "nan",
         "last_rank_points": "nan",
         "variance_rank_points": "nan",
         "mean_tourney_spectators": 4059,
         "max_tourney_spectators": 4059,
         "mean_tourney_revenue": 939835.24,
         "max_tourney_revenue": 939835.24,
         "rel_ace": "nan",
         "rel_df": "nan",
         "rel_1stIn": "nan",
         "rel_1stWon": "nan",
         "rel_2ndWon": "nan",
         "1WonOn1In": "nan",
         "1WonOnTotWon": "nan",
         "rel_ptsWon": "nan",
         "rel_bpFaced": "nan",
         "rel_bpSaved": "nan",
         "rel_gmsWon": 0,
         "_deepnote_index_column": 0
        },
        {
         "name": "aalisha alexis",
         "gender": "f",
         "total_tourneys_played": 2,
         "total_matches_played": 2,
         "total_matches_won": 0,
         "matches_won_ratio": 0,
         "mean_performance_index": 0,
         "max_performance_index": 0,
         "min_performance_index": 0,
         "ht": "nan",
         "age": "nan",
         "hand": "u",
         "mean_minutes": "nan",
         "max_minutes": "nan",
         "minutes_entropy": 0,
         "mean_rank_points": "nan",
         "max_rank_points": "nan",
         "last_rank_points": "nan",
         "variance_rank_points": "nan",
         "mean_tourney_spectators": 3237.5,
         "max_tourney_spectators": 3628,
         "mean_tourney_revenue": 704802.72,
         "max_tourney_revenue": 717933.37,
         "rel_ace": "nan",
         "rel_df": "nan",
         "rel_1stIn": "nan",
         "rel_1stWon": "nan",
         "rel_2ndWon": "nan",
         "1WonOn1In": "nan",
         "1WonOnTotWon": "nan",
         "rel_ptsWon": "nan",
         "rel_bpFaced": "nan",
         "rel_bpSaved": "nan",
         "rel_gmsWon": 0.07142857142857142,
         "_deepnote_index_column": 1
        },
        {
         "name": "aaliya ebrahim",
         "gender": "f",
         "total_tourneys_played": 7,
         "total_matches_played": 9,
         "total_matches_won": 2,
         "matches_won_ratio": 0.2222222222222222,
         "mean_performance_index": 0.07407407407407407,
         "max_performance_index": 0.16666666666666666,
         "min_performance_index": 0,
         "ht": "nan",
         "age": "nan",
         "hand": "r",
         "mean_minutes": "nan",
         "max_minutes": "nan",
         "minutes_entropy": 0,
         "mean_rank_points": "nan",
         "max_rank_points": "nan",
         "last_rank_points": "nan",
         "variance_rank_points": "nan",
         "mean_tourney_spectators": 3632.6666666666665,
         "max_tourney_spectators": 4070,
         "mean_tourney_revenue": 737944,
         "max_tourney_revenue": 885863.35,
         "rel_ace": "nan",
         "rel_df": "nan",
         "rel_1stIn": "nan",
         "rel_1stWon": "nan",
         "rel_2ndWon": "nan",
         "1WonOn1In": "nan",
         "1WonOnTotWon": "nan",
         "rel_ptsWon": "nan",
         "rel_bpFaced": "nan",
         "rel_bpSaved": "nan",
         "rel_gmsWon": 0.3462881058856292,
         "_deepnote_index_column": 2
        },
        {
         "name": "aaliyah hohmann",
         "gender": "f",
         "total_tourneys_played": 2,
         "total_matches_played": 3,
         "total_matches_won": 1,
         "matches_won_ratio": 0.3333333333333333,
         "mean_performance_index": 0.1111111111111111,
         "max_performance_index": 0.16666666666666666,
         "min_performance_index": 0,
         "ht": "nan",
         "age": "nan",
         "hand": "u",
         "mean_minutes": "nan",
         "max_minutes": "nan",
         "minutes_entropy": 0,
         "mean_rank_points": "nan",
         "max_rank_points": "nan",
         "last_rank_points": "nan",
         "variance_rank_points": "nan",
         "mean_tourney_spectators": 2792.6666666666665,
         "max_tourney_spectators": 2996,
         "mean_tourney_revenue": 551917.33,
         "max_tourney_revenue": 593484.95,
         "rel_ace": "nan",
         "rel_df": "nan",
         "rel_1stIn": "nan",
         "rel_1stWon": "nan",
         "rel_2ndWon": "nan",
         "1WonOn1In": "nan",
         "1WonOnTotWon": "nan",
         "rel_ptsWon": "nan",
         "rel_bpFaced": "nan",
         "rel_bpSaved": "nan",
         "rel_gmsWon": 0.340224358974359,
         "_deepnote_index_column": 3
        },
        {
         "name": "aalyka ebrahim",
         "gender": "f",
         "total_tourneys_played": 4,
         "total_matches_played": 4,
         "total_matches_won": 0,
         "matches_won_ratio": 0,
         "mean_performance_index": 0,
         "max_performance_index": 0,
         "min_performance_index": 0,
         "ht": "nan",
         "age": "nan",
         "hand": "u",
         "mean_minutes": "nan",
         "max_minutes": "nan",
         "minutes_entropy": 0,
         "mean_rank_points": "nan",
         "max_rank_points": "nan",
         "last_rank_points": "nan",
         "variance_rank_points": "nan",
         "mean_tourney_spectators": 3207.75,
         "max_tourney_spectators": 3943,
         "mean_tourney_revenue": 713766.0425,
         "max_tourney_revenue": 885863.35,
         "rel_ace": "nan",
         "rel_df": "nan",
         "rel_1stIn": "nan",
         "rel_1stWon": "nan",
         "rel_2ndWon": "nan",
         "1WonOn1In": "nan",
         "1WonOnTotWon": "nan",
         "rel_ptsWon": "nan",
         "rel_bpFaced": "nan",
         "rel_bpSaved": "nan",
         "rel_gmsWon": 0.12438949938949939,
         "_deepnote_index_column": 4
        }
       ],
       "rows_bottom": null
      },
      "text/plain": "              name gender  total_tourneys_played  total_matches_played  \\\n0        aada inna      f                      1                     1   \n1   aalisha alexis      f                      2                     2   \n2   aaliya ebrahim      f                      7                     9   \n3  aaliyah hohmann      f                      2                     3   \n4   aalyka ebrahim      f                      4                     4   \n\n   total_matches_won  matches_won_ratio  mean_performance_index  \\\n0                0.0           0.000000                     0.0   \n1                0.0           0.000000                     0.0   \n2                2.0           0.222222                0.074074   \n3                1.0           0.333333                0.111111   \n4                0.0           0.000000                     0.0   \n\n   max_performance_index  min_performance_index  ht  ...  rel_df rel_1stIn  \\\n0                    0.0                    0.0 NaN  ...     NaN       NaN   \n1                    0.0                    0.0 NaN  ...     NaN       NaN   \n2               0.166667                    0.0 NaN  ...     NaN       NaN   \n3               0.166667                    0.0 NaN  ...     NaN       NaN   \n4                    0.0                    0.0 NaN  ...     NaN       NaN   \n\n   rel_1stWon  rel_2ndWon  1WonOn1In  1WonOnTotWon  rel_ptsWon  rel_bpFaced  \\\n0         NaN         NaN        NaN           NaN         NaN          NaN   \n1         NaN         NaN        NaN           NaN         NaN          NaN   \n2         NaN         NaN        NaN           NaN         NaN          NaN   \n3         NaN         NaN        NaN           NaN         NaN          NaN   \n4         NaN         NaN        NaN           NaN         NaN          NaN   \n\n   rel_bpSaved  rel_gmsWon  \n0          NaN    0.000000  \n1          NaN    0.071429  \n2          NaN    0.346288  \n3          NaN    0.340224  \n4          NaN    0.124389  \n\n[5 rows x 34 columns]",
      "text/html": "<div>\n<style scoped>\n    .dataframe tbody tr th:only-of-type {\n        vertical-align: middle;\n    }\n\n    .dataframe tbody tr th {\n        vertical-align: top;\n    }\n\n    .dataframe thead th {\n        text-align: right;\n    }\n</style>\n<table border=\"1\" class=\"dataframe\">\n  <thead>\n    <tr style=\"text-align: right;\">\n      <th></th>\n      <th>name</th>\n      <th>gender</th>\n      <th>total_tourneys_played</th>\n      <th>total_matches_played</th>\n      <th>total_matches_won</th>\n      <th>matches_won_ratio</th>\n      <th>mean_performance_index</th>\n      <th>max_performance_index</th>\n      <th>min_performance_index</th>\n      <th>ht</th>\n      <th>...</th>\n      <th>rel_df</th>\n      <th>rel_1stIn</th>\n      <th>rel_1stWon</th>\n      <th>rel_2ndWon</th>\n      <th>1WonOn1In</th>\n      <th>1WonOnTotWon</th>\n      <th>rel_ptsWon</th>\n      <th>rel_bpFaced</th>\n      <th>rel_bpSaved</th>\n      <th>rel_gmsWon</th>\n    </tr>\n  </thead>\n  <tbody>\n    <tr>\n      <th>0</th>\n      <td>aada inna</td>\n      <td>f</td>\n      <td>1</td>\n      <td>1</td>\n      <td>0.0</td>\n      <td>0.000000</td>\n      <td>0.0</td>\n      <td>0.0</td>\n      <td>0.0</td>\n      <td>NaN</td>\n      <td>...</td>\n      <td>NaN</td>\n      <td>NaN</td>\n      <td>NaN</td>\n      <td>NaN</td>\n      <td>NaN</td>\n      <td>NaN</td>\n      <td>NaN</td>\n      <td>NaN</td>\n      <td>NaN</td>\n      <td>0.000000</td>\n    </tr>\n    <tr>\n      <th>1</th>\n      <td>aalisha alexis</td>\n      <td>f</td>\n      <td>2</td>\n      <td>2</td>\n      <td>0.0</td>\n      <td>0.000000</td>\n      <td>0.0</td>\n      <td>0.0</td>\n      <td>0.0</td>\n      <td>NaN</td>\n      <td>...</td>\n      <td>NaN</td>\n      <td>NaN</td>\n      <td>NaN</td>\n      <td>NaN</td>\n      <td>NaN</td>\n      <td>NaN</td>\n      <td>NaN</td>\n      <td>NaN</td>\n      <td>NaN</td>\n      <td>0.071429</td>\n    </tr>\n    <tr>\n      <th>2</th>\n      <td>aaliya ebrahim</td>\n      <td>f</td>\n      <td>7</td>\n      <td>9</td>\n      <td>2.0</td>\n      <td>0.222222</td>\n      <td>0.074074</td>\n      <td>0.166667</td>\n      <td>0.0</td>\n      <td>NaN</td>\n      <td>...</td>\n      <td>NaN</td>\n      <td>NaN</td>\n      <td>NaN</td>\n      <td>NaN</td>\n      <td>NaN</td>\n      <td>NaN</td>\n      <td>NaN</td>\n      <td>NaN</td>\n      <td>NaN</td>\n      <td>0.346288</td>\n    </tr>\n    <tr>\n      <th>3</th>\n      <td>aaliyah hohmann</td>\n      <td>f</td>\n      <td>2</td>\n      <td>3</td>\n      <td>1.0</td>\n      <td>0.333333</td>\n      <td>0.111111</td>\n      <td>0.166667</td>\n      <td>0.0</td>\n      <td>NaN</td>\n      <td>...</td>\n      <td>NaN</td>\n      <td>NaN</td>\n      <td>NaN</td>\n      <td>NaN</td>\n      <td>NaN</td>\n      <td>NaN</td>\n      <td>NaN</td>\n      <td>NaN</td>\n      <td>NaN</td>\n      <td>0.340224</td>\n    </tr>\n    <tr>\n      <th>4</th>\n      <td>aalyka ebrahim</td>\n      <td>f</td>\n      <td>4</td>\n      <td>4</td>\n      <td>0.0</td>\n      <td>0.000000</td>\n      <td>0.0</td>\n      <td>0.0</td>\n      <td>0.0</td>\n      <td>NaN</td>\n      <td>...</td>\n      <td>NaN</td>\n      <td>NaN</td>\n      <td>NaN</td>\n      <td>NaN</td>\n      <td>NaN</td>\n      <td>NaN</td>\n      <td>NaN</td>\n      <td>NaN</td>\n      <td>NaN</td>\n      <td>0.124389</td>\n    </tr>\n  </tbody>\n</table>\n<p>5 rows × 34 columns</p>\n</div>"
     },
     "metadata": {}
    }
   ]
  },
  {
   "cell_type": "markdown",
   "source": "### Filling missing values",
   "metadata": {
    "tags": [],
    "is_collapsed": false,
    "cell_id": "00036-b664ec3c-5d3d-4d19-887c-d54926a22e37",
    "deepnote_cell_type": "text-cell-h3"
   }
  },
  {
   "cell_type": "code",
   "metadata": {
    "tags": [],
    "cell_id": "00036-4dbfa0f4-f442-4051-8deb-e72da42c6c7b",
    "deepnote_to_be_reexecuted": false,
    "source_hash": "4f1199e7",
    "execution_start": 1636929380162,
    "execution_millis": 17,
    "deepnote_cell_type": "code"
   },
   "source": "attr_list = ['age', 'mean_rank_points', 'max_rank_points', 'last_rank_points', 'variance_rank_points']\nmeans = df_players[attr_list].mean()\ndf_players[attr_list] = df_players[attr_list].fillna(means)\ndf_players.info()",
   "execution_count": null,
   "outputs": [
    {
     "name": "stdout",
     "text": "<class 'pandas.core.frame.DataFrame'>\nInt64Index: 10103 entries, 0 to 10102\nData columns (total 34 columns):\n #   Column                   Non-Null Count  Dtype  \n---  ------                   --------------  -----  \n 0   name                     10103 non-null  object \n 1   gender                   10103 non-null  object \n 2   total_tourneys_played    10103 non-null  int64  \n 3   total_matches_played     10103 non-null  int64  \n 4   total_matches_won        10103 non-null  float64\n 5   matches_won_ratio        10103 non-null  float64\n 6   mean_performance_index   10103 non-null  Float64\n 7   max_performance_index    10103 non-null  Float64\n 8   min_performance_index    10103 non-null  Float64\n 9   ht                       541 non-null    float64\n 10  age                      10103 non-null  float64\n 11  hand                     10103 non-null  object \n 12  mean_minutes             4237 non-null   float64\n 13  max_minutes              4237 non-null   float64\n 14  minutes_entropy          10103 non-null  float64\n 15  mean_rank_points         10103 non-null  float64\n 16  max_rank_points          10103 non-null  float64\n 17  last_rank_points         10103 non-null  float64\n 18  variance_rank_points     10103 non-null  float64\n 19  mean_tourney_spectators  10103 non-null  float64\n 20  max_tourney_spectators   10103 non-null  float64\n 21  mean_tourney_revenue     10103 non-null  float64\n 22  max_tourney_revenue      10103 non-null  float64\n 23  rel_ace                  4253 non-null   float64\n 24  rel_df                   4253 non-null   float64\n 25  rel_1stIn                4253 non-null   float64\n 26  rel_1stWon               4253 non-null   float64\n 27  rel_2ndWon               4253 non-null   float64\n 28  1WonOn1In                4253 non-null   float64\n 29  1WonOnTotWon             4253 non-null   float64\n 30  rel_ptsWon               4253 non-null   float64\n 31  rel_bpFaced              4253 non-null   float64\n 32  rel_bpSaved              4246 non-null   float64\n 33  rel_gmsWon               10047 non-null  float64\ndtypes: Float64(3), float64(26), int64(2), object(3)\nmemory usage: 2.7+ MB\n",
     "output_type": "stream"
    }
   ]
  },
  {
   "cell_type": "markdown",
   "source": "### Correlation analysis",
   "metadata": {
    "tags": [],
    "is_collapsed": false,
    "cell_id": "00044-bf7acc68-97e0-45f4-943c-754305c32e7b",
    "deepnote_cell_type": "text-cell-h3"
   }
  },
  {
   "cell_type": "code",
   "metadata": {
    "tags": [],
    "cell_id": "00040-0112cd5a-f7ea-4842-b9ac-f72a5cc2ea1c",
    "deepnote_to_be_reexecuted": false,
    "source_hash": "de45adf",
    "execution_start": 1636929380183,
    "execution_millis": 13,
    "deepnote_cell_type": "code"
   },
   "source": "#import numpy as np\n\ndf_players['lrpOnAvgrp'] = df_players['last_rank_points']/df_players['mean_rank_points']\ndf_players['lrpOnMxrp'] = df_players['last_rank_points']/df_players['max_rank_points']\n",
   "execution_count": null,
   "outputs": []
  },
  {
   "cell_type": "code",
   "metadata": {
    "tags": [],
    "cell_id": "00037-629d6054-1b85-41f4-9e29-85df90037b9d",
    "deepnote_to_be_reexecuted": false,
    "source_hash": "722b8d4a",
    "execution_start": 1636929380253,
    "execution_millis": 319,
    "output_cleared": false,
    "deepnote_cell_type": "code"
   },
   "source": "def get_redundant_pairs(df):\n    '''Get diagonal and lower triangular pairs of correlation matrix'''\n    pairs_to_drop = set()\n    cols = df.columns\n    for i in range(0, df.shape[1]):\n        for j in range(0, i+1):\n            pairs_to_drop.add((cols[i], cols[j]))\n    return pairs_to_drop\n\ncorr_threshold = 0.8\ncorrelation = df_players.corr(method=\"pearson\") #.abs()\ncorrelation = correlation.where(np.tril(np.ones(correlation.shape)).astype(bool)) # remove upper triangle\n\npx.imshow(correlation, labels=dict(color=\"Correlation\"), color_continuous_scale=px.colors.diverging.RdBu, zmin=-1, zmax=1, width=1000, height=1000).show()\n\ncorrelation = correlation.unstack().drop(labels=get_redundant_pairs(correlation)).sort_values(ascending=False).drop_duplicates()\nprint(f\"These are {len(correlation[(correlation>=corr_threshold) | (correlation<=-corr_threshold)])} pairs whose correlation is bigger/small than ±{corr_threshold*100}%:\")\ncorrelation[(correlation>=corr_threshold) | (correlation<=-corr_threshold)]",
   "execution_count": null,
   "outputs": [
    {
     "data": {
      "text/html": "<html>\n<head><meta charset=\"utf-8\" /></head>\n<body>\n    <div>            <script src=\"https://cdnjs.cloudflare.com/ajax/libs/mathjax/2.7.5/MathJax.js?config=TeX-AMS-MML_SVG\"></script><script type=\"text/javascript\">if (window.MathJax) {MathJax.Hub.Config({SVG: {font: \"STIX-Web\"}});}</script>                <script type=\"text/javascript\">window.PlotlyConfig = {MathJaxConfig: 'local'};</script>\n        <script src=\"https://cdn.plot.ly/plotly-2.4.2.min.js\"></script>                <div id=\"efe53496-e767-4fed-8087-9da438e31799\" class=\"plotly-graph-div\" style=\"height:1000px; width:1000px;\"></div>            <script type=\"text/javascript\">                                    window.PLOTLYENV=window.PLOTLYENV || {};                                    if (document.getElementById(\"efe53496-e767-4fed-8087-9da438e31799\")) {                    Plotly.newPlot(                        \"efe53496-e767-4fed-8087-9da438e31799\",                        [{\"coloraxis\":\"coloraxis\",\"hovertemplate\":\"x: %{x}<br>y: %{y}<br>Correlation: %{z}<extra></extra>\",\"name\":\"0\",\"type\":\"heatmap\",\"x\":[\"total_tourneys_played\",\"total_matches_played\",\"total_matches_won\",\"matches_won_ratio\",\"mean_performance_index\",\"max_performance_index\",\"min_performance_index\",\"ht\",\"age\",\"mean_minutes\",\"max_minutes\",\"minutes_entropy\",\"mean_rank_points\",\"max_rank_points\",\"last_rank_points\",\"variance_rank_points\",\"mean_tourney_spectators\",\"max_tourney_spectators\",\"mean_tourney_revenue\",\"max_tourney_revenue\",\"rel_ace\",\"rel_df\",\"rel_1stIn\",\"rel_1stWon\",\"rel_2ndWon\",\"1WonOn1In\",\"1WonOnTotWon\",\"rel_ptsWon\",\"rel_bpFaced\",\"rel_bpSaved\",\"rel_gmsWon\",\"lrpOnAvgrp\",\"lrpOnMxrp\"],\"xaxis\":\"x\",\"y\":[\"total_tourneys_played\",\"total_matches_played\",\"total_matches_won\",\"matches_won_ratio\",\"mean_performance_index\",\"max_performance_index\",\"min_performance_index\",\"ht\",\"age\",\"mean_minutes\",\"max_minutes\",\"minutes_entropy\",\"mean_rank_points\",\"max_rank_points\",\"last_rank_points\",\"variance_rank_points\",\"mean_tourney_spectators\",\"max_tourney_spectators\",\"mean_tourney_revenue\",\"max_tourney_revenue\",\"rel_ace\",\"rel_df\",\"rel_1stIn\",\"rel_1stWon\",\"rel_2ndWon\",\"1WonOn1In\",\"1WonOnTotWon\",\"rel_ptsWon\",\"rel_bpFaced\",\"rel_bpSaved\",\"rel_gmsWon\",\"lrpOnAvgrp\",\"lrpOnMxrp\"],\"yaxis\":\"y\",\"z\":[[1.0,null,null,null,null,null,null,null,null,null,null,null,null,null,null,null,null,null,null,null,null,null,null,null,null,null,null,null,null,null,null,null,null],[0.987069159937161,1.0,null,null,null,null,null,null,null,null,null,null,null,null,null,null,null,null,null,null,null,null,null,null,null,null,null,null,null,null,null,null,null],[0.9521084811122486,0.9885063656731004,1.0,null,null,null,null,null,null,null,null,null,null,null,null,null,null,null,null,null,null,null,null,null,null,null,null,null,null,null,null,null,null],[0.5200418004368583,0.5408680108810917,0.5475813688165907,1.0,null,null,null,null,null,null,null,null,null,null,null,null,null,null,null,null,null,null,null,null,null,null,null,null,null,null,null,null,null],[0.5925434757459667,0.6275120631305565,0.6453714794860743,0.9424108177010664,1.0,null,null,null,null,null,null,null,null,null,null,null,null,null,null,null,null,null,null,null,null,null,null,null,null,null,null,null,null],[0.7642802471282795,0.7708353080790729,0.7582994970111873,0.8406123888261401,0.9196533918542287,1.0,null,null,null,null,null,null,null,null,null,null,null,null,null,null,null,null,null,null,null,null,null,null,null,null,null,null,null],[-0.1217182791233046,-0.1084420736493535,-0.09372018050052197,0.3381854803040881,0.22750547120764705,-0.003185139522927163,1.0,null,null,null,null,null,null,null,null,null,null,null,null,null,null,null,null,null,null,null,null,null,null,null,null,null,null],[-0.007728780875289456,-0.010095199658432502,-0.016055903817817657,-0.04947929019579143,-0.05796426044316179,-0.04699594392992897,0.030797242766009203,1.0,null,null,null,null,null,null,null,null,null,null,null,null,null,null,null,null,null,null,null,null,null,null,null,null,null],[0.1115556259916623,0.10739217746711098,0.10018273968092598,0.0575357558715907,0.05536201936693605,0.06899592981669957,0.0438508920015491,0.12443654160775304,1.0,null,null,null,null,null,null,null,null,null,null,null,null,null,null,null,null,null,null,null,null,null,null,null,null],[0.3396177264452042,0.34594983725832495,0.34306294160996104,0.39747438897543963,0.39501389488977645,0.4064627399451643,-0.0051888958097648305,0.0613855141159481,0.07783882348630701,1.0,null,null,null,null,null,null,null,null,null,null,null,null,null,null,null,null,null,null,null,null,null,null,null],[0.6355052338922442,0.6361473692360715,0.6205557303588197,0.5952179733588008,0.5962388587632431,0.6611567233798779,-0.07114866616742535,0.19993805057223324,0.17285023229708357,0.7312937620166413,1.0,null,null,null,null,null,null,null,null,null,null,null,null,null,null,null,null,null,null,null,null,null,null],[0.7043740479334339,0.7080045983763574,0.6929439967755258,0.4383826497056564,0.486176336618005,0.6107641321196131,-0.08065238023917702,0.058511309490085206,0.27480103805905226,0.41959198778078804,0.8360043793671383,1.0,null,null,null,null,null,null,null,null,null,null,null,null,null,null,null,null,null,null,null,null,null],[0.3388616131656264,0.40765630700903555,0.4646477376381354,0.1586493816361641,0.2052059049957406,0.21674272985955745,-0.021096679864929416,-0.02377076218462748,0.13373458222166237,0.17457160261415408,0.3860812844426597,0.3932373794724933,1.0,null,null,null,null,null,null,null,null,null,null,null,null,null,null,null,null,null,null,null,null],[0.35397849570215206,0.4271954645159951,0.4877764597424378,0.1659732772733388,0.2173760670557543,0.22889628503004636,-0.022229812837533322,-0.008770682621886877,0.10768287408821366,0.17697394326660348,0.3923064760240455,0.4017592081244295,0.9627713785825391,1.0,null,null,null,null,null,null,null,null,null,null,null,null,null,null,null,null,null,null,null],[0.3413894601998363,0.4204149658242993,0.4865492049406012,0.1566642841408498,0.21007035051502923,0.21291661349095026,-0.019455011210568737,0.007510192237147444,0.033213885847291964,0.1562415412431786,0.3477212411798355,0.35954781466967173,0.804186559245035,0.8805065106119562,1.0,null,null,null,null,null,null,null,null,null,null,null,null,null,null,null,null,null,null],[0.10399695852899918,0.16192402633994765,0.21558054864142562,0.07490901746093626,0.1060573355144489,0.08304132435357836,-0.007095407218031743,0.041919163817381734,0.042530120531165096,0.07739711498689598,0.16879285285302423,0.14613276397712316,0.7294907559636726,0.7689140094324541,0.6570721709333237,1.0,null,null,null,null,null,null,null,null,null,null,null,null,null,null,null,null,null],[0.3673432824835504,0.3838322112520333,0.38670234115992647,0.17171512842998893,0.2000284085347261,0.265182686808168,-0.078266962852046,-0.0762163343413081,0.11477991630524795,0.22089583407096336,0.3967774387160847,0.47176495633441895,0.381594549640865,0.383051625724965,0.3257024266964561,0.18658500766246738,1.0,null,null,null,null,null,null,null,null,null,null,null,null,null,null,null,null],[0.7776045412628636,0.7850643146982363,0.7721200233036233,0.44081021491579725,0.5071688793963104,0.6428616852736336,-0.12169276951819744,-0.12057298725016886,0.17194422734322334,0.37669213398613977,0.6955925328470637,0.8350054396226412,0.4366887849411403,0.44846647099317183,0.3983692483940258,0.16065243302178808,0.6774058909972018,1.0,null,null,null,null,null,null,null,null,null,null,null,null,null,null,null],[0.34779862201559436,0.36407657412990024,0.3674035508751132,0.166579875081731,0.1924702192129535,0.25287478196230717,-0.07864222806900388,-0.05649836444776541,0.10179332546692667,0.21795350197956212,0.3834056126183696,0.44411902066565984,0.3554710889514431,0.35823385141063485,0.30731772154151016,0.17573862310759075,0.9280381056981685,0.6356778344467374,1.0,null,null,null,null,null,null,null,null,null,null,null,null,null,null],[0.7976565987113602,0.8107424377259582,0.802574911398375,0.4396235876465695,0.5085378336081332,0.6394050994480531,-0.11419527059626249,-0.09394153612326622,0.1522518659271972,0.370399251023494,0.6928912245807266,0.8276834801284972,0.45473812057111584,0.473095272228958,0.43630754897587143,0.17235263303777346,0.6261695345477137,0.9676863847303546,0.6254982460189794,1.0,null,null,null,null,null,null,null,null,null,null,null,null,null],[0.13760533300073366,0.1411398600578161,0.13727169026984684,0.202374156861371,0.174490772048672,0.1765763976042979,0.052572252759919225,0.6327496715204217,0.1871414599414306,0.2068880141028781,0.3487012655839923,0.3650452397333664,0.16071920435041406,0.16614283555518294,0.14176901761155047,0.09088455844759215,0.2175978014709779,0.24448389311827048,0.20971310878088578,0.23653729707156285,1.0,null,null,null,null,null,null,null,null,null,null,null,null],[-0.18499474852484146,-0.1879633739765074,-0.1845517858219499,-0.2560002852364431,-0.23824555972377034,-0.22890289453778248,-0.04784848073676716,-0.07736292507516271,-0.12118368569868121,-0.3526369565364776,-0.3596172647230654,-0.3067984125679954,-0.09625744109598022,-0.09383609738319891,-0.08160005939058816,-0.03989997667887052,-0.19618104887489407,-0.24518794846660813,-0.1950778995608146,-0.23501098637490936,-0.17878132093757348,1.0,null,null,null,null,null,null,null,null,null,null,null],[0.1827190555926499,0.18650137902873146,0.18673546502514857,0.22536772155566537,0.22339438267748188,0.2196762682982909,0.021597763913925636,-0.09231964141733696,0.08180751854987582,0.2270550359506891,0.2365465516148814,0.20214393130083486,0.07913979375739116,0.07669038624783531,0.06890729605190461,0.023485537109214413,0.0790088281164453,0.17492392878127355,0.0853470524523278,0.17947715183605795,-0.06619351609450257,-0.49118034416799394,1.0,null,null,null,null,null,null,null,null,null,null],[0.2932766807782597,0.30126862669176957,0.2998542067197643,0.4552703995465093,0.41538054266801616,0.39025538351823796,0.1160260270003795,0.46742925886132236,0.20040608994608977,0.5109385122605135,0.5733310215189396,0.5200078115570752,0.19070005532210316,0.19216264371188047,0.17210535936670804,0.08644649496901076,0.2577265893298707,0.372433582853541,0.26177473487362407,0.3727092845577307,0.4910589699253127,-0.5035112610817323,0.5633201197814965,1.0,null,null,null,null,null,null,null,null,null],[0.07753281494624568,0.08091231308599492,0.07980244181644401,0.21651245727015275,0.17323840368230814,0.14069248175363425,0.1318276115968986,0.28060069440201074,0.06731600588922705,0.2710504895366341,0.2893677800893705,0.25806215303843966,0.07599746316294043,0.07998414170499628,0.07309392456398715,0.04400833451556986,0.1483751298005904,0.15802864984949205,0.14485481826258928,0.15099958425290197,0.3855929180844401,-0.20083841817539555,-0.45744596601288023,0.13164523061830072,1.0,null,null,null,null,null,null,null,null],[0.22121808477434948,0.2278047190296872,0.22575429784500237,0.38691649618573015,0.3392085315725307,0.31236031361201344,0.12251745373603547,0.5720571612680208,0.18692718831489674,0.4644724330323366,0.5216316287277012,0.4754687840411363,0.16487840975569884,0.1686034131976707,0.15046944231673084,0.08284980535122032,0.2519011000223394,0.31970729279741494,0.2535224303619082,0.3164096399273568,0.6346143702900006,-0.29302607042776424,0.011598219889306455,0.8224215741352531,0.4720006151891937,1.0,null,null,null,null,null,null,null],[0.12103289035711738,0.12284541409713624,0.12238614838505672,0.12085688688892882,0.1261082691148407,0.13472702510395446,-0.021182690802602072,0.037314606251583074,0.07226526795935952,0.11790565024313933,0.13264129059981528,0.12029685329838692,0.05097209781483627,0.04910542254988025,0.04267514820291508,0.01535698877926476,0.040182043001155306,0.10396026501320603,0.04620285341526468,0.10917273660942291,0.0013436409596038707,-0.18133106052188813,0.7387128741323924,0.5473046595884535,-0.7162639145161516,0.18115352680180752,1.0,null,null,null,null,null,null],[0.2853204965513694,0.2940176453849004,0.29578677379099483,0.5101059048344936,0.4651635092787483,0.4146765601198223,0.16300705925826384,0.05549796310021623,0.12992490621059105,0.5374339904344431,0.5275444413920719,0.45440521804639006,0.15742758162689183,0.1623524442710763,0.14793937004425464,0.06890152062111904,0.18916568952602342,0.32999065591049864,0.1905497740570245,0.32822526424320875,0.35378761288831345,-0.44587671462070666,0.24038120546274033,0.7201433848972414,0.4807622864055924,0.7156367408517446,0.09233593495483416,1.0,null,null,null,null,null],[-0.26050622644396554,-0.26794429383807994,-0.2666294022582644,-0.4419040983176992,-0.3976532744124408,-0.36508978753271326,-0.14307243538776748,-0.44091767235686535,-0.16338373144028304,-0.47337836215239115,-0.5381842616825586,-0.4952404890408654,-0.17652047838927787,-0.17924524971624448,-0.16113433608949435,-0.08310993895076692,-0.24392404825493955,-0.3499763482779242,-0.24649731585686144,-0.34839906170179963,-0.4903953095195415,0.40270810068467244,-0.18883437271928483,-0.7236316721461831,-0.49511747591639593,-0.7392238825872219,-0.07420407420535109,-0.5606248548046229,1.0,null,null,null,null],[0.18661163043357393,0.19255104120728514,0.19228024548071146,0.31623386320463837,0.2815313296104806,0.25506119729096327,0.11261910922721839,0.3604022688543764,0.1240914326142221,0.413638595429601,0.40967411619152616,0.3411340511561375,0.12692644885369345,0.13028425348336592,0.11766046423798449,0.058693518207978974,0.17093834165740063,0.23951154956599358,0.16918380562845842,0.2372401114988246,0.35079716058764926,-0.3066517573117073,0.14962803839451716,0.5213656649594948,0.3416507044472133,0.5274441358082821,0.06938437898881089,0.6357407135204164,-0.15298301451814666,1.0,null,null,null],[0.4454425831985286,0.45640223554726156,0.4555675067861768,0.8161566587592292,0.7745931311420313,0.713746527417581,0.2164345868640689,-0.07986182307417923,0.07973126837284891,0.5861699675527131,0.6061347809152873,0.39797301860577433,0.09519958206406424,0.09944834572575685,0.09369751841189415,0.04211048885651621,0.17038247741145432,0.3885678529102388,0.16639401269887238,0.3800775258821052,0.2946554523270008,-0.3780164981474694,0.2653563065333936,0.645191706826562,0.3617872770202504,0.6004967345415235,0.14184113136896673,0.7244926971699259,-0.6346165763632075,0.4384409229161287,1.0,null,null],[0.14481273696775654,0.18926978819178883,0.2264507325827208,0.11300547736440661,0.16331517118430197,0.1406425269278981,-0.018126521933347708,-0.025044221427526228,-0.24244102691957148,0.061836034783806205,0.04340873712420655,0.009050511421230681,0.011831707096585558,0.09545113574979673,0.2746215913251169,0.04772813115397291,0.04833878852572345,0.08313275932044957,0.05117066835508666,0.12687750008937249,-0.03921487545694602,0.0007025330730705062,0.0209957816358996,0.0036769646313756224,0.0005024453970468,-0.00934198209909683,0.0025573744728643734,0.034224548087237135,-0.012243000617312942,0.006646310529431697,0.07199612124023287,1.0,null],[-0.003209617629309617,0.019872224663234534,0.039864089149192206,0.057075926483003095,0.06957938479282108,0.029064052780830532,0.011646786085586619,-0.033806313824774184,-0.17308230044341663,0.0063950223560695655,-0.13599733785446427,-0.07749206155327766,-0.147449283744682,-0.13011089640816464,0.029910102874124326,-0.04476001362585391,0.010097653696538589,-0.043901799118570436,0.01774293131368606,-0.012719510741926288,-0.07623016771330206,0.004356597381310042,-0.005485984599444625,-0.03892006063619702,-0.012862395816033904,-0.03883602736132183,-0.00985659123130904,-0.032277644824909385,0.03239905370936595,-0.031187430329134208,0.09091585536248249,0.6249927379959352,1.0]]}],                        {\"coloraxis\":{\"cmax\":1,\"cmin\":-1,\"colorbar\":{\"title\":{\"text\":\"Correlation\"}},\"colorscale\":[[0.0,\"rgb(103,0,31)\"],[0.1,\"rgb(178,24,43)\"],[0.2,\"rgb(214,96,77)\"],[0.3,\"rgb(244,165,130)\"],[0.4,\"rgb(253,219,199)\"],[0.5,\"rgb(247,247,247)\"],[0.6,\"rgb(209,229,240)\"],[0.7,\"rgb(146,197,222)\"],[0.8,\"rgb(67,147,195)\"],[0.9,\"rgb(33,102,172)\"],[1.0,\"rgb(5,48,97)\"]]},\"height\":1000,\"margin\":{\"t\":60},\"template\":{\"data\":{\"bar\":[{\"error_x\":{\"color\":\"rgb(36,36,36)\"},\"error_y\":{\"color\":\"rgb(36,36,36)\"},\"marker\":{\"line\":{\"color\":\"rgb(234,234,242)\",\"width\":0.5},\"pattern\":{\"fillmode\":\"overlay\",\"size\":10,\"solidity\":0.2}},\"type\":\"bar\"}],\"barpolar\":[{\"marker\":{\"line\":{\"color\":\"rgb(234,234,242)\",\"width\":0.5},\"pattern\":{\"fillmode\":\"overlay\",\"size\":10,\"solidity\":0.2}},\"type\":\"barpolar\"}],\"carpet\":[{\"aaxis\":{\"endlinecolor\":\"rgb(36,36,36)\",\"gridcolor\":\"white\",\"linecolor\":\"white\",\"minorgridcolor\":\"white\",\"startlinecolor\":\"rgb(36,36,36)\"},\"baxis\":{\"endlinecolor\":\"rgb(36,36,36)\",\"gridcolor\":\"white\",\"linecolor\":\"white\",\"minorgridcolor\":\"white\",\"startlinecolor\":\"rgb(36,36,36)\"},\"type\":\"carpet\"}],\"choropleth\":[{\"colorbar\":{\"outlinewidth\":0,\"tickcolor\":\"rgb(36,36,36)\",\"ticklen\":8,\"ticks\":\"outside\",\"tickwidth\":2},\"type\":\"choropleth\"}],\"contour\":[{\"colorbar\":{\"outlinewidth\":0,\"tickcolor\":\"rgb(36,36,36)\",\"ticklen\":8,\"ticks\":\"outside\",\"tickwidth\":2},\"colorscale\":[[0.0,\"rgb(2,4,25)\"],[0.06274509803921569,\"rgb(24,15,41)\"],[0.12549019607843137,\"rgb(47,23,57)\"],[0.18823529411764706,\"rgb(71,28,72)\"],[0.25098039215686274,\"rgb(97,30,82)\"],[0.3137254901960784,\"rgb(123,30,89)\"],[0.3764705882352941,\"rgb(150,27,91)\"],[0.4392156862745098,\"rgb(177,22,88)\"],[0.5019607843137255,\"rgb(203,26,79)\"],[0.5647058823529412,\"rgb(223,47,67)\"],[0.6274509803921569,\"rgb(236,76,61)\"],[0.6901960784313725,\"rgb(242,107,73)\"],[0.7529411764705882,\"rgb(244,135,95)\"],[0.8156862745098039,\"rgb(245,162,122)\"],[0.8784313725490196,\"rgb(246,188,153)\"],[0.9411764705882353,\"rgb(247,212,187)\"],[1.0,\"rgb(250,234,220)\"]],\"type\":\"contour\"}],\"contourcarpet\":[{\"colorbar\":{\"outlinewidth\":0,\"tickcolor\":\"rgb(36,36,36)\",\"ticklen\":8,\"ticks\":\"outside\",\"tickwidth\":2},\"type\":\"contourcarpet\"}],\"heatmap\":[{\"colorbar\":{\"outlinewidth\":0,\"tickcolor\":\"rgb(36,36,36)\",\"ticklen\":8,\"ticks\":\"outside\",\"tickwidth\":2},\"colorscale\":[[0.0,\"rgb(2,4,25)\"],[0.06274509803921569,\"rgb(24,15,41)\"],[0.12549019607843137,\"rgb(47,23,57)\"],[0.18823529411764706,\"rgb(71,28,72)\"],[0.25098039215686274,\"rgb(97,30,82)\"],[0.3137254901960784,\"rgb(123,30,89)\"],[0.3764705882352941,\"rgb(150,27,91)\"],[0.4392156862745098,\"rgb(177,22,88)\"],[0.5019607843137255,\"rgb(203,26,79)\"],[0.5647058823529412,\"rgb(223,47,67)\"],[0.6274509803921569,\"rgb(236,76,61)\"],[0.6901960784313725,\"rgb(242,107,73)\"],[0.7529411764705882,\"rgb(244,135,95)\"],[0.8156862745098039,\"rgb(245,162,122)\"],[0.8784313725490196,\"rgb(246,188,153)\"],[0.9411764705882353,\"rgb(247,212,187)\"],[1.0,\"rgb(250,234,220)\"]],\"type\":\"heatmap\"}],\"heatmapgl\":[{\"colorbar\":{\"outlinewidth\":0,\"tickcolor\":\"rgb(36,36,36)\",\"ticklen\":8,\"ticks\":\"outside\",\"tickwidth\":2},\"colorscale\":[[0.0,\"rgb(2,4,25)\"],[0.06274509803921569,\"rgb(24,15,41)\"],[0.12549019607843137,\"rgb(47,23,57)\"],[0.18823529411764706,\"rgb(71,28,72)\"],[0.25098039215686274,\"rgb(97,30,82)\"],[0.3137254901960784,\"rgb(123,30,89)\"],[0.3764705882352941,\"rgb(150,27,91)\"],[0.4392156862745098,\"rgb(177,22,88)\"],[0.5019607843137255,\"rgb(203,26,79)\"],[0.5647058823529412,\"rgb(223,47,67)\"],[0.6274509803921569,\"rgb(236,76,61)\"],[0.6901960784313725,\"rgb(242,107,73)\"],[0.7529411764705882,\"rgb(244,135,95)\"],[0.8156862745098039,\"rgb(245,162,122)\"],[0.8784313725490196,\"rgb(246,188,153)\"],[0.9411764705882353,\"rgb(247,212,187)\"],[1.0,\"rgb(250,234,220)\"]],\"type\":\"heatmapgl\"}],\"histogram\":[{\"marker\":{\"pattern\":{\"fillmode\":\"overlay\",\"size\":10,\"solidity\":0.2}},\"type\":\"histogram\"}],\"histogram2d\":[{\"colorbar\":{\"outlinewidth\":0,\"tickcolor\":\"rgb(36,36,36)\",\"ticklen\":8,\"ticks\":\"outside\",\"tickwidth\":2},\"colorscale\":[[0.0,\"rgb(2,4,25)\"],[0.06274509803921569,\"rgb(24,15,41)\"],[0.12549019607843137,\"rgb(47,23,57)\"],[0.18823529411764706,\"rgb(71,28,72)\"],[0.25098039215686274,\"rgb(97,30,82)\"],[0.3137254901960784,\"rgb(123,30,89)\"],[0.3764705882352941,\"rgb(150,27,91)\"],[0.4392156862745098,\"rgb(177,22,88)\"],[0.5019607843137255,\"rgb(203,26,79)\"],[0.5647058823529412,\"rgb(223,47,67)\"],[0.6274509803921569,\"rgb(236,76,61)\"],[0.6901960784313725,\"rgb(242,107,73)\"],[0.7529411764705882,\"rgb(244,135,95)\"],[0.8156862745098039,\"rgb(245,162,122)\"],[0.8784313725490196,\"rgb(246,188,153)\"],[0.9411764705882353,\"rgb(247,212,187)\"],[1.0,\"rgb(250,234,220)\"]],\"type\":\"histogram2d\"}],\"histogram2dcontour\":[{\"colorbar\":{\"outlinewidth\":0,\"tickcolor\":\"rgb(36,36,36)\",\"ticklen\":8,\"ticks\":\"outside\",\"tickwidth\":2},\"colorscale\":[[0.0,\"rgb(2,4,25)\"],[0.06274509803921569,\"rgb(24,15,41)\"],[0.12549019607843137,\"rgb(47,23,57)\"],[0.18823529411764706,\"rgb(71,28,72)\"],[0.25098039215686274,\"rgb(97,30,82)\"],[0.3137254901960784,\"rgb(123,30,89)\"],[0.3764705882352941,\"rgb(150,27,91)\"],[0.4392156862745098,\"rgb(177,22,88)\"],[0.5019607843137255,\"rgb(203,26,79)\"],[0.5647058823529412,\"rgb(223,47,67)\"],[0.6274509803921569,\"rgb(236,76,61)\"],[0.6901960784313725,\"rgb(242,107,73)\"],[0.7529411764705882,\"rgb(244,135,95)\"],[0.8156862745098039,\"rgb(245,162,122)\"],[0.8784313725490196,\"rgb(246,188,153)\"],[0.9411764705882353,\"rgb(247,212,187)\"],[1.0,\"rgb(250,234,220)\"]],\"type\":\"histogram2dcontour\"}],\"mesh3d\":[{\"colorbar\":{\"outlinewidth\":0,\"tickcolor\":\"rgb(36,36,36)\",\"ticklen\":8,\"ticks\":\"outside\",\"tickwidth\":2},\"type\":\"mesh3d\"}],\"parcoords\":[{\"line\":{\"colorbar\":{\"outlinewidth\":0,\"tickcolor\":\"rgb(36,36,36)\",\"ticklen\":8,\"ticks\":\"outside\",\"tickwidth\":2}},\"type\":\"parcoords\"}],\"pie\":[{\"automargin\":true,\"type\":\"pie\"}],\"scatter\":[{\"marker\":{\"colorbar\":{\"outlinewidth\":0,\"tickcolor\":\"rgb(36,36,36)\",\"ticklen\":8,\"ticks\":\"outside\",\"tickwidth\":2}},\"type\":\"scatter\"}],\"scatter3d\":[{\"line\":{\"colorbar\":{\"outlinewidth\":0,\"tickcolor\":\"rgb(36,36,36)\",\"ticklen\":8,\"ticks\":\"outside\",\"tickwidth\":2}},\"marker\":{\"colorbar\":{\"outlinewidth\":0,\"tickcolor\":\"rgb(36,36,36)\",\"ticklen\":8,\"ticks\":\"outside\",\"tickwidth\":2}},\"type\":\"scatter3d\"}],\"scattercarpet\":[{\"marker\":{\"colorbar\":{\"outlinewidth\":0,\"tickcolor\":\"rgb(36,36,36)\",\"ticklen\":8,\"ticks\":\"outside\",\"tickwidth\":2}},\"type\":\"scattercarpet\"}],\"scattergeo\":[{\"marker\":{\"colorbar\":{\"outlinewidth\":0,\"tickcolor\":\"rgb(36,36,36)\",\"ticklen\":8,\"ticks\":\"outside\",\"tickwidth\":2}},\"type\":\"scattergeo\"}],\"scattergl\":[{\"marker\":{\"colorbar\":{\"outlinewidth\":0,\"tickcolor\":\"rgb(36,36,36)\",\"ticklen\":8,\"ticks\":\"outside\",\"tickwidth\":2}},\"type\":\"scattergl\"}],\"scattermapbox\":[{\"marker\":{\"colorbar\":{\"outlinewidth\":0,\"tickcolor\":\"rgb(36,36,36)\",\"ticklen\":8,\"ticks\":\"outside\",\"tickwidth\":2}},\"type\":\"scattermapbox\"}],\"scatterpolar\":[{\"marker\":{\"colorbar\":{\"outlinewidth\":0,\"tickcolor\":\"rgb(36,36,36)\",\"ticklen\":8,\"ticks\":\"outside\",\"tickwidth\":2}},\"type\":\"scatterpolar\"}],\"scatterpolargl\":[{\"marker\":{\"colorbar\":{\"outlinewidth\":0,\"tickcolor\":\"rgb(36,36,36)\",\"ticklen\":8,\"ticks\":\"outside\",\"tickwidth\":2}},\"type\":\"scatterpolargl\"}],\"scatterternary\":[{\"marker\":{\"colorbar\":{\"outlinewidth\":0,\"tickcolor\":\"rgb(36,36,36)\",\"ticklen\":8,\"ticks\":\"outside\",\"tickwidth\":2}},\"type\":\"scatterternary\"}],\"surface\":[{\"colorbar\":{\"outlinewidth\":0,\"tickcolor\":\"rgb(36,36,36)\",\"ticklen\":8,\"ticks\":\"outside\",\"tickwidth\":2},\"colorscale\":[[0.0,\"rgb(2,4,25)\"],[0.06274509803921569,\"rgb(24,15,41)\"],[0.12549019607843137,\"rgb(47,23,57)\"],[0.18823529411764706,\"rgb(71,28,72)\"],[0.25098039215686274,\"rgb(97,30,82)\"],[0.3137254901960784,\"rgb(123,30,89)\"],[0.3764705882352941,\"rgb(150,27,91)\"],[0.4392156862745098,\"rgb(177,22,88)\"],[0.5019607843137255,\"rgb(203,26,79)\"],[0.5647058823529412,\"rgb(223,47,67)\"],[0.6274509803921569,\"rgb(236,76,61)\"],[0.6901960784313725,\"rgb(242,107,73)\"],[0.7529411764705882,\"rgb(244,135,95)\"],[0.8156862745098039,\"rgb(245,162,122)\"],[0.8784313725490196,\"rgb(246,188,153)\"],[0.9411764705882353,\"rgb(247,212,187)\"],[1.0,\"rgb(250,234,220)\"]],\"type\":\"surface\"}],\"table\":[{\"cells\":{\"fill\":{\"color\":\"rgb(231,231,240)\"},\"line\":{\"color\":\"white\"}},\"header\":{\"fill\":{\"color\":\"rgb(183,183,191)\"},\"line\":{\"color\":\"white\"}},\"type\":\"table\"}]},\"layout\":{\"annotationdefaults\":{\"arrowcolor\":\"rgb(67,103,167)\"},\"autotypenumbers\":\"strict\",\"coloraxis\":{\"colorbar\":{\"outlinewidth\":0,\"tickcolor\":\"rgb(36,36,36)\",\"ticklen\":8,\"ticks\":\"outside\",\"tickwidth\":2}},\"colorscale\":{\"sequential\":[[0.0,\"rgb(2,4,25)\"],[0.06274509803921569,\"rgb(24,15,41)\"],[0.12549019607843137,\"rgb(47,23,57)\"],[0.18823529411764706,\"rgb(71,28,72)\"],[0.25098039215686274,\"rgb(97,30,82)\"],[0.3137254901960784,\"rgb(123,30,89)\"],[0.3764705882352941,\"rgb(150,27,91)\"],[0.4392156862745098,\"rgb(177,22,88)\"],[0.5019607843137255,\"rgb(203,26,79)\"],[0.5647058823529412,\"rgb(223,47,67)\"],[0.6274509803921569,\"rgb(236,76,61)\"],[0.6901960784313725,\"rgb(242,107,73)\"],[0.7529411764705882,\"rgb(244,135,95)\"],[0.8156862745098039,\"rgb(245,162,122)\"],[0.8784313725490196,\"rgb(246,188,153)\"],[0.9411764705882353,\"rgb(247,212,187)\"],[1.0,\"rgb(250,234,220)\"]],\"sequentialminus\":[[0.0,\"rgb(2,4,25)\"],[0.06274509803921569,\"rgb(24,15,41)\"],[0.12549019607843137,\"rgb(47,23,57)\"],[0.18823529411764706,\"rgb(71,28,72)\"],[0.25098039215686274,\"rgb(97,30,82)\"],[0.3137254901960784,\"rgb(123,30,89)\"],[0.3764705882352941,\"rgb(150,27,91)\"],[0.4392156862745098,\"rgb(177,22,88)\"],[0.5019607843137255,\"rgb(203,26,79)\"],[0.5647058823529412,\"rgb(223,47,67)\"],[0.6274509803921569,\"rgb(236,76,61)\"],[0.6901960784313725,\"rgb(242,107,73)\"],[0.7529411764705882,\"rgb(244,135,95)\"],[0.8156862745098039,\"rgb(245,162,122)\"],[0.8784313725490196,\"rgb(246,188,153)\"],[0.9411764705882353,\"rgb(247,212,187)\"],[1.0,\"rgb(250,234,220)\"]]},\"colorway\":[\"rgb(76,114,176)\",\"rgb(221,132,82)\",\"rgb(85,168,104)\",\"rgb(196,78,82)\",\"rgb(129,114,179)\",\"rgb(147,120,96)\",\"rgb(218,139,195)\",\"rgb(140,140,140)\",\"rgb(204,185,116)\",\"rgb(100,181,205)\"],\"font\":{\"color\":\"rgb(36,36,36)\"},\"geo\":{\"bgcolor\":\"white\",\"lakecolor\":\"white\",\"landcolor\":\"rgb(234,234,242)\",\"showlakes\":true,\"showland\":true,\"subunitcolor\":\"white\"},\"hoverlabel\":{\"align\":\"left\"},\"hovermode\":\"closest\",\"paper_bgcolor\":\"white\",\"plot_bgcolor\":\"rgb(234,234,242)\",\"polar\":{\"angularaxis\":{\"gridcolor\":\"white\",\"linecolor\":\"white\",\"showgrid\":true,\"ticks\":\"\"},\"bgcolor\":\"rgb(234,234,242)\",\"radialaxis\":{\"gridcolor\":\"white\",\"linecolor\":\"white\",\"showgrid\":true,\"ticks\":\"\"}},\"scene\":{\"xaxis\":{\"backgroundcolor\":\"rgb(234,234,242)\",\"gridcolor\":\"white\",\"gridwidth\":2,\"linecolor\":\"white\",\"showbackground\":true,\"showgrid\":true,\"ticks\":\"\",\"zerolinecolor\":\"white\"},\"yaxis\":{\"backgroundcolor\":\"rgb(234,234,242)\",\"gridcolor\":\"white\",\"gridwidth\":2,\"linecolor\":\"white\",\"showbackground\":true,\"showgrid\":true,\"ticks\":\"\",\"zerolinecolor\":\"white\"},\"zaxis\":{\"backgroundcolor\":\"rgb(234,234,242)\",\"gridcolor\":\"white\",\"gridwidth\":2,\"linecolor\":\"white\",\"showbackground\":true,\"showgrid\":true,\"ticks\":\"\",\"zerolinecolor\":\"white\"}},\"shapedefaults\":{\"fillcolor\":\"rgb(67,103,167)\",\"line\":{\"width\":0},\"opacity\":0.5},\"ternary\":{\"aaxis\":{\"gridcolor\":\"white\",\"linecolor\":\"white\",\"showgrid\":true,\"ticks\":\"\"},\"baxis\":{\"gridcolor\":\"white\",\"linecolor\":\"white\",\"showgrid\":true,\"ticks\":\"\"},\"bgcolor\":\"rgb(234,234,242)\",\"caxis\":{\"gridcolor\":\"white\",\"linecolor\":\"white\",\"showgrid\":true,\"ticks\":\"\"}},\"xaxis\":{\"automargin\":true,\"gridcolor\":\"white\",\"linecolor\":\"white\",\"showgrid\":true,\"ticks\":\"\",\"title\":{\"standoff\":15},\"zerolinecolor\":\"white\"},\"yaxis\":{\"automargin\":true,\"gridcolor\":\"white\",\"linecolor\":\"white\",\"showgrid\":true,\"ticks\":\"\",\"title\":{\"standoff\":15},\"zerolinecolor\":\"white\"}}},\"width\":1000,\"xaxis\":{\"anchor\":\"y\",\"constrain\":\"domain\",\"domain\":[0.0,1.0],\"scaleanchor\":\"y\"},\"yaxis\":{\"anchor\":\"x\",\"autorange\":\"reversed\",\"constrain\":\"domain\",\"domain\":[0.0,1.0]}},                        {\"responsive\": true}                    ).then(function(){\n                            \nvar gd = document.getElementById('efe53496-e767-4fed-8087-9da438e31799');\nvar x = new MutationObserver(function (mutations, observer) {{\n        var display = window.getComputedStyle(gd).display;\n        if (!display || display === 'none') {{\n            console.log([gd, 'removed!']);\n            Plotly.purge(gd);\n            observer.disconnect();\n        }}\n}});\n\n// Listen for the removal of the full notebook cells\nvar notebookContainer = gd.closest('#notebook-container');\nif (notebookContainer) {{\n    x.observe(notebookContainer, {childList: true});\n}}\n\n// Listen for the clearing of the current output cell\nvar outputEl = gd.closest('.output');\nif (outputEl) {{\n    x.observe(outputEl, {childList: true});\n}}\n\n                        })                };                            </script>        </div>\n</body>\n</html>"
     },
     "metadata": {},
     "output_type": "display_data"
    },
    {
     "name": "stdout",
     "text": "These are 18 pairs whose correlation is bigger/small than ±80.0%:\n",
     "output_type": "stream"
    },
    {
     "output_type": "execute_result",
     "execution_count": 22,
     "data": {
      "text/plain": "total_matches_played     total_matches_won         0.988506\ntotal_tourneys_played    total_matches_played      0.987069\nmax_tourney_spectators   max_tourney_revenue       0.967686\nmean_rank_points         max_rank_points           0.962771\ntotal_tourneys_played    total_matches_won         0.952108\nmatches_won_ratio        mean_performance_index    0.942411\nmean_tourney_spectators  mean_tourney_revenue      0.928038\nmean_performance_index   max_performance_index     0.919653\nmax_rank_points          last_rank_points          0.880507\nmatches_won_ratio        max_performance_index     0.840612\nmax_minutes              minutes_entropy           0.836004\nminutes_entropy          max_tourney_spectators    0.835005\n                         max_tourney_revenue       0.827683\nrel_1stWon               1WonOn1In                 0.822422\nmatches_won_ratio        rel_gmsWon                0.816157\ntotal_matches_played     max_tourney_revenue       0.810742\nmean_rank_points         last_rank_points          0.804187\ntotal_matches_won        max_tourney_revenue       0.802575\ndtype: float64"
     },
     "metadata": {}
    }
   ]
  },
  {
   "cell_type": "markdown",
   "source": "### Selection",
   "metadata": {
    "tags": [],
    "is_collapsed": false,
    "cell_id": "00045-2f224695-49e8-48ae-848a-4f949c95399c",
    "deepnote_cell_type": "text-cell-h3"
   }
  },
  {
   "cell_type": "markdown",
   "source": "The following feature may provide an interesting picture about the in-match performance and the game style of the players. The rationale behind is to pick the ones that are less correlated with the rank points.",
   "metadata": {
    "tags": [],
    "is_collapsed": false,
    "cell_id": "00046-e87c908e-c929-4adb-9ee0-bf890685c00c",
    "deepnote_cell_type": "text-cell-p"
   }
  },
  {
   "cell_type": "code",
   "metadata": {
    "tags": [],
    "cell_id": "00046-e67bff39-f126-414a-8e9d-66d004d0da2a",
    "deepnote_to_be_reexecuted": false,
    "source_hash": "bc98be3d",
    "execution_start": 1636929380583,
    "execution_millis": 103,
    "deepnote_cell_type": "code"
   },
   "source": "feautures = ['lrpOnAvgrp', 'lrpOnMxrp', 'mean_performance_index', 'matches_won_ratio', 'mean_rank_points', 'max_rank_points', 'last_rank_points', 'variance_rank_points', 'mean_tourney_spectators', 'max_tourney_spectators', 'mean_tourney_revenue', 'max_tourney_revenue', 'rel_ptsWon', 'rel_gmsWon']\ndf_selected = df_players[feautures].reset_index(drop=True)\n\ncorr_threshold = 0.7\ncorrelation = df_selected.corr(method=\"pearson\") #.abs()\ncorrelation = correlation.where(np.tril(np.ones(correlation.shape)).astype(bool)) # remove upper triangle\n\npx.imshow(correlation, labels=dict(color=\"Correlation\"), color_continuous_scale=px.colors.diverging.RdBu, zmin=-1, zmax=1, width=1000, height=1000).show()\n\ncorrelation = correlation.unstack().drop(labels=get_redundant_pairs(correlation)).sort_values(ascending=False).drop_duplicates()\nprint(f\"These are {len(correlation[(correlation>=corr_threshold) | (correlation<=-corr_threshold)])} pairs whose correlation is bigger/small than ±{corr_threshold*100}%:\")\ncorrelation[(correlation>=corr_threshold) | (correlation<=-corr_threshold)]",
   "execution_count": null,
   "outputs": [
    {
     "data": {
      "text/html": "<html>\n<head><meta charset=\"utf-8\" /></head>\n<body>\n    <div>            <script src=\"https://cdnjs.cloudflare.com/ajax/libs/mathjax/2.7.5/MathJax.js?config=TeX-AMS-MML_SVG\"></script><script type=\"text/javascript\">if (window.MathJax) {MathJax.Hub.Config({SVG: {font: \"STIX-Web\"}});}</script>                <script type=\"text/javascript\">window.PlotlyConfig = {MathJaxConfig: 'local'};</script>\n        <script src=\"https://cdn.plot.ly/plotly-2.4.2.min.js\"></script>                <div id=\"e8e0674e-91f5-40f1-b2d1-e1ddac2d90f8\" class=\"plotly-graph-div\" style=\"height:1000px; width:1000px;\"></div>            <script type=\"text/javascript\">                                    window.PLOTLYENV=window.PLOTLYENV || {};                                    if (document.getElementById(\"e8e0674e-91f5-40f1-b2d1-e1ddac2d90f8\")) {                    Plotly.newPlot(                        \"e8e0674e-91f5-40f1-b2d1-e1ddac2d90f8\",                        [{\"coloraxis\":\"coloraxis\",\"hovertemplate\":\"x: %{x}<br>y: %{y}<br>Correlation: %{z}<extra></extra>\",\"name\":\"0\",\"type\":\"heatmap\",\"x\":[\"lrpOnAvgrp\",\"lrpOnMxrp\",\"mean_performance_index\",\"matches_won_ratio\",\"mean_rank_points\",\"max_rank_points\",\"last_rank_points\",\"variance_rank_points\",\"mean_tourney_spectators\",\"max_tourney_spectators\",\"mean_tourney_revenue\",\"max_tourney_revenue\",\"rel_ptsWon\",\"rel_gmsWon\"],\"xaxis\":\"x\",\"y\":[\"lrpOnAvgrp\",\"lrpOnMxrp\",\"mean_performance_index\",\"matches_won_ratio\",\"mean_rank_points\",\"max_rank_points\",\"last_rank_points\",\"variance_rank_points\",\"mean_tourney_spectators\",\"max_tourney_spectators\",\"mean_tourney_revenue\",\"max_tourney_revenue\",\"rel_ptsWon\",\"rel_gmsWon\"],\"yaxis\":\"y\",\"z\":[[1.0,null,null,null,null,null,null,null,null,null,null,null,null,null],[0.6249927379959352,1.0,null,null,null,null,null,null,null,null,null,null,null,null],[0.16331517118430197,0.06957938479282107,1.0,null,null,null,null,null,null,null,null,null,null,null],[0.11300547736440665,0.05707592648300304,0.9424108177010664,1.0,null,null,null,null,null,null,null,null,null,null],[0.01183170709658556,-0.14744928374468202,0.2052059049957406,0.1586493816361641,1.0,null,null,null,null,null,null,null,null,null],[0.0954511357497967,-0.13011089640816464,0.2173760670557543,0.1659732772733388,0.9627713785825391,1.0,null,null,null,null,null,null,null,null],[0.2746215913251168,0.029910102874124326,0.21007035051502923,0.1566642841408498,0.804186559245035,0.8805065106119562,1.0,null,null,null,null,null,null,null],[0.04772813115397291,-0.0447600136258539,0.1060573355144489,0.07490901746093626,0.7294907559636726,0.7689140094324541,0.6570721709333237,1.0,null,null,null,null,null,null],[0.04833878852572343,0.010097653696538611,0.2000284085347261,0.17171512842998893,0.381594549640865,0.383051625724965,0.3257024266964561,0.18658500766246738,1.0,null,null,null,null,null],[0.08313275932044954,-0.043901799118570436,0.5071688793963104,0.44081021491579725,0.4366887849411403,0.44846647099317183,0.3983692483940258,0.16065243302178808,0.6774058909972018,1.0,null,null,null,null],[0.05117066835508668,0.017742931313686084,0.1924702192129535,0.166579875081731,0.3554710889514431,0.35823385141063485,0.30731772154151016,0.17573862310759075,0.9280381056981685,0.6356778344467374,1.0,null,null,null],[0.12687750008937243,-0.012719510741926295,0.5085378336081332,0.4396235876465695,0.45473812057111584,0.473095272228958,0.43630754897587143,0.17235263303777346,0.6261695345477137,0.9676863847303546,0.6254982460189794,1.0,null,null],[0.03422454808723714,-0.03227764482490939,0.4651635092787483,0.5101059048344936,0.15742758162689183,0.1623524442710763,0.14793937004425464,0.06890152062111904,0.18916568952602342,0.32999065591049864,0.1905497740570245,0.32822526424320875,1.0,null],[0.07199612124023286,0.09091585536248249,0.7745931311420313,0.8161566587592292,0.09519958206406424,0.09944834572575685,0.09369751841189415,0.04211048885651621,0.17038247741145432,0.3885678529102388,0.16639401269887238,0.3800775258821052,0.7244926971699259,1.0]]}],                        {\"coloraxis\":{\"cmax\":1,\"cmin\":-1,\"colorbar\":{\"title\":{\"text\":\"Correlation\"}},\"colorscale\":[[0.0,\"rgb(103,0,31)\"],[0.1,\"rgb(178,24,43)\"],[0.2,\"rgb(214,96,77)\"],[0.3,\"rgb(244,165,130)\"],[0.4,\"rgb(253,219,199)\"],[0.5,\"rgb(247,247,247)\"],[0.6,\"rgb(209,229,240)\"],[0.7,\"rgb(146,197,222)\"],[0.8,\"rgb(67,147,195)\"],[0.9,\"rgb(33,102,172)\"],[1.0,\"rgb(5,48,97)\"]]},\"height\":1000,\"margin\":{\"t\":60},\"template\":{\"data\":{\"bar\":[{\"error_x\":{\"color\":\"rgb(36,36,36)\"},\"error_y\":{\"color\":\"rgb(36,36,36)\"},\"marker\":{\"line\":{\"color\":\"rgb(234,234,242)\",\"width\":0.5},\"pattern\":{\"fillmode\":\"overlay\",\"size\":10,\"solidity\":0.2}},\"type\":\"bar\"}],\"barpolar\":[{\"marker\":{\"line\":{\"color\":\"rgb(234,234,242)\",\"width\":0.5},\"pattern\":{\"fillmode\":\"overlay\",\"size\":10,\"solidity\":0.2}},\"type\":\"barpolar\"}],\"carpet\":[{\"aaxis\":{\"endlinecolor\":\"rgb(36,36,36)\",\"gridcolor\":\"white\",\"linecolor\":\"white\",\"minorgridcolor\":\"white\",\"startlinecolor\":\"rgb(36,36,36)\"},\"baxis\":{\"endlinecolor\":\"rgb(36,36,36)\",\"gridcolor\":\"white\",\"linecolor\":\"white\",\"minorgridcolor\":\"white\",\"startlinecolor\":\"rgb(36,36,36)\"},\"type\":\"carpet\"}],\"choropleth\":[{\"colorbar\":{\"outlinewidth\":0,\"tickcolor\":\"rgb(36,36,36)\",\"ticklen\":8,\"ticks\":\"outside\",\"tickwidth\":2},\"type\":\"choropleth\"}],\"contour\":[{\"colorbar\":{\"outlinewidth\":0,\"tickcolor\":\"rgb(36,36,36)\",\"ticklen\":8,\"ticks\":\"outside\",\"tickwidth\":2},\"colorscale\":[[0.0,\"rgb(2,4,25)\"],[0.06274509803921569,\"rgb(24,15,41)\"],[0.12549019607843137,\"rgb(47,23,57)\"],[0.18823529411764706,\"rgb(71,28,72)\"],[0.25098039215686274,\"rgb(97,30,82)\"],[0.3137254901960784,\"rgb(123,30,89)\"],[0.3764705882352941,\"rgb(150,27,91)\"],[0.4392156862745098,\"rgb(177,22,88)\"],[0.5019607843137255,\"rgb(203,26,79)\"],[0.5647058823529412,\"rgb(223,47,67)\"],[0.6274509803921569,\"rgb(236,76,61)\"],[0.6901960784313725,\"rgb(242,107,73)\"],[0.7529411764705882,\"rgb(244,135,95)\"],[0.8156862745098039,\"rgb(245,162,122)\"],[0.8784313725490196,\"rgb(246,188,153)\"],[0.9411764705882353,\"rgb(247,212,187)\"],[1.0,\"rgb(250,234,220)\"]],\"type\":\"contour\"}],\"contourcarpet\":[{\"colorbar\":{\"outlinewidth\":0,\"tickcolor\":\"rgb(36,36,36)\",\"ticklen\":8,\"ticks\":\"outside\",\"tickwidth\":2},\"type\":\"contourcarpet\"}],\"heatmap\":[{\"colorbar\":{\"outlinewidth\":0,\"tickcolor\":\"rgb(36,36,36)\",\"ticklen\":8,\"ticks\":\"outside\",\"tickwidth\":2},\"colorscale\":[[0.0,\"rgb(2,4,25)\"],[0.06274509803921569,\"rgb(24,15,41)\"],[0.12549019607843137,\"rgb(47,23,57)\"],[0.18823529411764706,\"rgb(71,28,72)\"],[0.25098039215686274,\"rgb(97,30,82)\"],[0.3137254901960784,\"rgb(123,30,89)\"],[0.3764705882352941,\"rgb(150,27,91)\"],[0.4392156862745098,\"rgb(177,22,88)\"],[0.5019607843137255,\"rgb(203,26,79)\"],[0.5647058823529412,\"rgb(223,47,67)\"],[0.6274509803921569,\"rgb(236,76,61)\"],[0.6901960784313725,\"rgb(242,107,73)\"],[0.7529411764705882,\"rgb(244,135,95)\"],[0.8156862745098039,\"rgb(245,162,122)\"],[0.8784313725490196,\"rgb(246,188,153)\"],[0.9411764705882353,\"rgb(247,212,187)\"],[1.0,\"rgb(250,234,220)\"]],\"type\":\"heatmap\"}],\"heatmapgl\":[{\"colorbar\":{\"outlinewidth\":0,\"tickcolor\":\"rgb(36,36,36)\",\"ticklen\":8,\"ticks\":\"outside\",\"tickwidth\":2},\"colorscale\":[[0.0,\"rgb(2,4,25)\"],[0.06274509803921569,\"rgb(24,15,41)\"],[0.12549019607843137,\"rgb(47,23,57)\"],[0.18823529411764706,\"rgb(71,28,72)\"],[0.25098039215686274,\"rgb(97,30,82)\"],[0.3137254901960784,\"rgb(123,30,89)\"],[0.3764705882352941,\"rgb(150,27,91)\"],[0.4392156862745098,\"rgb(177,22,88)\"],[0.5019607843137255,\"rgb(203,26,79)\"],[0.5647058823529412,\"rgb(223,47,67)\"],[0.6274509803921569,\"rgb(236,76,61)\"],[0.6901960784313725,\"rgb(242,107,73)\"],[0.7529411764705882,\"rgb(244,135,95)\"],[0.8156862745098039,\"rgb(245,162,122)\"],[0.8784313725490196,\"rgb(246,188,153)\"],[0.9411764705882353,\"rgb(247,212,187)\"],[1.0,\"rgb(250,234,220)\"]],\"type\":\"heatmapgl\"}],\"histogram\":[{\"marker\":{\"pattern\":{\"fillmode\":\"overlay\",\"size\":10,\"solidity\":0.2}},\"type\":\"histogram\"}],\"histogram2d\":[{\"colorbar\":{\"outlinewidth\":0,\"tickcolor\":\"rgb(36,36,36)\",\"ticklen\":8,\"ticks\":\"outside\",\"tickwidth\":2},\"colorscale\":[[0.0,\"rgb(2,4,25)\"],[0.06274509803921569,\"rgb(24,15,41)\"],[0.12549019607843137,\"rgb(47,23,57)\"],[0.18823529411764706,\"rgb(71,28,72)\"],[0.25098039215686274,\"rgb(97,30,82)\"],[0.3137254901960784,\"rgb(123,30,89)\"],[0.3764705882352941,\"rgb(150,27,91)\"],[0.4392156862745098,\"rgb(177,22,88)\"],[0.5019607843137255,\"rgb(203,26,79)\"],[0.5647058823529412,\"rgb(223,47,67)\"],[0.6274509803921569,\"rgb(236,76,61)\"],[0.6901960784313725,\"rgb(242,107,73)\"],[0.7529411764705882,\"rgb(244,135,95)\"],[0.8156862745098039,\"rgb(245,162,122)\"],[0.8784313725490196,\"rgb(246,188,153)\"],[0.9411764705882353,\"rgb(247,212,187)\"],[1.0,\"rgb(250,234,220)\"]],\"type\":\"histogram2d\"}],\"histogram2dcontour\":[{\"colorbar\":{\"outlinewidth\":0,\"tickcolor\":\"rgb(36,36,36)\",\"ticklen\":8,\"ticks\":\"outside\",\"tickwidth\":2},\"colorscale\":[[0.0,\"rgb(2,4,25)\"],[0.06274509803921569,\"rgb(24,15,41)\"],[0.12549019607843137,\"rgb(47,23,57)\"],[0.18823529411764706,\"rgb(71,28,72)\"],[0.25098039215686274,\"rgb(97,30,82)\"],[0.3137254901960784,\"rgb(123,30,89)\"],[0.3764705882352941,\"rgb(150,27,91)\"],[0.4392156862745098,\"rgb(177,22,88)\"],[0.5019607843137255,\"rgb(203,26,79)\"],[0.5647058823529412,\"rgb(223,47,67)\"],[0.6274509803921569,\"rgb(236,76,61)\"],[0.6901960784313725,\"rgb(242,107,73)\"],[0.7529411764705882,\"rgb(244,135,95)\"],[0.8156862745098039,\"rgb(245,162,122)\"],[0.8784313725490196,\"rgb(246,188,153)\"],[0.9411764705882353,\"rgb(247,212,187)\"],[1.0,\"rgb(250,234,220)\"]],\"type\":\"histogram2dcontour\"}],\"mesh3d\":[{\"colorbar\":{\"outlinewidth\":0,\"tickcolor\":\"rgb(36,36,36)\",\"ticklen\":8,\"ticks\":\"outside\",\"tickwidth\":2},\"type\":\"mesh3d\"}],\"parcoords\":[{\"line\":{\"colorbar\":{\"outlinewidth\":0,\"tickcolor\":\"rgb(36,36,36)\",\"ticklen\":8,\"ticks\":\"outside\",\"tickwidth\":2}},\"type\":\"parcoords\"}],\"pie\":[{\"automargin\":true,\"type\":\"pie\"}],\"scatter\":[{\"marker\":{\"colorbar\":{\"outlinewidth\":0,\"tickcolor\":\"rgb(36,36,36)\",\"ticklen\":8,\"ticks\":\"outside\",\"tickwidth\":2}},\"type\":\"scatter\"}],\"scatter3d\":[{\"line\":{\"colorbar\":{\"outlinewidth\":0,\"tickcolor\":\"rgb(36,36,36)\",\"ticklen\":8,\"ticks\":\"outside\",\"tickwidth\":2}},\"marker\":{\"colorbar\":{\"outlinewidth\":0,\"tickcolor\":\"rgb(36,36,36)\",\"ticklen\":8,\"ticks\":\"outside\",\"tickwidth\":2}},\"type\":\"scatter3d\"}],\"scattercarpet\":[{\"marker\":{\"colorbar\":{\"outlinewidth\":0,\"tickcolor\":\"rgb(36,36,36)\",\"ticklen\":8,\"ticks\":\"outside\",\"tickwidth\":2}},\"type\":\"scattercarpet\"}],\"scattergeo\":[{\"marker\":{\"colorbar\":{\"outlinewidth\":0,\"tickcolor\":\"rgb(36,36,36)\",\"ticklen\":8,\"ticks\":\"outside\",\"tickwidth\":2}},\"type\":\"scattergeo\"}],\"scattergl\":[{\"marker\":{\"colorbar\":{\"outlinewidth\":0,\"tickcolor\":\"rgb(36,36,36)\",\"ticklen\":8,\"ticks\":\"outside\",\"tickwidth\":2}},\"type\":\"scattergl\"}],\"scattermapbox\":[{\"marker\":{\"colorbar\":{\"outlinewidth\":0,\"tickcolor\":\"rgb(36,36,36)\",\"ticklen\":8,\"ticks\":\"outside\",\"tickwidth\":2}},\"type\":\"scattermapbox\"}],\"scatterpolar\":[{\"marker\":{\"colorbar\":{\"outlinewidth\":0,\"tickcolor\":\"rgb(36,36,36)\",\"ticklen\":8,\"ticks\":\"outside\",\"tickwidth\":2}},\"type\":\"scatterpolar\"}],\"scatterpolargl\":[{\"marker\":{\"colorbar\":{\"outlinewidth\":0,\"tickcolor\":\"rgb(36,36,36)\",\"ticklen\":8,\"ticks\":\"outside\",\"tickwidth\":2}},\"type\":\"scatterpolargl\"}],\"scatterternary\":[{\"marker\":{\"colorbar\":{\"outlinewidth\":0,\"tickcolor\":\"rgb(36,36,36)\",\"ticklen\":8,\"ticks\":\"outside\",\"tickwidth\":2}},\"type\":\"scatterternary\"}],\"surface\":[{\"colorbar\":{\"outlinewidth\":0,\"tickcolor\":\"rgb(36,36,36)\",\"ticklen\":8,\"ticks\":\"outside\",\"tickwidth\":2},\"colorscale\":[[0.0,\"rgb(2,4,25)\"],[0.06274509803921569,\"rgb(24,15,41)\"],[0.12549019607843137,\"rgb(47,23,57)\"],[0.18823529411764706,\"rgb(71,28,72)\"],[0.25098039215686274,\"rgb(97,30,82)\"],[0.3137254901960784,\"rgb(123,30,89)\"],[0.3764705882352941,\"rgb(150,27,91)\"],[0.4392156862745098,\"rgb(177,22,88)\"],[0.5019607843137255,\"rgb(203,26,79)\"],[0.5647058823529412,\"rgb(223,47,67)\"],[0.6274509803921569,\"rgb(236,76,61)\"],[0.6901960784313725,\"rgb(242,107,73)\"],[0.7529411764705882,\"rgb(244,135,95)\"],[0.8156862745098039,\"rgb(245,162,122)\"],[0.8784313725490196,\"rgb(246,188,153)\"],[0.9411764705882353,\"rgb(247,212,187)\"],[1.0,\"rgb(250,234,220)\"]],\"type\":\"surface\"}],\"table\":[{\"cells\":{\"fill\":{\"color\":\"rgb(231,231,240)\"},\"line\":{\"color\":\"white\"}},\"header\":{\"fill\":{\"color\":\"rgb(183,183,191)\"},\"line\":{\"color\":\"white\"}},\"type\":\"table\"}]},\"layout\":{\"annotationdefaults\":{\"arrowcolor\":\"rgb(67,103,167)\"},\"autotypenumbers\":\"strict\",\"coloraxis\":{\"colorbar\":{\"outlinewidth\":0,\"tickcolor\":\"rgb(36,36,36)\",\"ticklen\":8,\"ticks\":\"outside\",\"tickwidth\":2}},\"colorscale\":{\"sequential\":[[0.0,\"rgb(2,4,25)\"],[0.06274509803921569,\"rgb(24,15,41)\"],[0.12549019607843137,\"rgb(47,23,57)\"],[0.18823529411764706,\"rgb(71,28,72)\"],[0.25098039215686274,\"rgb(97,30,82)\"],[0.3137254901960784,\"rgb(123,30,89)\"],[0.3764705882352941,\"rgb(150,27,91)\"],[0.4392156862745098,\"rgb(177,22,88)\"],[0.5019607843137255,\"rgb(203,26,79)\"],[0.5647058823529412,\"rgb(223,47,67)\"],[0.6274509803921569,\"rgb(236,76,61)\"],[0.6901960784313725,\"rgb(242,107,73)\"],[0.7529411764705882,\"rgb(244,135,95)\"],[0.8156862745098039,\"rgb(245,162,122)\"],[0.8784313725490196,\"rgb(246,188,153)\"],[0.9411764705882353,\"rgb(247,212,187)\"],[1.0,\"rgb(250,234,220)\"]],\"sequentialminus\":[[0.0,\"rgb(2,4,25)\"],[0.06274509803921569,\"rgb(24,15,41)\"],[0.12549019607843137,\"rgb(47,23,57)\"],[0.18823529411764706,\"rgb(71,28,72)\"],[0.25098039215686274,\"rgb(97,30,82)\"],[0.3137254901960784,\"rgb(123,30,89)\"],[0.3764705882352941,\"rgb(150,27,91)\"],[0.4392156862745098,\"rgb(177,22,88)\"],[0.5019607843137255,\"rgb(203,26,79)\"],[0.5647058823529412,\"rgb(223,47,67)\"],[0.6274509803921569,\"rgb(236,76,61)\"],[0.6901960784313725,\"rgb(242,107,73)\"],[0.7529411764705882,\"rgb(244,135,95)\"],[0.8156862745098039,\"rgb(245,162,122)\"],[0.8784313725490196,\"rgb(246,188,153)\"],[0.9411764705882353,\"rgb(247,212,187)\"],[1.0,\"rgb(250,234,220)\"]]},\"colorway\":[\"rgb(76,114,176)\",\"rgb(221,132,82)\",\"rgb(85,168,104)\",\"rgb(196,78,82)\",\"rgb(129,114,179)\",\"rgb(147,120,96)\",\"rgb(218,139,195)\",\"rgb(140,140,140)\",\"rgb(204,185,116)\",\"rgb(100,181,205)\"],\"font\":{\"color\":\"rgb(36,36,36)\"},\"geo\":{\"bgcolor\":\"white\",\"lakecolor\":\"white\",\"landcolor\":\"rgb(234,234,242)\",\"showlakes\":true,\"showland\":true,\"subunitcolor\":\"white\"},\"hoverlabel\":{\"align\":\"left\"},\"hovermode\":\"closest\",\"paper_bgcolor\":\"white\",\"plot_bgcolor\":\"rgb(234,234,242)\",\"polar\":{\"angularaxis\":{\"gridcolor\":\"white\",\"linecolor\":\"white\",\"showgrid\":true,\"ticks\":\"\"},\"bgcolor\":\"rgb(234,234,242)\",\"radialaxis\":{\"gridcolor\":\"white\",\"linecolor\":\"white\",\"showgrid\":true,\"ticks\":\"\"}},\"scene\":{\"xaxis\":{\"backgroundcolor\":\"rgb(234,234,242)\",\"gridcolor\":\"white\",\"gridwidth\":2,\"linecolor\":\"white\",\"showbackground\":true,\"showgrid\":true,\"ticks\":\"\",\"zerolinecolor\":\"white\"},\"yaxis\":{\"backgroundcolor\":\"rgb(234,234,242)\",\"gridcolor\":\"white\",\"gridwidth\":2,\"linecolor\":\"white\",\"showbackground\":true,\"showgrid\":true,\"ticks\":\"\",\"zerolinecolor\":\"white\"},\"zaxis\":{\"backgroundcolor\":\"rgb(234,234,242)\",\"gridcolor\":\"white\",\"gridwidth\":2,\"linecolor\":\"white\",\"showbackground\":true,\"showgrid\":true,\"ticks\":\"\",\"zerolinecolor\":\"white\"}},\"shapedefaults\":{\"fillcolor\":\"rgb(67,103,167)\",\"line\":{\"width\":0},\"opacity\":0.5},\"ternary\":{\"aaxis\":{\"gridcolor\":\"white\",\"linecolor\":\"white\",\"showgrid\":true,\"ticks\":\"\"},\"baxis\":{\"gridcolor\":\"white\",\"linecolor\":\"white\",\"showgrid\":true,\"ticks\":\"\"},\"bgcolor\":\"rgb(234,234,242)\",\"caxis\":{\"gridcolor\":\"white\",\"linecolor\":\"white\",\"showgrid\":true,\"ticks\":\"\"}},\"xaxis\":{\"automargin\":true,\"gridcolor\":\"white\",\"linecolor\":\"white\",\"showgrid\":true,\"ticks\":\"\",\"title\":{\"standoff\":15},\"zerolinecolor\":\"white\"},\"yaxis\":{\"automargin\":true,\"gridcolor\":\"white\",\"linecolor\":\"white\",\"showgrid\":true,\"ticks\":\"\",\"title\":{\"standoff\":15},\"zerolinecolor\":\"white\"}}},\"width\":1000,\"xaxis\":{\"anchor\":\"y\",\"constrain\":\"domain\",\"domain\":[0.0,1.0],\"scaleanchor\":\"y\"},\"yaxis\":{\"anchor\":\"x\",\"autorange\":\"reversed\",\"constrain\":\"domain\",\"domain\":[0.0,1.0]}},                        {\"responsive\": true}                    ).then(function(){\n                            \nvar gd = document.getElementById('e8e0674e-91f5-40f1-b2d1-e1ddac2d90f8');\nvar x = new MutationObserver(function (mutations, observer) {{\n        var display = window.getComputedStyle(gd).display;\n        if (!display || display === 'none') {{\n            console.log([gd, 'removed!']);\n            Plotly.purge(gd);\n            observer.disconnect();\n        }}\n}});\n\n// Listen for the removal of the full notebook cells\nvar notebookContainer = gd.closest('#notebook-container');\nif (notebookContainer) {{\n    x.observe(notebookContainer, {childList: true});\n}}\n\n// Listen for the clearing of the current output cell\nvar outputEl = gd.closest('.output');\nif (outputEl) {{\n    x.observe(outputEl, {childList: true});\n}}\n\n                        })                };                            </script>        </div>\n</body>\n</html>"
     },
     "metadata": {},
     "output_type": "display_data"
    },
    {
     "name": "stdout",
     "text": "These are 11 pairs whose correlation is bigger/small than ±70.0%:\n",
     "output_type": "stream"
    },
    {
     "output_type": "execute_result",
     "execution_count": 23,
     "data": {
      "text/plain": "max_tourney_spectators   max_tourney_revenue     0.967686\nmean_rank_points         max_rank_points         0.962771\nmean_performance_index   matches_won_ratio       0.942411\nmean_tourney_spectators  mean_tourney_revenue    0.928038\nmax_rank_points          last_rank_points        0.880507\nmatches_won_ratio        rel_gmsWon              0.816157\nmean_rank_points         last_rank_points        0.804187\nmean_performance_index   rel_gmsWon              0.774593\nmax_rank_points          variance_rank_points    0.768914\nmean_rank_points         variance_rank_points    0.729491\nrel_ptsWon               rel_gmsWon              0.724493\ndtype: float64"
     },
     "metadata": {}
    }
   ]
  },
  {
   "cell_type": "markdown",
   "source": "The idea is to drop `rel_ace` and `1WonOnTotWon`.\n- The former because 1WonOn1In it's an event that it's more informative about a player's performance in a match\n- The latter because it's correlated with two features",
   "metadata": {
    "tags": [],
    "cell_id": "00044-83293322-bd1f-4d0a-9c68-0d959823a41e",
    "deepnote_cell_type": "markdown"
   }
  },
  {
   "cell_type": "code",
   "metadata": {
    "tags": [],
    "cell_id": "00048-cd31207e-9e25-4c23-a16e-92bf6a451db0",
    "deepnote_to_be_reexecuted": false,
    "source_hash": "39242d77",
    "execution_start": 1636929380693,
    "execution_millis": 52,
    "deepnote_cell_type": "code"
   },
   "source": "feautures = [\"rel_df\", \"rel_1stIn\", \"rel_2ndWon\", \"1WonOn1In\", \"rel_bpSaved\"]\ndf_selected = df_players[feautures].reset_index(drop=True)\ndf_selected.describe()",
   "execution_count": null,
   "outputs": [
    {
     "output_type": "execute_result",
     "execution_count": 24,
     "data": {
      "application/vnd.deepnote.dataframe.v2+json": {
       "row_count": 8,
       "column_count": 5,
       "columns": [
        {
         "name": "rel_df",
         "dtype": "float64",
         "stats": {
          "unique_count": 8,
          "nan_count": 0,
          "min": "0.0",
          "max": "4253.0",
          "histogram": [
           {
            "bin_start": 0,
            "bin_end": 425.3,
            "count": 7
           },
           {
            "bin_start": 425.3,
            "bin_end": 850.6,
            "count": 0
           },
           {
            "bin_start": 850.6,
            "bin_end": 1275.9,
            "count": 0
           },
           {
            "bin_start": 1275.9,
            "bin_end": 1701.2,
            "count": 0
           },
           {
            "bin_start": 1701.2,
            "bin_end": 2126.5,
            "count": 0
           },
           {
            "bin_start": 2126.5,
            "bin_end": 2551.8,
            "count": 0
           },
           {
            "bin_start": 2551.8,
            "bin_end": 2977.1,
            "count": 0
           },
           {
            "bin_start": 2977.1,
            "bin_end": 3402.4,
            "count": 0
           },
           {
            "bin_start": 3402.4,
            "bin_end": 3827.7000000000003,
            "count": 0
           },
           {
            "bin_start": 3827.7000000000003,
            "bin_end": 4253,
            "count": 1
           }
          ]
         }
        },
        {
         "name": "rel_1stIn",
         "dtype": "float64",
         "stats": {
          "unique_count": 8,
          "nan_count": 0,
          "min": "0.07264250646400337",
          "max": "4253.0",
          "histogram": [
           {
            "bin_start": 0.07264250646400337,
            "bin_end": 425.3653782558176,
            "count": 7
           },
           {
            "bin_start": 425.3653782558176,
            "bin_end": 850.6581140051712,
            "count": 0
           },
           {
            "bin_start": 850.6581140051712,
            "bin_end": 1275.9508497545248,
            "count": 0
           },
           {
            "bin_start": 1275.9508497545248,
            "bin_end": 1701.2435855038784,
            "count": 0
           },
           {
            "bin_start": 1701.2435855038784,
            "bin_end": 2126.536321253232,
            "count": 0
           },
           {
            "bin_start": 2126.536321253232,
            "bin_end": 2551.8290570025856,
            "count": 0
           },
           {
            "bin_start": 2551.8290570025856,
            "bin_end": 2977.121792751939,
            "count": 0
           },
           {
            "bin_start": 2977.121792751939,
            "bin_end": 3402.414528501293,
            "count": 0
           },
           {
            "bin_start": 3402.414528501293,
            "bin_end": 3827.7072642506464,
            "count": 0
           },
           {
            "bin_start": 3827.7072642506464,
            "bin_end": 4253,
            "count": 1
           }
          ]
         }
        },
        {
         "name": "rel_2ndWon",
         "dtype": "float64",
         "stats": {
          "unique_count": 8,
          "nan_count": 0,
          "min": "0.0",
          "max": "4253.0",
          "histogram": [
           {
            "bin_start": 0,
            "bin_end": 425.3,
            "count": 7
           },
           {
            "bin_start": 425.3,
            "bin_end": 850.6,
            "count": 0
           },
           {
            "bin_start": 850.6,
            "bin_end": 1275.9,
            "count": 0
           },
           {
            "bin_start": 1275.9,
            "bin_end": 1701.2,
            "count": 0
           },
           {
            "bin_start": 1701.2,
            "bin_end": 2126.5,
            "count": 0
           },
           {
            "bin_start": 2126.5,
            "bin_end": 2551.8,
            "count": 0
           },
           {
            "bin_start": 2551.8,
            "bin_end": 2977.1,
            "count": 0
           },
           {
            "bin_start": 2977.1,
            "bin_end": 3402.4,
            "count": 0
           },
           {
            "bin_start": 3402.4,
            "bin_end": 3827.7000000000003,
            "count": 0
           },
           {
            "bin_start": 3827.7000000000003,
            "bin_end": 4253,
            "count": 1
           }
          ]
         }
        },
        {
         "name": "1WonOn1In",
         "dtype": "float64",
         "stats": {
          "unique_count": 8,
          "nan_count": 0,
          "min": "0.10481438333818592",
          "max": "4253.0",
          "histogram": [
           {
            "bin_start": 0.10481438333818592,
            "bin_end": 425.3943329450043,
            "count": 7
           },
           {
            "bin_start": 425.3943329450043,
            "bin_end": 850.6838515066704,
            "count": 0
           },
           {
            "bin_start": 850.6838515066704,
            "bin_end": 1275.9733700683364,
            "count": 0
           },
           {
            "bin_start": 1275.9733700683364,
            "bin_end": 1701.2628886300026,
            "count": 0
           },
           {
            "bin_start": 1701.2628886300026,
            "bin_end": 2126.552407191669,
            "count": 0
           },
           {
            "bin_start": 2126.552407191669,
            "bin_end": 2551.8419257533346,
            "count": 0
           },
           {
            "bin_start": 2551.8419257533346,
            "bin_end": 2977.131444315001,
            "count": 0
           },
           {
            "bin_start": 2977.131444315001,
            "bin_end": 3402.420962876667,
            "count": 0
           },
           {
            "bin_start": 3402.420962876667,
            "bin_end": 3827.7104814383333,
            "count": 0
           },
           {
            "bin_start": 3827.7104814383333,
            "bin_end": 4253,
            "count": 1
           }
          ]
         }
        },
        {
         "name": "rel_bpSaved",
         "dtype": "float64",
         "stats": {
          "unique_count": 8,
          "nan_count": 0,
          "min": "0.0",
          "max": "4246.0",
          "histogram": [
           {
            "bin_start": 0,
            "bin_end": 424.6,
            "count": 7
           },
           {
            "bin_start": 424.6,
            "bin_end": 849.2,
            "count": 0
           },
           {
            "bin_start": 849.2,
            "bin_end": 1273.8000000000002,
            "count": 0
           },
           {
            "bin_start": 1273.8000000000002,
            "bin_end": 1698.4,
            "count": 0
           },
           {
            "bin_start": 1698.4,
            "bin_end": 2123,
            "count": 0
           },
           {
            "bin_start": 2123,
            "bin_end": 2547.6000000000004,
            "count": 0
           },
           {
            "bin_start": 2547.6000000000004,
            "bin_end": 2972.2000000000003,
            "count": 0
           },
           {
            "bin_start": 2972.2000000000003,
            "bin_end": 3396.8,
            "count": 0
           },
           {
            "bin_start": 3396.8,
            "bin_end": 3821.4,
            "count": 0
           },
           {
            "bin_start": 3821.4,
            "bin_end": 4246,
            "count": 1
           }
          ]
         }
        },
        {
         "name": "_deepnote_index_column",
         "dtype": "object"
        }
       ],
       "rows_top": [
        {
         "rel_df": 4253,
         "rel_1stIn": 4253,
         "rel_2ndWon": 4253,
         "1WonOn1In": 4253,
         "rel_bpSaved": 4246,
         "_deepnote_index_column": "count"
        },
        {
         "rel_df": 0.06228867275108497,
         "rel_1stIn": 0.5931497171257557,
         "rel_2ndWon": 0.17168331403978063,
         "1WonOn1In": 0.6077037309676316,
         "rel_bpSaved": 0.48739901619971293,
         "_deepnote_index_column": "mean"
        },
        {
         "rel_df": 0.039454341484686725,
         "rel_1stIn": 0.07264250646400337,
         "rel_2ndWon": 0.04454548461564747,
         "1WonOn1In": 0.10481438333818592,
         "rel_bpSaved": 0.13429206401577204,
         "_deepnote_index_column": "std"
        },
        {
         "rel_df": 0,
         "rel_1stIn": 0.20930232558139536,
         "rel_2ndWon": 0,
         "1WonOn1In": 0.13333333333333333,
         "rel_bpSaved": 0,
         "_deepnote_index_column": "min"
        },
        {
         "rel_df": 0.037225974343055135,
         "rel_1stIn": 0.5545760906698602,
         "rel_2ndWon": 0.14634146341463414,
         "1WonOn1In": 0.5550997782705099,
         "rel_bpSaved": 0.4260760073260073,
         "_deepnote_index_column": "25%"
        },
        {
         "rel_df": 0.052271483305966066,
         "rel_1stIn": 0.5979216592084126,
         "rel_2ndWon": 0.17602072890470158,
         "1WonOn1In": 0.6243914722175592,
         "rel_bpSaved": 0.5080985696437161,
         "_deepnote_index_column": "50%"
        },
        {
         "rel_df": 0.07557997557997558,
         "rel_1stIn": 0.6370209138903973,
         "rel_2ndWon": 0.19957017299030858,
         "1WonOn1In": 0.6821696596086839,
         "rel_bpSaved": 0.5714285714285714,
         "_deepnote_index_column": "75%"
        },
        {
         "rel_df": 0.5,
         "rel_1stIn": 0.9016393442622951,
         "rel_2ndWon": 0.5333333333333333,
         "1WonOn1In": 1,
         "rel_bpSaved": 1,
         "_deepnote_index_column": "max"
        }
       ],
       "rows_bottom": null
      },
      "text/plain": "            rel_df    rel_1stIn   rel_2ndWon    1WonOn1In  rel_bpSaved\ncount  4253.000000  4253.000000  4253.000000  4253.000000  4246.000000\nmean      0.062289     0.593150     0.171683     0.607704     0.487399\nstd       0.039454     0.072643     0.044545     0.104814     0.134292\nmin       0.000000     0.209302     0.000000     0.133333     0.000000\n25%       0.037226     0.554576     0.146341     0.555100     0.426076\n50%       0.052271     0.597922     0.176021     0.624391     0.508099\n75%       0.075580     0.637021     0.199570     0.682170     0.571429\nmax       0.500000     0.901639     0.533333     1.000000     1.000000",
      "text/html": "<div>\n<style scoped>\n    .dataframe tbody tr th:only-of-type {\n        vertical-align: middle;\n    }\n\n    .dataframe tbody tr th {\n        vertical-align: top;\n    }\n\n    .dataframe thead th {\n        text-align: right;\n    }\n</style>\n<table border=\"1\" class=\"dataframe\">\n  <thead>\n    <tr style=\"text-align: right;\">\n      <th></th>\n      <th>rel_df</th>\n      <th>rel_1stIn</th>\n      <th>rel_2ndWon</th>\n      <th>1WonOn1In</th>\n      <th>rel_bpSaved</th>\n    </tr>\n  </thead>\n  <tbody>\n    <tr>\n      <th>count</th>\n      <td>4253.000000</td>\n      <td>4253.000000</td>\n      <td>4253.000000</td>\n      <td>4253.000000</td>\n      <td>4246.000000</td>\n    </tr>\n    <tr>\n      <th>mean</th>\n      <td>0.062289</td>\n      <td>0.593150</td>\n      <td>0.171683</td>\n      <td>0.607704</td>\n      <td>0.487399</td>\n    </tr>\n    <tr>\n      <th>std</th>\n      <td>0.039454</td>\n      <td>0.072643</td>\n      <td>0.044545</td>\n      <td>0.104814</td>\n      <td>0.134292</td>\n    </tr>\n    <tr>\n      <th>min</th>\n      <td>0.000000</td>\n      <td>0.209302</td>\n      <td>0.000000</td>\n      <td>0.133333</td>\n      <td>0.000000</td>\n    </tr>\n    <tr>\n      <th>25%</th>\n      <td>0.037226</td>\n      <td>0.554576</td>\n      <td>0.146341</td>\n      <td>0.555100</td>\n      <td>0.426076</td>\n    </tr>\n    <tr>\n      <th>50%</th>\n      <td>0.052271</td>\n      <td>0.597922</td>\n      <td>0.176021</td>\n      <td>0.624391</td>\n      <td>0.508099</td>\n    </tr>\n    <tr>\n      <th>75%</th>\n      <td>0.075580</td>\n      <td>0.637021</td>\n      <td>0.199570</td>\n      <td>0.682170</td>\n      <td>0.571429</td>\n    </tr>\n    <tr>\n      <th>max</th>\n      <td>0.500000</td>\n      <td>0.901639</td>\n      <td>0.533333</td>\n      <td>1.000000</td>\n      <td>1.000000</td>\n    </tr>\n  </tbody>\n</table>\n</div>"
     },
     "metadata": {}
    }
   ]
  },
  {
   "cell_type": "markdown",
   "source": "### Dropping records",
   "metadata": {
    "tags": [],
    "is_collapsed": false,
    "cell_id": "00048-e99c9cdc-7d9a-4924-9f6a-c8f75f7bad11",
    "deepnote_cell_type": "text-cell-h3"
   }
  },
  {
   "cell_type": "code",
   "metadata": {
    "tags": [],
    "cell_id": "00043-30f109bc-395f-4c26-81a0-a1e4fadada3b",
    "deepnote_to_be_reexecuted": false,
    "source_hash": "7bb2a531",
    "execution_start": 1636929380786,
    "execution_millis": 3,
    "deepnote_cell_type": "code"
   },
   "source": "df_players.info()",
   "execution_count": null,
   "outputs": [
    {
     "name": "stdout",
     "text": "<class 'pandas.core.frame.DataFrame'>\nInt64Index: 10103 entries, 0 to 10102\nData columns (total 36 columns):\n #   Column                   Non-Null Count  Dtype  \n---  ------                   --------------  -----  \n 0   name                     10103 non-null  object \n 1   gender                   10103 non-null  object \n 2   total_tourneys_played    10103 non-null  int64  \n 3   total_matches_played     10103 non-null  int64  \n 4   total_matches_won        10103 non-null  float64\n 5   matches_won_ratio        10103 non-null  float64\n 6   mean_performance_index   10103 non-null  Float64\n 7   max_performance_index    10103 non-null  Float64\n 8   min_performance_index    10103 non-null  Float64\n 9   ht                       541 non-null    float64\n 10  age                      10103 non-null  float64\n 11  hand                     10103 non-null  object \n 12  mean_minutes             4237 non-null   float64\n 13  max_minutes              4237 non-null   float64\n 14  minutes_entropy          10103 non-null  float64\n 15  mean_rank_points         10103 non-null  float64\n 16  max_rank_points          10103 non-null  float64\n 17  last_rank_points         10103 non-null  float64\n 18  variance_rank_points     10103 non-null  float64\n 19  mean_tourney_spectators  10103 non-null  float64\n 20  max_tourney_spectators   10103 non-null  float64\n 21  mean_tourney_revenue     10103 non-null  float64\n 22  max_tourney_revenue      10103 non-null  float64\n 23  rel_ace                  4253 non-null   float64\n 24  rel_df                   4253 non-null   float64\n 25  rel_1stIn                4253 non-null   float64\n 26  rel_1stWon               4253 non-null   float64\n 27  rel_2ndWon               4253 non-null   float64\n 28  1WonOn1In                4253 non-null   float64\n 29  1WonOnTotWon             4253 non-null   float64\n 30  rel_ptsWon               4253 non-null   float64\n 31  rel_bpFaced              4253 non-null   float64\n 32  rel_bpSaved              4246 non-null   float64\n 33  rel_gmsWon               10047 non-null  float64\n 34  lrpOnAvgrp               10103 non-null  float64\n 35  lrpOnMxrp                10103 non-null  float64\ndtypes: Float64(3), float64(28), int64(2), object(3)\nmemory usage: 2.9+ MB\n",
     "output_type": "stream"
    }
   ]
  },
  {
   "cell_type": "code",
   "metadata": {
    "tags": [],
    "cell_id": "00049-edc23a2b-eb84-4763-9e4b-fa37bbe1ee97",
    "deepnote_to_be_reexecuted": false,
    "source_hash": "da9f18e0",
    "execution_start": 1636929380788,
    "execution_millis": 84,
    "deepnote_cell_type": "code"
   },
   "source": "df_winner = df_tennis.loc[:, ['winner_name', 'rel_w_df', 'rel_w_1stIn', 'rel_w_2ndWon', 'w_1WonOn1In', 'rel_w_bpSaved']]\ndf_loser = df_tennis.loc[:, ['loser_name', 'rel_l_df', 'rel_l_1stIn', 'rel_l_2ndWon', 'l_1WonOn1In', 'rel_l_bpSaved']]\nren_attr_list = ['name', 'rel_df', 'rel_1stIn', 'rel_2ndWon', '1WonOn1In', 'rel_bpSaved']\ndf_winner.set_axis(ren_attr_list, axis=1, inplace=True)\ndf_loser.set_axis(ren_attr_list, axis=1, inplace=True)\n\n# dataframe con occorenze degli attributi relativi alle features selezionate\nattr_occurrences = pd.concat([df_winner, df_loser]).groupby('name').count()\n\n# mask the dataframe where those attributes compare at least 4 times\nsm = attr_occurrences.min(axis=1) >= 15\nsm = sm.reset_index(drop = True)\n\n# # drop records from dataframe\ndf_players = df_players[sm]\ndf_players.info()",
   "execution_count": null,
   "outputs": [
    {
     "name": "stdout",
     "text": "<class 'pandas.core.frame.DataFrame'>\nInt64Index: 1376 entries, 22 to 10092\nData columns (total 36 columns):\n #   Column                   Non-Null Count  Dtype  \n---  ------                   --------------  -----  \n 0   name                     1376 non-null   object \n 1   gender                   1376 non-null   object \n 2   total_tourneys_played    1376 non-null   int64  \n 3   total_matches_played     1376 non-null   int64  \n 4   total_matches_won        1376 non-null   float64\n 5   matches_won_ratio        1376 non-null   float64\n 6   mean_performance_index   1376 non-null   Float64\n 7   max_performance_index    1376 non-null   Float64\n 8   min_performance_index    1376 non-null   Float64\n 9   ht                       439 non-null    float64\n 10  age                      1376 non-null   float64\n 11  hand                     1376 non-null   object \n 12  mean_minutes             1376 non-null   float64\n 13  max_minutes              1376 non-null   float64\n 14  minutes_entropy          1376 non-null   float64\n 15  mean_rank_points         1376 non-null   float64\n 16  max_rank_points          1376 non-null   float64\n 17  last_rank_points         1376 non-null   float64\n 18  variance_rank_points     1376 non-null   float64\n 19  mean_tourney_spectators  1376 non-null   float64\n 20  max_tourney_spectators   1376 non-null   float64\n 21  mean_tourney_revenue     1376 non-null   float64\n 22  max_tourney_revenue      1376 non-null   float64\n 23  rel_ace                  1376 non-null   float64\n 24  rel_df                   1376 non-null   float64\n 25  rel_1stIn                1376 non-null   float64\n 26  rel_1stWon               1376 non-null   float64\n 27  rel_2ndWon               1376 non-null   float64\n 28  1WonOn1In                1376 non-null   float64\n 29  1WonOnTotWon             1376 non-null   float64\n 30  rel_ptsWon               1376 non-null   float64\n 31  rel_bpFaced              1376 non-null   float64\n 32  rel_bpSaved              1376 non-null   float64\n 33  rel_gmsWon               1376 non-null   float64\n 34  lrpOnAvgrp               1376 non-null   float64\n 35  lrpOnMxrp                1376 non-null   float64\ndtypes: Float64(3), float64(28), int64(2), object(3)\nmemory usage: 401.8+ KB\n",
     "output_type": "stream"
    }
   ]
  },
  {
   "cell_type": "markdown",
   "source": "### Analysis",
   "metadata": {
    "tags": [],
    "is_collapsed": false,
    "cell_id": "00049-7f0b7b8c-dfd2-42d6-ae22-0dcaf8d8d5c9",
    "deepnote_cell_type": "text-cell-h3"
   }
  },
  {
   "cell_type": "markdown",
   "source": "By looking at the graphs, it's fair to say that during the clustering phase the features need to be standardized with and deprived of their outliers",
   "metadata": {
    "tags": [],
    "is_collapsed": false,
    "cell_id": "00050-286520a3-e608-45ff-b6e6-9ea04cc8950b",
    "deepnote_cell_type": "text-cell-p"
   }
  },
  {
   "cell_type": "code",
   "metadata": {
    "tags": [],
    "cell_id": "00049-087030f0-4c90-4eb6-b7f8-b6a356968d7e",
    "deepnote_to_be_reexecuted": false,
    "source_hash": "11687988",
    "execution_start": 1636929380876,
    "execution_millis": 628,
    "deepnote_cell_type": "code"
   },
   "source": "for feature in feautures:\n  px.histogram(df_players, x=feature, marginal=\"box\").show()",
   "execution_count": null,
   "outputs": [
    {
     "data": {
      "text/html": "<html>\n<head><meta charset=\"utf-8\" /></head>\n<body>\n    <div>            <script src=\"https://cdnjs.cloudflare.com/ajax/libs/mathjax/2.7.5/MathJax.js?config=TeX-AMS-MML_SVG\"></script><script type=\"text/javascript\">if (window.MathJax) {MathJax.Hub.Config({SVG: {font: \"STIX-Web\"}});}</script>                <script type=\"text/javascript\">window.PlotlyConfig = {MathJaxConfig: 'local'};</script>\n        <script src=\"https://cdn.plot.ly/plotly-2.4.2.min.js\"></script>                <div id=\"1e663724-8b33-458e-8ab5-bb57738dcdcc\" class=\"plotly-graph-div\" style=\"height:525px; width:100%;\"></div>            <script type=\"text/javascript\">                                    window.PLOTLYENV=window.PLOTLYENV || {};                                    if (document.getElementById(\"1e663724-8b33-458e-8ab5-bb57738dcdcc\")) {                    Plotly.newPlot(                        \"1e663724-8b33-458e-8ab5-bb57738dcdcc\",                        [{\"alignmentgroup\":\"True\",\"bingroup\":\"x\",\"hovertemplate\":\"rel_df=%{x}<br>count=%{y}<extra></extra>\",\"legendgroup\":\"\",\"marker\":{\"color\":\"rgb(76,114,176)\",\"pattern\":{\"shape\":\"\"}},\"name\":\"\",\"offsetgroup\":\"\",\"orientation\":\"v\",\"showlegend\":false,\"type\":\"histogram\",\"x\":[0.05323542690608432,0.11906721646231479,0.0336470410875331,0.07052672420374319,0.04984717443306864,0.03989590578960532,0.033329454332924446,0.029912846582993417,0.04168792788398802,0.04748342516289957,0.026316183743510486,0.03504163314420332,0.04023111272948553,0.06357600115106363,0.046996574833437346,0.04362996917835271,0.0938465075071248,0.05161261000089971,0.03106548887665401,0.04020340777568081,0.05424005241728695,0.03808449836247516,0.04130836156892253,0.0697178914567079,0.03250345302277835,0.1203289872076028,0.06019738025724218,0.04794087816501759,0.039311395165902686,0.033885845325991266,0.03353656607840252,0.05893528385264916,0.08473989711328979,0.05180081401259612,0.03855405690490388,0.04312278561286041,0.03488834943422716,0.03455158999890202,0.035657837598305965,0.01971854709486354,0.06807135691469123,0.04505976643188946,0.028771126183235674,0.03272680226741745,0.06943765743214804,0.047380694736194585,0.05799374181404813,0.036624777052974615,0.08321191685973742,0.041421485866226446,0.05676449490642245,0.03774930901336704,0.048659356667462815,0.041338630247541704,0.06046153972922226,0.050912756175814235,0.04163440089286034,0.05196928983680673,0.04029861518373302,0.09943444478233528,0.0601553513973252,0.047468537113312455,0.025641652109783194,0.03512425009409684,0.06743514905649148,0.048793901887146725,0.0444935100684593,0.03933145025505617,0.054830183334976204,0.05004596695753443,0.025753586773518272,0.06627146632219284,0.028834750446360278,0.056065408863125006,0.034491363263312896,0.05872864575396321,0.04190743855309625,0.03418442223218573,0.06856620386972799,0.06527499616544791,0.052159078204290235,0.04786819201931161,0.061679697191723726,0.029704727449669475,0.052563992594725426,0.03417435774446103,0.06299198598375105,0.07791124759963758,0.06604871359711813,0.08152606487689641,0.06020184565411464,0.09105301552745154,0.07484346103099733,0.051548793573898584,0.04604335439143385,0.033877426564349465,0.058275661141119185,0.040133042046322155,0.039524479941723416,0.033901194301294825,0.036698989574159444,0.04577889233280825,0.028661347613139408,0.05580728709426349,0.04028052370966048,0.05062883611860021,0.05891878539283529,0.04173857042388577,0.05517921271661623,0.032568254748642445,0.05125509619514408,0.04065139201240993,0.04044003512151725,0.04963965408454813,0.04909260272701737,0.04043037520603987,0.059627868712317136,0.05099321901690542,0.041667026599156665,0.03902128605860197,0.1557796299334115,0.05792831119493934,0.03314476749095006,0.04717507092898427,0.04610061140977724,0.06079843444479559,0.025473117839653284,0.03914216134494432,0.07632991051220742,0.02886300437688193,0.06384527872544231,0.0549581448303831,0.053138782165765626,0.04421034703836501,0.06910920195581667,0.052054356115405036,0.04104229404836917,0.05662675708035469,0.04024891002676771,0.030600077118977446,0.05037317469737816,0.04526866060477876,0.017432721822048868,0.040955092761518604,0.0450877616942061,0.07166698430614016,0.048305344141535894,0.05444649121810607,0.034624792172019865,0.04963450795840099,0.032645248065614405,0.07061084961377818,0.019959055605182706,0.03581349726450891,0.03058713616993328,0.06590658353579017,0.04410321830825792,0.07804142683087219,0.04437682268037391,0.05381028189009147,0.04471802861163995,0.05372473954447527,0.03552851417878804,0.030934601859287068,0.05048289470049414,0.04774329043803386,0.028840993084744648,0.07329068255630529,0.05638345340719538,0.04815204050330095,0.03635039383110827,0.0744675014020295,0.043685199495551906,0.07324536375719737,0.061830001625645094,0.050668204988787914,0.06321328299467183,0.04633360610080974,0.04362886392289801,0.03185383353921038,0.05363433567852653,0.03270370507672255,0.07460850131849409,0.06322801202957791,0.06902887256528034,0.03003712602483295,0.026289513896666773,0.06862963874137595,0.03764754658086553,0.0523055572814409,0.07913032670856013,0.03190493557582106,0.04036369708436465,0.04893562302492613,0.04245301671642961,0.03061404434355638,0.03551022194434125,0.028317937875059332,0.0494567422630991,0.06311097858585635,0.05048611462073676,0.04935210014264525,0.01991658244498385,0.03047006872691609,0.040831256245499666,0.05280335380736122,0.06266868990314355,0.05875934552664905,0.03531507390714311,0.03159032326999348,0.06250705766515625,0.06883938545293011,0.0453722940402884,0.09150568898739342,0.03720339919477882,0.0733606210193941,0.03653166367651664,0.024707125072937493,0.03132540272725219,0.03118490471557393,0.035601604391838626,0.05097514723611873,0.08700329352589058,0.036888958357583775,0.04031194192905375,0.07853333143564983,0.059717937614307444,0.03594305167460033,0.03073209687477717,0.03326672612269168,0.07521476699191118,0.04673920562557649,0.0840089851282706,0.03716428416759557,0.033604559300346296,0.10557880686380346,0.03211122089559395,0.0518969376758191,0.03292496776756745,0.07639640366074499,0.036042007302133736,0.05220657812708841,0.05394470269032466,0.06992406650254826,0.05885099866771751,0.039826503487067184,0.030642460770855036,0.0420004703213603,0.057048430933188905,0.03660541054938941,0.07867218531191845,0.049473135696353907,0.0732850441337146,0.04578620344965868,0.07314588462802085,0.058612875692424835,0.06792151962690599,0.0351268367386821,0.0357746956280607,0.07180584169365818,0.04544694071705451,0.048611834785820325,0.04589865554001259,0.04893987786522196,0.07736105238938443,0.038022460596140104,0.04354867458941694,0.03533527506032704,0.08543768881106008,0.05074396106714359,0.0846745615205576,0.04146086719942387,0.041883536955105966,0.034265120291748344,0.07553237016947732,0.03344259646373471,0.07399816294027818,0.03385095276962529,0.04328780798068109,0.06480725099751555,0.04954801942721075,0.025200284712104688,0.03220198819828888,0.06320617445854097,0.04710110439048147,0.03413720082702463,0.052628231008436194,0.059784180199640144,0.04784368836365228,0.06015738941366983,0.031855187267906815,0.06007381840638418,0.04946794841033259,0.04360278798597287,0.050623777402869476,0.06265818996621787,0.043047827231487965,0.04279359528579138,0.07021540044828435,0.031142930219175153,0.05863083451598883,0.047061769773436325,0.0387571004377311,0.039779872241481995,0.09220148143021481,0.053268619956728484,0.03981677133653171,0.04909172226583947,0.05338486116457918,0.07304617245344361,0.05076572191082857,0.023374570359174198,0.04288666335061937,0.02449332194533775,0.04349202364336378,0.05865502894729068,0.06420761243690472,0.042248057152443196,0.06766544490777723,0.03441407133631585,0.04679999530407916,0.03974256044440898,0.049619763584610295,0.0446380614827474,0.05764130793769739,0.034422918511899554,0.07453983853631109,0.03317222865272714,0.03664475205120286,0.037924924007832074,0.05840849717012073,0.03678936860288207,0.10994854169478885,0.03927092838858331,0.03245508126753753,0.036324360549319167,0.06565420373488394,0.049048509863369276,0.046224668184980916,0.06526648430552504,0.07178312661239428,0.05434165410275466,0.027313554192417055,0.0463590470025679,0.04081708741628489,0.03354272176712844,0.020659228039853737,0.06454983024795798,0.03966998568188514,0.05305563011978852,0.046735878324481006,0.04786949231106213,0.02262999825286308,0.024822203486940374,0.05903834048612918,0.051343916175821784,0.031880828866454096,0.04112275296387027,0.07497282062654119,0.04594384041605311,0.03331345540574527,0.06852367287399562,0.046015433272803025,0.04978688697820675,0.03991100834248942,0.04156965656089656,0.03714938170436526,0.045924990262357406,0.05949629646410222,0.02199686526296776,0.08510222033260917,0.05873636024780522,0.03364346915766168,0.03542046316219075,0.049345543129529025,0.052410122073972956,0.04421739078242627,0.048783588710937575,0.08666923718165016,0.05701609677434762,0.02855608212390991,0.05138529360944461,0.04396680191577613,0.04580281512232386,0.03239284923570534,0.045078374448624337,0.03118376718950735,0.030826418134660492,0.039722234182246415,0.07021277632309138,0.043312065049576916,0.053049770473539315,0.03505794228773688,0.028721508941213517,0.025667734533678734,0.030900353827588215,0.059534546167475125,0.05921438312675335,0.03106310087364162,0.052125968584419265,0.021381914694636815,0.04318158287409494,0.05015817841513218,0.04061751525989634,0.06747519536649463,0.049250947244045544,0.038132023469873495,0.048809360336077814,0.05646923170325503,0.044671765808172934,0.03391224271843103,0.06962394669173375,0.03577719882117589,0.06483729343687078,0.03858139956629051,0.034338501995752425,0.047474442883320075,0.05028800139046565,0.053439043176764296,0.04396740427485742,0.03836915031182474,0.02772336548753062,0.05620042486197907,0.0836629225139998,0.05969389369474529,0.046720289601627156,0.030439496128153488,0.045288651468635484,0.02059294419069453,0.05499233300321448,0.03757379756693409,0.02632826212725594,0.08315810987427946,0.033967170735761665,0.039737255446296256,0.04709557398417927,0.023450669430470132,0.031602254797838354,0.05065467986761971,0.08007524376298462,0.07144780773500771,0.03664920670978385,0.05178714484710581,0.02998731370522424,0.036637821503119894,0.053976847935181746,0.045773826880586815,0.035566323125962786,0.026796122894881216,0.07279506733804601,0.028093195234167874,0.042211908012233464,0.04519031726788523,0.07654280271440832,0.04401908408980966,0.06554542245043246,0.04801134319127011,0.032720226095156325,0.03828746957621015,0.0407177426815322,0.036812295843156935,0.04638552646882951,0.03325495298565525,0.05068816780665775,0.035024430498805055,0.045538267718818366,0.037092465326965175,0.03969441132851,0.03961054870331454,0.024739078715196844,0.05536373649516703,0.051027107414643016,0.0410232260038704,0.03502327431458263,0.03053208065256224,0.02653197104282999,0.04708381134272272,0.043544519411488646,0.04765673875652307,0.03396644623548565,0.05217049643253061,0.041922387942268484,0.05886994158939925,0.02100834763042943,0.027083466861758373,0.0326773435589621,0.030536894884015453,0.044071114779628925,0.024075153507406327,0.03853254028169136,0.033584032323899476,0.03552695188764311,0.025378455979651996,0.043210218402091494,0.0583317897139408,0.04135100912005895,0.03525214234942934,0.05138308059727588,0.06762094905618808,0.04773109548374434,0.04296635381923287,0.049880159443909125,0.04361571058193519,0.027239793465712876,0.033525817676131296,0.05347728825067391,0.05019320545978662,0.03095539920342631,0.07161497392912163,0.054543251032332166,0.03382227749143448,0.0702150725894089,0.035943796473267786,0.044200934145129635,0.03507298743136614,0.052476825971087285,0.05327635695542457,0.05122581929662364,0.04908944965512088,0.018446350226373143,0.04334083272869961,0.05783017591416027,0.05760315935978238,0.03819778630659571,0.040611319142602166,0.03205831625411851,0.04804527655119015,0.04658928770897205,0.024631539707251626,0.035722243075224515,0.04382506255123606,0.04073589191458591,0.043023064621301656,0.04475148364231174,0.030665134463687203,0.05514284402297289,0.051522663413628315,0.042194923474388614,0.1367009901965625,0.04799328151147268,0.07529806969856474,0.06177804295774137,0.05054775840841967,0.07855972026338494,0.04508021639640669,0.07142717152385694,0.04681510450704374,0.047479262773094784,0.0494099790655495,0.035223026628124356,0.039438441205451626,0.04048400542625708,0.0721571763081102,0.0633767581033346,0.054524978822377515,0.04883424665897656,0.06201677364032465,0.05867462677175878,0.048327422090354615,0.03565830352268795,0.04267159679223422,0.030970318805365382,0.032471675484119555,0.06534582101516077,0.03359352838941013,0.07763142533152873,0.05149316554500905,0.043064835950361896,0.050254286285794515,0.02836743320294948,0.04084782106589434,0.04627136879800347,0.042020897059901,0.045052117537475615,0.04633111871900159,0.09504291715953829,0.039998570945538464,0.029834015066958354,0.04748989738584425,0.048822491121621944,0.03507915160417434,0.0632758097961214,0.07992679194838698,0.03695626920967687,0.03918771836658334,0.057001201945207115,0.03286901163483307,0.0507580503622165,0.024775230330855266,0.037814783907681636,0.044920542924377534,0.06090621349899413,0.050611108200511776,0.08855890849981961,0.03657543694380387,0.040953393633987034,0.01866697340905554,0.048601810410252,0.054865359790665834,0.048011581365565645,0.05990823994134368,0.04871147283939778,0.0528825591903969,0.037829066445829444,0.037657214422361335,0.027354728268748338,0.038609871310599446,0.04109064749363578,0.06186829316361285,0.05218324626758533,0.03168892035720038,0.04291872373922269,0.03354462473150201,0.06979650596064413,0.03021069445948954,0.04770618511189131,0.03163027390732859,0.021025155316755837,0.029011419055675773,0.02905998312167821,0.04269912943069732,0.02852383477240804,0.034319627193713405,0.04774352005929573,0.05152875358910277,0.037125085529588986,0.04757551609364558,0.06357486812878947,0.0356661266728521,0.04951379063249459,0.06971421821768341,0.025709009593887482,0.05694882862187386,0.035751518225437054,0.022581664032715,0.022960489224850562,0.0271764839847137,0.04615528505075073,0.050185382413874075,0.03466059266873279,0.02708477709239332,0.051878293069014994,0.03729525149409235,0.045374187312651214,0.05024620165128408,0.0367290281878122,0.03513978171522399,0.038399480292071464,0.028500902867464085,0.039448377513817995,0.055283058171914944,0.04983746891852622,0.03505526546412762,0.04394777368279931,0.03889382547072711,0.02013650141638993,0.028202883749341972,0.014448402678197313,0.029198997862272622,0.0420147008822447,0.0343383734774894,0.07540843241090014,0.0796850980364619,0.04898635903498812,0.07340919460156971,0.050550746339021464,0.051300057065945225,0.08287878211664047,0.05567922690972308,0.052029456241436005,0.038135508143627525,0.045534503098705104,0.060628790634028124,0.04777957752333116,0.022685873602660254,0.06650257343568902,0.06128995420803996,0.03701618090678383,0.03461121639811568,0.03859325030034232,0.07216893764746987,0.03355736038633468,0.09083066321959532,0.07935093678371019,0.06010010467249193,0.04899979189711451,0.04792127986924356,0.029615115389612964,0.03315986249855504,0.0549082055943441,0.03034532308345536,0.03441993420903751,0.046195913518313106,0.08125580218489294,0.0713581718410432,0.07773859959103746,0.02790693394321193,0.04813603406731812,0.04373580682304272,0.040203315698614246,0.05987168802650105,0.03807899695550304,0.05382468315917847,0.06811043007842521,0.03448783527500408,0.09566806995868907,0.04730168820927834,0.041621027474349696,0.05137339420834207,0.049317327851265684,0.05779892122097862,0.05154093742528562,0.07272012278936767,0.0457747791399337,0.028672672073121696,0.036593293320748704,0.02512997866085453,0.03649566006151273,0.0623807692358663,0.03791441380419367,0.04452796974093769,0.05942937315133072,0.05898946537372442,0.036959763825239106,0.029635284978403502,0.027423767528313266,0.03769760736288876,0.05569176728096186,0.07697413389808645,0.051419238418526976,0.03410742759204724,0.032612766684761325,0.032216602437551756,0.041006626305220464,0.04440542250581576,0.03487298348177959,0.04934912811973273,0.058155432647144276,0.03896345217322808,0.08434892085291404,0.04819802484578189,0.05435131143318398,0.04698971477886312,0.03658835128717115,0.044255535776108315,0.045510742122227804,0.04820182389375879,0.03939035543192951,0.06402929660523729,0.0622111236273548,0.06884953214560055,0.030832306915246167,0.030233647641613424,0.04556248179234362,0.04186369496474821,0.04644397332747774,0.05677117147405005,0.0439836612388422,0.043714104977878476,0.03428680076852844,0.06302492172634935,0.0468107432949122,0.029888984437848053,0.028838665055901127,0.05910874702678024,0.05652748324883334,0.03757097381889554,0.038413061597472174,0.04263062691689493,0.03790194924746559,0.03724544391626616,0.045707041560025856,0.06329860779191804,0.05130307208894949,0.02512347893224951,0.04434826439800256,0.07193838161624395,0.07763234120616183,0.05066281569304092,0.061316660741519154,0.06224966037447177,0.046686627355702885,0.045697352971017444,0.04121647346047845,0.03205882997953915,0.043453310229064665,0.053993485202406426,0.056714446255210944,0.06720757663440576,0.09774664264715734,0.03454208757643459,0.045152673724654986,0.03869585416625189,0.030848514654230767,0.044709689390208,0.03693654072252779,0.037936341116546736,0.0407423523773422,0.04028944141202408,0.02648297183397072,0.041553961378588494,0.04147908646516362,0.04681444516757721,0.0792638846845693,0.07417945761453529,0.04337498581452571,0.042614097892017845,0.04692424997251844,0.0521019588645535,0.02840072651813383,0.04928594985567706,0.04537704045630436,0.032859772276887134,0.05012290517096014,0.03660327565188676,0.037128915895154206,0.02868881591805696,0.025822602567602836,0.04370778344922687,0.04409198327418684,0.03396767028203118,0.048066660812136716,0.06197252247916095,0.04934036333049781,0.06146089795589355,0.06790706841731126,0.04720948376729703,0.08284526088769363,0.0825577174132939,0.11111289274810757,0.06093532067829171,0.03901961860270112,0.0465279186379458,0.03274397475280472,0.039006593900089884,0.06300967805980857,0.07990761905559446,0.0448608065467607,0.06598891463913668,0.0368209960491408,0.06472768204624522,0.07356889874983394,0.050378325001156944,0.03831237686614826,0.026249420479479497,0.02843090806748006,0.06952300017511258,0.055273695657876924,0.04623441919012901,0.04436414096032823,0.044348465095198845,0.052704611607414124,0.048097017235194495,0.041227834654445246,0.04967584730682409,0.04221880947061285,0.08186330955088146,0.02224412574990563,0.03874512299211474,0.05548331775813192,0.021712087097621506,0.03288443189958295,0.0444128963093419,0.0342997212064986,0.03953106137094318,0.03488506216529548,0.06468198395227419,0.056472528105381045,0.06444744725943308,0.024023212045348227,0.026361063174509796,0.060929125883330756,0.048370663172938394,0.052110286693716125,0.0401946256156888,0.04388790959829724,0.06008492449735398,0.035436963950992766,0.04196957916862048,0.039186730327519986,0.03344902619740997,0.03261898014085282,0.030633817257483643,0.0401718986719436,0.09550043733315795,0.03605251695846004,0.042459529247931505,0.04222829642248876,0.08298087683213334,0.02476423818760476,0.027001615865586668,0.05336658452155012,0.03485902162608234,0.025207808979474285,0.0231130941727754,0.036004063046617116,0.030506390623003116,0.05120458567075452,0.03974734782353598,0.05067681833220745,0.0389607190512022,0.04991084124061513,0.053861355979022765,0.04807633435887528,0.04363747365386875,0.05779714120097215,0.046344733478833285,0.03638352721032587,0.06889184074266208,0.06821117082696522,0.05651853197548138,0.03515069939192217,0.046656797238249455,0.042905665243361465,0.05532348285339289,0.03944791858093886,0.017126384829617758,0.040384857711917486,0.021874175698460212,0.03918038571301722,0.03824940901073674,0.04692250668984371,0.031351886474423114,0.03380968429280376,0.08433056759874748,0.028871739307494065,0.0394409580680951,0.039709357102541774,0.03457359792053933,0.034768361912766686,0.032792973964566825,0.05119928371278857,0.033379287834284295,0.07791379141921498,0.023181362189121337,0.050596093049207154,0.07739230801545396,0.0849012344651574,0.04211752386142194,0.05192220071640665,0.05127906756982403,0.06145797079154443,0.08537516381131832,0.0664425747481792,0.035616444076570074,0.04277456735616714,0.05466005558376167,0.06493890101730804,0.035277046348986416,0.06629839041517537,0.07464668922350735,0.039032197324959376,0.04033509542981563,0.07012427889355338,0.048852155572352535,0.037337256268813936,0.03631991352122367,0.033513605847572084,0.04306786472068979,0.03289196612706004,0.053022654543282643,0.0398394756527671,0.039869066059158645,0.0512718317127353,0.03464175814276594,0.032732299219105594,0.039139811716549046,0.033736677680606716,0.03292904123701821,0.042491097939084274,0.029554107119192898,0.08075843891654054,0.044607158562625336,0.03539847028525669,0.024654323881009854,0.054588938824737775,0.04899213263313807,0.056680573371255545,0.04087208770281288,0.06362483217373552,0.038594229954777536,0.04348259347251738,0.049503491967068255,0.031896091704894984,0.025133839294414304,0.028717864306506146,0.09154930568285316,0.06474486420123128,0.047284738412165045,0.08790485030298645,0.027170539342639112,0.06650351703863952,0.07229080693494826,0.048167997647224355,0.046828877743315046,0.04320973493280004,0.03739395659625981,0.044421285157543546,0.04744923483216249,0.05793680685817142,0.04404627174758025,0.02230841638171096,0.03914798443975375,0.08455581620924854,0.07815890521849134,0.03529642517253608,0.07159322255041203,0.050032320355953404,0.03875044988665449,0.06219016706680639,0.04180232769740436,0.03422781000193652,0.027873411654228873,0.04928299038594315,0.06733765488963238,0.06251536022863309,0.0585807215888925,0.038667927073991346,0.050397706061184204,0.03623111941873922,0.05918187897935623,0.05840297700669455,0.04459508603223094,0.02125536541168991,0.0627139372367629,0.041491901704453944,0.05309163115493851,0.025660228472435778,0.03900197110821414,0.02371047139734909,0.026759115010357836,0.04789487871723413,0.027588664664929666,0.045901017939490474,0.04811030303604814,0.03892895357907034,0.06284223692080548,0.03873105332516406,0.05719065854433083,0.06612968039351495,0.03721727449330934,0.03689136578501875,0.04669031274668493,0.02469397174720241,0.04751160711432652,0.038035755652327294,0.06109842312206926,0.05294395111435558,0.10112674922005661,0.05398832605742253,0.034318448789124566,0.041326274380321076,0.08128868586460067,0.03292640836431743,0.07838674502363824,0.05331134061463554,0.047342057898997474,0.03580724688492791,0.029612486641516063,0.024906370710625767,0.03670783100887041,0.05194435458565967,0.05539119427728381,0.0551320441637863,0.03300641166882952,0.0355800895926832,0.04393574647119713,0.043427671470285284,0.09313089833261098,0.040158899923316956,0.05605069423651964,0.03551416655131913,0.078676492705502,0.03833871290316242,0.03333506085844076,0.05959270267471161,0.0378620759384101,0.025471254573669774,0.02257486240712789,0.05018378966876091,0.03899784418137529,0.03355303966444109,0.04951055610389548,0.03103725172137777,0.05643839272332773,0.0537873298852604,0.026309691562066286,0.026815948253755155,0.06049875149061352,0.02556041884935341,0.02520043344303054,0.038394392735716876,0.04825430953890766,0.0329861774808252,0.04746868699827757,0.03387813633773917,0.03061662621262237,0.03763723700225957,0.06689368795531132,0.034473841325389616,0.02167046385693752,0.03841625746106051,0.02553122826606715,0.03274317806575086,0.028522164794932577,0.057988663664214464,0.04260836465463207,0.04725655103486143,0.06672412497373519,0.03982319709015349,0.055547335015228856,0.045940103876819655,0.03714787568624107,0.04608763595215793,0.04934644647362034,0.049335917789333085,0.07955608047672641,0.03665461589683862,0.04418866232012912,0.08838629910773303,0.04879139540531525,0.11240815531955313,0.02967361263100961,0.0912057196553914,0.08264449667777785,0.04925592093847628,0.05529758270892356,0.059305519978445485,0.03331617888408987,0.03666582249157941,0.03213933750736017,0.036170113975258655,0.07837701238542163,0.04458823383916075,0.03312284617916558,0.07347435509218471,0.08850794085667328,0.05668174318789738,0.05543416480518506,0.05248105080755767,0.05469355861051755,0.028470590271221313,0.021487886612095036,0.04037852569519872,0.02763434595224989,0.04515834682455698,0.08889708762761116,0.048328543662097746,0.033019936895932356,0.05194928545248457,0.03633127243192178,0.020974570973474695,0.06615126450760588,0.03834686366703975,0.04806115094792072,0.038345287528765835,0.04348350357588598,0.038861176208002696,0.04773800853029631,0.043766553255166624,0.04797211468502798,0.05345261477333225,0.05171947997940374,0.09829664502233872,0.03618919395438223,0.08331356849805771,0.07379211235062214,0.09724876355459204,0.037225974343055135,0.0588318286660911,0.04717975526258938,0.04994945855212191,0.029751587931511548,0.03845376944521168,0.033097222992512706,0.069297993059913,0.05077710492791795,0.022913526663242707,0.03895737724583504,0.037042813705107834,0.013582452220217102,0.07366727116945467,0.024337966391902385,0.053669430649813644,0.03587248906784775,0.0644352911566087,0.04437445266960979,0.09315535868867483,0.03954578493202755,0.02567900719399231,0.060720859103872454,0.03139739552005781,0.030557149578783804,0.03665594258885827,0.028774639461705186,0.05439856455976442,0.026226235753588706,0.036868331244767655,0.0565076300421416,0.03715686462610256,0.04343449220002423,0.03689929609848229,0.05894369706149428,0.042258852551085135,0.04036393523418592,0.04515078816890702,0.05600408841956983,0.03432477000959753,0.07344627418775296,0.03247822835185372,0.037004378620459605,0.0687429391361879,0.043098864563452015,0.04935718183150416,0.09557491432938266,0.038420695750192975,0.03876162931037463,0.04238991153187016,0.03213584045254301,0.03126466403813345,0.03507673000458154,0.04517378430295456,0.0688511812363717,0.031898485399765183,0.03314527573475905,0.06867958884034644,0.05225720131616488,0.04308212163117819,0.06428191441371985,0.044478100184312884,0.03772579402996183,0.0274806196686085,0.029620031338175347,0.04253053241004106,0.02285816721051986,0.03467320682998997,0.06259840299141664,0.04711736976560656,0.030718340238091436,0.036176014044738906,0.051413197567269316,0.051121365212076206,0.030745519803542294,0.03748147958495515,0.05224903134606432,0.03216995053280196,0.03414522504646261,0.08492827195091174,0.04571787709441787,0.06458575706281265,0.07056494732990247,0.0560967755186483,0.05077097477266669,0.03204226739409969,0.04469348820550065,0.024073799397595044,0.01940065851200477,0.10714192735905594,0.04200924412159091,0.043295229302903616,0.03442039065789822,0.03471596531622176,0.0632942648063695,0.03245228480546246,0.0495576878130829,0.02400821260621183,0.04353725336411295,0.0334697469429801,0.03838918713944196,0.033183496763261995,0.047447939152003675,0.02975902081714593,0.043244199575053224,0.07810401178596237,0.03170450983380843,0.07577351349641816,0.05331684394871259,0.06806337728670235,0.03369065743041288,0.03848237071701475,0.042171363854686617,0.054639417204436595,0.04232710923560272,0.034297422317774925,0.040553308417190494,0.05918438670550297,0.05574320870553273,0.050342827907987255,0.0458782919864326,0.041232828804938816,0.038917604736594176,0.06017389965803803,0.06989116520382052,0.03642234589074826,0.04432235428884821,0.03449685776330787,0.03371451053881566,0.039564545865665025,0.06728965669490683,0.04772983842707725,0.04340188522934908,0.04504504372330393,0.06978959509439706,0.054612563906618554,0.03919449602834577,0.09001936085669598,0.04027930323386734,0.04830862183560496,0.07048714222911502,0.04107250310945755,0.06194623182464119,0.06551776705848208,0.05368999910283565,0.014288532198004732,0.030838269981681467,0.08552421611116479,0.03999731141135086,0.051514926017736724,0.03502436741043148,0.05795492075311416,0.02829426773652408,0.07263526334624032,0.05701901306309179,0.08337005849355553,0.05984673632617335,0.04889026492865369,0.04679740567300787,0.03130692767523541,0.09143074804832141,0.046975318611820506,0.055268253754798345,0.035947268744145645,0.05424258852348602,0.028266529765959805,0.04630065685501528,0.1034499551096574,0.03783110823888956,0.03875863961814804,0.056246813837538774,0.026763218138151183,0.03111693384674458,0.03659671860066444,0.059840004513726786,0.03350118367080107,0.054089065807734996,0.04060587297130745,0.021355465026110444,0.05600427636854753,0.056138986980688706,0.03258615525293832,0.07668512269069643,0.032445469771170785,0.054424274995265066,0.039366672836068185,0.04910974644540016,0.02627312884972959,0.037661489362010574,0.04699822072035523,0.03591074174431801,0.03586940420523225,0.040857885660740285,0.044445933589252154,0.035067502432494346,0.043352563632195334,0.07419939626387817,0.03996966581591909,0.04382281880761186,0.03674913724358523,0.04715036969959711,0.05794364069891748,0.027694676841183406,0.029344371494744306,0.03418591631032354,0.028437396004570875,0.04516783430406195,0.03507264700657288],\"xaxis\":\"x\",\"yaxis\":\"y\"},{\"alignmentgroup\":\"True\",\"hovertemplate\":\"rel_df=%{x}<extra></extra>\",\"legendgroup\":\"\",\"marker\":{\"color\":\"rgb(76,114,176)\"},\"name\":\"\",\"notched\":true,\"offsetgroup\":\"\",\"showlegend\":false,\"type\":\"box\",\"x\":[0.05323542690608432,0.11906721646231479,0.0336470410875331,0.07052672420374319,0.04984717443306864,0.03989590578960532,0.033329454332924446,0.029912846582993417,0.04168792788398802,0.04748342516289957,0.026316183743510486,0.03504163314420332,0.04023111272948553,0.06357600115106363,0.046996574833437346,0.04362996917835271,0.0938465075071248,0.05161261000089971,0.03106548887665401,0.04020340777568081,0.05424005241728695,0.03808449836247516,0.04130836156892253,0.0697178914567079,0.03250345302277835,0.1203289872076028,0.06019738025724218,0.04794087816501759,0.039311395165902686,0.033885845325991266,0.03353656607840252,0.05893528385264916,0.08473989711328979,0.05180081401259612,0.03855405690490388,0.04312278561286041,0.03488834943422716,0.03455158999890202,0.035657837598305965,0.01971854709486354,0.06807135691469123,0.04505976643188946,0.028771126183235674,0.03272680226741745,0.06943765743214804,0.047380694736194585,0.05799374181404813,0.036624777052974615,0.08321191685973742,0.041421485866226446,0.05676449490642245,0.03774930901336704,0.048659356667462815,0.041338630247541704,0.06046153972922226,0.050912756175814235,0.04163440089286034,0.05196928983680673,0.04029861518373302,0.09943444478233528,0.0601553513973252,0.047468537113312455,0.025641652109783194,0.03512425009409684,0.06743514905649148,0.048793901887146725,0.0444935100684593,0.03933145025505617,0.054830183334976204,0.05004596695753443,0.025753586773518272,0.06627146632219284,0.028834750446360278,0.056065408863125006,0.034491363263312896,0.05872864575396321,0.04190743855309625,0.03418442223218573,0.06856620386972799,0.06527499616544791,0.052159078204290235,0.04786819201931161,0.061679697191723726,0.029704727449669475,0.052563992594725426,0.03417435774446103,0.06299198598375105,0.07791124759963758,0.06604871359711813,0.08152606487689641,0.06020184565411464,0.09105301552745154,0.07484346103099733,0.051548793573898584,0.04604335439143385,0.033877426564349465,0.058275661141119185,0.040133042046322155,0.039524479941723416,0.033901194301294825,0.036698989574159444,0.04577889233280825,0.028661347613139408,0.05580728709426349,0.04028052370966048,0.05062883611860021,0.05891878539283529,0.04173857042388577,0.05517921271661623,0.032568254748642445,0.05125509619514408,0.04065139201240993,0.04044003512151725,0.04963965408454813,0.04909260272701737,0.04043037520603987,0.059627868712317136,0.05099321901690542,0.041667026599156665,0.03902128605860197,0.1557796299334115,0.05792831119493934,0.03314476749095006,0.04717507092898427,0.04610061140977724,0.06079843444479559,0.025473117839653284,0.03914216134494432,0.07632991051220742,0.02886300437688193,0.06384527872544231,0.0549581448303831,0.053138782165765626,0.04421034703836501,0.06910920195581667,0.052054356115405036,0.04104229404836917,0.05662675708035469,0.04024891002676771,0.030600077118977446,0.05037317469737816,0.04526866060477876,0.017432721822048868,0.040955092761518604,0.0450877616942061,0.07166698430614016,0.048305344141535894,0.05444649121810607,0.034624792172019865,0.04963450795840099,0.032645248065614405,0.07061084961377818,0.019959055605182706,0.03581349726450891,0.03058713616993328,0.06590658353579017,0.04410321830825792,0.07804142683087219,0.04437682268037391,0.05381028189009147,0.04471802861163995,0.05372473954447527,0.03552851417878804,0.030934601859287068,0.05048289470049414,0.04774329043803386,0.028840993084744648,0.07329068255630529,0.05638345340719538,0.04815204050330095,0.03635039383110827,0.0744675014020295,0.043685199495551906,0.07324536375719737,0.061830001625645094,0.050668204988787914,0.06321328299467183,0.04633360610080974,0.04362886392289801,0.03185383353921038,0.05363433567852653,0.03270370507672255,0.07460850131849409,0.06322801202957791,0.06902887256528034,0.03003712602483295,0.026289513896666773,0.06862963874137595,0.03764754658086553,0.0523055572814409,0.07913032670856013,0.03190493557582106,0.04036369708436465,0.04893562302492613,0.04245301671642961,0.03061404434355638,0.03551022194434125,0.028317937875059332,0.0494567422630991,0.06311097858585635,0.05048611462073676,0.04935210014264525,0.01991658244498385,0.03047006872691609,0.040831256245499666,0.05280335380736122,0.06266868990314355,0.05875934552664905,0.03531507390714311,0.03159032326999348,0.06250705766515625,0.06883938545293011,0.0453722940402884,0.09150568898739342,0.03720339919477882,0.0733606210193941,0.03653166367651664,0.024707125072937493,0.03132540272725219,0.03118490471557393,0.035601604391838626,0.05097514723611873,0.08700329352589058,0.036888958357583775,0.04031194192905375,0.07853333143564983,0.059717937614307444,0.03594305167460033,0.03073209687477717,0.03326672612269168,0.07521476699191118,0.04673920562557649,0.0840089851282706,0.03716428416759557,0.033604559300346296,0.10557880686380346,0.03211122089559395,0.0518969376758191,0.03292496776756745,0.07639640366074499,0.036042007302133736,0.05220657812708841,0.05394470269032466,0.06992406650254826,0.05885099866771751,0.039826503487067184,0.030642460770855036,0.0420004703213603,0.057048430933188905,0.03660541054938941,0.07867218531191845,0.049473135696353907,0.0732850441337146,0.04578620344965868,0.07314588462802085,0.058612875692424835,0.06792151962690599,0.0351268367386821,0.0357746956280607,0.07180584169365818,0.04544694071705451,0.048611834785820325,0.04589865554001259,0.04893987786522196,0.07736105238938443,0.038022460596140104,0.04354867458941694,0.03533527506032704,0.08543768881106008,0.05074396106714359,0.0846745615205576,0.04146086719942387,0.041883536955105966,0.034265120291748344,0.07553237016947732,0.03344259646373471,0.07399816294027818,0.03385095276962529,0.04328780798068109,0.06480725099751555,0.04954801942721075,0.025200284712104688,0.03220198819828888,0.06320617445854097,0.04710110439048147,0.03413720082702463,0.052628231008436194,0.059784180199640144,0.04784368836365228,0.06015738941366983,0.031855187267906815,0.06007381840638418,0.04946794841033259,0.04360278798597287,0.050623777402869476,0.06265818996621787,0.043047827231487965,0.04279359528579138,0.07021540044828435,0.031142930219175153,0.05863083451598883,0.047061769773436325,0.0387571004377311,0.039779872241481995,0.09220148143021481,0.053268619956728484,0.03981677133653171,0.04909172226583947,0.05338486116457918,0.07304617245344361,0.05076572191082857,0.023374570359174198,0.04288666335061937,0.02449332194533775,0.04349202364336378,0.05865502894729068,0.06420761243690472,0.042248057152443196,0.06766544490777723,0.03441407133631585,0.04679999530407916,0.03974256044440898,0.049619763584610295,0.0446380614827474,0.05764130793769739,0.034422918511899554,0.07453983853631109,0.03317222865272714,0.03664475205120286,0.037924924007832074,0.05840849717012073,0.03678936860288207,0.10994854169478885,0.03927092838858331,0.03245508126753753,0.036324360549319167,0.06565420373488394,0.049048509863369276,0.046224668184980916,0.06526648430552504,0.07178312661239428,0.05434165410275466,0.027313554192417055,0.0463590470025679,0.04081708741628489,0.03354272176712844,0.020659228039853737,0.06454983024795798,0.03966998568188514,0.05305563011978852,0.046735878324481006,0.04786949231106213,0.02262999825286308,0.024822203486940374,0.05903834048612918,0.051343916175821784,0.031880828866454096,0.04112275296387027,0.07497282062654119,0.04594384041605311,0.03331345540574527,0.06852367287399562,0.046015433272803025,0.04978688697820675,0.03991100834248942,0.04156965656089656,0.03714938170436526,0.045924990262357406,0.05949629646410222,0.02199686526296776,0.08510222033260917,0.05873636024780522,0.03364346915766168,0.03542046316219075,0.049345543129529025,0.052410122073972956,0.04421739078242627,0.048783588710937575,0.08666923718165016,0.05701609677434762,0.02855608212390991,0.05138529360944461,0.04396680191577613,0.04580281512232386,0.03239284923570534,0.045078374448624337,0.03118376718950735,0.030826418134660492,0.039722234182246415,0.07021277632309138,0.043312065049576916,0.053049770473539315,0.03505794228773688,0.028721508941213517,0.025667734533678734,0.030900353827588215,0.059534546167475125,0.05921438312675335,0.03106310087364162,0.052125968584419265,0.021381914694636815,0.04318158287409494,0.05015817841513218,0.04061751525989634,0.06747519536649463,0.049250947244045544,0.038132023469873495,0.048809360336077814,0.05646923170325503,0.044671765808172934,0.03391224271843103,0.06962394669173375,0.03577719882117589,0.06483729343687078,0.03858139956629051,0.034338501995752425,0.047474442883320075,0.05028800139046565,0.053439043176764296,0.04396740427485742,0.03836915031182474,0.02772336548753062,0.05620042486197907,0.0836629225139998,0.05969389369474529,0.046720289601627156,0.030439496128153488,0.045288651468635484,0.02059294419069453,0.05499233300321448,0.03757379756693409,0.02632826212725594,0.08315810987427946,0.033967170735761665,0.039737255446296256,0.04709557398417927,0.023450669430470132,0.031602254797838354,0.05065467986761971,0.08007524376298462,0.07144780773500771,0.03664920670978385,0.05178714484710581,0.02998731370522424,0.036637821503119894,0.053976847935181746,0.045773826880586815,0.035566323125962786,0.026796122894881216,0.07279506733804601,0.028093195234167874,0.042211908012233464,0.04519031726788523,0.07654280271440832,0.04401908408980966,0.06554542245043246,0.04801134319127011,0.032720226095156325,0.03828746957621015,0.0407177426815322,0.036812295843156935,0.04638552646882951,0.03325495298565525,0.05068816780665775,0.035024430498805055,0.045538267718818366,0.037092465326965175,0.03969441132851,0.03961054870331454,0.024739078715196844,0.05536373649516703,0.051027107414643016,0.0410232260038704,0.03502327431458263,0.03053208065256224,0.02653197104282999,0.04708381134272272,0.043544519411488646,0.04765673875652307,0.03396644623548565,0.05217049643253061,0.041922387942268484,0.05886994158939925,0.02100834763042943,0.027083466861758373,0.0326773435589621,0.030536894884015453,0.044071114779628925,0.024075153507406327,0.03853254028169136,0.033584032323899476,0.03552695188764311,0.025378455979651996,0.043210218402091494,0.0583317897139408,0.04135100912005895,0.03525214234942934,0.05138308059727588,0.06762094905618808,0.04773109548374434,0.04296635381923287,0.049880159443909125,0.04361571058193519,0.027239793465712876,0.033525817676131296,0.05347728825067391,0.05019320545978662,0.03095539920342631,0.07161497392912163,0.054543251032332166,0.03382227749143448,0.0702150725894089,0.035943796473267786,0.044200934145129635,0.03507298743136614,0.052476825971087285,0.05327635695542457,0.05122581929662364,0.04908944965512088,0.018446350226373143,0.04334083272869961,0.05783017591416027,0.05760315935978238,0.03819778630659571,0.040611319142602166,0.03205831625411851,0.04804527655119015,0.04658928770897205,0.024631539707251626,0.035722243075224515,0.04382506255123606,0.04073589191458591,0.043023064621301656,0.04475148364231174,0.030665134463687203,0.05514284402297289,0.051522663413628315,0.042194923474388614,0.1367009901965625,0.04799328151147268,0.07529806969856474,0.06177804295774137,0.05054775840841967,0.07855972026338494,0.04508021639640669,0.07142717152385694,0.04681510450704374,0.047479262773094784,0.0494099790655495,0.035223026628124356,0.039438441205451626,0.04048400542625708,0.0721571763081102,0.0633767581033346,0.054524978822377515,0.04883424665897656,0.06201677364032465,0.05867462677175878,0.048327422090354615,0.03565830352268795,0.04267159679223422,0.030970318805365382,0.032471675484119555,0.06534582101516077,0.03359352838941013,0.07763142533152873,0.05149316554500905,0.043064835950361896,0.050254286285794515,0.02836743320294948,0.04084782106589434,0.04627136879800347,0.042020897059901,0.045052117537475615,0.04633111871900159,0.09504291715953829,0.039998570945538464,0.029834015066958354,0.04748989738584425,0.048822491121621944,0.03507915160417434,0.0632758097961214,0.07992679194838698,0.03695626920967687,0.03918771836658334,0.057001201945207115,0.03286901163483307,0.0507580503622165,0.024775230330855266,0.037814783907681636,0.044920542924377534,0.06090621349899413,0.050611108200511776,0.08855890849981961,0.03657543694380387,0.040953393633987034,0.01866697340905554,0.048601810410252,0.054865359790665834,0.048011581365565645,0.05990823994134368,0.04871147283939778,0.0528825591903969,0.037829066445829444,0.037657214422361335,0.027354728268748338,0.038609871310599446,0.04109064749363578,0.06186829316361285,0.05218324626758533,0.03168892035720038,0.04291872373922269,0.03354462473150201,0.06979650596064413,0.03021069445948954,0.04770618511189131,0.03163027390732859,0.021025155316755837,0.029011419055675773,0.02905998312167821,0.04269912943069732,0.02852383477240804,0.034319627193713405,0.04774352005929573,0.05152875358910277,0.037125085529588986,0.04757551609364558,0.06357486812878947,0.0356661266728521,0.04951379063249459,0.06971421821768341,0.025709009593887482,0.05694882862187386,0.035751518225437054,0.022581664032715,0.022960489224850562,0.0271764839847137,0.04615528505075073,0.050185382413874075,0.03466059266873279,0.02708477709239332,0.051878293069014994,0.03729525149409235,0.045374187312651214,0.05024620165128408,0.0367290281878122,0.03513978171522399,0.038399480292071464,0.028500902867464085,0.039448377513817995,0.055283058171914944,0.04983746891852622,0.03505526546412762,0.04394777368279931,0.03889382547072711,0.02013650141638993,0.028202883749341972,0.014448402678197313,0.029198997862272622,0.0420147008822447,0.0343383734774894,0.07540843241090014,0.0796850980364619,0.04898635903498812,0.07340919460156971,0.050550746339021464,0.051300057065945225,0.08287878211664047,0.05567922690972308,0.052029456241436005,0.038135508143627525,0.045534503098705104,0.060628790634028124,0.04777957752333116,0.022685873602660254,0.06650257343568902,0.06128995420803996,0.03701618090678383,0.03461121639811568,0.03859325030034232,0.07216893764746987,0.03355736038633468,0.09083066321959532,0.07935093678371019,0.06010010467249193,0.04899979189711451,0.04792127986924356,0.029615115389612964,0.03315986249855504,0.0549082055943441,0.03034532308345536,0.03441993420903751,0.046195913518313106,0.08125580218489294,0.0713581718410432,0.07773859959103746,0.02790693394321193,0.04813603406731812,0.04373580682304272,0.040203315698614246,0.05987168802650105,0.03807899695550304,0.05382468315917847,0.06811043007842521,0.03448783527500408,0.09566806995868907,0.04730168820927834,0.041621027474349696,0.05137339420834207,0.049317327851265684,0.05779892122097862,0.05154093742528562,0.07272012278936767,0.0457747791399337,0.028672672073121696,0.036593293320748704,0.02512997866085453,0.03649566006151273,0.0623807692358663,0.03791441380419367,0.04452796974093769,0.05942937315133072,0.05898946537372442,0.036959763825239106,0.029635284978403502,0.027423767528313266,0.03769760736288876,0.05569176728096186,0.07697413389808645,0.051419238418526976,0.03410742759204724,0.032612766684761325,0.032216602437551756,0.041006626305220464,0.04440542250581576,0.03487298348177959,0.04934912811973273,0.058155432647144276,0.03896345217322808,0.08434892085291404,0.04819802484578189,0.05435131143318398,0.04698971477886312,0.03658835128717115,0.044255535776108315,0.045510742122227804,0.04820182389375879,0.03939035543192951,0.06402929660523729,0.0622111236273548,0.06884953214560055,0.030832306915246167,0.030233647641613424,0.04556248179234362,0.04186369496474821,0.04644397332747774,0.05677117147405005,0.0439836612388422,0.043714104977878476,0.03428680076852844,0.06302492172634935,0.0468107432949122,0.029888984437848053,0.028838665055901127,0.05910874702678024,0.05652748324883334,0.03757097381889554,0.038413061597472174,0.04263062691689493,0.03790194924746559,0.03724544391626616,0.045707041560025856,0.06329860779191804,0.05130307208894949,0.02512347893224951,0.04434826439800256,0.07193838161624395,0.07763234120616183,0.05066281569304092,0.061316660741519154,0.06224966037447177,0.046686627355702885,0.045697352971017444,0.04121647346047845,0.03205882997953915,0.043453310229064665,0.053993485202406426,0.056714446255210944,0.06720757663440576,0.09774664264715734,0.03454208757643459,0.045152673724654986,0.03869585416625189,0.030848514654230767,0.044709689390208,0.03693654072252779,0.037936341116546736,0.0407423523773422,0.04028944141202408,0.02648297183397072,0.041553961378588494,0.04147908646516362,0.04681444516757721,0.0792638846845693,0.07417945761453529,0.04337498581452571,0.042614097892017845,0.04692424997251844,0.0521019588645535,0.02840072651813383,0.04928594985567706,0.04537704045630436,0.032859772276887134,0.05012290517096014,0.03660327565188676,0.037128915895154206,0.02868881591805696,0.025822602567602836,0.04370778344922687,0.04409198327418684,0.03396767028203118,0.048066660812136716,0.06197252247916095,0.04934036333049781,0.06146089795589355,0.06790706841731126,0.04720948376729703,0.08284526088769363,0.0825577174132939,0.11111289274810757,0.06093532067829171,0.03901961860270112,0.0465279186379458,0.03274397475280472,0.039006593900089884,0.06300967805980857,0.07990761905559446,0.0448608065467607,0.06598891463913668,0.0368209960491408,0.06472768204624522,0.07356889874983394,0.050378325001156944,0.03831237686614826,0.026249420479479497,0.02843090806748006,0.06952300017511258,0.055273695657876924,0.04623441919012901,0.04436414096032823,0.044348465095198845,0.052704611607414124,0.048097017235194495,0.041227834654445246,0.04967584730682409,0.04221880947061285,0.08186330955088146,0.02224412574990563,0.03874512299211474,0.05548331775813192,0.021712087097621506,0.03288443189958295,0.0444128963093419,0.0342997212064986,0.03953106137094318,0.03488506216529548,0.06468198395227419,0.056472528105381045,0.06444744725943308,0.024023212045348227,0.026361063174509796,0.060929125883330756,0.048370663172938394,0.052110286693716125,0.0401946256156888,0.04388790959829724,0.06008492449735398,0.035436963950992766,0.04196957916862048,0.039186730327519986,0.03344902619740997,0.03261898014085282,0.030633817257483643,0.0401718986719436,0.09550043733315795,0.03605251695846004,0.042459529247931505,0.04222829642248876,0.08298087683213334,0.02476423818760476,0.027001615865586668,0.05336658452155012,0.03485902162608234,0.025207808979474285,0.0231130941727754,0.036004063046617116,0.030506390623003116,0.05120458567075452,0.03974734782353598,0.05067681833220745,0.0389607190512022,0.04991084124061513,0.053861355979022765,0.04807633435887528,0.04363747365386875,0.05779714120097215,0.046344733478833285,0.03638352721032587,0.06889184074266208,0.06821117082696522,0.05651853197548138,0.03515069939192217,0.046656797238249455,0.042905665243361465,0.05532348285339289,0.03944791858093886,0.017126384829617758,0.040384857711917486,0.021874175698460212,0.03918038571301722,0.03824940901073674,0.04692250668984371,0.031351886474423114,0.03380968429280376,0.08433056759874748,0.028871739307494065,0.0394409580680951,0.039709357102541774,0.03457359792053933,0.034768361912766686,0.032792973964566825,0.05119928371278857,0.033379287834284295,0.07791379141921498,0.023181362189121337,0.050596093049207154,0.07739230801545396,0.0849012344651574,0.04211752386142194,0.05192220071640665,0.05127906756982403,0.06145797079154443,0.08537516381131832,0.0664425747481792,0.035616444076570074,0.04277456735616714,0.05466005558376167,0.06493890101730804,0.035277046348986416,0.06629839041517537,0.07464668922350735,0.039032197324959376,0.04033509542981563,0.07012427889355338,0.048852155572352535,0.037337256268813936,0.03631991352122367,0.033513605847572084,0.04306786472068979,0.03289196612706004,0.053022654543282643,0.0398394756527671,0.039869066059158645,0.0512718317127353,0.03464175814276594,0.032732299219105594,0.039139811716549046,0.033736677680606716,0.03292904123701821,0.042491097939084274,0.029554107119192898,0.08075843891654054,0.044607158562625336,0.03539847028525669,0.024654323881009854,0.054588938824737775,0.04899213263313807,0.056680573371255545,0.04087208770281288,0.06362483217373552,0.038594229954777536,0.04348259347251738,0.049503491967068255,0.031896091704894984,0.025133839294414304,0.028717864306506146,0.09154930568285316,0.06474486420123128,0.047284738412165045,0.08790485030298645,0.027170539342639112,0.06650351703863952,0.07229080693494826,0.048167997647224355,0.046828877743315046,0.04320973493280004,0.03739395659625981,0.044421285157543546,0.04744923483216249,0.05793680685817142,0.04404627174758025,0.02230841638171096,0.03914798443975375,0.08455581620924854,0.07815890521849134,0.03529642517253608,0.07159322255041203,0.050032320355953404,0.03875044988665449,0.06219016706680639,0.04180232769740436,0.03422781000193652,0.027873411654228873,0.04928299038594315,0.06733765488963238,0.06251536022863309,0.0585807215888925,0.038667927073991346,0.050397706061184204,0.03623111941873922,0.05918187897935623,0.05840297700669455,0.04459508603223094,0.02125536541168991,0.0627139372367629,0.041491901704453944,0.05309163115493851,0.025660228472435778,0.03900197110821414,0.02371047139734909,0.026759115010357836,0.04789487871723413,0.027588664664929666,0.045901017939490474,0.04811030303604814,0.03892895357907034,0.06284223692080548,0.03873105332516406,0.05719065854433083,0.06612968039351495,0.03721727449330934,0.03689136578501875,0.04669031274668493,0.02469397174720241,0.04751160711432652,0.038035755652327294,0.06109842312206926,0.05294395111435558,0.10112674922005661,0.05398832605742253,0.034318448789124566,0.041326274380321076,0.08128868586460067,0.03292640836431743,0.07838674502363824,0.05331134061463554,0.047342057898997474,0.03580724688492791,0.029612486641516063,0.024906370710625767,0.03670783100887041,0.05194435458565967,0.05539119427728381,0.0551320441637863,0.03300641166882952,0.0355800895926832,0.04393574647119713,0.043427671470285284,0.09313089833261098,0.040158899923316956,0.05605069423651964,0.03551416655131913,0.078676492705502,0.03833871290316242,0.03333506085844076,0.05959270267471161,0.0378620759384101,0.025471254573669774,0.02257486240712789,0.05018378966876091,0.03899784418137529,0.03355303966444109,0.04951055610389548,0.03103725172137777,0.05643839272332773,0.0537873298852604,0.026309691562066286,0.026815948253755155,0.06049875149061352,0.02556041884935341,0.02520043344303054,0.038394392735716876,0.04825430953890766,0.0329861774808252,0.04746868699827757,0.03387813633773917,0.03061662621262237,0.03763723700225957,0.06689368795531132,0.034473841325389616,0.02167046385693752,0.03841625746106051,0.02553122826606715,0.03274317806575086,0.028522164794932577,0.057988663664214464,0.04260836465463207,0.04725655103486143,0.06672412497373519,0.03982319709015349,0.055547335015228856,0.045940103876819655,0.03714787568624107,0.04608763595215793,0.04934644647362034,0.049335917789333085,0.07955608047672641,0.03665461589683862,0.04418866232012912,0.08838629910773303,0.04879139540531525,0.11240815531955313,0.02967361263100961,0.0912057196553914,0.08264449667777785,0.04925592093847628,0.05529758270892356,0.059305519978445485,0.03331617888408987,0.03666582249157941,0.03213933750736017,0.036170113975258655,0.07837701238542163,0.04458823383916075,0.03312284617916558,0.07347435509218471,0.08850794085667328,0.05668174318789738,0.05543416480518506,0.05248105080755767,0.05469355861051755,0.028470590271221313,0.021487886612095036,0.04037852569519872,0.02763434595224989,0.04515834682455698,0.08889708762761116,0.048328543662097746,0.033019936895932356,0.05194928545248457,0.03633127243192178,0.020974570973474695,0.06615126450760588,0.03834686366703975,0.04806115094792072,0.038345287528765835,0.04348350357588598,0.038861176208002696,0.04773800853029631,0.043766553255166624,0.04797211468502798,0.05345261477333225,0.05171947997940374,0.09829664502233872,0.03618919395438223,0.08331356849805771,0.07379211235062214,0.09724876355459204,0.037225974343055135,0.0588318286660911,0.04717975526258938,0.04994945855212191,0.029751587931511548,0.03845376944521168,0.033097222992512706,0.069297993059913,0.05077710492791795,0.022913526663242707,0.03895737724583504,0.037042813705107834,0.013582452220217102,0.07366727116945467,0.024337966391902385,0.053669430649813644,0.03587248906784775,0.0644352911566087,0.04437445266960979,0.09315535868867483,0.03954578493202755,0.02567900719399231,0.060720859103872454,0.03139739552005781,0.030557149578783804,0.03665594258885827,0.028774639461705186,0.05439856455976442,0.026226235753588706,0.036868331244767655,0.0565076300421416,0.03715686462610256,0.04343449220002423,0.03689929609848229,0.05894369706149428,0.042258852551085135,0.04036393523418592,0.04515078816890702,0.05600408841956983,0.03432477000959753,0.07344627418775296,0.03247822835185372,0.037004378620459605,0.0687429391361879,0.043098864563452015,0.04935718183150416,0.09557491432938266,0.038420695750192975,0.03876162931037463,0.04238991153187016,0.03213584045254301,0.03126466403813345,0.03507673000458154,0.04517378430295456,0.0688511812363717,0.031898485399765183,0.03314527573475905,0.06867958884034644,0.05225720131616488,0.04308212163117819,0.06428191441371985,0.044478100184312884,0.03772579402996183,0.0274806196686085,0.029620031338175347,0.04253053241004106,0.02285816721051986,0.03467320682998997,0.06259840299141664,0.04711736976560656,0.030718340238091436,0.036176014044738906,0.051413197567269316,0.051121365212076206,0.030745519803542294,0.03748147958495515,0.05224903134606432,0.03216995053280196,0.03414522504646261,0.08492827195091174,0.04571787709441787,0.06458575706281265,0.07056494732990247,0.0560967755186483,0.05077097477266669,0.03204226739409969,0.04469348820550065,0.024073799397595044,0.01940065851200477,0.10714192735905594,0.04200924412159091,0.043295229302903616,0.03442039065789822,0.03471596531622176,0.0632942648063695,0.03245228480546246,0.0495576878130829,0.02400821260621183,0.04353725336411295,0.0334697469429801,0.03838918713944196,0.033183496763261995,0.047447939152003675,0.02975902081714593,0.043244199575053224,0.07810401178596237,0.03170450983380843,0.07577351349641816,0.05331684394871259,0.06806337728670235,0.03369065743041288,0.03848237071701475,0.042171363854686617,0.054639417204436595,0.04232710923560272,0.034297422317774925,0.040553308417190494,0.05918438670550297,0.05574320870553273,0.050342827907987255,0.0458782919864326,0.041232828804938816,0.038917604736594176,0.06017389965803803,0.06989116520382052,0.03642234589074826,0.04432235428884821,0.03449685776330787,0.03371451053881566,0.039564545865665025,0.06728965669490683,0.04772983842707725,0.04340188522934908,0.04504504372330393,0.06978959509439706,0.054612563906618554,0.03919449602834577,0.09001936085669598,0.04027930323386734,0.04830862183560496,0.07048714222911502,0.04107250310945755,0.06194623182464119,0.06551776705848208,0.05368999910283565,0.014288532198004732,0.030838269981681467,0.08552421611116479,0.03999731141135086,0.051514926017736724,0.03502436741043148,0.05795492075311416,0.02829426773652408,0.07263526334624032,0.05701901306309179,0.08337005849355553,0.05984673632617335,0.04889026492865369,0.04679740567300787,0.03130692767523541,0.09143074804832141,0.046975318611820506,0.055268253754798345,0.035947268744145645,0.05424258852348602,0.028266529765959805,0.04630065685501528,0.1034499551096574,0.03783110823888956,0.03875863961814804,0.056246813837538774,0.026763218138151183,0.03111693384674458,0.03659671860066444,0.059840004513726786,0.03350118367080107,0.054089065807734996,0.04060587297130745,0.021355465026110444,0.05600427636854753,0.056138986980688706,0.03258615525293832,0.07668512269069643,0.032445469771170785,0.054424274995265066,0.039366672836068185,0.04910974644540016,0.02627312884972959,0.037661489362010574,0.04699822072035523,0.03591074174431801,0.03586940420523225,0.040857885660740285,0.044445933589252154,0.035067502432494346,0.043352563632195334,0.07419939626387817,0.03996966581591909,0.04382281880761186,0.03674913724358523,0.04715036969959711,0.05794364069891748,0.027694676841183406,0.029344371494744306,0.03418591631032354,0.028437396004570875,0.04516783430406195,0.03507264700657288],\"xaxis\":\"x2\",\"yaxis\":\"y2\"}],                        {\"barmode\":\"relative\",\"legend\":{\"tracegroupgap\":0},\"margin\":{\"t\":60},\"template\":{\"data\":{\"bar\":[{\"error_x\":{\"color\":\"rgb(36,36,36)\"},\"error_y\":{\"color\":\"rgb(36,36,36)\"},\"marker\":{\"line\":{\"color\":\"rgb(234,234,242)\",\"width\":0.5},\"pattern\":{\"fillmode\":\"overlay\",\"size\":10,\"solidity\":0.2}},\"type\":\"bar\"}],\"barpolar\":[{\"marker\":{\"line\":{\"color\":\"rgb(234,234,242)\",\"width\":0.5},\"pattern\":{\"fillmode\":\"overlay\",\"size\":10,\"solidity\":0.2}},\"type\":\"barpolar\"}],\"carpet\":[{\"aaxis\":{\"endlinecolor\":\"rgb(36,36,36)\",\"gridcolor\":\"white\",\"linecolor\":\"white\",\"minorgridcolor\":\"white\",\"startlinecolor\":\"rgb(36,36,36)\"},\"baxis\":{\"endlinecolor\":\"rgb(36,36,36)\",\"gridcolor\":\"white\",\"linecolor\":\"white\",\"minorgridcolor\":\"white\",\"startlinecolor\":\"rgb(36,36,36)\"},\"type\":\"carpet\"}],\"choropleth\":[{\"colorbar\":{\"outlinewidth\":0,\"tickcolor\":\"rgb(36,36,36)\",\"ticklen\":8,\"ticks\":\"outside\",\"tickwidth\":2},\"type\":\"choropleth\"}],\"contour\":[{\"colorbar\":{\"outlinewidth\":0,\"tickcolor\":\"rgb(36,36,36)\",\"ticklen\":8,\"ticks\":\"outside\",\"tickwidth\":2},\"colorscale\":[[0.0,\"rgb(2,4,25)\"],[0.06274509803921569,\"rgb(24,15,41)\"],[0.12549019607843137,\"rgb(47,23,57)\"],[0.18823529411764706,\"rgb(71,28,72)\"],[0.25098039215686274,\"rgb(97,30,82)\"],[0.3137254901960784,\"rgb(123,30,89)\"],[0.3764705882352941,\"rgb(150,27,91)\"],[0.4392156862745098,\"rgb(177,22,88)\"],[0.5019607843137255,\"rgb(203,26,79)\"],[0.5647058823529412,\"rgb(223,47,67)\"],[0.6274509803921569,\"rgb(236,76,61)\"],[0.6901960784313725,\"rgb(242,107,73)\"],[0.7529411764705882,\"rgb(244,135,95)\"],[0.8156862745098039,\"rgb(245,162,122)\"],[0.8784313725490196,\"rgb(246,188,153)\"],[0.9411764705882353,\"rgb(247,212,187)\"],[1.0,\"rgb(250,234,220)\"]],\"type\":\"contour\"}],\"contourcarpet\":[{\"colorbar\":{\"outlinewidth\":0,\"tickcolor\":\"rgb(36,36,36)\",\"ticklen\":8,\"ticks\":\"outside\",\"tickwidth\":2},\"type\":\"contourcarpet\"}],\"heatmap\":[{\"colorbar\":{\"outlinewidth\":0,\"tickcolor\":\"rgb(36,36,36)\",\"ticklen\":8,\"ticks\":\"outside\",\"tickwidth\":2},\"colorscale\":[[0.0,\"rgb(2,4,25)\"],[0.06274509803921569,\"rgb(24,15,41)\"],[0.12549019607843137,\"rgb(47,23,57)\"],[0.18823529411764706,\"rgb(71,28,72)\"],[0.25098039215686274,\"rgb(97,30,82)\"],[0.3137254901960784,\"rgb(123,30,89)\"],[0.3764705882352941,\"rgb(150,27,91)\"],[0.4392156862745098,\"rgb(177,22,88)\"],[0.5019607843137255,\"rgb(203,26,79)\"],[0.5647058823529412,\"rgb(223,47,67)\"],[0.6274509803921569,\"rgb(236,76,61)\"],[0.6901960784313725,\"rgb(242,107,73)\"],[0.7529411764705882,\"rgb(244,135,95)\"],[0.8156862745098039,\"rgb(245,162,122)\"],[0.8784313725490196,\"rgb(246,188,153)\"],[0.9411764705882353,\"rgb(247,212,187)\"],[1.0,\"rgb(250,234,220)\"]],\"type\":\"heatmap\"}],\"heatmapgl\":[{\"colorbar\":{\"outlinewidth\":0,\"tickcolor\":\"rgb(36,36,36)\",\"ticklen\":8,\"ticks\":\"outside\",\"tickwidth\":2},\"colorscale\":[[0.0,\"rgb(2,4,25)\"],[0.06274509803921569,\"rgb(24,15,41)\"],[0.12549019607843137,\"rgb(47,23,57)\"],[0.18823529411764706,\"rgb(71,28,72)\"],[0.25098039215686274,\"rgb(97,30,82)\"],[0.3137254901960784,\"rgb(123,30,89)\"],[0.3764705882352941,\"rgb(150,27,91)\"],[0.4392156862745098,\"rgb(177,22,88)\"],[0.5019607843137255,\"rgb(203,26,79)\"],[0.5647058823529412,\"rgb(223,47,67)\"],[0.6274509803921569,\"rgb(236,76,61)\"],[0.6901960784313725,\"rgb(242,107,73)\"],[0.7529411764705882,\"rgb(244,135,95)\"],[0.8156862745098039,\"rgb(245,162,122)\"],[0.8784313725490196,\"rgb(246,188,153)\"],[0.9411764705882353,\"rgb(247,212,187)\"],[1.0,\"rgb(250,234,220)\"]],\"type\":\"heatmapgl\"}],\"histogram\":[{\"marker\":{\"pattern\":{\"fillmode\":\"overlay\",\"size\":10,\"solidity\":0.2}},\"type\":\"histogram\"}],\"histogram2d\":[{\"colorbar\":{\"outlinewidth\":0,\"tickcolor\":\"rgb(36,36,36)\",\"ticklen\":8,\"ticks\":\"outside\",\"tickwidth\":2},\"colorscale\":[[0.0,\"rgb(2,4,25)\"],[0.06274509803921569,\"rgb(24,15,41)\"],[0.12549019607843137,\"rgb(47,23,57)\"],[0.18823529411764706,\"rgb(71,28,72)\"],[0.25098039215686274,\"rgb(97,30,82)\"],[0.3137254901960784,\"rgb(123,30,89)\"],[0.3764705882352941,\"rgb(150,27,91)\"],[0.4392156862745098,\"rgb(177,22,88)\"],[0.5019607843137255,\"rgb(203,26,79)\"],[0.5647058823529412,\"rgb(223,47,67)\"],[0.6274509803921569,\"rgb(236,76,61)\"],[0.6901960784313725,\"rgb(242,107,73)\"],[0.7529411764705882,\"rgb(244,135,95)\"],[0.8156862745098039,\"rgb(245,162,122)\"],[0.8784313725490196,\"rgb(246,188,153)\"],[0.9411764705882353,\"rgb(247,212,187)\"],[1.0,\"rgb(250,234,220)\"]],\"type\":\"histogram2d\"}],\"histogram2dcontour\":[{\"colorbar\":{\"outlinewidth\":0,\"tickcolor\":\"rgb(36,36,36)\",\"ticklen\":8,\"ticks\":\"outside\",\"tickwidth\":2},\"colorscale\":[[0.0,\"rgb(2,4,25)\"],[0.06274509803921569,\"rgb(24,15,41)\"],[0.12549019607843137,\"rgb(47,23,57)\"],[0.18823529411764706,\"rgb(71,28,72)\"],[0.25098039215686274,\"rgb(97,30,82)\"],[0.3137254901960784,\"rgb(123,30,89)\"],[0.3764705882352941,\"rgb(150,27,91)\"],[0.4392156862745098,\"rgb(177,22,88)\"],[0.5019607843137255,\"rgb(203,26,79)\"],[0.5647058823529412,\"rgb(223,47,67)\"],[0.6274509803921569,\"rgb(236,76,61)\"],[0.6901960784313725,\"rgb(242,107,73)\"],[0.7529411764705882,\"rgb(244,135,95)\"],[0.8156862745098039,\"rgb(245,162,122)\"],[0.8784313725490196,\"rgb(246,188,153)\"],[0.9411764705882353,\"rgb(247,212,187)\"],[1.0,\"rgb(250,234,220)\"]],\"type\":\"histogram2dcontour\"}],\"mesh3d\":[{\"colorbar\":{\"outlinewidth\":0,\"tickcolor\":\"rgb(36,36,36)\",\"ticklen\":8,\"ticks\":\"outside\",\"tickwidth\":2},\"type\":\"mesh3d\"}],\"parcoords\":[{\"line\":{\"colorbar\":{\"outlinewidth\":0,\"tickcolor\":\"rgb(36,36,36)\",\"ticklen\":8,\"ticks\":\"outside\",\"tickwidth\":2}},\"type\":\"parcoords\"}],\"pie\":[{\"automargin\":true,\"type\":\"pie\"}],\"scatter\":[{\"marker\":{\"colorbar\":{\"outlinewidth\":0,\"tickcolor\":\"rgb(36,36,36)\",\"ticklen\":8,\"ticks\":\"outside\",\"tickwidth\":2}},\"type\":\"scatter\"}],\"scatter3d\":[{\"line\":{\"colorbar\":{\"outlinewidth\":0,\"tickcolor\":\"rgb(36,36,36)\",\"ticklen\":8,\"ticks\":\"outside\",\"tickwidth\":2}},\"marker\":{\"colorbar\":{\"outlinewidth\":0,\"tickcolor\":\"rgb(36,36,36)\",\"ticklen\":8,\"ticks\":\"outside\",\"tickwidth\":2}},\"type\":\"scatter3d\"}],\"scattercarpet\":[{\"marker\":{\"colorbar\":{\"outlinewidth\":0,\"tickcolor\":\"rgb(36,36,36)\",\"ticklen\":8,\"ticks\":\"outside\",\"tickwidth\":2}},\"type\":\"scattercarpet\"}],\"scattergeo\":[{\"marker\":{\"colorbar\":{\"outlinewidth\":0,\"tickcolor\":\"rgb(36,36,36)\",\"ticklen\":8,\"ticks\":\"outside\",\"tickwidth\":2}},\"type\":\"scattergeo\"}],\"scattergl\":[{\"marker\":{\"colorbar\":{\"outlinewidth\":0,\"tickcolor\":\"rgb(36,36,36)\",\"ticklen\":8,\"ticks\":\"outside\",\"tickwidth\":2}},\"type\":\"scattergl\"}],\"scattermapbox\":[{\"marker\":{\"colorbar\":{\"outlinewidth\":0,\"tickcolor\":\"rgb(36,36,36)\",\"ticklen\":8,\"ticks\":\"outside\",\"tickwidth\":2}},\"type\":\"scattermapbox\"}],\"scatterpolar\":[{\"marker\":{\"colorbar\":{\"outlinewidth\":0,\"tickcolor\":\"rgb(36,36,36)\",\"ticklen\":8,\"ticks\":\"outside\",\"tickwidth\":2}},\"type\":\"scatterpolar\"}],\"scatterpolargl\":[{\"marker\":{\"colorbar\":{\"outlinewidth\":0,\"tickcolor\":\"rgb(36,36,36)\",\"ticklen\":8,\"ticks\":\"outside\",\"tickwidth\":2}},\"type\":\"scatterpolargl\"}],\"scatterternary\":[{\"marker\":{\"colorbar\":{\"outlinewidth\":0,\"tickcolor\":\"rgb(36,36,36)\",\"ticklen\":8,\"ticks\":\"outside\",\"tickwidth\":2}},\"type\":\"scatterternary\"}],\"surface\":[{\"colorbar\":{\"outlinewidth\":0,\"tickcolor\":\"rgb(36,36,36)\",\"ticklen\":8,\"ticks\":\"outside\",\"tickwidth\":2},\"colorscale\":[[0.0,\"rgb(2,4,25)\"],[0.06274509803921569,\"rgb(24,15,41)\"],[0.12549019607843137,\"rgb(47,23,57)\"],[0.18823529411764706,\"rgb(71,28,72)\"],[0.25098039215686274,\"rgb(97,30,82)\"],[0.3137254901960784,\"rgb(123,30,89)\"],[0.3764705882352941,\"rgb(150,27,91)\"],[0.4392156862745098,\"rgb(177,22,88)\"],[0.5019607843137255,\"rgb(203,26,79)\"],[0.5647058823529412,\"rgb(223,47,67)\"],[0.6274509803921569,\"rgb(236,76,61)\"],[0.6901960784313725,\"rgb(242,107,73)\"],[0.7529411764705882,\"rgb(244,135,95)\"],[0.8156862745098039,\"rgb(245,162,122)\"],[0.8784313725490196,\"rgb(246,188,153)\"],[0.9411764705882353,\"rgb(247,212,187)\"],[1.0,\"rgb(250,234,220)\"]],\"type\":\"surface\"}],\"table\":[{\"cells\":{\"fill\":{\"color\":\"rgb(231,231,240)\"},\"line\":{\"color\":\"white\"}},\"header\":{\"fill\":{\"color\":\"rgb(183,183,191)\"},\"line\":{\"color\":\"white\"}},\"type\":\"table\"}]},\"layout\":{\"annotationdefaults\":{\"arrowcolor\":\"rgb(67,103,167)\"},\"autotypenumbers\":\"strict\",\"coloraxis\":{\"colorbar\":{\"outlinewidth\":0,\"tickcolor\":\"rgb(36,36,36)\",\"ticklen\":8,\"ticks\":\"outside\",\"tickwidth\":2}},\"colorscale\":{\"sequential\":[[0.0,\"rgb(2,4,25)\"],[0.06274509803921569,\"rgb(24,15,41)\"],[0.12549019607843137,\"rgb(47,23,57)\"],[0.18823529411764706,\"rgb(71,28,72)\"],[0.25098039215686274,\"rgb(97,30,82)\"],[0.3137254901960784,\"rgb(123,30,89)\"],[0.3764705882352941,\"rgb(150,27,91)\"],[0.4392156862745098,\"rgb(177,22,88)\"],[0.5019607843137255,\"rgb(203,26,79)\"],[0.5647058823529412,\"rgb(223,47,67)\"],[0.6274509803921569,\"rgb(236,76,61)\"],[0.6901960784313725,\"rgb(242,107,73)\"],[0.7529411764705882,\"rgb(244,135,95)\"],[0.8156862745098039,\"rgb(245,162,122)\"],[0.8784313725490196,\"rgb(246,188,153)\"],[0.9411764705882353,\"rgb(247,212,187)\"],[1.0,\"rgb(250,234,220)\"]],\"sequentialminus\":[[0.0,\"rgb(2,4,25)\"],[0.06274509803921569,\"rgb(24,15,41)\"],[0.12549019607843137,\"rgb(47,23,57)\"],[0.18823529411764706,\"rgb(71,28,72)\"],[0.25098039215686274,\"rgb(97,30,82)\"],[0.3137254901960784,\"rgb(123,30,89)\"],[0.3764705882352941,\"rgb(150,27,91)\"],[0.4392156862745098,\"rgb(177,22,88)\"],[0.5019607843137255,\"rgb(203,26,79)\"],[0.5647058823529412,\"rgb(223,47,67)\"],[0.6274509803921569,\"rgb(236,76,61)\"],[0.6901960784313725,\"rgb(242,107,73)\"],[0.7529411764705882,\"rgb(244,135,95)\"],[0.8156862745098039,\"rgb(245,162,122)\"],[0.8784313725490196,\"rgb(246,188,153)\"],[0.9411764705882353,\"rgb(247,212,187)\"],[1.0,\"rgb(250,234,220)\"]]},\"colorway\":[\"rgb(76,114,176)\",\"rgb(221,132,82)\",\"rgb(85,168,104)\",\"rgb(196,78,82)\",\"rgb(129,114,179)\",\"rgb(147,120,96)\",\"rgb(218,139,195)\",\"rgb(140,140,140)\",\"rgb(204,185,116)\",\"rgb(100,181,205)\"],\"font\":{\"color\":\"rgb(36,36,36)\"},\"geo\":{\"bgcolor\":\"white\",\"lakecolor\":\"white\",\"landcolor\":\"rgb(234,234,242)\",\"showlakes\":true,\"showland\":true,\"subunitcolor\":\"white\"},\"hoverlabel\":{\"align\":\"left\"},\"hovermode\":\"closest\",\"paper_bgcolor\":\"white\",\"plot_bgcolor\":\"rgb(234,234,242)\",\"polar\":{\"angularaxis\":{\"gridcolor\":\"white\",\"linecolor\":\"white\",\"showgrid\":true,\"ticks\":\"\"},\"bgcolor\":\"rgb(234,234,242)\",\"radialaxis\":{\"gridcolor\":\"white\",\"linecolor\":\"white\",\"showgrid\":true,\"ticks\":\"\"}},\"scene\":{\"xaxis\":{\"backgroundcolor\":\"rgb(234,234,242)\",\"gridcolor\":\"white\",\"gridwidth\":2,\"linecolor\":\"white\",\"showbackground\":true,\"showgrid\":true,\"ticks\":\"\",\"zerolinecolor\":\"white\"},\"yaxis\":{\"backgroundcolor\":\"rgb(234,234,242)\",\"gridcolor\":\"white\",\"gridwidth\":2,\"linecolor\":\"white\",\"showbackground\":true,\"showgrid\":true,\"ticks\":\"\",\"zerolinecolor\":\"white\"},\"zaxis\":{\"backgroundcolor\":\"rgb(234,234,242)\",\"gridcolor\":\"white\",\"gridwidth\":2,\"linecolor\":\"white\",\"showbackground\":true,\"showgrid\":true,\"ticks\":\"\",\"zerolinecolor\":\"white\"}},\"shapedefaults\":{\"fillcolor\":\"rgb(67,103,167)\",\"line\":{\"width\":0},\"opacity\":0.5},\"ternary\":{\"aaxis\":{\"gridcolor\":\"white\",\"linecolor\":\"white\",\"showgrid\":true,\"ticks\":\"\"},\"baxis\":{\"gridcolor\":\"white\",\"linecolor\":\"white\",\"showgrid\":true,\"ticks\":\"\"},\"bgcolor\":\"rgb(234,234,242)\",\"caxis\":{\"gridcolor\":\"white\",\"linecolor\":\"white\",\"showgrid\":true,\"ticks\":\"\"}},\"xaxis\":{\"automargin\":true,\"gridcolor\":\"white\",\"linecolor\":\"white\",\"showgrid\":true,\"ticks\":\"\",\"title\":{\"standoff\":15},\"zerolinecolor\":\"white\"},\"yaxis\":{\"automargin\":true,\"gridcolor\":\"white\",\"linecolor\":\"white\",\"showgrid\":true,\"ticks\":\"\",\"title\":{\"standoff\":15},\"zerolinecolor\":\"white\"}}},\"xaxis\":{\"anchor\":\"y\",\"domain\":[0.0,1.0],\"title\":{\"text\":\"rel_df\"}},\"xaxis2\":{\"anchor\":\"y2\",\"domain\":[0.0,1.0],\"matches\":\"x\",\"showticklabels\":false},\"yaxis\":{\"anchor\":\"x\",\"domain\":[0.0,0.8316],\"title\":{\"text\":\"count\"}},\"yaxis2\":{\"anchor\":\"x2\",\"domain\":[0.8416,1.0],\"matches\":\"y2\",\"showline\":false,\"showticklabels\":false,\"ticks\":\"\"}},                        {\"responsive\": true}                    ).then(function(){\n                            \nvar gd = document.getElementById('1e663724-8b33-458e-8ab5-bb57738dcdcc');\nvar x = new MutationObserver(function (mutations, observer) {{\n        var display = window.getComputedStyle(gd).display;\n        if (!display || display === 'none') {{\n            console.log([gd, 'removed!']);\n            Plotly.purge(gd);\n            observer.disconnect();\n        }}\n}});\n\n// Listen for the removal of the full notebook cells\nvar notebookContainer = gd.closest('#notebook-container');\nif (notebookContainer) {{\n    x.observe(notebookContainer, {childList: true});\n}}\n\n// Listen for the clearing of the current output cell\nvar outputEl = gd.closest('.output');\nif (outputEl) {{\n    x.observe(outputEl, {childList: true});\n}}\n\n                        })                };                            </script>        </div>\n</body>\n</html>"
     },
     "metadata": {},
     "output_type": "display_data"
    },
    {
     "data": {
      "text/html": "<html>\n<head><meta charset=\"utf-8\" /></head>\n<body>\n    <div>            <script src=\"https://cdnjs.cloudflare.com/ajax/libs/mathjax/2.7.5/MathJax.js?config=TeX-AMS-MML_SVG\"></script><script type=\"text/javascript\">if (window.MathJax) {MathJax.Hub.Config({SVG: {font: \"STIX-Web\"}});}</script>                <script type=\"text/javascript\">window.PlotlyConfig = {MathJaxConfig: 'local'};</script>\n        <script src=\"https://cdn.plot.ly/plotly-2.4.2.min.js\"></script>                <div id=\"b72e0a65-9d11-4b3a-bd8e-b421d79706aa\" class=\"plotly-graph-div\" style=\"height:525px; width:100%;\"></div>            <script type=\"text/javascript\">                                    window.PLOTLYENV=window.PLOTLYENV || {};                                    if (document.getElementById(\"b72e0a65-9d11-4b3a-bd8e-b421d79706aa\")) {                    Plotly.newPlot(                        \"b72e0a65-9d11-4b3a-bd8e-b421d79706aa\",                        [{\"alignmentgroup\":\"True\",\"bingroup\":\"x\",\"hovertemplate\":\"rel_1stIn=%{x}<br>count=%{y}<extra></extra>\",\"legendgroup\":\"\",\"marker\":{\"color\":\"rgb(76,114,176)\",\"pattern\":{\"shape\":\"\"}},\"name\":\"\",\"offsetgroup\":\"\",\"orientation\":\"v\",\"showlegend\":false,\"type\":\"histogram\",\"x\":[0.47020935703246863,0.45084810557148275,0.6084233820417183,0.5654722152272572,0.6553349762716889,0.551184157723418,0.6016062212519708,0.6176350612335294,0.624958826182701,0.5475060110407036,0.6178199289392747,0.5472345221318518,0.6566257002445048,0.5873278309402274,0.6967303393811042,0.5955451891042314,0.5324120774695076,0.5668927408577121,0.6219436949975898,0.621164275412155,0.6475146224943051,0.6600477212978184,0.5970560552974515,0.5668362356454502,0.6309427791082192,0.49673799180394546,0.6069575959514951,0.553534459244981,0.5648819008152555,0.6636790921484489,0.621599743379472,0.6070557542315658,0.5433035449143704,0.568980519864917,0.6379957603124715,0.6422260589272784,0.6826347989527772,0.6052096770660574,0.5986267351963933,0.6255714876162459,0.6318864214130602,0.6181514433625713,0.6770118515195066,0.5770978273756245,0.600298098184378,0.588837337027139,0.6184500523628239,0.6093867095326045,0.5824881763131186,0.6264077852958102,0.5619983979553805,0.5440602871524941,0.573126604172464,0.5938207749659259,0.6004246491173751,0.5841013145816842,0.6320282698942443,0.6482145168618464,0.5675318157520163,0.5165663661274136,0.7201580840167532,0.7010229379789583,0.66453364888537,0.6673346023835467,0.5673690216645547,0.5862148910322875,0.6347933298460141,0.5701456918574423,0.5999021718605545,0.5649104439794878,0.6518672067261624,0.6252226599922226,0.6524487235686278,0.6607324477156388,0.6069768236960904,0.6340015665833254,0.7049051074973295,0.5709206840834272,0.608438864665199,0.626168068559306,0.5674063330681168,0.6628050562856842,0.5137948482820797,0.6538514859304416,0.6059186089936416,0.6211938029326225,0.6010400565199796,0.5682742778133272,0.6331292436039273,0.671912594181976,0.6405406808228433,0.6355794849221311,0.5197241104483484,0.6243882649905581,0.7075175931962486,0.5932538992450666,0.6104914013881969,0.5703245257153843,0.6517037894491519,0.5892627210631178,0.5855550219132589,0.6182175966169912,0.7011782238994119,0.6131038227785818,0.6149012099728884,0.6590094970712573,0.6350002311093323,0.6248560951574812,0.5554471666377697,0.5740846660979061,0.5704650151390706,0.6227295391622956,0.5989595083908976,0.603997757377127,0.5671025694970847,0.6537168418715017,0.6058648261049855,0.6150330940484174,0.5621931803920681,0.5888507038075841,0.5169795617248244,0.5624335586898166,0.5901898399841318,0.6202913552667317,0.645243288087203,0.649037186776614,0.6814980941541721,0.6100951191550257,0.5994862917715051,0.5846334171864866,0.658712277039432,0.6295328849226025,0.6343839199220406,0.6589070302131881,0.6235647802312732,0.6455547888504498,0.7232641724539424,0.5942989919353916,0.6128526930731446,0.5974710329695274,0.5695114944034303,0.6818324405143315,0.7260870678794615,0.6812834243208993,0.5692741822499559,0.5512118272055668,0.6822722816968542,0.6533727205972903,0.6787382197958118,0.5523422641029077,0.5682410183789117,0.5588419169581631,0.5659305334482281,0.5836762501593018,0.6483032459349887,0.5980090020239641,0.5927905691022567,0.5988329085939664,0.6016980552220992,0.5825907846735295,0.6212459403658851,0.5869239112909855,0.6293296517908572,0.6920872017158498,0.645883293804513,0.5877009939032701,0.6006398608357112,0.6368082371196044,0.6079856470954283,0.6335485775372128,0.6542014683961931,0.5929961703072214,0.6482673304161679,0.595851171364423,0.616470155003837,0.689335454798984,0.6189513704117304,0.6117816352317336,0.6114425711511637,0.6088027799288039,0.5393761105848487,0.6452108857290958,0.6801776498533645,0.5426395811009649,0.5189427189390428,0.6473032682932248,0.6439592384013081,0.5989760630772706,0.5736027064090722,0.6222996152090494,0.6370770771399433,0.5994769517639239,0.5786568521544799,0.6593738075370342,0.6159093605999233,0.6374000854352259,0.5924483691642916,0.6321158981151209,0.6090983909551388,0.6141379279646192,0.6159300127028425,0.6158594411106127,0.6429206947143074,0.6120312393214102,0.6486142338194217,0.6184002153962868,0.5893147797501551,0.5902664058449673,0.7214090005291189,0.6684871478807958,0.6057967965477072,0.6045467398390556,0.6450471462021359,0.562816403296846,0.5920664940883575,0.6440169439714535,0.5926573534580296,0.6647435479337557,0.6604016647786611,0.6413130360468603,0.6318969327782445,0.5420743156430733,0.673211659079941,0.6396691404643012,0.6099593453718567,0.60157113346563,0.6326967972326788,0.6407533453470344,0.6670983555683009,0.6470502195679607,0.6319928434338487,0.601213537405957,0.6134417374874411,0.6108378098703707,0.5854553135228953,0.5343385075590733,0.625783416515763,0.5823042342324553,0.7113036338637108,0.5687856598645947,0.6163723565917525,0.6007854738526718,0.6172464405762473,0.5058791622424663,0.6491035406815051,0.6587649645623657,0.6257504441557461,0.6294431016518502,0.6166185873630124,0.5965748811498287,0.5355757722253188,0.6400685452103921,0.5556519475211535,0.6035980520657772,0.6032347916343075,0.5797929840594621,0.5454354823594725,0.6517169526274067,0.5730140566322461,0.5454780852869359,0.6132750040419283,0.5775964423402317,0.6213559124589906,0.6571491080592133,0.6211366522920961,0.6286305441553738,0.5969391264444481,0.5994786911845353,0.6020000276637372,0.6516161457466809,0.6296531867066564,0.6118744311486212,0.6179821114932759,0.6462474846779811,0.6047819399913849,0.5784982923958315,0.6072813936754063,0.603732222681003,0.6592249177573046,0.500559963608423,0.5824602446259699,0.6212304459898219,0.6262768352585603,0.6039387598984312,0.6404119549457454,0.5711243161646674,0.5704431357401343,0.5794445278962913,0.6430771094489872,0.608888492116319,0.7016265863605698,0.6313110854549441,0.5790558595484954,0.5970148833724963,0.6266543550630237,0.5532024385300799,0.5599907137944754,0.6037658220562251,0.6391087294301975,0.6536764661338169,0.6609737328587487,0.6084915123628272,0.5905979486711597,0.5854326365368909,0.6082666640313213,0.539651082408248,0.5530714889540198,0.5721245678169317,0.6225352934714624,0.5962610140519424,0.6191339252474696,0.6436890249275079,0.5738482919267184,0.6586720724291136,0.5842243095850739,0.5788472822758243,0.5813905331730866,0.6529275698202752,0.6333885551685262,0.7265103159638624,0.5482325108652232,0.6426330530360266,0.5797591721533016,0.588187075537011,0.6043289262689109,0.5809819757395793,0.5153835776187355,0.6391288915079134,0.6200325142012802,0.6375511937212027,0.6344224729409483,0.5843129319866657,0.5211080344281845,0.6044779109609904,0.5930388130451826,0.613896839523193,0.5440196064743357,0.6175220581543707,0.6625365831971497,0.5935599142446198,0.5586527563165007,0.5754880757509482,0.6395511690801357,0.5854690258125879,0.6106885682177643,0.5852492763299243,0.6733227178544944,0.5972665449231724,0.6066259731003512,0.5650090879655493,0.6526565248751042,0.5341207929306038,0.6640508460985463,0.6555677543749863,0.5444303398966103,0.5989950743488401,0.6141731439993131,0.6333531461106706,0.5667019647821031,0.6519539326629967,0.6875192264975768,0.5825544697027545,0.5927506638766968,0.6265400774461202,0.6447909022577729,0.5937291814727699,0.6099510682143878,0.6462857884391157,0.606443028308541,0.6515269028621281,0.5365308267435193,0.5625860634170406,0.5817322968521138,0.6337372175382074,0.6465868488676905,0.6240967732370437,0.6059796826547623,0.628504749566005,0.5608520472393609,0.5970431380386072,0.6239505225710971,0.5856426080965167,0.5401070345671988,0.5322138842811089,0.640632573169385,0.5727991095266185,0.6565726362184435,0.7378260574345078,0.5862971396733738,0.5545209247115125,0.610741768927271,0.6071164674567133,0.6137511671702025,0.6506231859655711,0.6224844814057211,0.6072776901518677,0.5579392147795108,0.662346326718804,0.5932286639505909,0.6570327019720003,0.6840602822125106,0.5785408990776055,0.593208086599403,0.6238686529763984,0.5649299653689324,0.605885998469106,0.5986597073966342,0.5954852747539249,0.5480513871159228,0.5420895581950049,0.6042996974512665,0.615841459557721,0.6074451207186481,0.543012275998897,0.651175349815363,0.6928596862909209,0.6148600683102717,0.5699737424765313,0.5295916310784156,0.5782794959751176,0.60999529236656,0.6725593770876583,0.6328130371037678,0.5446894190897655,0.6054366172793016,0.6512726102975726,0.6295120273518807,0.6358227431303305,0.6452554056811644,0.5647413212045396,0.6420112263580364,0.6912241516903338,0.6074620908659146,0.6153015753145646,0.7085320707379817,0.5344181683902951,0.6003061367063515,0.6189764487732405,0.6550065602853319,0.6199881823632856,0.5502452427782736,0.655309072166461,0.5952293800453812,0.6024829129253725,0.6518184534938835,0.6784373371082926,0.6299659599837006,0.5991087083703589,0.6243495221567484,0.5802105988903637,0.6120304752273414,0.5806053888879298,0.6177912108215406,0.652496737086622,0.6348927546063764,0.5927295318177273,0.6447879589362578,0.6598675182916272,0.5581631317361129,0.6417747675646213,0.5538991404595328,0.628328246584886,0.5997810704422126,0.6360591393411521,0.5970765958947951,0.5626405853164782,0.631859416222424,0.5686483468736134,0.6259056236723847,0.6412037166795809,0.630003548115303,0.6078106242791058,0.5925359677233532,0.5679470593401036,0.5970807826632205,0.6695663891069712,0.6131477045789775,0.6421811327234989,0.6142576353675597,0.5937888009682885,0.6076654220155697,0.6342032148419791,0.6685834744648128,0.7363755468855004,0.635008764844995,0.600807234784048,0.5979216592084126,0.653755119918337,0.5958979409293222,0.6478904310220966,0.651852078607129,0.608390220108046,0.6806611134758905,0.5938150438242118,0.611787431006045,0.5532694440908323,0.6091579976538141,0.6399428854084184,0.5754726398246499,0.6253304421886102,0.6461480929205959,0.56706011421801,0.6158308043841345,0.6558988854742006,0.647988529917227,0.5576595331148001,0.5797138155881242,0.5859528095524692,0.564636231179621,0.6151806864301353,0.5832057215489456,0.6054894559893715,0.5595923369424969,0.5860226697680456,0.604323186209845,0.5504076379643442,0.6068782899120194,0.5764627050433292,0.5845154004495419,0.7324440323302405,0.5951133335228916,0.626579228831025,0.6826704091542426,0.6236808199827716,0.6147132306352765,0.6160292116394241,0.6178365785455389,0.6310000625259976,0.7347161283647198,0.5698177591815276,0.6315707150627582,0.5567860873653394,0.6201997699359222,0.5657792236777228,0.5816049955746266,0.5470853281214776,0.5664441902408391,0.6208849046086004,0.5369116487162076,0.5099601729630844,0.6081832412270285,0.631971931148188,0.6108759192207184,0.5572303405077251,0.7161260099003262,0.5837761825808456,0.59841379626232,0.59197736823721,0.6041773248639775,0.5987235546007234,0.6252059800349524,0.5520928380518937,0.664948837634326,0.5953560191437085,0.6442389077703126,0.5634074260847755,0.5888807396144398,0.5370587065517398,0.5925265763340578,0.6307614488752936,0.6040425580454378,0.6049114582410182,0.6966509345286449,0.6008777106144689,0.5528188206655441,0.59220291343731,0.6039564696545757,0.5918674250029111,0.5414087260526468,0.6349175322934119,0.6249465920433169,0.5490022952393406,0.6187058330362158,0.5726645802102086,0.6432858281506358,0.5291407670926418,0.5486064959338397,0.5884548153572341,0.5717345576801081,0.5259860434648053,0.591815106834992,0.5504788347951866,0.6113783886544036,0.639958576834484,0.6252990583436028,0.630739744844935,0.6486900099981014,0.6736738933471167,0.6342115953990117,0.5683740830895071,0.6419609534299296,0.5645611893240323,0.6117048168750069,0.547580991969821,0.5486543159586976,0.5541396628248086,0.6738778885458793,0.6712558352180417,0.6205257689106571,0.5816364620672994,0.5800323439430977,0.6179005201574024,0.5433318034037317,0.5983679469342248,0.6011866564019464,0.7065622985342223,0.5303172506245236,0.6471326323470279,0.5583253091173461,0.5852723172607616,0.6003358042892649,0.6143551504502459,0.6074538398371432,0.6113885303773161,0.6270225238652218,0.643279126272339,0.6104316824372834,0.6632580211405381,0.6667543168822782,0.609210972647307,0.6124871623467381,0.6090547356563512,0.6276809240821434,0.5954595773540259,0.6159546761503477,0.6296002332719132,0.6325188133990053,0.6041144616956413,0.6317238706397637,0.6460244322722807,0.6193797945077995,0.6986919336783178,0.6099903271612382,0.6302558623905321,0.6145634308252069,0.6902637908163938,0.6221029435352271,0.646651770627552,0.575163693617145,0.615769555439517,0.6422942938820645,0.5825634137937954,0.6412159410326399,0.5469723370023415,0.5850133285144291,0.6121042016182273,0.6766268261923872,0.6056719382195785,0.6694821389728332,0.6271585173508327,0.5512395757418069,0.5747140703206265,0.5912127145270738,0.6174218887202517,0.5959280092689158,0.7358826004621302,0.64820363496502,0.7349231015157907,0.6131706408423553,0.5863326478645001,0.5710585892652914,0.6338677850352937,0.5634932290255096,0.660375575537505,0.6530731485397899,0.6569059867036257,0.564980038535174,0.6219077548299463,0.5915834844823838,0.5995089752616044,0.8275534751314029,0.6091750331295284,0.6357589636219666,0.5740940955589676,0.6389607908849722,0.607112490736782,0.5687854130774409,0.6329012443242676,0.6038981349232136,0.620355045343136,0.5456083782429407,0.5920434595562594,0.5964031909587728,0.5620983191109731,0.5773552128940487,0.5798613056518103,0.6065152383889614,0.6126567452857445,0.5974961459713648,0.5787037570914593,0.692475729748682,0.6082218879002329,0.6155727910777875,0.5493592749415891,0.544863621607426,0.5964039093217894,0.6493667235641724,0.6148948019123452,0.599706057468248,0.6274915036715093,0.6450674279414202,0.6595159139537062,0.6080925177670525,0.62691584741339,0.6701090637536242,0.5988445861629054,0.6902261085588163,0.6703849470850652,0.7152401214195201,0.5634485584360267,0.5472663861820306,0.7115730000876206,0.5567664525456454,0.6391156888161884,0.6166864344912991,0.71493127090296,0.6227676679571165,0.6320593148942031,0.6298853476505061,0.6141889265211198,0.5834687562651746,0.582214209355384,0.6318122873251922,0.661007730973191,0.6102446640868601,0.6368003864117467,0.6300087353375341,0.6324358221474824,0.5845567004053557,0.5886541413498942,0.6768216317305916,0.6864851698559545,0.596199090435808,0.5991148370573516,0.6202061820205278,0.63641611914833,0.5935963007446053,0.6693650488069011,0.6559273845545622,0.5888283792364174,0.6963181780548082,0.6023676958575277,0.6014976773301218,0.586180420909017,0.5957002544594878,0.5383494160291646,0.6081276734400228,0.6606875735907843,0.6602003004108687,0.6291602027473042,0.616864605232958,0.6393532367194189,0.5938167906486312,0.6157938122451881,0.6184689249704578,0.6200585934685977,0.6387620053469588,0.6041851155004693,0.6245570261297173,0.6283785371118635,0.5650366509978775,0.5612812945726608,0.6496283899543557,0.6348527604386802,0.6037814412935973,0.5722004429024584,0.5978002465443529,0.7128071434481935,0.6360895346400425,0.6122365927425729,0.5987538461320701,0.5677348476950321,0.5649602529244223,0.6214096703098094,0.6141752379774543,0.5611858604640602,0.558515375844123,0.5189003650490935,0.6231361244152218,0.5403947686683921,0.5657730596703943,0.572552513836798,0.5827087770695791,0.6305793607417279,0.5925967211918779,0.6163732580331265,0.5468606269654207,0.5852680558443598,0.6045951120758893,0.5557906707614879,0.6265905038249147,0.6558855267602002,0.7228997245529921,0.6345876193584912,0.6285005978586429,0.5979843261531537,0.5681324089942611,0.5836195792823029,0.534918194220089,0.641221386900388,0.6103422564597708,0.5679286509177499,0.5710642599228895,0.5811229568925288,0.5613981261327633,0.5722790907893422,0.6481454518393452,0.6424158457039715,0.6073638692018638,0.64291249865034,0.6827037913850618,0.632296714590022,0.6110061693037746,0.597276610594304,0.5695394550923972,0.6483783068630146,0.6650611408113176,0.5949019814958493,0.5818622650755253,0.5417194687812121,0.6167923789558055,0.5987393954681759,0.6108570961787778,0.5764742205627428,0.618001099950882,0.6228858635571454,0.6174120618591558,0.5529233086156382,0.5948532164843608,0.6276028017461124,0.5907735351015393,0.6729173510239882,0.687013605901114,0.654591194942127,0.5797918105954842,0.6080536496632828,0.6773318744766614,0.5936622362525312,0.5975038364793093,0.5936346553493586,0.6139955227508685,0.5882509972591831,0.6227113254468145,0.5916438683019881,0.616982648982485,0.5943612422810693,0.6082024009680362,0.5450184644092899,0.5915884025722753,0.6452292753498473,0.5489752865311694,0.6507321277567459,0.6386416425852465,0.5714960740953304,0.5818378493831295,0.701158073492675,0.5971936328589571,0.6196470183247637,0.6163574387667528,0.5956820886486399,0.6515379506456043,0.6254248024174932,0.5789868735274258,0.5827312430576078,0.5728210181360399,0.6182065824040953,0.567795869143321,0.6022526058422755,0.564207585720356,0.6220223624558577,0.6587859661145006,0.5834009780788024,0.6106595329630279,0.6622973139315036,0.5866596551946578,0.5819812438149791,0.6155899105789081,0.6080335197046993,0.5583796133040109,0.7083218240575703,0.6086023531546793,0.5839076287778509,0.6372088108860583,0.654233219923629,0.6187217134419558,0.6172890726664707,0.6038354380027111,0.5700075158647616,0.6134629896156863,0.6344991626503169,0.6517276220667351,0.6410932495676205,0.637392405236955,0.7064996990023761,0.7296945569923254,0.6553449374679561,0.6086730536790805,0.5798779548145784,0.6172931811390867,0.6586796367457258,0.6275613457800528,0.5266319929299473,0.6792644929971939,0.5650963695787586,0.5545760906698602,0.586178715157852,0.5920026149579392,0.6355102136802664,0.6393086881754728,0.4873641034603341,0.621962314066796,0.6870994970613302,0.5771792701984344,0.6541716654355049,0.5649341507775898,0.6106370933813625,0.6379866835477201,0.6054678922599648,0.6325638157045771,0.6482827624853535,0.6053503113504375,0.6316400603048031,0.5936326883947377,0.6420233395714877,0.5658877339100529,0.5936060393068343,0.7292050114163525,0.6101331751472454,0.6290301951169991,0.6112222390903478,0.650761965945544,0.5749205239062924,0.609333586479933,0.5810335272621605,0.7638655115151423,0.6156485324422023,0.5959148698565003,0.5761450702874369,0.5838287909856203,0.5776172165336503,0.6394559333148361,0.6370209138903973,0.6059106926249721,0.6063071647012428,0.612973781297051,0.6483292311588003,0.5413043845816901,0.5628436534417975,0.5729049159862011,0.6163606309964597,0.5497284098520836,0.6635170745244309,0.6146372959038051,0.58199359291496,0.6386105488864985,0.660902598261746,0.6043782622576025,0.6256154098829625,0.6573988274257849,0.623964813935102,0.634934878494781,0.5446615823549452,0.6347053304284878,0.6808038461724796,0.6320229242331966,0.6369276173728292,0.6060299523465489,0.6020081028677254,0.6551441982692672,0.6256653468956126,0.6450661575373176,0.5835360154888837,0.5707077741993775,0.6127339332057262,0.6064649543817683,0.5866249468766445,0.6422290432608538,0.5944965680218556,0.6068237132084111,0.5657400433904871,0.5916395040772373,0.5961363830599733,0.6030491037824054,0.6554689355789968,0.6365213748442536,0.7306774122846715,0.5430822324660257,0.5562719696960378,0.6682344574557435,0.5836605795101496,0.6212978209673395,0.5856349323003829,0.6018499838505971,0.5784379676726699,0.639468702430567,0.5282308913902151,0.6011219170579345,0.5769037138982903,0.6224697547082252,0.5854560597502756,0.6345759454791852,0.6624878655036904,0.6066444559393842,0.5708762841749333,0.5317887558715066,0.5732343743869275,0.6042299196338426,0.594876111103068,0.6156039967261662,0.6332988007066711,0.6178387112535715,0.5778250429259163,0.6665485221366039,0.5459222109146761,0.6040631667214282,0.5605686430683888,0.6218552820643373,0.6611730546887482,0.5876919873893935,0.6117003854402092,0.547264183863559,0.6037251888735431,0.45880846683025633,0.6570515798073382,0.5748560779829281,0.5873621056792037,0.647902681874586,0.6195753412850337,0.6771897959046137,0.6674257873676219,0.570628436637027,0.5388304398543944,0.5585060542198106,0.6180250673924177,0.626835008165386,0.57667771175235,0.5728142672718836,0.5472139904524457,0.6008589273965891,0.6151836717320835,0.6297696955546698,0.5878649531833507,0.5828128093887242,0.6086492667130411,0.5905838530170563,0.6262731251030467,0.6193077081253093,0.536698862507477,0.6191182107818257,0.5638081428796261,0.6124680267972199,0.5842055508434881,0.5126131293675464,0.6234472671002608,0.5840866095580143,0.6018689841581729,0.5976925815915265,0.6440724045444246,0.6754022193958805,0.6636256821124425,0.637404968128295,0.5917213870625253,0.5713214881489613,0.5821841386604895,0.6167851773558156,0.5514757527298892,0.6576128787181258,0.572704871231131,0.5876382501983957,0.6244092444031619,0.6852248399351359,0.6290369296871894,0.6631024662852115,0.7264450244368263,0.6293733150122609,0.6018326763413033,0.5958252553460264,0.6502279992873045,0.6816990754719956,0.6127707300697997,0.6919343005024264,0.5870645430810739,0.5893671227379405,0.6117171668542161,0.5866472355574284,0.5279576200666649,0.63097599594326,0.6950978268056697,0.5495059316698712,0.6018931096233371,0.6498509949956894,0.6311683018070118,0.5988984523112938,0.6058836807805758,0.5658831028806647,0.6374886207712411,0.5984455828439017,0.5852811988134792,0.5729172379791684,0.6212510324295608,0.631218988328247,0.6075628801440234,0.6592635204810926,0.5544147527821159,0.5817841099336253,0.566514681686462,0.6525661842661874,0.63520356013635,0.5986578137213197,0.6109027052821756,0.6026221890182312,0.610728512497172,0.6435890628622504,0.6859961203702746,0.5737988430374139,0.5790767069610592,0.5466605763413607,0.5945967256731651,0.5959835484152376,0.5282811228197708,0.6285593204735938,0.547962494364275,0.6174047841542594,0.5560850104285662,0.5482793053160789,0.5923825579704932,0.6542716362044609,0.6211270272524002,0.6605755958943325,0.6127911034149395,0.6069796470940844,0.6917235094501814,0.5875255764551716,0.5872442721301085,0.5345353977590789,0.5312340965214729,0.5956101519052438,0.6116385957380016,0.5779773102406803,0.6422735559643935,0.5955545668257747,0.5822257638047927,0.5652985277733521,0.5903198589633639,0.6018909321498526,0.7819443960732511,0.6502184542030416,0.5794435149540892,0.5539572679336489,0.6003714934799341,0.6881273362368757,0.7462737848142925,0.6018967930687648,0.6332965323659157,0.5666874374019099,0.6346881777115596,0.5871782976383186,0.5898484250088056,0.5970109504372432,0.5939462762938111,0.5815437644703954,0.676880757622904,0.5909934288685107,0.5377850858636222,0.6082263837882053,0.6080499656301043,0.6794912973189576,0.5954209524982327,0.6047198268265004,0.6168354937846344,0.5355071744290506,0.5568171887041786,0.6440921944341241,0.6443553376376506,0.5855823530735861,0.6524340298045036,0.558217908961424,0.5808350200470044,0.6596776550074278,0.6714348239132291,0.7110990016878005,0.5877369656404334,0.6876102465529992,0.6574110308723694,0.5835534482363193,0.6762135466836545,0.5825087992932387,0.573903267703939,0.5933585606402982,0.5854791569182118,0.5955464378919461,0.5634127538350374,0.5847782342209022,0.5400746195143289,0.6145250878781278,0.5343590063341016,0.6077788681273035,0.5877949019011544,0.6175213360634028,0.625789056667777,0.5971562339062512,0.6390190305179632,0.6445712300771546,0.6281714150601743,0.6642568457975674,0.6602171198054937,0.6234802727389678,0.551691271021774,0.6165134957406028,0.6221559771696572,0.6312292358632565,0.603557121679317,0.6671754528867564,0.6391244747942766,0.5601761000356532,0.6216673335502887,0.561246948463313,0.6186934604518824,0.5867761443699964,0.6604588250473673,0.675287305127207,0.5637958986679225,0.5654658665901666,0.6091717211889808,0.6937214329509366,0.6575871761205317,0.5761222380754523,0.6370046729840076,0.5809483103325597,0.5936342684658468,0.6019410438176721,0.6715059866045874,0.644252462557462,0.5959158330333938,0.6064376819659296,0.6475652351768041,0.570809978009718,0.5799861871418351,0.6398247902668505,0.5946079307509978,0.5923464567154842,0.5625575150672333,0.6034875961263488,0.6191190800494409,0.6082620596567735,0.6629121239355666,0.7259318691480612,0.5736450881708001,0.5905354200196256,0.6002013591821249,0.6009133900934877,0.5944557259516098,0.5392708381166391,0.58146875900325,0.6268602937028976,0.6349490082399228,0.6979996663360475,0.49866926785899174,0.5921818684316168,0.6190961357112712,0.5932620044976866,0.6383637523922983,0.5737379974708108,0.6443078488112209,0.5687128970081505,0.5804694627633231,0.6482092094462822,0.632425520484925,0.6035204342804323,0.6208205426931458,0.5740836416445798,0.6406893874383607,0.6156361777328808,0.6088846912976403,0.623667043787531,0.5600328990147473,0.6533477398626111,0.6831259518137481,0.6561192366819522,0.650085827643524,0.6378569410806949,0.6225378508871994,0.6110028101780678,0.6717613779623731,0.5885619730102568,0.6139674777227193,0.5534010660850325,0.6445908617846781,0.6352592259741102,0.5745223394125001,0.6306077459207362,0.652509096421655,0.6694855371590003,0.6669915777603033,0.5926924058571295,0.6354332531115824,0.6310924786291762,0.6851499102502348,0.5606776734036358,0.665508797670753,0.6689868221950218,0.5792536671801074,0.6385862274990902,0.6086426270812663,0.5891367873042987,0.6006171901678775,0.6342681808836051,0.6641561384937563,0.5434245040825868,0.5868695687637757,0.5525267987100904,0.5760543858370225,0.5907180139208833,0.6477158668204857,0.5891657165548687,0.6618683412069277,0.5791662914266993,0.5796951851575914,0.6492374778269551,0.6017897398407799,0.5912436689610628,0.5468990794494148,0.6275715858114265,0.6266028948547758,0.6254721957903899,0.6284979533584503,0.606294249088325,0.5796010630992432,0.5905569505047755,0.6301816546039049,0.5805643517165567,0.6195899823289732,0.5545863193210163,0.6175008511895251,0.6343166499173434,0.5430667060690874,0.5957995419733625,0.6495393843930176,0.624124413447972,0.6317062207832406,0.6654230624919995,0.6175238522046427,0.6159405606259788,0.6190607393169087,0.6630964709274162,0.6069446369064889,0.6522599284723106,0.5647677550431458,0.5479336023439634,0.6246652881824314,0.6239144725750746,0.5968092362637998,0.6140947535699023,0.6467544785162211,0.5738528480407282,0.6233824191287373,0.6600901755263695,0.5595433823658484,0.6809085214016612,0.5918496763333498,0.5523041895629288,0.5742113859792912,0.6039594185649889,0.6104010239673598,0.6045135882198575,0.585097865420611,0.6822422848075093,0.6171229537137854,0.6487020144823968,0.6742245911196846,0.6501392773883201,0.6134629770074097,0.6311462589507575,0.6719900766831218,0.5876861610335307,0.5927492936583398],\"xaxis\":\"x\",\"yaxis\":\"y\"},{\"alignmentgroup\":\"True\",\"hovertemplate\":\"rel_1stIn=%{x}<extra></extra>\",\"legendgroup\":\"\",\"marker\":{\"color\":\"rgb(76,114,176)\"},\"name\":\"\",\"notched\":true,\"offsetgroup\":\"\",\"showlegend\":false,\"type\":\"box\",\"x\":[0.47020935703246863,0.45084810557148275,0.6084233820417183,0.5654722152272572,0.6553349762716889,0.551184157723418,0.6016062212519708,0.6176350612335294,0.624958826182701,0.5475060110407036,0.6178199289392747,0.5472345221318518,0.6566257002445048,0.5873278309402274,0.6967303393811042,0.5955451891042314,0.5324120774695076,0.5668927408577121,0.6219436949975898,0.621164275412155,0.6475146224943051,0.6600477212978184,0.5970560552974515,0.5668362356454502,0.6309427791082192,0.49673799180394546,0.6069575959514951,0.553534459244981,0.5648819008152555,0.6636790921484489,0.621599743379472,0.6070557542315658,0.5433035449143704,0.568980519864917,0.6379957603124715,0.6422260589272784,0.6826347989527772,0.6052096770660574,0.5986267351963933,0.6255714876162459,0.6318864214130602,0.6181514433625713,0.6770118515195066,0.5770978273756245,0.600298098184378,0.588837337027139,0.6184500523628239,0.6093867095326045,0.5824881763131186,0.6264077852958102,0.5619983979553805,0.5440602871524941,0.573126604172464,0.5938207749659259,0.6004246491173751,0.5841013145816842,0.6320282698942443,0.6482145168618464,0.5675318157520163,0.5165663661274136,0.7201580840167532,0.7010229379789583,0.66453364888537,0.6673346023835467,0.5673690216645547,0.5862148910322875,0.6347933298460141,0.5701456918574423,0.5999021718605545,0.5649104439794878,0.6518672067261624,0.6252226599922226,0.6524487235686278,0.6607324477156388,0.6069768236960904,0.6340015665833254,0.7049051074973295,0.5709206840834272,0.608438864665199,0.626168068559306,0.5674063330681168,0.6628050562856842,0.5137948482820797,0.6538514859304416,0.6059186089936416,0.6211938029326225,0.6010400565199796,0.5682742778133272,0.6331292436039273,0.671912594181976,0.6405406808228433,0.6355794849221311,0.5197241104483484,0.6243882649905581,0.7075175931962486,0.5932538992450666,0.6104914013881969,0.5703245257153843,0.6517037894491519,0.5892627210631178,0.5855550219132589,0.6182175966169912,0.7011782238994119,0.6131038227785818,0.6149012099728884,0.6590094970712573,0.6350002311093323,0.6248560951574812,0.5554471666377697,0.5740846660979061,0.5704650151390706,0.6227295391622956,0.5989595083908976,0.603997757377127,0.5671025694970847,0.6537168418715017,0.6058648261049855,0.6150330940484174,0.5621931803920681,0.5888507038075841,0.5169795617248244,0.5624335586898166,0.5901898399841318,0.6202913552667317,0.645243288087203,0.649037186776614,0.6814980941541721,0.6100951191550257,0.5994862917715051,0.5846334171864866,0.658712277039432,0.6295328849226025,0.6343839199220406,0.6589070302131881,0.6235647802312732,0.6455547888504498,0.7232641724539424,0.5942989919353916,0.6128526930731446,0.5974710329695274,0.5695114944034303,0.6818324405143315,0.7260870678794615,0.6812834243208993,0.5692741822499559,0.5512118272055668,0.6822722816968542,0.6533727205972903,0.6787382197958118,0.5523422641029077,0.5682410183789117,0.5588419169581631,0.5659305334482281,0.5836762501593018,0.6483032459349887,0.5980090020239641,0.5927905691022567,0.5988329085939664,0.6016980552220992,0.5825907846735295,0.6212459403658851,0.5869239112909855,0.6293296517908572,0.6920872017158498,0.645883293804513,0.5877009939032701,0.6006398608357112,0.6368082371196044,0.6079856470954283,0.6335485775372128,0.6542014683961931,0.5929961703072214,0.6482673304161679,0.595851171364423,0.616470155003837,0.689335454798984,0.6189513704117304,0.6117816352317336,0.6114425711511637,0.6088027799288039,0.5393761105848487,0.6452108857290958,0.6801776498533645,0.5426395811009649,0.5189427189390428,0.6473032682932248,0.6439592384013081,0.5989760630772706,0.5736027064090722,0.6222996152090494,0.6370770771399433,0.5994769517639239,0.5786568521544799,0.6593738075370342,0.6159093605999233,0.6374000854352259,0.5924483691642916,0.6321158981151209,0.6090983909551388,0.6141379279646192,0.6159300127028425,0.6158594411106127,0.6429206947143074,0.6120312393214102,0.6486142338194217,0.6184002153962868,0.5893147797501551,0.5902664058449673,0.7214090005291189,0.6684871478807958,0.6057967965477072,0.6045467398390556,0.6450471462021359,0.562816403296846,0.5920664940883575,0.6440169439714535,0.5926573534580296,0.6647435479337557,0.6604016647786611,0.6413130360468603,0.6318969327782445,0.5420743156430733,0.673211659079941,0.6396691404643012,0.6099593453718567,0.60157113346563,0.6326967972326788,0.6407533453470344,0.6670983555683009,0.6470502195679607,0.6319928434338487,0.601213537405957,0.6134417374874411,0.6108378098703707,0.5854553135228953,0.5343385075590733,0.625783416515763,0.5823042342324553,0.7113036338637108,0.5687856598645947,0.6163723565917525,0.6007854738526718,0.6172464405762473,0.5058791622424663,0.6491035406815051,0.6587649645623657,0.6257504441557461,0.6294431016518502,0.6166185873630124,0.5965748811498287,0.5355757722253188,0.6400685452103921,0.5556519475211535,0.6035980520657772,0.6032347916343075,0.5797929840594621,0.5454354823594725,0.6517169526274067,0.5730140566322461,0.5454780852869359,0.6132750040419283,0.5775964423402317,0.6213559124589906,0.6571491080592133,0.6211366522920961,0.6286305441553738,0.5969391264444481,0.5994786911845353,0.6020000276637372,0.6516161457466809,0.6296531867066564,0.6118744311486212,0.6179821114932759,0.6462474846779811,0.6047819399913849,0.5784982923958315,0.6072813936754063,0.603732222681003,0.6592249177573046,0.500559963608423,0.5824602446259699,0.6212304459898219,0.6262768352585603,0.6039387598984312,0.6404119549457454,0.5711243161646674,0.5704431357401343,0.5794445278962913,0.6430771094489872,0.608888492116319,0.7016265863605698,0.6313110854549441,0.5790558595484954,0.5970148833724963,0.6266543550630237,0.5532024385300799,0.5599907137944754,0.6037658220562251,0.6391087294301975,0.6536764661338169,0.6609737328587487,0.6084915123628272,0.5905979486711597,0.5854326365368909,0.6082666640313213,0.539651082408248,0.5530714889540198,0.5721245678169317,0.6225352934714624,0.5962610140519424,0.6191339252474696,0.6436890249275079,0.5738482919267184,0.6586720724291136,0.5842243095850739,0.5788472822758243,0.5813905331730866,0.6529275698202752,0.6333885551685262,0.7265103159638624,0.5482325108652232,0.6426330530360266,0.5797591721533016,0.588187075537011,0.6043289262689109,0.5809819757395793,0.5153835776187355,0.6391288915079134,0.6200325142012802,0.6375511937212027,0.6344224729409483,0.5843129319866657,0.5211080344281845,0.6044779109609904,0.5930388130451826,0.613896839523193,0.5440196064743357,0.6175220581543707,0.6625365831971497,0.5935599142446198,0.5586527563165007,0.5754880757509482,0.6395511690801357,0.5854690258125879,0.6106885682177643,0.5852492763299243,0.6733227178544944,0.5972665449231724,0.6066259731003512,0.5650090879655493,0.6526565248751042,0.5341207929306038,0.6640508460985463,0.6555677543749863,0.5444303398966103,0.5989950743488401,0.6141731439993131,0.6333531461106706,0.5667019647821031,0.6519539326629967,0.6875192264975768,0.5825544697027545,0.5927506638766968,0.6265400774461202,0.6447909022577729,0.5937291814727699,0.6099510682143878,0.6462857884391157,0.606443028308541,0.6515269028621281,0.5365308267435193,0.5625860634170406,0.5817322968521138,0.6337372175382074,0.6465868488676905,0.6240967732370437,0.6059796826547623,0.628504749566005,0.5608520472393609,0.5970431380386072,0.6239505225710971,0.5856426080965167,0.5401070345671988,0.5322138842811089,0.640632573169385,0.5727991095266185,0.6565726362184435,0.7378260574345078,0.5862971396733738,0.5545209247115125,0.610741768927271,0.6071164674567133,0.6137511671702025,0.6506231859655711,0.6224844814057211,0.6072776901518677,0.5579392147795108,0.662346326718804,0.5932286639505909,0.6570327019720003,0.6840602822125106,0.5785408990776055,0.593208086599403,0.6238686529763984,0.5649299653689324,0.605885998469106,0.5986597073966342,0.5954852747539249,0.5480513871159228,0.5420895581950049,0.6042996974512665,0.615841459557721,0.6074451207186481,0.543012275998897,0.651175349815363,0.6928596862909209,0.6148600683102717,0.5699737424765313,0.5295916310784156,0.5782794959751176,0.60999529236656,0.6725593770876583,0.6328130371037678,0.5446894190897655,0.6054366172793016,0.6512726102975726,0.6295120273518807,0.6358227431303305,0.6452554056811644,0.5647413212045396,0.6420112263580364,0.6912241516903338,0.6074620908659146,0.6153015753145646,0.7085320707379817,0.5344181683902951,0.6003061367063515,0.6189764487732405,0.6550065602853319,0.6199881823632856,0.5502452427782736,0.655309072166461,0.5952293800453812,0.6024829129253725,0.6518184534938835,0.6784373371082926,0.6299659599837006,0.5991087083703589,0.6243495221567484,0.5802105988903637,0.6120304752273414,0.5806053888879298,0.6177912108215406,0.652496737086622,0.6348927546063764,0.5927295318177273,0.6447879589362578,0.6598675182916272,0.5581631317361129,0.6417747675646213,0.5538991404595328,0.628328246584886,0.5997810704422126,0.6360591393411521,0.5970765958947951,0.5626405853164782,0.631859416222424,0.5686483468736134,0.6259056236723847,0.6412037166795809,0.630003548115303,0.6078106242791058,0.5925359677233532,0.5679470593401036,0.5970807826632205,0.6695663891069712,0.6131477045789775,0.6421811327234989,0.6142576353675597,0.5937888009682885,0.6076654220155697,0.6342032148419791,0.6685834744648128,0.7363755468855004,0.635008764844995,0.600807234784048,0.5979216592084126,0.653755119918337,0.5958979409293222,0.6478904310220966,0.651852078607129,0.608390220108046,0.6806611134758905,0.5938150438242118,0.611787431006045,0.5532694440908323,0.6091579976538141,0.6399428854084184,0.5754726398246499,0.6253304421886102,0.6461480929205959,0.56706011421801,0.6158308043841345,0.6558988854742006,0.647988529917227,0.5576595331148001,0.5797138155881242,0.5859528095524692,0.564636231179621,0.6151806864301353,0.5832057215489456,0.6054894559893715,0.5595923369424969,0.5860226697680456,0.604323186209845,0.5504076379643442,0.6068782899120194,0.5764627050433292,0.5845154004495419,0.7324440323302405,0.5951133335228916,0.626579228831025,0.6826704091542426,0.6236808199827716,0.6147132306352765,0.6160292116394241,0.6178365785455389,0.6310000625259976,0.7347161283647198,0.5698177591815276,0.6315707150627582,0.5567860873653394,0.6201997699359222,0.5657792236777228,0.5816049955746266,0.5470853281214776,0.5664441902408391,0.6208849046086004,0.5369116487162076,0.5099601729630844,0.6081832412270285,0.631971931148188,0.6108759192207184,0.5572303405077251,0.7161260099003262,0.5837761825808456,0.59841379626232,0.59197736823721,0.6041773248639775,0.5987235546007234,0.6252059800349524,0.5520928380518937,0.664948837634326,0.5953560191437085,0.6442389077703126,0.5634074260847755,0.5888807396144398,0.5370587065517398,0.5925265763340578,0.6307614488752936,0.6040425580454378,0.6049114582410182,0.6966509345286449,0.6008777106144689,0.5528188206655441,0.59220291343731,0.6039564696545757,0.5918674250029111,0.5414087260526468,0.6349175322934119,0.6249465920433169,0.5490022952393406,0.6187058330362158,0.5726645802102086,0.6432858281506358,0.5291407670926418,0.5486064959338397,0.5884548153572341,0.5717345576801081,0.5259860434648053,0.591815106834992,0.5504788347951866,0.6113783886544036,0.639958576834484,0.6252990583436028,0.630739744844935,0.6486900099981014,0.6736738933471167,0.6342115953990117,0.5683740830895071,0.6419609534299296,0.5645611893240323,0.6117048168750069,0.547580991969821,0.5486543159586976,0.5541396628248086,0.6738778885458793,0.6712558352180417,0.6205257689106571,0.5816364620672994,0.5800323439430977,0.6179005201574024,0.5433318034037317,0.5983679469342248,0.6011866564019464,0.7065622985342223,0.5303172506245236,0.6471326323470279,0.5583253091173461,0.5852723172607616,0.6003358042892649,0.6143551504502459,0.6074538398371432,0.6113885303773161,0.6270225238652218,0.643279126272339,0.6104316824372834,0.6632580211405381,0.6667543168822782,0.609210972647307,0.6124871623467381,0.6090547356563512,0.6276809240821434,0.5954595773540259,0.6159546761503477,0.6296002332719132,0.6325188133990053,0.6041144616956413,0.6317238706397637,0.6460244322722807,0.6193797945077995,0.6986919336783178,0.6099903271612382,0.6302558623905321,0.6145634308252069,0.6902637908163938,0.6221029435352271,0.646651770627552,0.575163693617145,0.615769555439517,0.6422942938820645,0.5825634137937954,0.6412159410326399,0.5469723370023415,0.5850133285144291,0.6121042016182273,0.6766268261923872,0.6056719382195785,0.6694821389728332,0.6271585173508327,0.5512395757418069,0.5747140703206265,0.5912127145270738,0.6174218887202517,0.5959280092689158,0.7358826004621302,0.64820363496502,0.7349231015157907,0.6131706408423553,0.5863326478645001,0.5710585892652914,0.6338677850352937,0.5634932290255096,0.660375575537505,0.6530731485397899,0.6569059867036257,0.564980038535174,0.6219077548299463,0.5915834844823838,0.5995089752616044,0.8275534751314029,0.6091750331295284,0.6357589636219666,0.5740940955589676,0.6389607908849722,0.607112490736782,0.5687854130774409,0.6329012443242676,0.6038981349232136,0.620355045343136,0.5456083782429407,0.5920434595562594,0.5964031909587728,0.5620983191109731,0.5773552128940487,0.5798613056518103,0.6065152383889614,0.6126567452857445,0.5974961459713648,0.5787037570914593,0.692475729748682,0.6082218879002329,0.6155727910777875,0.5493592749415891,0.544863621607426,0.5964039093217894,0.6493667235641724,0.6148948019123452,0.599706057468248,0.6274915036715093,0.6450674279414202,0.6595159139537062,0.6080925177670525,0.62691584741339,0.6701090637536242,0.5988445861629054,0.6902261085588163,0.6703849470850652,0.7152401214195201,0.5634485584360267,0.5472663861820306,0.7115730000876206,0.5567664525456454,0.6391156888161884,0.6166864344912991,0.71493127090296,0.6227676679571165,0.6320593148942031,0.6298853476505061,0.6141889265211198,0.5834687562651746,0.582214209355384,0.6318122873251922,0.661007730973191,0.6102446640868601,0.6368003864117467,0.6300087353375341,0.6324358221474824,0.5845567004053557,0.5886541413498942,0.6768216317305916,0.6864851698559545,0.596199090435808,0.5991148370573516,0.6202061820205278,0.63641611914833,0.5935963007446053,0.6693650488069011,0.6559273845545622,0.5888283792364174,0.6963181780548082,0.6023676958575277,0.6014976773301218,0.586180420909017,0.5957002544594878,0.5383494160291646,0.6081276734400228,0.6606875735907843,0.6602003004108687,0.6291602027473042,0.616864605232958,0.6393532367194189,0.5938167906486312,0.6157938122451881,0.6184689249704578,0.6200585934685977,0.6387620053469588,0.6041851155004693,0.6245570261297173,0.6283785371118635,0.5650366509978775,0.5612812945726608,0.6496283899543557,0.6348527604386802,0.6037814412935973,0.5722004429024584,0.5978002465443529,0.7128071434481935,0.6360895346400425,0.6122365927425729,0.5987538461320701,0.5677348476950321,0.5649602529244223,0.6214096703098094,0.6141752379774543,0.5611858604640602,0.558515375844123,0.5189003650490935,0.6231361244152218,0.5403947686683921,0.5657730596703943,0.572552513836798,0.5827087770695791,0.6305793607417279,0.5925967211918779,0.6163732580331265,0.5468606269654207,0.5852680558443598,0.6045951120758893,0.5557906707614879,0.6265905038249147,0.6558855267602002,0.7228997245529921,0.6345876193584912,0.6285005978586429,0.5979843261531537,0.5681324089942611,0.5836195792823029,0.534918194220089,0.641221386900388,0.6103422564597708,0.5679286509177499,0.5710642599228895,0.5811229568925288,0.5613981261327633,0.5722790907893422,0.6481454518393452,0.6424158457039715,0.6073638692018638,0.64291249865034,0.6827037913850618,0.632296714590022,0.6110061693037746,0.597276610594304,0.5695394550923972,0.6483783068630146,0.6650611408113176,0.5949019814958493,0.5818622650755253,0.5417194687812121,0.6167923789558055,0.5987393954681759,0.6108570961787778,0.5764742205627428,0.618001099950882,0.6228858635571454,0.6174120618591558,0.5529233086156382,0.5948532164843608,0.6276028017461124,0.5907735351015393,0.6729173510239882,0.687013605901114,0.654591194942127,0.5797918105954842,0.6080536496632828,0.6773318744766614,0.5936622362525312,0.5975038364793093,0.5936346553493586,0.6139955227508685,0.5882509972591831,0.6227113254468145,0.5916438683019881,0.616982648982485,0.5943612422810693,0.6082024009680362,0.5450184644092899,0.5915884025722753,0.6452292753498473,0.5489752865311694,0.6507321277567459,0.6386416425852465,0.5714960740953304,0.5818378493831295,0.701158073492675,0.5971936328589571,0.6196470183247637,0.6163574387667528,0.5956820886486399,0.6515379506456043,0.6254248024174932,0.5789868735274258,0.5827312430576078,0.5728210181360399,0.6182065824040953,0.567795869143321,0.6022526058422755,0.564207585720356,0.6220223624558577,0.6587859661145006,0.5834009780788024,0.6106595329630279,0.6622973139315036,0.5866596551946578,0.5819812438149791,0.6155899105789081,0.6080335197046993,0.5583796133040109,0.7083218240575703,0.6086023531546793,0.5839076287778509,0.6372088108860583,0.654233219923629,0.6187217134419558,0.6172890726664707,0.6038354380027111,0.5700075158647616,0.6134629896156863,0.6344991626503169,0.6517276220667351,0.6410932495676205,0.637392405236955,0.7064996990023761,0.7296945569923254,0.6553449374679561,0.6086730536790805,0.5798779548145784,0.6172931811390867,0.6586796367457258,0.6275613457800528,0.5266319929299473,0.6792644929971939,0.5650963695787586,0.5545760906698602,0.586178715157852,0.5920026149579392,0.6355102136802664,0.6393086881754728,0.4873641034603341,0.621962314066796,0.6870994970613302,0.5771792701984344,0.6541716654355049,0.5649341507775898,0.6106370933813625,0.6379866835477201,0.6054678922599648,0.6325638157045771,0.6482827624853535,0.6053503113504375,0.6316400603048031,0.5936326883947377,0.6420233395714877,0.5658877339100529,0.5936060393068343,0.7292050114163525,0.6101331751472454,0.6290301951169991,0.6112222390903478,0.650761965945544,0.5749205239062924,0.609333586479933,0.5810335272621605,0.7638655115151423,0.6156485324422023,0.5959148698565003,0.5761450702874369,0.5838287909856203,0.5776172165336503,0.6394559333148361,0.6370209138903973,0.6059106926249721,0.6063071647012428,0.612973781297051,0.6483292311588003,0.5413043845816901,0.5628436534417975,0.5729049159862011,0.6163606309964597,0.5497284098520836,0.6635170745244309,0.6146372959038051,0.58199359291496,0.6386105488864985,0.660902598261746,0.6043782622576025,0.6256154098829625,0.6573988274257849,0.623964813935102,0.634934878494781,0.5446615823549452,0.6347053304284878,0.6808038461724796,0.6320229242331966,0.6369276173728292,0.6060299523465489,0.6020081028677254,0.6551441982692672,0.6256653468956126,0.6450661575373176,0.5835360154888837,0.5707077741993775,0.6127339332057262,0.6064649543817683,0.5866249468766445,0.6422290432608538,0.5944965680218556,0.6068237132084111,0.5657400433904871,0.5916395040772373,0.5961363830599733,0.6030491037824054,0.6554689355789968,0.6365213748442536,0.7306774122846715,0.5430822324660257,0.5562719696960378,0.6682344574557435,0.5836605795101496,0.6212978209673395,0.5856349323003829,0.6018499838505971,0.5784379676726699,0.639468702430567,0.5282308913902151,0.6011219170579345,0.5769037138982903,0.6224697547082252,0.5854560597502756,0.6345759454791852,0.6624878655036904,0.6066444559393842,0.5708762841749333,0.5317887558715066,0.5732343743869275,0.6042299196338426,0.594876111103068,0.6156039967261662,0.6332988007066711,0.6178387112535715,0.5778250429259163,0.6665485221366039,0.5459222109146761,0.6040631667214282,0.5605686430683888,0.6218552820643373,0.6611730546887482,0.5876919873893935,0.6117003854402092,0.547264183863559,0.6037251888735431,0.45880846683025633,0.6570515798073382,0.5748560779829281,0.5873621056792037,0.647902681874586,0.6195753412850337,0.6771897959046137,0.6674257873676219,0.570628436637027,0.5388304398543944,0.5585060542198106,0.6180250673924177,0.626835008165386,0.57667771175235,0.5728142672718836,0.5472139904524457,0.6008589273965891,0.6151836717320835,0.6297696955546698,0.5878649531833507,0.5828128093887242,0.6086492667130411,0.5905838530170563,0.6262731251030467,0.6193077081253093,0.536698862507477,0.6191182107818257,0.5638081428796261,0.6124680267972199,0.5842055508434881,0.5126131293675464,0.6234472671002608,0.5840866095580143,0.6018689841581729,0.5976925815915265,0.6440724045444246,0.6754022193958805,0.6636256821124425,0.637404968128295,0.5917213870625253,0.5713214881489613,0.5821841386604895,0.6167851773558156,0.5514757527298892,0.6576128787181258,0.572704871231131,0.5876382501983957,0.6244092444031619,0.6852248399351359,0.6290369296871894,0.6631024662852115,0.7264450244368263,0.6293733150122609,0.6018326763413033,0.5958252553460264,0.6502279992873045,0.6816990754719956,0.6127707300697997,0.6919343005024264,0.5870645430810739,0.5893671227379405,0.6117171668542161,0.5866472355574284,0.5279576200666649,0.63097599594326,0.6950978268056697,0.5495059316698712,0.6018931096233371,0.6498509949956894,0.6311683018070118,0.5988984523112938,0.6058836807805758,0.5658831028806647,0.6374886207712411,0.5984455828439017,0.5852811988134792,0.5729172379791684,0.6212510324295608,0.631218988328247,0.6075628801440234,0.6592635204810926,0.5544147527821159,0.5817841099336253,0.566514681686462,0.6525661842661874,0.63520356013635,0.5986578137213197,0.6109027052821756,0.6026221890182312,0.610728512497172,0.6435890628622504,0.6859961203702746,0.5737988430374139,0.5790767069610592,0.5466605763413607,0.5945967256731651,0.5959835484152376,0.5282811228197708,0.6285593204735938,0.547962494364275,0.6174047841542594,0.5560850104285662,0.5482793053160789,0.5923825579704932,0.6542716362044609,0.6211270272524002,0.6605755958943325,0.6127911034149395,0.6069796470940844,0.6917235094501814,0.5875255764551716,0.5872442721301085,0.5345353977590789,0.5312340965214729,0.5956101519052438,0.6116385957380016,0.5779773102406803,0.6422735559643935,0.5955545668257747,0.5822257638047927,0.5652985277733521,0.5903198589633639,0.6018909321498526,0.7819443960732511,0.6502184542030416,0.5794435149540892,0.5539572679336489,0.6003714934799341,0.6881273362368757,0.7462737848142925,0.6018967930687648,0.6332965323659157,0.5666874374019099,0.6346881777115596,0.5871782976383186,0.5898484250088056,0.5970109504372432,0.5939462762938111,0.5815437644703954,0.676880757622904,0.5909934288685107,0.5377850858636222,0.6082263837882053,0.6080499656301043,0.6794912973189576,0.5954209524982327,0.6047198268265004,0.6168354937846344,0.5355071744290506,0.5568171887041786,0.6440921944341241,0.6443553376376506,0.5855823530735861,0.6524340298045036,0.558217908961424,0.5808350200470044,0.6596776550074278,0.6714348239132291,0.7110990016878005,0.5877369656404334,0.6876102465529992,0.6574110308723694,0.5835534482363193,0.6762135466836545,0.5825087992932387,0.573903267703939,0.5933585606402982,0.5854791569182118,0.5955464378919461,0.5634127538350374,0.5847782342209022,0.5400746195143289,0.6145250878781278,0.5343590063341016,0.6077788681273035,0.5877949019011544,0.6175213360634028,0.625789056667777,0.5971562339062512,0.6390190305179632,0.6445712300771546,0.6281714150601743,0.6642568457975674,0.6602171198054937,0.6234802727389678,0.551691271021774,0.6165134957406028,0.6221559771696572,0.6312292358632565,0.603557121679317,0.6671754528867564,0.6391244747942766,0.5601761000356532,0.6216673335502887,0.561246948463313,0.6186934604518824,0.5867761443699964,0.6604588250473673,0.675287305127207,0.5637958986679225,0.5654658665901666,0.6091717211889808,0.6937214329509366,0.6575871761205317,0.5761222380754523,0.6370046729840076,0.5809483103325597,0.5936342684658468,0.6019410438176721,0.6715059866045874,0.644252462557462,0.5959158330333938,0.6064376819659296,0.6475652351768041,0.570809978009718,0.5799861871418351,0.6398247902668505,0.5946079307509978,0.5923464567154842,0.5625575150672333,0.6034875961263488,0.6191190800494409,0.6082620596567735,0.6629121239355666,0.7259318691480612,0.5736450881708001,0.5905354200196256,0.6002013591821249,0.6009133900934877,0.5944557259516098,0.5392708381166391,0.58146875900325,0.6268602937028976,0.6349490082399228,0.6979996663360475,0.49866926785899174,0.5921818684316168,0.6190961357112712,0.5932620044976866,0.6383637523922983,0.5737379974708108,0.6443078488112209,0.5687128970081505,0.5804694627633231,0.6482092094462822,0.632425520484925,0.6035204342804323,0.6208205426931458,0.5740836416445798,0.6406893874383607,0.6156361777328808,0.6088846912976403,0.623667043787531,0.5600328990147473,0.6533477398626111,0.6831259518137481,0.6561192366819522,0.650085827643524,0.6378569410806949,0.6225378508871994,0.6110028101780678,0.6717613779623731,0.5885619730102568,0.6139674777227193,0.5534010660850325,0.6445908617846781,0.6352592259741102,0.5745223394125001,0.6306077459207362,0.652509096421655,0.6694855371590003,0.6669915777603033,0.5926924058571295,0.6354332531115824,0.6310924786291762,0.6851499102502348,0.5606776734036358,0.665508797670753,0.6689868221950218,0.5792536671801074,0.6385862274990902,0.6086426270812663,0.5891367873042987,0.6006171901678775,0.6342681808836051,0.6641561384937563,0.5434245040825868,0.5868695687637757,0.5525267987100904,0.5760543858370225,0.5907180139208833,0.6477158668204857,0.5891657165548687,0.6618683412069277,0.5791662914266993,0.5796951851575914,0.6492374778269551,0.6017897398407799,0.5912436689610628,0.5468990794494148,0.6275715858114265,0.6266028948547758,0.6254721957903899,0.6284979533584503,0.606294249088325,0.5796010630992432,0.5905569505047755,0.6301816546039049,0.5805643517165567,0.6195899823289732,0.5545863193210163,0.6175008511895251,0.6343166499173434,0.5430667060690874,0.5957995419733625,0.6495393843930176,0.624124413447972,0.6317062207832406,0.6654230624919995,0.6175238522046427,0.6159405606259788,0.6190607393169087,0.6630964709274162,0.6069446369064889,0.6522599284723106,0.5647677550431458,0.5479336023439634,0.6246652881824314,0.6239144725750746,0.5968092362637998,0.6140947535699023,0.6467544785162211,0.5738528480407282,0.6233824191287373,0.6600901755263695,0.5595433823658484,0.6809085214016612,0.5918496763333498,0.5523041895629288,0.5742113859792912,0.6039594185649889,0.6104010239673598,0.6045135882198575,0.585097865420611,0.6822422848075093,0.6171229537137854,0.6487020144823968,0.6742245911196846,0.6501392773883201,0.6134629770074097,0.6311462589507575,0.6719900766831218,0.5876861610335307,0.5927492936583398],\"xaxis\":\"x2\",\"yaxis\":\"y2\"}],                        {\"barmode\":\"relative\",\"legend\":{\"tracegroupgap\":0},\"margin\":{\"t\":60},\"template\":{\"data\":{\"bar\":[{\"error_x\":{\"color\":\"rgb(36,36,36)\"},\"error_y\":{\"color\":\"rgb(36,36,36)\"},\"marker\":{\"line\":{\"color\":\"rgb(234,234,242)\",\"width\":0.5},\"pattern\":{\"fillmode\":\"overlay\",\"size\":10,\"solidity\":0.2}},\"type\":\"bar\"}],\"barpolar\":[{\"marker\":{\"line\":{\"color\":\"rgb(234,234,242)\",\"width\":0.5},\"pattern\":{\"fillmode\":\"overlay\",\"size\":10,\"solidity\":0.2}},\"type\":\"barpolar\"}],\"carpet\":[{\"aaxis\":{\"endlinecolor\":\"rgb(36,36,36)\",\"gridcolor\":\"white\",\"linecolor\":\"white\",\"minorgridcolor\":\"white\",\"startlinecolor\":\"rgb(36,36,36)\"},\"baxis\":{\"endlinecolor\":\"rgb(36,36,36)\",\"gridcolor\":\"white\",\"linecolor\":\"white\",\"minorgridcolor\":\"white\",\"startlinecolor\":\"rgb(36,36,36)\"},\"type\":\"carpet\"}],\"choropleth\":[{\"colorbar\":{\"outlinewidth\":0,\"tickcolor\":\"rgb(36,36,36)\",\"ticklen\":8,\"ticks\":\"outside\",\"tickwidth\":2},\"type\":\"choropleth\"}],\"contour\":[{\"colorbar\":{\"outlinewidth\":0,\"tickcolor\":\"rgb(36,36,36)\",\"ticklen\":8,\"ticks\":\"outside\",\"tickwidth\":2},\"colorscale\":[[0.0,\"rgb(2,4,25)\"],[0.06274509803921569,\"rgb(24,15,41)\"],[0.12549019607843137,\"rgb(47,23,57)\"],[0.18823529411764706,\"rgb(71,28,72)\"],[0.25098039215686274,\"rgb(97,30,82)\"],[0.3137254901960784,\"rgb(123,30,89)\"],[0.3764705882352941,\"rgb(150,27,91)\"],[0.4392156862745098,\"rgb(177,22,88)\"],[0.5019607843137255,\"rgb(203,26,79)\"],[0.5647058823529412,\"rgb(223,47,67)\"],[0.6274509803921569,\"rgb(236,76,61)\"],[0.6901960784313725,\"rgb(242,107,73)\"],[0.7529411764705882,\"rgb(244,135,95)\"],[0.8156862745098039,\"rgb(245,162,122)\"],[0.8784313725490196,\"rgb(246,188,153)\"],[0.9411764705882353,\"rgb(247,212,187)\"],[1.0,\"rgb(250,234,220)\"]],\"type\":\"contour\"}],\"contourcarpet\":[{\"colorbar\":{\"outlinewidth\":0,\"tickcolor\":\"rgb(36,36,36)\",\"ticklen\":8,\"ticks\":\"outside\",\"tickwidth\":2},\"type\":\"contourcarpet\"}],\"heatmap\":[{\"colorbar\":{\"outlinewidth\":0,\"tickcolor\":\"rgb(36,36,36)\",\"ticklen\":8,\"ticks\":\"outside\",\"tickwidth\":2},\"colorscale\":[[0.0,\"rgb(2,4,25)\"],[0.06274509803921569,\"rgb(24,15,41)\"],[0.12549019607843137,\"rgb(47,23,57)\"],[0.18823529411764706,\"rgb(71,28,72)\"],[0.25098039215686274,\"rgb(97,30,82)\"],[0.3137254901960784,\"rgb(123,30,89)\"],[0.3764705882352941,\"rgb(150,27,91)\"],[0.4392156862745098,\"rgb(177,22,88)\"],[0.5019607843137255,\"rgb(203,26,79)\"],[0.5647058823529412,\"rgb(223,47,67)\"],[0.6274509803921569,\"rgb(236,76,61)\"],[0.6901960784313725,\"rgb(242,107,73)\"],[0.7529411764705882,\"rgb(244,135,95)\"],[0.8156862745098039,\"rgb(245,162,122)\"],[0.8784313725490196,\"rgb(246,188,153)\"],[0.9411764705882353,\"rgb(247,212,187)\"],[1.0,\"rgb(250,234,220)\"]],\"type\":\"heatmap\"}],\"heatmapgl\":[{\"colorbar\":{\"outlinewidth\":0,\"tickcolor\":\"rgb(36,36,36)\",\"ticklen\":8,\"ticks\":\"outside\",\"tickwidth\":2},\"colorscale\":[[0.0,\"rgb(2,4,25)\"],[0.06274509803921569,\"rgb(24,15,41)\"],[0.12549019607843137,\"rgb(47,23,57)\"],[0.18823529411764706,\"rgb(71,28,72)\"],[0.25098039215686274,\"rgb(97,30,82)\"],[0.3137254901960784,\"rgb(123,30,89)\"],[0.3764705882352941,\"rgb(150,27,91)\"],[0.4392156862745098,\"rgb(177,22,88)\"],[0.5019607843137255,\"rgb(203,26,79)\"],[0.5647058823529412,\"rgb(223,47,67)\"],[0.6274509803921569,\"rgb(236,76,61)\"],[0.6901960784313725,\"rgb(242,107,73)\"],[0.7529411764705882,\"rgb(244,135,95)\"],[0.8156862745098039,\"rgb(245,162,122)\"],[0.8784313725490196,\"rgb(246,188,153)\"],[0.9411764705882353,\"rgb(247,212,187)\"],[1.0,\"rgb(250,234,220)\"]],\"type\":\"heatmapgl\"}],\"histogram\":[{\"marker\":{\"pattern\":{\"fillmode\":\"overlay\",\"size\":10,\"solidity\":0.2}},\"type\":\"histogram\"}],\"histogram2d\":[{\"colorbar\":{\"outlinewidth\":0,\"tickcolor\":\"rgb(36,36,36)\",\"ticklen\":8,\"ticks\":\"outside\",\"tickwidth\":2},\"colorscale\":[[0.0,\"rgb(2,4,25)\"],[0.06274509803921569,\"rgb(24,15,41)\"],[0.12549019607843137,\"rgb(47,23,57)\"],[0.18823529411764706,\"rgb(71,28,72)\"],[0.25098039215686274,\"rgb(97,30,82)\"],[0.3137254901960784,\"rgb(123,30,89)\"],[0.3764705882352941,\"rgb(150,27,91)\"],[0.4392156862745098,\"rgb(177,22,88)\"],[0.5019607843137255,\"rgb(203,26,79)\"],[0.5647058823529412,\"rgb(223,47,67)\"],[0.6274509803921569,\"rgb(236,76,61)\"],[0.6901960784313725,\"rgb(242,107,73)\"],[0.7529411764705882,\"rgb(244,135,95)\"],[0.8156862745098039,\"rgb(245,162,122)\"],[0.8784313725490196,\"rgb(246,188,153)\"],[0.9411764705882353,\"rgb(247,212,187)\"],[1.0,\"rgb(250,234,220)\"]],\"type\":\"histogram2d\"}],\"histogram2dcontour\":[{\"colorbar\":{\"outlinewidth\":0,\"tickcolor\":\"rgb(36,36,36)\",\"ticklen\":8,\"ticks\":\"outside\",\"tickwidth\":2},\"colorscale\":[[0.0,\"rgb(2,4,25)\"],[0.06274509803921569,\"rgb(24,15,41)\"],[0.12549019607843137,\"rgb(47,23,57)\"],[0.18823529411764706,\"rgb(71,28,72)\"],[0.25098039215686274,\"rgb(97,30,82)\"],[0.3137254901960784,\"rgb(123,30,89)\"],[0.3764705882352941,\"rgb(150,27,91)\"],[0.4392156862745098,\"rgb(177,22,88)\"],[0.5019607843137255,\"rgb(203,26,79)\"],[0.5647058823529412,\"rgb(223,47,67)\"],[0.6274509803921569,\"rgb(236,76,61)\"],[0.6901960784313725,\"rgb(242,107,73)\"],[0.7529411764705882,\"rgb(244,135,95)\"],[0.8156862745098039,\"rgb(245,162,122)\"],[0.8784313725490196,\"rgb(246,188,153)\"],[0.9411764705882353,\"rgb(247,212,187)\"],[1.0,\"rgb(250,234,220)\"]],\"type\":\"histogram2dcontour\"}],\"mesh3d\":[{\"colorbar\":{\"outlinewidth\":0,\"tickcolor\":\"rgb(36,36,36)\",\"ticklen\":8,\"ticks\":\"outside\",\"tickwidth\":2},\"type\":\"mesh3d\"}],\"parcoords\":[{\"line\":{\"colorbar\":{\"outlinewidth\":0,\"tickcolor\":\"rgb(36,36,36)\",\"ticklen\":8,\"ticks\":\"outside\",\"tickwidth\":2}},\"type\":\"parcoords\"}],\"pie\":[{\"automargin\":true,\"type\":\"pie\"}],\"scatter\":[{\"marker\":{\"colorbar\":{\"outlinewidth\":0,\"tickcolor\":\"rgb(36,36,36)\",\"ticklen\":8,\"ticks\":\"outside\",\"tickwidth\":2}},\"type\":\"scatter\"}],\"scatter3d\":[{\"line\":{\"colorbar\":{\"outlinewidth\":0,\"tickcolor\":\"rgb(36,36,36)\",\"ticklen\":8,\"ticks\":\"outside\",\"tickwidth\":2}},\"marker\":{\"colorbar\":{\"outlinewidth\":0,\"tickcolor\":\"rgb(36,36,36)\",\"ticklen\":8,\"ticks\":\"outside\",\"tickwidth\":2}},\"type\":\"scatter3d\"}],\"scattercarpet\":[{\"marker\":{\"colorbar\":{\"outlinewidth\":0,\"tickcolor\":\"rgb(36,36,36)\",\"ticklen\":8,\"ticks\":\"outside\",\"tickwidth\":2}},\"type\":\"scattercarpet\"}],\"scattergeo\":[{\"marker\":{\"colorbar\":{\"outlinewidth\":0,\"tickcolor\":\"rgb(36,36,36)\",\"ticklen\":8,\"ticks\":\"outside\",\"tickwidth\":2}},\"type\":\"scattergeo\"}],\"scattergl\":[{\"marker\":{\"colorbar\":{\"outlinewidth\":0,\"tickcolor\":\"rgb(36,36,36)\",\"ticklen\":8,\"ticks\":\"outside\",\"tickwidth\":2}},\"type\":\"scattergl\"}],\"scattermapbox\":[{\"marker\":{\"colorbar\":{\"outlinewidth\":0,\"tickcolor\":\"rgb(36,36,36)\",\"ticklen\":8,\"ticks\":\"outside\",\"tickwidth\":2}},\"type\":\"scattermapbox\"}],\"scatterpolar\":[{\"marker\":{\"colorbar\":{\"outlinewidth\":0,\"tickcolor\":\"rgb(36,36,36)\",\"ticklen\":8,\"ticks\":\"outside\",\"tickwidth\":2}},\"type\":\"scatterpolar\"}],\"scatterpolargl\":[{\"marker\":{\"colorbar\":{\"outlinewidth\":0,\"tickcolor\":\"rgb(36,36,36)\",\"ticklen\":8,\"ticks\":\"outside\",\"tickwidth\":2}},\"type\":\"scatterpolargl\"}],\"scatterternary\":[{\"marker\":{\"colorbar\":{\"outlinewidth\":0,\"tickcolor\":\"rgb(36,36,36)\",\"ticklen\":8,\"ticks\":\"outside\",\"tickwidth\":2}},\"type\":\"scatterternary\"}],\"surface\":[{\"colorbar\":{\"outlinewidth\":0,\"tickcolor\":\"rgb(36,36,36)\",\"ticklen\":8,\"ticks\":\"outside\",\"tickwidth\":2},\"colorscale\":[[0.0,\"rgb(2,4,25)\"],[0.06274509803921569,\"rgb(24,15,41)\"],[0.12549019607843137,\"rgb(47,23,57)\"],[0.18823529411764706,\"rgb(71,28,72)\"],[0.25098039215686274,\"rgb(97,30,82)\"],[0.3137254901960784,\"rgb(123,30,89)\"],[0.3764705882352941,\"rgb(150,27,91)\"],[0.4392156862745098,\"rgb(177,22,88)\"],[0.5019607843137255,\"rgb(203,26,79)\"],[0.5647058823529412,\"rgb(223,47,67)\"],[0.6274509803921569,\"rgb(236,76,61)\"],[0.6901960784313725,\"rgb(242,107,73)\"],[0.7529411764705882,\"rgb(244,135,95)\"],[0.8156862745098039,\"rgb(245,162,122)\"],[0.8784313725490196,\"rgb(246,188,153)\"],[0.9411764705882353,\"rgb(247,212,187)\"],[1.0,\"rgb(250,234,220)\"]],\"type\":\"surface\"}],\"table\":[{\"cells\":{\"fill\":{\"color\":\"rgb(231,231,240)\"},\"line\":{\"color\":\"white\"}},\"header\":{\"fill\":{\"color\":\"rgb(183,183,191)\"},\"line\":{\"color\":\"white\"}},\"type\":\"table\"}]},\"layout\":{\"annotationdefaults\":{\"arrowcolor\":\"rgb(67,103,167)\"},\"autotypenumbers\":\"strict\",\"coloraxis\":{\"colorbar\":{\"outlinewidth\":0,\"tickcolor\":\"rgb(36,36,36)\",\"ticklen\":8,\"ticks\":\"outside\",\"tickwidth\":2}},\"colorscale\":{\"sequential\":[[0.0,\"rgb(2,4,25)\"],[0.06274509803921569,\"rgb(24,15,41)\"],[0.12549019607843137,\"rgb(47,23,57)\"],[0.18823529411764706,\"rgb(71,28,72)\"],[0.25098039215686274,\"rgb(97,30,82)\"],[0.3137254901960784,\"rgb(123,30,89)\"],[0.3764705882352941,\"rgb(150,27,91)\"],[0.4392156862745098,\"rgb(177,22,88)\"],[0.5019607843137255,\"rgb(203,26,79)\"],[0.5647058823529412,\"rgb(223,47,67)\"],[0.6274509803921569,\"rgb(236,76,61)\"],[0.6901960784313725,\"rgb(242,107,73)\"],[0.7529411764705882,\"rgb(244,135,95)\"],[0.8156862745098039,\"rgb(245,162,122)\"],[0.8784313725490196,\"rgb(246,188,153)\"],[0.9411764705882353,\"rgb(247,212,187)\"],[1.0,\"rgb(250,234,220)\"]],\"sequentialminus\":[[0.0,\"rgb(2,4,25)\"],[0.06274509803921569,\"rgb(24,15,41)\"],[0.12549019607843137,\"rgb(47,23,57)\"],[0.18823529411764706,\"rgb(71,28,72)\"],[0.25098039215686274,\"rgb(97,30,82)\"],[0.3137254901960784,\"rgb(123,30,89)\"],[0.3764705882352941,\"rgb(150,27,91)\"],[0.4392156862745098,\"rgb(177,22,88)\"],[0.5019607843137255,\"rgb(203,26,79)\"],[0.5647058823529412,\"rgb(223,47,67)\"],[0.6274509803921569,\"rgb(236,76,61)\"],[0.6901960784313725,\"rgb(242,107,73)\"],[0.7529411764705882,\"rgb(244,135,95)\"],[0.8156862745098039,\"rgb(245,162,122)\"],[0.8784313725490196,\"rgb(246,188,153)\"],[0.9411764705882353,\"rgb(247,212,187)\"],[1.0,\"rgb(250,234,220)\"]]},\"colorway\":[\"rgb(76,114,176)\",\"rgb(221,132,82)\",\"rgb(85,168,104)\",\"rgb(196,78,82)\",\"rgb(129,114,179)\",\"rgb(147,120,96)\",\"rgb(218,139,195)\",\"rgb(140,140,140)\",\"rgb(204,185,116)\",\"rgb(100,181,205)\"],\"font\":{\"color\":\"rgb(36,36,36)\"},\"geo\":{\"bgcolor\":\"white\",\"lakecolor\":\"white\",\"landcolor\":\"rgb(234,234,242)\",\"showlakes\":true,\"showland\":true,\"subunitcolor\":\"white\"},\"hoverlabel\":{\"align\":\"left\"},\"hovermode\":\"closest\",\"paper_bgcolor\":\"white\",\"plot_bgcolor\":\"rgb(234,234,242)\",\"polar\":{\"angularaxis\":{\"gridcolor\":\"white\",\"linecolor\":\"white\",\"showgrid\":true,\"ticks\":\"\"},\"bgcolor\":\"rgb(234,234,242)\",\"radialaxis\":{\"gridcolor\":\"white\",\"linecolor\":\"white\",\"showgrid\":true,\"ticks\":\"\"}},\"scene\":{\"xaxis\":{\"backgroundcolor\":\"rgb(234,234,242)\",\"gridcolor\":\"white\",\"gridwidth\":2,\"linecolor\":\"white\",\"showbackground\":true,\"showgrid\":true,\"ticks\":\"\",\"zerolinecolor\":\"white\"},\"yaxis\":{\"backgroundcolor\":\"rgb(234,234,242)\",\"gridcolor\":\"white\",\"gridwidth\":2,\"linecolor\":\"white\",\"showbackground\":true,\"showgrid\":true,\"ticks\":\"\",\"zerolinecolor\":\"white\"},\"zaxis\":{\"backgroundcolor\":\"rgb(234,234,242)\",\"gridcolor\":\"white\",\"gridwidth\":2,\"linecolor\":\"white\",\"showbackground\":true,\"showgrid\":true,\"ticks\":\"\",\"zerolinecolor\":\"white\"}},\"shapedefaults\":{\"fillcolor\":\"rgb(67,103,167)\",\"line\":{\"width\":0},\"opacity\":0.5},\"ternary\":{\"aaxis\":{\"gridcolor\":\"white\",\"linecolor\":\"white\",\"showgrid\":true,\"ticks\":\"\"},\"baxis\":{\"gridcolor\":\"white\",\"linecolor\":\"white\",\"showgrid\":true,\"ticks\":\"\"},\"bgcolor\":\"rgb(234,234,242)\",\"caxis\":{\"gridcolor\":\"white\",\"linecolor\":\"white\",\"showgrid\":true,\"ticks\":\"\"}},\"xaxis\":{\"automargin\":true,\"gridcolor\":\"white\",\"linecolor\":\"white\",\"showgrid\":true,\"ticks\":\"\",\"title\":{\"standoff\":15},\"zerolinecolor\":\"white\"},\"yaxis\":{\"automargin\":true,\"gridcolor\":\"white\",\"linecolor\":\"white\",\"showgrid\":true,\"ticks\":\"\",\"title\":{\"standoff\":15},\"zerolinecolor\":\"white\"}}},\"xaxis\":{\"anchor\":\"y\",\"domain\":[0.0,1.0],\"title\":{\"text\":\"rel_1stIn\"}},\"xaxis2\":{\"anchor\":\"y2\",\"domain\":[0.0,1.0],\"matches\":\"x\",\"showticklabels\":false},\"yaxis\":{\"anchor\":\"x\",\"domain\":[0.0,0.8316],\"title\":{\"text\":\"count\"}},\"yaxis2\":{\"anchor\":\"x2\",\"domain\":[0.8416,1.0],\"matches\":\"y2\",\"showline\":false,\"showticklabels\":false,\"ticks\":\"\"}},                        {\"responsive\": true}                    ).then(function(){\n                            \nvar gd = document.getElementById('b72e0a65-9d11-4b3a-bd8e-b421d79706aa');\nvar x = new MutationObserver(function (mutations, observer) {{\n        var display = window.getComputedStyle(gd).display;\n        if (!display || display === 'none') {{\n            console.log([gd, 'removed!']);\n            Plotly.purge(gd);\n            observer.disconnect();\n        }}\n}});\n\n// Listen for the removal of the full notebook cells\nvar notebookContainer = gd.closest('#notebook-container');\nif (notebookContainer) {{\n    x.observe(notebookContainer, {childList: true});\n}}\n\n// Listen for the clearing of the current output cell\nvar outputEl = gd.closest('.output');\nif (outputEl) {{\n    x.observe(outputEl, {childList: true});\n}}\n\n                        })                };                            </script>        </div>\n</body>\n</html>"
     },
     "metadata": {},
     "output_type": "display_data"
    },
    {
     "data": {
      "text/html": "<html>\n<head><meta charset=\"utf-8\" /></head>\n<body>\n    <div>            <script src=\"https://cdnjs.cloudflare.com/ajax/libs/mathjax/2.7.5/MathJax.js?config=TeX-AMS-MML_SVG\"></script><script type=\"text/javascript\">if (window.MathJax) {MathJax.Hub.Config({SVG: {font: \"STIX-Web\"}});}</script>                <script type=\"text/javascript\">window.PlotlyConfig = {MathJaxConfig: 'local'};</script>\n        <script src=\"https://cdn.plot.ly/plotly-2.4.2.min.js\"></script>                <div id=\"423a8971-4cd8-4c67-8c3a-3c3d65fa2c00\" class=\"plotly-graph-div\" style=\"height:525px; width:100%;\"></div>            <script type=\"text/javascript\">                                    window.PLOTLYENV=window.PLOTLYENV || {};                                    if (document.getElementById(\"423a8971-4cd8-4c67-8c3a-3c3d65fa2c00\")) {                    Plotly.newPlot(                        \"423a8971-4cd8-4c67-8c3a-3c3d65fa2c00\",                        [{\"alignmentgroup\":\"True\",\"bingroup\":\"x\",\"hovertemplate\":\"rel_2ndWon=%{x}<br>count=%{y}<extra></extra>\",\"legendgroup\":\"\",\"marker\":{\"color\":\"rgb(76,114,176)\",\"pattern\":{\"shape\":\"\"}},\"name\":\"\",\"offsetgroup\":\"\",\"orientation\":\"v\",\"showlegend\":false,\"type\":\"histogram\",\"x\":[0.26073943530386795,0.22159647340181102,0.1960689415570801,0.19968233943694394,0.1614013872892184,0.21892027950760373,0.20681002484636413,0.19849175237543829,0.19755397021124538,0.22866485686219537,0.17673063780723833,0.22924209593817316,0.15359844751061488,0.17777404701868563,0.1113370425313685,0.20782940736024227,0.23425255448940138,0.2141118166956114,0.19596888628315454,0.18306427447439838,0.17107560154450677,0.17299682187992593,0.20019881896058225,0.22614668286049444,0.17861651776818013,0.19208741555484385,0.18422328915169192,0.23114160191839317,0.21593262309165023,0.1643280854731537,0.18367388726875147,0.17457492160147894,0.18700869182515836,0.2136613101462947,0.17052732874778942,0.17961192334483128,0.13744380958149754,0.20653463298018612,0.2161438993430412,0.18728240922127629,0.15988419823036376,0.19474871372916505,0.17394630292273158,0.19502513835114224,0.1551263393400684,0.20191437342939927,0.18498153079024796,0.20133773754296727,0.19159472717477766,0.1792554695133415,0.21271683084514362,0.22348030492830964,0.2062398171299835,0.20946694523233148,0.21254105827550135,0.20072364329238612,0.17375647768806432,0.1794323012010698,0.2237925472092838,0.1967210482718569,0.11385041929847421,0.1286148096900372,0.15938211620322157,0.1589006440030701,0.2022119306946436,0.20939647648492557,0.17863774017958828,0.21756185309360834,0.18430991810457284,0.21820177992254056,0.16461152354358502,0.16287529455336613,0.1613012479774833,0.15737147304500465,0.18746695894751883,0.15834808699207462,0.10335250925952268,0.2171825858281996,0.168467903062359,0.1614461029856318,0.20889410834831262,0.16255788914878522,0.20797537420970347,0.1663185879091205,0.1886971960009443,0.18548139288495868,0.169380739312486,0.19149719927425637,0.1254675319738618,0.13829337245782655,0.15860237008888511,0.15514488147232194,0.20813265956335522,0.16931155674850726,0.11669888043651734,0.19390507757508385,0.15362448910724344,0.2099940810747285,0.16862682399929463,0.21310031383233546,0.2110847478396385,0.19732676196405563,0.12429284016447048,0.1792977415431625,0.1922613802315388,0.15267343152421126,0.17691379184259226,0.19230519487336942,0.1897468401496446,0.21661084802078884,0.20846484363750106,0.18704953120142126,0.18734571753901488,0.1894152493474988,0.18362131470648688,0.18003531243444845,0.19026962091143945,0.18212369427121528,0.2246604699702475,0.20858361659267674,0.12531528712178638,0.22693778950099858,0.21733975087490567,0.17904679750400296,0.17402240233295616,0.16436463621799177,0.14146482925411338,0.19040095692115247,0.171980077624929,0.19452043531920735,0.13787624519724465,0.16987994569838086,0.15545996332271203,0.1634760477248688,0.1517610910353102,0.15313500830838092,0.11279195946917844,0.1984599431506231,0.1896893036796535,0.1900298573268738,0.20871573505636123,0.16215732763745552,0.154050331113821,0.14361356051420798,0.2085844078324135,0.20714887877691418,0.15050420501997158,0.15248629703852548,0.1579741766653143,0.22029269827497888,0.22192021793760483,0.2088150734664113,0.2219672356239468,0.20179598278539262,0.1861565787130726,0.19380475916570422,0.20683153674419436,0.16032767475664209,0.18524310539826538,0.21081771469681856,0.1807432611954786,0.21674657894884508,0.19287772553973784,0.1438671003383596,0.1401637692658952,0.19994080316836224,0.19957017299030858,0.144952528320875,0.18352154727294956,0.17598220502991863,0.16417247826461745,0.16040814659205388,0.16925610032693578,0.16899940764599092,0.17979381202144562,0.14432712747842136,0.17157617560419025,0.1898201014560259,0.18962821828213253,0.20161597206701318,0.23375098909354433,0.16520126933707946,0.1364909756976975,0.21802086561707631,0.21536117944268843,0.17814638268779198,0.17597531789300122,0.1837949168289467,0.20101271741006543,0.18499559024161483,0.14721578510415478,0.2121131546877523,0.20747771150906003,0.16636053433031536,0.19434617551811567,0.1896361561521638,0.1961777218814238,0.19921787467883764,0.19605359060547722,0.1845268922638996,0.205951715373316,0.19171918430661417,0.16974386679165474,0.2138097695291928,0.17340959342293857,0.18133858333012698,0.1806015303589427,0.19767975814886132,0.11592812117959787,0.16303790269864865,0.1788738383616227,0.19486579185338304,0.17986175257619139,0.20789455125773149,0.21023810331128548,0.15878281168818362,0.1931828116331594,0.1588443050009068,0.18046436069387348,0.1877120812498052,0.17905467391993185,0.21789262433658688,0.1512559220712791,0.17514477466215575,0.1994249206080473,0.15335566898590391,0.17350052697035637,0.18241531250120704,0.16095551969204624,0.1895350127379976,0.15648995518973824,0.18610260829319025,0.16366836977929997,0.19623556626502028,0.20972854183790207,0.1982888384074362,0.18376188071561025,0.20564815493577215,0.12983240113486877,0.18805058547693407,0.18847386007029077,0.1861115844436336,0.16707687250663958,0.23792647208651801,0.17599874252928557,0.16983531098906002,0.18577093144352128,0.19168122440918708,0.16415140599933523,0.2140245853622745,0.18768821614400968,0.16225249517211376,0.19089593288380657,0.19313707957842666,0.19214322061386754,0.1850909809388663,0.22033711930625022,0.1653042699029768,0.21116878669632963,0.21698283993088827,0.18449540928075986,0.20715663279558386,0.17470330288034921,0.168488921056401,0.16995593423661084,0.15122303899848477,0.20385154625548735,0.21377384979491618,0.1556414182247876,0.14012676461910303,0.15447892788848314,0.17867642584388388,0.17131596926122022,0.17814773458005553,0.17574025520718828,0.1708487491097301,0.18471119933126828,0.19695346799764285,0.16742572870104516,0.2604429864537057,0.19979885188861715,0.1968497991329192,0.1969872598926179,0.1850243569917495,0.17335238188409566,0.2015188024440078,0.20990145470183216,0.19773740972199946,0.1800742572855879,0.1792659734688548,0.13145688220771926,0.1782534853439152,0.1971494389000489,0.2116340303267195,0.18426262961324258,0.19935631484444022,0.23533766477944443,0.18795007630275037,0.15677802737122823,0.17517307311017136,0.14925960969028315,0.20297764602950363,0.2087208392073355,0.1955663307014004,0.17216735315228543,0.19808814280373208,0.2285777357603746,0.19966479692308015,0.17802712213070174,0.19284319782617323,0.18557172010622766,0.1538873306841893,0.17976307178937084,0.17356722137133998,0.21026779782574562,0.18508831600946735,0.2200825786075144,0.16173329287796934,0.15861234968401985,0.12446407948620908,0.23704769516914853,0.17686681764021037,0.2087373976760121,0.2108543864648274,0.18029834184060106,0.21205024706481995,0.19140736569874897,0.169842792854288,0.19439703110600634,0.18683362264128753,0.17584990537502815,0.21034204392325967,0.175573471410181,0.1964656378017844,0.20824074685097882,0.20854278311975005,0.18386663290281496,0.19535665609053854,0.1615237661068392,0.20021527735564054,0.2006724045810217,0.18223520736006524,0.15957655649092933,0.20525829492987463,0.20197250498211633,0.208183948349196,0.1747657826410938,0.19317639325327207,0.20181347720568477,0.217525571662017,0.15082991501650309,0.2428841305740495,0.17184894551776764,0.16624286830612917,0.20534080161407048,0.19970669720309592,0.20446586755033808,0.18919632323093794,0.18995474073490753,0.1565747799938492,0.13167756067890876,0.1831452102253723,0.20059362391220123,0.18038172653473905,0.1851586578817386,0.20339476432367568,0.18558428655194853,0.1690763157188514,0.1836872572199764,0.1620207166098297,0.1988566013876338,0.20789412325803827,0.20229797501495422,0.18058045183572835,0.17773115947155937,0.16908728213490776,0.20284826365945577,0.1897617063754265,0.15184866196237215,0.18738836635977105,0.17364130803183034,0.20654496670855052,0.2280571451343458,0.21594020563485003,0.16589509129822635,0.21941479000263533,0.16903610232082408,0.10235524815196895,0.22212508390782282,0.21251083563273304,0.18429712019684763,0.18461929200267874,0.18147625623386854,0.17943360050662258,0.18473874203004217,0.1891592163904278,0.19763945821337925,0.14164870269221544,0.21307849992615324,0.16064283221513462,0.15620640046209838,0.20348370729614323,0.20372763839167135,0.18739977779911712,0.21324207245832755,0.1876054526189294,0.20437124691595682,0.2087189766130966,0.2271742861318464,0.2179060708001661,0.19718333211913214,0.16326323148681965,0.1733166073367275,0.19649524379586095,0.15421865224348108,0.15556929605716108,0.20302888878172726,0.22159636843934855,0.22501327207681024,0.21314620175079857,0.19950158821860922,0.17540447045328406,0.1812063207481455,0.19882783555410796,0.1788501524645989,0.17278806308779332,0.18627796231328742,0.17131983336606868,0.19094341371277115,0.2006165891937187,0.17927488906994068,0.15139267633027428,0.16661786455537916,0.17738757047994694,0.14287178167473177,0.23476030552165497,0.20713155766599087,0.1997603178911048,0.14849402545452056,0.1479482678748769,0.20379645037881886,0.16100245702321828,0.20542311195538032,0.20840799638830423,0.17537271363068868,0.13844768656323642,0.16059351699211208,0.21320279141003692,0.18699641980567774,0.201708501037742,0.2013124193007684,0.2194830188064626,0.18036816683492113,0.13837054369057472,0.15582039618035992,0.18752558053499513,0.1798183796909042,0.17883748093557894,0.17661215089745014,0.17232976797687635,0.22287526608400896,0.1791610904527375,0.20271652398065843,0.17468685215422633,0.19463966290394713,0.1972884233770032,0.19519080570297637,0.21376028409457656,0.18588375924616718,0.17510364256869823,0.17962945160462648,0.193261206321277,0.20543623695074717,0.21027814389879057,0.21182315409713387,0.17635675516722685,0.19191490237351844,0.1867814912153843,0.19730396202575917,0.20637076988150263,0.19340865115075412,0.1668386451076556,0.14281703826709194,0.11598528521817086,0.19136557784200142,0.1935056633690873,0.20960570717742216,0.172949989390535,0.22663021416712584,0.1880766053644917,0.18146990849434996,0.19058344433097354,0.15275234273677793,0.1919882441376574,0.18947551942717492,0.2247360509826431,0.19761967282032275,0.17535266084507797,0.18492734444839473,0.1922883541034882,0.15823356160444466,0.20450795835819185,0.19249535188250141,0.17924856616265422,0.18367697774125097,0.20589782778539645,0.2112444002494608,0.219638734880634,0.2145768864351668,0.1767314043185752,0.213760516409467,0.1619612889106596,0.1990816975044278,0.21335913606425416,0.19447594139540844,0.20288311264892955,0.1906518899797583,0.19128415201700005,0.2045850526774636,0.12552396447466227,0.20356378089585458,0.1597021888632527,0.15034473226273903,0.19339714401899205,0.19871295837811564,0.20494291671102127,0.16501509587447918,0.18745961137566208,0.13541506073749748,0.2151603405329924,0.1730037033206534,0.2131758411864024,0.19163725127063402,0.22835657521929487,0.19968935191462123,0.22721728339814712,0.21801603114048532,0.19019448104431913,0.16261535196589463,0.23135444008300604,0.15155525157319857,0.16633094907946028,0.16748975757939602,0.20096052333003697,0.12505070643622657,0.17602072890470158,0.19901351632840306,0.1927242048688597,0.19376476357745645,0.19523663957185372,0.18444223439750967,0.20531793343208668,0.12974250614384183,0.1833953910291001,0.19675950845017523,0.2271178625596126,0.19259178152980985,0.20699031191889813,0.2155465722142362,0.1802424330439454,0.17666659703783089,0.17087603926497008,0.14049497663927113,0.18353466691826859,0.24569685954730733,0.17915824091389015,0.19300920298303387,0.20854162328974793,0.20729263064800948,0.18265887281716928,0.18361420081484775,0.22939473145980857,0.1950806305957481,0.20637172959955494,0.15330692027394605,0.2023452496819364,0.22684172640151765,0.21543410221308365,0.19812171472070766,0.24437833523613914,0.19025853345903215,0.2337269391215785,0.16585914933179957,0.16273044628672784,0.19595900998602117,0.19104094779395375,0.17512766488385018,0.14693382250736103,0.1666255959676699,0.2197784043357758,0.17646863111622432,0.2173414350336566,0.1773215355351818,0.19579052940243227,0.22020120678287558,0.22198028082060292,0.17016912249400973,0.1594837781280734,0.18770416817158145,0.20863770032087792,0.2053988959767342,0.20134253540194397,0.2085942288296328,0.2040718775996704,0.19626947632466593,0.12602315938811343,0.19792648111714603,0.1697603719314962,0.18762507867217146,0.17456482636497453,0.183393766829214,0.18657224339297,0.20823763610476323,0.15838154628467563,0.19356454230053471,0.18144151685137117,0.20580338855783967,0.16777769854040453,0.17562525478196211,0.184466995192344,0.19537324631596004,0.19229973136215336,0.19531922515767922,0.1692965559691651,0.18473301667868167,0.1638003432074585,0.17170480415376435,0.1818586202436052,0.18971496580267544,0.16232389823000712,0.17121475097559066,0.17036440281795992,0.1858757933791694,0.18330524604913195,0.2064762023134967,0.16104224529679806,0.1902193885052647,0.18350928521527907,0.19331464064842027,0.20542449164993937,0.18348465959254232,0.19991692853098614,0.1555734292832467,0.19231599622031742,0.20162887162484253,0.19657825165365264,0.15598804161276053,0.18724265821731875,0.16140209601517896,0.19087170756071775,0.2197989234122253,0.18277052606648528,0.21308452097306627,0.18466699410494677,0.21511101603573962,0.14115235658752126,0.18581252048453023,0.141741715072572,0.19643534138536328,0.20734964170100723,0.22210071267261486,0.15364473529859,0.20525902899530765,0.15778713603211844,0.13806171533129155,0.1544882171085689,0.21432927252421155,0.148240990896467,0.19391730468802945,0.19057818968399184,0.08588445293783133,0.19684516788248554,0.16733493694335244,0.19588677016718653,0.17120764190097976,0.18147655257612344,0.19901720300848474,0.18454026157254522,0.20482557364908452,0.1876013355183637,0.22464197716013398,0.22555321360648756,0.16857710124263747,0.1837719211557371,0.19913594074956567,0.20666253182312455,0.17665871398084138,0.1878387603059043,0.21097879305737882,0.19698151416476295,0.1547431202503944,0.2053382403560923,0.18381145513491678,0.18168664768842022,0.19036165656618137,0.16913642550164612,0.17908636234334413,0.17826853040289664,0.2102032952991566,0.16678407700376335,0.15262601267757447,0.1533349591949087,0.1783516378945424,0.1584144597223425,0.14960649517748248,0.15520721770983936,0.13258801895627806,0.13893616386422378,0.12795404194757035,0.20141596263590578,0.1904405435787152,0.11811494617993841,0.18912639539232437,0.16973727833344324,0.20964868371772957,0.14210338354526983,0.19126730759228772,0.19717824446946844,0.17125857451061585,0.19408245205265803,0.22338051526789546,0.19417783734252653,0.14443861297078522,0.1597518425436559,0.1806020041610405,0.18609978220721007,0.17703763927956914,0.16378273367344345,0.17800572009206309,0.18812477972673572,0.15941268129825456,0.14513834770601755,0.2172791734413324,0.16618757349964558,0.18455046228597163,0.1648060375404079,0.20038526044488114,0.14127131220752545,0.1416831973142165,0.17020725727143673,0.14387767369781063,0.17888181884754217,0.18608337432101987,0.2006793972027102,0.19467457805638083,0.23273732228984095,0.20234667967640824,0.15968870712218206,0.15100604142985552,0.1659311323692998,0.1816624320691284,0.18617958045089103,0.1990223836725061,0.18862913165231668,0.17372135194812777,0.16903235560663868,0.15048803159218035,0.2154713453729658,0.1903994968083611,0.18672577624028341,0.20900397832654105,0.2137423840553017,0.18335196525887676,0.1887554808568904,0.16843327386954435,0.18810998228186593,0.16900944781789262,0.12324224663447304,0.17984111771337208,0.19613520801949455,0.19559759008749283,0.22357957847101362,0.21603098227324868,0.1769703166447753,0.19109563323424747,0.22644750942054345,0.19679072706029832,0.20641355697802083,0.17998318468504523,0.21674544892240027,0.20034506992895548,0.1744425704428192,0.18893617070177793,0.18924081188139852,0.211800933859903,0.18880247804825145,0.22747807711996926,0.20852730770567188,0.18390152141085186,0.19995680106229208,0.19326304587837076,0.15958512499936028,0.12015275295867182,0.17797771817591776,0.17446640580850611,0.1831541603426674,0.1948395119711142,0.2096420430425833,0.22860786184728846,0.16837704102566411,0.1762878716702269,0.2088811401958943,0.20266083785296837,0.19874927070523604,0.18933291652000975,0.22462194649797568,0.16362886482656375,0.17603701986382386,0.1977252796921443,0.1908864152086692,0.14068153323364158,0.18392036251452115,0.19757593100654447,0.19635018629922982,0.24200053127863067,0.16775821541938488,0.17420705039496,0.20970590617801735,0.2036861723316931,0.23696881603236258,0.19372252143284066,0.17583947334504116,0.18051000088700409,0.20276707467764638,0.1571384182704969,0.15401660322750188,0.18082239596803512,0.18865725143056739,0.18222380976559255,0.14624321517782168,0.1743565013757747,0.14567888052788408,0.15147183394348895,0.16883106929395877,0.2234787450868393,0.17883772759933914,0.13019238871957245,0.21722433938898833,0.20340392474074714,0.21924117454238867,0.14948610958475406,0.19629597439738364,0.18880826839900353,0.21231304480398128,0.18639397878037284,0.18958794888711114,0.17172680669281645,0.2230428315377724,0.20697763827379098,0.17627826019196938,0.18348804407149472,0.1519013457936946,0.18307196941698026,0.22416575934548905,0.19583516724103878,0.13750584630081764,0.1688030506494738,0.20480343533245077,0.1874392141785897,0.18098727298821224,0.18596257599677082,0.18867486512808726,0.20410795657226702,0.20115274679862377,0.20657736048983513,0.1947258600756424,0.20649633671792073,0.1751676321564567,0.2153904323095848,0.20811352680514672,0.17744421012056488,0.20167366890166347,0.1867019986030353,0.15594564371798977,0.19774864804349437,0.19984532627895277,0.1874678026394875,0.19291232326981467,0.21462508015009285,0.13422488267666677,0.20146567311038371,0.2063098034577759,0.1742662234964101,0.1605152555097804,0.19347568053460162,0.18688313206095983,0.19580611606445206,0.21507871835974057,0.14730729599175216,0.19927498701437024,0.17083833091874825,0.17171575240034037,0.18839472711300861,0.13917306867264712,0.13011419534323732,0.16991750413589854,0.20426911155811509,0.20270962947923446,0.19180804300183482,0.16792052239091076,0.1940662135100061,0.23484094117467744,0.12729486905777762,0.21443008211804626,0.19655750519594467,0.19968609045502955,0.21139321807264191,0.18407054688001187,0.14825939384445935,0.2459815599560495,0.17475480433575463,0.1416426573746107,0.2199266459248045,0.16537019331927919,0.1894022829962006,0.18210960334472248,0.19367793803856648,0.20617967471917462,0.18230044499461762,0.16767639360396247,0.18708554934395544,0.21006085720019796,0.21728450103394922,0.15231109163188522,0.18152747072763672,0.21235311571858922,0.11211828469259887,0.17914089276394551,0.1876793357513219,0.19506253672580529,0.1656294798409607,0.182567085891316,0.19361391745612314,0.1805381155857039,0.10793141506755768,0.18667810509519425,0.17463727437309373,0.15205650114188862,0.2094798467929522,0.2103315372066205,0.1563740418725181,0.1604131374355426,0.16100760062687985,0.16797927151579428,0.18718636003148625,0.16247695489303352,0.21297981161798332,0.18518876965477574,0.20699979473774374,0.1751924062869598,0.18416501420559,0.15927694998554326,0.18472101410741204,0.1854264960077726,0.17260547377677968,0.15225609727471437,0.19111043952945708,0.17160305633565603,0.1856573991745876,0.18885247321785034,0.17612896824282528,0.23057930759819575,0.1740605419865864,0.15691573783342777,0.20142298464205743,0.19300172726761042,0.1996930089739277,0.21053694561822855,0.1716929618161912,0.1749403665726089,0.18617674743797344,0.17128009639812086,0.20121347540169618,0.19094585025645638,0.20823043093059454,0.20325268083061748,0.179383626565028,0.19904566816714123,0.20346054261569935,0.19449292621536113,0.19929682493963302,0.20645894874824258,0.19385751952237892,0.1955513720846074,0.18927218065170873,0.12748266830498683,0.19634407902205614,0.2054087788099412,0.14146494258845482,0.16874982283354423,0.21087798099759944,0.17714650325267506,0.18335327500723902,0.19950765856904165,0.17968298093511545,0.22548031226036447,0.18956012255605711,0.21292706854408242,0.18260765537802917,0.2017597651894008,0.1832944248896771,0.17877059596176473,0.20748259963332732,0.19151405063332905,0.18519343158047827,0.2128394634775702,0.17747227819720102,0.2045966088756647,0.19414520620710846,0.1848213097939067,0.18767507229414607,0.226737802354158,0.17358972623713625,0.22291642109959076,0.17528208916338822,0.19953905274223419,0.15936932422987343,0.15315077588946074,0.1832311277812477,0.19000176881566808,0.1965453424330755,0.17912334241573832,0.26894269344334304,0.147678239540206,0.19748609132619463,0.19890970353250018,0.17106480487773104,0.19022740417413095,0.15922599582706792,0.14158711163316665,0.2038228751351919,0.22449185484307757,0.21798589182268632,0.19795543915616856,0.16967254957054168,0.22033059109763845,0.20219139885741128,0.21195742037522267,0.17723879016504823,0.19363098255155278,0.18226923770310016,0.20425869576270925,0.21312957625582676,0.21294871578876476,0.21470955013636508,0.17307025249429117,0.17926891322186123,0.19937008696618133,0.1519180417395222,0.20791704161289518,0.20201378031234507,0.19186327879568957,0.22987796263793048,0.18263026824127845,0.1915492104439277,0.16420545161572306,0.20123670900089827,0.18004169200155695,0.16757992635804778,0.1999401885057011,0.18122934751041866,0.20638381737891473,0.20721737996541365,0.1878409436659368,0.2047589915534641,0.23012310123133867,0.16329397115160113,0.18379334582124188,0.18211627661189447,0.207716901793297,0.126655024787496,0.1935579073198689,0.143304604907574,0.11823744788267561,0.18587223313800746,0.1865089420139154,0.21264959162972547,0.16324841657995745,0.16291500118500318,0.17820624859884043,0.14623991058826927,0.20800105371428085,0.2066104459515606,0.20422223279932664,0.1824322757597496,0.2164656659566049,0.17715944979436926,0.14095222971122603,0.2013575433604463,0.18137870584227717,0.19390789818081255,0.1885888354706508,0.18815347632493584,0.20138470406988812,0.21265823164588496,0.18521132718155756,0.1804528235835639,0.20743421585906438,0.21142707378731437,0.18470812675332748,0.2208570816951534,0.20688095323985387,0.17550649158538484,0.21079865120527805,0.2373051591206499,0.20179209292787084,0.1697337438031914,0.18363313359732403,0.17179147861288516,0.19419573018699363,0.18928767594502433,0.2061321793175188,0.18416585221046144,0.1679349562098504,0.20684592898199616,0.2055936230313955,0.2018184446667938,0.19003532220912753,0.20550731342224926,0.2221898661459504,0.17725278538861117,0.1901656428007117,0.19248928651174552,0.19434202763272404,0.19594755218810925,0.1832013210087839,0.16805100031424114,0.14315355541042457,0.15722544615548514,0.19351904518952823,0.19984385552543865,0.15204723914831952,0.20512878460206432,0.2098723546425686,0.2200989110661089,0.20309821176799733,0.1728396531283307,0.17678622408012787,0.20317444439594515,0.180293370516784,0.1980349140912248,0.2121135637245014,0.21838210636108246,0.18730553811257697,0.20277441043129094,0.08235034446805697,0.13448009135334485,0.1570303321811895,0.229989533130962,0.20366768930144108,0.15394275370610835,0.13606220222317758,0.18487923492963593,0.18377795958847912,0.2164544411733616,0.18569378974877682,0.19088612168326183,0.19549991546273368,0.19889688026961075,0.18910550137147664,0.19634066687867316,0.13812737121718116,0.18334605497756515,0.17851542660958702,0.19565283527625763,0.16676136700221844,0.14120535279320556,0.16296018159550826,0.19741983168673952,0.17125623017135316,0.21611308688173747,0.2226288584957475,0.1692712292117952,0.16279946486645955,0.21214489509907414,0.1363900393041798,0.1987305729305794,0.2166303826034584,0.15491973319529204,0.16056115693258338,0.15954260203786821,0.1898503816133551,0.15070466392453208,0.15898706435008714,0.17490025261286998,0.13798632467632083,0.22208550752291872,0.1857472526362973,0.18765300290513856,0.23103524239514797,0.1954729833700936,0.1980771146083729,0.21202779868698404,0.2326402069488241,0.21229407810543907,0.21450863502258868,0.20048679381037107,0.22059567974653602,0.18661909452719658,0.1841251760272939,0.1905958424062021,0.19252269136352806,0.1569333886028044,0.17027938873641804,0.16490306579029987,0.15507349233840695,0.18437275780309662,0.23268694572965626,0.16786824847776685,0.19158122327935162,0.18768161581652623,0.1693279068878854,0.15019657200303954,0.15872997663954186,0.18369208225961567,0.191849189856255,0.19232808244219451,0.1920387585205056,0.21397897396741802,0.16483986351500748,0.12352685551654405,0.19508857855383696,0.17685572077127137,0.19537875751205272,0.14444910331630226,0.1351274319944908,0.19354911812798956,0.15046738088948142,0.19457138440490032,0.20173927649941015,0.2061288348249172,0.1723224504386273,0.18578009516703192,0.2072770270798232,0.19036160713557446,0.18235025013796496,0.2021749464168789,0.21291649787229333,0.16905434426361432,0.18642471776402342,0.16927404365996415,0.23348163737518235,0.20482423971638597,0.20276765064654806,0.1746171726012365,0.1594069218407968,0.14047608376272955,0.1862759143486697,0.20872358264550303,0.2144746003877302,0.17747535631661532,0.19181044557016075,0.22337016888013578,0.21721058667352958,0.16857649919674686,0.2005020590420827,0.15532416704316532,0.19471298799893155,0.1979491879214604,0.2047326779481405,0.21708105936759234,0.18328597737111538,0.2018961382966434,0.18489894656018552,0.19481838858406594,0.2001264753197116,0.17876050971530558,0.19096174659646478,0.21177175733684708,0.1857104416715707,0.21747504646344418,0.15448136329895432,0.1714086660673743,0.17308676179306134,0.1838880711210777,0.19852601998376335,0.15164180013670703,0.13137396646253394,0.15658099384444393,0.15290576191010044,0.15798643160628165,0.16418829310750702,0.18582687423732977,0.15566001123260062,0.2136969261169255,0.17387985938419206,0.20077781952730125,0.1680364100676323,0.17174485842186685,0.19667025197790808,0.1870056395324893,0.15474749733422066,0.12631464108183568,0.13596462720177702,0.20818574132422463,0.18059787235373456,0.17657665473527395,0.12564639949915257,0.19439490425428643,0.15341162838085481,0.14238216954278912,0.2077186827342285,0.14480975355537715,0.18975471287066747,0.20071320952543512,0.16918839117248705,0.16540083845590847,0.16182967368242387,0.19202489021682367,0.20571564481074792,0.2035978456901071,0.21150275893520393,0.19857149784822434,0.17821839067228093,0.18854060832897693,0.12572809808899316,0.19553445695106503,0.20025808499628336,0.15893327843564567,0.15706420440527263,0.187283879643529,0.20317186194687978,0.15447108821134645,0.14765344307470726,0.1782300078178667,0.15160612670379967,0.18043259118583752,0.20284876263020665,0.17572049421090039,0.16798094314303116,0.2122661272661139,0.20171285931445415,0.20798904591038328,0.19613497756804302,0.179968146680809,0.2124591274384142,0.19203901635037932,0.16675196103853993,0.1695705183132756,0.19150788472216201,0.1602367811234395,0.21035295792533612,0.16244619622439754,0.1871311077344135,0.14406863229124547,0.20476305933760514,0.18801329571129993,0.21266715626132243,0.202723605095968,0.2046410829986046,0.16669139652435275,0.20022114353304762,0.19391808678125347,0.16334738129912543,0.17260218739956157,0.1909030786091934,0.17681167094853933,0.1761525261188385,0.14940021837107326,0.2123086206307796,0.21549445234284192,0.21024024494384194,0.19489411913390517,0.19941404047584088,0.16167897503578946,0.19843849937233496,0.14521184574865545,0.19088371749411756,0.17226108502128804,0.13669137870536052,0.18464374542921058,0.18925382838574933,0.17730145033128555,0.17150976473682214,0.1864945296267141,0.20797669628283172],\"xaxis\":\"x\",\"yaxis\":\"y\"},{\"alignmentgroup\":\"True\",\"hovertemplate\":\"rel_2ndWon=%{x}<extra></extra>\",\"legendgroup\":\"\",\"marker\":{\"color\":\"rgb(76,114,176)\"},\"name\":\"\",\"notched\":true,\"offsetgroup\":\"\",\"showlegend\":false,\"type\":\"box\",\"x\":[0.26073943530386795,0.22159647340181102,0.1960689415570801,0.19968233943694394,0.1614013872892184,0.21892027950760373,0.20681002484636413,0.19849175237543829,0.19755397021124538,0.22866485686219537,0.17673063780723833,0.22924209593817316,0.15359844751061488,0.17777404701868563,0.1113370425313685,0.20782940736024227,0.23425255448940138,0.2141118166956114,0.19596888628315454,0.18306427447439838,0.17107560154450677,0.17299682187992593,0.20019881896058225,0.22614668286049444,0.17861651776818013,0.19208741555484385,0.18422328915169192,0.23114160191839317,0.21593262309165023,0.1643280854731537,0.18367388726875147,0.17457492160147894,0.18700869182515836,0.2136613101462947,0.17052732874778942,0.17961192334483128,0.13744380958149754,0.20653463298018612,0.2161438993430412,0.18728240922127629,0.15988419823036376,0.19474871372916505,0.17394630292273158,0.19502513835114224,0.1551263393400684,0.20191437342939927,0.18498153079024796,0.20133773754296727,0.19159472717477766,0.1792554695133415,0.21271683084514362,0.22348030492830964,0.2062398171299835,0.20946694523233148,0.21254105827550135,0.20072364329238612,0.17375647768806432,0.1794323012010698,0.2237925472092838,0.1967210482718569,0.11385041929847421,0.1286148096900372,0.15938211620322157,0.1589006440030701,0.2022119306946436,0.20939647648492557,0.17863774017958828,0.21756185309360834,0.18430991810457284,0.21820177992254056,0.16461152354358502,0.16287529455336613,0.1613012479774833,0.15737147304500465,0.18746695894751883,0.15834808699207462,0.10335250925952268,0.2171825858281996,0.168467903062359,0.1614461029856318,0.20889410834831262,0.16255788914878522,0.20797537420970347,0.1663185879091205,0.1886971960009443,0.18548139288495868,0.169380739312486,0.19149719927425637,0.1254675319738618,0.13829337245782655,0.15860237008888511,0.15514488147232194,0.20813265956335522,0.16931155674850726,0.11669888043651734,0.19390507757508385,0.15362448910724344,0.2099940810747285,0.16862682399929463,0.21310031383233546,0.2110847478396385,0.19732676196405563,0.12429284016447048,0.1792977415431625,0.1922613802315388,0.15267343152421126,0.17691379184259226,0.19230519487336942,0.1897468401496446,0.21661084802078884,0.20846484363750106,0.18704953120142126,0.18734571753901488,0.1894152493474988,0.18362131470648688,0.18003531243444845,0.19026962091143945,0.18212369427121528,0.2246604699702475,0.20858361659267674,0.12531528712178638,0.22693778950099858,0.21733975087490567,0.17904679750400296,0.17402240233295616,0.16436463621799177,0.14146482925411338,0.19040095692115247,0.171980077624929,0.19452043531920735,0.13787624519724465,0.16987994569838086,0.15545996332271203,0.1634760477248688,0.1517610910353102,0.15313500830838092,0.11279195946917844,0.1984599431506231,0.1896893036796535,0.1900298573268738,0.20871573505636123,0.16215732763745552,0.154050331113821,0.14361356051420798,0.2085844078324135,0.20714887877691418,0.15050420501997158,0.15248629703852548,0.1579741766653143,0.22029269827497888,0.22192021793760483,0.2088150734664113,0.2219672356239468,0.20179598278539262,0.1861565787130726,0.19380475916570422,0.20683153674419436,0.16032767475664209,0.18524310539826538,0.21081771469681856,0.1807432611954786,0.21674657894884508,0.19287772553973784,0.1438671003383596,0.1401637692658952,0.19994080316836224,0.19957017299030858,0.144952528320875,0.18352154727294956,0.17598220502991863,0.16417247826461745,0.16040814659205388,0.16925610032693578,0.16899940764599092,0.17979381202144562,0.14432712747842136,0.17157617560419025,0.1898201014560259,0.18962821828213253,0.20161597206701318,0.23375098909354433,0.16520126933707946,0.1364909756976975,0.21802086561707631,0.21536117944268843,0.17814638268779198,0.17597531789300122,0.1837949168289467,0.20101271741006543,0.18499559024161483,0.14721578510415478,0.2121131546877523,0.20747771150906003,0.16636053433031536,0.19434617551811567,0.1896361561521638,0.1961777218814238,0.19921787467883764,0.19605359060547722,0.1845268922638996,0.205951715373316,0.19171918430661417,0.16974386679165474,0.2138097695291928,0.17340959342293857,0.18133858333012698,0.1806015303589427,0.19767975814886132,0.11592812117959787,0.16303790269864865,0.1788738383616227,0.19486579185338304,0.17986175257619139,0.20789455125773149,0.21023810331128548,0.15878281168818362,0.1931828116331594,0.1588443050009068,0.18046436069387348,0.1877120812498052,0.17905467391993185,0.21789262433658688,0.1512559220712791,0.17514477466215575,0.1994249206080473,0.15335566898590391,0.17350052697035637,0.18241531250120704,0.16095551969204624,0.1895350127379976,0.15648995518973824,0.18610260829319025,0.16366836977929997,0.19623556626502028,0.20972854183790207,0.1982888384074362,0.18376188071561025,0.20564815493577215,0.12983240113486877,0.18805058547693407,0.18847386007029077,0.1861115844436336,0.16707687250663958,0.23792647208651801,0.17599874252928557,0.16983531098906002,0.18577093144352128,0.19168122440918708,0.16415140599933523,0.2140245853622745,0.18768821614400968,0.16225249517211376,0.19089593288380657,0.19313707957842666,0.19214322061386754,0.1850909809388663,0.22033711930625022,0.1653042699029768,0.21116878669632963,0.21698283993088827,0.18449540928075986,0.20715663279558386,0.17470330288034921,0.168488921056401,0.16995593423661084,0.15122303899848477,0.20385154625548735,0.21377384979491618,0.1556414182247876,0.14012676461910303,0.15447892788848314,0.17867642584388388,0.17131596926122022,0.17814773458005553,0.17574025520718828,0.1708487491097301,0.18471119933126828,0.19695346799764285,0.16742572870104516,0.2604429864537057,0.19979885188861715,0.1968497991329192,0.1969872598926179,0.1850243569917495,0.17335238188409566,0.2015188024440078,0.20990145470183216,0.19773740972199946,0.1800742572855879,0.1792659734688548,0.13145688220771926,0.1782534853439152,0.1971494389000489,0.2116340303267195,0.18426262961324258,0.19935631484444022,0.23533766477944443,0.18795007630275037,0.15677802737122823,0.17517307311017136,0.14925960969028315,0.20297764602950363,0.2087208392073355,0.1955663307014004,0.17216735315228543,0.19808814280373208,0.2285777357603746,0.19966479692308015,0.17802712213070174,0.19284319782617323,0.18557172010622766,0.1538873306841893,0.17976307178937084,0.17356722137133998,0.21026779782574562,0.18508831600946735,0.2200825786075144,0.16173329287796934,0.15861234968401985,0.12446407948620908,0.23704769516914853,0.17686681764021037,0.2087373976760121,0.2108543864648274,0.18029834184060106,0.21205024706481995,0.19140736569874897,0.169842792854288,0.19439703110600634,0.18683362264128753,0.17584990537502815,0.21034204392325967,0.175573471410181,0.1964656378017844,0.20824074685097882,0.20854278311975005,0.18386663290281496,0.19535665609053854,0.1615237661068392,0.20021527735564054,0.2006724045810217,0.18223520736006524,0.15957655649092933,0.20525829492987463,0.20197250498211633,0.208183948349196,0.1747657826410938,0.19317639325327207,0.20181347720568477,0.217525571662017,0.15082991501650309,0.2428841305740495,0.17184894551776764,0.16624286830612917,0.20534080161407048,0.19970669720309592,0.20446586755033808,0.18919632323093794,0.18995474073490753,0.1565747799938492,0.13167756067890876,0.1831452102253723,0.20059362391220123,0.18038172653473905,0.1851586578817386,0.20339476432367568,0.18558428655194853,0.1690763157188514,0.1836872572199764,0.1620207166098297,0.1988566013876338,0.20789412325803827,0.20229797501495422,0.18058045183572835,0.17773115947155937,0.16908728213490776,0.20284826365945577,0.1897617063754265,0.15184866196237215,0.18738836635977105,0.17364130803183034,0.20654496670855052,0.2280571451343458,0.21594020563485003,0.16589509129822635,0.21941479000263533,0.16903610232082408,0.10235524815196895,0.22212508390782282,0.21251083563273304,0.18429712019684763,0.18461929200267874,0.18147625623386854,0.17943360050662258,0.18473874203004217,0.1891592163904278,0.19763945821337925,0.14164870269221544,0.21307849992615324,0.16064283221513462,0.15620640046209838,0.20348370729614323,0.20372763839167135,0.18739977779911712,0.21324207245832755,0.1876054526189294,0.20437124691595682,0.2087189766130966,0.2271742861318464,0.2179060708001661,0.19718333211913214,0.16326323148681965,0.1733166073367275,0.19649524379586095,0.15421865224348108,0.15556929605716108,0.20302888878172726,0.22159636843934855,0.22501327207681024,0.21314620175079857,0.19950158821860922,0.17540447045328406,0.1812063207481455,0.19882783555410796,0.1788501524645989,0.17278806308779332,0.18627796231328742,0.17131983336606868,0.19094341371277115,0.2006165891937187,0.17927488906994068,0.15139267633027428,0.16661786455537916,0.17738757047994694,0.14287178167473177,0.23476030552165497,0.20713155766599087,0.1997603178911048,0.14849402545452056,0.1479482678748769,0.20379645037881886,0.16100245702321828,0.20542311195538032,0.20840799638830423,0.17537271363068868,0.13844768656323642,0.16059351699211208,0.21320279141003692,0.18699641980567774,0.201708501037742,0.2013124193007684,0.2194830188064626,0.18036816683492113,0.13837054369057472,0.15582039618035992,0.18752558053499513,0.1798183796909042,0.17883748093557894,0.17661215089745014,0.17232976797687635,0.22287526608400896,0.1791610904527375,0.20271652398065843,0.17468685215422633,0.19463966290394713,0.1972884233770032,0.19519080570297637,0.21376028409457656,0.18588375924616718,0.17510364256869823,0.17962945160462648,0.193261206321277,0.20543623695074717,0.21027814389879057,0.21182315409713387,0.17635675516722685,0.19191490237351844,0.1867814912153843,0.19730396202575917,0.20637076988150263,0.19340865115075412,0.1668386451076556,0.14281703826709194,0.11598528521817086,0.19136557784200142,0.1935056633690873,0.20960570717742216,0.172949989390535,0.22663021416712584,0.1880766053644917,0.18146990849434996,0.19058344433097354,0.15275234273677793,0.1919882441376574,0.18947551942717492,0.2247360509826431,0.19761967282032275,0.17535266084507797,0.18492734444839473,0.1922883541034882,0.15823356160444466,0.20450795835819185,0.19249535188250141,0.17924856616265422,0.18367697774125097,0.20589782778539645,0.2112444002494608,0.219638734880634,0.2145768864351668,0.1767314043185752,0.213760516409467,0.1619612889106596,0.1990816975044278,0.21335913606425416,0.19447594139540844,0.20288311264892955,0.1906518899797583,0.19128415201700005,0.2045850526774636,0.12552396447466227,0.20356378089585458,0.1597021888632527,0.15034473226273903,0.19339714401899205,0.19871295837811564,0.20494291671102127,0.16501509587447918,0.18745961137566208,0.13541506073749748,0.2151603405329924,0.1730037033206534,0.2131758411864024,0.19163725127063402,0.22835657521929487,0.19968935191462123,0.22721728339814712,0.21801603114048532,0.19019448104431913,0.16261535196589463,0.23135444008300604,0.15155525157319857,0.16633094907946028,0.16748975757939602,0.20096052333003697,0.12505070643622657,0.17602072890470158,0.19901351632840306,0.1927242048688597,0.19376476357745645,0.19523663957185372,0.18444223439750967,0.20531793343208668,0.12974250614384183,0.1833953910291001,0.19675950845017523,0.2271178625596126,0.19259178152980985,0.20699031191889813,0.2155465722142362,0.1802424330439454,0.17666659703783089,0.17087603926497008,0.14049497663927113,0.18353466691826859,0.24569685954730733,0.17915824091389015,0.19300920298303387,0.20854162328974793,0.20729263064800948,0.18265887281716928,0.18361420081484775,0.22939473145980857,0.1950806305957481,0.20637172959955494,0.15330692027394605,0.2023452496819364,0.22684172640151765,0.21543410221308365,0.19812171472070766,0.24437833523613914,0.19025853345903215,0.2337269391215785,0.16585914933179957,0.16273044628672784,0.19595900998602117,0.19104094779395375,0.17512766488385018,0.14693382250736103,0.1666255959676699,0.2197784043357758,0.17646863111622432,0.2173414350336566,0.1773215355351818,0.19579052940243227,0.22020120678287558,0.22198028082060292,0.17016912249400973,0.1594837781280734,0.18770416817158145,0.20863770032087792,0.2053988959767342,0.20134253540194397,0.2085942288296328,0.2040718775996704,0.19626947632466593,0.12602315938811343,0.19792648111714603,0.1697603719314962,0.18762507867217146,0.17456482636497453,0.183393766829214,0.18657224339297,0.20823763610476323,0.15838154628467563,0.19356454230053471,0.18144151685137117,0.20580338855783967,0.16777769854040453,0.17562525478196211,0.184466995192344,0.19537324631596004,0.19229973136215336,0.19531922515767922,0.1692965559691651,0.18473301667868167,0.1638003432074585,0.17170480415376435,0.1818586202436052,0.18971496580267544,0.16232389823000712,0.17121475097559066,0.17036440281795992,0.1858757933791694,0.18330524604913195,0.2064762023134967,0.16104224529679806,0.1902193885052647,0.18350928521527907,0.19331464064842027,0.20542449164993937,0.18348465959254232,0.19991692853098614,0.1555734292832467,0.19231599622031742,0.20162887162484253,0.19657825165365264,0.15598804161276053,0.18724265821731875,0.16140209601517896,0.19087170756071775,0.2197989234122253,0.18277052606648528,0.21308452097306627,0.18466699410494677,0.21511101603573962,0.14115235658752126,0.18581252048453023,0.141741715072572,0.19643534138536328,0.20734964170100723,0.22210071267261486,0.15364473529859,0.20525902899530765,0.15778713603211844,0.13806171533129155,0.1544882171085689,0.21432927252421155,0.148240990896467,0.19391730468802945,0.19057818968399184,0.08588445293783133,0.19684516788248554,0.16733493694335244,0.19588677016718653,0.17120764190097976,0.18147655257612344,0.19901720300848474,0.18454026157254522,0.20482557364908452,0.1876013355183637,0.22464197716013398,0.22555321360648756,0.16857710124263747,0.1837719211557371,0.19913594074956567,0.20666253182312455,0.17665871398084138,0.1878387603059043,0.21097879305737882,0.19698151416476295,0.1547431202503944,0.2053382403560923,0.18381145513491678,0.18168664768842022,0.19036165656618137,0.16913642550164612,0.17908636234334413,0.17826853040289664,0.2102032952991566,0.16678407700376335,0.15262601267757447,0.1533349591949087,0.1783516378945424,0.1584144597223425,0.14960649517748248,0.15520721770983936,0.13258801895627806,0.13893616386422378,0.12795404194757035,0.20141596263590578,0.1904405435787152,0.11811494617993841,0.18912639539232437,0.16973727833344324,0.20964868371772957,0.14210338354526983,0.19126730759228772,0.19717824446946844,0.17125857451061585,0.19408245205265803,0.22338051526789546,0.19417783734252653,0.14443861297078522,0.1597518425436559,0.1806020041610405,0.18609978220721007,0.17703763927956914,0.16378273367344345,0.17800572009206309,0.18812477972673572,0.15941268129825456,0.14513834770601755,0.2172791734413324,0.16618757349964558,0.18455046228597163,0.1648060375404079,0.20038526044488114,0.14127131220752545,0.1416831973142165,0.17020725727143673,0.14387767369781063,0.17888181884754217,0.18608337432101987,0.2006793972027102,0.19467457805638083,0.23273732228984095,0.20234667967640824,0.15968870712218206,0.15100604142985552,0.1659311323692998,0.1816624320691284,0.18617958045089103,0.1990223836725061,0.18862913165231668,0.17372135194812777,0.16903235560663868,0.15048803159218035,0.2154713453729658,0.1903994968083611,0.18672577624028341,0.20900397832654105,0.2137423840553017,0.18335196525887676,0.1887554808568904,0.16843327386954435,0.18810998228186593,0.16900944781789262,0.12324224663447304,0.17984111771337208,0.19613520801949455,0.19559759008749283,0.22357957847101362,0.21603098227324868,0.1769703166447753,0.19109563323424747,0.22644750942054345,0.19679072706029832,0.20641355697802083,0.17998318468504523,0.21674544892240027,0.20034506992895548,0.1744425704428192,0.18893617070177793,0.18924081188139852,0.211800933859903,0.18880247804825145,0.22747807711996926,0.20852730770567188,0.18390152141085186,0.19995680106229208,0.19326304587837076,0.15958512499936028,0.12015275295867182,0.17797771817591776,0.17446640580850611,0.1831541603426674,0.1948395119711142,0.2096420430425833,0.22860786184728846,0.16837704102566411,0.1762878716702269,0.2088811401958943,0.20266083785296837,0.19874927070523604,0.18933291652000975,0.22462194649797568,0.16362886482656375,0.17603701986382386,0.1977252796921443,0.1908864152086692,0.14068153323364158,0.18392036251452115,0.19757593100654447,0.19635018629922982,0.24200053127863067,0.16775821541938488,0.17420705039496,0.20970590617801735,0.2036861723316931,0.23696881603236258,0.19372252143284066,0.17583947334504116,0.18051000088700409,0.20276707467764638,0.1571384182704969,0.15401660322750188,0.18082239596803512,0.18865725143056739,0.18222380976559255,0.14624321517782168,0.1743565013757747,0.14567888052788408,0.15147183394348895,0.16883106929395877,0.2234787450868393,0.17883772759933914,0.13019238871957245,0.21722433938898833,0.20340392474074714,0.21924117454238867,0.14948610958475406,0.19629597439738364,0.18880826839900353,0.21231304480398128,0.18639397878037284,0.18958794888711114,0.17172680669281645,0.2230428315377724,0.20697763827379098,0.17627826019196938,0.18348804407149472,0.1519013457936946,0.18307196941698026,0.22416575934548905,0.19583516724103878,0.13750584630081764,0.1688030506494738,0.20480343533245077,0.1874392141785897,0.18098727298821224,0.18596257599677082,0.18867486512808726,0.20410795657226702,0.20115274679862377,0.20657736048983513,0.1947258600756424,0.20649633671792073,0.1751676321564567,0.2153904323095848,0.20811352680514672,0.17744421012056488,0.20167366890166347,0.1867019986030353,0.15594564371798977,0.19774864804349437,0.19984532627895277,0.1874678026394875,0.19291232326981467,0.21462508015009285,0.13422488267666677,0.20146567311038371,0.2063098034577759,0.1742662234964101,0.1605152555097804,0.19347568053460162,0.18688313206095983,0.19580611606445206,0.21507871835974057,0.14730729599175216,0.19927498701437024,0.17083833091874825,0.17171575240034037,0.18839472711300861,0.13917306867264712,0.13011419534323732,0.16991750413589854,0.20426911155811509,0.20270962947923446,0.19180804300183482,0.16792052239091076,0.1940662135100061,0.23484094117467744,0.12729486905777762,0.21443008211804626,0.19655750519594467,0.19968609045502955,0.21139321807264191,0.18407054688001187,0.14825939384445935,0.2459815599560495,0.17475480433575463,0.1416426573746107,0.2199266459248045,0.16537019331927919,0.1894022829962006,0.18210960334472248,0.19367793803856648,0.20617967471917462,0.18230044499461762,0.16767639360396247,0.18708554934395544,0.21006085720019796,0.21728450103394922,0.15231109163188522,0.18152747072763672,0.21235311571858922,0.11211828469259887,0.17914089276394551,0.1876793357513219,0.19506253672580529,0.1656294798409607,0.182567085891316,0.19361391745612314,0.1805381155857039,0.10793141506755768,0.18667810509519425,0.17463727437309373,0.15205650114188862,0.2094798467929522,0.2103315372066205,0.1563740418725181,0.1604131374355426,0.16100760062687985,0.16797927151579428,0.18718636003148625,0.16247695489303352,0.21297981161798332,0.18518876965477574,0.20699979473774374,0.1751924062869598,0.18416501420559,0.15927694998554326,0.18472101410741204,0.1854264960077726,0.17260547377677968,0.15225609727471437,0.19111043952945708,0.17160305633565603,0.1856573991745876,0.18885247321785034,0.17612896824282528,0.23057930759819575,0.1740605419865864,0.15691573783342777,0.20142298464205743,0.19300172726761042,0.1996930089739277,0.21053694561822855,0.1716929618161912,0.1749403665726089,0.18617674743797344,0.17128009639812086,0.20121347540169618,0.19094585025645638,0.20823043093059454,0.20325268083061748,0.179383626565028,0.19904566816714123,0.20346054261569935,0.19449292621536113,0.19929682493963302,0.20645894874824258,0.19385751952237892,0.1955513720846074,0.18927218065170873,0.12748266830498683,0.19634407902205614,0.2054087788099412,0.14146494258845482,0.16874982283354423,0.21087798099759944,0.17714650325267506,0.18335327500723902,0.19950765856904165,0.17968298093511545,0.22548031226036447,0.18956012255605711,0.21292706854408242,0.18260765537802917,0.2017597651894008,0.1832944248896771,0.17877059596176473,0.20748259963332732,0.19151405063332905,0.18519343158047827,0.2128394634775702,0.17747227819720102,0.2045966088756647,0.19414520620710846,0.1848213097939067,0.18767507229414607,0.226737802354158,0.17358972623713625,0.22291642109959076,0.17528208916338822,0.19953905274223419,0.15936932422987343,0.15315077588946074,0.1832311277812477,0.19000176881566808,0.1965453424330755,0.17912334241573832,0.26894269344334304,0.147678239540206,0.19748609132619463,0.19890970353250018,0.17106480487773104,0.19022740417413095,0.15922599582706792,0.14158711163316665,0.2038228751351919,0.22449185484307757,0.21798589182268632,0.19795543915616856,0.16967254957054168,0.22033059109763845,0.20219139885741128,0.21195742037522267,0.17723879016504823,0.19363098255155278,0.18226923770310016,0.20425869576270925,0.21312957625582676,0.21294871578876476,0.21470955013636508,0.17307025249429117,0.17926891322186123,0.19937008696618133,0.1519180417395222,0.20791704161289518,0.20201378031234507,0.19186327879568957,0.22987796263793048,0.18263026824127845,0.1915492104439277,0.16420545161572306,0.20123670900089827,0.18004169200155695,0.16757992635804778,0.1999401885057011,0.18122934751041866,0.20638381737891473,0.20721737996541365,0.1878409436659368,0.2047589915534641,0.23012310123133867,0.16329397115160113,0.18379334582124188,0.18211627661189447,0.207716901793297,0.126655024787496,0.1935579073198689,0.143304604907574,0.11823744788267561,0.18587223313800746,0.1865089420139154,0.21264959162972547,0.16324841657995745,0.16291500118500318,0.17820624859884043,0.14623991058826927,0.20800105371428085,0.2066104459515606,0.20422223279932664,0.1824322757597496,0.2164656659566049,0.17715944979436926,0.14095222971122603,0.2013575433604463,0.18137870584227717,0.19390789818081255,0.1885888354706508,0.18815347632493584,0.20138470406988812,0.21265823164588496,0.18521132718155756,0.1804528235835639,0.20743421585906438,0.21142707378731437,0.18470812675332748,0.2208570816951534,0.20688095323985387,0.17550649158538484,0.21079865120527805,0.2373051591206499,0.20179209292787084,0.1697337438031914,0.18363313359732403,0.17179147861288516,0.19419573018699363,0.18928767594502433,0.2061321793175188,0.18416585221046144,0.1679349562098504,0.20684592898199616,0.2055936230313955,0.2018184446667938,0.19003532220912753,0.20550731342224926,0.2221898661459504,0.17725278538861117,0.1901656428007117,0.19248928651174552,0.19434202763272404,0.19594755218810925,0.1832013210087839,0.16805100031424114,0.14315355541042457,0.15722544615548514,0.19351904518952823,0.19984385552543865,0.15204723914831952,0.20512878460206432,0.2098723546425686,0.2200989110661089,0.20309821176799733,0.1728396531283307,0.17678622408012787,0.20317444439594515,0.180293370516784,0.1980349140912248,0.2121135637245014,0.21838210636108246,0.18730553811257697,0.20277441043129094,0.08235034446805697,0.13448009135334485,0.1570303321811895,0.229989533130962,0.20366768930144108,0.15394275370610835,0.13606220222317758,0.18487923492963593,0.18377795958847912,0.2164544411733616,0.18569378974877682,0.19088612168326183,0.19549991546273368,0.19889688026961075,0.18910550137147664,0.19634066687867316,0.13812737121718116,0.18334605497756515,0.17851542660958702,0.19565283527625763,0.16676136700221844,0.14120535279320556,0.16296018159550826,0.19741983168673952,0.17125623017135316,0.21611308688173747,0.2226288584957475,0.1692712292117952,0.16279946486645955,0.21214489509907414,0.1363900393041798,0.1987305729305794,0.2166303826034584,0.15491973319529204,0.16056115693258338,0.15954260203786821,0.1898503816133551,0.15070466392453208,0.15898706435008714,0.17490025261286998,0.13798632467632083,0.22208550752291872,0.1857472526362973,0.18765300290513856,0.23103524239514797,0.1954729833700936,0.1980771146083729,0.21202779868698404,0.2326402069488241,0.21229407810543907,0.21450863502258868,0.20048679381037107,0.22059567974653602,0.18661909452719658,0.1841251760272939,0.1905958424062021,0.19252269136352806,0.1569333886028044,0.17027938873641804,0.16490306579029987,0.15507349233840695,0.18437275780309662,0.23268694572965626,0.16786824847776685,0.19158122327935162,0.18768161581652623,0.1693279068878854,0.15019657200303954,0.15872997663954186,0.18369208225961567,0.191849189856255,0.19232808244219451,0.1920387585205056,0.21397897396741802,0.16483986351500748,0.12352685551654405,0.19508857855383696,0.17685572077127137,0.19537875751205272,0.14444910331630226,0.1351274319944908,0.19354911812798956,0.15046738088948142,0.19457138440490032,0.20173927649941015,0.2061288348249172,0.1723224504386273,0.18578009516703192,0.2072770270798232,0.19036160713557446,0.18235025013796496,0.2021749464168789,0.21291649787229333,0.16905434426361432,0.18642471776402342,0.16927404365996415,0.23348163737518235,0.20482423971638597,0.20276765064654806,0.1746171726012365,0.1594069218407968,0.14047608376272955,0.1862759143486697,0.20872358264550303,0.2144746003877302,0.17747535631661532,0.19181044557016075,0.22337016888013578,0.21721058667352958,0.16857649919674686,0.2005020590420827,0.15532416704316532,0.19471298799893155,0.1979491879214604,0.2047326779481405,0.21708105936759234,0.18328597737111538,0.2018961382966434,0.18489894656018552,0.19481838858406594,0.2001264753197116,0.17876050971530558,0.19096174659646478,0.21177175733684708,0.1857104416715707,0.21747504646344418,0.15448136329895432,0.1714086660673743,0.17308676179306134,0.1838880711210777,0.19852601998376335,0.15164180013670703,0.13137396646253394,0.15658099384444393,0.15290576191010044,0.15798643160628165,0.16418829310750702,0.18582687423732977,0.15566001123260062,0.2136969261169255,0.17387985938419206,0.20077781952730125,0.1680364100676323,0.17174485842186685,0.19667025197790808,0.1870056395324893,0.15474749733422066,0.12631464108183568,0.13596462720177702,0.20818574132422463,0.18059787235373456,0.17657665473527395,0.12564639949915257,0.19439490425428643,0.15341162838085481,0.14238216954278912,0.2077186827342285,0.14480975355537715,0.18975471287066747,0.20071320952543512,0.16918839117248705,0.16540083845590847,0.16182967368242387,0.19202489021682367,0.20571564481074792,0.2035978456901071,0.21150275893520393,0.19857149784822434,0.17821839067228093,0.18854060832897693,0.12572809808899316,0.19553445695106503,0.20025808499628336,0.15893327843564567,0.15706420440527263,0.187283879643529,0.20317186194687978,0.15447108821134645,0.14765344307470726,0.1782300078178667,0.15160612670379967,0.18043259118583752,0.20284876263020665,0.17572049421090039,0.16798094314303116,0.2122661272661139,0.20171285931445415,0.20798904591038328,0.19613497756804302,0.179968146680809,0.2124591274384142,0.19203901635037932,0.16675196103853993,0.1695705183132756,0.19150788472216201,0.1602367811234395,0.21035295792533612,0.16244619622439754,0.1871311077344135,0.14406863229124547,0.20476305933760514,0.18801329571129993,0.21266715626132243,0.202723605095968,0.2046410829986046,0.16669139652435275,0.20022114353304762,0.19391808678125347,0.16334738129912543,0.17260218739956157,0.1909030786091934,0.17681167094853933,0.1761525261188385,0.14940021837107326,0.2123086206307796,0.21549445234284192,0.21024024494384194,0.19489411913390517,0.19941404047584088,0.16167897503578946,0.19843849937233496,0.14521184574865545,0.19088371749411756,0.17226108502128804,0.13669137870536052,0.18464374542921058,0.18925382838574933,0.17730145033128555,0.17150976473682214,0.1864945296267141,0.20797669628283172],\"xaxis\":\"x2\",\"yaxis\":\"y2\"}],                        {\"barmode\":\"relative\",\"legend\":{\"tracegroupgap\":0},\"margin\":{\"t\":60},\"template\":{\"data\":{\"bar\":[{\"error_x\":{\"color\":\"rgb(36,36,36)\"},\"error_y\":{\"color\":\"rgb(36,36,36)\"},\"marker\":{\"line\":{\"color\":\"rgb(234,234,242)\",\"width\":0.5},\"pattern\":{\"fillmode\":\"overlay\",\"size\":10,\"solidity\":0.2}},\"type\":\"bar\"}],\"barpolar\":[{\"marker\":{\"line\":{\"color\":\"rgb(234,234,242)\",\"width\":0.5},\"pattern\":{\"fillmode\":\"overlay\",\"size\":10,\"solidity\":0.2}},\"type\":\"barpolar\"}],\"carpet\":[{\"aaxis\":{\"endlinecolor\":\"rgb(36,36,36)\",\"gridcolor\":\"white\",\"linecolor\":\"white\",\"minorgridcolor\":\"white\",\"startlinecolor\":\"rgb(36,36,36)\"},\"baxis\":{\"endlinecolor\":\"rgb(36,36,36)\",\"gridcolor\":\"white\",\"linecolor\":\"white\",\"minorgridcolor\":\"white\",\"startlinecolor\":\"rgb(36,36,36)\"},\"type\":\"carpet\"}],\"choropleth\":[{\"colorbar\":{\"outlinewidth\":0,\"tickcolor\":\"rgb(36,36,36)\",\"ticklen\":8,\"ticks\":\"outside\",\"tickwidth\":2},\"type\":\"choropleth\"}],\"contour\":[{\"colorbar\":{\"outlinewidth\":0,\"tickcolor\":\"rgb(36,36,36)\",\"ticklen\":8,\"ticks\":\"outside\",\"tickwidth\":2},\"colorscale\":[[0.0,\"rgb(2,4,25)\"],[0.06274509803921569,\"rgb(24,15,41)\"],[0.12549019607843137,\"rgb(47,23,57)\"],[0.18823529411764706,\"rgb(71,28,72)\"],[0.25098039215686274,\"rgb(97,30,82)\"],[0.3137254901960784,\"rgb(123,30,89)\"],[0.3764705882352941,\"rgb(150,27,91)\"],[0.4392156862745098,\"rgb(177,22,88)\"],[0.5019607843137255,\"rgb(203,26,79)\"],[0.5647058823529412,\"rgb(223,47,67)\"],[0.6274509803921569,\"rgb(236,76,61)\"],[0.6901960784313725,\"rgb(242,107,73)\"],[0.7529411764705882,\"rgb(244,135,95)\"],[0.8156862745098039,\"rgb(245,162,122)\"],[0.8784313725490196,\"rgb(246,188,153)\"],[0.9411764705882353,\"rgb(247,212,187)\"],[1.0,\"rgb(250,234,220)\"]],\"type\":\"contour\"}],\"contourcarpet\":[{\"colorbar\":{\"outlinewidth\":0,\"tickcolor\":\"rgb(36,36,36)\",\"ticklen\":8,\"ticks\":\"outside\",\"tickwidth\":2},\"type\":\"contourcarpet\"}],\"heatmap\":[{\"colorbar\":{\"outlinewidth\":0,\"tickcolor\":\"rgb(36,36,36)\",\"ticklen\":8,\"ticks\":\"outside\",\"tickwidth\":2},\"colorscale\":[[0.0,\"rgb(2,4,25)\"],[0.06274509803921569,\"rgb(24,15,41)\"],[0.12549019607843137,\"rgb(47,23,57)\"],[0.18823529411764706,\"rgb(71,28,72)\"],[0.25098039215686274,\"rgb(97,30,82)\"],[0.3137254901960784,\"rgb(123,30,89)\"],[0.3764705882352941,\"rgb(150,27,91)\"],[0.4392156862745098,\"rgb(177,22,88)\"],[0.5019607843137255,\"rgb(203,26,79)\"],[0.5647058823529412,\"rgb(223,47,67)\"],[0.6274509803921569,\"rgb(236,76,61)\"],[0.6901960784313725,\"rgb(242,107,73)\"],[0.7529411764705882,\"rgb(244,135,95)\"],[0.8156862745098039,\"rgb(245,162,122)\"],[0.8784313725490196,\"rgb(246,188,153)\"],[0.9411764705882353,\"rgb(247,212,187)\"],[1.0,\"rgb(250,234,220)\"]],\"type\":\"heatmap\"}],\"heatmapgl\":[{\"colorbar\":{\"outlinewidth\":0,\"tickcolor\":\"rgb(36,36,36)\",\"ticklen\":8,\"ticks\":\"outside\",\"tickwidth\":2},\"colorscale\":[[0.0,\"rgb(2,4,25)\"],[0.06274509803921569,\"rgb(24,15,41)\"],[0.12549019607843137,\"rgb(47,23,57)\"],[0.18823529411764706,\"rgb(71,28,72)\"],[0.25098039215686274,\"rgb(97,30,82)\"],[0.3137254901960784,\"rgb(123,30,89)\"],[0.3764705882352941,\"rgb(150,27,91)\"],[0.4392156862745098,\"rgb(177,22,88)\"],[0.5019607843137255,\"rgb(203,26,79)\"],[0.5647058823529412,\"rgb(223,47,67)\"],[0.6274509803921569,\"rgb(236,76,61)\"],[0.6901960784313725,\"rgb(242,107,73)\"],[0.7529411764705882,\"rgb(244,135,95)\"],[0.8156862745098039,\"rgb(245,162,122)\"],[0.8784313725490196,\"rgb(246,188,153)\"],[0.9411764705882353,\"rgb(247,212,187)\"],[1.0,\"rgb(250,234,220)\"]],\"type\":\"heatmapgl\"}],\"histogram\":[{\"marker\":{\"pattern\":{\"fillmode\":\"overlay\",\"size\":10,\"solidity\":0.2}},\"type\":\"histogram\"}],\"histogram2d\":[{\"colorbar\":{\"outlinewidth\":0,\"tickcolor\":\"rgb(36,36,36)\",\"ticklen\":8,\"ticks\":\"outside\",\"tickwidth\":2},\"colorscale\":[[0.0,\"rgb(2,4,25)\"],[0.06274509803921569,\"rgb(24,15,41)\"],[0.12549019607843137,\"rgb(47,23,57)\"],[0.18823529411764706,\"rgb(71,28,72)\"],[0.25098039215686274,\"rgb(97,30,82)\"],[0.3137254901960784,\"rgb(123,30,89)\"],[0.3764705882352941,\"rgb(150,27,91)\"],[0.4392156862745098,\"rgb(177,22,88)\"],[0.5019607843137255,\"rgb(203,26,79)\"],[0.5647058823529412,\"rgb(223,47,67)\"],[0.6274509803921569,\"rgb(236,76,61)\"],[0.6901960784313725,\"rgb(242,107,73)\"],[0.7529411764705882,\"rgb(244,135,95)\"],[0.8156862745098039,\"rgb(245,162,122)\"],[0.8784313725490196,\"rgb(246,188,153)\"],[0.9411764705882353,\"rgb(247,212,187)\"],[1.0,\"rgb(250,234,220)\"]],\"type\":\"histogram2d\"}],\"histogram2dcontour\":[{\"colorbar\":{\"outlinewidth\":0,\"tickcolor\":\"rgb(36,36,36)\",\"ticklen\":8,\"ticks\":\"outside\",\"tickwidth\":2},\"colorscale\":[[0.0,\"rgb(2,4,25)\"],[0.06274509803921569,\"rgb(24,15,41)\"],[0.12549019607843137,\"rgb(47,23,57)\"],[0.18823529411764706,\"rgb(71,28,72)\"],[0.25098039215686274,\"rgb(97,30,82)\"],[0.3137254901960784,\"rgb(123,30,89)\"],[0.3764705882352941,\"rgb(150,27,91)\"],[0.4392156862745098,\"rgb(177,22,88)\"],[0.5019607843137255,\"rgb(203,26,79)\"],[0.5647058823529412,\"rgb(223,47,67)\"],[0.6274509803921569,\"rgb(236,76,61)\"],[0.6901960784313725,\"rgb(242,107,73)\"],[0.7529411764705882,\"rgb(244,135,95)\"],[0.8156862745098039,\"rgb(245,162,122)\"],[0.8784313725490196,\"rgb(246,188,153)\"],[0.9411764705882353,\"rgb(247,212,187)\"],[1.0,\"rgb(250,234,220)\"]],\"type\":\"histogram2dcontour\"}],\"mesh3d\":[{\"colorbar\":{\"outlinewidth\":0,\"tickcolor\":\"rgb(36,36,36)\",\"ticklen\":8,\"ticks\":\"outside\",\"tickwidth\":2},\"type\":\"mesh3d\"}],\"parcoords\":[{\"line\":{\"colorbar\":{\"outlinewidth\":0,\"tickcolor\":\"rgb(36,36,36)\",\"ticklen\":8,\"ticks\":\"outside\",\"tickwidth\":2}},\"type\":\"parcoords\"}],\"pie\":[{\"automargin\":true,\"type\":\"pie\"}],\"scatter\":[{\"marker\":{\"colorbar\":{\"outlinewidth\":0,\"tickcolor\":\"rgb(36,36,36)\",\"ticklen\":8,\"ticks\":\"outside\",\"tickwidth\":2}},\"type\":\"scatter\"}],\"scatter3d\":[{\"line\":{\"colorbar\":{\"outlinewidth\":0,\"tickcolor\":\"rgb(36,36,36)\",\"ticklen\":8,\"ticks\":\"outside\",\"tickwidth\":2}},\"marker\":{\"colorbar\":{\"outlinewidth\":0,\"tickcolor\":\"rgb(36,36,36)\",\"ticklen\":8,\"ticks\":\"outside\",\"tickwidth\":2}},\"type\":\"scatter3d\"}],\"scattercarpet\":[{\"marker\":{\"colorbar\":{\"outlinewidth\":0,\"tickcolor\":\"rgb(36,36,36)\",\"ticklen\":8,\"ticks\":\"outside\",\"tickwidth\":2}},\"type\":\"scattercarpet\"}],\"scattergeo\":[{\"marker\":{\"colorbar\":{\"outlinewidth\":0,\"tickcolor\":\"rgb(36,36,36)\",\"ticklen\":8,\"ticks\":\"outside\",\"tickwidth\":2}},\"type\":\"scattergeo\"}],\"scattergl\":[{\"marker\":{\"colorbar\":{\"outlinewidth\":0,\"tickcolor\":\"rgb(36,36,36)\",\"ticklen\":8,\"ticks\":\"outside\",\"tickwidth\":2}},\"type\":\"scattergl\"}],\"scattermapbox\":[{\"marker\":{\"colorbar\":{\"outlinewidth\":0,\"tickcolor\":\"rgb(36,36,36)\",\"ticklen\":8,\"ticks\":\"outside\",\"tickwidth\":2}},\"type\":\"scattermapbox\"}],\"scatterpolar\":[{\"marker\":{\"colorbar\":{\"outlinewidth\":0,\"tickcolor\":\"rgb(36,36,36)\",\"ticklen\":8,\"ticks\":\"outside\",\"tickwidth\":2}},\"type\":\"scatterpolar\"}],\"scatterpolargl\":[{\"marker\":{\"colorbar\":{\"outlinewidth\":0,\"tickcolor\":\"rgb(36,36,36)\",\"ticklen\":8,\"ticks\":\"outside\",\"tickwidth\":2}},\"type\":\"scatterpolargl\"}],\"scatterternary\":[{\"marker\":{\"colorbar\":{\"outlinewidth\":0,\"tickcolor\":\"rgb(36,36,36)\",\"ticklen\":8,\"ticks\":\"outside\",\"tickwidth\":2}},\"type\":\"scatterternary\"}],\"surface\":[{\"colorbar\":{\"outlinewidth\":0,\"tickcolor\":\"rgb(36,36,36)\",\"ticklen\":8,\"ticks\":\"outside\",\"tickwidth\":2},\"colorscale\":[[0.0,\"rgb(2,4,25)\"],[0.06274509803921569,\"rgb(24,15,41)\"],[0.12549019607843137,\"rgb(47,23,57)\"],[0.18823529411764706,\"rgb(71,28,72)\"],[0.25098039215686274,\"rgb(97,30,82)\"],[0.3137254901960784,\"rgb(123,30,89)\"],[0.3764705882352941,\"rgb(150,27,91)\"],[0.4392156862745098,\"rgb(177,22,88)\"],[0.5019607843137255,\"rgb(203,26,79)\"],[0.5647058823529412,\"rgb(223,47,67)\"],[0.6274509803921569,\"rgb(236,76,61)\"],[0.6901960784313725,\"rgb(242,107,73)\"],[0.7529411764705882,\"rgb(244,135,95)\"],[0.8156862745098039,\"rgb(245,162,122)\"],[0.8784313725490196,\"rgb(246,188,153)\"],[0.9411764705882353,\"rgb(247,212,187)\"],[1.0,\"rgb(250,234,220)\"]],\"type\":\"surface\"}],\"table\":[{\"cells\":{\"fill\":{\"color\":\"rgb(231,231,240)\"},\"line\":{\"color\":\"white\"}},\"header\":{\"fill\":{\"color\":\"rgb(183,183,191)\"},\"line\":{\"color\":\"white\"}},\"type\":\"table\"}]},\"layout\":{\"annotationdefaults\":{\"arrowcolor\":\"rgb(67,103,167)\"},\"autotypenumbers\":\"strict\",\"coloraxis\":{\"colorbar\":{\"outlinewidth\":0,\"tickcolor\":\"rgb(36,36,36)\",\"ticklen\":8,\"ticks\":\"outside\",\"tickwidth\":2}},\"colorscale\":{\"sequential\":[[0.0,\"rgb(2,4,25)\"],[0.06274509803921569,\"rgb(24,15,41)\"],[0.12549019607843137,\"rgb(47,23,57)\"],[0.18823529411764706,\"rgb(71,28,72)\"],[0.25098039215686274,\"rgb(97,30,82)\"],[0.3137254901960784,\"rgb(123,30,89)\"],[0.3764705882352941,\"rgb(150,27,91)\"],[0.4392156862745098,\"rgb(177,22,88)\"],[0.5019607843137255,\"rgb(203,26,79)\"],[0.5647058823529412,\"rgb(223,47,67)\"],[0.6274509803921569,\"rgb(236,76,61)\"],[0.6901960784313725,\"rgb(242,107,73)\"],[0.7529411764705882,\"rgb(244,135,95)\"],[0.8156862745098039,\"rgb(245,162,122)\"],[0.8784313725490196,\"rgb(246,188,153)\"],[0.9411764705882353,\"rgb(247,212,187)\"],[1.0,\"rgb(250,234,220)\"]],\"sequentialminus\":[[0.0,\"rgb(2,4,25)\"],[0.06274509803921569,\"rgb(24,15,41)\"],[0.12549019607843137,\"rgb(47,23,57)\"],[0.18823529411764706,\"rgb(71,28,72)\"],[0.25098039215686274,\"rgb(97,30,82)\"],[0.3137254901960784,\"rgb(123,30,89)\"],[0.3764705882352941,\"rgb(150,27,91)\"],[0.4392156862745098,\"rgb(177,22,88)\"],[0.5019607843137255,\"rgb(203,26,79)\"],[0.5647058823529412,\"rgb(223,47,67)\"],[0.6274509803921569,\"rgb(236,76,61)\"],[0.6901960784313725,\"rgb(242,107,73)\"],[0.7529411764705882,\"rgb(244,135,95)\"],[0.8156862745098039,\"rgb(245,162,122)\"],[0.8784313725490196,\"rgb(246,188,153)\"],[0.9411764705882353,\"rgb(247,212,187)\"],[1.0,\"rgb(250,234,220)\"]]},\"colorway\":[\"rgb(76,114,176)\",\"rgb(221,132,82)\",\"rgb(85,168,104)\",\"rgb(196,78,82)\",\"rgb(129,114,179)\",\"rgb(147,120,96)\",\"rgb(218,139,195)\",\"rgb(140,140,140)\",\"rgb(204,185,116)\",\"rgb(100,181,205)\"],\"font\":{\"color\":\"rgb(36,36,36)\"},\"geo\":{\"bgcolor\":\"white\",\"lakecolor\":\"white\",\"landcolor\":\"rgb(234,234,242)\",\"showlakes\":true,\"showland\":true,\"subunitcolor\":\"white\"},\"hoverlabel\":{\"align\":\"left\"},\"hovermode\":\"closest\",\"paper_bgcolor\":\"white\",\"plot_bgcolor\":\"rgb(234,234,242)\",\"polar\":{\"angularaxis\":{\"gridcolor\":\"white\",\"linecolor\":\"white\",\"showgrid\":true,\"ticks\":\"\"},\"bgcolor\":\"rgb(234,234,242)\",\"radialaxis\":{\"gridcolor\":\"white\",\"linecolor\":\"white\",\"showgrid\":true,\"ticks\":\"\"}},\"scene\":{\"xaxis\":{\"backgroundcolor\":\"rgb(234,234,242)\",\"gridcolor\":\"white\",\"gridwidth\":2,\"linecolor\":\"white\",\"showbackground\":true,\"showgrid\":true,\"ticks\":\"\",\"zerolinecolor\":\"white\"},\"yaxis\":{\"backgroundcolor\":\"rgb(234,234,242)\",\"gridcolor\":\"white\",\"gridwidth\":2,\"linecolor\":\"white\",\"showbackground\":true,\"showgrid\":true,\"ticks\":\"\",\"zerolinecolor\":\"white\"},\"zaxis\":{\"backgroundcolor\":\"rgb(234,234,242)\",\"gridcolor\":\"white\",\"gridwidth\":2,\"linecolor\":\"white\",\"showbackground\":true,\"showgrid\":true,\"ticks\":\"\",\"zerolinecolor\":\"white\"}},\"shapedefaults\":{\"fillcolor\":\"rgb(67,103,167)\",\"line\":{\"width\":0},\"opacity\":0.5},\"ternary\":{\"aaxis\":{\"gridcolor\":\"white\",\"linecolor\":\"white\",\"showgrid\":true,\"ticks\":\"\"},\"baxis\":{\"gridcolor\":\"white\",\"linecolor\":\"white\",\"showgrid\":true,\"ticks\":\"\"},\"bgcolor\":\"rgb(234,234,242)\",\"caxis\":{\"gridcolor\":\"white\",\"linecolor\":\"white\",\"showgrid\":true,\"ticks\":\"\"}},\"xaxis\":{\"automargin\":true,\"gridcolor\":\"white\",\"linecolor\":\"white\",\"showgrid\":true,\"ticks\":\"\",\"title\":{\"standoff\":15},\"zerolinecolor\":\"white\"},\"yaxis\":{\"automargin\":true,\"gridcolor\":\"white\",\"linecolor\":\"white\",\"showgrid\":true,\"ticks\":\"\",\"title\":{\"standoff\":15},\"zerolinecolor\":\"white\"}}},\"xaxis\":{\"anchor\":\"y\",\"domain\":[0.0,1.0],\"title\":{\"text\":\"rel_2ndWon\"}},\"xaxis2\":{\"anchor\":\"y2\",\"domain\":[0.0,1.0],\"matches\":\"x\",\"showticklabels\":false},\"yaxis\":{\"anchor\":\"x\",\"domain\":[0.0,0.8316],\"title\":{\"text\":\"count\"}},\"yaxis2\":{\"anchor\":\"x2\",\"domain\":[0.8416,1.0],\"matches\":\"y2\",\"showline\":false,\"showticklabels\":false,\"ticks\":\"\"}},                        {\"responsive\": true}                    ).then(function(){\n                            \nvar gd = document.getElementById('423a8971-4cd8-4c67-8c3a-3c3d65fa2c00');\nvar x = new MutationObserver(function (mutations, observer) {{\n        var display = window.getComputedStyle(gd).display;\n        if (!display || display === 'none') {{\n            console.log([gd, 'removed!']);\n            Plotly.purge(gd);\n            observer.disconnect();\n        }}\n}});\n\n// Listen for the removal of the full notebook cells\nvar notebookContainer = gd.closest('#notebook-container');\nif (notebookContainer) {{\n    x.observe(notebookContainer, {childList: true});\n}}\n\n// Listen for the clearing of the current output cell\nvar outputEl = gd.closest('.output');\nif (outputEl) {{\n    x.observe(outputEl, {childList: true});\n}}\n\n                        })                };                            </script>        </div>\n</body>\n</html>"
     },
     "metadata": {},
     "output_type": "display_data"
    },
    {
     "data": {
      "text/html": "<html>\n<head><meta charset=\"utf-8\" /></head>\n<body>\n    <div>            <script src=\"https://cdnjs.cloudflare.com/ajax/libs/mathjax/2.7.5/MathJax.js?config=TeX-AMS-MML_SVG\"></script><script type=\"text/javascript\">if (window.MathJax) {MathJax.Hub.Config({SVG: {font: \"STIX-Web\"}});}</script>                <script type=\"text/javascript\">window.PlotlyConfig = {MathJaxConfig: 'local'};</script>\n        <script src=\"https://cdn.plot.ly/plotly-2.4.2.min.js\"></script>                <div id=\"5a9f7814-c4b2-40d2-955b-21d43aa26a82\" class=\"plotly-graph-div\" style=\"height:525px; width:100%;\"></div>            <script type=\"text/javascript\">                                    window.PLOTLYENV=window.PLOTLYENV || {};                                    if (document.getElementById(\"5a9f7814-c4b2-40d2-955b-21d43aa26a82\")) {                    Plotly.newPlot(                        \"5a9f7814-c4b2-40d2-955b-21d43aa26a82\",                        [{\"alignmentgroup\":\"True\",\"bingroup\":\"x\",\"hovertemplate\":\"1WonOn1In=%{x}<br>count=%{y}<extra></extra>\",\"legendgroup\":\"\",\"marker\":{\"color\":\"rgb(76,114,176)\",\"pattern\":{\"shape\":\"\"}},\"name\":\"\",\"offsetgroup\":\"\",\"orientation\":\"v\",\"showlegend\":false,\"type\":\"histogram\",\"x\":[0.7286958876078677,0.719894463604407,0.6869691226408506,0.6972867747993486,0.6182655035610556,0.7061577781292918,0.7049205186789869,0.6981875526940075,0.6407936091790721,0.7385684175176862,0.6504059696107927,0.6935828713921868,0.6442828085175623,0.6482072846605278,0.5733105690249725,0.7179127321364117,0.8296061109317222,0.6987610963400309,0.6845419999752348,0.6188826722786691,0.7108348045343734,0.6696227591437696,0.6540822259934762,0.7108346682982885,0.6526763147633841,0.6017712900518066,0.6935796436071134,0.7504656761740354,0.7388146906890045,0.6900998235632918,0.6254430040906109,0.6232363705260566,0.6114669891539035,0.6987190709806638,0.6410720246205384,0.6623107426212734,0.6361497812437433,0.7365316316533275,0.7081827522069304,0.7389079134034385,0.6322781890712909,0.6639534877416212,0.7033778233619057,0.5877393377331821,0.5792124013161802,0.6414871031179464,0.6949029102057647,0.6563645685378326,0.7496180550480426,0.684371880809357,0.7204795708428782,0.7212251945344568,0.6796700488811012,0.703148466505555,0.6861304111308412,0.7061686921327212,0.6309020983373723,0.7530501747378003,0.7401458416744524,0.7020488690358606,0.5408667650783584,0.5530695197558366,0.6606709838643594,0.6519172373833685,0.7333832381845077,0.7362506196458409,0.6413727305952939,0.7217880273485535,0.6985744923973316,0.6832635128350079,0.6611107505881552,0.6238255688096892,0.6184486105694923,0.6301484564917141,0.6564660327050542,0.6274429878625759,0.5761258393875524,0.7481084904313113,0.6059322060919122,0.5687223691141058,0.7151931553752009,0.6324810357468925,0.6471011236852063,0.6448456223536385,0.6328342597455727,0.6378621373148075,0.6662203780768347,0.6746646752252895,0.5249845501262391,0.563478479382836,0.6505154471772698,0.6064355603653196,0.6441794683990216,0.5860871511514307,0.5786012271032966,0.640747331601134,0.567351583780516,0.7002773474729307,0.6689755280793397,0.6818940128902186,0.6910954827200827,0.6854845947152812,0.5332642977122015,0.6444209699254297,0.6632701869232125,0.6086786597245969,0.6967666667332632,0.6927731452503731,0.6968753868810187,0.7234053130083355,0.7524228228590513,0.6645079910533174,0.7565643032529277,0.6930795188058577,0.5752038105681946,0.6741528231786768,0.7200063538492294,0.6833099434124854,0.7349054196106078,0.7533487168949281,0.42757266776833625,0.7700902453467474,0.7498725564091555,0.6690199684811962,0.647031983121127,0.5869646857678598,0.550448948002275,0.6390406020566018,0.6315126284988983,0.6717811601384663,0.5692804121554491,0.6172272095430066,0.5914732746797488,0.6447928295597632,0.5986280475328346,0.6581239303776474,0.5471200010789107,0.7578290724613109,0.6661666394319342,0.6652070718359407,0.6954925162802541,0.6875389281317272,0.6692338551588851,0.6393623683822681,0.6279553025304675,0.7280495387241043,0.6330074637900567,0.5796044222613691,0.6810687903416289,0.6885968212216359,0.6854587822254056,0.6607696354754794,0.7203955671681894,0.6776375231431614,0.7570879235414516,0.6935002431383809,0.7326639263078086,0.6165008730765291,0.6520101346430657,0.7147454888101322,0.6436827016148441,0.6866232305028561,0.7316227742448366,0.617511001518912,0.5202019473002792,0.7068323829126576,0.6856330390656938,0.6108327954224142,0.6690471586486878,0.6186750730833569,0.6236713479709947,0.5958580726661565,0.6371333898139564,0.615240209783691,0.6514737957549085,0.6491165371326604,0.6796109906642968,0.6545774517364622,0.722532976752359,0.7015470980176802,0.6812443376486119,0.6696558106422832,0.6751311147586125,0.6921790925221557,0.7508822237921774,0.6492830631648462,0.7152548470565384,0.6566021514258001,0.6310318815513247,0.6574905020655716,0.5953756583009594,0.7153892760309075,0.7150883011812097,0.6886597827423762,0.705141723490721,0.7093443956249881,0.6309283166733478,0.726018985075194,0.7391218714352759,0.7266679204854138,0.7515873430766903,0.7392556459914382,0.6338820059513633,0.7318230714498063,0.7042863005324401,0.6883133938793952,0.6588399586954832,0.7271899051339871,0.5659524092658768,0.684987105644653,0.5859145318693819,0.7233964596785486,0.7010246236987956,0.6578586981508898,0.6764967792615902,0.6357974206284737,0.6488537027889436,0.6288887050287074,0.6615381186426256,0.6655481708108687,0.6235224452173656,0.6495466619539438,0.6519960490529071,0.6842484512391805,0.6819978476270948,0.592889455505213,0.6514531127389007,0.6562894342831145,0.6614104544174901,0.709359099842778,0.6186137752043691,0.6299168971027014,0.6315186597113304,0.6673257355839669,0.701072279180847,0.6554798153346241,0.6730940597230306,0.6848537114629133,0.5597301085960805,0.6530264412160189,0.6809696565500454,0.6774473117798382,0.6286254617223052,0.7290836823034862,0.7565986035798228,0.6775658252450656,0.7161034969216595,0.6302489803291358,0.6231475527759686,0.6805660442750893,0.6505969858536914,0.6001108438039531,0.6359999697462521,0.6672852451790482,0.7504379230911049,0.6546671406381858,0.7155695413618777,0.689042746992784,0.6863486489915481,0.6474656599597722,0.6483203392685557,0.6996321708340062,0.6503566474526108,0.6455939320838944,0.6832080618462313,0.6282468075629009,0.6998814567821334,0.7163803858114878,0.590477937015156,0.5962825083878635,0.6512380817611155,0.6047513850295495,0.6214826604161636,0.6627158773788437,0.693173670958868,0.6615270675468827,0.6254293918184711,0.7213583353536308,0.7345276232974485,0.7429858722774881,0.6623099446053147,0.6987168520791996,0.7196260416344105,0.657462851889263,0.7130033193495384,0.6394852530801448,0.6797714024739173,0.6625781914238793,0.6278911323670773,0.6265605028766937,0.5723977457419348,0.6185946950382356,0.6455563272160291,0.7557998891656785,0.7252267824375134,0.6365888651833925,0.6485289466749583,0.6940867085025567,0.626436142488537,0.6408038516272035,0.6090266799859956,0.6973014434207866,0.7240737887010382,0.6565195159588948,0.7159125681641704,0.6824397612554908,0.7052898552544088,0.6691054682491617,0.6597276964798751,0.6541959143228758,0.7018322240836334,0.598664001383062,0.5953770669672254,0.7156779975636579,0.715679960977383,0.6854209650767165,0.761942005788779,0.644819916510806,0.6154689694689357,0.5707929669967837,0.7017028098045949,0.6870934576959942,0.7240423163941562,0.697241044603803,0.6348395578452257,0.6688991702959202,0.6173352931522873,0.6631141777534734,0.6726979499920913,0.6666489020155,0.6538504558397966,0.6791986824794549,0.6162312936884471,0.6721880734209938,0.7872572540945053,0.7471866691915438,0.6861912416973168,0.6896512727202888,0.628584949467176,0.6843118909301462,0.674322548210065,0.5224264398641623,0.6242016786283732,0.6699883091006477,0.6867472704660944,0.6795034103563204,0.6829680875563395,0.7347133887441376,0.695517674561341,0.7007126127016842,0.5537454642309837,0.7412972188706078,0.682261855002343,0.6526385925891889,0.647931941684407,0.7360305099735638,0.705443598365036,0.7386726875236894,0.6952681608605826,0.6414785890239602,0.5731041553375714,0.6317992675357963,0.6995052825520381,0.6356555765418626,0.6357973859258004,0.6888045183651387,0.6677683580571215,0.6280884102663222,0.6659612524075892,0.5621570860856928,0.6615375192196781,0.6498223901210788,0.6767703278186693,0.7206285805470862,0.7201543009499526,0.5455654171734216,0.6963988210528012,0.6994499429548526,0.5701210264484055,0.6340771949884166,0.6694462055662141,0.7335567735487328,0.7391374989994274,0.6339764176036911,0.5783590200616671,0.7334918897141378,0.626544034506419,0.5240310753629898,0.7363021860359199,0.7550296502938588,0.6305410830656213,0.6704887271975852,0.7132101464283364,0.685930481933466,0.6790309963139098,0.6449825026523871,0.7318751114206016,0.5831590673417107,0.72975835734054,0.7065190664283333,0.601159693779634,0.6793633392822661,0.6872634203361443,0.7179755457899005,0.7193818743486817,0.676442488487313,0.6764033870239967,0.7101834468266938,0.6870415722921639,0.6836613764812869,0.6635410943880968,0.6143201469740619,0.6247119710984329,0.6787758890868347,0.6429862522129685,0.6374450976907952,0.7061909753378558,0.7179111248834543,0.684313862095472,0.7747814589009514,0.6657914416829329,0.647292688557427,0.7364864670573545,0.7219485945299394,0.6562782218329115,0.711822595471555,0.6669250964491537,0.6579519232586267,0.6985229959565344,0.6630709600911625,0.6653742002551241,0.6239737504641568,0.6365565238327612,0.5883674313772732,0.5988095124136623,0.6635202966164476,0.7024535342550576,0.7186829525407822,0.5963964772692739,0.6517150249323133,0.6354323349777173,0.6180899828808326,0.686666974594526,0.697664432290831,0.6648825949556857,0.6409102683742538,0.6256973427981687,0.7353249814467204,0.7328167332568879,0.7167815361561474,0.6674249528374532,0.7033354830862284,0.6382627466163029,0.5558121258676756,0.6081501803530537,0.5951612532594338,0.7284505520426104,0.6064747286913743,0.6143134095122041,0.6762406711966027,0.7006104545477511,0.6872104319244934,0.6536082219495211,0.6568988285489398,0.733979722692009,0.6920588295557426,0.7002215352259823,0.6670697940876404,0.6814389425391767,0.6506335265520768,0.6681821858174787,0.6598750721151994,0.7182606939284655,0.634437642924558,0.693908581815425,0.6828508171752706,0.725452200854897,0.6724534152270619,0.8059956494739469,0.6831506762953479,0.694100340740457,0.6600904989842789,0.5718644724221461,0.5507661959995325,0.6905944725157565,0.6966173149687437,0.7034137125725158,0.6407342943123834,0.7118099562761816,0.67254755319412,0.6550636188876235,0.6317988287119347,0.5837401526193909,0.6593510259855918,0.693919925297898,0.7478976772710477,0.7167237230356154,0.651743108263274,0.6702123869021368,0.749580002173095,0.6287041431172394,0.6943204346599366,0.6843747545209399,0.6905154933478381,0.6896754188174554,0.7125049698402525,0.7041669715023053,0.6795372116472475,0.6874123182812675,0.6828180263880824,0.6915832423723154,0.5777624387757945,0.606127984264415,0.7367640607667781,0.6851596992211498,0.6307742829230578,0.6972904558511261,0.6597491569560695,0.7080048264738158,0.5615394001081793,0.6598763455806117,0.5805928827727579,0.5980349919924433,0.6719404232686244,0.6357874385727894,0.7273468132918032,0.6539990981718473,0.7348531464910792,0.6511037579043677,0.6515033614361694,0.703853827645308,0.7233236115771957,0.7156777715789304,0.6714251472286312,0.7106229805854071,0.6881273806991592,0.7354979907095607,0.7301877222690994,0.6367335126061775,0.724190303387607,0.5935026915372832,0.6211132719254757,0.6036801732401725,0.6408115396018685,0.5604764371247952,0.6107135985627872,0.7059783775551077,0.6382053675919163,0.7193938159583781,0.6931395333377818,0.6670675093510945,0.6263499878470821,0.5710416129308779,0.634688332340298,0.8212216627162088,0.767695443410249,0.7315897696710995,0.668447716701032,0.7361374272620915,0.6484619809055145,0.6377242543459569,0.6213488039805769,0.5876919843881329,0.6822387692411181,0.771109692672891,0.6842947286514085,0.6867143762775658,0.7258952829043707,0.6348804253425695,0.6518199660010358,0.7239458845414491,0.7742472674610807,0.7150226269939907,0.7017664216299937,0.6033344970318143,0.6501995635681143,0.7348477836058053,0.7110642397115765,0.6277985444709026,0.7427623234772792,0.7399197255311158,0.6673750227042304,0.688985771294027,0.589555487533311,0.7001386618248744,0.7194266535752062,0.6914524418883418,0.6355208082255906,0.6209530379460424,0.6796533822846659,0.6712596602659711,0.6932037611484689,0.6335047871489067,0.6472800851592759,0.6963991511097372,0.6975871112283303,0.6821939213361918,0.6871309798895848,0.74522199736458,0.6930338796523298,0.6869880975169402,0.7936766867403897,0.6327317766557113,0.7076927919648823,0.642783876244295,0.5258858305790102,0.7144270619919475,0.7030920953850875,0.627942928509618,0.5903868625686929,0.6140069392116773,0.6390310786725026,0.6904821585688231,0.6192016350285555,0.7018806108343472,0.7387022150873215,0.7942288907466769,0.6344463671775323,0.661017724616411,0.6099054142015887,0.6921313654150647,0.706553369798563,0.729927246524361,0.640324536592396,0.6882889152266908,0.6964364436459551,0.5790551572412466,0.6692904281272322,0.6907707811382113,0.6092697439148126,0.6912432298526359,0.8071428644016573,0.6434988742859866,0.6994208439447214,0.6961972645409086,0.6965597022439028,0.6932184389499227,0.731048132153203,0.6736869501520345,0.6967109442377597,0.7162321057926462,0.6394903752465482,0.6375980462304962,0.6338058663766756,0.6936242517646994,0.7536888488122782,0.6401020107168106,0.7058982583985317,0.639494255272427,0.6999562673608665,0.6865272185157835,0.6312023156351714,0.6901421516770544,0.6913473710259178,0.6970987948501624,0.6065292314922469,0.7696859002153497,0.630369322418507,0.6774109719000735,0.7023282926798055,0.7065499656290885,0.5827459479340175,0.7049650078720435,0.6490449730712423,0.6218382894096456,0.5604774973647214,0.7299756386436642,0.5922770574166405,0.703763694615792,0.6651059026286243,0.6084544393876136,0.7363363780794018,0.66319758426185,0.6890166535523583,0.6501795504147121,0.5969305916057706,0.6610820460209232,0.6868000856645005,0.7063879111861247,0.7006415290012122,0.6717480893748805,0.7358945281669235,0.6289869031008029,0.6040923782527399,0.6705591341230017,0.7102413096697353,0.6597149952358753,0.6362345618159165,0.7178782075510476,0.612516040944877,0.5844026536252066,0.7426350113628306,0.6690020935626808,0.6194627925131478,0.6449764171392499,0.6625864166740025,0.6772639675970102,0.7261665434757978,0.7401462840580865,0.5724589273022211,0.5701324558825948,0.5809024323932546,0.6357745736414042,0.6384526157840514,0.6064916160837504,0.5999817250748494,0.5436621577983404,0.603706801665482,0.5704232402549925,0.6711462259394634,0.663946816335559,0.593832395348642,0.6393201154748507,0.6705032158743265,0.7044129506532005,0.6946999381330533,0.6614236867989519,0.7913857965236591,0.707989538203116,0.7058295776073692,0.701564972014679,0.7049256504998754,0.6036380641039866,0.6628972736094897,0.6282577749142426,0.7340591090880249,0.6054702897529578,0.594433353283322,0.6585214130240763,0.7287674473306107,0.6563948192923551,0.5767953039332283,0.7451563551106141,0.5636789004835736,0.6623405602848036,0.6111449647142104,0.6864583166126024,0.5622793522642063,0.5648937374294093,0.6244035637475618,0.6003154822693524,0.6187057717528595,0.6990960168379327,0.6790758557832701,0.7280625233391073,0.7076251760078667,0.7327119384793611,0.5996543618134491,0.6046313294207057,0.6411073503746698,0.643907709387109,0.6782070465022052,0.7054584786272039,0.6703075687883117,0.6164886973589757,0.5869138307317823,0.5807433958803327,0.6730573389546032,0.7377827782961086,0.7489949730608588,0.7008179364145506,0.6807445335603003,0.6759661874752776,0.7289063862330395,0.6524222247612003,0.6166823059570726,0.5587004466736509,0.6013210219717,0.6942098600260237,0.6884315983062949,0.7506703464639476,0.6397013741994744,0.7117316027356765,0.6482991824253208,0.6909642612775656,0.7405717651019605,0.6341083812853866,0.6973475750603907,0.7073108634748906,0.6998463887973716,0.6673040473722811,0.6125406988838238,0.6158584581311289,0.7186544095785667,0.7430894969722073,0.7164183217777884,0.7378418110299394,0.7091897021333281,0.6344602208886004,0.6256070762657568,0.7070067145966472,0.5820680744802137,0.558599380256428,0.7023269865711175,0.6436034889065972,0.6403071825515579,0.6549409516043845,0.6296957243489357,0.700477162279959,0.6111177851203774,0.6375970896392991,0.6970728651140478,0.6642967437874734,0.7143743242474236,0.6823611010724497,0.7408846579774637,0.6522478935119802,0.6685396530596285,0.6883655233112992,0.7190506998812098,0.5898990878994871,0.7047359448107473,0.6893313366649401,0.6841763725778366,0.6863839580513909,0.6207818812124049,0.6901794809453117,0.7118702439454392,0.6697525408719245,0.7508384266146818,0.7210399593895954,0.6709943069232336,0.6574391884671414,0.6205042312381961,0.6268518545498633,0.5964715559559837,0.6450300860810527,0.6308645486628958,0.6844140122294148,0.5768049052164522,0.6001239712480946,0.5995571936822663,0.6037986932003215,0.6140219677312871,0.793137526713507,0.6501042296778019,0.5790206980555236,0.7248778303612967,0.7062484943183293,0.7601832885154964,0.56767846303508,0.6587946562915243,0.7195121155264737,0.7162503793667742,0.6557890251446469,0.7056369459510057,0.6479531188127099,0.7069249799951209,0.6857853681752158,0.7236963237268423,0.6618015000179193,0.5874353019754679,0.7183297008735863,0.7102482585767976,0.6622019228518516,0.6438483410186835,0.6540621490262604,0.7056063088318993,0.6577218072526075,0.649454268658415,0.6672947717576513,0.711327451274172,0.645461207282994,0.6957605308513544,0.6561456944734617,0.6836206608953025,0.7609484459847657,0.700790679809655,0.7438774627451725,0.7789459115666144,0.6748849522889334,0.6256451243247628,0.7180483662758005,0.6228614941050061,0.7644561418912703,0.6304370256704662,0.7246531734006103,0.7199596767840201,0.7205040308974497,0.6020690257259139,0.6876470749754843,0.7147137596457634,0.7090104946745559,0.6463731334328984,0.791721431336075,0.6610471205357532,0.7154188381760969,0.6859943692465357,0.64905342646319,0.7211921240380037,0.7272398393197279,0.5890417516863582,0.6599688753353291,0.6380143078415749,0.5603525133274414,0.7076781616755589,0.7046003399874066,0.6748076063045436,0.6969136604459987,0.6965466416989587,0.7111450506942825,0.6511423829993067,0.5276759967132112,0.667378178951286,0.6517741750515094,0.6959891834613365,0.7589573179016686,0.6762137050987871,0.6011955854716382,0.7360140891911461,0.6246291763884948,0.555621779417891,0.7243475026659062,0.6547845850455095,0.6987037347632296,0.7202627567797156,0.6616878974472024,0.6936245614029661,0.6974023311880395,0.6116667644588699,0.6845783333651377,0.821873100060602,0.7063491795212773,0.5608463501299414,0.6486865323944582,0.7250759871820671,0.5729286551618453,0.621335210047485,0.7155924400032048,0.6850602016857309,0.5967883774009476,0.643365987056152,0.6924937633088111,0.6672568218584009,0.5691679721772396,0.6529789655984576,0.6227674432892099,0.5452766007469373,0.7327934636463577,0.7108680167267453,0.5727436678695846,0.6103366318932187,0.5723907033939323,0.5906764604897093,0.6437123216867608,0.6021030124141424,0.6382530340920607,0.7213364000487891,0.7109205124302886,0.6511144923514249,0.6306188268657988,0.6742813927961094,0.7185051718942557,0.7127756607019301,0.6710732338260478,0.5473413539407939,0.661123082899473,0.6166862065485726,0.7866489841062633,0.6552354911839121,0.7263976351691394,0.7468864717767068,0.6705136539950505,0.6514205120605465,0.7462099116953129,0.6811806050063036,0.7379182400662995,0.7054620311342205,0.6604757681425406,0.6062495777757664,0.7238240464053121,0.600927822446332,0.6459567198353359,0.700511293407446,0.7039693006016642,0.6998349559568265,0.6429884660744125,0.6741785705025736,0.70273760434402,0.6348407458437519,0.7074184745056488,0.6814436713192142,0.7306993282829737,0.7564148015076123,0.7006910341861492,0.5879694365963054,0.6909625970496607,0.6654329402665751,0.5944582981937391,0.614752763454184,0.6709795941723381,0.6457075679712345,0.6652078832495191,0.6675326070705603,0.6505340978875525,0.6812160540955771,0.6793841254076373,0.6886316973263703,0.6247184133438038,0.7411772308531778,0.656379732280798,0.7013926252593856,0.7329221802840352,0.6768537034463952,0.6170735216245445,0.6962272809242389,0.6246094638094519,0.6610523835693239,0.6746764637564097,0.7000178056409347,0.6698854904013894,0.7439037943662308,0.6206547689377365,0.7104473111241938,0.6775144848806941,0.6340166817919013,0.5281722895575691,0.601097798384495,0.6376650171076599,0.6750563411461423,0.6863942032199538,0.6124060387639161,0.6922727443369081,0.6008095693665354,0.6860192392012421,0.6802449596805599,0.6659304857758463,0.6650075181653636,0.6553860153362622,0.5545200985515301,0.7252317733118848,0.755727189186798,0.6737111602028124,0.7262962607450683,0.6100245934090808,0.70242752575959,0.6947854566726092,0.7117897018884425,0.7238632878749626,0.7061695219029209,0.6667700904221348,0.6457392437348968,0.7204692240023869,0.729044741781543,0.7566205140917274,0.6229308053912737,0.6555227845267625,0.6250496506502093,0.5602255179246748,0.6511493066592353,0.7164899102918656,0.6515568770185514,0.7206263097545915,0.6388404673482967,0.7658263066012657,0.5807993317214153,0.7340689589807536,0.6606541518928775,0.6111058011071115,0.7388470105679952,0.7296258193683139,0.7322879879698595,0.6688433068880334,0.721699424476667,0.7103747060891331,0.7086385905458403,0.62073227336631,0.6368924881972631,0.7288767976744844,0.7999665151529572,0.5662125228978486,0.7407528362289041,0.5899035215852204,0.5765470280526361,0.668765814557515,0.6589004661569277,0.7052586959100327,0.6239623877689896,0.6587116499331157,0.6102271537114712,0.628778684580909,0.6860667371774916,0.6813622004795695,0.7214382884439297,0.5953817780979093,0.694568380651011,0.6110644876084123,0.5633986648297118,0.6381316762994583,0.6204902630105599,0.7122789489559306,0.6719734435205575,0.6591875295866728,0.7010334436859622,0.6596822897177518,0.697525330303183,0.6072522319450299,0.7326105710755061,0.7239138109059409,0.687193492428342,0.7982999769136837,0.6970219283426979,0.6610617431518392,0.6337730009638399,0.7872428724230502,0.6309868153525791,0.6337020559877272,0.6984722582723983,0.630322380820509,0.6922477165865635,0.6798159427172713,0.7519853852351641,0.7115130427371975,0.6834913750424434,0.7018442394059616,0.682627366173516,0.6292338001610713,0.6916896295640177,0.7349665869209735,0.7448256346935128,0.691553255439761,0.7648220384604202,0.6444402123533403,0.6034920588634657,0.6778963494788964,0.6029839851166671,0.6695515859368233,0.5601542668078535,0.5896356797216853,0.7199314874790604,0.6769608304026445,0.6891355713732786,0.7863234607047406,0.8091313564943343,0.6909950664797492,0.6834022933659015,0.6381574187882055,0.6563049026177313,0.7369833684656052,0.6552087818029183,0.6837459146558644,0.7363568201544298,0.7272297669232625,0.6887407935423383,0.7057448347549061,0.5442660753907732,0.568754936972908,0.607653438902936,0.7020966674502107,0.701171949358398,0.6604584796179609,0.6403954183358644,0.6931720699114099,0.706869355777798,0.7257153779481157,0.683194431828568,0.6809940806445921,0.6534233505144463,0.7553334727482132,0.7092694387398489,0.6534543732646385,0.6193873389120466,0.6658513749465778,0.5867919618564033,0.7485335856458648,0.5896852867463829,0.6010108269166854,0.652961243501112,0.6530751975787604,0.6035476594530638,0.7080917662768934,0.7068318140456521,0.62863463172338,0.6273875303877857,0.6754154253535518,0.5381525435368244,0.5801516330207851,0.6829798205966682,0.5989314996305543,0.6450803410819781,0.6872770333418339,0.7178523879931353,0.6105510525367475,0.650136132506093,0.597181246786287,0.592515527162535,0.7089084714535827,0.6248828722992629,0.6297485683711318,0.7535771840408272,0.6706828077588559,0.6479657926640959,0.6993506989750244,0.7504771960807519,0.7677474030693897,0.7080027609268262,0.7077907206963397,0.7546788416708133,0.6763470957935852,0.6541980529604369,0.6353089510269497,0.6952771413069401,0.6134152815875397,0.6028147661409781,0.6418109211068621,0.6459336709477458,0.7200027806058338,0.6938140787312719,0.7049152212472819,0.7055950535406154,0.699374600330427,0.5932792169891963,0.5952703820188402,0.591519121525247,0.6310454625603835,0.6816957432406394,0.6532467894777035,0.6936717415141759,0.7598366621088436,0.6206051944447804,0.5535128817801285,0.7038550213658133,0.6019420244803775,0.7349895064887866,0.6086421970003926,0.5614341041272514,0.6785928560017371,0.5583632300688187,0.7124041866039691,0.7299425635345635,0.7785053540156477,0.6955057333159317,0.7166754783906086,0.7001178924251766,0.7115259856642077,0.6636343623351518,0.7465504940236048,0.6839993651292509,0.6415129324524268,0.6083348540433364,0.6294749761650961,0.7497050612817434,0.7057067966773067,0.7499303107502371,0.6711360005735865,0.6128091592275037,0.5984175960584326,0.6800393469567194,0.6849257329006139,0.8146217374395621,0.6986653344249893,0.6691774351790906,0.6736410981849845,0.7765629166026133,0.6168671687339913,0.7062786496047678,0.6989076692385229,0.6416933521437967,0.6840659979764375,0.6889169914990759,0.7115853273268012,0.668042808807721,0.6941807895171264,0.6859232324540889,0.7281636757719144,0.6412426926756184,0.6662676858626538,0.7055823060383339,0.7557398405967027,0.7370627992471587,0.743656504748325,0.5479899398564251,0.6048299526948008,0.5603252728561715,0.6535597681950097,0.6070088076801988,0.5902318642762132,0.5615668551019266,0.5873516984382541,0.6178165576267166,0.5995518812586839,0.6168570375595765,0.6388465382921609,0.621440654679719,0.7733504653255601,0.6524561914935426,0.6713134721592966,0.6378515965874261,0.6082035530607678,0.6785146214148448,0.6607358999702472,0.6647735092653723,0.5784944375407773,0.5084019655294183,0.6931871640384518,0.7138613398688032,0.7201914551539799,0.576685152226469,0.6776085944573096,0.5967671544107579,0.5683789137025861,0.6770124419769106,0.5991525452061831,0.7595544128258491,0.6522904703004351,0.6195217081567719,0.6758183558887076,0.7160281312230092,0.611083206240044,0.723311588406279,0.7348162494740685,0.7214330566469006,0.6306664402086657,0.6633625088767041,0.6197626824118386,0.5721848925860087,0.6853689238053524,0.7375632390592283,0.592082230361808,0.6019780525024762,0.6707672805782121,0.6769985882596928,0.5479406821783722,0.5774772757911948,0.6616949152770589,0.5609028712074007,0.6213639158500154,0.666986932943535,0.5607970045239566,0.6538284776322917,0.7003987449611663,0.7184159059011412,0.6808040758393469,0.669491405405533,0.6608870356175248,0.666897970278854,0.6591353318945224,0.7070159994484874,0.6269686831257228,0.7357949500739844,0.6195049857217704,0.7426510696378253,0.5725859526688883,0.6817091824406266,0.6384869152614208,0.7329656542480351,0.6592844698785748,0.7226920449606061,0.6406962117735246,0.7172879848896477,0.6415717038545865,0.6485331021065538,0.6485548293755335,0.6032402618927694,0.6303800755460032,0.6915309732446212,0.684202251269147,0.589515754279711,0.6051064403793364,0.7049388357252363,0.681094570271529,0.6789240930252645,0.6726326065017856,0.6889821443134385,0.6324874830192386,0.672864446506148,0.6184395561369679,0.6798768669434158,0.7041944218798535,0.5986950772709535,0.6760421847905136,0.7014707249603048,0.6363182310477193,0.702504069206082,0.6165272911045364,0.653104581448692],\"xaxis\":\"x\",\"yaxis\":\"y\"},{\"alignmentgroup\":\"True\",\"hovertemplate\":\"1WonOn1In=%{x}<extra></extra>\",\"legendgroup\":\"\",\"marker\":{\"color\":\"rgb(76,114,176)\"},\"name\":\"\",\"notched\":true,\"offsetgroup\":\"\",\"showlegend\":false,\"type\":\"box\",\"x\":[0.7286958876078677,0.719894463604407,0.6869691226408506,0.6972867747993486,0.6182655035610556,0.7061577781292918,0.7049205186789869,0.6981875526940075,0.6407936091790721,0.7385684175176862,0.6504059696107927,0.6935828713921868,0.6442828085175623,0.6482072846605278,0.5733105690249725,0.7179127321364117,0.8296061109317222,0.6987610963400309,0.6845419999752348,0.6188826722786691,0.7108348045343734,0.6696227591437696,0.6540822259934762,0.7108346682982885,0.6526763147633841,0.6017712900518066,0.6935796436071134,0.7504656761740354,0.7388146906890045,0.6900998235632918,0.6254430040906109,0.6232363705260566,0.6114669891539035,0.6987190709806638,0.6410720246205384,0.6623107426212734,0.6361497812437433,0.7365316316533275,0.7081827522069304,0.7389079134034385,0.6322781890712909,0.6639534877416212,0.7033778233619057,0.5877393377331821,0.5792124013161802,0.6414871031179464,0.6949029102057647,0.6563645685378326,0.7496180550480426,0.684371880809357,0.7204795708428782,0.7212251945344568,0.6796700488811012,0.703148466505555,0.6861304111308412,0.7061686921327212,0.6309020983373723,0.7530501747378003,0.7401458416744524,0.7020488690358606,0.5408667650783584,0.5530695197558366,0.6606709838643594,0.6519172373833685,0.7333832381845077,0.7362506196458409,0.6413727305952939,0.7217880273485535,0.6985744923973316,0.6832635128350079,0.6611107505881552,0.6238255688096892,0.6184486105694923,0.6301484564917141,0.6564660327050542,0.6274429878625759,0.5761258393875524,0.7481084904313113,0.6059322060919122,0.5687223691141058,0.7151931553752009,0.6324810357468925,0.6471011236852063,0.6448456223536385,0.6328342597455727,0.6378621373148075,0.6662203780768347,0.6746646752252895,0.5249845501262391,0.563478479382836,0.6505154471772698,0.6064355603653196,0.6441794683990216,0.5860871511514307,0.5786012271032966,0.640747331601134,0.567351583780516,0.7002773474729307,0.6689755280793397,0.6818940128902186,0.6910954827200827,0.6854845947152812,0.5332642977122015,0.6444209699254297,0.6632701869232125,0.6086786597245969,0.6967666667332632,0.6927731452503731,0.6968753868810187,0.7234053130083355,0.7524228228590513,0.6645079910533174,0.7565643032529277,0.6930795188058577,0.5752038105681946,0.6741528231786768,0.7200063538492294,0.6833099434124854,0.7349054196106078,0.7533487168949281,0.42757266776833625,0.7700902453467474,0.7498725564091555,0.6690199684811962,0.647031983121127,0.5869646857678598,0.550448948002275,0.6390406020566018,0.6315126284988983,0.6717811601384663,0.5692804121554491,0.6172272095430066,0.5914732746797488,0.6447928295597632,0.5986280475328346,0.6581239303776474,0.5471200010789107,0.7578290724613109,0.6661666394319342,0.6652070718359407,0.6954925162802541,0.6875389281317272,0.6692338551588851,0.6393623683822681,0.6279553025304675,0.7280495387241043,0.6330074637900567,0.5796044222613691,0.6810687903416289,0.6885968212216359,0.6854587822254056,0.6607696354754794,0.7203955671681894,0.6776375231431614,0.7570879235414516,0.6935002431383809,0.7326639263078086,0.6165008730765291,0.6520101346430657,0.7147454888101322,0.6436827016148441,0.6866232305028561,0.7316227742448366,0.617511001518912,0.5202019473002792,0.7068323829126576,0.6856330390656938,0.6108327954224142,0.6690471586486878,0.6186750730833569,0.6236713479709947,0.5958580726661565,0.6371333898139564,0.615240209783691,0.6514737957549085,0.6491165371326604,0.6796109906642968,0.6545774517364622,0.722532976752359,0.7015470980176802,0.6812443376486119,0.6696558106422832,0.6751311147586125,0.6921790925221557,0.7508822237921774,0.6492830631648462,0.7152548470565384,0.6566021514258001,0.6310318815513247,0.6574905020655716,0.5953756583009594,0.7153892760309075,0.7150883011812097,0.6886597827423762,0.705141723490721,0.7093443956249881,0.6309283166733478,0.726018985075194,0.7391218714352759,0.7266679204854138,0.7515873430766903,0.7392556459914382,0.6338820059513633,0.7318230714498063,0.7042863005324401,0.6883133938793952,0.6588399586954832,0.7271899051339871,0.5659524092658768,0.684987105644653,0.5859145318693819,0.7233964596785486,0.7010246236987956,0.6578586981508898,0.6764967792615902,0.6357974206284737,0.6488537027889436,0.6288887050287074,0.6615381186426256,0.6655481708108687,0.6235224452173656,0.6495466619539438,0.6519960490529071,0.6842484512391805,0.6819978476270948,0.592889455505213,0.6514531127389007,0.6562894342831145,0.6614104544174901,0.709359099842778,0.6186137752043691,0.6299168971027014,0.6315186597113304,0.6673257355839669,0.701072279180847,0.6554798153346241,0.6730940597230306,0.6848537114629133,0.5597301085960805,0.6530264412160189,0.6809696565500454,0.6774473117798382,0.6286254617223052,0.7290836823034862,0.7565986035798228,0.6775658252450656,0.7161034969216595,0.6302489803291358,0.6231475527759686,0.6805660442750893,0.6505969858536914,0.6001108438039531,0.6359999697462521,0.6672852451790482,0.7504379230911049,0.6546671406381858,0.7155695413618777,0.689042746992784,0.6863486489915481,0.6474656599597722,0.6483203392685557,0.6996321708340062,0.6503566474526108,0.6455939320838944,0.6832080618462313,0.6282468075629009,0.6998814567821334,0.7163803858114878,0.590477937015156,0.5962825083878635,0.6512380817611155,0.6047513850295495,0.6214826604161636,0.6627158773788437,0.693173670958868,0.6615270675468827,0.6254293918184711,0.7213583353536308,0.7345276232974485,0.7429858722774881,0.6623099446053147,0.6987168520791996,0.7196260416344105,0.657462851889263,0.7130033193495384,0.6394852530801448,0.6797714024739173,0.6625781914238793,0.6278911323670773,0.6265605028766937,0.5723977457419348,0.6185946950382356,0.6455563272160291,0.7557998891656785,0.7252267824375134,0.6365888651833925,0.6485289466749583,0.6940867085025567,0.626436142488537,0.6408038516272035,0.6090266799859956,0.6973014434207866,0.7240737887010382,0.6565195159588948,0.7159125681641704,0.6824397612554908,0.7052898552544088,0.6691054682491617,0.6597276964798751,0.6541959143228758,0.7018322240836334,0.598664001383062,0.5953770669672254,0.7156779975636579,0.715679960977383,0.6854209650767165,0.761942005788779,0.644819916510806,0.6154689694689357,0.5707929669967837,0.7017028098045949,0.6870934576959942,0.7240423163941562,0.697241044603803,0.6348395578452257,0.6688991702959202,0.6173352931522873,0.6631141777534734,0.6726979499920913,0.6666489020155,0.6538504558397966,0.6791986824794549,0.6162312936884471,0.6721880734209938,0.7872572540945053,0.7471866691915438,0.6861912416973168,0.6896512727202888,0.628584949467176,0.6843118909301462,0.674322548210065,0.5224264398641623,0.6242016786283732,0.6699883091006477,0.6867472704660944,0.6795034103563204,0.6829680875563395,0.7347133887441376,0.695517674561341,0.7007126127016842,0.5537454642309837,0.7412972188706078,0.682261855002343,0.6526385925891889,0.647931941684407,0.7360305099735638,0.705443598365036,0.7386726875236894,0.6952681608605826,0.6414785890239602,0.5731041553375714,0.6317992675357963,0.6995052825520381,0.6356555765418626,0.6357973859258004,0.6888045183651387,0.6677683580571215,0.6280884102663222,0.6659612524075892,0.5621570860856928,0.6615375192196781,0.6498223901210788,0.6767703278186693,0.7206285805470862,0.7201543009499526,0.5455654171734216,0.6963988210528012,0.6994499429548526,0.5701210264484055,0.6340771949884166,0.6694462055662141,0.7335567735487328,0.7391374989994274,0.6339764176036911,0.5783590200616671,0.7334918897141378,0.626544034506419,0.5240310753629898,0.7363021860359199,0.7550296502938588,0.6305410830656213,0.6704887271975852,0.7132101464283364,0.685930481933466,0.6790309963139098,0.6449825026523871,0.7318751114206016,0.5831590673417107,0.72975835734054,0.7065190664283333,0.601159693779634,0.6793633392822661,0.6872634203361443,0.7179755457899005,0.7193818743486817,0.676442488487313,0.6764033870239967,0.7101834468266938,0.6870415722921639,0.6836613764812869,0.6635410943880968,0.6143201469740619,0.6247119710984329,0.6787758890868347,0.6429862522129685,0.6374450976907952,0.7061909753378558,0.7179111248834543,0.684313862095472,0.7747814589009514,0.6657914416829329,0.647292688557427,0.7364864670573545,0.7219485945299394,0.6562782218329115,0.711822595471555,0.6669250964491537,0.6579519232586267,0.6985229959565344,0.6630709600911625,0.6653742002551241,0.6239737504641568,0.6365565238327612,0.5883674313772732,0.5988095124136623,0.6635202966164476,0.7024535342550576,0.7186829525407822,0.5963964772692739,0.6517150249323133,0.6354323349777173,0.6180899828808326,0.686666974594526,0.697664432290831,0.6648825949556857,0.6409102683742538,0.6256973427981687,0.7353249814467204,0.7328167332568879,0.7167815361561474,0.6674249528374532,0.7033354830862284,0.6382627466163029,0.5558121258676756,0.6081501803530537,0.5951612532594338,0.7284505520426104,0.6064747286913743,0.6143134095122041,0.6762406711966027,0.7006104545477511,0.6872104319244934,0.6536082219495211,0.6568988285489398,0.733979722692009,0.6920588295557426,0.7002215352259823,0.6670697940876404,0.6814389425391767,0.6506335265520768,0.6681821858174787,0.6598750721151994,0.7182606939284655,0.634437642924558,0.693908581815425,0.6828508171752706,0.725452200854897,0.6724534152270619,0.8059956494739469,0.6831506762953479,0.694100340740457,0.6600904989842789,0.5718644724221461,0.5507661959995325,0.6905944725157565,0.6966173149687437,0.7034137125725158,0.6407342943123834,0.7118099562761816,0.67254755319412,0.6550636188876235,0.6317988287119347,0.5837401526193909,0.6593510259855918,0.693919925297898,0.7478976772710477,0.7167237230356154,0.651743108263274,0.6702123869021368,0.749580002173095,0.6287041431172394,0.6943204346599366,0.6843747545209399,0.6905154933478381,0.6896754188174554,0.7125049698402525,0.7041669715023053,0.6795372116472475,0.6874123182812675,0.6828180263880824,0.6915832423723154,0.5777624387757945,0.606127984264415,0.7367640607667781,0.6851596992211498,0.6307742829230578,0.6972904558511261,0.6597491569560695,0.7080048264738158,0.5615394001081793,0.6598763455806117,0.5805928827727579,0.5980349919924433,0.6719404232686244,0.6357874385727894,0.7273468132918032,0.6539990981718473,0.7348531464910792,0.6511037579043677,0.6515033614361694,0.703853827645308,0.7233236115771957,0.7156777715789304,0.6714251472286312,0.7106229805854071,0.6881273806991592,0.7354979907095607,0.7301877222690994,0.6367335126061775,0.724190303387607,0.5935026915372832,0.6211132719254757,0.6036801732401725,0.6408115396018685,0.5604764371247952,0.6107135985627872,0.7059783775551077,0.6382053675919163,0.7193938159583781,0.6931395333377818,0.6670675093510945,0.6263499878470821,0.5710416129308779,0.634688332340298,0.8212216627162088,0.767695443410249,0.7315897696710995,0.668447716701032,0.7361374272620915,0.6484619809055145,0.6377242543459569,0.6213488039805769,0.5876919843881329,0.6822387692411181,0.771109692672891,0.6842947286514085,0.6867143762775658,0.7258952829043707,0.6348804253425695,0.6518199660010358,0.7239458845414491,0.7742472674610807,0.7150226269939907,0.7017664216299937,0.6033344970318143,0.6501995635681143,0.7348477836058053,0.7110642397115765,0.6277985444709026,0.7427623234772792,0.7399197255311158,0.6673750227042304,0.688985771294027,0.589555487533311,0.7001386618248744,0.7194266535752062,0.6914524418883418,0.6355208082255906,0.6209530379460424,0.6796533822846659,0.6712596602659711,0.6932037611484689,0.6335047871489067,0.6472800851592759,0.6963991511097372,0.6975871112283303,0.6821939213361918,0.6871309798895848,0.74522199736458,0.6930338796523298,0.6869880975169402,0.7936766867403897,0.6327317766557113,0.7076927919648823,0.642783876244295,0.5258858305790102,0.7144270619919475,0.7030920953850875,0.627942928509618,0.5903868625686929,0.6140069392116773,0.6390310786725026,0.6904821585688231,0.6192016350285555,0.7018806108343472,0.7387022150873215,0.7942288907466769,0.6344463671775323,0.661017724616411,0.6099054142015887,0.6921313654150647,0.706553369798563,0.729927246524361,0.640324536592396,0.6882889152266908,0.6964364436459551,0.5790551572412466,0.6692904281272322,0.6907707811382113,0.6092697439148126,0.6912432298526359,0.8071428644016573,0.6434988742859866,0.6994208439447214,0.6961972645409086,0.6965597022439028,0.6932184389499227,0.731048132153203,0.6736869501520345,0.6967109442377597,0.7162321057926462,0.6394903752465482,0.6375980462304962,0.6338058663766756,0.6936242517646994,0.7536888488122782,0.6401020107168106,0.7058982583985317,0.639494255272427,0.6999562673608665,0.6865272185157835,0.6312023156351714,0.6901421516770544,0.6913473710259178,0.6970987948501624,0.6065292314922469,0.7696859002153497,0.630369322418507,0.6774109719000735,0.7023282926798055,0.7065499656290885,0.5827459479340175,0.7049650078720435,0.6490449730712423,0.6218382894096456,0.5604774973647214,0.7299756386436642,0.5922770574166405,0.703763694615792,0.6651059026286243,0.6084544393876136,0.7363363780794018,0.66319758426185,0.6890166535523583,0.6501795504147121,0.5969305916057706,0.6610820460209232,0.6868000856645005,0.7063879111861247,0.7006415290012122,0.6717480893748805,0.7358945281669235,0.6289869031008029,0.6040923782527399,0.6705591341230017,0.7102413096697353,0.6597149952358753,0.6362345618159165,0.7178782075510476,0.612516040944877,0.5844026536252066,0.7426350113628306,0.6690020935626808,0.6194627925131478,0.6449764171392499,0.6625864166740025,0.6772639675970102,0.7261665434757978,0.7401462840580865,0.5724589273022211,0.5701324558825948,0.5809024323932546,0.6357745736414042,0.6384526157840514,0.6064916160837504,0.5999817250748494,0.5436621577983404,0.603706801665482,0.5704232402549925,0.6711462259394634,0.663946816335559,0.593832395348642,0.6393201154748507,0.6705032158743265,0.7044129506532005,0.6946999381330533,0.6614236867989519,0.7913857965236591,0.707989538203116,0.7058295776073692,0.701564972014679,0.7049256504998754,0.6036380641039866,0.6628972736094897,0.6282577749142426,0.7340591090880249,0.6054702897529578,0.594433353283322,0.6585214130240763,0.7287674473306107,0.6563948192923551,0.5767953039332283,0.7451563551106141,0.5636789004835736,0.6623405602848036,0.6111449647142104,0.6864583166126024,0.5622793522642063,0.5648937374294093,0.6244035637475618,0.6003154822693524,0.6187057717528595,0.6990960168379327,0.6790758557832701,0.7280625233391073,0.7076251760078667,0.7327119384793611,0.5996543618134491,0.6046313294207057,0.6411073503746698,0.643907709387109,0.6782070465022052,0.7054584786272039,0.6703075687883117,0.6164886973589757,0.5869138307317823,0.5807433958803327,0.6730573389546032,0.7377827782961086,0.7489949730608588,0.7008179364145506,0.6807445335603003,0.6759661874752776,0.7289063862330395,0.6524222247612003,0.6166823059570726,0.5587004466736509,0.6013210219717,0.6942098600260237,0.6884315983062949,0.7506703464639476,0.6397013741994744,0.7117316027356765,0.6482991824253208,0.6909642612775656,0.7405717651019605,0.6341083812853866,0.6973475750603907,0.7073108634748906,0.6998463887973716,0.6673040473722811,0.6125406988838238,0.6158584581311289,0.7186544095785667,0.7430894969722073,0.7164183217777884,0.7378418110299394,0.7091897021333281,0.6344602208886004,0.6256070762657568,0.7070067145966472,0.5820680744802137,0.558599380256428,0.7023269865711175,0.6436034889065972,0.6403071825515579,0.6549409516043845,0.6296957243489357,0.700477162279959,0.6111177851203774,0.6375970896392991,0.6970728651140478,0.6642967437874734,0.7143743242474236,0.6823611010724497,0.7408846579774637,0.6522478935119802,0.6685396530596285,0.6883655233112992,0.7190506998812098,0.5898990878994871,0.7047359448107473,0.6893313366649401,0.6841763725778366,0.6863839580513909,0.6207818812124049,0.6901794809453117,0.7118702439454392,0.6697525408719245,0.7508384266146818,0.7210399593895954,0.6709943069232336,0.6574391884671414,0.6205042312381961,0.6268518545498633,0.5964715559559837,0.6450300860810527,0.6308645486628958,0.6844140122294148,0.5768049052164522,0.6001239712480946,0.5995571936822663,0.6037986932003215,0.6140219677312871,0.793137526713507,0.6501042296778019,0.5790206980555236,0.7248778303612967,0.7062484943183293,0.7601832885154964,0.56767846303508,0.6587946562915243,0.7195121155264737,0.7162503793667742,0.6557890251446469,0.7056369459510057,0.6479531188127099,0.7069249799951209,0.6857853681752158,0.7236963237268423,0.6618015000179193,0.5874353019754679,0.7183297008735863,0.7102482585767976,0.6622019228518516,0.6438483410186835,0.6540621490262604,0.7056063088318993,0.6577218072526075,0.649454268658415,0.6672947717576513,0.711327451274172,0.645461207282994,0.6957605308513544,0.6561456944734617,0.6836206608953025,0.7609484459847657,0.700790679809655,0.7438774627451725,0.7789459115666144,0.6748849522889334,0.6256451243247628,0.7180483662758005,0.6228614941050061,0.7644561418912703,0.6304370256704662,0.7246531734006103,0.7199596767840201,0.7205040308974497,0.6020690257259139,0.6876470749754843,0.7147137596457634,0.7090104946745559,0.6463731334328984,0.791721431336075,0.6610471205357532,0.7154188381760969,0.6859943692465357,0.64905342646319,0.7211921240380037,0.7272398393197279,0.5890417516863582,0.6599688753353291,0.6380143078415749,0.5603525133274414,0.7076781616755589,0.7046003399874066,0.6748076063045436,0.6969136604459987,0.6965466416989587,0.7111450506942825,0.6511423829993067,0.5276759967132112,0.667378178951286,0.6517741750515094,0.6959891834613365,0.7589573179016686,0.6762137050987871,0.6011955854716382,0.7360140891911461,0.6246291763884948,0.555621779417891,0.7243475026659062,0.6547845850455095,0.6987037347632296,0.7202627567797156,0.6616878974472024,0.6936245614029661,0.6974023311880395,0.6116667644588699,0.6845783333651377,0.821873100060602,0.7063491795212773,0.5608463501299414,0.6486865323944582,0.7250759871820671,0.5729286551618453,0.621335210047485,0.7155924400032048,0.6850602016857309,0.5967883774009476,0.643365987056152,0.6924937633088111,0.6672568218584009,0.5691679721772396,0.6529789655984576,0.6227674432892099,0.5452766007469373,0.7327934636463577,0.7108680167267453,0.5727436678695846,0.6103366318932187,0.5723907033939323,0.5906764604897093,0.6437123216867608,0.6021030124141424,0.6382530340920607,0.7213364000487891,0.7109205124302886,0.6511144923514249,0.6306188268657988,0.6742813927961094,0.7185051718942557,0.7127756607019301,0.6710732338260478,0.5473413539407939,0.661123082899473,0.6166862065485726,0.7866489841062633,0.6552354911839121,0.7263976351691394,0.7468864717767068,0.6705136539950505,0.6514205120605465,0.7462099116953129,0.6811806050063036,0.7379182400662995,0.7054620311342205,0.6604757681425406,0.6062495777757664,0.7238240464053121,0.600927822446332,0.6459567198353359,0.700511293407446,0.7039693006016642,0.6998349559568265,0.6429884660744125,0.6741785705025736,0.70273760434402,0.6348407458437519,0.7074184745056488,0.6814436713192142,0.7306993282829737,0.7564148015076123,0.7006910341861492,0.5879694365963054,0.6909625970496607,0.6654329402665751,0.5944582981937391,0.614752763454184,0.6709795941723381,0.6457075679712345,0.6652078832495191,0.6675326070705603,0.6505340978875525,0.6812160540955771,0.6793841254076373,0.6886316973263703,0.6247184133438038,0.7411772308531778,0.656379732280798,0.7013926252593856,0.7329221802840352,0.6768537034463952,0.6170735216245445,0.6962272809242389,0.6246094638094519,0.6610523835693239,0.6746764637564097,0.7000178056409347,0.6698854904013894,0.7439037943662308,0.6206547689377365,0.7104473111241938,0.6775144848806941,0.6340166817919013,0.5281722895575691,0.601097798384495,0.6376650171076599,0.6750563411461423,0.6863942032199538,0.6124060387639161,0.6922727443369081,0.6008095693665354,0.6860192392012421,0.6802449596805599,0.6659304857758463,0.6650075181653636,0.6553860153362622,0.5545200985515301,0.7252317733118848,0.755727189186798,0.6737111602028124,0.7262962607450683,0.6100245934090808,0.70242752575959,0.6947854566726092,0.7117897018884425,0.7238632878749626,0.7061695219029209,0.6667700904221348,0.6457392437348968,0.7204692240023869,0.729044741781543,0.7566205140917274,0.6229308053912737,0.6555227845267625,0.6250496506502093,0.5602255179246748,0.6511493066592353,0.7164899102918656,0.6515568770185514,0.7206263097545915,0.6388404673482967,0.7658263066012657,0.5807993317214153,0.7340689589807536,0.6606541518928775,0.6111058011071115,0.7388470105679952,0.7296258193683139,0.7322879879698595,0.6688433068880334,0.721699424476667,0.7103747060891331,0.7086385905458403,0.62073227336631,0.6368924881972631,0.7288767976744844,0.7999665151529572,0.5662125228978486,0.7407528362289041,0.5899035215852204,0.5765470280526361,0.668765814557515,0.6589004661569277,0.7052586959100327,0.6239623877689896,0.6587116499331157,0.6102271537114712,0.628778684580909,0.6860667371774916,0.6813622004795695,0.7214382884439297,0.5953817780979093,0.694568380651011,0.6110644876084123,0.5633986648297118,0.6381316762994583,0.6204902630105599,0.7122789489559306,0.6719734435205575,0.6591875295866728,0.7010334436859622,0.6596822897177518,0.697525330303183,0.6072522319450299,0.7326105710755061,0.7239138109059409,0.687193492428342,0.7982999769136837,0.6970219283426979,0.6610617431518392,0.6337730009638399,0.7872428724230502,0.6309868153525791,0.6337020559877272,0.6984722582723983,0.630322380820509,0.6922477165865635,0.6798159427172713,0.7519853852351641,0.7115130427371975,0.6834913750424434,0.7018442394059616,0.682627366173516,0.6292338001610713,0.6916896295640177,0.7349665869209735,0.7448256346935128,0.691553255439761,0.7648220384604202,0.6444402123533403,0.6034920588634657,0.6778963494788964,0.6029839851166671,0.6695515859368233,0.5601542668078535,0.5896356797216853,0.7199314874790604,0.6769608304026445,0.6891355713732786,0.7863234607047406,0.8091313564943343,0.6909950664797492,0.6834022933659015,0.6381574187882055,0.6563049026177313,0.7369833684656052,0.6552087818029183,0.6837459146558644,0.7363568201544298,0.7272297669232625,0.6887407935423383,0.7057448347549061,0.5442660753907732,0.568754936972908,0.607653438902936,0.7020966674502107,0.701171949358398,0.6604584796179609,0.6403954183358644,0.6931720699114099,0.706869355777798,0.7257153779481157,0.683194431828568,0.6809940806445921,0.6534233505144463,0.7553334727482132,0.7092694387398489,0.6534543732646385,0.6193873389120466,0.6658513749465778,0.5867919618564033,0.7485335856458648,0.5896852867463829,0.6010108269166854,0.652961243501112,0.6530751975787604,0.6035476594530638,0.7080917662768934,0.7068318140456521,0.62863463172338,0.6273875303877857,0.6754154253535518,0.5381525435368244,0.5801516330207851,0.6829798205966682,0.5989314996305543,0.6450803410819781,0.6872770333418339,0.7178523879931353,0.6105510525367475,0.650136132506093,0.597181246786287,0.592515527162535,0.7089084714535827,0.6248828722992629,0.6297485683711318,0.7535771840408272,0.6706828077588559,0.6479657926640959,0.6993506989750244,0.7504771960807519,0.7677474030693897,0.7080027609268262,0.7077907206963397,0.7546788416708133,0.6763470957935852,0.6541980529604369,0.6353089510269497,0.6952771413069401,0.6134152815875397,0.6028147661409781,0.6418109211068621,0.6459336709477458,0.7200027806058338,0.6938140787312719,0.7049152212472819,0.7055950535406154,0.699374600330427,0.5932792169891963,0.5952703820188402,0.591519121525247,0.6310454625603835,0.6816957432406394,0.6532467894777035,0.6936717415141759,0.7598366621088436,0.6206051944447804,0.5535128817801285,0.7038550213658133,0.6019420244803775,0.7349895064887866,0.6086421970003926,0.5614341041272514,0.6785928560017371,0.5583632300688187,0.7124041866039691,0.7299425635345635,0.7785053540156477,0.6955057333159317,0.7166754783906086,0.7001178924251766,0.7115259856642077,0.6636343623351518,0.7465504940236048,0.6839993651292509,0.6415129324524268,0.6083348540433364,0.6294749761650961,0.7497050612817434,0.7057067966773067,0.7499303107502371,0.6711360005735865,0.6128091592275037,0.5984175960584326,0.6800393469567194,0.6849257329006139,0.8146217374395621,0.6986653344249893,0.6691774351790906,0.6736410981849845,0.7765629166026133,0.6168671687339913,0.7062786496047678,0.6989076692385229,0.6416933521437967,0.6840659979764375,0.6889169914990759,0.7115853273268012,0.668042808807721,0.6941807895171264,0.6859232324540889,0.7281636757719144,0.6412426926756184,0.6662676858626538,0.7055823060383339,0.7557398405967027,0.7370627992471587,0.743656504748325,0.5479899398564251,0.6048299526948008,0.5603252728561715,0.6535597681950097,0.6070088076801988,0.5902318642762132,0.5615668551019266,0.5873516984382541,0.6178165576267166,0.5995518812586839,0.6168570375595765,0.6388465382921609,0.621440654679719,0.7733504653255601,0.6524561914935426,0.6713134721592966,0.6378515965874261,0.6082035530607678,0.6785146214148448,0.6607358999702472,0.6647735092653723,0.5784944375407773,0.5084019655294183,0.6931871640384518,0.7138613398688032,0.7201914551539799,0.576685152226469,0.6776085944573096,0.5967671544107579,0.5683789137025861,0.6770124419769106,0.5991525452061831,0.7595544128258491,0.6522904703004351,0.6195217081567719,0.6758183558887076,0.7160281312230092,0.611083206240044,0.723311588406279,0.7348162494740685,0.7214330566469006,0.6306664402086657,0.6633625088767041,0.6197626824118386,0.5721848925860087,0.6853689238053524,0.7375632390592283,0.592082230361808,0.6019780525024762,0.6707672805782121,0.6769985882596928,0.5479406821783722,0.5774772757911948,0.6616949152770589,0.5609028712074007,0.6213639158500154,0.666986932943535,0.5607970045239566,0.6538284776322917,0.7003987449611663,0.7184159059011412,0.6808040758393469,0.669491405405533,0.6608870356175248,0.666897970278854,0.6591353318945224,0.7070159994484874,0.6269686831257228,0.7357949500739844,0.6195049857217704,0.7426510696378253,0.5725859526688883,0.6817091824406266,0.6384869152614208,0.7329656542480351,0.6592844698785748,0.7226920449606061,0.6406962117735246,0.7172879848896477,0.6415717038545865,0.6485331021065538,0.6485548293755335,0.6032402618927694,0.6303800755460032,0.6915309732446212,0.684202251269147,0.589515754279711,0.6051064403793364,0.7049388357252363,0.681094570271529,0.6789240930252645,0.6726326065017856,0.6889821443134385,0.6324874830192386,0.672864446506148,0.6184395561369679,0.6798768669434158,0.7041944218798535,0.5986950772709535,0.6760421847905136,0.7014707249603048,0.6363182310477193,0.702504069206082,0.6165272911045364,0.653104581448692],\"xaxis\":\"x2\",\"yaxis\":\"y2\"}],                        {\"barmode\":\"relative\",\"legend\":{\"tracegroupgap\":0},\"margin\":{\"t\":60},\"template\":{\"data\":{\"bar\":[{\"error_x\":{\"color\":\"rgb(36,36,36)\"},\"error_y\":{\"color\":\"rgb(36,36,36)\"},\"marker\":{\"line\":{\"color\":\"rgb(234,234,242)\",\"width\":0.5},\"pattern\":{\"fillmode\":\"overlay\",\"size\":10,\"solidity\":0.2}},\"type\":\"bar\"}],\"barpolar\":[{\"marker\":{\"line\":{\"color\":\"rgb(234,234,242)\",\"width\":0.5},\"pattern\":{\"fillmode\":\"overlay\",\"size\":10,\"solidity\":0.2}},\"type\":\"barpolar\"}],\"carpet\":[{\"aaxis\":{\"endlinecolor\":\"rgb(36,36,36)\",\"gridcolor\":\"white\",\"linecolor\":\"white\",\"minorgridcolor\":\"white\",\"startlinecolor\":\"rgb(36,36,36)\"},\"baxis\":{\"endlinecolor\":\"rgb(36,36,36)\",\"gridcolor\":\"white\",\"linecolor\":\"white\",\"minorgridcolor\":\"white\",\"startlinecolor\":\"rgb(36,36,36)\"},\"type\":\"carpet\"}],\"choropleth\":[{\"colorbar\":{\"outlinewidth\":0,\"tickcolor\":\"rgb(36,36,36)\",\"ticklen\":8,\"ticks\":\"outside\",\"tickwidth\":2},\"type\":\"choropleth\"}],\"contour\":[{\"colorbar\":{\"outlinewidth\":0,\"tickcolor\":\"rgb(36,36,36)\",\"ticklen\":8,\"ticks\":\"outside\",\"tickwidth\":2},\"colorscale\":[[0.0,\"rgb(2,4,25)\"],[0.06274509803921569,\"rgb(24,15,41)\"],[0.12549019607843137,\"rgb(47,23,57)\"],[0.18823529411764706,\"rgb(71,28,72)\"],[0.25098039215686274,\"rgb(97,30,82)\"],[0.3137254901960784,\"rgb(123,30,89)\"],[0.3764705882352941,\"rgb(150,27,91)\"],[0.4392156862745098,\"rgb(177,22,88)\"],[0.5019607843137255,\"rgb(203,26,79)\"],[0.5647058823529412,\"rgb(223,47,67)\"],[0.6274509803921569,\"rgb(236,76,61)\"],[0.6901960784313725,\"rgb(242,107,73)\"],[0.7529411764705882,\"rgb(244,135,95)\"],[0.8156862745098039,\"rgb(245,162,122)\"],[0.8784313725490196,\"rgb(246,188,153)\"],[0.9411764705882353,\"rgb(247,212,187)\"],[1.0,\"rgb(250,234,220)\"]],\"type\":\"contour\"}],\"contourcarpet\":[{\"colorbar\":{\"outlinewidth\":0,\"tickcolor\":\"rgb(36,36,36)\",\"ticklen\":8,\"ticks\":\"outside\",\"tickwidth\":2},\"type\":\"contourcarpet\"}],\"heatmap\":[{\"colorbar\":{\"outlinewidth\":0,\"tickcolor\":\"rgb(36,36,36)\",\"ticklen\":8,\"ticks\":\"outside\",\"tickwidth\":2},\"colorscale\":[[0.0,\"rgb(2,4,25)\"],[0.06274509803921569,\"rgb(24,15,41)\"],[0.12549019607843137,\"rgb(47,23,57)\"],[0.18823529411764706,\"rgb(71,28,72)\"],[0.25098039215686274,\"rgb(97,30,82)\"],[0.3137254901960784,\"rgb(123,30,89)\"],[0.3764705882352941,\"rgb(150,27,91)\"],[0.4392156862745098,\"rgb(177,22,88)\"],[0.5019607843137255,\"rgb(203,26,79)\"],[0.5647058823529412,\"rgb(223,47,67)\"],[0.6274509803921569,\"rgb(236,76,61)\"],[0.6901960784313725,\"rgb(242,107,73)\"],[0.7529411764705882,\"rgb(244,135,95)\"],[0.8156862745098039,\"rgb(245,162,122)\"],[0.8784313725490196,\"rgb(246,188,153)\"],[0.9411764705882353,\"rgb(247,212,187)\"],[1.0,\"rgb(250,234,220)\"]],\"type\":\"heatmap\"}],\"heatmapgl\":[{\"colorbar\":{\"outlinewidth\":0,\"tickcolor\":\"rgb(36,36,36)\",\"ticklen\":8,\"ticks\":\"outside\",\"tickwidth\":2},\"colorscale\":[[0.0,\"rgb(2,4,25)\"],[0.06274509803921569,\"rgb(24,15,41)\"],[0.12549019607843137,\"rgb(47,23,57)\"],[0.18823529411764706,\"rgb(71,28,72)\"],[0.25098039215686274,\"rgb(97,30,82)\"],[0.3137254901960784,\"rgb(123,30,89)\"],[0.3764705882352941,\"rgb(150,27,91)\"],[0.4392156862745098,\"rgb(177,22,88)\"],[0.5019607843137255,\"rgb(203,26,79)\"],[0.5647058823529412,\"rgb(223,47,67)\"],[0.6274509803921569,\"rgb(236,76,61)\"],[0.6901960784313725,\"rgb(242,107,73)\"],[0.7529411764705882,\"rgb(244,135,95)\"],[0.8156862745098039,\"rgb(245,162,122)\"],[0.8784313725490196,\"rgb(246,188,153)\"],[0.9411764705882353,\"rgb(247,212,187)\"],[1.0,\"rgb(250,234,220)\"]],\"type\":\"heatmapgl\"}],\"histogram\":[{\"marker\":{\"pattern\":{\"fillmode\":\"overlay\",\"size\":10,\"solidity\":0.2}},\"type\":\"histogram\"}],\"histogram2d\":[{\"colorbar\":{\"outlinewidth\":0,\"tickcolor\":\"rgb(36,36,36)\",\"ticklen\":8,\"ticks\":\"outside\",\"tickwidth\":2},\"colorscale\":[[0.0,\"rgb(2,4,25)\"],[0.06274509803921569,\"rgb(24,15,41)\"],[0.12549019607843137,\"rgb(47,23,57)\"],[0.18823529411764706,\"rgb(71,28,72)\"],[0.25098039215686274,\"rgb(97,30,82)\"],[0.3137254901960784,\"rgb(123,30,89)\"],[0.3764705882352941,\"rgb(150,27,91)\"],[0.4392156862745098,\"rgb(177,22,88)\"],[0.5019607843137255,\"rgb(203,26,79)\"],[0.5647058823529412,\"rgb(223,47,67)\"],[0.6274509803921569,\"rgb(236,76,61)\"],[0.6901960784313725,\"rgb(242,107,73)\"],[0.7529411764705882,\"rgb(244,135,95)\"],[0.8156862745098039,\"rgb(245,162,122)\"],[0.8784313725490196,\"rgb(246,188,153)\"],[0.9411764705882353,\"rgb(247,212,187)\"],[1.0,\"rgb(250,234,220)\"]],\"type\":\"histogram2d\"}],\"histogram2dcontour\":[{\"colorbar\":{\"outlinewidth\":0,\"tickcolor\":\"rgb(36,36,36)\",\"ticklen\":8,\"ticks\":\"outside\",\"tickwidth\":2},\"colorscale\":[[0.0,\"rgb(2,4,25)\"],[0.06274509803921569,\"rgb(24,15,41)\"],[0.12549019607843137,\"rgb(47,23,57)\"],[0.18823529411764706,\"rgb(71,28,72)\"],[0.25098039215686274,\"rgb(97,30,82)\"],[0.3137254901960784,\"rgb(123,30,89)\"],[0.3764705882352941,\"rgb(150,27,91)\"],[0.4392156862745098,\"rgb(177,22,88)\"],[0.5019607843137255,\"rgb(203,26,79)\"],[0.5647058823529412,\"rgb(223,47,67)\"],[0.6274509803921569,\"rgb(236,76,61)\"],[0.6901960784313725,\"rgb(242,107,73)\"],[0.7529411764705882,\"rgb(244,135,95)\"],[0.8156862745098039,\"rgb(245,162,122)\"],[0.8784313725490196,\"rgb(246,188,153)\"],[0.9411764705882353,\"rgb(247,212,187)\"],[1.0,\"rgb(250,234,220)\"]],\"type\":\"histogram2dcontour\"}],\"mesh3d\":[{\"colorbar\":{\"outlinewidth\":0,\"tickcolor\":\"rgb(36,36,36)\",\"ticklen\":8,\"ticks\":\"outside\",\"tickwidth\":2},\"type\":\"mesh3d\"}],\"parcoords\":[{\"line\":{\"colorbar\":{\"outlinewidth\":0,\"tickcolor\":\"rgb(36,36,36)\",\"ticklen\":8,\"ticks\":\"outside\",\"tickwidth\":2}},\"type\":\"parcoords\"}],\"pie\":[{\"automargin\":true,\"type\":\"pie\"}],\"scatter\":[{\"marker\":{\"colorbar\":{\"outlinewidth\":0,\"tickcolor\":\"rgb(36,36,36)\",\"ticklen\":8,\"ticks\":\"outside\",\"tickwidth\":2}},\"type\":\"scatter\"}],\"scatter3d\":[{\"line\":{\"colorbar\":{\"outlinewidth\":0,\"tickcolor\":\"rgb(36,36,36)\",\"ticklen\":8,\"ticks\":\"outside\",\"tickwidth\":2}},\"marker\":{\"colorbar\":{\"outlinewidth\":0,\"tickcolor\":\"rgb(36,36,36)\",\"ticklen\":8,\"ticks\":\"outside\",\"tickwidth\":2}},\"type\":\"scatter3d\"}],\"scattercarpet\":[{\"marker\":{\"colorbar\":{\"outlinewidth\":0,\"tickcolor\":\"rgb(36,36,36)\",\"ticklen\":8,\"ticks\":\"outside\",\"tickwidth\":2}},\"type\":\"scattercarpet\"}],\"scattergeo\":[{\"marker\":{\"colorbar\":{\"outlinewidth\":0,\"tickcolor\":\"rgb(36,36,36)\",\"ticklen\":8,\"ticks\":\"outside\",\"tickwidth\":2}},\"type\":\"scattergeo\"}],\"scattergl\":[{\"marker\":{\"colorbar\":{\"outlinewidth\":0,\"tickcolor\":\"rgb(36,36,36)\",\"ticklen\":8,\"ticks\":\"outside\",\"tickwidth\":2}},\"type\":\"scattergl\"}],\"scattermapbox\":[{\"marker\":{\"colorbar\":{\"outlinewidth\":0,\"tickcolor\":\"rgb(36,36,36)\",\"ticklen\":8,\"ticks\":\"outside\",\"tickwidth\":2}},\"type\":\"scattermapbox\"}],\"scatterpolar\":[{\"marker\":{\"colorbar\":{\"outlinewidth\":0,\"tickcolor\":\"rgb(36,36,36)\",\"ticklen\":8,\"ticks\":\"outside\",\"tickwidth\":2}},\"type\":\"scatterpolar\"}],\"scatterpolargl\":[{\"marker\":{\"colorbar\":{\"outlinewidth\":0,\"tickcolor\":\"rgb(36,36,36)\",\"ticklen\":8,\"ticks\":\"outside\",\"tickwidth\":2}},\"type\":\"scatterpolargl\"}],\"scatterternary\":[{\"marker\":{\"colorbar\":{\"outlinewidth\":0,\"tickcolor\":\"rgb(36,36,36)\",\"ticklen\":8,\"ticks\":\"outside\",\"tickwidth\":2}},\"type\":\"scatterternary\"}],\"surface\":[{\"colorbar\":{\"outlinewidth\":0,\"tickcolor\":\"rgb(36,36,36)\",\"ticklen\":8,\"ticks\":\"outside\",\"tickwidth\":2},\"colorscale\":[[0.0,\"rgb(2,4,25)\"],[0.06274509803921569,\"rgb(24,15,41)\"],[0.12549019607843137,\"rgb(47,23,57)\"],[0.18823529411764706,\"rgb(71,28,72)\"],[0.25098039215686274,\"rgb(97,30,82)\"],[0.3137254901960784,\"rgb(123,30,89)\"],[0.3764705882352941,\"rgb(150,27,91)\"],[0.4392156862745098,\"rgb(177,22,88)\"],[0.5019607843137255,\"rgb(203,26,79)\"],[0.5647058823529412,\"rgb(223,47,67)\"],[0.6274509803921569,\"rgb(236,76,61)\"],[0.6901960784313725,\"rgb(242,107,73)\"],[0.7529411764705882,\"rgb(244,135,95)\"],[0.8156862745098039,\"rgb(245,162,122)\"],[0.8784313725490196,\"rgb(246,188,153)\"],[0.9411764705882353,\"rgb(247,212,187)\"],[1.0,\"rgb(250,234,220)\"]],\"type\":\"surface\"}],\"table\":[{\"cells\":{\"fill\":{\"color\":\"rgb(231,231,240)\"},\"line\":{\"color\":\"white\"}},\"header\":{\"fill\":{\"color\":\"rgb(183,183,191)\"},\"line\":{\"color\":\"white\"}},\"type\":\"table\"}]},\"layout\":{\"annotationdefaults\":{\"arrowcolor\":\"rgb(67,103,167)\"},\"autotypenumbers\":\"strict\",\"coloraxis\":{\"colorbar\":{\"outlinewidth\":0,\"tickcolor\":\"rgb(36,36,36)\",\"ticklen\":8,\"ticks\":\"outside\",\"tickwidth\":2}},\"colorscale\":{\"sequential\":[[0.0,\"rgb(2,4,25)\"],[0.06274509803921569,\"rgb(24,15,41)\"],[0.12549019607843137,\"rgb(47,23,57)\"],[0.18823529411764706,\"rgb(71,28,72)\"],[0.25098039215686274,\"rgb(97,30,82)\"],[0.3137254901960784,\"rgb(123,30,89)\"],[0.3764705882352941,\"rgb(150,27,91)\"],[0.4392156862745098,\"rgb(177,22,88)\"],[0.5019607843137255,\"rgb(203,26,79)\"],[0.5647058823529412,\"rgb(223,47,67)\"],[0.6274509803921569,\"rgb(236,76,61)\"],[0.6901960784313725,\"rgb(242,107,73)\"],[0.7529411764705882,\"rgb(244,135,95)\"],[0.8156862745098039,\"rgb(245,162,122)\"],[0.8784313725490196,\"rgb(246,188,153)\"],[0.9411764705882353,\"rgb(247,212,187)\"],[1.0,\"rgb(250,234,220)\"]],\"sequentialminus\":[[0.0,\"rgb(2,4,25)\"],[0.06274509803921569,\"rgb(24,15,41)\"],[0.12549019607843137,\"rgb(47,23,57)\"],[0.18823529411764706,\"rgb(71,28,72)\"],[0.25098039215686274,\"rgb(97,30,82)\"],[0.3137254901960784,\"rgb(123,30,89)\"],[0.3764705882352941,\"rgb(150,27,91)\"],[0.4392156862745098,\"rgb(177,22,88)\"],[0.5019607843137255,\"rgb(203,26,79)\"],[0.5647058823529412,\"rgb(223,47,67)\"],[0.6274509803921569,\"rgb(236,76,61)\"],[0.6901960784313725,\"rgb(242,107,73)\"],[0.7529411764705882,\"rgb(244,135,95)\"],[0.8156862745098039,\"rgb(245,162,122)\"],[0.8784313725490196,\"rgb(246,188,153)\"],[0.9411764705882353,\"rgb(247,212,187)\"],[1.0,\"rgb(250,234,220)\"]]},\"colorway\":[\"rgb(76,114,176)\",\"rgb(221,132,82)\",\"rgb(85,168,104)\",\"rgb(196,78,82)\",\"rgb(129,114,179)\",\"rgb(147,120,96)\",\"rgb(218,139,195)\",\"rgb(140,140,140)\",\"rgb(204,185,116)\",\"rgb(100,181,205)\"],\"font\":{\"color\":\"rgb(36,36,36)\"},\"geo\":{\"bgcolor\":\"white\",\"lakecolor\":\"white\",\"landcolor\":\"rgb(234,234,242)\",\"showlakes\":true,\"showland\":true,\"subunitcolor\":\"white\"},\"hoverlabel\":{\"align\":\"left\"},\"hovermode\":\"closest\",\"paper_bgcolor\":\"white\",\"plot_bgcolor\":\"rgb(234,234,242)\",\"polar\":{\"angularaxis\":{\"gridcolor\":\"white\",\"linecolor\":\"white\",\"showgrid\":true,\"ticks\":\"\"},\"bgcolor\":\"rgb(234,234,242)\",\"radialaxis\":{\"gridcolor\":\"white\",\"linecolor\":\"white\",\"showgrid\":true,\"ticks\":\"\"}},\"scene\":{\"xaxis\":{\"backgroundcolor\":\"rgb(234,234,242)\",\"gridcolor\":\"white\",\"gridwidth\":2,\"linecolor\":\"white\",\"showbackground\":true,\"showgrid\":true,\"ticks\":\"\",\"zerolinecolor\":\"white\"},\"yaxis\":{\"backgroundcolor\":\"rgb(234,234,242)\",\"gridcolor\":\"white\",\"gridwidth\":2,\"linecolor\":\"white\",\"showbackground\":true,\"showgrid\":true,\"ticks\":\"\",\"zerolinecolor\":\"white\"},\"zaxis\":{\"backgroundcolor\":\"rgb(234,234,242)\",\"gridcolor\":\"white\",\"gridwidth\":2,\"linecolor\":\"white\",\"showbackground\":true,\"showgrid\":true,\"ticks\":\"\",\"zerolinecolor\":\"white\"}},\"shapedefaults\":{\"fillcolor\":\"rgb(67,103,167)\",\"line\":{\"width\":0},\"opacity\":0.5},\"ternary\":{\"aaxis\":{\"gridcolor\":\"white\",\"linecolor\":\"white\",\"showgrid\":true,\"ticks\":\"\"},\"baxis\":{\"gridcolor\":\"white\",\"linecolor\":\"white\",\"showgrid\":true,\"ticks\":\"\"},\"bgcolor\":\"rgb(234,234,242)\",\"caxis\":{\"gridcolor\":\"white\",\"linecolor\":\"white\",\"showgrid\":true,\"ticks\":\"\"}},\"xaxis\":{\"automargin\":true,\"gridcolor\":\"white\",\"linecolor\":\"white\",\"showgrid\":true,\"ticks\":\"\",\"title\":{\"standoff\":15},\"zerolinecolor\":\"white\"},\"yaxis\":{\"automargin\":true,\"gridcolor\":\"white\",\"linecolor\":\"white\",\"showgrid\":true,\"ticks\":\"\",\"title\":{\"standoff\":15},\"zerolinecolor\":\"white\"}}},\"xaxis\":{\"anchor\":\"y\",\"domain\":[0.0,1.0],\"title\":{\"text\":\"1WonOn1In\"}},\"xaxis2\":{\"anchor\":\"y2\",\"domain\":[0.0,1.0],\"matches\":\"x\",\"showticklabels\":false},\"yaxis\":{\"anchor\":\"x\",\"domain\":[0.0,0.8316],\"title\":{\"text\":\"count\"}},\"yaxis2\":{\"anchor\":\"x2\",\"domain\":[0.8416,1.0],\"matches\":\"y2\",\"showline\":false,\"showticklabels\":false,\"ticks\":\"\"}},                        {\"responsive\": true}                    ).then(function(){\n                            \nvar gd = document.getElementById('5a9f7814-c4b2-40d2-955b-21d43aa26a82');\nvar x = new MutationObserver(function (mutations, observer) {{\n        var display = window.getComputedStyle(gd).display;\n        if (!display || display === 'none') {{\n            console.log([gd, 'removed!']);\n            Plotly.purge(gd);\n            observer.disconnect();\n        }}\n}});\n\n// Listen for the removal of the full notebook cells\nvar notebookContainer = gd.closest('#notebook-container');\nif (notebookContainer) {{\n    x.observe(notebookContainer, {childList: true});\n}}\n\n// Listen for the clearing of the current output cell\nvar outputEl = gd.closest('.output');\nif (outputEl) {{\n    x.observe(outputEl, {childList: true});\n}}\n\n                        })                };                            </script>        </div>\n</body>\n</html>"
     },
     "metadata": {},
     "output_type": "display_data"
    },
    {
     "data": {
      "text/html": "<html>\n<head><meta charset=\"utf-8\" /></head>\n<body>\n    <div>            <script src=\"https://cdnjs.cloudflare.com/ajax/libs/mathjax/2.7.5/MathJax.js?config=TeX-AMS-MML_SVG\"></script><script type=\"text/javascript\">if (window.MathJax) {MathJax.Hub.Config({SVG: {font: \"STIX-Web\"}});}</script>                <script type=\"text/javascript\">window.PlotlyConfig = {MathJaxConfig: 'local'};</script>\n        <script src=\"https://cdn.plot.ly/plotly-2.4.2.min.js\"></script>                <div id=\"795b50e5-608b-4e18-8600-b7e3eeb0fb48\" class=\"plotly-graph-div\" style=\"height:525px; width:100%;\"></div>            <script type=\"text/javascript\">                                    window.PLOTLYENV=window.PLOTLYENV || {};                                    if (document.getElementById(\"795b50e5-608b-4e18-8600-b7e3eeb0fb48\")) {                    Plotly.newPlot(                        \"795b50e5-608b-4e18-8600-b7e3eeb0fb48\",                        [{\"alignmentgroup\":\"True\",\"bingroup\":\"x\",\"hovertemplate\":\"rel_bpSaved=%{x}<br>count=%{y}<extra></extra>\",\"legendgroup\":\"\",\"marker\":{\"color\":\"rgb(76,114,176)\",\"pattern\":{\"shape\":\"\"}},\"name\":\"\",\"offsetgroup\":\"\",\"orientation\":\"v\",\"showlegend\":false,\"type\":\"histogram\",\"x\":[0.58525988173047,0.48694916194916193,0.5780628838252676,0.5058449692070381,0.468268704475601,0.6186499457332791,0.5665689269109457,0.5716389779418468,0.5333531052281053,0.5222819464486131,0.5497815933067732,0.556180443892643,0.47526154401154397,0.5013992649919388,0.5217284349637291,0.5681422450788648,0.682815332815333,0.47418800020840834,0.5859728844576989,0.45801941114441114,0.5704574196003281,0.5527846378958848,0.5283241293648533,0.566013986013986,0.5158266762156295,0.41964144529934005,0.5875329096441089,0.6087141272899785,0.5802146819588677,0.5791993528666319,0.5050881229773005,0.4209985487763266,0.5432962272323374,0.5373053816931369,0.5203373228866653,0.5498793499520993,0.5852363975893387,0.6270003521199692,0.5757880984684384,0.6161178107606679,0.4535883506471742,0.555290848745338,0.5612836117745303,0.5290192446442445,0.48189203141356257,0.5251513037227323,0.6134957336570238,0.5024567752508928,0.5850751343935325,0.51381139436695,0.5639214069716916,0.5690627857507652,0.5839653928134321,0.5668059622038862,0.5585768398268399,0.5696603396603398,0.5089905058680241,0.5938704100726797,0.5792952352705474,0.48683044009130966,0.45612791249154866,0.4678200128363528,0.4947515447515447,0.5472317649449806,0.5493603243603243,0.5954142823382453,0.52655600579542,0.5858826358826359,0.5642514348396701,0.5607985926779547,0.6341741591741591,0.5008046544400242,0.5130033503272939,0.523352055413066,0.57221310542647,0.5350780700155785,0.4387737262737263,0.592601284657697,0.4850230558151093,0.46981601789900107,0.5290821200657266,0.5559025057186823,0.492633178219399,0.5324595216104651,0.5340802715802715,0.536043237976228,0.49435550082101815,0.5338777549750399,0.4497393578643579,0.49852936465090647,0.5223909594666619,0.5600829725829726,0.5130241571559625,0.4911915506309098,0.47466480142950734,0.5196347264116916,0.4974851830888984,0.5336567221585604,0.5621971595655806,0.580839135696518,0.5986008309871947,0.5610987936655208,0.41097565727546764,0.4973253177798634,0.5370887016409948,0.5055417598770667,0.5911950504692441,0.6355724735035082,0.5126935791151478,0.5821728490454807,0.5802759740259741,0.5626106723611148,0.5897859952547452,0.5797714304925844,0.4217379842379843,0.5277130931998191,0.6025853964629474,0.5463999486176906,0.5862838279074946,0.6021415499909522,0.27463203463203467,0.6045051353874884,0.5980162382803994,0.5561554946692503,0.5521813555901984,0.48227983513366085,0.4782434894546596,0.48556029783708354,0.5307300845845738,0.48968711027534556,0.4527937748525984,0.49704789541069155,0.48128393740820735,0.5482614337377919,0.5057851072470956,0.6005586344872059,0.4683667798804097,0.5891386731460261,0.4928111160869781,0.5288879579202159,0.5686442914384091,0.5367879285297674,0.5661931818181818,0.48348465878189306,0.5669488844488845,0.496519093932887,0.5628962786032607,0.49575412213018727,0.5559275506833776,0.5353472173993565,0.6108010193116576,0.5041593672028454,0.5613264980633401,0.5546199072946448,0.6169512953209108,0.5907872399530867,0.5760020838355717,0.5175383258716592,0.5394667099701039,0.5852170514792513,0.5167358695890704,0.5863320180694365,0.5703328722559491,0.5290990271393406,0.4865689865689865,0.6152018216457872,0.5485442365121509,0.4718649339761782,0.5666580859608421,0.5243892123202468,0.5407197100891568,0.40110819875657483,0.4595489199147734,0.5528894182740337,0.4526652514152514,0.5402519630460807,0.5404478196366672,0.5212896022106549,0.5200667850667848,0.6064174126863636,0.5644612348361172,0.5043832843401808,0.5632103781951653,0.5355933675378118,0.5699967508254938,0.5376851773634861,0.6051237479410856,0.5585547255274024,0.5575972981019103,0.5737032287120123,0.5214421874135496,0.5968208128151313,0.5757248307248307,0.5317947884885005,0.5651054938514021,0.5748195293032243,0.488314726209463,0.6190452719196033,0.6115526883132516,0.562021112455809,0.5854467902518513,0.6194909257409255,0.46186191278397504,0.6346798905826683,0.6089889282689129,0.524502754190254,0.5323370323370323,0.5742173070868054,0.48443902244135206,0.5502143765728014,0.5385322407061537,0.5830794229451519,0.5973056138256485,0.5146011918804874,0.5577712102712102,0.5493590473501528,0.561782541130367,0.5235999126977379,0.5633124289648173,0.5657053793399222,0.5675745992841582,0.5961336049571343,0.5817165881504118,0.5844268556781689,0.5589535104985999,0.5227491178072573,0.5452277602901491,0.5456706633974054,0.554553075066401,0.5879030239662419,0.4691301239255203,0.5147165936295152,0.4986334884831125,0.5637155865290541,0.5399790986314147,0.5581160292698755,0.5731307234432236,0.611060606060606,0.46130158730158727,0.5005239095593789,0.589851231462485,0.5644928047952654,0.5243098742356249,0.6823369091226235,0.617002458325988,0.5704335594960595,0.5848615223471052,0.557992784992785,0.4714550774895603,0.526265339598673,0.4574002349403419,0.5301101913722914,0.5273862972957996,0.5885136510744647,0.5030018227386648,0.510264435077496,0.5686987902448429,0.46000432900432897,0.5792822809744648,0.4730739939073273,0.5222833654111935,0.5594168930542721,0.5541727537695279,0.5556165660443737,0.5356452230356455,0.46119181088816724,0.5961022774454209,0.6209001782531194,0.48493416305916304,0.5449799527654201,0.5021550087339561,0.5140476260181813,0.5325513737778834,0.5409332100925689,0.5132703081232493,0.5057659007659008,0.4754383579383579,0.5991084079319373,0.5843651767335978,0.54002664002664,0.5641349470602837,0.6114284028300345,0.6091307546635154,0.5325429430902554,0.5791646631376919,0.494268363911221,0.5522417624359143,0.5240760998679552,0.5556709956709958,0.45895805583305577,0.5368508113304493,0.5331911839900563,0.5112195226731615,0.6098824725646877,0.5829727286348452,0.5185128257122803,0.6411424512987013,0.49090976363703637,0.5156756744879747,0.5526296019870676,0.48606815789923313,0.5909632451403412,0.5730335055654319,0.5373026384390021,0.571996151996152,0.5457538707538707,0.4556874160322437,0.5211163896621412,0.48644459282214375,0.5267033959552208,0.6119210739034212,0.4804106529435477,0.45947960085891115,0.5848970999744182,0.5846934594405017,0.467473297312007,0.6203799302483509,0.5516475376759221,0.5045928478512748,0.4695696054154701,0.4642992424242423,0.56026603017491,0.5847191487453113,0.5537831331309593,0.5894125715554287,0.566292565001587,0.46732383507731795,0.5572394733294387,0.5528078245614062,0.5450542497346794,0.5040738068515848,0.576577439445086,0.4546918767507004,0.5375139817447511,0.5625676406926406,0.6132246680575977,0.5446877290500772,0.5840295428685522,0.5442471824686067,0.5801678918073515,0.5129606172121651,0.4509788359788361,0.48469690852117514,0.5514365407952008,0.5708660278313766,0.6217374560326837,0.5864438011996228,0.5959540800096217,0.5560414189310825,0.5585826549309093,0.3754606504606505,0.6029078719029697,0.49161255411255417,0.469476356976357,0.47173000610500615,0.6071755118266746,0.5719240708044183,0.5869056432299956,0.5202289573762824,0.5462347696528156,0.5365311467054202,0.5244004146350375,0.5807519683279503,0.560937490564868,0.5757072362335519,0.5642659088264071,0.5357595844988434,0.5807619653074199,0.541202378294272,0.4776224081061075,0.4637743620328759,0.5473000214071644,0.5489713076621326,0.5823845136345137,0.5625261765207418,0.507207498383969,0.5817803357719319,0.47082130832130836,0.41462397251870936,0.4677091975820788,0.5670711233211234,0.5876280020204804,0.5305541877738879,0.5589908235437949,0.4587525855824079,0.620460819373863,0.5044825000707354,0.4702457532720691,0.5953979289193296,0.5995024026388914,0.5406365092734121,0.5590318012651737,0.5738785369220151,0.5627510094947071,0.6093716699966703,0.5641547752658864,0.5418386747932202,0.500419123682475,0.5869408651529394,0.5525841462909133,0.5389776889776889,0.5460168589320011,0.5472049706031545,0.5904876373626374,0.5290312118437118,0.4606887236694928,0.5414957829385686,0.5951704116174352,0.4984155527012671,0.5328635816851635,0.5297237063484692,0.508293934229763,0.48092901107606995,0.5081048844703104,0.4986849009576281,0.5536891936775382,0.5859108639371259,0.5553920677973501,0.492788171424535,0.6367337001970459,0.5338696563154767,0.5482721860729884,0.5942323336247639,0.540041684894626,0.49076714348453465,0.5859370269215981,0.491625949807768,0.5407138840600076,0.5998960012221511,0.5034439385600871,0.5606627995827353,0.5393472893472893,0.5192331814880834,0.4941426794976491,0.48725041298570704,0.5400871459694988,0.5998389514121779,0.5963135803207673,0.49522842592709154,0.5037555380557772,0.4913497210850152,0.40123286435786437,0.5479690387585123,0.6103141956083133,0.5800258201394564,0.5635703802370468,0.5252891542039334,0.6344282106782105,0.5797846494392546,0.5535423260213177,0.5818607921281009,0.5920969384458229,0.5319490114886535,0.5111053094508977,0.5510129613975768,0.5240272770707554,0.5878046795442393,0.4489809210397446,0.5415628085364926,0.5735999812447008,0.5253027942724895,0.5980296523399972,0.552601550261978,0.5373653730907163,0.5585212406640978,0.5589851373155873,0.6101468572327469,0.5237253989971381,0.5454171820243248,0.5771060612347905,0.5626774391967762,0.5646227325914827,0.594519870965277,0.6094898565486802,0.5565639335247178,0.5773547241289176,0.5821764899253586,0.6474400044400044,0.6369711021797277,0.5697366793951711,0.5975584930942073,0.5383574525381248,0.491675556270174,0.48326372365429277,0.5794578510336277,0.5398412729779245,0.5737669719812577,0.5701199966518592,0.5972451159951161,0.5671299646648674,0.5855583101943034,0.5081154776581869,0.47762047067536473,0.5343570258892842,0.581065417958001,0.5838235750216717,0.582267260660689,0.5988155106210662,0.5167562829327534,0.6266686507297813,0.4963147380164187,0.49540979853479844,0.594984985538619,0.5954815005127649,0.5874240346570067,0.545697297871211,0.5764343101343099,0.517552945139152,0.5736628962435414,0.584757949422077,0.5737886649150019,0.4465558361391694,0.4884929173390711,0.6739787581699347,0.5599445212906752,0.5294095002673433,0.5291608610687558,0.5426696321294564,0.5649365722582239,0.5169370043558942,0.5606705028031461,0.436121417204305,0.5402117631073007,0.5513641485148838,0.6153814022235075,0.6106084622077266,0.5787994412994413,0.6226783400557532,0.547554378370168,0.499974654411774,0.5743319855744734,0.6190854007831296,0.5748234845295949,0.5523481801422977,0.5684852048822636,0.5604712538923065,0.5705550418832502,0.5958920752224234,0.4040674603174603,0.5622082987711593,0.4768531010082951,0.5021117785253095,0.5196844456712878,0.5056663318760092,0.47665205148509177,0.5155512768884863,0.5004139848206786,0.507408955778521,0.5575525437754542,0.591531595019967,0.582241827790522,0.4970146690541429,0.5212414950031049,0.5230050525376357,0.6989691662105454,0.6098058568156609,0.567413995901391,0.49026455026455024,0.6110930751304712,0.5135127499703077,0.49718204921693293,0.5149904800415004,0.5543578720662055,0.5166666666666666,0.652980730289773,0.5334845772628578,0.5307045706271714,0.6120537814415363,0.47104297915423826,0.5281444457667888,0.5730681818181818,0.6039213612126536,0.5829365722413851,0.6103988993866294,0.4998570889608043,0.5290136983886033,0.593791270181935,0.5929611942564161,0.5209576821645785,0.5538783938189711,0.527305633129497,0.5559529976196642,0.5653263403263404,0.5256630756730133,0.599721121382128,0.5713043695232224,0.556836351910813,0.5664741509123226,0.4980468551056786,0.5347135081043047,0.5742562847773649,0.4902531811622721,0.5454088544705777,0.48488273979973506,0.5776726900485593,0.5736211557913592,0.6553160802879352,0.6627761127761127,0.585964013176366,0.5819558778861101,0.5104256854256856,0.6801517155683823,0.45754376796043456,0.5411640926153312,0.5374875241519086,0.4201644723369322,0.5243968038540406,0.5466307563963813,0.5502029594263855,0.5443033273915627,0.45790186824669576,0.5357861178450932,0.4774205263335697,0.5146960835393148,0.6278242847687293,0.6161781887495767,0.6574958702342378,0.5398829326158759,0.5520609181140786,0.48518135904499543,0.5149633090028717,0.5349152581228767,0.615038467476288,0.5022281639928698,0.5263429752066116,0.5858766233766233,0.48472560425685435,0.5050874766259381,0.609070436699899,0.5174125454831138,0.5624497250337586,0.6908942802864825,0.5068922397047396,0.5975080475080475,0.57477319222071,0.6188361948945051,0.558616258010995,0.6108766233766234,0.547961427496202,0.5940895066854146,0.5862224041513021,0.5329497953027367,0.5034922892347572,0.5383217091550424,0.538958462172748,0.5910362474744132,0.5371780851437215,0.5756069094304389,0.5739131953286365,0.5400675140354041,0.48333333333333334,0.4922117407411525,0.5746565690750467,0.5821033027549802,0.5819515547778984,0.5029967755377591,0.5836104526641609,0.5476712681258136,0.6023734259892156,0.590694220309605,0.5510120956150513,0.47625702841220086,0.5257716049382717,0.49663260715892293,0.5246574838426333,0.4724534635201887,0.5742730101800649,0.46104938604938606,0.5349092239178443,0.5059624912924205,0.5208214008214008,0.608689553910142,0.5808317499493971,0.5274867724867726,0.5416105595793096,0.5138444158181003,0.4615729544462577,0.5893886712246089,0.5549316123991447,0.5923688023477445,0.5471469271469271,0.5900529430886574,0.5102001281891844,0.4643731711678215,0.5287034676597538,0.5609102944858759,0.4601688311688312,0.5200013375200045,0.5803376560461576,0.45528451900403105,0.44672518839185504,0.6133052474391555,0.5304902378766013,0.4646284271284271,0.5087083414669621,0.5674583132916466,0.5660731999664808,0.5858536331361679,0.4913239538239538,0.4966677995749034,0.5043910925675632,0.5256815352403588,0.5190034320209688,0.5240338225289998,0.4812616621202961,0.48987837298457604,0.45748825771003193,0.5320307668521954,0.572653283855706,0.5568737331762541,0.5422263847263847,0.5130517932805514,0.46998438838345263,0.6205522547627811,0.595878297520523,0.5678621602864024,0.5637985471318804,0.6548302092718336,0.588459314783818,0.5772015128763203,0.5622651938225709,0.5482615841932686,0.5074552841794221,0.5320748390032802,0.5233401201489236,0.6143160148674859,0.5164083860914785,0.48667065882750565,0.5055604947517897,0.5858978378391375,0.5903171991407286,0.485400073125442,0.6193722530719762,0.481428492142778,0.49340738209159263,0.5138556623509735,0.5539064172761204,0.5058222381325536,0.4929971124607802,0.4781032459603887,0.506055921135363,0.5201463451828848,0.5588710143040208,0.5820816088673231,0.5296967500705572,0.54814665813878,0.5792327419959,0.470539314952047,0.508092254817122,0.4821074097203691,0.539429606341371,0.5729554268055456,0.5147099305641152,0.6677561817267699,0.5206966452989444,0.4699413020841593,0.5046910632940045,0.6304232804232803,0.6070374307553796,0.583436531493301,0.5215593434343434,0.51518230413982,0.5861936534054181,0.5906744879805154,0.4708115413997766,0.4987034369139633,0.45872167955501286,0.4935447365134865,0.5388210897470156,0.5012649931767579,0.5939734145170869,0.4917633600966933,0.5612117755631187,0.5491074414650479,0.5960675628373581,0.6241856215203685,0.5801663131877034,0.4989120312649724,0.5515334511516639,0.5373930704581552,0.531737836815962,0.4658837894132012,0.5240230863907334,0.5874897695871379,0.590118651874242,0.5944395028513724,0.5667441218911806,0.5541870845615539,0.504451714951715,0.532034632034632,0.5933136362762343,0.47651727357609724,0.45081175320270234,0.590548720984958,0.52005224414041,0.5281184664394526,0.5338289265695684,0.4976257195809805,0.5543702284511104,0.5001543425980223,0.471053704749357,0.5846952002892596,0.5896347010477446,0.6089892479315557,0.5004253531556164,0.5746908551218898,0.5284684580903068,0.5697939169957384,0.5745638620638621,0.5941752034056429,0.5027777777777778,0.5779134740857226,0.5686753733541443,0.5032121135569411,0.6163224121557456,0.5285618617176112,0.582080767806823,0.5525427539632085,0.5662044627931805,0.591327971229932,0.59870651342883,0.577263454702479,0.5320444987111653,0.44520704241292486,0.5291066601828166,0.491494219001959,0.543805549850708,0.5085283551861092,0.52330830821967,0.4663386277022641,0.4906834586047804,0.4849839644482502,0.5541177257086347,0.5309310197093002,0.6115073745450085,0.5336353684352722,0.5122031312728125,0.5872119568969962,0.5793019736888718,0.6045297056989891,0.4421607905982906,0.526596963016531,0.5075424575424576,0.6333152958152958,0.5443434286217791,0.5539060341103687,0.5156568458561577,0.5313698930426871,0.5858827379883762,0.5990614161666792,0.5007937393575691,0.5046641845355079,0.6302188552188552,0.6023253482061286,0.5263129934698563,0.5774335459861775,0.5431511177340854,0.5366732804232803,0.5360472860472859,0.4175729419631859,0.5425198412698413,0.5641557205441535,0.5591637991637991,0.5314978909978911,0.5032669876419876,0.5432852965747702,0.6011617962415837,0.5559347319347319,0.5712768440709617,0.6579206845164286,0.5647185373965563,0.46409744769119765,0.590562945826104,0.5201979860208654,0.6353004634254634,0.5172811488028879,0.5854366919054501,0.5879565123720478,0.6189484126984126,0.506793100079722,0.546417410587717,0.5792531666940475,0.5570915926179084,0.5243164446055771,0.6201062432548775,0.5388440619209852,0.5799833669731623,0.5679014131502819,0.47198687555830404,0.5998064690411625,0.5956650946108777,0.573860999299596,0.5686722385801333,0.45905293536872477,0.5073908267658267,0.5683702155781745,0.6312333152958154,0.5594735269120695,0.47063492063492074,0.5561299925350787,0.5240628244304713,0.595798872514559,0.4432482550129609,0.6009283959465119,0.5184208152958153,0.552012693994602,0.5977781263570735,0.5553051393051393,0.5134347678465326,0.5429077691682733,0.500953662244091,0.4166632278396985,0.5524006166247544,0.5717069635613956,0.5484160609884124,0.586527299201096,0.6076781695883177,0.5994039447072537,0.580199678075495,0.5197311329880988,0.5454189342707793,0.6631467148262815,0.5814128716678059,0.5092228084415584,0.4971669311329242,0.5783873701042374,0.47750187846341696,0.5162030918141035,0.6034615899802054,0.5902738916547988,0.5095552116575315,0.5157756925614068,0.5679577794112695,0.5229863360639233,0.4693539778458256,0.5482945269388777,0.5689262550315182,0.4758332067542595,0.6366381882006883,0.6108311620153727,0.5295246219332197,0.48166647387996275,0.43107579554947983,0.49329046557307427,0.4921210733710734,0.5121114262738307,0.4884968682922647,0.5275297856727846,0.5438419581044661,0.55163068454738,0.4577430077344078,0.624586333207023,0.49856263528138534,0.49281715017009137,0.510443441362559,0.45678090761193246,0.5496273334508628,0.5567492449071397,0.6619375966681351,0.5635890512077943,0.5450170860885146,0.4968260011662165,0.5022820193741392,0.5742814533137115,0.6297216336530852,0.5570581546697391,0.5609594934435695,0.4972763347763347,0.549834582084582,0.49795159718035537,0.5410218253968254,0.4210468351093351,0.5804502417660313,0.6405783297162609,0.5589810924369747,0.5389559543714865,0.5931303432738154,0.5630843135740163,0.6230007618643981,0.4959624601528786,0.564915935059596,0.5481576317096679,0.5998977432595283,0.6339148482292426,0.6587552328623757,0.47653372613050027,0.5489863833613833,0.5690302207156142,0.47533918840662254,0.5252176567393959,0.567671130952381,0.45852398205659084,0.5238636363636364,0.517953157953158,0.5870547099958864,0.5688441930187214,0.5439771854720311,0.561863532238333,0.5291769232945704,0.5857953846325937,0.5634334051069665,0.6109600121590466,0.5917391576695646,0.4969841269841271,0.4898039790896934,0.577712821983205,0.5563169004055228,0.5237010905760905,0.5102591641965455,0.536165686165686,0.5504484591107397,0.7260615927282593,0.5303997113997114,0.5748558934605448,0.5630863210624186,0.526409453402207,0.43106609574000876,0.5140432098765433,0.5390429125090518,0.5857736068501675,0.5520766626535857,0.42478171623178473,0.4735723213984083,0.5145469242691463,0.5076833112270203,0.5259446769939022,0.5624963816022914,0.572347924800518,0.5642531915434303,0.45123140748140755,0.4919031621972798,0.5691310001109998,0.539244882102025,0.5808354978354978,0.503446645946646,0.5630388235202471,0.5099827256077254,0.6019415970502928,0.561119436119436,0.5821959458919742,0.568746531705058,0.4765563502520024,0.5752486991123354,0.6025289176172139,0.6179006845922463,0.46929012345679016,0.543108743108743,0.46260628260628256,0.4906356801093643,0.5450833816820752,0.5943465377417345,0.5154916350395073,0.5223705307038641,0.5429070836404511,0.5841262523823356,0.4892445655031467,0.603642563398661,0.5602655882756868,0.5324436298088259,0.6580785455673651,0.5822001616910084,0.5889174808242601,0.5288957387641597,0.5773610376551552,0.5482376976047861,0.4988773039580205,0.5350955921551572,0.5201792475601998,0.650445535072083,0.665783288493684,0.4859629137202667,0.6204553844088728,0.542941543008388,0.47648401533850426,0.49901926484204956,0.5433248697485241,0.5826464573829385,0.4688246013246013,0.5769506312401049,0.5207972457406848,0.5268624306550003,0.5941266093782819,0.4874465510335075,0.5626720148111276,0.47968468743936277,0.5572322915180058,0.49939703153988857,0.4765747150855851,0.47990620490620495,0.5102239850494418,0.5999649775677477,0.5708945200792582,0.5314584639624099,0.5863374131933083,0.5052560981010064,0.596571001370084,0.524604921827144,0.5796106489014479,0.6553036983592541,0.539421920671921,0.6575964171190787,0.5766534704918918,0.6110680478941349,0.5149390732724066,0.6381079704609116,0.45724637681159425,0.5685313461048754,0.587890946137938,0.4652805020452079,0.6137673298621011,0.5919730181634943,0.6189232434896311,0.5873214724650571,0.5588329260963533,0.5916388972825245,0.5457733933091908,0.43048305860805863,0.568146543776796,0.6123023159368973,0.5699269865936534,0.5612976384202798,0.521675550848483,0.520688616938617,0.5002076524317465,0.5080739555229352,0.5091291214873426,0.5513456138888667,0.39943977591036417,0.5049454759151605,0.5821653823393355,0.5402081219405989,0.5424420895009131,0.6283418132255342,0.5940845673141503,0.5096491228070177,0.5173690762594506,0.48744588744588746,0.5441944158147568,0.648170299486089,0.593748728123728,0.49940794499618035,0.56435057997558,0.5419115790255497,0.572165953476114,0.545081602914823,0.4811268719031312,0.4599327566089437,0.4496663059163059,0.5231490006127945,0.616987616645151,0.6077872884691066,0.5609202600446795,0.5547675881810498,0.6112901447104774,0.559957243558331,0.5714593239356047,0.4896179052429053,0.5142053276244453,0.560201802008022,0.49928511659280894,0.54590156220591,0.4574544464250347,0.5515444631621104,0.40849446849446847,0.5806922425051639,0.4706311113129295,0.4817141294163353,0.46682013973680647,0.5448799828429457,0.4577835443689102,0.45980527607561406,0.5719771894771893,0.5532425105676827,0.5247711872315707,0.5763596383040831,0.4317406111903393,0.3546241340358987,0.5384920610025277,0.5199063496655612,0.5301306839905635,0.613338394852963,0.5879607531864126,0.5307580003335464,0.5599814089342883,0.48086890038422014,0.4833013876442185,0.5736928510447787,0.5186741363211952,0.4977761579092851,0.6532028532895844,0.5458678226535367,0.5098352584807695,0.5636654543300111,0.5851481725499534,0.6160237535309898,0.5241748037287526,0.5630749763589654,0.6288733523310978,0.5124330035044321,0.5776409930201564,0.4515907048925915,0.589560167501344,0.5247588932015163,0.5097648865286347,0.5353922774991124,0.5446362431156087,0.5023200757575758,0.6068720618182897,0.5056918755551729,0.564531857031857,0.6056753482025219,0.4988046812306778,0.5130164173448579,0.4839321325389437,0.5423389589949692,0.5953368116991374,0.5026493155321355,0.5569966314731016,0.5880884731897265,0.5476258034293748,0.44831086735677833,0.5633889919604205,0.492544240271513,0.6131531313298229,0.5022445277581034,0.4453154190419572,0.5596249477018709,0.4620864515601357,0.5615596610118522,0.5337635551177216,0.6157482223658695,0.5546509663176329,0.6038307144820424,0.5493468257781233,0.59398034954736,0.5793909005738588,0.5563769563769563,0.5412138707016056,0.5306191319992226,0.4078627180899909,0.4557717866928393,0.620187323641271,0.5700443405173321,0.6385373694124421,0.5350894978867053,0.5011239893635113,0.5483498679095062,0.5355489281959871,0.5677300840610521,0.5486273106402976,0.602188123529587,0.5429382583228738,0.4904761904761904,0.6324575158479266,0.4493225318371635,0.6282955907955906,0.5720088533136779,0.42639964202464203,0.5401362819716398,0.6142604617604618,0.576170259161273,0.5752954863473979,0.5837853867265632,0.5771404776978996,0.6005513551421063,0.5387456445654192,0.48623649078194525,0.5903493758112824,0.6465173594631957,0.5759598440474019,0.5763539370422718,0.44531517266974324,0.47735039431468024,0.5115698602421632,0.5612811940667981,0.4557406398315489,0.4659982103867551,0.48114018535071146,0.4726624441918725,0.606836498763582,0.408617011825568,0.5241798498840754,0.5141215248049498,0.5344578799890667,0.6241196581196581,0.5543144997772945,0.508956286375017,0.5379591593393224,0.5242060407832986,0.5675829562763552,0.5646079807538142,0.539162770020035,0.4565678662900886,0.4423287691144833,0.5729210082032665,0.6297747582051175,0.5584835685537307,0.5014245510352776,0.5593110117007177,0.522702251483263,0.457041373916134,0.5538601197552114,0.47545914733414724,0.6250906070673514,0.5185710081787593,0.4668803749406878,0.6155259706280114,0.559789813361242,0.5406801531801533,0.5024436090225564,0.541168941971081,0.5613910533910533,0.583318773637401,0.5159472880061114,0.5208104858104858,0.43549873898711106,0.5450877624790668,0.5799025974025976,0.537049062049062,0.4947678449194844,0.5551631684745274,0.5445904507015618,0.42421406579160587,0.4682955400142137,0.5396357817008569,0.45802685984216074,0.5198194790479219,0.5266200665710471,0.45222164199436926,0.5158415437199037,0.5306995747207897,0.6018752980628295,0.52202567836052,0.5499701013719722,0.5066582407491501,0.5085651848151849,0.4897950924736638,0.5907125350140054,0.5203047318178896,0.5800707541821325,0.5306587267340442,0.5908504570142499,0.43556161567190976,0.5162106761163364,0.5431136862486377,0.5608686067019399,0.5447790596401314,0.5802601208851209,0.493818744799137,0.616378609313392,0.5471531365488692,0.5363123648837935,0.514065019947373,0.4905716390091391,0.4645338960556352,0.5756025854502993,0.5683246958457043,0.45106922398589067,0.4959689133891073,0.5814211036153765,0.5207245584604077,0.4380437271062271,0.5897857350982352,0.5720482088833154,0.4452901429417754,0.497051282051282,0.5057795391660502,0.5460878285388756,0.611651584693753,0.48817509650843,0.5525100600858177,0.5757591379094879,0.5288833203833204,0.5682849187849188,0.5660315367062773,0.5307333587821395],\"xaxis\":\"x\",\"yaxis\":\"y\"},{\"alignmentgroup\":\"True\",\"hovertemplate\":\"rel_bpSaved=%{x}<extra></extra>\",\"legendgroup\":\"\",\"marker\":{\"color\":\"rgb(76,114,176)\"},\"name\":\"\",\"notched\":true,\"offsetgroup\":\"\",\"showlegend\":false,\"type\":\"box\",\"x\":[0.58525988173047,0.48694916194916193,0.5780628838252676,0.5058449692070381,0.468268704475601,0.6186499457332791,0.5665689269109457,0.5716389779418468,0.5333531052281053,0.5222819464486131,0.5497815933067732,0.556180443892643,0.47526154401154397,0.5013992649919388,0.5217284349637291,0.5681422450788648,0.682815332815333,0.47418800020840834,0.5859728844576989,0.45801941114441114,0.5704574196003281,0.5527846378958848,0.5283241293648533,0.566013986013986,0.5158266762156295,0.41964144529934005,0.5875329096441089,0.6087141272899785,0.5802146819588677,0.5791993528666319,0.5050881229773005,0.4209985487763266,0.5432962272323374,0.5373053816931369,0.5203373228866653,0.5498793499520993,0.5852363975893387,0.6270003521199692,0.5757880984684384,0.6161178107606679,0.4535883506471742,0.555290848745338,0.5612836117745303,0.5290192446442445,0.48189203141356257,0.5251513037227323,0.6134957336570238,0.5024567752508928,0.5850751343935325,0.51381139436695,0.5639214069716916,0.5690627857507652,0.5839653928134321,0.5668059622038862,0.5585768398268399,0.5696603396603398,0.5089905058680241,0.5938704100726797,0.5792952352705474,0.48683044009130966,0.45612791249154866,0.4678200128363528,0.4947515447515447,0.5472317649449806,0.5493603243603243,0.5954142823382453,0.52655600579542,0.5858826358826359,0.5642514348396701,0.5607985926779547,0.6341741591741591,0.5008046544400242,0.5130033503272939,0.523352055413066,0.57221310542647,0.5350780700155785,0.4387737262737263,0.592601284657697,0.4850230558151093,0.46981601789900107,0.5290821200657266,0.5559025057186823,0.492633178219399,0.5324595216104651,0.5340802715802715,0.536043237976228,0.49435550082101815,0.5338777549750399,0.4497393578643579,0.49852936465090647,0.5223909594666619,0.5600829725829726,0.5130241571559625,0.4911915506309098,0.47466480142950734,0.5196347264116916,0.4974851830888984,0.5336567221585604,0.5621971595655806,0.580839135696518,0.5986008309871947,0.5610987936655208,0.41097565727546764,0.4973253177798634,0.5370887016409948,0.5055417598770667,0.5911950504692441,0.6355724735035082,0.5126935791151478,0.5821728490454807,0.5802759740259741,0.5626106723611148,0.5897859952547452,0.5797714304925844,0.4217379842379843,0.5277130931998191,0.6025853964629474,0.5463999486176906,0.5862838279074946,0.6021415499909522,0.27463203463203467,0.6045051353874884,0.5980162382803994,0.5561554946692503,0.5521813555901984,0.48227983513366085,0.4782434894546596,0.48556029783708354,0.5307300845845738,0.48968711027534556,0.4527937748525984,0.49704789541069155,0.48128393740820735,0.5482614337377919,0.5057851072470956,0.6005586344872059,0.4683667798804097,0.5891386731460261,0.4928111160869781,0.5288879579202159,0.5686442914384091,0.5367879285297674,0.5661931818181818,0.48348465878189306,0.5669488844488845,0.496519093932887,0.5628962786032607,0.49575412213018727,0.5559275506833776,0.5353472173993565,0.6108010193116576,0.5041593672028454,0.5613264980633401,0.5546199072946448,0.6169512953209108,0.5907872399530867,0.5760020838355717,0.5175383258716592,0.5394667099701039,0.5852170514792513,0.5167358695890704,0.5863320180694365,0.5703328722559491,0.5290990271393406,0.4865689865689865,0.6152018216457872,0.5485442365121509,0.4718649339761782,0.5666580859608421,0.5243892123202468,0.5407197100891568,0.40110819875657483,0.4595489199147734,0.5528894182740337,0.4526652514152514,0.5402519630460807,0.5404478196366672,0.5212896022106549,0.5200667850667848,0.6064174126863636,0.5644612348361172,0.5043832843401808,0.5632103781951653,0.5355933675378118,0.5699967508254938,0.5376851773634861,0.6051237479410856,0.5585547255274024,0.5575972981019103,0.5737032287120123,0.5214421874135496,0.5968208128151313,0.5757248307248307,0.5317947884885005,0.5651054938514021,0.5748195293032243,0.488314726209463,0.6190452719196033,0.6115526883132516,0.562021112455809,0.5854467902518513,0.6194909257409255,0.46186191278397504,0.6346798905826683,0.6089889282689129,0.524502754190254,0.5323370323370323,0.5742173070868054,0.48443902244135206,0.5502143765728014,0.5385322407061537,0.5830794229451519,0.5973056138256485,0.5146011918804874,0.5577712102712102,0.5493590473501528,0.561782541130367,0.5235999126977379,0.5633124289648173,0.5657053793399222,0.5675745992841582,0.5961336049571343,0.5817165881504118,0.5844268556781689,0.5589535104985999,0.5227491178072573,0.5452277602901491,0.5456706633974054,0.554553075066401,0.5879030239662419,0.4691301239255203,0.5147165936295152,0.4986334884831125,0.5637155865290541,0.5399790986314147,0.5581160292698755,0.5731307234432236,0.611060606060606,0.46130158730158727,0.5005239095593789,0.589851231462485,0.5644928047952654,0.5243098742356249,0.6823369091226235,0.617002458325988,0.5704335594960595,0.5848615223471052,0.557992784992785,0.4714550774895603,0.526265339598673,0.4574002349403419,0.5301101913722914,0.5273862972957996,0.5885136510744647,0.5030018227386648,0.510264435077496,0.5686987902448429,0.46000432900432897,0.5792822809744648,0.4730739939073273,0.5222833654111935,0.5594168930542721,0.5541727537695279,0.5556165660443737,0.5356452230356455,0.46119181088816724,0.5961022774454209,0.6209001782531194,0.48493416305916304,0.5449799527654201,0.5021550087339561,0.5140476260181813,0.5325513737778834,0.5409332100925689,0.5132703081232493,0.5057659007659008,0.4754383579383579,0.5991084079319373,0.5843651767335978,0.54002664002664,0.5641349470602837,0.6114284028300345,0.6091307546635154,0.5325429430902554,0.5791646631376919,0.494268363911221,0.5522417624359143,0.5240760998679552,0.5556709956709958,0.45895805583305577,0.5368508113304493,0.5331911839900563,0.5112195226731615,0.6098824725646877,0.5829727286348452,0.5185128257122803,0.6411424512987013,0.49090976363703637,0.5156756744879747,0.5526296019870676,0.48606815789923313,0.5909632451403412,0.5730335055654319,0.5373026384390021,0.571996151996152,0.5457538707538707,0.4556874160322437,0.5211163896621412,0.48644459282214375,0.5267033959552208,0.6119210739034212,0.4804106529435477,0.45947960085891115,0.5848970999744182,0.5846934594405017,0.467473297312007,0.6203799302483509,0.5516475376759221,0.5045928478512748,0.4695696054154701,0.4642992424242423,0.56026603017491,0.5847191487453113,0.5537831331309593,0.5894125715554287,0.566292565001587,0.46732383507731795,0.5572394733294387,0.5528078245614062,0.5450542497346794,0.5040738068515848,0.576577439445086,0.4546918767507004,0.5375139817447511,0.5625676406926406,0.6132246680575977,0.5446877290500772,0.5840295428685522,0.5442471824686067,0.5801678918073515,0.5129606172121651,0.4509788359788361,0.48469690852117514,0.5514365407952008,0.5708660278313766,0.6217374560326837,0.5864438011996228,0.5959540800096217,0.5560414189310825,0.5585826549309093,0.3754606504606505,0.6029078719029697,0.49161255411255417,0.469476356976357,0.47173000610500615,0.6071755118266746,0.5719240708044183,0.5869056432299956,0.5202289573762824,0.5462347696528156,0.5365311467054202,0.5244004146350375,0.5807519683279503,0.560937490564868,0.5757072362335519,0.5642659088264071,0.5357595844988434,0.5807619653074199,0.541202378294272,0.4776224081061075,0.4637743620328759,0.5473000214071644,0.5489713076621326,0.5823845136345137,0.5625261765207418,0.507207498383969,0.5817803357719319,0.47082130832130836,0.41462397251870936,0.4677091975820788,0.5670711233211234,0.5876280020204804,0.5305541877738879,0.5589908235437949,0.4587525855824079,0.620460819373863,0.5044825000707354,0.4702457532720691,0.5953979289193296,0.5995024026388914,0.5406365092734121,0.5590318012651737,0.5738785369220151,0.5627510094947071,0.6093716699966703,0.5641547752658864,0.5418386747932202,0.500419123682475,0.5869408651529394,0.5525841462909133,0.5389776889776889,0.5460168589320011,0.5472049706031545,0.5904876373626374,0.5290312118437118,0.4606887236694928,0.5414957829385686,0.5951704116174352,0.4984155527012671,0.5328635816851635,0.5297237063484692,0.508293934229763,0.48092901107606995,0.5081048844703104,0.4986849009576281,0.5536891936775382,0.5859108639371259,0.5553920677973501,0.492788171424535,0.6367337001970459,0.5338696563154767,0.5482721860729884,0.5942323336247639,0.540041684894626,0.49076714348453465,0.5859370269215981,0.491625949807768,0.5407138840600076,0.5998960012221511,0.5034439385600871,0.5606627995827353,0.5393472893472893,0.5192331814880834,0.4941426794976491,0.48725041298570704,0.5400871459694988,0.5998389514121779,0.5963135803207673,0.49522842592709154,0.5037555380557772,0.4913497210850152,0.40123286435786437,0.5479690387585123,0.6103141956083133,0.5800258201394564,0.5635703802370468,0.5252891542039334,0.6344282106782105,0.5797846494392546,0.5535423260213177,0.5818607921281009,0.5920969384458229,0.5319490114886535,0.5111053094508977,0.5510129613975768,0.5240272770707554,0.5878046795442393,0.4489809210397446,0.5415628085364926,0.5735999812447008,0.5253027942724895,0.5980296523399972,0.552601550261978,0.5373653730907163,0.5585212406640978,0.5589851373155873,0.6101468572327469,0.5237253989971381,0.5454171820243248,0.5771060612347905,0.5626774391967762,0.5646227325914827,0.594519870965277,0.6094898565486802,0.5565639335247178,0.5773547241289176,0.5821764899253586,0.6474400044400044,0.6369711021797277,0.5697366793951711,0.5975584930942073,0.5383574525381248,0.491675556270174,0.48326372365429277,0.5794578510336277,0.5398412729779245,0.5737669719812577,0.5701199966518592,0.5972451159951161,0.5671299646648674,0.5855583101943034,0.5081154776581869,0.47762047067536473,0.5343570258892842,0.581065417958001,0.5838235750216717,0.582267260660689,0.5988155106210662,0.5167562829327534,0.6266686507297813,0.4963147380164187,0.49540979853479844,0.594984985538619,0.5954815005127649,0.5874240346570067,0.545697297871211,0.5764343101343099,0.517552945139152,0.5736628962435414,0.584757949422077,0.5737886649150019,0.4465558361391694,0.4884929173390711,0.6739787581699347,0.5599445212906752,0.5294095002673433,0.5291608610687558,0.5426696321294564,0.5649365722582239,0.5169370043558942,0.5606705028031461,0.436121417204305,0.5402117631073007,0.5513641485148838,0.6153814022235075,0.6106084622077266,0.5787994412994413,0.6226783400557532,0.547554378370168,0.499974654411774,0.5743319855744734,0.6190854007831296,0.5748234845295949,0.5523481801422977,0.5684852048822636,0.5604712538923065,0.5705550418832502,0.5958920752224234,0.4040674603174603,0.5622082987711593,0.4768531010082951,0.5021117785253095,0.5196844456712878,0.5056663318760092,0.47665205148509177,0.5155512768884863,0.5004139848206786,0.507408955778521,0.5575525437754542,0.591531595019967,0.582241827790522,0.4970146690541429,0.5212414950031049,0.5230050525376357,0.6989691662105454,0.6098058568156609,0.567413995901391,0.49026455026455024,0.6110930751304712,0.5135127499703077,0.49718204921693293,0.5149904800415004,0.5543578720662055,0.5166666666666666,0.652980730289773,0.5334845772628578,0.5307045706271714,0.6120537814415363,0.47104297915423826,0.5281444457667888,0.5730681818181818,0.6039213612126536,0.5829365722413851,0.6103988993866294,0.4998570889608043,0.5290136983886033,0.593791270181935,0.5929611942564161,0.5209576821645785,0.5538783938189711,0.527305633129497,0.5559529976196642,0.5653263403263404,0.5256630756730133,0.599721121382128,0.5713043695232224,0.556836351910813,0.5664741509123226,0.4980468551056786,0.5347135081043047,0.5742562847773649,0.4902531811622721,0.5454088544705777,0.48488273979973506,0.5776726900485593,0.5736211557913592,0.6553160802879352,0.6627761127761127,0.585964013176366,0.5819558778861101,0.5104256854256856,0.6801517155683823,0.45754376796043456,0.5411640926153312,0.5374875241519086,0.4201644723369322,0.5243968038540406,0.5466307563963813,0.5502029594263855,0.5443033273915627,0.45790186824669576,0.5357861178450932,0.4774205263335697,0.5146960835393148,0.6278242847687293,0.6161781887495767,0.6574958702342378,0.5398829326158759,0.5520609181140786,0.48518135904499543,0.5149633090028717,0.5349152581228767,0.615038467476288,0.5022281639928698,0.5263429752066116,0.5858766233766233,0.48472560425685435,0.5050874766259381,0.609070436699899,0.5174125454831138,0.5624497250337586,0.6908942802864825,0.5068922397047396,0.5975080475080475,0.57477319222071,0.6188361948945051,0.558616258010995,0.6108766233766234,0.547961427496202,0.5940895066854146,0.5862224041513021,0.5329497953027367,0.5034922892347572,0.5383217091550424,0.538958462172748,0.5910362474744132,0.5371780851437215,0.5756069094304389,0.5739131953286365,0.5400675140354041,0.48333333333333334,0.4922117407411525,0.5746565690750467,0.5821033027549802,0.5819515547778984,0.5029967755377591,0.5836104526641609,0.5476712681258136,0.6023734259892156,0.590694220309605,0.5510120956150513,0.47625702841220086,0.5257716049382717,0.49663260715892293,0.5246574838426333,0.4724534635201887,0.5742730101800649,0.46104938604938606,0.5349092239178443,0.5059624912924205,0.5208214008214008,0.608689553910142,0.5808317499493971,0.5274867724867726,0.5416105595793096,0.5138444158181003,0.4615729544462577,0.5893886712246089,0.5549316123991447,0.5923688023477445,0.5471469271469271,0.5900529430886574,0.5102001281891844,0.4643731711678215,0.5287034676597538,0.5609102944858759,0.4601688311688312,0.5200013375200045,0.5803376560461576,0.45528451900403105,0.44672518839185504,0.6133052474391555,0.5304902378766013,0.4646284271284271,0.5087083414669621,0.5674583132916466,0.5660731999664808,0.5858536331361679,0.4913239538239538,0.4966677995749034,0.5043910925675632,0.5256815352403588,0.5190034320209688,0.5240338225289998,0.4812616621202961,0.48987837298457604,0.45748825771003193,0.5320307668521954,0.572653283855706,0.5568737331762541,0.5422263847263847,0.5130517932805514,0.46998438838345263,0.6205522547627811,0.595878297520523,0.5678621602864024,0.5637985471318804,0.6548302092718336,0.588459314783818,0.5772015128763203,0.5622651938225709,0.5482615841932686,0.5074552841794221,0.5320748390032802,0.5233401201489236,0.6143160148674859,0.5164083860914785,0.48667065882750565,0.5055604947517897,0.5858978378391375,0.5903171991407286,0.485400073125442,0.6193722530719762,0.481428492142778,0.49340738209159263,0.5138556623509735,0.5539064172761204,0.5058222381325536,0.4929971124607802,0.4781032459603887,0.506055921135363,0.5201463451828848,0.5588710143040208,0.5820816088673231,0.5296967500705572,0.54814665813878,0.5792327419959,0.470539314952047,0.508092254817122,0.4821074097203691,0.539429606341371,0.5729554268055456,0.5147099305641152,0.6677561817267699,0.5206966452989444,0.4699413020841593,0.5046910632940045,0.6304232804232803,0.6070374307553796,0.583436531493301,0.5215593434343434,0.51518230413982,0.5861936534054181,0.5906744879805154,0.4708115413997766,0.4987034369139633,0.45872167955501286,0.4935447365134865,0.5388210897470156,0.5012649931767579,0.5939734145170869,0.4917633600966933,0.5612117755631187,0.5491074414650479,0.5960675628373581,0.6241856215203685,0.5801663131877034,0.4989120312649724,0.5515334511516639,0.5373930704581552,0.531737836815962,0.4658837894132012,0.5240230863907334,0.5874897695871379,0.590118651874242,0.5944395028513724,0.5667441218911806,0.5541870845615539,0.504451714951715,0.532034632034632,0.5933136362762343,0.47651727357609724,0.45081175320270234,0.590548720984958,0.52005224414041,0.5281184664394526,0.5338289265695684,0.4976257195809805,0.5543702284511104,0.5001543425980223,0.471053704749357,0.5846952002892596,0.5896347010477446,0.6089892479315557,0.5004253531556164,0.5746908551218898,0.5284684580903068,0.5697939169957384,0.5745638620638621,0.5941752034056429,0.5027777777777778,0.5779134740857226,0.5686753733541443,0.5032121135569411,0.6163224121557456,0.5285618617176112,0.582080767806823,0.5525427539632085,0.5662044627931805,0.591327971229932,0.59870651342883,0.577263454702479,0.5320444987111653,0.44520704241292486,0.5291066601828166,0.491494219001959,0.543805549850708,0.5085283551861092,0.52330830821967,0.4663386277022641,0.4906834586047804,0.4849839644482502,0.5541177257086347,0.5309310197093002,0.6115073745450085,0.5336353684352722,0.5122031312728125,0.5872119568969962,0.5793019736888718,0.6045297056989891,0.4421607905982906,0.526596963016531,0.5075424575424576,0.6333152958152958,0.5443434286217791,0.5539060341103687,0.5156568458561577,0.5313698930426871,0.5858827379883762,0.5990614161666792,0.5007937393575691,0.5046641845355079,0.6302188552188552,0.6023253482061286,0.5263129934698563,0.5774335459861775,0.5431511177340854,0.5366732804232803,0.5360472860472859,0.4175729419631859,0.5425198412698413,0.5641557205441535,0.5591637991637991,0.5314978909978911,0.5032669876419876,0.5432852965747702,0.6011617962415837,0.5559347319347319,0.5712768440709617,0.6579206845164286,0.5647185373965563,0.46409744769119765,0.590562945826104,0.5201979860208654,0.6353004634254634,0.5172811488028879,0.5854366919054501,0.5879565123720478,0.6189484126984126,0.506793100079722,0.546417410587717,0.5792531666940475,0.5570915926179084,0.5243164446055771,0.6201062432548775,0.5388440619209852,0.5799833669731623,0.5679014131502819,0.47198687555830404,0.5998064690411625,0.5956650946108777,0.573860999299596,0.5686722385801333,0.45905293536872477,0.5073908267658267,0.5683702155781745,0.6312333152958154,0.5594735269120695,0.47063492063492074,0.5561299925350787,0.5240628244304713,0.595798872514559,0.4432482550129609,0.6009283959465119,0.5184208152958153,0.552012693994602,0.5977781263570735,0.5553051393051393,0.5134347678465326,0.5429077691682733,0.500953662244091,0.4166632278396985,0.5524006166247544,0.5717069635613956,0.5484160609884124,0.586527299201096,0.6076781695883177,0.5994039447072537,0.580199678075495,0.5197311329880988,0.5454189342707793,0.6631467148262815,0.5814128716678059,0.5092228084415584,0.4971669311329242,0.5783873701042374,0.47750187846341696,0.5162030918141035,0.6034615899802054,0.5902738916547988,0.5095552116575315,0.5157756925614068,0.5679577794112695,0.5229863360639233,0.4693539778458256,0.5482945269388777,0.5689262550315182,0.4758332067542595,0.6366381882006883,0.6108311620153727,0.5295246219332197,0.48166647387996275,0.43107579554947983,0.49329046557307427,0.4921210733710734,0.5121114262738307,0.4884968682922647,0.5275297856727846,0.5438419581044661,0.55163068454738,0.4577430077344078,0.624586333207023,0.49856263528138534,0.49281715017009137,0.510443441362559,0.45678090761193246,0.5496273334508628,0.5567492449071397,0.6619375966681351,0.5635890512077943,0.5450170860885146,0.4968260011662165,0.5022820193741392,0.5742814533137115,0.6297216336530852,0.5570581546697391,0.5609594934435695,0.4972763347763347,0.549834582084582,0.49795159718035537,0.5410218253968254,0.4210468351093351,0.5804502417660313,0.6405783297162609,0.5589810924369747,0.5389559543714865,0.5931303432738154,0.5630843135740163,0.6230007618643981,0.4959624601528786,0.564915935059596,0.5481576317096679,0.5998977432595283,0.6339148482292426,0.6587552328623757,0.47653372613050027,0.5489863833613833,0.5690302207156142,0.47533918840662254,0.5252176567393959,0.567671130952381,0.45852398205659084,0.5238636363636364,0.517953157953158,0.5870547099958864,0.5688441930187214,0.5439771854720311,0.561863532238333,0.5291769232945704,0.5857953846325937,0.5634334051069665,0.6109600121590466,0.5917391576695646,0.4969841269841271,0.4898039790896934,0.577712821983205,0.5563169004055228,0.5237010905760905,0.5102591641965455,0.536165686165686,0.5504484591107397,0.7260615927282593,0.5303997113997114,0.5748558934605448,0.5630863210624186,0.526409453402207,0.43106609574000876,0.5140432098765433,0.5390429125090518,0.5857736068501675,0.5520766626535857,0.42478171623178473,0.4735723213984083,0.5145469242691463,0.5076833112270203,0.5259446769939022,0.5624963816022914,0.572347924800518,0.5642531915434303,0.45123140748140755,0.4919031621972798,0.5691310001109998,0.539244882102025,0.5808354978354978,0.503446645946646,0.5630388235202471,0.5099827256077254,0.6019415970502928,0.561119436119436,0.5821959458919742,0.568746531705058,0.4765563502520024,0.5752486991123354,0.6025289176172139,0.6179006845922463,0.46929012345679016,0.543108743108743,0.46260628260628256,0.4906356801093643,0.5450833816820752,0.5943465377417345,0.5154916350395073,0.5223705307038641,0.5429070836404511,0.5841262523823356,0.4892445655031467,0.603642563398661,0.5602655882756868,0.5324436298088259,0.6580785455673651,0.5822001616910084,0.5889174808242601,0.5288957387641597,0.5773610376551552,0.5482376976047861,0.4988773039580205,0.5350955921551572,0.5201792475601998,0.650445535072083,0.665783288493684,0.4859629137202667,0.6204553844088728,0.542941543008388,0.47648401533850426,0.49901926484204956,0.5433248697485241,0.5826464573829385,0.4688246013246013,0.5769506312401049,0.5207972457406848,0.5268624306550003,0.5941266093782819,0.4874465510335075,0.5626720148111276,0.47968468743936277,0.5572322915180058,0.49939703153988857,0.4765747150855851,0.47990620490620495,0.5102239850494418,0.5999649775677477,0.5708945200792582,0.5314584639624099,0.5863374131933083,0.5052560981010064,0.596571001370084,0.524604921827144,0.5796106489014479,0.6553036983592541,0.539421920671921,0.6575964171190787,0.5766534704918918,0.6110680478941349,0.5149390732724066,0.6381079704609116,0.45724637681159425,0.5685313461048754,0.587890946137938,0.4652805020452079,0.6137673298621011,0.5919730181634943,0.6189232434896311,0.5873214724650571,0.5588329260963533,0.5916388972825245,0.5457733933091908,0.43048305860805863,0.568146543776796,0.6123023159368973,0.5699269865936534,0.5612976384202798,0.521675550848483,0.520688616938617,0.5002076524317465,0.5080739555229352,0.5091291214873426,0.5513456138888667,0.39943977591036417,0.5049454759151605,0.5821653823393355,0.5402081219405989,0.5424420895009131,0.6283418132255342,0.5940845673141503,0.5096491228070177,0.5173690762594506,0.48744588744588746,0.5441944158147568,0.648170299486089,0.593748728123728,0.49940794499618035,0.56435057997558,0.5419115790255497,0.572165953476114,0.545081602914823,0.4811268719031312,0.4599327566089437,0.4496663059163059,0.5231490006127945,0.616987616645151,0.6077872884691066,0.5609202600446795,0.5547675881810498,0.6112901447104774,0.559957243558331,0.5714593239356047,0.4896179052429053,0.5142053276244453,0.560201802008022,0.49928511659280894,0.54590156220591,0.4574544464250347,0.5515444631621104,0.40849446849446847,0.5806922425051639,0.4706311113129295,0.4817141294163353,0.46682013973680647,0.5448799828429457,0.4577835443689102,0.45980527607561406,0.5719771894771893,0.5532425105676827,0.5247711872315707,0.5763596383040831,0.4317406111903393,0.3546241340358987,0.5384920610025277,0.5199063496655612,0.5301306839905635,0.613338394852963,0.5879607531864126,0.5307580003335464,0.5599814089342883,0.48086890038422014,0.4833013876442185,0.5736928510447787,0.5186741363211952,0.4977761579092851,0.6532028532895844,0.5458678226535367,0.5098352584807695,0.5636654543300111,0.5851481725499534,0.6160237535309898,0.5241748037287526,0.5630749763589654,0.6288733523310978,0.5124330035044321,0.5776409930201564,0.4515907048925915,0.589560167501344,0.5247588932015163,0.5097648865286347,0.5353922774991124,0.5446362431156087,0.5023200757575758,0.6068720618182897,0.5056918755551729,0.564531857031857,0.6056753482025219,0.4988046812306778,0.5130164173448579,0.4839321325389437,0.5423389589949692,0.5953368116991374,0.5026493155321355,0.5569966314731016,0.5880884731897265,0.5476258034293748,0.44831086735677833,0.5633889919604205,0.492544240271513,0.6131531313298229,0.5022445277581034,0.4453154190419572,0.5596249477018709,0.4620864515601357,0.5615596610118522,0.5337635551177216,0.6157482223658695,0.5546509663176329,0.6038307144820424,0.5493468257781233,0.59398034954736,0.5793909005738588,0.5563769563769563,0.5412138707016056,0.5306191319992226,0.4078627180899909,0.4557717866928393,0.620187323641271,0.5700443405173321,0.6385373694124421,0.5350894978867053,0.5011239893635113,0.5483498679095062,0.5355489281959871,0.5677300840610521,0.5486273106402976,0.602188123529587,0.5429382583228738,0.4904761904761904,0.6324575158479266,0.4493225318371635,0.6282955907955906,0.5720088533136779,0.42639964202464203,0.5401362819716398,0.6142604617604618,0.576170259161273,0.5752954863473979,0.5837853867265632,0.5771404776978996,0.6005513551421063,0.5387456445654192,0.48623649078194525,0.5903493758112824,0.6465173594631957,0.5759598440474019,0.5763539370422718,0.44531517266974324,0.47735039431468024,0.5115698602421632,0.5612811940667981,0.4557406398315489,0.4659982103867551,0.48114018535071146,0.4726624441918725,0.606836498763582,0.408617011825568,0.5241798498840754,0.5141215248049498,0.5344578799890667,0.6241196581196581,0.5543144997772945,0.508956286375017,0.5379591593393224,0.5242060407832986,0.5675829562763552,0.5646079807538142,0.539162770020035,0.4565678662900886,0.4423287691144833,0.5729210082032665,0.6297747582051175,0.5584835685537307,0.5014245510352776,0.5593110117007177,0.522702251483263,0.457041373916134,0.5538601197552114,0.47545914733414724,0.6250906070673514,0.5185710081787593,0.4668803749406878,0.6155259706280114,0.559789813361242,0.5406801531801533,0.5024436090225564,0.541168941971081,0.5613910533910533,0.583318773637401,0.5159472880061114,0.5208104858104858,0.43549873898711106,0.5450877624790668,0.5799025974025976,0.537049062049062,0.4947678449194844,0.5551631684745274,0.5445904507015618,0.42421406579160587,0.4682955400142137,0.5396357817008569,0.45802685984216074,0.5198194790479219,0.5266200665710471,0.45222164199436926,0.5158415437199037,0.5306995747207897,0.6018752980628295,0.52202567836052,0.5499701013719722,0.5066582407491501,0.5085651848151849,0.4897950924736638,0.5907125350140054,0.5203047318178896,0.5800707541821325,0.5306587267340442,0.5908504570142499,0.43556161567190976,0.5162106761163364,0.5431136862486377,0.5608686067019399,0.5447790596401314,0.5802601208851209,0.493818744799137,0.616378609313392,0.5471531365488692,0.5363123648837935,0.514065019947373,0.4905716390091391,0.4645338960556352,0.5756025854502993,0.5683246958457043,0.45106922398589067,0.4959689133891073,0.5814211036153765,0.5207245584604077,0.4380437271062271,0.5897857350982352,0.5720482088833154,0.4452901429417754,0.497051282051282,0.5057795391660502,0.5460878285388756,0.611651584693753,0.48817509650843,0.5525100600858177,0.5757591379094879,0.5288833203833204,0.5682849187849188,0.5660315367062773,0.5307333587821395],\"xaxis\":\"x2\",\"yaxis\":\"y2\"}],                        {\"barmode\":\"relative\",\"legend\":{\"tracegroupgap\":0},\"margin\":{\"t\":60},\"template\":{\"data\":{\"bar\":[{\"error_x\":{\"color\":\"rgb(36,36,36)\"},\"error_y\":{\"color\":\"rgb(36,36,36)\"},\"marker\":{\"line\":{\"color\":\"rgb(234,234,242)\",\"width\":0.5},\"pattern\":{\"fillmode\":\"overlay\",\"size\":10,\"solidity\":0.2}},\"type\":\"bar\"}],\"barpolar\":[{\"marker\":{\"line\":{\"color\":\"rgb(234,234,242)\",\"width\":0.5},\"pattern\":{\"fillmode\":\"overlay\",\"size\":10,\"solidity\":0.2}},\"type\":\"barpolar\"}],\"carpet\":[{\"aaxis\":{\"endlinecolor\":\"rgb(36,36,36)\",\"gridcolor\":\"white\",\"linecolor\":\"white\",\"minorgridcolor\":\"white\",\"startlinecolor\":\"rgb(36,36,36)\"},\"baxis\":{\"endlinecolor\":\"rgb(36,36,36)\",\"gridcolor\":\"white\",\"linecolor\":\"white\",\"minorgridcolor\":\"white\",\"startlinecolor\":\"rgb(36,36,36)\"},\"type\":\"carpet\"}],\"choropleth\":[{\"colorbar\":{\"outlinewidth\":0,\"tickcolor\":\"rgb(36,36,36)\",\"ticklen\":8,\"ticks\":\"outside\",\"tickwidth\":2},\"type\":\"choropleth\"}],\"contour\":[{\"colorbar\":{\"outlinewidth\":0,\"tickcolor\":\"rgb(36,36,36)\",\"ticklen\":8,\"ticks\":\"outside\",\"tickwidth\":2},\"colorscale\":[[0.0,\"rgb(2,4,25)\"],[0.06274509803921569,\"rgb(24,15,41)\"],[0.12549019607843137,\"rgb(47,23,57)\"],[0.18823529411764706,\"rgb(71,28,72)\"],[0.25098039215686274,\"rgb(97,30,82)\"],[0.3137254901960784,\"rgb(123,30,89)\"],[0.3764705882352941,\"rgb(150,27,91)\"],[0.4392156862745098,\"rgb(177,22,88)\"],[0.5019607843137255,\"rgb(203,26,79)\"],[0.5647058823529412,\"rgb(223,47,67)\"],[0.6274509803921569,\"rgb(236,76,61)\"],[0.6901960784313725,\"rgb(242,107,73)\"],[0.7529411764705882,\"rgb(244,135,95)\"],[0.8156862745098039,\"rgb(245,162,122)\"],[0.8784313725490196,\"rgb(246,188,153)\"],[0.9411764705882353,\"rgb(247,212,187)\"],[1.0,\"rgb(250,234,220)\"]],\"type\":\"contour\"}],\"contourcarpet\":[{\"colorbar\":{\"outlinewidth\":0,\"tickcolor\":\"rgb(36,36,36)\",\"ticklen\":8,\"ticks\":\"outside\",\"tickwidth\":2},\"type\":\"contourcarpet\"}],\"heatmap\":[{\"colorbar\":{\"outlinewidth\":0,\"tickcolor\":\"rgb(36,36,36)\",\"ticklen\":8,\"ticks\":\"outside\",\"tickwidth\":2},\"colorscale\":[[0.0,\"rgb(2,4,25)\"],[0.06274509803921569,\"rgb(24,15,41)\"],[0.12549019607843137,\"rgb(47,23,57)\"],[0.18823529411764706,\"rgb(71,28,72)\"],[0.25098039215686274,\"rgb(97,30,82)\"],[0.3137254901960784,\"rgb(123,30,89)\"],[0.3764705882352941,\"rgb(150,27,91)\"],[0.4392156862745098,\"rgb(177,22,88)\"],[0.5019607843137255,\"rgb(203,26,79)\"],[0.5647058823529412,\"rgb(223,47,67)\"],[0.6274509803921569,\"rgb(236,76,61)\"],[0.6901960784313725,\"rgb(242,107,73)\"],[0.7529411764705882,\"rgb(244,135,95)\"],[0.8156862745098039,\"rgb(245,162,122)\"],[0.8784313725490196,\"rgb(246,188,153)\"],[0.9411764705882353,\"rgb(247,212,187)\"],[1.0,\"rgb(250,234,220)\"]],\"type\":\"heatmap\"}],\"heatmapgl\":[{\"colorbar\":{\"outlinewidth\":0,\"tickcolor\":\"rgb(36,36,36)\",\"ticklen\":8,\"ticks\":\"outside\",\"tickwidth\":2},\"colorscale\":[[0.0,\"rgb(2,4,25)\"],[0.06274509803921569,\"rgb(24,15,41)\"],[0.12549019607843137,\"rgb(47,23,57)\"],[0.18823529411764706,\"rgb(71,28,72)\"],[0.25098039215686274,\"rgb(97,30,82)\"],[0.3137254901960784,\"rgb(123,30,89)\"],[0.3764705882352941,\"rgb(150,27,91)\"],[0.4392156862745098,\"rgb(177,22,88)\"],[0.5019607843137255,\"rgb(203,26,79)\"],[0.5647058823529412,\"rgb(223,47,67)\"],[0.6274509803921569,\"rgb(236,76,61)\"],[0.6901960784313725,\"rgb(242,107,73)\"],[0.7529411764705882,\"rgb(244,135,95)\"],[0.8156862745098039,\"rgb(245,162,122)\"],[0.8784313725490196,\"rgb(246,188,153)\"],[0.9411764705882353,\"rgb(247,212,187)\"],[1.0,\"rgb(250,234,220)\"]],\"type\":\"heatmapgl\"}],\"histogram\":[{\"marker\":{\"pattern\":{\"fillmode\":\"overlay\",\"size\":10,\"solidity\":0.2}},\"type\":\"histogram\"}],\"histogram2d\":[{\"colorbar\":{\"outlinewidth\":0,\"tickcolor\":\"rgb(36,36,36)\",\"ticklen\":8,\"ticks\":\"outside\",\"tickwidth\":2},\"colorscale\":[[0.0,\"rgb(2,4,25)\"],[0.06274509803921569,\"rgb(24,15,41)\"],[0.12549019607843137,\"rgb(47,23,57)\"],[0.18823529411764706,\"rgb(71,28,72)\"],[0.25098039215686274,\"rgb(97,30,82)\"],[0.3137254901960784,\"rgb(123,30,89)\"],[0.3764705882352941,\"rgb(150,27,91)\"],[0.4392156862745098,\"rgb(177,22,88)\"],[0.5019607843137255,\"rgb(203,26,79)\"],[0.5647058823529412,\"rgb(223,47,67)\"],[0.6274509803921569,\"rgb(236,76,61)\"],[0.6901960784313725,\"rgb(242,107,73)\"],[0.7529411764705882,\"rgb(244,135,95)\"],[0.8156862745098039,\"rgb(245,162,122)\"],[0.8784313725490196,\"rgb(246,188,153)\"],[0.9411764705882353,\"rgb(247,212,187)\"],[1.0,\"rgb(250,234,220)\"]],\"type\":\"histogram2d\"}],\"histogram2dcontour\":[{\"colorbar\":{\"outlinewidth\":0,\"tickcolor\":\"rgb(36,36,36)\",\"ticklen\":8,\"ticks\":\"outside\",\"tickwidth\":2},\"colorscale\":[[0.0,\"rgb(2,4,25)\"],[0.06274509803921569,\"rgb(24,15,41)\"],[0.12549019607843137,\"rgb(47,23,57)\"],[0.18823529411764706,\"rgb(71,28,72)\"],[0.25098039215686274,\"rgb(97,30,82)\"],[0.3137254901960784,\"rgb(123,30,89)\"],[0.3764705882352941,\"rgb(150,27,91)\"],[0.4392156862745098,\"rgb(177,22,88)\"],[0.5019607843137255,\"rgb(203,26,79)\"],[0.5647058823529412,\"rgb(223,47,67)\"],[0.6274509803921569,\"rgb(236,76,61)\"],[0.6901960784313725,\"rgb(242,107,73)\"],[0.7529411764705882,\"rgb(244,135,95)\"],[0.8156862745098039,\"rgb(245,162,122)\"],[0.8784313725490196,\"rgb(246,188,153)\"],[0.9411764705882353,\"rgb(247,212,187)\"],[1.0,\"rgb(250,234,220)\"]],\"type\":\"histogram2dcontour\"}],\"mesh3d\":[{\"colorbar\":{\"outlinewidth\":0,\"tickcolor\":\"rgb(36,36,36)\",\"ticklen\":8,\"ticks\":\"outside\",\"tickwidth\":2},\"type\":\"mesh3d\"}],\"parcoords\":[{\"line\":{\"colorbar\":{\"outlinewidth\":0,\"tickcolor\":\"rgb(36,36,36)\",\"ticklen\":8,\"ticks\":\"outside\",\"tickwidth\":2}},\"type\":\"parcoords\"}],\"pie\":[{\"automargin\":true,\"type\":\"pie\"}],\"scatter\":[{\"marker\":{\"colorbar\":{\"outlinewidth\":0,\"tickcolor\":\"rgb(36,36,36)\",\"ticklen\":8,\"ticks\":\"outside\",\"tickwidth\":2}},\"type\":\"scatter\"}],\"scatter3d\":[{\"line\":{\"colorbar\":{\"outlinewidth\":0,\"tickcolor\":\"rgb(36,36,36)\",\"ticklen\":8,\"ticks\":\"outside\",\"tickwidth\":2}},\"marker\":{\"colorbar\":{\"outlinewidth\":0,\"tickcolor\":\"rgb(36,36,36)\",\"ticklen\":8,\"ticks\":\"outside\",\"tickwidth\":2}},\"type\":\"scatter3d\"}],\"scattercarpet\":[{\"marker\":{\"colorbar\":{\"outlinewidth\":0,\"tickcolor\":\"rgb(36,36,36)\",\"ticklen\":8,\"ticks\":\"outside\",\"tickwidth\":2}},\"type\":\"scattercarpet\"}],\"scattergeo\":[{\"marker\":{\"colorbar\":{\"outlinewidth\":0,\"tickcolor\":\"rgb(36,36,36)\",\"ticklen\":8,\"ticks\":\"outside\",\"tickwidth\":2}},\"type\":\"scattergeo\"}],\"scattergl\":[{\"marker\":{\"colorbar\":{\"outlinewidth\":0,\"tickcolor\":\"rgb(36,36,36)\",\"ticklen\":8,\"ticks\":\"outside\",\"tickwidth\":2}},\"type\":\"scattergl\"}],\"scattermapbox\":[{\"marker\":{\"colorbar\":{\"outlinewidth\":0,\"tickcolor\":\"rgb(36,36,36)\",\"ticklen\":8,\"ticks\":\"outside\",\"tickwidth\":2}},\"type\":\"scattermapbox\"}],\"scatterpolar\":[{\"marker\":{\"colorbar\":{\"outlinewidth\":0,\"tickcolor\":\"rgb(36,36,36)\",\"ticklen\":8,\"ticks\":\"outside\",\"tickwidth\":2}},\"type\":\"scatterpolar\"}],\"scatterpolargl\":[{\"marker\":{\"colorbar\":{\"outlinewidth\":0,\"tickcolor\":\"rgb(36,36,36)\",\"ticklen\":8,\"ticks\":\"outside\",\"tickwidth\":2}},\"type\":\"scatterpolargl\"}],\"scatterternary\":[{\"marker\":{\"colorbar\":{\"outlinewidth\":0,\"tickcolor\":\"rgb(36,36,36)\",\"ticklen\":8,\"ticks\":\"outside\",\"tickwidth\":2}},\"type\":\"scatterternary\"}],\"surface\":[{\"colorbar\":{\"outlinewidth\":0,\"tickcolor\":\"rgb(36,36,36)\",\"ticklen\":8,\"ticks\":\"outside\",\"tickwidth\":2},\"colorscale\":[[0.0,\"rgb(2,4,25)\"],[0.06274509803921569,\"rgb(24,15,41)\"],[0.12549019607843137,\"rgb(47,23,57)\"],[0.18823529411764706,\"rgb(71,28,72)\"],[0.25098039215686274,\"rgb(97,30,82)\"],[0.3137254901960784,\"rgb(123,30,89)\"],[0.3764705882352941,\"rgb(150,27,91)\"],[0.4392156862745098,\"rgb(177,22,88)\"],[0.5019607843137255,\"rgb(203,26,79)\"],[0.5647058823529412,\"rgb(223,47,67)\"],[0.6274509803921569,\"rgb(236,76,61)\"],[0.6901960784313725,\"rgb(242,107,73)\"],[0.7529411764705882,\"rgb(244,135,95)\"],[0.8156862745098039,\"rgb(245,162,122)\"],[0.8784313725490196,\"rgb(246,188,153)\"],[0.9411764705882353,\"rgb(247,212,187)\"],[1.0,\"rgb(250,234,220)\"]],\"type\":\"surface\"}],\"table\":[{\"cells\":{\"fill\":{\"color\":\"rgb(231,231,240)\"},\"line\":{\"color\":\"white\"}},\"header\":{\"fill\":{\"color\":\"rgb(183,183,191)\"},\"line\":{\"color\":\"white\"}},\"type\":\"table\"}]},\"layout\":{\"annotationdefaults\":{\"arrowcolor\":\"rgb(67,103,167)\"},\"autotypenumbers\":\"strict\",\"coloraxis\":{\"colorbar\":{\"outlinewidth\":0,\"tickcolor\":\"rgb(36,36,36)\",\"ticklen\":8,\"ticks\":\"outside\",\"tickwidth\":2}},\"colorscale\":{\"sequential\":[[0.0,\"rgb(2,4,25)\"],[0.06274509803921569,\"rgb(24,15,41)\"],[0.12549019607843137,\"rgb(47,23,57)\"],[0.18823529411764706,\"rgb(71,28,72)\"],[0.25098039215686274,\"rgb(97,30,82)\"],[0.3137254901960784,\"rgb(123,30,89)\"],[0.3764705882352941,\"rgb(150,27,91)\"],[0.4392156862745098,\"rgb(177,22,88)\"],[0.5019607843137255,\"rgb(203,26,79)\"],[0.5647058823529412,\"rgb(223,47,67)\"],[0.6274509803921569,\"rgb(236,76,61)\"],[0.6901960784313725,\"rgb(242,107,73)\"],[0.7529411764705882,\"rgb(244,135,95)\"],[0.8156862745098039,\"rgb(245,162,122)\"],[0.8784313725490196,\"rgb(246,188,153)\"],[0.9411764705882353,\"rgb(247,212,187)\"],[1.0,\"rgb(250,234,220)\"]],\"sequentialminus\":[[0.0,\"rgb(2,4,25)\"],[0.06274509803921569,\"rgb(24,15,41)\"],[0.12549019607843137,\"rgb(47,23,57)\"],[0.18823529411764706,\"rgb(71,28,72)\"],[0.25098039215686274,\"rgb(97,30,82)\"],[0.3137254901960784,\"rgb(123,30,89)\"],[0.3764705882352941,\"rgb(150,27,91)\"],[0.4392156862745098,\"rgb(177,22,88)\"],[0.5019607843137255,\"rgb(203,26,79)\"],[0.5647058823529412,\"rgb(223,47,67)\"],[0.6274509803921569,\"rgb(236,76,61)\"],[0.6901960784313725,\"rgb(242,107,73)\"],[0.7529411764705882,\"rgb(244,135,95)\"],[0.8156862745098039,\"rgb(245,162,122)\"],[0.8784313725490196,\"rgb(246,188,153)\"],[0.9411764705882353,\"rgb(247,212,187)\"],[1.0,\"rgb(250,234,220)\"]]},\"colorway\":[\"rgb(76,114,176)\",\"rgb(221,132,82)\",\"rgb(85,168,104)\",\"rgb(196,78,82)\",\"rgb(129,114,179)\",\"rgb(147,120,96)\",\"rgb(218,139,195)\",\"rgb(140,140,140)\",\"rgb(204,185,116)\",\"rgb(100,181,205)\"],\"font\":{\"color\":\"rgb(36,36,36)\"},\"geo\":{\"bgcolor\":\"white\",\"lakecolor\":\"white\",\"landcolor\":\"rgb(234,234,242)\",\"showlakes\":true,\"showland\":true,\"subunitcolor\":\"white\"},\"hoverlabel\":{\"align\":\"left\"},\"hovermode\":\"closest\",\"paper_bgcolor\":\"white\",\"plot_bgcolor\":\"rgb(234,234,242)\",\"polar\":{\"angularaxis\":{\"gridcolor\":\"white\",\"linecolor\":\"white\",\"showgrid\":true,\"ticks\":\"\"},\"bgcolor\":\"rgb(234,234,242)\",\"radialaxis\":{\"gridcolor\":\"white\",\"linecolor\":\"white\",\"showgrid\":true,\"ticks\":\"\"}},\"scene\":{\"xaxis\":{\"backgroundcolor\":\"rgb(234,234,242)\",\"gridcolor\":\"white\",\"gridwidth\":2,\"linecolor\":\"white\",\"showbackground\":true,\"showgrid\":true,\"ticks\":\"\",\"zerolinecolor\":\"white\"},\"yaxis\":{\"backgroundcolor\":\"rgb(234,234,242)\",\"gridcolor\":\"white\",\"gridwidth\":2,\"linecolor\":\"white\",\"showbackground\":true,\"showgrid\":true,\"ticks\":\"\",\"zerolinecolor\":\"white\"},\"zaxis\":{\"backgroundcolor\":\"rgb(234,234,242)\",\"gridcolor\":\"white\",\"gridwidth\":2,\"linecolor\":\"white\",\"showbackground\":true,\"showgrid\":true,\"ticks\":\"\",\"zerolinecolor\":\"white\"}},\"shapedefaults\":{\"fillcolor\":\"rgb(67,103,167)\",\"line\":{\"width\":0},\"opacity\":0.5},\"ternary\":{\"aaxis\":{\"gridcolor\":\"white\",\"linecolor\":\"white\",\"showgrid\":true,\"ticks\":\"\"},\"baxis\":{\"gridcolor\":\"white\",\"linecolor\":\"white\",\"showgrid\":true,\"ticks\":\"\"},\"bgcolor\":\"rgb(234,234,242)\",\"caxis\":{\"gridcolor\":\"white\",\"linecolor\":\"white\",\"showgrid\":true,\"ticks\":\"\"}},\"xaxis\":{\"automargin\":true,\"gridcolor\":\"white\",\"linecolor\":\"white\",\"showgrid\":true,\"ticks\":\"\",\"title\":{\"standoff\":15},\"zerolinecolor\":\"white\"},\"yaxis\":{\"automargin\":true,\"gridcolor\":\"white\",\"linecolor\":\"white\",\"showgrid\":true,\"ticks\":\"\",\"title\":{\"standoff\":15},\"zerolinecolor\":\"white\"}}},\"xaxis\":{\"anchor\":\"y\",\"domain\":[0.0,1.0],\"title\":{\"text\":\"rel_bpSaved\"}},\"xaxis2\":{\"anchor\":\"y2\",\"domain\":[0.0,1.0],\"matches\":\"x\",\"showticklabels\":false},\"yaxis\":{\"anchor\":\"x\",\"domain\":[0.0,0.8316],\"title\":{\"text\":\"count\"}},\"yaxis2\":{\"anchor\":\"x2\",\"domain\":[0.8416,1.0],\"matches\":\"y2\",\"showline\":false,\"showticklabels\":false,\"ticks\":\"\"}},                        {\"responsive\": true}                    ).then(function(){\n                            \nvar gd = document.getElementById('795b50e5-608b-4e18-8600-b7e3eeb0fb48');\nvar x = new MutationObserver(function (mutations, observer) {{\n        var display = window.getComputedStyle(gd).display;\n        if (!display || display === 'none') {{\n            console.log([gd, 'removed!']);\n            Plotly.purge(gd);\n            observer.disconnect();\n        }}\n}});\n\n// Listen for the removal of the full notebook cells\nvar notebookContainer = gd.closest('#notebook-container');\nif (notebookContainer) {{\n    x.observe(notebookContainer, {childList: true});\n}}\n\n// Listen for the clearing of the current output cell\nvar outputEl = gd.closest('.output');\nif (outputEl) {{\n    x.observe(outputEl, {childList: true});\n}}\n\n                        })                };                            </script>        </div>\n</body>\n</html>"
     },
     "metadata": {},
     "output_type": "display_data"
    }
   ]
  },
  {
   "cell_type": "markdown",
   "source": "## Output",
   "metadata": {
    "tags": [],
    "is_collapsed": false,
    "cell_id": "00049-d5955f57-101d-4c94-9e39-cde864db38db",
    "deepnote_cell_type": "text-cell-h2"
   }
  },
  {
   "cell_type": "code",
   "metadata": {
    "tags": [],
    "cell_id": "00053-6c15b0e9-b25f-4b38-a92e-55ca9ac258ee",
    "deepnote_to_be_reexecuted": false,
    "source_hash": "71b48e32",
    "execution_start": 1636929381508,
    "execution_millis": 392,
    "output_cleared": true,
    "deepnote_cell_type": "code"
   },
   "source": "df_players.to_csv(\"./datasets/players.csv\")",
   "execution_count": null,
   "outputs": []
  },
  {
   "cell_type": "markdown",
   "source": "<a style='text-decoration:none;line-height:16px;display:flex;color:#5B5B62;padding:10px;justify-content:end;' href='https://deepnote.com?utm_source=created-in-deepnote-cell&projectId=56da3ab5-e195-41aa-a609-f5fefeb3379d' target=\"_blank\">\n<img alt='Created in deepnote.com' style='display:inline;max-height:16px;margin:0px;margin-right:7.5px;' src='data:image/svg+xml;base64,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' > </img>\nCreated in <span style='font-weight:600;margin-left:4px;'>Deepnote</span></a>",
   "metadata": {
    "tags": [],
    "created_in_deepnote_cell": true,
    "deepnote_cell_type": "markdown"
   }
  }
 ],
 "nbformat": 4,
 "nbformat_minor": 2,
 "metadata": {
  "deepnote": {
   "is_reactive": false
  },
  "deepnote_execution_queue": [],
  "deepnote_notebook_id": "05837d03-c002-450d-b5d8-64788293877d",
  "kernelspec": {
   "name": "python3",
   "display_name": "Python 3.9.7 64-bit ('dm': conda)"
  },
  "language_info": {
   "codemirror_mode": {
    "name": "ipython",
    "version": 3
   },
   "file_extension": ".py",
   "mimetype": "text/x-python",
   "name": "python",
   "nbconvert_exporter": "python",
   "pygments_lexer": "ipython3",
   "version": "3.9.7"
  },
  "interpreter": {
   "hash": "11bc6520eaf059b9bc04ee98b4f739ace287d2f24aeca2977117dec1068ffc1c"
  }
 }
}