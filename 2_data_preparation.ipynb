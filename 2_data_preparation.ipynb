{
 "cells": [
  {
   "cell_type": "markdown",
   "source": "# Players dataset preparation",
   "metadata": {
    "cell_id": "00000-6d7bd2a9-f467-46e3-8bab-0f2e57fecd74",
    "tags": [],
    "deepnote_cell_type": "markdown"
   }
  },
  {
   "cell_type": "code",
   "metadata": {
    "cell_id": "00007-e4e23cab-52a6-4d81-95b2-312666a29307",
    "deepnote_to_be_reexecuted": false,
    "execution_millis": 2424,
    "execution_start": 1636770726499,
    "source_hash": "1e33ae68",
    "tags": [],
    "output_cleared": true,
    "deepnote_cell_type": "code"
   },
   "source": "import pandas as pd\nimport numpy as np\n\n# Visualization\nimport plotly.express as px\nimport plotly.io as pio\npd.options.plotting.backend = 'plotly'\npio.templates.default = \"seaborn\"",
   "execution_count": null,
   "outputs": []
  },
  {
   "cell_type": "markdown",
   "source": "## Reading and initial processing",
   "metadata": {
    "cell_id": "00005-e868dfee-80d4-4dee-b17c-413edb43f67e",
    "is_collapsed": false,
    "tags": [],
    "deepnote_cell_type": "text-cell-h2"
   }
  },
  {
   "cell_type": "code",
   "metadata": {
    "cell_id": "00000-3b97f354-41cd-4023-bf75-89686aff1d4c",
    "deepnote_to_be_reexecuted": false,
    "execution_millis": 1810,
    "execution_start": 1636770728940,
    "source_hash": "60b41d74",
    "tags": [],
    "output_cleared": true,
    "deepnote_cell_type": "code"
   },
   "source": "# Read datasets\ndf_tennis = pd.read_csv(\"./datasets/tennis_matches_cleaned.csv\", parse_dates=[\"tourney_date\"])\ndf_male = pd.read_csv(\"./datasets/male_players.csv\")\ndf_female = pd.read_csv(\"./datasets/female_players.csv\")\n\ndf_male.drop_duplicates(inplace=True)\ndf_female.drop_duplicates(inplace=True)\n\ndef preprocess_strings(df):\n    df = df.applymap(lambda x:x.lower().strip() if type(x) == str else x)\n    return df.replace(r\"\\s{2,}\", \" \", regex=True)\n\ndf_tennis.tourney_date = pd.to_datetime(df_tennis.tourney_date, format='%Y%m%d')\n\n# Normalize strings\ndf_male = preprocess_strings(df_male)\ndf_female = preprocess_strings(df_female)",
   "execution_count": null,
   "outputs": []
  },
  {
   "cell_type": "code",
   "metadata": {
    "cell_id": "00003-5904af19-0d29-44f9-9183-81cfd807befa",
    "deepnote_to_be_reexecuted": false,
    "execution_millis": 1328,
    "execution_start": 1636770730773,
    "source_hash": "8a97309a",
    "tags": [],
    "output_cleared": true,
    "deepnote_cell_type": "code"
   },
   "source": "# Create a new players dataset whose name is the concatenation of the name and the surname for the male and female players\ndf = pd.concat([df_male.name + \" \" + df_male.surname], axis=1, keys=[\"name\", \"gender\"])\ndf[\"gender\"] = \"m\"\ndf_players = df\ndf = pd.concat([df_female.name + \" \" + df_female.surname], axis=1, keys=[\"name\", \"gender\"])\ndf[\"gender\"] = \"f\"\ndf_players = df_players.append(df)\n\n# Remove duplicates arising from the intersection\ndf_players = df_players.drop_duplicates(subset=[\"name\"])\ndf_players = df_players.sort_values(by=[\"name\"])\ndf_players.reset_index(drop=True, inplace=True)\n\n# Merge the players dataset with the tennis dataset\ndf = pd.merge(df_tennis, df_players.rename(columns = {'name': 'winner_name', 'gender':'winner_gender'}), on=\"winner_name\", how=\"left\")\ndf = pd.merge(df, df_players.rename(columns = {'name': 'loser_name', 'gender':'loser_gender'}), on=\"loser_name\", how=\"left\")\n\n# Find the players who do not have a gender and assign them the most common among the genders of the players they played with. \nwinners = df[df.winner_gender.isnull()].groupby([\"winner_name\", \"loser_gender\"]).loser_gender.count().reset_index(name=\"occurrences\").rename(columns={\"winner_name\":\"name\", \"loser_gender\":\"gender\"})\n\nlosers = df[df.loser_gender.isnull()].groupby([\"loser_name\", \"winner_gender\"]).winner_gender.count().reset_index(name=\"occurrences\").rename(columns={\"loser_name\":\"name\", \"winner_gender\":\"gender\"})\n\nestimate = pd.concat([winners, losers]).groupby([\"name\", \"gender\"]).occurrences.sum().reset_index(name=\"occurrences\")\nestimate = estimate.sort_values(by=[\"name\", \"occurrences\"], ascending=[1, 0]).drop_duplicates(\"name\", keep=\"first\").drop(columns=[\"occurrences\"])\n\n# Create the players dataset\ndf_players = df.loc[:, ['winner_name', 'winner_gender']].set_axis(['name', 'gender'], axis=1, inplace=False)\ndf_players = df_players.append(df.loc[:, ['loser_name', 'loser_gender']].set_axis(['name', 'gender'], axis=1, inplace=False))\ndf_players = df_players.append(estimate)\ndf_players = df_players.dropna().drop_duplicates()\ndf_players = df_players.sort_values(by=[\"name\"]).reset_index(drop=True)\ndf_players.head()",
   "execution_count": null,
   "outputs": []
  },
  {
   "cell_type": "code",
   "metadata": {
    "cell_id": "00006-f5ad2563-810f-45b2-b4aa-6b1880d4609d",
    "deepnote_to_be_reexecuted": false,
    "execution_millis": 162,
    "execution_start": 1636770732146,
    "source_hash": "8edbb6ec",
    "tags": [],
    "output_cleared": true,
    "deepnote_cell_type": "code"
   },
   "source": "df_tennis.head()",
   "execution_count": null,
   "outputs": []
  },
  {
   "cell_type": "markdown",
   "source": "## Feature engineering",
   "metadata": {
    "cell_id": "00009-6a38d428-6806-42d6-bdf9-ce4f38117aab",
    "is_collapsed": false,
    "tags": [],
    "deepnote_cell_type": "text-cell-h2"
   }
  },
  {
   "cell_type": "markdown",
   "source": "### Mean, max, entropy of minutes",
   "metadata": {
    "tags": [],
    "is_collapsed": false,
    "cell_id": "00007-a0f59b61-195f-4c60-8255-92272f4aa32c",
    "deepnote_cell_type": "text-cell-h3"
   }
  },
  {
   "cell_type": "code",
   "metadata": {
    "cell_id": "00004-4ac37992-bea6-488c-bef4-0b69c15556aa",
    "deepnote_to_be_reexecuted": false,
    "execution_millis": 98,
    "execution_start": 1636770732306,
    "source_hash": "f239a880",
    "tags": [],
    "output_cleared": true,
    "deepnote_cell_type": "code"
   },
   "source": "df_w = df_tennis.loc[:, ['winner_name', 'minutes']].rename(columns={'winner_name': 'name'})\ndf_l = df_tennis.loc[:, ['loser_name', 'minutes']].rename(columns={'loser_name': 'name'})\n\ndf = pd.concat([df_w, df_l]).groupby('name').mean().minutes.reset_index(name = \"minutes_mean\")\n\ndf_players = df_players.merge(df, on=\"name\")\n\nprint(len(df))\nprint(len(df_players))\n",
   "execution_count": null,
   "outputs": []
  },
  {
   "cell_type": "code",
   "metadata": {
    "tags": [],
    "cell_id": "00009-69f21fea-6ae8-432b-b1db-f6cc25d26798",
    "deepnote_to_be_reexecuted": false,
    "source_hash": "dbccc215",
    "execution_start": 1636770732415,
    "execution_millis": 99,
    "output_cleared": true,
    "deepnote_cell_type": "code"
   },
   "source": "df_w = df_tennis.loc[:, ['winner_name', 'minutes']].rename(columns={'winner_name': 'name'})\ndf_l = df_tennis.loc[:, ['loser_name', 'minutes']].rename(columns={'loser_name': 'name'})\n\ndf = pd.concat([df_w, df_l]).groupby('name').max().minutes.reset_index(name = \"minutes_max\")\n\ndf_players = df_players.merge(df, on=\"name\")\n\n\nprint(len(df))\nprint(len(df_players))",
   "execution_count": null,
   "outputs": []
  },
  {
   "cell_type": "code",
   "metadata": {
    "tags": [],
    "cell_id": "00010-0c061522-c699-4e07-a8b8-2d9117549e9f",
    "deepnote_to_be_reexecuted": false,
    "source_hash": "fbf3c661",
    "execution_start": 1636770732540,
    "execution_millis": 134,
    "output_cleared": true,
    "deepnote_cell_type": "code"
   },
   "source": "df_w = df_tennis.loc[:, ['winner_name', 'minutes']].rename(columns={'winner_name': 'name'})\ndf_l = df_tennis.loc[:, ['loser_name', 'minutes']].rename(columns={'loser_name': 'name'})\n\ndf = pd.concat([df_w, df_l])\n\ng_sum = df.groupby('name')['minutes'].transform('sum')\nvalues = df['minutes']/g_sum\ndf['minutes_entropy'] = -(values*np.log(values))\n\ndf1 = df.groupby('name',as_index=False,sort=False)['minutes_entropy'].sum()\n\n# TODO join con df_players\n\nprint(len(df))\nprint(len(df_players))",
   "execution_count": null,
   "outputs": []
  },
  {
   "cell_type": "markdown",
   "source": "### Tourneys played",
   "metadata": {
    "cell_id": "00008-05dc878c-fc01-4140-9e70-da3d89a47860",
    "is_collapsed": false,
    "tags": [],
    "deepnote_cell_type": "text-cell-h3"
   }
  },
  {
   "cell_type": "code",
   "metadata": {
    "cell_id": "00003-39d62f33-0711-4ce7-b493-b934dd7a7c78",
    "deepnote_to_be_reexecuted": false,
    "execution_millis": 198,
    "execution_start": 1636770732723,
    "source_hash": "223d3d86",
    "tags": [],
    "output_cleared": true,
    "deepnote_cell_type": "code"
   },
   "source": "df_w = df_tennis.loc[:, ['winner_name', 'tourney_id']].rename(columns={'winner_name': 'name'})\ndf_l = df_tennis.loc[:, ['loser_name', 'tourney_id']].rename(columns={'loser_name': 'name'})\n\n#  giocatori e relativo numero di partecipazioni ai tornei\ndf = pd.concat([df_w, df_l]).groupby('name').tourney_id.nunique().reset_index(name=\"total_tourneys_played\")\n\n# aggiungere feature al data_frame dei profili dei player\ndf_players = df_players.merge(df, on=\"name\")\n\n# stampare dataframe\nprint(len(df))\nprint(len(df_players))",
   "execution_count": null,
   "outputs": []
  },
  {
   "cell_type": "markdown",
   "source": "### Matches played",
   "metadata": {
    "cell_id": "00005-027c5828-3572-4f88-89d7-7bae902ee473",
    "is_collapsed": false,
    "tags": [],
    "deepnote_cell_type": "text-cell-h3"
   }
  },
  {
   "cell_type": "code",
   "metadata": {
    "cell_id": "00005-54f4defe-bae9-4e9d-a90c-59b4bc23ab2d",
    "deepnote_to_be_reexecuted": false,
    "execution_millis": 124,
    "execution_start": 1636770732841,
    "source_hash": "449072bb",
    "tags": [],
    "output_cleared": true,
    "deepnote_cell_type": "code"
   },
   "source": "df_w = df_tennis.loc[:, ['winner_name', 'tourney_id']].rename(columns={'winner_name': 'name'})\ndf_l = df_tennis.loc[:, ['loser_name', 'tourney_id']].rename(columns={'loser_name': 'name'})\n\n#  giocatori e relativo numero di match giocati\ndf = pd.concat([df_w, df_l]).groupby('name').tourney_id.count().reset_index(name=\"total_matches_played\")\n\n# aggiungere feature al data_frame dei profili dei player\ndf_players = df_players.merge(df, on=\"name\")\n\n# stampare dataframe\nprint(len(df))\nprint(len(df_players))",
   "execution_count": null,
   "outputs": []
  },
  {
   "cell_type": "markdown",
   "source": "### Matches won",
   "metadata": {
    "cell_id": "00012-9a3e5bfe-b099-4311-841d-f96254921293",
    "is_collapsed": false,
    "tags": [],
    "deepnote_cell_type": "text-cell-h3"
   }
  },
  {
   "cell_type": "code",
   "metadata": {
    "cell_id": "00007-7c9f71b8-4ac7-4062-97fd-1cff9e4df3f5",
    "deepnote_to_be_reexecuted": false,
    "execution_millis": 35,
    "execution_start": 1636770732996,
    "source_hash": "513eebb7",
    "tags": [],
    "output_cleared": true,
    "deepnote_cell_type": "code"
   },
   "source": "df = df_tennis.loc[:, ['winner_name', 'tourney_id']].rename(columns={'winner_name': 'name'})\n\n#  giocatori e relativo numero di match vinti\ndf = df.groupby('name').tourney_id.count().reset_index(name=\"total_matches_won\")\n\n# aggiungere feature al data_frame dei profili dei player\ndf_players = df_players.merge(df, on=\"name\", how=\"left\")\ndf_players.total_matches_won.fillna(0, inplace=True)\n\n# stampare dataframe\nprint(len(df))\nprint(len(df_players))",
   "execution_count": null,
   "outputs": []
  },
  {
   "cell_type": "markdown",
   "source": "### Matches won ratio",
   "metadata": {
    "tags": [],
    "is_collapsed": false,
    "cell_id": "00017-145c4f0b-7ad1-44c1-8857-89fe4b90ba26",
    "deepnote_cell_type": "text-cell-h3"
   }
  },
  {
   "cell_type": "code",
   "metadata": {
    "tags": [],
    "cell_id": "00015-cfdd4a5e-b1a8-489e-86a0-833011ab2b06",
    "deepnote_to_be_reexecuted": false,
    "source_hash": "34bbd411",
    "execution_start": 1636770733035,
    "execution_millis": 48,
    "output_cleared": true,
    "deepnote_cell_type": "code"
   },
   "source": "df_players[\"matches_won_ratio\"] = df_players[\"total_matches_won\"] / df_players[\"total_matches_played\"]",
   "execution_count": null,
   "outputs": []
  },
  {
   "cell_type": "markdown",
   "source": "### Mean, max, min won_matches_ratio in a tourney",
   "metadata": {
    "cell_id": "00020-21326ab5-8361-4bf1-8d48-a2ee71b76e18",
    "is_collapsed": false,
    "tags": [],
    "deepnote_cell_type": "text-cell-h3"
   }
  },
  {
   "cell_type": "code",
   "metadata": {
    "cell_id": "00020-16a8123e-925d-4c02-9be2-b6ea848b6ddd",
    "deepnote_to_be_reexecuted": false,
    "execution_millis": 418,
    "execution_start": 1636770733083,
    "source_hash": "cac1a9af",
    "tags": [],
    "output_cleared": true,
    "deepnote_cell_type": "code"
   },
   "source": "df_w = df_tennis.loc[:, ['winner_name', 'tourney_id']].rename(columns={'winner_name': 'name'})\ndf_l = df_tennis.loc[:, ['loser_name', 'tourney_id']].rename(columns={'loser_name': 'name'})\n\nmatches_won_per_tourney = df_w.groupby(['name', 'tourney_id']).tourney_id.count().reset_index(name=\"total_matches_won_per_tourney\")\n\nmatches_played_per_tourney = pd.concat([df_w, df_l]).groupby(['name', 'tourney_id']).tourney_id.count().reset_index(name=\"total_matches_played_per_tourney\")\ndf = matches_played_per_tourney.merge(matches_won_per_tourney, on=['name', 'tourney_id'], how=\"left\")\ndf.total_matches_won_per_tourney = df.total_matches_won_per_tourney.fillna(0).astype('Int32')\ndf[\"won_ratio\"] = df.total_matches_won_per_tourney / df.total_matches_played_per_tourney\n\ndf = df.groupby(['name']).won_ratio.agg(mean_won_ratio=\"mean\", max_won_ratio=\"max\", min_won_ratio=\"min\")\ndf_players = df_players.merge(df, on=\"name\")\ndel matches_won_per_tourney, matches_played_per_tourney\n\nprint(len(df))\nprint(len(df_players))",
   "execution_count": null,
   "outputs": []
  },
  {
   "cell_type": "markdown",
   "source": "### Height",
   "metadata": {
    "cell_id": "00004-61bb3085-2df2-489a-ab3b-2a29a018ae9f",
    "is_collapsed": false,
    "tags": [],
    "deepnote_cell_type": "text-cell-h3"
   }
  },
  {
   "cell_type": "markdown",
   "source": "Feature probabilmente inutilizzabile, l'abbiamo solo per 541 giocatori",
   "metadata": {
    "cell_id": "00020-b76a4886-bccc-41be-a21d-20402808aa27",
    "tags": [],
    "deepnote_cell_type": "markdown"
   }
  },
  {
   "cell_type": "code",
   "metadata": {
    "cell_id": "00005-a7c4542c-e696-42b4-bf1e-206fce7509eb",
    "deepnote_to_be_reexecuted": false,
    "execution_millis": 172,
    "execution_start": 1636770733520,
    "source_hash": "552c5774",
    "tags": [],
    "output_cleared": true,
    "deepnote_cell_type": "code"
   },
   "source": "df_w = df_tennis.loc[:, ['winner_name', 'winner_ht', 'tourney_date']].rename(columns={'winner_name': 'name', 'winner_ht': 'ht'})\ndf_l = df_tennis.loc[:, ['loser_name', 'loser_ht', 'tourney_date']].rename(columns={'loser_name': 'name', 'loser_ht': 'ht'})\n\n# giocatori e relativa altezza\ndf = pd.concat([df_w, df_l]).sort_values('tourney_date', ascending='False').groupby('name').ht.first().reset_index()\n\n# aggiungere feature al data_frame dei profili dei player\ndf_players = df_players.merge(df, on=\"name\")\n\n# stampare numero di valori nulli e dataframe\nprint('Numero giocatori per cui abbiamo altezza ' + str(len(df[df.ht.notnull()])))\nprint('Numero giocatori totali ' + str(len(df)))\ndf\n\nprint(len(df))\nprint(len(df_players))",
   "execution_count": null,
   "outputs": []
  },
  {
   "cell_type": "markdown",
   "source": "### Age",
   "metadata": {
    "cell_id": "00006-de571e94-5140-4939-a4a7-3b13a9c91869",
    "is_collapsed": false,
    "tags": [],
    "deepnote_cell_type": "text-cell-h3"
   }
  },
  {
   "cell_type": "code",
   "metadata": {
    "cell_id": "00007-74e95c47-38b9-4ecb-a46c-a8d09da758e0",
    "deepnote_to_be_reexecuted": false,
    "execution_millis": 128,
    "execution_start": 1636770733692,
    "source_hash": "e1c0834a",
    "tags": [],
    "output_cleared": true,
    "deepnote_cell_type": "code"
   },
   "source": "df_w = df_tennis.loc[:, ['winner_name', 'winner_age', 'tourney_date']].rename(columns={'winner_name': 'name', 'winner_age': 'age'})\ndf_l = (df_tennis.loc[:, ['loser_name', 'loser_age', 'tourney_date']]).rename(columns={'loser_name': 'name', 'loser_age': 'age'})\n\n# giocatori e relativa età\ndf = pd.concat([df_w, df_l]).sort_values('tourney_date', ascending='False').groupby('name').age.first().reset_index()\n\n# aggiungere feature al data_frame dei profili dei player\ndf_players = df_players.merge(df, on=\"name\")\n\n# stampare numero di valori nulli e dataframe\nprint('Numero giocatori per cui abbiamo l\\'età ' + str(len(df[df.age.notnull()])))\nprint('Numero giocatori totali ' + str(len(df)))\ndf\n\nprint(len(df))\nprint(len(df_players))\n",
   "execution_count": null,
   "outputs": []
  },
  {
   "cell_type": "markdown",
   "source": "### Hand",
   "metadata": {
    "cell_id": "00007-281c7043-a12f-4590-a603-a520172915e8",
    "is_collapsed": false,
    "tags": [],
    "deepnote_cell_type": "text-cell-h3"
   }
  },
  {
   "cell_type": "code",
   "metadata": {
    "cell_id": "00008-b86f7be5-e75f-471a-8ceb-95d5cff67137",
    "deepnote_to_be_reexecuted": false,
    "execution_millis": 2373,
    "execution_start": 1636770733830,
    "source_hash": "f62f8cf6",
    "tags": [],
    "output_cleared": true,
    "deepnote_cell_type": "code"
   },
   "source": "df_w = df_tennis.loc[:, ['winner_name', 'winner_hand']].rename(columns={'winner_name': 'name', 'winner_hand': 'hand'})\ndf_l = (df_tennis.loc[:, ['loser_name', 'loser_hand']]).rename(columns={'loser_name': 'name', 'loser_hand': 'hand'})\n\n# giocatori e relativa mano preferita\ndf = pd.concat([df_w, df_l]).groupby('name').hand.agg(pd.Series.mode).reset_index()\n\n# aggiungere feature al data_frame dei profili dei player\ndf_players = df_players.merge(df, on=\"name\")\n\n# stampare numero di valori nulli e dataframe\nprint('Numero giocatori per cui abbiamo la mano ' + str(len(df[df.hand.notnull()])))\nprint('Numero giocatori totali ' + str(len(df)))\ndf\n\nprint(len(df))\nprint(len(df_players))",
   "execution_count": null,
   "outputs": []
  },
  {
   "cell_type": "markdown",
   "source": "### Ranking",
   "metadata": {
    "cell_id": "00019-cb201105-9966-4f97-92fe-45c5d78d33b6",
    "is_collapsed": false,
    "tags": [],
    "deepnote_cell_type": "text-cell-h3"
   }
  },
  {
   "cell_type": "code",
   "metadata": {
    "cell_id": "00017-9cb4ac3a-d191-420b-b2c0-417a5ee66375",
    "deepnote_to_be_reexecuted": false,
    "execution_millis": 2086,
    "execution_start": 1636770736216,
    "source_hash": "993aa301",
    "tags": [],
    "output_cleared": true,
    "deepnote_cell_type": "code"
   },
   "source": "df_w = df_tennis.loc[:, ['winner_name', 'winner_rank_points', 'tourney_date']].rename(columns={'winner_name': 'name', 'winner_rank_points': 'rank_points'})\ndf_l = (df_tennis.loc[:, ['loser_name', 'loser_rank_points', 'tourney_date']]).rename(columns={'loser_name': 'name', 'loser_rank_points': 'rank_points'})\n\n# giocatori e relative misure su ranking (varianza, media, max)\ndf = pd.concat([df_l, df_w]).sort_values('tourney_date', ascending = False).groupby('name').rank_points.agg(mean_rank_points='mean', max_rank_points='max', last_rank_points='first', variance_rank_points=lambda x: np.var(x,ddof=0)).reset_index()\n\n# aggiungere feature al data_frame dei profili dei player\ndf_players = df_players.merge(df, on=\"name\")\n\n# stampare numero di valori nulli e dataframe\nprint('numero di valori null mean_rank_points ' + str(df.mean_rank_points.isna().sum()) + ' su ' + str(len(df.mean_rank_points)))\nprint('numero di valori null max_rank_points ' + str(df.max_rank_points.isna().sum()) + ' su ' + str(len(df.mean_rank_points)))\nprint('numero di valori null last_rank_points ' + str(df.last_rank_points.isna().sum()) + ' su ' + str(len(df.mean_rank_points)))\nprint('numero di valori null variance_rank_points ' + str(df.variance_rank_points.isna().sum()) + ' su ' + str(len(df.variance_rank_points)))\ndf\n\nprint(len(df))\nprint(len(df_players))",
   "execution_count": null,
   "outputs": []
  },
  {
   "cell_type": "markdown",
   "source": "### Spectator",
   "metadata": {
    "cell_id": "00024-67fc80ff-dc20-4c7c-9952-9c1a7be5511f",
    "is_collapsed": false,
    "tags": [],
    "deepnote_cell_type": "text-cell-h3"
   }
  },
  {
   "cell_type": "code",
   "metadata": {
    "cell_id": "00024-41e99b0f-16a3-418c-b2e9-7d4551f46734",
    "deepnote_to_be_reexecuted": false,
    "execution_millis": 83,
    "execution_start": 1636770738315,
    "source_hash": "ada4c700",
    "tags": [],
    "output_cleared": true,
    "deepnote_cell_type": "code"
   },
   "source": "df_w = df_tennis.loc[:, ['winner_name', 'tourney_spectators']].rename(columns = {'winner_name': 'name'})\ndf_l = (df_tennis.loc[:, ['loser_name', 'tourney_spectators']]).rename(columns = {'loser_name': 'name'})\n\n# giocatori e relative misure sugli spectator (media e max)\ndf = pd.concat([df_l, df_w]).groupby('name').tourney_spectators.agg(mean_tourney_spectators='mean', max_tourney_spectators='max').reset_index()\n\n# aggiungere feature al data_frame dei profili dei player\ndf_players = df_players.merge(df, on=\"name\")\n\n# stampare numero di valori nulli e dataframe\nprint('Numero di nulli in mean_tourney_spectators ' + str(df.mean_tourney_spectators.isna().sum()))\nprint('Numero di nulli in max_tourney_spectators ' + str(df.max_tourney_spectators.isna().sum()))\ndf\n\n\nprint(len(df))\nprint(len(df_players))",
   "execution_count": null,
   "outputs": []
  },
  {
   "cell_type": "markdown",
   "source": "### Revenue",
   "metadata": {
    "cell_id": "00025-885fd7a5-8de2-4538-8379-94c820528af9",
    "is_collapsed": false,
    "tags": [],
    "deepnote_cell_type": "text-cell-h3"
   }
  },
  {
   "cell_type": "code",
   "metadata": {
    "cell_id": "00026-742b09e3-5a35-4d24-9575-3ae24eebc4ee",
    "deepnote_to_be_reexecuted": false,
    "execution_millis": 91,
    "execution_start": 1636770738407,
    "source_hash": "c10be9e0",
    "tags": [],
    "output_cleared": true,
    "deepnote_cell_type": "code"
   },
   "source": "df_w = df_tennis.loc[:, ['winner_name', 'tourney_revenue']].rename(columns = {'winner_name': 'name'})\ndf_l = (df_tennis.loc[:, ['loser_name', 'tourney_revenue']]).rename(columns = {'loser_name': 'name'})\n\n# giocatori e relative misure su revenue (media e max)\ndf = pd.concat([df_l, df_w]).groupby('name').tourney_revenue.agg(mean_tourney_revenue='mean', max_tourney_revenue='max').reset_index()\n\n# aggiungere feature al data_frame dei profili dei player\ndf_players = df_players.merge(df, on=\"name\")\n\n# stampare numero di valori nulli e dataframe\nprint('Numero di nulli in mean_tourney_revenue ' + str(df.mean_tourney_revenue.isna().sum()))\nprint('Numero di nulli in max_tourney_revenue ' + str(df.max_tourney_revenue.isna().sum()))\ndf\n\nprint(len(df))\nprint(len(df_players))",
   "execution_count": null,
   "outputs": []
  },
  {
   "cell_type": "markdown",
   "source": "### Player in-match features",
   "metadata": {
    "tags": [],
    "is_collapsed": false,
    "cell_id": "00034-ee189a61-70cc-4113-9509-231478a23652",
    "deepnote_cell_type": "text-cell-h3"
   }
  },
  {
   "cell_type": "code",
   "metadata": {
    "tags": [],
    "cell_id": "00032-999ff1b1-0c41-4fba-afaa-a710577b084b",
    "deepnote_to_be_reexecuted": false,
    "source_hash": "65e9f281",
    "execution_start": 1636770738514,
    "execution_millis": 41,
    "output_cleared": true,
    "deepnote_cell_type": "code"
   },
   "source": "# Those feature where also used to check possible outliers, but nothing particullarry significant was found\n\ndf_tennis['rel_w_ace'] = df_tennis['w_ace']/df_tennis['w_svpt']\ndf_tennis['rel_l_ace'] = df_tennis['l_ace']/df_tennis['l_svpt']\n\ndf_tennis['rel_w_df'] = df_tennis['w_df']/df_tennis['w_svpt']\ndf_tennis['rel_l_df'] = df_tennis['l_df']/df_tennis['l_svpt']\n\ndf_tennis['rel_w_1stIn'] = df_tennis['w_1stIn']/df_tennis['w_svpt']\ndf_tennis['rel_l_1stIn'] = df_tennis['l_1stIn']/df_tennis['l_svpt']\n\ndf_tennis['rel_w_1stWon'] = df_tennis['w_1stWon']/df_tennis['w_svpt']\ndf_tennis['rel_l_1stWon'] = df_tennis['l_1stWon']/df_tennis['l_svpt']\n\ndf_tennis['rel_w_2ndWon'] = df_tennis['w_2ndWon']/df_tennis['w_svpt']\ndf_tennis['rel_l_2ndWon'] = df_tennis['l_2ndWon']/df_tennis['l_svpt']\n\ndf_tennis['w_1WonOn1In'] = df_tennis['w_1stWon']/df_tennis['w_1stIn']\ndf_tennis['l_1WonOn1In'] = df_tennis['l_1stWon']/df_tennis['l_1stIn']\n\ndf_tennis['w_1WonOn2Won'] = df_tennis['w_1stWon']/df_tennis['w_2ndWon']\ndf_tennis['l_1WonOn2Won'] = df_tennis['l_1stWon']/df_tennis['l_2ndWon']\n\ndf_tennis['rel_w_ptsWon'] = (df_tennis['w_1stWon'] + df_tennis['w_2ndWon'])/(df_tennis['w_1stWon'] + df_tennis['w_2ndWon'] + df_tennis['l_1stWon'] + df_tennis['l_2ndWon'])\ndf_tennis['rel_l_ptsWon'] = (df_tennis['l_1stWon'] + df_tennis['l_2ndWon'])/(df_tennis['w_1stWon'] + df_tennis['w_2ndWon'] + df_tennis['l_1stWon'] + df_tennis['l_2ndWon'])\n\ndf_tennis['rel_w_bpFaced'] = df_tennis['w_bpFaced']/(df_tennis['w_svpt'] + df_tennis['l_svpt'])\ndf_tennis['rel_l_bpFaced'] = df_tennis['l_bpFaced']/(df_tennis['w_svpt'] + df_tennis['l_svpt'])\n\ndf_tennis['rel_w_bpSaved'] = df_tennis['w_bpSaved']/df_tennis['w_bpFaced']\ndf_tennis['rel_l_bpSaved'] = df_tennis['l_bpSaved']/df_tennis['l_bpFaced']\n\ndf_tennis['rel_w_gmsWon'] = df_tennis['w_gmsWon']/(df_tennis['w_gmsWon'] + df_tennis['l_gmsWon'])\ndf_tennis['rel_l_gmsWon'] = df_tennis['l_gmsWon']/(df_tennis['w_gmsWon'] + df_tennis['l_gmsWon'])\n",
   "execution_count": null,
   "outputs": []
  },
  {
   "cell_type": "code",
   "metadata": {
    "tags": [],
    "cell_id": "00035-0c8e60d9-b144-4d99-b1d8-027a2bab6c21",
    "deepnote_to_be_reexecuted": false,
    "source_hash": "2be61837",
    "execution_start": 1636770738560,
    "execution_millis": 333,
    "output_cleared": true,
    "deepnote_cell_type": "code"
   },
   "source": "df_winner = df_tennis.loc[:, ['winner_name', 'rel_w_ace', 'rel_w_df', 'rel_w_1stIn', 'rel_w_1stWon', 'rel_w_2ndWon', 'w_1WonOn1In', 'w_1WonOn2Won', 'rel_w_ptsWon', 'rel_w_bpFaced', 'rel_w_bpSaved', 'rel_w_gmsWon']]\ndf_loser = df_tennis.loc[:, ['loser_name', 'rel_l_ace', 'rel_l_df', 'rel_l_1stIn', 'rel_l_1stWon', 'rel_l_2ndWon', 'l_1WonOn1In', 'l_1WonOn2Won', 'rel_l_ptsWon', 'rel_l_bpFaced', 'rel_l_bpSaved', 'rel_l_gmsWon']]\n\nren_attr_list = ['name', 'rel_ace', 'rel_df', 'rel_1stIn', 'rel_1stWon', 'rel_2ndWon', '1WonOn1In', '1WonOn2Won', 'rel_ptsWon', 'rel_bpFaced', 'rel_bpSaved', 'rel_gmsWon']\n\ndf_winner.set_axis(ren_attr_list, axis=1, inplace=True)\ndf_loser.set_axis(ren_attr_list, axis=1, inplace=True)\n\ndf = pd.concat([df_winner, df_loser]).groupby('name').mean().reset_index()\n\ndf_players = df_players.merge(df, on=\"name\")\ndf_players",
   "execution_count": null,
   "outputs": []
  },
  {
   "cell_type": "markdown",
   "source": "## Dropping records",
   "metadata": {
    "tags": [],
    "is_collapsed": false,
    "cell_id": "00040-f6f84c86-ef38-4a10-a275-3ddc20ad76d5",
    "deepnote_cell_type": "text-cell-h2"
   }
  },
  {
   "cell_type": "code",
   "metadata": {
    "tags": [],
    "cell_id": "00041-3e1ae3b5-82b5-409f-9883-b35a5c17f11b",
    "deepnote_to_be_reexecuted": false,
    "source_hash": "827c0052",
    "execution_start": 1636770738895,
    "execution_millis": 88,
    "output_cleared": true,
    "deepnote_cell_type": "code"
   },
   "source": "# dataframe con occorenze degli attributi relativi alle match feature (ace, ...)\nattr_occurrences = pd.concat([df_winner, df_loser]).groupby('name').count()\n\n# mask the dataframe where those attributes compare at least 4 times\nsm = attr_occurrences.drop(columns=['rel_gmsWon']).min(axis=1) >= 4\nsm = sm.reset_index(drop = True)\nsm\n\n# drop records from dataframe\ndf_players = df_players[sm]",
   "execution_count": null,
   "outputs": []
  },
  {
   "cell_type": "code",
   "metadata": {
    "tags": [],
    "cell_id": "00038-9ef4daff-3f3f-4209-9e7b-bf3e4e83525f",
    "deepnote_to_be_reexecuted": false,
    "source_hash": "7bb2a531",
    "execution_start": 1636770739031,
    "execution_millis": 2,
    "output_cleared": true,
    "deepnote_cell_type": "code"
   },
   "source": "df_players.info()",
   "execution_count": null,
   "outputs": []
  },
  {
   "cell_type": "markdown",
   "source": "### Filling NaNs",
   "metadata": {
    "tags": [],
    "is_collapsed": false,
    "cell_id": "00038-55f56433-f786-40da-b287-06b7f90adfc3",
    "deepnote_cell_type": "text-cell-h3"
   }
  },
  {
   "cell_type": "code",
   "metadata": {
    "tags": [],
    "cell_id": "00040-caa9da0c-bcee-482f-92ba-a56c7873437e",
    "deepnote_to_be_reexecuted": false,
    "source_hash": "4f1199e7",
    "execution_start": 1636770739032,
    "execution_millis": 45,
    "output_cleared": true,
    "deepnote_cell_type": "code"
   },
   "source": "attr_list = ['age', 'mean_rank_points', 'max_rank_points', 'last_rank_points', 'variance_rank_points']\nmeans = df_players[attr_list].mean()\ndf_players[attr_list] = df_players[attr_list].fillna(means)\ndf_players.info()",
   "execution_count": null,
   "outputs": []
  },
  {
   "cell_type": "markdown",
   "source": "## Correlation analysis",
   "metadata": {
    "cell_id": "00053-628ead48-c4ba-4d47-8477-9b727ea7fe93",
    "is_collapsed": false,
    "tags": [],
    "deepnote_cell_type": "text-cell-h2"
   }
  },
  {
   "cell_type": "code",
   "metadata": {
    "tags": [],
    "cell_id": "00037-629d6054-1b85-41f4-9e29-85df90037b9d",
    "deepnote_to_be_reexecuted": false,
    "source_hash": "7e6556a6",
    "execution_start": 1636770739076,
    "execution_millis": 618,
    "output_cleared": true,
    "deepnote_cell_type": "code"
   },
   "source": "def get_redundant_pairs(df):\n    '''Get diagonal and lower triangular pairs of correlation matrix'''\n    pairs_to_drop = set()\n    cols = df.columns\n    for i in range(0, df.shape[1]):\n        for j in range(0, i+1):\n            pairs_to_drop.add((cols[i], cols[j]))\n    return pairs_to_drop\n\ncorr_threshold = 0.7\ncorrelation = df_players.corr(method=\"pearson\") #.abs()\ncorrelation = correlation.where(np.tril(np.ones(correlation.shape)).astype(bool)) # remove upper triangle\n\npx.imshow(correlation[(correlation>=corr_threshold) | (correlation<=-corr_threshold)], labels=dict(color=\"Correlation\"), color_continuous_scale=px.colors.diverging.RdBu, zmin=-1, zmax=1, width=1000, height=1000).show()\n\ncorrelation = correlation.unstack().drop(labels=get_redundant_pairs(correlation)).sort_values(ascending=False).drop_duplicates()\nprint(f\"These are {len(correlation[(correlation>=corr_threshold) | (correlation<=-corr_threshold)])} pairs whose correlation is bigger/small than ±{corr_threshold*100}%:\")\ncorrelation[(correlation>=corr_threshold) | (correlation<=-corr_threshold)]",
   "execution_count": null,
   "outputs": []
  },
  {
   "cell_type": "markdown",
   "source": "## Feature analysis",
   "metadata": {
    "cell_id": "00031-2074c0fb-38a3-49ba-b04f-31a971a17563",
    "tags": [],
    "is_collapsed": false,
    "deepnote_cell_type": "text-cell-h2"
   }
  },
  {
   "cell_type": "code",
   "metadata": {
    "tags": [],
    "cell_id": "00040-3f5d741c-af94-4c94-8af4-d9202694e0f0",
    "deepnote_to_be_reexecuted": false,
    "source_hash": "27c4d8f",
    "execution_start": 1636770739742,
    "execution_millis": 153,
    "output_cleared": true,
    "deepnote_cell_type": "code"
   },
   "source": "df_players.loc[:,'total_matches_played'].hist()",
   "execution_count": null,
   "outputs": []
  },
  {
   "cell_type": "code",
   "metadata": {
    "cell_id": "00034-1969a4c3-5d91-40a6-aca9-1f612dc2432d",
    "deepnote_to_be_reexecuted": false,
    "execution_millis": 172,
    "execution_start": 1636770739963,
    "source_hash": "f25b6fd6",
    "tags": [],
    "output_cleared": true,
    "deepnote_cell_type": "code"
   },
   "source": "df_players.describe()",
   "execution_count": null,
   "outputs": []
  },
  {
   "cell_type": "markdown",
   "source": "### Tourneys played",
   "metadata": {
    "cell_id": "00034-cd0ebc20-be15-4aeb-8b68-9a1f16a98d57",
    "is_collapsed": false,
    "tags": [],
    "deepnote_cell_type": "text-cell-h3"
   }
  },
  {
   "cell_type": "code",
   "metadata": {
    "cell_id": "00035-c90b3029-3684-455a-b1c9-2014a5376f41",
    "deepnote_to_be_reexecuted": false,
    "execution_millis": 83,
    "execution_start": 1636770740148,
    "source_hash": "927f949c",
    "tags": [],
    "output_cleared": true,
    "deepnote_cell_type": "code"
   },
   "source": "df_players.total_tourneys_played.hist()",
   "execution_count": null,
   "outputs": []
  },
  {
   "cell_type": "code",
   "metadata": {
    "cell_id": "00036-9034392f-c819-4121-8731-de9f97c56916",
    "deepnote_to_be_reexecuted": false,
    "execution_millis": 86,
    "execution_start": 1636770740247,
    "source_hash": "5df3587a",
    "tags": [],
    "output_cleared": true,
    "deepnote_cell_type": "code"
   },
   "source": "np.log2(df_players.total_tourneys_played).hist()",
   "execution_count": null,
   "outputs": []
  },
  {
   "cell_type": "markdown",
   "source": "### Matches played",
   "metadata": {
    "cell_id": "00037-60ac5dd4-877b-4f72-b408-7b86332bb206",
    "is_collapsed": false,
    "tags": [],
    "deepnote_cell_type": "text-cell-h3"
   }
  },
  {
   "cell_type": "code",
   "metadata": {
    "cell_id": "00038-927177ad-eeeb-4cdb-a5f2-1ab8e02489c7",
    "deepnote_to_be_reexecuted": false,
    "execution_millis": 97,
    "execution_start": 1636770740350,
    "source_hash": "92a01147",
    "tags": [],
    "output_cleared": true,
    "deepnote_cell_type": "code"
   },
   "source": "df_players.total_matches_played.hist()",
   "execution_count": null,
   "outputs": []
  },
  {
   "cell_type": "code",
   "metadata": {
    "cell_id": "00039-ea6f5837-d16d-4ca2-8a06-6f488e310bfb",
    "deepnote_to_be_reexecuted": false,
    "execution_millis": 140,
    "execution_start": 1636770740462,
    "source_hash": "50f01545",
    "tags": [],
    "output_cleared": true,
    "deepnote_cell_type": "code"
   },
   "source": "np.log(df_players.total_matches_played).hist()",
   "execution_count": null,
   "outputs": []
  },
  {
   "cell_type": "markdown",
   "source": "### Matches won",
   "metadata": {
    "cell_id": "00040-7ccdb3ba-9498-4cc1-834c-9634c5c2583a",
    "is_collapsed": false,
    "tags": [],
    "deepnote_cell_type": "text-cell-h3"
   }
  },
  {
   "cell_type": "code",
   "metadata": {
    "cell_id": "00041-194d53a8-93ed-4e53-9643-0cab79c5345b",
    "deepnote_to_be_reexecuted": false,
    "execution_millis": 84,
    "execution_start": 1636770740567,
    "source_hash": "a1f7e5d1",
    "tags": [],
    "output_cleared": true,
    "deepnote_cell_type": "code"
   },
   "source": "df_players.total_matches_won.hist()",
   "execution_count": null,
   "outputs": []
  },
  {
   "cell_type": "code",
   "metadata": {
    "cell_id": "00042-d616486f-0967-4aa1-ac9d-14be0dad4b6c",
    "deepnote_to_be_reexecuted": false,
    "execution_millis": 95,
    "execution_start": 1636770740648,
    "source_hash": "3ebf3af4",
    "tags": [],
    "output_cleared": true,
    "deepnote_cell_type": "code"
   },
   "source": "np.log10(df_players.total_matches_won).hist()",
   "execution_count": null,
   "outputs": []
  },
  {
   "cell_type": "markdown",
   "source": "### Age",
   "metadata": {
    "cell_id": "00043-2a391553-395c-4ae8-99e9-819409ceda99",
    "is_collapsed": false,
    "tags": [],
    "deepnote_cell_type": "text-cell-h3"
   }
  },
  {
   "cell_type": "code",
   "metadata": {
    "cell_id": "00044-8946de51-ffcc-4be3-8396-23d3855ec27a",
    "deepnote_to_be_reexecuted": false,
    "execution_millis": 43,
    "execution_start": 1636770740803,
    "source_hash": "5e89468a",
    "tags": [],
    "output_cleared": true,
    "deepnote_cell_type": "code"
   },
   "source": "df_players.age.hist()",
   "execution_count": null,
   "outputs": []
  },
  {
   "cell_type": "code",
   "metadata": {
    "cell_id": "00045-eb35dade-c4ca-440b-aca3-46672766acfc",
    "deepnote_to_be_reexecuted": false,
    "execution_millis": 123,
    "execution_start": 1636770740866,
    "source_hash": "c5f485e2",
    "tags": [],
    "output_cleared": true,
    "deepnote_cell_type": "code"
   },
   "source": "np.log(df_players.age).hist()",
   "execution_count": null,
   "outputs": []
  },
  {
   "cell_type": "markdown",
   "source": "### Hand",
   "metadata": {
    "cell_id": "00046-f75442e2-e357-4a5b-a654-98a948f09bc4",
    "is_collapsed": false,
    "tags": [],
    "deepnote_cell_type": "text-cell-h3"
   }
  },
  {
   "cell_type": "code",
   "metadata": {
    "cell_id": "00047-404c5b28-7e93-41bc-93e1-0e4cfebb8a4c",
    "deepnote_to_be_reexecuted": false,
    "execution_millis": 10,
    "execution_start": 1636770740999,
    "source_hash": "b623e53d",
    "tags": [],
    "output_cleared": true,
    "deepnote_cell_type": "code"
   },
   "source": "",
   "execution_count": null,
   "outputs": []
  },
  {
   "cell_type": "markdown",
   "source": "### Ranking",
   "metadata": {
    "cell_id": "00048-77e6387d-79ec-4780-8766-23b36553975f",
    "is_collapsed": false,
    "tags": [],
    "deepnote_cell_type": "text-cell-h3"
   }
  },
  {
   "cell_type": "code",
   "metadata": {
    "cell_id": "00049-c8088e56-f383-4644-abe1-68a89c3626f0",
    "deepnote_to_be_reexecuted": false,
    "execution_millis": 106,
    "execution_start": 1636770741014,
    "source_hash": "d566f759",
    "tags": [],
    "output_cleared": true,
    "deepnote_cell_type": "code"
   },
   "source": "df_players.variance_rank_points.hist()",
   "execution_count": null,
   "outputs": []
  },
  {
   "cell_type": "code",
   "metadata": {
    "cell_id": "00050-7fbe20b1-5fc3-4b47-aa1b-8c34e5293f13",
    "deepnote_to_be_reexecuted": false,
    "execution_millis": 113,
    "execution_start": 1636770741123,
    "source_hash": "39dd1f79",
    "tags": [],
    "output_cleared": true,
    "deepnote_cell_type": "code"
   },
   "source": "np.log1p(df_players.variance_rank_points).hist()",
   "execution_count": null,
   "outputs": []
  },
  {
   "cell_type": "code",
   "metadata": {
    "cell_id": "00051-e06402d2-df85-480c-8121-2845e99c02bc",
    "deepnote_to_be_reexecuted": false,
    "execution_millis": 84,
    "execution_start": 1636770741253,
    "source_hash": "31255376",
    "tags": [],
    "output_cleared": true,
    "deepnote_cell_type": "code"
   },
   "source": "df_players.last_rank_points.hist()",
   "execution_count": null,
   "outputs": []
  },
  {
   "cell_type": "code",
   "metadata": {
    "cell_id": "00052-bbd88f33-5dc3-4808-98ce-790d7da3cbfd",
    "deepnote_to_be_reexecuted": false,
    "execution_millis": 59,
    "execution_start": 1636770741383,
    "source_hash": "1d737011",
    "tags": [],
    "output_cleared": true,
    "deepnote_cell_type": "code"
   },
   "source": "np.sqrt(np.log(df_players.last_rank_points)).hist()",
   "execution_count": null,
   "outputs": []
  },
  {
   "cell_type": "code",
   "metadata": {
    "tags": [],
    "cell_id": "00053-6c15b0e9-b25f-4b38-a92e-55ca9ac258ee",
    "deepnote_to_be_reexecuted": false,
    "source_hash": "71b48e32",
    "execution_start": 1636770741445,
    "execution_millis": 104,
    "output_cleared": true,
    "deepnote_cell_type": "code"
   },
   "source": "df_players.to_csv(\"./datasets/players.csv\")",
   "execution_count": null,
   "outputs": []
  },
  {
   "cell_type": "markdown",
   "source": "<a style='text-decoration:none;line-height:16px;display:flex;color:#5B5B62;padding:10px;justify-content:end;' href='https://deepnote.com?utm_source=created-in-deepnote-cell&projectId=56da3ab5-e195-41aa-a609-f5fefeb3379d' target=\"_blank\">\n<img alt='Created in deepnote.com' style='display:inline;max-height:16px;margin:0px;margin-right:7.5px;' src='data:image/svg+xml;base64,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' > </img>\nCreated in <span style='font-weight:600;margin-left:4px;'>Deepnote</span></a>",
   "metadata": {
    "tags": [],
    "created_in_deepnote_cell": true,
    "deepnote_cell_type": "markdown"
   }
  }
 ],
 "nbformat": 4,
 "nbformat_minor": 2,
 "metadata": {
  "deepnote": {
   "is_reactive": false
  },
  "deepnote_execution_queue": [],
  "deepnote_notebook_id": "05837d03-c002-450d-b5d8-64788293877d",
  "kernelspec": {
   "display_name": "Python 3",
   "language": "python",
   "name": "python3"
  },
  "language_info": {
   "codemirror_mode": {
    "name": "ipython",
    "version": 3
   },
   "file_extension": ".py",
   "mimetype": "text/x-python",
   "name": "python",
   "nbconvert_exporter": "python",
   "pygments_lexer": "ipython3",
   "version": "3.9.7"
  }
 }
}