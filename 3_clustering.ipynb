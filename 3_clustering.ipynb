{
 "cells": [
  {
   "cell_type": "markdown",
   "metadata": {
    "cell_id": "00001-5f0e6fa2-db99-483b-a8ff-8e6632c68a1f",
    "deepnote_cell_type": "text-cell-h1",
    "is_collapsed": false,
    "tags": []
   },
   "source": [
    "# Clustering"
   ]
  },
  {
   "cell_type": "code",
   "execution_count": null,
   "metadata": {
    "cell_id": "00000-691a0c7a-b34b-4aeb-8263-fc8778ceaeee",
    "deepnote_cell_type": "code",
    "deepnote_to_be_reexecuted": false,
    "execution_millis": 5595,
    "execution_start": 1636963344403,
    "source_hash": "7b6b40d",
    "tags": []
   },
   "outputs": [],
   "source": [
    "import pandas as pd\n",
    "import numpy as np\n",
    "\n",
    "from sklearn.preprocessing import StandardScaler, MinMaxScaler, RobustScaler, QuantileTransformer, PowerTransformer\n",
    "from sklearn.decomposition import PCA\n",
    "\n",
    "# KMEANS\n",
    "from sklearn.cluster import KMeans\n",
    "from sklearn.metrics import silhouette_score, davies_bouldin_score, calinski_harabasz_score\n",
    "from yellowbrick.cluster.elbow import KElbowVisualizer \n",
    "from yellowbrick.cluster import silhouette_visualizer, intercluster_distance \n",
    "\n",
    "# DBSCAN\n",
    "from sklearn.cluster import DBSCAN\n",
    "from scipy.spatial.distance import pdist, squareform\n",
    "from sklearn.neighbors import NearestNeighbors\n",
    "\n",
    "# Visualization\n",
    "import plotly.express as px\n",
    "import plotly.io as pio\n",
    "pd.options.plotting.backend = \"plotly\"\n",
    "pio.templates.default = \"seaborn\"\n",
    "import matplotlib.pyplot as plt\n",
    "import seaborn as sns\n",
    "\n",
    "pd.set_option('display.max_columns', None)"
   ]
  },
  {
   "cell_type": "code",
   "execution_count": null,
   "metadata": {
    "cell_id": "00002-3f3c4caf-ceb2-4d53-86ae-4b954c542539",
    "deepnote_cell_type": "code",
    "deepnote_to_be_reexecuted": false,
    "execution_millis": 19,
    "execution_start": 1636963350007,
    "source_hash": "7018f5ed",
    "tags": []
   },
   "outputs": [],
   "source": [
    "df_players = pd.read_csv(\"./datasets/players.csv\", index_col=0)"
   ]
  },
  {
   "cell_type": "markdown",
   "metadata": {
    "cell_id": "00002-4bfa23df-c930-4301-a9c7-94c7a546e389",
    "deepnote_cell_type": "text-cell-h2",
    "is_collapsed": false,
    "tags": []
   },
   "source": [
    "## Features preparation"
   ]
  },
  {
   "cell_type": "code",
   "execution_count": null,
   "metadata": {
    "cell_id": "00004-e4486c32-2aac-4934-9662-da29c243db44",
    "deepnote_cell_type": "code",
    "deepnote_to_be_reexecuted": false,
    "execution_millis": 1391,
    "execution_start": 1636963350043,
    "source_hash": "2eedb7c6",
    "tags": []
   },
   "outputs": [],
   "source": [
    "feautures = ['lrpOnMxrp', 'matches_won_ratio', 'mean_rank_points', 'variance_rank_points', 'max_tourney_revenue']\n",
    "#feautures = ['lrpOnAvgrp', 'lrpOnMxrp', 'variance_rank_points', 'max_tourney_revenue'] # Sil:  0.5278228177769032\n",
    "#['lrpOnAvgrp', 'lrpOnMxrp', 'matches_won_ratio', 'mean_rank_points', 'variance_rank_points', 'mean_tourney_spectators', 'max_tourney_revenue', 'rel_ptsWon']\n",
    "#['lrpOnAvgrp', 'lrpOnMxrp', 'variance_rank_points', 'max_tourney_revenue']\n",
    "#['matches_won_ratio', 'mean_rank_points', 'mean_tourney_spectators', 'mean_tourney_revenue'] -> Siluette score\n",
    "\n",
    "# Plots\n",
    "# for feature in feautures:\n",
    "#     df_players[feature].hist().show()"
   ]
  },
  {
   "cell_type": "markdown",
   "metadata": {
    "cell_id": "00005-45f3fd45-7a3d-416a-816a-1476949d78d5",
    "deepnote_cell_type": "text-cell-h3",
    "is_collapsed": false,
    "tags": []
   },
   "source": [
    "### Transformations"
   ]
  },
  {
   "cell_type": "code",
   "execution_count": null,
   "metadata": {
    "cell_id": "00008-db376aee-0018-4374-af35-d51ad9294047",
    "deepnote_cell_type": "code",
    "deepnote_to_be_reexecuted": false,
    "execution_millis": 242,
    "execution_start": 1636963382461,
    "source_hash": "2601d1bf",
    "tags": []
   },
   "outputs": [],
   "source": [
    "df = df_players.copy()\n",
    "df['mean_rank_points'] = np.log(df_players['mean_rank_points'])\n",
    "df['variance_rank_points'] = np.log1p(df_players['variance_rank_points'])\n",
    "\n",
    "df['mean_rank_points'].hist().show()\n",
    "df['variance_rank_points'].hist().show()"
   ]
  },
  {
   "cell_type": "markdown",
   "metadata": {
    "cell_id": "00008-8b8d435f-8e45-4662-981d-3fae7ae8d16a",
    "deepnote_cell_type": "text-cell-h3",
    "is_collapsed": false,
    "tags": []
   },
   "source": [
    "### Normalization"
   ]
  },
  {
   "cell_type": "code",
   "execution_count": null,
   "metadata": {
    "cell_id": "00003-360386fb-4bf9-4397-80e9-e52cff92d892",
    "deepnote_cell_type": "code",
    "deepnote_to_be_reexecuted": false,
    "execution_millis": 759,
    "execution_start": 1636963351812,
    "source_hash": "8af8f630",
    "tags": []
   },
   "outputs": [],
   "source": [
    "df_data = df[feautures].reset_index(drop=True)\n",
    "df_data = pd.DataFrame(MinMaxScaler().fit_transform(df_data), columns=df_data.columns)\n",
    "#df_data = pd.DataFrame(RobustScaler(unit_variance=True).fit_transform(df_data), columns=df_data.columns)\n",
    "#df_data = df_data[(np.abs(stats.zscore(df_data)) < 2).all(axis=1)]\n",
    "#df_data = pd.DataFrame(QuantileTransformer().fit_transform(df_data), columns=df_data.columns)\n",
    "df_data = df_data.round(3)\n",
    "\n",
    "df_data.boxplot(column=feautures)"
   ]
  },
  {
   "cell_type": "markdown",
   "metadata": {
    "cell_id": "00016-cc201c08-d400-40fb-81ef-a92667c8abad",
    "deepnote_cell_type": "text-cell-h2",
    "is_collapsed": false,
    "tags": []
   },
   "source": [
    "## PCA"
   ]
  },
  {
   "cell_type": "code",
   "execution_count": null,
   "metadata": {
    "cell_id": "00010-ba0d3a94-a075-4778-bf90-05b1ebb835d0",
    "deepnote_cell_type": "code",
    "deepnote_to_be_reexecuted": false,
    "execution_millis": 1,
    "execution_start": 1636964108042,
    "source_hash": "9c2e7f16",
    "tags": []
   },
   "outputs": [],
   "source": [
    "# # PCA\n",
    "# pca = PCA(n_components=2)\n",
    "# components = pca.fit_transform(df_data)\n",
    "# components_df = pd.DataFrame(components)\n",
    "\n",
    "# # Cluster on PCA\n",
    "# model = KMeans()\n",
    "# sse_visualizer = KElbowVisualizer(model, k=(2,8), timings=False)\n",
    "# sse_visualizer.fit(components_df.iloc[:,:3])\n",
    "\n",
    "# kmeans = KMeans(n_clusters=sse_visualizer.elbow_value_, n_init=10, max_iter=100, init=\"k-means++\")\n",
    "# kmeans.fit(components_df.iloc[:,:3])\n",
    "\n",
    "# px.bar(x=range(pca.n_components), y=pca.explained_variance_ratio_, title=\"Explained variances\").show()\n",
    "# px.scatter(x=components_df[0], y=components_df[1], color=kmeans.labels_.astype(str))"
   ]
  },
  {
   "cell_type": "code",
   "execution_count": null,
   "metadata": {
    "cell_id": "00011-8f719334-6f44-43ab-89da-b86b53c49d7f",
    "deepnote_cell_type": "code",
    "deepnote_to_be_reexecuted": false,
    "execution_millis": 18578,
    "execution_start": 1636964017326,
    "source_hash": "1bc14d0",
    "tags": []
   },
   "outputs": [],
   "source": [
    "# PCA\n",
    "pca = PCA(n_components=3)\n",
    "components = pca.fit_transform(df_data)\n",
    "components_df = pd.DataFrame(components)\n",
    "\n",
    "# Cluster on PCA\n",
    "model = KMeans()\n",
    "sse_visualizer = KElbowVisualizer(model, k=(2,8), timings=False)\n",
    "sse_visualizer.fit(components_df.iloc[:,:4])\n",
    "\n",
    "kmeans = KMeans(n_clusters=sse_visualizer.elbow_value_, n_init=10, max_iter=100, init=\"k-means++\")\n",
    "kmeans.fit(components_df.iloc[:,:4])\n",
    "\n",
    "px.bar(x=range(pca.n_components), y=pca.explained_variance_ratio_, title=\"Explained variances\").show()\n",
    "px.scatter_3d(x=components_df[0], y=components_df[1], z=components_df[2], color=kmeans.labels_.astype(str))"
   ]
  },
  {
   "cell_type": "markdown",
   "metadata": {
    "cell_id": "00003-5fc1c385-044d-4c46-8322-a804af0bb406",
    "deepnote_cell_type": "text-cell-h2",
    "is_collapsed": false,
    "tags": []
   },
   "source": [
    "## K-means"
   ]
  },
  {
   "cell_type": "markdown",
   "metadata": {
    "cell_id": "00007-c8897fd0-1a50-4a31-80ef-6579a49f7345",
    "deepnote_cell_type": "markdown"
   },
   "source": [
    "### Find Optimal K"
   ]
  },
  {
   "cell_type": "code",
   "execution_count": null,
   "metadata": {
    "cell_id": "00008-15126f8c-7be6-4ffb-8f0c-c59694b53b25",
    "deepnote_cell_type": "code",
    "deepnote_to_be_reexecuted": false,
    "execution_millis": 5283,
    "execution_start": 1636963355936,
    "source_hash": "16f7d721"
   },
   "outputs": [],
   "source": [
    "model = KMeans()\n",
    "sse_visualizer = KElbowVisualizer(model, k=(2,8), timings=False)\n",
    "sse_visualizer.fit(df_data)\n",
    "sse_visualizer.show()\n",
    "\n",
    "sil_visualizer = KElbowVisualizer(model, k=(2,8), timings=False, metric=\"silhouette\")\n",
    "sil_visualizer.fit(df_data)\n",
    "sil_visualizer.show()"
   ]
  },
  {
   "cell_type": "markdown",
   "metadata": {},
   "source": [
    "Picking optimal K"
   ]
  },
  {
   "cell_type": "code",
   "execution_count": null,
   "metadata": {
    "cell_id": "00012-55d6093c-c243-468c-b71c-c240372bd197",
    "deepnote_cell_type": "code",
    "deepnote_to_be_reexecuted": false,
    "execution_millis": 474,
    "execution_start": 1636963361255,
    "source_hash": "c5e20870"
   },
   "outputs": [],
   "source": [
    "optimal_k = sse_visualizer.elbow_value_\n",
    "kmeans = KMeans(n_clusters=optimal_k, n_init=10, max_iter=100, init=\"k-means++\")\n",
    "kmeans.fit(df_data)\n",
    "\n",
    "df_players[\"cluster_kmeans\"] = kmeans.labels_.astype(str)\n",
    "\n",
    "x = silhouette_visualizer(KMeans(optimal_k, random_state=42), df_data)\n",
    "print(\"The silhoutte score is: \" + str(x.silhouette_score_))"
   ]
  },
  {
   "cell_type": "code",
   "execution_count": null,
   "metadata": {
    "cell_id": "00010-1f5627fb-a9ce-4d7c-93a5-1f6aef18c51f",
    "deepnote_cell_type": "code",
    "deepnote_to_be_reexecuted": false,
    "execution_millis": 637,
    "execution_start": 1636963363208,
    "source_hash": "7f1c6638"
   },
   "outputs": [],
   "source": [
    "intercluster_distance(kmeans, df_data)"
   ]
  },
  {
   "cell_type": "markdown",
   "metadata": {
    "cell_id": "00013-4d1f58bb-d93e-45a5-9e53-252cdfd4a457",
    "deepnote_cell_type": "markdown"
   },
   "source": [
    "### Result analysis"
   ]
  },
  {
   "cell_type": "markdown",
   "metadata": {
    "cell_id": "00014-6b49d9d5-19c8-4e8b-b219-9be44bc11490",
    "deepnote_cell_type": "markdown"
   },
   "source": [
    "#### Cluster distribution"
   ]
  },
  {
   "cell_type": "code",
   "execution_count": null,
   "metadata": {
    "cell_id": "00015-558bf70c-9a5b-49de-ae2d-ad092a1fa553",
    "deepnote_cell_type": "code",
    "deepnote_to_be_reexecuted": false,
    "execution_millis": 189,
    "execution_start": 1636963363943,
    "source_hash": "15ec158b"
   },
   "outputs": [],
   "source": [
    "df_players.groupby(\"cluster_kmeans\").count()[\"name\"].plot.bar()"
   ]
  },
  {
   "cell_type": "markdown",
   "metadata": {
    "cell_id": "00016-5781d155-2875-46a3-b894-20626816aaa1",
    "deepnote_cell_type": "markdown"
   },
   "source": [
    "#### Interpretatation"
   ]
  },
  {
   "cell_type": "code",
   "execution_count": null,
   "metadata": {
    "cell_id": "00031-82adafc2-0d4d-4c8c-a47b-8486306dfd8c",
    "deepnote_cell_type": "code",
    "deepnote_to_be_reexecuted": false,
    "execution_millis": 331,
    "execution_start": 1636963364141,
    "source_hash": "8e5a6601",
    "tags": []
   },
   "outputs": [],
   "source": [
    "df_players.groupby(\"cluster_kmeans\").mean()"
   ]
  },
  {
   "cell_type": "code",
   "execution_count": null,
   "metadata": {
    "cell_id": "00032-344e00a2-0760-44a5-b209-3c2a97ace12d",
    "deepnote_cell_type": "code",
    "deepnote_to_be_reexecuted": false,
    "execution_millis": 288,
    "execution_start": 1636963364490,
    "source_hash": "f54e7149",
    "tags": []
   },
   "outputs": [],
   "source": [
    "print(f'Most frequent values per cluster')\n",
    "out_dict = {}\n",
    "for cluster in range(0, optimal_k):\n",
    "    temp_df = df_players.groupby(by='cluster_kmeans').get_group(str(cluster))\n",
    "    temp_dict = {}\n",
    "\n",
    "    for col in temp_df.columns:\n",
    "        temp_dict[col] = temp_df[col].value_counts().idxmax()\n",
    "    out_dict[cluster] = temp_dict\n",
    "\n",
    "pd.DataFrame(out_dict)"
   ]
  },
  {
   "cell_type": "code",
   "execution_count": null,
   "metadata": {
    "cell_id": "00017-bda09fb1-ec70-4202-9dc7-fa808172f50c",
    "deepnote_cell_type": "code",
    "deepnote_to_be_reexecuted": false,
    "execution_millis": 229,
    "execution_start": 1636963364807,
    "source_hash": "e64430a2"
   },
   "outputs": [],
   "source": [
    "px.scatter_matrix(df_players,\n",
    "    dimensions=feautures,\n",
    "    color=\"cluster_kmeans\")"
   ]
  },
  {
   "cell_type": "code",
   "execution_count": null,
   "metadata": {
    "cell_id": "00019-e4b524d9-94de-4d2e-b698-fb1d25b8c99f",
    "deepnote_cell_type": "code",
    "deepnote_to_be_reexecuted": false,
    "execution_millis": 9357,
    "execution_start": 1636963365059,
    "source_hash": "1a87d7d5"
   },
   "outputs": [],
   "source": [
    "# TODO - show only the most significant features\n",
    "for feature in df_players.columns.drop([\"name\"]).to_list():\n",
    "  px.histogram(df_players, x=feature, facet_col=\"cluster_kmeans\", color=df_players.gender).show()"
   ]
  },
  {
   "cell_type": "markdown",
   "metadata": {
    "cell_id": "00003-796cb1fb-dcc9-404b-a80c-8f08768ec146",
    "deepnote_cell_type": "text-cell-h2",
    "is_collapsed": false,
    "tags": []
   },
   "source": [
    "## Density-based"
   ]
  },
  {
   "cell_type": "code",
   "execution_count": null,
   "metadata": {},
   "outputs": [],
   "source": [
    "df_data = df_players[feautures].reset_index(drop=True)\n",
    "df_data = pd.DataFrame(StandardScaler().fit_transform(df_data), columns=df_data.columns)\n",
    "df_data = df_data.round(3)\n",
    "df_data.boxplot(column=feautures)"
   ]
  },
  {
   "cell_type": "code",
   "execution_count": null,
   "metadata": {},
   "outputs": [],
   "source": [
    "dist = pdist(X=df_data, metric='euclidean')  # pair-wise distance: how every record is far from all others\n",
    "dist = squareform(dist)                      # distance matrix given the vector dist\n",
    "\n",
    "kmin, kmax = 3, 30\n",
    "kth_distances = {k:[] for k in range(kmin, kmax + 1)} # initialize k lists\n",
    "\n",
    "for d in dist:\n",
    "    # argsort returns the indexes that would sort d\n",
    "    indexes_to_sort_d = np.argsort(d)\n",
    "    for k in range(kmin, kmax + 1):\n",
    "        # append to kth_distances[k] the value in d that corresponds\n",
    "        # to the distance of the i-th point (record) from its k-th nn.\n",
    "        # it's like: kth_distances[k].append(sorted_d[k])), but we get \"sorted_d[k]\" by d[indexes_to_sort_d[k]]\n",
    "        kth_distances[k].append(d[indexes_to_sort_d[k]])\n",
    "\n",
    "import plotly.graph_objects as go\n",
    "\n",
    "fig = go.Figure()\n",
    "\n",
    "for k in kth_distances.keys():\n",
    "    fig.add_trace(go.Scatter(x = np.array(range(0, len(kth_distances[k]))), y = sorted(kth_distances[k]), mode = 'lines' , name = str(k)))\n",
    "\n",
    "fig.show()"
   ]
  },
  {
   "cell_type": "code",
   "execution_count": null,
   "metadata": {},
   "outputs": [],
   "source": [
    "def get_metrics(eps, min_samples, dataset, iter_):\n",
    "    \n",
    "    # Fitting ======================================================================\n",
    "    \n",
    "    dbscan_model_ = DBSCAN( eps = eps, min_samples = min_samples)\n",
    "    dbscan_model_.fit(dataset)\n",
    "    \n",
    "    # Mean Noise Point Distance metric =============================================\n",
    "    noise_indices = dbscan_model_.labels_ == -1\n",
    "    \n",
    "    if True in noise_indices:\n",
    "        neighboors = NearestNeighbors(n_neighbors = 6).fit(dataset)\n",
    "        distances, indices = neighboors.kneighbors(dataset)\n",
    "        noise_distances = distances[noise_indices, 1:]\n",
    "        noise_mean_distance = round(noise_distances.mean(), 3)\n",
    "    else:\n",
    "        noise_mean_distance = None\n",
    "        \n",
    "    # Number of found Clusters metric ==============================================\n",
    "    \n",
    "    number_of_clusters = len(set(dbscan_model_.labels_[dbscan_model_.labels_ >= 0]))\n",
    "    \n",
    "    # Log ==========================================================================\n",
    "    \n",
    "    print(\"%3d | Tested with eps = %3s and min_samples = %3s | %5s %4s\" % (iter_, eps, min_samples, str(noise_mean_distance), number_of_clusters))\n",
    "        \n",
    "    return(noise_mean_distance, number_of_clusters)"
   ]
  },
  {
   "cell_type": "markdown",
   "metadata": {},
   "source": [
    "### Find optimal hyper-parameters"
   ]
  },
  {
   "cell_type": "code",
   "execution_count": null,
   "metadata": {},
   "outputs": [],
   "source": [
    "eps_to_test = [round(eps,1) for eps in np.arange(0.1, 3, 0.1)]\n",
    "min_samples_to_test = range(3, 30, 2)\n",
    "\n",
    "print(\"EPS:\", eps_to_test)\n",
    "print(\"MIN_SAMPLES:\", list(min_samples_to_test))\n",
    "\n",
    "# Dataframe per la metrica sulla distanza media dei noise points dai K punti più vicini\n",
    "results_noise = pd.DataFrame( \n",
    "    data = np.zeros((len(eps_to_test),len(min_samples_to_test))), # Empty dataframe\n",
    "    columns = min_samples_to_test, \n",
    "    index = eps_to_test\n",
    ")\n",
    "\n",
    "# Dataframe per la metrica sul numero di cluster\n",
    "results_clusters = pd.DataFrame( \n",
    "    data = np.zeros((len(eps_to_test),len(min_samples_to_test))), # Empty dataframe\n",
    "    columns = min_samples_to_test, \n",
    "    index = eps_to_test\n",
    ")\n",
    "\n",
    "iter_ = 0\n",
    "\n",
    "print(\"ITER| INFO%s |  DIST    CLUS\" % (\" \"*39))\n",
    "print(\"-\"*65)\n",
    "\n",
    "for eps in eps_to_test:\n",
    "    for min_samples in min_samples_to_test:\n",
    "        \n",
    "        iter_ += 1\n",
    "        \n",
    "        # Calcolo le metriche\n",
    "        noise_metric, cluster_metric = get_metrics(eps, min_samples, df_data, iter_)\n",
    "        \n",
    "        # Inserisco i risultati nei relativi dataframe\n",
    "        results_noise.loc[eps, min_samples] = noise_metric\n",
    "        results_clusters.loc[eps, min_samples] = cluster_metric"
   ]
  },
  {
   "cell_type": "code",
   "execution_count": null,
   "metadata": {},
   "outputs": [],
   "source": [
    "sm = (results_clusters == 3)# & (results_clusters <= 5)\n",
    "\n",
    "fig, (ax1, ax2) = plt.subplots(1, 2, figsize=(16,8) )\n",
    "\n",
    "sns.heatmap(results_noise[sm], annot = True, ax = ax1, cbar = False).set_title(\"METRIC: Mean Noise Points Distance\")\n",
    "sns.heatmap(results_clusters[sm], annot = True, ax = ax2, cbar = False).set_title(\"METRIC: Number of clusters\")\n",
    "\n",
    "ax1.set_xlabel(\"N\"); ax2.set_xlabel(\"N\")\n",
    "ax1.set_ylabel(\"EPSILON\"); ax2.set_ylabel(\"EPSILON\")\n",
    "\n",
    "plt.tight_layout(); plt.show()"
   ]
  },
  {
   "cell_type": "markdown",
   "metadata": {},
   "source": [
    "### Result analysis"
   ]
  },
  {
   "cell_type": "code",
   "execution_count": null,
   "metadata": {},
   "outputs": [],
   "source": [
    "dbscan = DBSCAN(eps=1, min_samples=3).fit(df_data)\n",
    "results = np.unique(dbscan.labels_, return_counts=True)\n",
    "print(f\"Clusters labels: {results[0]}\\nElements per cluster: {results[1]}\")\n",
    "\n",
    "df_players[\"cluster_dbscan\"] = dbscan.labels_.astype(str)\n",
    "df_players = df_players.round(3)\n",
    "\n",
    "df_players.groupby(\"cluster_dbscan\").mean()"
   ]
  },
  {
   "cell_type": "markdown",
   "metadata": {
    "cell_id": "00004-b12ab06a-5381-496f-88f5-cf08aaef7cbb",
    "deepnote_cell_type": "text-cell-h2",
    "is_collapsed": false,
    "tags": []
   },
   "source": [
    "## Hierarchical"
   ]
  },
  {
   "cell_type": "markdown",
   "metadata": {
    "cell_id": "00005-b575ff62-84bd-4d6a-b55b-18f871f22505",
    "deepnote_cell_type": "text-cell-h2",
    "is_collapsed": false,
    "tags": []
   },
   "source": [
    "## Optional"
   ]
  },
  {
   "cell_type": "markdown",
   "metadata": {
    "created_in_deepnote_cell": true,
    "deepnote_cell_type": "markdown",
    "tags": []
   },
   "source": [
    "<a style='text-decoration:none;line-height:16px;display:flex;color:#5B5B62;padding:10px;justify-content:end;' href='https://deepnote.com?utm_source=created-in-deepnote-cell&projectId=56da3ab5-e195-41aa-a609-f5fefeb3379d' target=\"_blank\">\n",
    "<img alt='Created in deepnote.com' style='display:inline;max-height:16px;margin:0px;margin-right:7.5px;' src='data:image/svg+xml;base64,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' > </img>\n",
    "Created in <span style='font-weight:600;margin-left:4px;'>Deepnote</span></a>"
   ]
  }
 ],
 "metadata": {
  "deepnote": {
   "is_reactive": false
  },
  "deepnote_execution_queue": [],
  "deepnote_notebook_id": "86f61efd-3d03-421b-8496-cf838ba66d00",
  "interpreter": {
   "hash": "11bc6520eaf059b9bc04ee98b4f739ace287d2f24aeca2977117dec1068ffc1c"
  },
  "kernelspec": {
   "display_name": "Python 3.9.7 64-bit ('dm': conda)",
   "name": "python3"
  },
  "language_info": {
   "codemirror_mode": {
    "name": "ipython",
    "version": 3
   },
   "file_extension": ".py",
   "mimetype": "text/x-python",
   "name": "python",
   "nbconvert_exporter": "python",
   "pygments_lexer": "ipython3",
   "version": "3.9.7"
  },
  "orig_nbformat": 2
 },
 "nbformat": 4,
 "nbformat_minor": 2
}
