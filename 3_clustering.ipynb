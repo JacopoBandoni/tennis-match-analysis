{
 "cells": [
  {
   "cell_type": "markdown",
   "metadata": {
    "cell_id": "00001-5f0e6fa2-db99-483b-a8ff-8e6632c68a1f",
    "deepnote_cell_type": "text-cell-h1",
    "is_collapsed": false,
    "tags": []
   },
   "source": [
    "# Clustering"
   ]
  },
  {
   "cell_type": "code",
   "execution_count": null,
   "metadata": {
    "cell_id": "00000-691a0c7a-b34b-4aeb-8263-fc8778ceaeee",
    "deepnote_cell_type": "code",
    "deepnote_to_be_reexecuted": false,
    "execution_millis": 5595,
    "execution_start": 1636963344403,
    "source_hash": "7b6b40d",
    "tags": []
   },
   "outputs": [],
   "source": [
    "import pandas as pd\n",
    "import numpy as np\n",
    "\n",
    "from sklearn.preprocessing import StandardScaler, MinMaxScaler\n",
    "from sklearn.decomposition import PCA\n",
    "\n",
    "# KMEANS\n",
    "from sklearn.cluster import KMeans\n",
    "from yellowbrick.cluster.elbow import KElbowVisualizer \n",
    "from yellowbrick.cluster import silhouette_visualizer \n",
    "\n",
    "# DBSCAN\n",
    "from sklearn.cluster import DBSCAN\n",
    "from scipy.spatial.distance import pdist, squareform\n",
    "from sklearn.neighbors import NearestNeighbors\n",
    "\n",
    "# HIERARCHICAL\n",
    "from scipy.cluster.hierarchy import linkage, fcluster, dendrogram\n",
    "from sklearn.cluster import AgglomerativeClustering\n",
    "\n",
    "# EMA\n",
    "from pyclustering.cluster.ema import ema, ema_visualizer\n",
    "from pyclustering.cluster import cluster_visualizer_multidim\n",
    "\n",
    "# Visualization\n",
    "import plotly.express as px\n",
    "import plotly.io as pio\n",
    "import plotly.figure_factory as ff\n",
    "import plotly.graph_objects as go\n",
    "pd.options.plotting.backend = \"plotly\"\n",
    "pio.templates.default = \"seaborn\"\n",
    "import matplotlib.pyplot as plt\n",
    "import seaborn as sns\n",
    "\n",
    "pd.set_option('display.max_columns', None)"
   ]
  },
  {
   "cell_type": "markdown",
   "metadata": {},
   "source": [
    "## Preparation"
   ]
  },
  {
   "cell_type": "code",
   "execution_count": null,
   "metadata": {
    "cell_id": "00002-3f3c4caf-ceb2-4d53-86ae-4b954c542539",
    "deepnote_cell_type": "code",
    "deepnote_to_be_reexecuted": false,
    "execution_millis": 19,
    "execution_start": 1636963350007,
    "source_hash": "7018f5ed",
    "tags": []
   },
   "outputs": [],
   "source": [
    "df_players = pd.read_csv(\"./datasets/players.csv\", index_col=0)\n",
    "feautures = ['max_tourney_revenue', 'mean_rank_points', 'lrpOnMxrp', 'matches_won_ratio']"
   ]
  },
  {
   "cell_type": "code",
   "execution_count": null,
   "metadata": {},
   "outputs": [],
   "source": [
    "for feature in feautures:\n",
    "    df_players[feature].hist().show()"
   ]
  },
  {
   "cell_type": "markdown",
   "metadata": {
    "cell_id": "00003-5fc1c385-044d-4c46-8322-a804af0bb406",
    "deepnote_cell_type": "text-cell-h2",
    "is_collapsed": false,
    "tags": []
   },
   "source": [
    "## K-means"
   ]
  },
  {
   "cell_type": "markdown",
   "metadata": {},
   "source": [
    "### Normalization"
   ]
  },
  {
   "cell_type": "markdown",
   "metadata": {},
   "source": [
    "In this particular case, it is applied a logarithmic transformation over `mean_rank_points` and `variance_rank_points` to make them more gaussian-like."
   ]
  },
  {
   "cell_type": "code",
   "execution_count": null,
   "metadata": {},
   "outputs": [],
   "source": [
    "df_data = df_players[feautures].reset_index(drop=True)\n",
    "df_data = df_data.round(3)\n",
    "\n",
    "# Transformations\n",
    "df_data['mean_rank_points'] = np.log(df_data['mean_rank_points'])\n",
    "\n",
    "# Plot\n",
    "df_data['mean_rank_points'].hist().show()\n",
    "df_data = pd.DataFrame(MinMaxScaler().fit_transform(df_data), columns=df_data.columns)\n",
    "df_data.boxplot(column=feautures).show()"
   ]
  },
  {
   "cell_type": "markdown",
   "metadata": {
    "cell_id": "00007-c8897fd0-1a50-4a31-80ef-6579a49f7345",
    "deepnote_cell_type": "markdown"
   },
   "source": [
    "### Find Optimal K"
   ]
  },
  {
   "cell_type": "code",
   "execution_count": null,
   "metadata": {
    "cell_id": "00008-15126f8c-7be6-4ffb-8f0c-c59694b53b25",
    "deepnote_cell_type": "code",
    "deepnote_to_be_reexecuted": false,
    "execution_millis": 5283,
    "execution_start": 1636963355936,
    "source_hash": "16f7d721"
   },
   "outputs": [],
   "source": [
    "model = KMeans(n_init=10, max_iter=100, init=\"k-means++\")\n",
    "sse_visualizer = KElbowVisualizer(model, k=(2,8), timings=False)\n",
    "sse_visualizer.fit(df_data)\n",
    "sse_visualizer.show()\n",
    "\n",
    "sil_visualizer = KElbowVisualizer(model, k=(2,8), timings=False, metric=\"silhouette\")\n",
    "sil_visualizer.fit(df_data)\n",
    "sil_visualizer.show()"
   ]
  },
  {
   "cell_type": "markdown",
   "metadata": {},
   "source": [
    "Picking optimal K"
   ]
  },
  {
   "cell_type": "markdown",
   "metadata": {},
   "source": [
    "The optimal `k` is 4"
   ]
  },
  {
   "cell_type": "code",
   "execution_count": null,
   "metadata": {
    "cell_id": "00012-55d6093c-c243-468c-b71c-c240372bd197",
    "deepnote_cell_type": "code",
    "deepnote_to_be_reexecuted": false,
    "execution_millis": 474,
    "execution_start": 1636963361255,
    "source_hash": "c5e20870"
   },
   "outputs": [],
   "source": [
    "optimal_k = sse_visualizer.elbow_value_\n",
    "kmeans = KMeans(n_clusters=optimal_k, n_init=10, max_iter=100, init=\"k-means++\")\n",
    "kmeans.fit(df_data)\n",
    "\n",
    "df_players[\"cluster_kmeans\"] = kmeans.labels_.astype(str)\n",
    "\n",
    "x = silhouette_visualizer(KMeans(optimal_k, random_state=42), df_data)\n",
    "print(\"The silhoutte score is: \" + str(x.silhouette_score_))"
   ]
  },
  {
   "cell_type": "markdown",
   "metadata": {
    "cell_id": "00013-4d1f58bb-d93e-45a5-9e53-252cdfd4a457",
    "deepnote_cell_type": "markdown"
   },
   "source": [
    "### Result analysis"
   ]
  },
  {
   "cell_type": "code",
   "execution_count": null,
   "metadata": {},
   "outputs": [],
   "source": [
    "interesting_features = ['mean_rank_points', 'lrpOnAvgrp', 'age', 'total_matches_played', 'performance_index_entropy']\n",
    "df_players.groupby(\"cluster_kmeans\").agg({\"cluster_kmeans\":\"count\", \"mean_rank_points\": \"mean\", \"lrpOnAvgrp\": \"mean\", \"age\": \"mean\", \"matches_won_ratio\": \"mean\", \"total_matches_played\": \"mean\", \"performance_index_entropy\":\"mean\"}).sort_values(by=\"mean_rank_points\", ascending=False).round(2).rename(columns={\"cluster_kmeans\": \"cluster size\"})"
   ]
  },
  {
   "cell_type": "markdown",
   "metadata": {},
   "source": [
    "Plot of the k-means centers"
   ]
  },
  {
   "cell_type": "code",
   "execution_count": null,
   "metadata": {},
   "outputs": [],
   "source": [
    "plt.figure(figsize=(15, 4))\n",
    "for i in range(0, len(kmeans.cluster_centers_)):\n",
    "    plt.plot(kmeans.cluster_centers_[i], marker='o', label='Cluster %s' % i)\n",
    "plt.xticks(range(0, len(df_data.columns)), df_data.columns, fontsize=15)\n",
    "plt.legend(fontsize=10)\n",
    "plt.show()"
   ]
  },
  {
   "cell_type": "markdown",
   "metadata": {},
   "source": [
    "#### PCA visualization"
   ]
  },
  {
   "cell_type": "code",
   "execution_count": null,
   "metadata": {},
   "outputs": [],
   "source": [
    "df = df_players[df_players.select_dtypes(include = np.number).columns.tolist()].drop(columns = ['ht'])\n",
    "components_df = pd.DataFrame(PCA(n_components=2).fit_transform(df))\n",
    "px.scatter(x=components_df[0], y=components_df[1], color=df_players[\"cluster_kmeans\"]).show()"
   ]
  },
  {
   "cell_type": "markdown",
   "metadata": {},
   "source": [
    "#### Scatter matrix of selected features"
   ]
  },
  {
   "cell_type": "code",
   "execution_count": null,
   "metadata": {
    "cell_id": "00017-bda09fb1-ec70-4202-9dc7-fa808172f50c",
    "deepnote_cell_type": "code",
    "deepnote_to_be_reexecuted": false,
    "execution_millis": 229,
    "execution_start": 1636963364807,
    "source_hash": "e64430a2"
   },
   "outputs": [],
   "source": [
    "px.scatter_matrix(df_players,\n",
    "    dimensions=feautures,\n",
    "    color=\"cluster_kmeans\")"
   ]
  },
  {
   "cell_type": "markdown",
   "metadata": {},
   "source": [
    "#### Scatter matrix of interesting features"
   ]
  },
  {
   "cell_type": "code",
   "execution_count": null,
   "metadata": {},
   "outputs": [],
   "source": [
    "px.scatter_matrix(df_players,\n",
    "    dimensions=interesting_features,\n",
    "    color=\"cluster_kmeans\")"
   ]
  },
  {
   "cell_type": "markdown",
   "metadata": {},
   "source": [
    "#### Histograms of interesting features by gender\n",
    "The only important difference between male and female players that can be seen is that female players tend to be more than the counterpart, nevertheless no discrimination is made"
   ]
  },
  {
   "cell_type": "code",
   "execution_count": null,
   "metadata": {
    "cell_id": "00019-e4b524d9-94de-4d2e-b698-fb1d25b8c99f",
    "deepnote_cell_type": "code",
    "deepnote_to_be_reexecuted": false,
    "execution_millis": 9357,
    "execution_start": 1636963365059,
    "source_hash": "1a87d7d5"
   },
   "outputs": [],
   "source": [
    "for feature in interesting_features:\n",
    "  px.histogram(df_players, x=feature, facet_col=\"cluster_kmeans\", color=df_players.gender).show()"
   ]
  },
  {
   "cell_type": "markdown",
   "metadata": {},
   "source": [
    "#### Interpretation\n",
    "Looking at the values ​​within the clusters, the following interpretation can be made:\n",
    "\n",
    "- Players high ranked, played a lot of matches, performance *varies a lot* from one tournament to another\n",
    "  - Cluster 0: decreasing performance and high age\n",
    "  - Cluster 3: increasing performance and low age\n",
    "- Players low ranked, played few matches, performance *varies* from one tournament to another\n",
    "  - Cluster 2: decreasing performance and high age\n",
    "  - Cluster 1: increasing performance and low age\n",
    "\n",
    "In **summary** k-means identifies strong and weak players, and for both of them it identifies the ones with a rising score that are young and the ones with a decreasing score that are old. Stronger players have played more matches and attract more spectators and more money."
   ]
  },
  {
   "cell_type": "markdown",
   "metadata": {
    "cell_id": "00003-796cb1fb-dcc9-404b-a80c-8f08768ec146",
    "deepnote_cell_type": "text-cell-h2",
    "is_collapsed": false,
    "tags": []
   },
   "source": [
    "## Density-based"
   ]
  },
  {
   "cell_type": "code",
   "execution_count": null,
   "metadata": {},
   "outputs": [],
   "source": [
    "df_data = df_players[feautures].reset_index(drop=True)\n",
    "df_data = pd.DataFrame(StandardScaler().fit_transform(df_data), columns=df_data.columns).round(3)\n",
    "df_data.boxplot(column=feautures)"
   ]
  },
  {
   "cell_type": "code",
   "execution_count": null,
   "metadata": {},
   "outputs": [],
   "source": [
    "# pair-wise distance and then compute distance matrix\n",
    "dist = pdist(X=df_data, metric='euclidean')\n",
    "dist = squareform(dist)\n",
    "\n",
    "kmin, kmax = 3, 30\n",
    "kth_distances = {k:[] for k in range(kmin, kmax + 1)}\n",
    "\n",
    "for d in dist:\n",
    "    indexes_to_sort_d = np.argsort(d)\n",
    "    for k in range(kmin, kmax + 1):\n",
    "        kth_distances[k].append(d[indexes_to_sort_d[k]])\n",
    "\n",
    "fig = go.Figure()\n",
    "for k in kth_distances.keys():\n",
    "    fig.add_trace(go.Scatter(x = np.array(range(0, len(kth_distances[k]))), y = sorted(kth_distances[k]), mode = 'lines' , name = str(k)))\n",
    "fig.show()"
   ]
  },
  {
   "cell_type": "markdown",
   "metadata": {},
   "source": [
    "### Find optimal hyper-parameters"
   ]
  },
  {
   "cell_type": "code",
   "execution_count": null,
   "metadata": {},
   "outputs": [],
   "source": [
    "def get_metrics(eps, min_samples, dataset, iter_):\n",
    "    # Fit the model\n",
    "    dbscan_model_ = DBSCAN( eps = eps, min_samples = min_samples)\n",
    "    dbscan_model_.fit(dataset)\n",
    "    \n",
    "    # Mean noise point distance metric\n",
    "    noise_indices = dbscan_model_.labels_ == -1\n",
    "    \n",
    "    if True in noise_indices:\n",
    "        neighboors = NearestNeighbors(n_neighbors = 6).fit(dataset)\n",
    "        distances, indices = neighboors.kneighbors(dataset)\n",
    "        noise_distances = distances[noise_indices, 1:]\n",
    "        noise_mean_distance = round(noise_distances.mean(), 3)\n",
    "    else:\n",
    "        noise_mean_distance = None\n",
    "        \n",
    "    # Number of clusters metric\n",
    "    number_of_clusters = len(set(dbscan_model_.labels_[dbscan_model_.labels_ >= 0]))\n",
    "    return(noise_mean_distance, number_of_clusters)\n",
    "\n",
    "eps_to_test = [round(eps,1) for eps in np.arange(0.1, 3, 0.1)]\n",
    "min_samples_to_test = range(3, 30, 2)\n",
    "\n",
    "# Dataframe per la metrica sulla distanza media dei noise points dai K punti più vicini\n",
    "results_noise = pd.DataFrame( \n",
    "    data = np.zeros((len(eps_to_test),len(min_samples_to_test))), # Empty dataframe\n",
    "    columns = min_samples_to_test, \n",
    "    index = eps_to_test\n",
    ")\n",
    "\n",
    "# Dataframe per la metrica sul numero di cluster\n",
    "results_clusters = pd.DataFrame( \n",
    "    data = np.zeros((len(eps_to_test),len(min_samples_to_test))), # Empty dataframe\n",
    "    columns = min_samples_to_test, \n",
    "    index = eps_to_test\n",
    ")\n",
    "\n",
    "iter_ = 0\n",
    "for eps in eps_to_test:\n",
    "    for min_samples in min_samples_to_test:\n",
    "        iter_ += 1\n",
    "        # Calcolo le metriche\n",
    "        noise_metric, cluster_metric = get_metrics(eps, min_samples, df_data, iter_)\n",
    "\n",
    "        results_noise.loc[eps, min_samples] = noise_metric\n",
    "        results_clusters.loc[eps, min_samples] = cluster_metric"
   ]
  },
  {
   "cell_type": "code",
   "execution_count": null,
   "metadata": {},
   "outputs": [],
   "source": [
    "sm = (results_clusters >= 2) & (results_clusters <= 5)\n",
    "sm = (results_clusters == 3)\n",
    "\n",
    "fig, (ax1, ax2) = plt.subplots(1, 2, figsize=(16,8) )\n",
    "sns.heatmap(results_noise, annot = True, ax = ax1, cbar = False).set_title(\"METRIC: Mean Noise Points Distance\")\n",
    "sns.heatmap(results_clusters, annot = True, ax = ax2, cbar = False).set_title(\"METRIC: Number of clusters\")\n",
    "ax1.set_xlabel(\"N\"); ax2.set_xlabel(\"N\")\n",
    "ax1.set_ylabel(\"EPSILON\"); ax2.set_ylabel(\"EPSILON\")\n",
    "plt.tight_layout(); plt.show()"
   ]
  },
  {
   "cell_type": "markdown",
   "metadata": {},
   "source": [
    "### Result analysis"
   ]
  },
  {
   "cell_type": "code",
   "execution_count": null,
   "metadata": {},
   "outputs": [],
   "source": [
    "# dbscan = DBSCAN(eps=0.9, min_samples=3).fit(df_data)\n",
    "dbscan = DBSCAN(eps=0.4, min_samples=29).fit(df_data)\n",
    "# -1: 977 players with \n",
    "# 0: young 20, increasing a lot\n",
    "# 1: old 27, decreasing a lot\n",
    "# 2: 23, stable\n",
    "results = np.unique(dbscan.labels_, return_counts=True)\n",
    "print(f\"Clusters labels: {results[0]}\\nElements per cluster: {results[1]}\")\n",
    "\n",
    "df_players[\"cluster_dbscan\"] = dbscan.labels_.astype(str)\n",
    "df_players.groupby(\"cluster_dbscan\").mean()"
   ]
  },
  {
   "cell_type": "markdown",
   "metadata": {},
   "source": [
    "#### PCA visualization"
   ]
  },
  {
   "cell_type": "code",
   "execution_count": null,
   "metadata": {},
   "outputs": [],
   "source": [
    "# TODO remove these line if you want to plot over the normalized data where k-means was executed\n",
    "df = df_players[df_players.select_dtypes(include = np.number).columns.tolist()].drop(columns = ['ht'])\n",
    "\n",
    "components_df = pd.DataFrame(PCA(n_components=2).fit_transform(df_data))\n",
    "px.scatter(x=components_df[0], y=components_df[1], color=df_players[\"cluster_dbscan\"]).show()"
   ]
  },
  {
   "cell_type": "markdown",
   "metadata": {},
   "source": [
    "#### Interpretation"
   ]
  },
  {
   "cell_type": "code",
   "execution_count": null,
   "metadata": {},
   "outputs": [],
   "source": [
    "df_players.groupby(\"cluster_kmeans\").agg(pd.Series.mode)"
   ]
  },
  {
   "cell_type": "code",
   "execution_count": null,
   "metadata": {},
   "outputs": [],
   "source": [
    "df_players.groupby(\"cluster_dbscan\").mean().loc[:, [\"mean_rank_points\", \"lrpOnAvgrp\", \"age\", \"total_matches_played\", \"mean_minutes\", \"matches_won_ratio\"]].sort_values(by=\"mean_rank_points\", ascending=False)\n",
    "x = df_players.groupby(\"cluster_dbscan\").agg({\"cluster_kmeans\":\"count\", \"mean_rank_points\": \"mean\", \"lrpOnAvgrp\": \"mean\", \"age\": \"mean\", \"total_matches_played\": \"mean\", \"mean_tourney_revenue\": \"mean\"}).sort_values(by=\"mean_rank_points\", ascending=False)\n",
    "x = x.round(2)\n",
    "# rename column cluster_kmeans to cluster size\n",
    "x.rename(columns={\"cluster_kmeans\": \"cluster size\"}, inplace=True)\n",
    "\n",
    "import plotly.figure_factory as ff\n",
    "ff.create_table(x, index=True, index_title=\"Cluster\")"
   ]
  },
  {
   "cell_type": "code",
   "execution_count": null,
   "metadata": {},
   "outputs": [],
   "source": [
    "px.scatter_matrix(df_players,\n",
    "    dimensions=feautures,\n",
    "    color=\"cluster_dbscan\")"
   ]
  },
  {
   "cell_type": "code",
   "execution_count": null,
   "metadata": {},
   "outputs": [],
   "source": [
    "px.scatter_matrix(df_players,\n",
    "    dimensions=interesting_features,\n",
    "    color=\"cluster_dbscan\")"
   ]
  },
  {
   "cell_type": "markdown",
   "metadata": {
    "cell_id": "00004-b12ab06a-5381-496f-88f5-cf08aaef7cbb",
    "deepnote_cell_type": "text-cell-h2",
    "is_collapsed": false,
    "tags": []
   },
   "source": [
    "## Hierarchical"
   ]
  },
  {
   "cell_type": "code",
   "execution_count": null,
   "metadata": {},
   "outputs": [],
   "source": [
    "df_data = df_players[feautures].reset_index(drop=True)\n",
    "df_data = pd.DataFrame(StandardScaler().fit_transform(df_data), columns=df_data.columns)\n",
    "df_data = df_data.round(3)\n",
    "df_data.boxplot(column=feautures)"
   ]
  },
  {
   "cell_type": "code",
   "execution_count": null,
   "metadata": {},
   "outputs": [],
   "source": [
    "dend = linkage(df_data, method='ward', metric=\"euclidean\")\n",
    "dendrogram(dend, p = 10, truncate_mode = 'lastp')\n",
    "plt.show()"
   ]
  },
  {
   "cell_type": "code",
   "execution_count": null,
   "metadata": {},
   "outputs": [],
   "source": [
    "cluster = AgglomerativeClustering(n_clusters=6, affinity='euclidean', linkage='ward')\n",
    "cluster.fit_predict(df_data)\n",
    "\n",
    "results = np.unique(cluster.labels_, return_counts=True)\n",
    "print(f\"Clusters labels: {results[0]}\\nElements per cluster: {results[1]}\")\n",
    "\n",
    "df_players[\"cluster_hierarchical\"] = cluster.labels_.astype(str)\n",
    "df_players = df_players.round(3)"
   ]
  },
  {
   "cell_type": "markdown",
   "metadata": {},
   "source": [
    "### Result analysis"
   ]
  },
  {
   "cell_type": "code",
   "execution_count": null,
   "metadata": {},
   "outputs": [],
   "source": [
    "# TODO remove these line if you want to plot over the normalized data where k-means was executed\n",
    "df = df_players[df_players.select_dtypes(include = np.number).columns.tolist()].drop(columns = ['ht'])\n",
    "\n",
    "components_df = pd.DataFrame(PCA(n_components=2).fit_transform(df))\n",
    "px.scatter(x=components_df[0], y=components_df[1], color=df_players[\"cluster_hierarchical\"]).show()"
   ]
  },
  {
   "cell_type": "code",
   "execution_count": null,
   "metadata": {},
   "outputs": [],
   "source": [
    "df_players.loc[df_players[\"cluster_hierarchical\"] == \"1\", \"cluster_hierarchical\"] = \"0\"\n",
    "df_players.loc[df_players[\"cluster_hierarchical\"] == \"4\", \"cluster_hierarchical\"] = \"0\"\n"
   ]
  },
  {
   "cell_type": "code",
   "execution_count": null,
   "metadata": {},
   "outputs": [],
   "source": [
    "df_players.groupby(\"cluster_hierarchical\").mean().loc[:, [\"age\", \"mean_rank_points\", \"lrpOnAvgrp\", \"total_matches_played\", \"mean_minutes\", \"matches_won_ratio\"]]"
   ]
  },
  {
   "cell_type": "markdown",
   "metadata": {
    "cell_id": "00005-b575ff62-84bd-4d6a-b55b-18f871f22505",
    "deepnote_cell_type": "text-cell-h2",
    "is_collapsed": false,
    "tags": []
   },
   "source": [
    "## Gaussian Mixture (EMA)"
   ]
  },
  {
   "cell_type": "code",
   "execution_count": null,
   "metadata": {},
   "outputs": [],
   "source": [
    "df_data = df_players[feautures].reset_index(drop=True)\n",
    "#df_data = pd.DataFrame(MinMaxScaler().fit_transform(df_data), columns=df_data.columns)\n",
    "df_data = df_data.round(3)"
   ]
  },
  {
   "cell_type": "code",
   "execution_count": null,
   "metadata": {},
   "outputs": [],
   "source": [
    "df = df_data.values.tolist()\n",
    "ema_instance = ema(df, 5)\n",
    "ema_instance.process()\n",
    "\n",
    "# Get clustering results.\n",
    "clusters = ema_instance.get_clusters()\n",
    "covariances = ema_instance.get_covariances()\n",
    "means = ema_instance.get_centers()\n",
    "# Visualize obtained clustering results.\n",
    "# ema_visualizer.show_clusters(clusters, sample, covariances, means)\n",
    "# x = cluster_visualizer_multidim()\n",
    "# x.append_clusters(clusters, df)\n",
    "# x.show()\n",
    "for i, cluster in enumerate(clusters):\n",
    "    print(f\"Cluster {i}: {len(cluster)}\")\n",
    "\n",
    "for i, cluster in zip(range(len(clusters)), clusters):\n",
    "    df_players.loc[df_players.index[cluster], 'cluster_gm'] = str(i)\n",
    "\n",
    "df_players.groupby(\"cluster_gm\").mean().loc[:, [\"age\", \"mean_rank_points\", \"lrpOnAvgrp\", \"total_matches_played\", \"mean_minutes\", \"matches_won_ratio\"]]"
   ]
  },
  {
   "cell_type": "markdown",
   "metadata": {},
   "source": [
    "### Result analysis"
   ]
  },
  {
   "cell_type": "code",
   "execution_count": null,
   "metadata": {},
   "outputs": [],
   "source": [
    "# TODO remove these line if you want to plot over the normalized data where k-means was executed\n",
    "df = df_players[df_players.select_dtypes(include = np.number).columns.tolist()].drop(columns = ['ht'])\n",
    "\n",
    "components_df = pd.DataFrame(PCA(n_components=2).fit_transform(df))\n",
    "px.scatter(x=components_df[0], y=components_df[1], color=df_players[\"cluster_dbscan\"]).show()"
   ]
  },
  {
   "cell_type": "code",
   "execution_count": null,
   "metadata": {},
   "outputs": [],
   "source": [
    "df_players.groupby(\"cluster_gm\").mean()"
   ]
  }
 ],
 "metadata": {
  "deepnote": {
   "is_reactive": false
  },
  "deepnote_execution_queue": [],
  "deepnote_notebook_id": "86f61efd-3d03-421b-8496-cf838ba66d00",
  "interpreter": {
   "hash": "11bc6520eaf059b9bc04ee98b4f739ace287d2f24aeca2977117dec1068ffc1c"
  },
  "kernelspec": {
   "display_name": "Python 3.9.7 64-bit ('dm': conda)",
   "name": "python3"
  },
  "language_info": {
   "codemirror_mode": {
    "name": "ipython",
    "version": 3
   },
   "file_extension": ".py",
   "mimetype": "text/x-python",
   "name": "python",
   "nbconvert_exporter": "python",
   "pygments_lexer": "ipython3",
   "version": "3.9.7"
  },
  "orig_nbformat": 2
 },
 "nbformat": 4,
 "nbformat_minor": 2
}
