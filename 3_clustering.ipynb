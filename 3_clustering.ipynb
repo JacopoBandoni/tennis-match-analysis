{
 "cells": [
  {
   "cell_type": "markdown",
   "source": [
    "# Clustering"
   ],
   "metadata": {
    "tags": [],
    "is_collapsed": false,
    "cell_id": "00001-5f0e6fa2-db99-483b-a8ff-8e6632c68a1f",
    "deepnote_cell_type": "text-cell-h1"
   }
  },
  {
   "cell_type": "code",
   "execution_count": null,
   "source": [
    "import numpy as np\n",
    "import pandas as pd\n",
    "\n",
    "from sklearn.preprocessing import StandardScaler, MinMaxScaler, RobustScaler, QuantileTransformer, PowerTransformer\n",
    "from sklearn.cluster import KMeans\n",
    "from sklearn.metrics import silhouette_score, davies_bouldin_score, calinski_harabasz_score\n",
    "from scipy import stats\n",
    "\n",
    "# Visualization\n",
    "import plotly.express as px\n",
    "import plotly.io as pio\n",
    "pd.options.plotting.backend = \"plotly\"\n",
    "pio.templates.default = \"seaborn\""
   ],
   "outputs": [],
   "metadata": {
    "tags": [],
    "cell_id": "00000-691a0c7a-b34b-4aeb-8263-fc8778ceaeee",
    "deepnote_to_be_reexecuted": false,
    "source_hash": "94852aa6",
    "execution_start": 1636725818580,
    "execution_millis": 974,
    "deepnote_cell_type": "code"
   }
  },
  {
   "cell_type": "code",
   "execution_count": null,
   "source": [
    "df_players = pd.read_csv(\"./datasets/players.csv\", index_col=0)\n",
    "#df_players = df_players[df_players.gender == \"m\"]"
   ],
   "outputs": [],
   "metadata": {
    "tags": [],
    "cell_id": "00002-3f3c4caf-ceb2-4d53-86ae-4b954c542539",
    "deepnote_to_be_reexecuted": false,
    "source_hash": "293d4e20",
    "execution_start": 1636725881391,
    "execution_millis": 235,
    "deepnote_cell_type": "code"
   }
  },
  {
   "cell_type": "code",
   "execution_count": null,
   "source": [
    "feautures = [\"rel_df\", \"rel_1stIn\", \"rel_2ndWon\", \"1WonOn1In\", \"rel_bpSaved\"]\n",
    "df_data = df_players[feautures].reset_index(drop=True)\n",
    "# df_data = pd.DataFrame(StandardScaler().fit_transform(df_data), columns=df_data.columns)\n",
    "#df_data = pd.DataFrame(RobustScaler(unit_variance=True).fit_transform(df_data), columns=df_data.columns)\n",
    "#df_data = df_data[(np.abs(stats.zscore(df_data)) < 2).all(axis=1)]\n",
    "df_data = pd.DataFrame(QuantileTransformer().fit_transform(df_data), columns=df_data.columns)\n",
    "df_data = df_data.round(3)\n",
    "\n",
    "df_data.boxplot(column=feautures)"
   ],
   "outputs": [],
   "metadata": {
    "tags": [],
    "cell_id": "00003-360386fb-4bf9-4397-80e9-e52cff92d892",
    "deepnote_to_be_reexecuted": false,
    "source_hash": "b9909bb5",
    "execution_start": 1636725976755,
    "execution_millis": 7,
    "deepnote_cell_type": "code"
   }
  },
  {
   "cell_type": "code",
   "execution_count": null,
   "source": [
    "df_data"
   ],
   "outputs": [],
   "metadata": {}
  },
  {
   "cell_type": "markdown",
   "source": [
    "## K-means"
   ],
   "metadata": {
    "tags": [],
    "is_collapsed": false,
    "cell_id": "00003-5fc1c385-044d-4c46-8322-a804af0bb406",
    "deepnote_cell_type": "text-cell-h2"
   }
  },
  {
   "cell_type": "markdown",
   "source": [
    "Find Optimal K"
   ],
   "metadata": {}
  },
  {
   "cell_type": "code",
   "execution_count": null,
   "source": [
    "sse_scores = list()\n",
    "silhoutte_scores = list()\n",
    "davies_scores = list()\n",
    "calinski_harabasz_scores = list()\n",
    "\n",
    "max_k = 30\n",
    "for k in range(2, max_k + 1):\n",
    "    kmeans = KMeans(n_clusters=k, n_init=10, max_iter=100, init=\"k-means++\")\n",
    "    kmeans.fit(df_data)    \n",
    "    \n",
    "    # Sum of squared distances of samples to their closest cluster center\n",
    "    sse_scores.append(kmeans.inertia_)\n",
    "    davies_scores.append(davies_bouldin_score(df_data, kmeans.labels_))\n",
    "    silhoutte_scores.append(silhouette_score(df_data, kmeans.labels_))\n",
    "    calinski_harabasz_scores.append(calinski_harabasz_score(df_data, kmeans.labels_))\n"
   ],
   "outputs": [],
   "metadata": {}
  },
  {
   "cell_type": "code",
   "execution_count": null,
   "source": [
    "df = pd.DataFrame({\"K\": list(range(2, max_k + 1)), \"sse\": sse_scores, \"sil\": silhoutte_scores, \"davies\": davies_scores, \"calinski\": calinski_harabasz_scores})\n",
    "df.plot(x=\"K\", y=[\"sse\"], kind=\"line\").update_traces(mode='lines+markers').show()\n",
    "df.plot(x=\"K\", y=[\"calinski\"], kind=\"line\").update_traces(mode='lines+markers').show()\n",
    "df.plot(x=\"K\", y=[\"sil\", \"davies\"], kind=\"line\").update_traces(mode='lines+markers').show()"
   ],
   "outputs": [],
   "metadata": {}
  },
  {
   "cell_type": "code",
   "execution_count": null,
   "source": [
    "optimal_k = 5\n",
    "kmeans = KMeans(n_clusters=optimal_k, n_init=10, max_iter=300, init=\"k-means++\")\n",
    "kmeans.fit(df_data)\n",
    "print(\"SSE:\",sse_scores[optimal_k - 2],\" - SILHOUETTE:\",silhoutte_scores[optimal_k - 2])"
   ],
   "outputs": [],
   "metadata": {}
  },
  {
   "cell_type": "code",
   "execution_count": null,
   "source": [
    "hist, bins = np.histogram(kmeans.labels_, bins=range(0, len(set(kmeans.labels_)) + 1))\n",
    "clust_dict = dict(zip(bins, hist))\n",
    "print(clust_dict)"
   ],
   "outputs": [],
   "metadata": {}
  },
  {
   "cell_type": "code",
   "execution_count": null,
   "source": [
    "px.scatter_matrix(df_data,\n",
    "    dimensions=feautures,\n",
    "    color=kmeans.labels_.astype(str))"
   ],
   "outputs": [],
   "metadata": {}
  },
  {
   "cell_type": "code",
   "execution_count": null,
   "source": [
    "\n",
    "for feature in df_players.columns.drop([\"name\"]).to_list():\n",
    "  px.histogram(df_players, x=feature, facet_col=kmeans.labels_.astype(str), color=df_players.gender).show()"
   ],
   "outputs": [],
   "metadata": {}
  },
  {
   "cell_type": "code",
   "execution_count": null,
   "source": [
    "pd.set_option('display.max_columns', None)\n",
    "df_players[\"cluster\"] = kmeans.labels_\n",
    "df_players.groupby(\"cluster\").describe()"
   ],
   "outputs": [],
   "metadata": {}
  },
  {
   "cell_type": "markdown",
   "source": [
    "## Density-based"
   ],
   "metadata": {
    "tags": [],
    "is_collapsed": false,
    "cell_id": "00003-796cb1fb-dcc9-404b-a80c-8f08768ec146",
    "deepnote_cell_type": "text-cell-h2"
   }
  },
  {
   "cell_type": "markdown",
   "source": [
    "## Hierarchical"
   ],
   "metadata": {
    "tags": [],
    "is_collapsed": false,
    "cell_id": "00004-b12ab06a-5381-496f-88f5-cf08aaef7cbb",
    "deepnote_cell_type": "text-cell-h2"
   }
  },
  {
   "cell_type": "markdown",
   "source": [
    "## Optional"
   ],
   "metadata": {
    "tags": [],
    "is_collapsed": false,
    "cell_id": "00005-b575ff62-84bd-4d6a-b55b-18f871f22505",
    "deepnote_cell_type": "text-cell-h2"
   }
  },
  {
   "cell_type": "markdown",
   "source": [
    "<a style='text-decoration:none;line-height:16px;display:flex;color:#5B5B62;padding:10px;justify-content:end;' href='https://deepnote.com?utm_source=created-in-deepnote-cell&projectId=56da3ab5-e195-41aa-a609-f5fefeb3379d' target=\"_blank\">\n",
    "<img alt='Created in deepnote.com' style='display:inline;max-height:16px;margin:0px;margin-right:7.5px;' src='data:image/svg+xml;base64,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' > </img>\n",
    "Created in <span style='font-weight:600;margin-left:4px;'>Deepnote</span></a>"
   ],
   "metadata": {
    "tags": [],
    "created_in_deepnote_cell": true,
    "deepnote_cell_type": "markdown"
   }
  }
 ],
 "nbformat": 4,
 "nbformat_minor": 2,
 "metadata": {
  "orig_nbformat": 2,
  "deepnote": {
   "is_reactive": false
  },
  "deepnote_notebook_id": "86f61efd-3d03-421b-8496-cf838ba66d00",
  "deepnote_execution_queue": [],
  "language_info": {
   "name": "python",
   "version": "3.9.7",
   "mimetype": "text/x-python",
   "codemirror_mode": {
    "name": "ipython",
    "version": 3
   },
   "pygments_lexer": "ipython3",
   "nbconvert_exporter": "python",
   "file_extension": ".py"
  },
  "kernelspec": {
   "name": "python3",
   "display_name": "Python 3.9.7 64-bit ('dm': conda)"
  },
  "interpreter": {
   "hash": "11bc6520eaf059b9bc04ee98b4f739ace287d2f24aeca2977117dec1068ffc1c"
  }
 }
}