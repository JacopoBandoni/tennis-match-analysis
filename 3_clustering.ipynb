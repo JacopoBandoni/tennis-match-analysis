{
 "cells": [
  {
   "cell_type": "markdown",
   "source": "# Clustering",
   "metadata": {
    "tags": [],
    "is_collapsed": false,
    "cell_id": "00001-5f0e6fa2-db99-483b-a8ff-8e6632c68a1f",
    "deepnote_cell_type": "text-cell-h1"
   }
  },
  {
   "cell_type": "code",
   "metadata": {
    "tags": [],
    "cell_id": "00000-691a0c7a-b34b-4aeb-8263-fc8778ceaeee",
    "deepnote_to_be_reexecuted": false,
    "source_hash": "94852aa6",
    "execution_start": 1636725818580,
    "execution_millis": 974,
    "deepnote_cell_type": "code"
   },
   "source": "import math\nimport numpy as np\nimport pandas as pd\n\nfrom sklearn.preprocessing import MinMaxScaler",
   "outputs": [],
   "execution_count": null
  },
  {
   "cell_type": "code",
   "source": "df_players = pd.read_csv(\"./datasets/players.csv\")\ndf_players",
   "metadata": {
    "tags": [],
    "cell_id": "00002-3f3c4caf-ceb2-4d53-86ae-4b954c542539",
    "deepnote_to_be_reexecuted": false,
    "source_hash": "293d4e20",
    "execution_start": 1636725881391,
    "execution_millis": 235,
    "deepnote_cell_type": "code"
   },
   "outputs": [
    {
     "output_type": "execute_result",
     "execution_count": 4,
     "data": {
      "application/vnd.deepnote.dataframe.v2+json": {
       "row_count": 6179,
       "column_count": 20,
       "columns": [
        {
         "name": "Unnamed: 0",
         "dtype": "int64",
         "stats": {
          "unique_count": 6179,
          "nan_count": 0,
          "min": "0",
          "max": "6178",
          "histogram": [
           {
            "bin_start": 0,
            "bin_end": 617.8,
            "count": 618
           },
           {
            "bin_start": 617.8,
            "bin_end": 1235.6,
            "count": 618
           },
           {
            "bin_start": 1235.6,
            "bin_end": 1853.3999999999999,
            "count": 618
           },
           {
            "bin_start": 1853.3999999999999,
            "bin_end": 2471.2,
            "count": 618
           },
           {
            "bin_start": 2471.2,
            "bin_end": 3089,
            "count": 617
           },
           {
            "bin_start": 3089,
            "bin_end": 3706.7999999999997,
            "count": 618
           },
           {
            "bin_start": 3706.7999999999997,
            "bin_end": 4324.599999999999,
            "count": 618
           },
           {
            "bin_start": 4324.599999999999,
            "bin_end": 4942.4,
            "count": 618
           },
           {
            "bin_start": 4942.4,
            "bin_end": 5560.2,
            "count": 618
           },
           {
            "bin_start": 5560.2,
            "bin_end": 6178,
            "count": 618
           }
          ]
         }
        },
        {
         "name": "name",
         "dtype": "object",
         "stats": {
          "unique_count": 6179,
          "nan_count": 0,
          "categories": [
           {
            "name": "aaliya ebrahim",
            "count": 1
           },
           {
            "name": "aaliyah hohmann",
            "count": 1
           },
           {
            "name": "6177 others",
            "count": 6177
           }
          ]
         }
        },
        {
         "name": "gender",
         "dtype": "object",
         "stats": {
          "unique_count": 2,
          "nan_count": 0,
          "categories": [
           {
            "name": "f",
            "count": 4426
           },
           {
            "name": "m",
            "count": 1753
           }
          ]
         }
        },
        {
         "name": "total_tourneys_played",
         "dtype": "int64",
         "stats": {
          "unique_count": 170,
          "nan_count": 0,
          "min": "1",
          "max": "175",
          "histogram": [
           {
            "bin_start": 1,
            "bin_end": 18.4,
            "count": 3711
           },
           {
            "bin_start": 18.4,
            "bin_end": 35.8,
            "count": 772
           },
           {
            "bin_start": 35.8,
            "bin_end": 53.199999999999996,
            "count": 489
           },
           {
            "bin_start": 53.199999999999996,
            "bin_end": 70.6,
            "count": 275
           },
           {
            "bin_start": 70.6,
            "bin_end": 88,
            "count": 266
           },
           {
            "bin_start": 88,
            "bin_end": 105.39999999999999,
            "count": 211
           },
           {
            "bin_start": 105.39999999999999,
            "bin_end": 122.79999999999998,
            "count": 197
           },
           {
            "bin_start": 122.79999999999998,
            "bin_end": 140.2,
            "count": 162
           },
           {
            "bin_start": 140.2,
            "bin_end": 157.6,
            "count": 68
           },
           {
            "bin_start": 157.6,
            "bin_end": 175,
            "count": 28
           }
          ]
         }
        },
        {
         "name": "total_matches_played",
         "dtype": "int64",
         "stats": {
          "unique_count": 351,
          "nan_count": 0,
          "min": "1",
          "max": "387",
          "histogram": [
           {
            "bin_start": 1,
            "bin_end": 39.6,
            "count": 3947
           },
           {
            "bin_start": 39.6,
            "bin_end": 78.2,
            "count": 737
           },
           {
            "bin_start": 78.2,
            "bin_end": 116.80000000000001,
            "count": 363
           },
           {
            "bin_start": 116.80000000000001,
            "bin_end": 155.4,
            "count": 247
           },
           {
            "bin_start": 155.4,
            "bin_end": 194,
            "count": 261
           },
           {
            "bin_start": 194,
            "bin_end": 232.60000000000002,
            "count": 194
           },
           {
            "bin_start": 232.60000000000002,
            "bin_end": 271.2,
            "count": 198
           },
           {
            "bin_start": 271.2,
            "bin_end": 309.8,
            "count": 153
           },
           {
            "bin_start": 309.8,
            "bin_end": 348.40000000000003,
            "count": 64
           },
           {
            "bin_start": 348.40000000000003,
            "bin_end": 387,
            "count": 15
           }
          ]
         }
        },
        {
         "name": "total_matches_won",
         "dtype": "int64",
         "stats": {
          "unique_count": 217,
          "nan_count": 0,
          "min": "1",
          "max": "289",
          "histogram": [
           {
            "bin_start": 1,
            "bin_end": 29.8,
            "count": 4468
           },
           {
            "bin_start": 29.8,
            "bin_end": 58.6,
            "count": 565
           },
           {
            "bin_start": 58.6,
            "bin_end": 87.4,
            "count": 330
           },
           {
            "bin_start": 87.4,
            "bin_end": 116.2,
            "count": 277
           },
           {
            "bin_start": 116.2,
            "bin_end": 145,
            "count": 259
           },
           {
            "bin_start": 145,
            "bin_end": 173.8,
            "count": 182
           },
           {
            "bin_start": 173.8,
            "bin_end": 202.6,
            "count": 76
           },
           {
            "bin_start": 202.6,
            "bin_end": 231.4,
            "count": 10
           },
           {
            "bin_start": 231.4,
            "bin_end": 260.2,
            "count": 8
           },
           {
            "bin_start": 260.2,
            "bin_end": 289,
            "count": 4
           }
          ]
         }
        },
        {
         "name": "mean_won_ratio",
         "dtype": "float64",
         "stats": {
          "unique_count": 2679,
          "nan_count": 0,
          "min": "0.0138888888888888",
          "max": "1.0",
          "histogram": [
           {
            "bin_start": 0.0138888888888888,
            "bin_end": 0.11249999999999992,
            "count": 507
           },
           {
            "bin_start": 0.11249999999999992,
            "bin_end": 0.21111111111111105,
            "count": 1176
           },
           {
            "bin_start": 0.21111111111111105,
            "bin_end": 0.3097222222222222,
            "count": 1655
           },
           {
            "bin_start": 0.3097222222222222,
            "bin_end": 0.40833333333333327,
            "count": 1477
           },
           {
            "bin_start": 0.40833333333333327,
            "bin_end": 0.5069444444444444,
            "count": 1018
           },
           {
            "bin_start": 0.5069444444444444,
            "bin_end": 0.6055555555555556,
            "count": 164
           },
           {
            "bin_start": 0.6055555555555556,
            "bin_end": 0.7041666666666667,
            "count": 102
           },
           {
            "bin_start": 0.7041666666666667,
            "bin_end": 0.8027777777777778,
            "count": 33
           },
           {
            "bin_start": 0.8027777777777778,
            "bin_end": 0.9013888888888889,
            "count": 3
           },
           {
            "bin_start": 0.9013888888888889,
            "bin_end": 1,
            "count": 44
           }
          ]
         }
        },
        {
         "name": "max_won_ratio",
         "dtype": "float64",
         "stats": {
          "unique_count": 10,
          "nan_count": 0,
          "min": "0.3333333333333333",
          "max": "1.0",
          "histogram": [
           {
            "bin_start": 0.3333333333333333,
            "bin_end": 0.4,
            "count": 7
           },
           {
            "bin_start": 0.4,
            "bin_end": 0.4666666666666667,
            "count": 0
           },
           {
            "bin_start": 0.4666666666666667,
            "bin_end": 0.5333333333333333,
            "count": 2049
           },
           {
            "bin_start": 0.5333333333333333,
            "bin_end": 0.6000000000000001,
            "count": 4
           },
           {
            "bin_start": 0.6000000000000001,
            "bin_end": 0.6666666666666667,
            "count": 1045
           },
           {
            "bin_start": 0.6666666666666667,
            "bin_end": 0.7333333333333334,
            "count": 0
           },
           {
            "bin_start": 0.7333333333333334,
            "bin_end": 0.8,
            "count": 750
           },
           {
            "bin_start": 0.8,
            "bin_end": 0.8666666666666667,
            "count": 659
           },
           {
            "bin_start": 0.8666666666666667,
            "bin_end": 0.9333333333333333,
            "count": 13
           },
           {
            "bin_start": 0.9333333333333333,
            "bin_end": 1,
            "count": 1652
           }
          ]
         }
        },
        {
         "name": "min_won_ratio",
         "dtype": "float64",
         "stats": {
          "unique_count": 8,
          "nan_count": 0,
          "min": "0.0",
          "max": "1.0",
          "histogram": [
           {
            "bin_start": 0,
            "bin_end": 0.1,
            "count": 5599
           },
           {
            "bin_start": 0.1,
            "bin_end": 0.2,
            "count": 0
           },
           {
            "bin_start": 0.2,
            "bin_end": 0.30000000000000004,
            "count": 0
           },
           {
            "bin_start": 0.30000000000000004,
            "bin_end": 0.4,
            "count": 1
           },
           {
            "bin_start": 0.4,
            "bin_end": 0.5,
            "count": 0
           },
           {
            "bin_start": 0.5,
            "bin_end": 0.6000000000000001,
            "count": 461
           },
           {
            "bin_start": 0.6000000000000001,
            "bin_end": 0.7000000000000001,
            "count": 57
           },
           {
            "bin_start": 0.7000000000000001,
            "bin_end": 0.8,
            "count": 14
           },
           {
            "bin_start": 0.8,
            "bin_end": 0.9,
            "count": 3
           },
           {
            "bin_start": 0.9,
            "bin_end": 1,
            "count": 44
           }
          ]
         }
        },
        {
         "name": "ht",
         "dtype": "float64",
         "stats": {
          "unique_count": 41,
          "nan_count": 5674,
          "min": "155.0",
          "max": "211.0",
          "histogram": [
           {
            "bin_start": 155,
            "bin_end": 160.6,
            "count": 4
           },
           {
            "bin_start": 160.6,
            "bin_end": 166.2,
            "count": 23
           },
           {
            "bin_start": 166.2,
            "bin_end": 171.8,
            "count": 52
           },
           {
            "bin_start": 171.8,
            "bin_end": 177.4,
            "count": 80
           },
           {
            "bin_start": 177.4,
            "bin_end": 183,
            "count": 93
           },
           {
            "bin_start": 183,
            "bin_end": 188.6,
            "count": 158
           },
           {
            "bin_start": 188.6,
            "bin_end": 194.2,
            "count": 64
           },
           {
            "bin_start": 194.2,
            "bin_end": 199.8,
            "count": 24
           },
           {
            "bin_start": 199.8,
            "bin_end": 205.4,
            "count": 4
           },
           {
            "bin_start": 205.4,
            "bin_end": 211,
            "count": 3
           }
          ]
         }
        },
        {
         "name": "age",
         "dtype": "float64",
         "stats": {
          "unique_count": 3335,
          "nan_count": 929,
          "min": "14.006844627",
          "max": "53.6427104723",
          "histogram": [
           {
            "bin_start": 14.006844627,
            "bin_end": 17.97043121153,
            "count": 1725
           },
           {
            "bin_start": 17.97043121153,
            "bin_end": 21.93401779606,
            "count": 1682
           },
           {
            "bin_start": 21.93401779606,
            "bin_end": 25.89760438059,
            "count": 1092
           },
           {
            "bin_start": 25.89760438059,
            "bin_end": 29.861190965120002,
            "count": 497
           },
           {
            "bin_start": 29.861190965120002,
            "bin_end": 33.82477754965,
            "count": 168
           },
           {
            "bin_start": 33.82477754965,
            "bin_end": 37.78836413418,
            "count": 68
           },
           {
            "bin_start": 37.78836413418,
            "bin_end": 41.751950718710006,
            "count": 11
           },
           {
            "bin_start": 41.751950718710006,
            "bin_end": 45.71553730324,
            "count": 3
           },
           {
            "bin_start": 45.71553730324,
            "bin_end": 49.679123887770004,
            "count": 2
           },
           {
            "bin_start": 49.679123887770004,
            "bin_end": 53.6427104723,
            "count": 2
           }
          ]
         }
        },
        {
         "name": "hand",
         "dtype": "object",
         "stats": {
          "unique_count": 5,
          "nan_count": 0,
          "categories": [
           {
            "name": "u",
            "count": 3385
           },
           {
            "name": "r",
            "count": 2470
           },
           {
            "name": "3 others",
            "count": 324
           }
          ]
         }
        },
        {
         "name": "mean_rank_points",
         "dtype": "float64",
         "stats": {
          "unique_count": 3042,
          "nan_count": 2353,
          "min": "1.0",
          "max": "10235.315634218288",
          "histogram": [
           {
            "bin_start": 1,
            "bin_end": 1024.4315634218287,
            "count": 3713
           },
           {
            "bin_start": 1024.4315634218287,
            "bin_end": 2047.8631268436577,
            "count": 68
           },
           {
            "bin_start": 2047.8631268436577,
            "bin_end": 3071.2946902654867,
            "count": 27
           },
           {
            "bin_start": 3071.2946902654867,
            "bin_end": 4094.7262536873154,
            "count": 5
           },
           {
            "bin_start": 4094.7262536873154,
            "bin_end": 5118.157817109144,
            "count": 8
           },
           {
            "bin_start": 5118.157817109144,
            "bin_end": 6141.589380530973,
            "count": 1
           },
           {
            "bin_start": 6141.589380530973,
            "bin_end": 7165.020943952802,
            "count": 2
           },
           {
            "bin_start": 7165.020943952802,
            "bin_end": 8188.452507374631,
            "count": 1
           },
           {
            "bin_start": 8188.452507374631,
            "bin_end": 9211.88407079646,
            "count": 0
           },
           {
            "bin_start": 9211.88407079646,
            "bin_end": 10235.315634218288,
            "count": 1
           }
          ]
         }
        },
        {
         "name": "max_rank_points",
         "dtype": "float64",
         "stats": {
          "unique_count": 860,
          "nan_count": 2353,
          "min": "1.0",
          "max": "16950.0",
          "histogram": [
           {
            "bin_start": 1,
            "bin_end": 1695.9,
            "count": 3676
           },
           {
            "bin_start": 1695.9,
            "bin_end": 3390.8,
            "count": 89
           },
           {
            "bin_start": 3390.8,
            "bin_end": 5085.700000000001,
            "count": 27
           },
           {
            "bin_start": 5085.700000000001,
            "bin_end": 6780.6,
            "count": 17
           },
           {
            "bin_start": 6780.6,
            "bin_end": 8475.5,
            "count": 8
           },
           {
            "bin_start": 8475.5,
            "bin_end": 10170.400000000001,
            "count": 4
           },
           {
            "bin_start": 10170.400000000001,
            "bin_end": 11865.300000000001,
            "count": 3
           },
           {
            "bin_start": 11865.300000000001,
            "bin_end": 13560.2,
            "count": 1
           },
           {
            "bin_start": 13560.2,
            "bin_end": 15255.1,
            "count": 0
           },
           {
            "bin_start": 15255.1,
            "bin_end": 16950,
            "count": 1
           }
          ]
         }
        },
        {
         "name": "last_rank_points",
         "dtype": "float64",
         "stats": {
          "unique_count": 691,
          "nan_count": 2353,
          "min": "1.0",
          "max": "12113.0",
          "histogram": [
           {
            "bin_start": 1,
            "bin_end": 1212.2,
            "count": 3703
           },
           {
            "bin_start": 1212.2,
            "bin_end": 2423.4,
            "count": 75
           },
           {
            "bin_start": 2423.4,
            "bin_end": 3634.6000000000004,
            "count": 24
           },
           {
            "bin_start": 3634.6000000000004,
            "bin_end": 4845.8,
            "count": 9
           },
           {
            "bin_start": 4845.8,
            "bin_end": 6057,
            "count": 6
           },
           {
            "bin_start": 6057,
            "bin_end": 7268.200000000001,
            "count": 3
           },
           {
            "bin_start": 7268.200000000001,
            "bin_end": 8479.4,
            "count": 3
           },
           {
            "bin_start": 8479.4,
            "bin_end": 9690.6,
            "count": 1
           },
           {
            "bin_start": 9690.6,
            "bin_end": 10901.800000000001,
            "count": 1
           },
           {
            "bin_start": 10901.800000000001,
            "bin_end": 12113,
            "count": 1
           }
          ]
         }
        },
        {
         "name": "variance_rank_points",
         "dtype": "float64",
         "stats": {
          "unique_count": 3212,
          "nan_count": 2353,
          "min": "0.0",
          "max": "20611660.31682045",
          "histogram": [
           {
            "bin_start": 0,
            "bin_end": 2061166.031682045,
            "count": 3803
           },
           {
            "bin_start": 2061166.031682045,
            "bin_end": 4122332.06336409,
            "count": 14
           },
           {
            "bin_start": 4122332.06336409,
            "bin_end": 6183498.095046135,
            "count": 3
           },
           {
            "bin_start": 6183498.095046135,
            "bin_end": 8244664.12672818,
            "count": 2
           },
           {
            "bin_start": 8244664.12672818,
            "bin_end": 10305830.158410225,
            "count": 2
           },
           {
            "bin_start": 10305830.158410225,
            "bin_end": 12366996.19009227,
            "count": 0
           },
           {
            "bin_start": 12366996.19009227,
            "bin_end": 14428162.221774315,
            "count": 0
           },
           {
            "bin_start": 14428162.221774315,
            "bin_end": 16489328.25345636,
            "count": 0
           },
           {
            "bin_start": 16489328.25345636,
            "bin_end": 18550494.285138406,
            "count": 1
           },
           {
            "bin_start": 18550494.285138406,
            "bin_end": 20611660.31682045,
            "count": 1
           }
          ]
         }
        },
        {
         "name": "mean_tourney_spectators",
         "dtype": "float64"
        },
        {
         "name": "max_tourney_spectators",
         "dtype": "float64"
        },
        {
         "name": "mean_tourney_revenue",
         "dtype": "float64"
        },
        {
         "name": "max_tourney_revenue",
         "dtype": "float64"
        },
        {
         "name": "_deepnote_index_column",
         "dtype": "int64"
        }
       ],
       "rows_top": [
        {
         "Unnamed: 0": 0,
         "name": "aaliya ebrahim",
         "gender": "f",
         "total_tourneys_played": 7,
         "total_matches_played": 9,
         "total_matches_won": 2,
         "mean_won_ratio": 0.1428571428571428,
         "max_won_ratio": 0.5,
         "min_won_ratio": 0,
         "ht": "nan",
         "age": "nan",
         "hand": "r",
         "mean_rank_points": "nan",
         "max_rank_points": "nan",
         "last_rank_points": "nan",
         "variance_rank_points": "nan",
         "mean_tourney_spectators": 3632.6666666666665,
         "max_tourney_spectators": 4070,
         "mean_tourney_revenue": 737944,
         "max_tourney_revenue": 885863.35,
         "_deepnote_index_column": 0
        },
        {
         "Unnamed: 0": 1,
         "name": "aaliyah hohmann",
         "gender": "f",
         "total_tourneys_played": 2,
         "total_matches_played": 3,
         "total_matches_won": 1,
         "mean_won_ratio": 0.25,
         "max_won_ratio": 0.5,
         "min_won_ratio": 0,
         "ht": "nan",
         "age": "nan",
         "hand": "u",
         "mean_rank_points": "nan",
         "max_rank_points": "nan",
         "last_rank_points": "nan",
         "variance_rank_points": "nan",
         "mean_tourney_spectators": 2792.6666666666665,
         "max_tourney_spectators": 2996,
         "mean_tourney_revenue": 551917.33,
         "max_tourney_revenue": 593484.95,
         "_deepnote_index_column": 1
        },
        {
         "Unnamed: 0": 2,
         "name": "aanu ayegbusi",
         "gender": "f",
         "total_tourneys_played": 3,
         "total_matches_played": 6,
         "total_matches_won": 3,
         "mean_won_ratio": 0.3888888888888888,
         "max_won_ratio": 0.6666666666666666,
         "min_won_ratio": 0,
         "ht": "nan",
         "age": "nan",
         "hand": "u",
         "mean_rank_points": "nan",
         "max_rank_points": "nan",
         "last_rank_points": "nan",
         "variance_rank_points": "nan",
         "mean_tourney_spectators": 3186,
         "max_tourney_spectators": 4290,
         "mean_tourney_revenue": 645325.9683333334,
         "max_tourney_revenue": 862412.04,
         "_deepnote_index_column": 2
        },
        {
         "Unnamed: 0": 3,
         "name": "aaron addison",
         "gender": "m",
         "total_tourneys_played": 9,
         "total_matches_played": 11,
         "total_matches_won": 2,
         "mean_won_ratio": 0.074074074074074,
         "max_won_ratio": 0.6666666666666666,
         "min_won_ratio": 0,
         "ht": "nan",
         "age": 20.1642710472,
         "hand": "r",
         "mean_rank_points": 7.7,
         "max_rank_points": 10,
         "last_rank_points": 8,
         "variance_rank_points": 2.41,
         "mean_tourney_spectators": 5288.181818181818,
         "max_tourney_spectators": 10492,
         "mean_tourney_revenue": 1143687.4863636363,
         "max_tourney_revenue": 2384802.94,
         "_deepnote_index_column": 3
        },
        {
         "Unnamed: 0": 4,
         "name": "aastha dargude",
         "gender": "f",
         "total_tourneys_played": 2,
         "total_matches_played": 3,
         "total_matches_won": 1,
         "mean_won_ratio": 0.25,
         "max_won_ratio": 0.5,
         "min_won_ratio": 0,
         "ht": "nan",
         "age": 17.5715263518,
         "hand": "r",
         "mean_rank_points": "nan",
         "max_rank_points": "nan",
         "last_rank_points": "nan",
         "variance_rank_points": "nan",
         "mean_tourney_spectators": 3877.3333333333335,
         "max_tourney_spectators": 4444,
         "mean_tourney_revenue": 745465.37,
         "max_tourney_revenue": 759730.64,
         "_deepnote_index_column": 4
        },
        {
         "Unnamed: 0": 5,
         "name": "aayushi tanwar",
         "gender": "f",
         "total_tourneys_played": 5,
         "total_matches_played": 6,
         "total_matches_won": 1,
         "mean_won_ratio": 0.1,
         "max_won_ratio": 0.5,
         "min_won_ratio": 0,
         "ht": "nan",
         "age": 18.8720054757,
         "hand": "u",
         "mean_rank_points": "nan",
         "max_rank_points": "nan",
         "last_rank_points": "nan",
         "variance_rank_points": "nan",
         "mean_tourney_spectators": 3304.5,
         "max_tourney_spectators": 3662,
         "mean_tourney_revenue": 637305.205,
         "max_tourney_revenue": 797966.88,
         "_deepnote_index_column": 5
        },
        {
         "Unnamed: 0": 6,
         "name": "abbie myers",
         "gender": "f",
         "total_tourneys_played": 81,
         "total_matches_played": 157,
         "total_matches_won": 75,
         "mean_won_ratio": 0.2865079365079366,
         "max_won_ratio": 0.8571428571428571,
         "min_won_ratio": 0,
         "ht": "nan",
         "age": 21.5414099932,
         "hand": "r",
         "mean_rank_points": 98.828025477707,
         "max_rank_points": 209,
         "last_rank_points": 175,
         "variance_rank_points": 4132.180615846484,
         "mean_tourney_spectators": 3378.8407643312103,
         "max_tourney_spectators": 15583,
         "mean_tourney_revenue": 667262.9589171974,
         "max_tourney_revenue": 2876086.35,
         "_deepnote_index_column": 6
        },
        {
         "Unnamed: 0": 7,
         "name": "abhinav sanjeev shanmugam",
         "gender": "m",
         "total_tourneys_played": 8,
         "total_matches_played": 16,
         "total_matches_won": 8,
         "mean_won_ratio": 0.3083333333333333,
         "max_won_ratio": 0.8,
         "min_won_ratio": 0,
         "ht": "nan",
         "age": 17.9411362081,
         "hand": "u",
         "mean_rank_points": 6.0625,
         "max_rank_points": 21,
         "last_rank_points": 7,
         "variance_rank_points": 33.43359375,
         "mean_tourney_spectators": 3806.5625,
         "max_tourney_spectators": 6943,
         "mean_tourney_revenue": 764813.9768749999,
         "max_tourney_revenue": 1460820.61,
         "_deepnote_index_column": 7
        },
        {
         "Unnamed: 0": 8,
         "name": "abigail amos",
         "gender": "f",
         "total_tourneys_played": 2,
         "total_matches_played": 3,
         "total_matches_won": 1,
         "mean_won_ratio": 0.25,
         "max_won_ratio": 0.5,
         "min_won_ratio": 0,
         "ht": "nan",
         "age": "nan",
         "hand": "u",
         "mean_rank_points": "nan",
         "max_rank_points": "nan",
         "last_rank_points": "nan",
         "variance_rank_points": "nan",
         "mean_tourney_spectators": 2436.333333333333,
         "max_tourney_spectators": 2766,
         "mean_tourney_revenue": 527008.55,
         "max_tourney_revenue": 599167.03,
         "_deepnote_index_column": 8
        },
        {
         "Unnamed: 0": 9,
         "name": "abigail desiatnikov",
         "gender": "f",
         "total_tourneys_played": 5,
         "total_matches_played": 12,
         "total_matches_won": 7,
         "mean_won_ratio": 0.4833333333333333,
         "max_won_ratio": 0.75,
         "min_won_ratio": 0,
         "ht": "nan",
         "age": 15.3511293634,
         "hand": "r",
         "mean_rank_points": "nan",
         "max_rank_points": "nan",
         "last_rank_points": "nan",
         "variance_rank_points": "nan",
         "mean_tourney_spectators": 2870.583333333333,
         "max_tourney_spectators": 3102,
         "mean_tourney_revenue": 595628.0308333334,
         "max_tourney_revenue": 671269.54,
         "_deepnote_index_column": 9
        },
        {
         "Unnamed: 0": 10,
         "name": "abigail forbes",
         "gender": "f",
         "total_tourneys_played": 4,
         "total_matches_played": 5,
         "total_matches_won": 1,
         "mean_won_ratio": 0.125,
         "max_won_ratio": 0.5,
         "min_won_ratio": 0,
         "ht": "nan",
         "age": 15.5482546201,
         "hand": "u",
         "mean_rank_points": "nan",
         "max_rank_points": "nan",
         "last_rank_points": "nan",
         "variance_rank_points": "nan",
         "mean_tourney_spectators": 2943.4,
         "max_tourney_spectators": 3465,
         "mean_tourney_revenue": 577245.5119999999,
         "max_tourney_revenue": 653747.05,
         "_deepnote_index_column": 10
        },
        {
         "Unnamed: 0": 11,
         "name": "abigail rencheli",
         "gender": "f",
         "total_tourneys_played": 3,
         "total_matches_played": 6,
         "total_matches_won": 3,
         "mean_won_ratio": 0.3888888888888888,
         "max_won_ratio": 0.6666666666666666,
         "min_won_ratio": 0,
         "ht": "nan",
         "age": 17.0458590007,
         "hand": "r",
         "mean_rank_points": "nan",
         "max_rank_points": "nan",
         "last_rank_points": "nan",
         "variance_rank_points": "nan",
         "mean_tourney_spectators": 4060,
         "max_tourney_spectators": 4658,
         "mean_tourney_revenue": 896420.5916666667,
         "max_tourney_revenue": 1088989.38,
         "_deepnote_index_column": 11
        },
        {
         "Unnamed: 0": 12,
         "name": "abigail tere apisah",
         "gender": "f",
         "total_tourneys_played": 61,
         "total_matches_played": 126,
         "total_matches_won": 74,
         "mean_won_ratio": 0.4428961748633881,
         "max_won_ratio": 1,
         "min_won_ratio": 0,
         "ht": "nan",
         "age": 23.7453798768,
         "hand": "u",
         "mean_rank_points": 103.4920634920635,
         "max_rank_points": 181,
         "last_rank_points": 96,
         "variance_rank_points": 1623.9007306626356,
         "mean_tourney_spectators": 2857.515873015873,
         "max_tourney_spectators": 4448,
         "mean_tourney_revenue": 546377.0908730164,
         "max_tourney_revenue": 1012331.8,
         "_deepnote_index_column": 12
        },
        {
         "Unnamed: 0": 13,
         "name": "abir el fahimi",
         "gender": "f",
         "total_tourneys_played": 11,
         "total_matches_played": 14,
         "total_matches_won": 3,
         "mean_won_ratio": 0.1363636363636363,
         "max_won_ratio": 0.5,
         "min_won_ratio": 0,
         "ht": "nan",
         "age": 20.5612594114,
         "hand": "u",
         "mean_rank_points": "nan",
         "max_rank_points": "nan",
         "last_rank_points": "nan",
         "variance_rank_points": "nan",
         "mean_tourney_spectators": 3188.428571428572,
         "max_tourney_spectators": 4090,
         "mean_tourney_revenue": 615201.2464285715,
         "max_tourney_revenue": 750728.15,
         "_deepnote_index_column": 13
        },
        {
         "Unnamed: 0": 14,
         "name": "abror isakov",
         "gender": "m",
         "total_tourneys_played": 3,
         "total_matches_played": 4,
         "total_matches_won": 1,
         "mean_won_ratio": 0.1666666666666666,
         "max_won_ratio": 0.5,
         "min_won_ratio": 0,
         "ht": "nan",
         "age": 27.1759069131,
         "hand": "u",
         "mean_rank_points": "nan",
         "max_rank_points": "nan",
         "last_rank_points": "nan",
         "variance_rank_points": "nan",
         "mean_tourney_spectators": 3759,
         "max_tourney_spectators": 4264,
         "mean_tourney_revenue": 737477.5049999999,
         "max_tourney_revenue": 867747.48,
         "_deepnote_index_column": 14
        },
        {
         "Unnamed: 0": 15,
         "name": "adam el mihdawy",
         "gender": "m",
         "total_tourneys_played": 17,
         "total_matches_played": 23,
         "total_matches_won": 6,
         "mean_won_ratio": 0.1764705882352941,
         "max_won_ratio": 0.5,
         "min_won_ratio": 0,
         "ht": "nan",
         "age": 26.5763175907,
         "hand": "u",
         "mean_rank_points": 116.3181818181818,
         "max_rank_points": 160,
         "last_rank_points": 31,
         "variance_rank_points": 1216.944214876033,
         "mean_tourney_spectators": 3072.043478260869,
         "max_tourney_spectators": 4284,
         "mean_tourney_revenue": 589305.8639130435,
         "max_tourney_revenue": 888975.7,
         "_deepnote_index_column": 15
        },
        {
         "Unnamed: 0": 16,
         "name": "adam moundir",
         "gender": "m",
         "total_tourneys_played": 4,
         "total_matches_played": 4,
         "total_matches_won": 1,
         "mean_won_ratio": 0.25,
         "max_won_ratio": 1,
         "min_won_ratio": 0,
         "ht": "nan",
         "age": 23.9315537303,
         "hand": "r",
         "mean_rank_points": 69,
         "max_rank_points": 69,
         "last_rank_points": 69,
         "variance_rank_points": 0,
         "mean_tourney_spectators": 1334,
         "max_tourney_spectators": 2657,
         "mean_tourney_revenue": 249837.8775,
         "max_tourney_revenue": 496815.47,
         "_deepnote_index_column": 16
        },
        {
         "Unnamed: 0": 17,
         "name": "adam pavlasek",
         "gender": "m",
         "total_tourneys_played": 95,
         "total_matches_played": 201,
         "total_matches_won": 109,
         "mean_won_ratio": 0.361578947368421,
         "max_won_ratio": 1,
         "min_won_ratio": 0,
         "ht": "nan",
         "age": 21.2402464066,
         "hand": "r",
         "mean_rank_points": 386.32338308457713,
         "max_rank_points": 684,
         "last_rank_points": 88,
         "variance_rank_points": 24954.298408455237,
         "mean_tourney_spectators": 5168.691542288557,
         "max_tourney_spectators": 15979,
         "mean_tourney_revenue": 997375.6394527374,
         "max_tourney_revenue": 3761778.69,
         "_deepnote_index_column": 17
        },
        {
         "Unnamed: 0": 18,
         "name": "adel ismagulova",
         "gender": "f",
         "total_tourneys_played": 5,
         "total_matches_played": 8,
         "total_matches_won": 3,
         "mean_won_ratio": 0.15,
         "max_won_ratio": 0.75,
         "min_won_ratio": 0,
         "ht": "nan",
         "age": "nan",
         "hand": "u",
         "mean_rank_points": "nan",
         "max_rank_points": "nan",
         "last_rank_points": "nan",
         "variance_rank_points": "nan",
         "mean_tourney_spectators": 2770.125,
         "max_tourney_spectators": 3396,
         "mean_tourney_revenue": 651078.37625,
         "max_tourney_revenue": 794511.97,
         "_deepnote_index_column": 18
        },
        {
         "Unnamed: 0": 19,
         "name": "adel ismagylova",
         "gender": "f",
         "total_tourneys_played": 8,
         "total_matches_played": 11,
         "total_matches_won": 3,
         "mean_won_ratio": 0.1458333333333333,
         "max_won_ratio": 0.6666666666666666,
         "min_won_ratio": 0,
         "ht": "nan",
         "age": "nan",
         "hand": "u",
         "mean_rank_points": "nan",
         "max_rank_points": "nan",
         "last_rank_points": "nan",
         "variance_rank_points": "nan",
         "mean_tourney_spectators": 3071.6363636363635,
         "max_tourney_spectators": 3830,
         "mean_tourney_revenue": 634957.4990909089,
         "max_tourney_revenue": 1021776.26,
         "_deepnote_index_column": 19
        },
        {
         "Unnamed: 0": 20,
         "name": "adel malgonusova",
         "gender": "f",
         "total_tourneys_played": 1,
         "total_matches_played": 2,
         "total_matches_won": 1,
         "mean_won_ratio": 0.5,
         "max_won_ratio": 0.5,
         "min_won_ratio": 0.5,
         "ht": "nan",
         "age": "nan",
         "hand": "u",
         "mean_rank_points": "nan",
         "max_rank_points": "nan",
         "last_rank_points": "nan",
         "variance_rank_points": "nan",
         "mean_tourney_spectators": 3235,
         "max_tourney_spectators": 3235,
         "mean_tourney_revenue": 679992.04,
         "max_tourney_revenue": 679992.04,
         "_deepnote_index_column": 20
        },
        {
         "Unnamed: 0": 21,
         "name": "adela jarosova",
         "gender": "f",
         "total_tourneys_played": 5,
         "total_matches_played": 8,
         "total_matches_won": 3,
         "mean_won_ratio": 0.3,
         "max_won_ratio": 0.5,
         "min_won_ratio": 0,
         "ht": "nan",
         "age": 23.6632443532,
         "hand": "r",
         "mean_rank_points": "nan",
         "max_rank_points": "nan",
         "last_rank_points": "nan",
         "variance_rank_points": "nan",
         "mean_tourney_spectators": 3131.875,
         "max_tourney_spectators": 3357,
         "mean_tourney_revenue": 618819.4125000001,
         "max_tourney_revenue": 781635,
         "_deepnote_index_column": 21
        },
        {
         "Unnamed: 0": 22,
         "name": "adela moravcova",
         "gender": "f",
         "total_tourneys_played": 6,
         "total_matches_played": 12,
         "total_matches_won": 6,
         "mean_won_ratio": 0.3888888888888888,
         "max_won_ratio": 0.6666666666666666,
         "min_won_ratio": 0,
         "ht": "nan",
         "age": "nan",
         "hand": "u",
         "mean_rank_points": "nan",
         "max_rank_points": "nan",
         "last_rank_points": "nan",
         "variance_rank_points": "nan",
         "mean_tourney_spectators": 3004.583333333333,
         "max_tourney_spectators": 3475,
         "mean_tourney_revenue": 600387.9900000001,
         "max_tourney_revenue": 745998.05,
         "_deepnote_index_column": 22
        },
        {
         "Unnamed: 0": 23,
         "name": "adelchi virgili",
         "gender": "m",
         "total_tourneys_played": 16,
         "total_matches_played": 29,
         "total_matches_won": 13,
         "mean_won_ratio": 0.2916666666666666,
         "max_won_ratio": 0.75,
         "min_won_ratio": 0,
         "ht": "nan",
         "age": 26.1081451061,
         "hand": "u",
         "mean_rank_points": 62.75,
         "max_rank_points": 103,
         "last_rank_points": 7,
         "variance_rank_points": 637.1160714285714,
         "mean_tourney_spectators": 3348.2413793103447,
         "max_tourney_spectators": 5826,
         "mean_tourney_revenue": 686896.4206896551,
         "max_tourney_revenue": 1296158.39,
         "_deepnote_index_column": 23
        },
        {
         "Unnamed: 0": 24,
         "name": "adele burato",
         "gender": "f",
         "total_tourneys_played": 13,
         "total_matches_played": 26,
         "total_matches_won": 13,
         "mean_won_ratio": 0.3653846153846153,
         "max_won_ratio": 0.75,
         "min_won_ratio": 0,
         "ht": "nan",
         "age": "nan",
         "hand": "u",
         "mean_rank_points": "nan",
         "max_rank_points": "nan",
         "last_rank_points": "nan",
         "variance_rank_points": "nan",
         "mean_tourney_spectators": 2965,
         "max_tourney_spectators": 3475,
         "mean_tourney_revenue": 596792.2465384614,
         "max_tourney_revenue": 742161.22,
         "_deepnote_index_column": 24
        }
       ],
       "rows_bottom": [
        {
         "Unnamed: 0": 6154,
         "name": "ziva falkner",
         "gender": "f",
         "total_tourneys_played": 27,
         "total_matches_played": 70,
         "total_matches_won": 45,
         "mean_won_ratio": 0.5024691358024691,
         "max_won_ratio": 1,
         "min_won_ratio": 0,
         "ht": "nan",
         "age": 15.9288158795,
         "hand": "u",
         "mean_rank_points": 32.666666666666664,
         "max_rank_points": 74,
         "last_rank_points": 74,
         "variance_rank_points": 445.4222222222222,
         "mean_tourney_spectators": 3246.2714285714287,
         "max_tourney_spectators": 6203,
         "mean_tourney_revenue": 655601.4475714286,
         "max_tourney_revenue": 1436125.64,
         "_deepnote_index_column": 6154
        },
        {
         "Unnamed: 0": 6155,
         "name": "ziyi yang",
         "gender": "f",
         "total_tourneys_played": 26,
         "total_matches_played": 48,
         "total_matches_won": 22,
         "mean_won_ratio": 0.3128205128205128,
         "max_won_ratio": 0.8,
         "min_won_ratio": 0,
         "ht": "nan",
         "age": 17.6700889802,
         "hand": "u",
         "mean_rank_points": 7.878048780487805,
         "max_rank_points": 19,
         "last_rank_points": 12,
         "variance_rank_points": 29.57049375371801,
         "mean_tourney_spectators": 3294.7291666666665,
         "max_tourney_spectators": 4285,
         "mean_tourney_revenue": 643908.7520833333,
         "max_tourney_revenue": 936136.2,
         "_deepnote_index_column": 6155
        },
        {
         "Unnamed: 0": 6156,
         "name": "ziyu zhang",
         "gender": "m",
         "total_tourneys_played": 3,
         "total_matches_played": 4,
         "total_matches_won": 1,
         "mean_won_ratio": 0.1666666666666666,
         "max_won_ratio": 0.5,
         "min_won_ratio": 0,
         "ht": "nan",
         "age": "nan",
         "hand": "u",
         "mean_rank_points": "nan",
         "max_rank_points": "nan",
         "last_rank_points": "nan",
         "variance_rank_points": "nan",
         "mean_tourney_spectators": 3408,
         "max_tourney_spectators": 3501,
         "mean_tourney_revenue": 660391.79,
         "max_tourney_revenue": 740224.83,
         "_deepnote_index_column": 6156
        },
        {
         "Unnamed: 0": 6157,
         "name": "ziyue sun",
         "gender": "f",
         "total_tourneys_played": 49,
         "total_matches_played": 104,
         "total_matches_won": 55,
         "mean_won_ratio": 0.3496598639455782,
         "max_won_ratio": 0.8333333333333334,
         "min_won_ratio": 0,
         "ht": "nan",
         "age": 20.052019165,
         "hand": "u",
         "mean_rank_points": 47.52475247524752,
         "max_rank_points": 132,
         "last_rank_points": 132,
         "variance_rank_points": 1497.7345358298203,
         "mean_tourney_spectators": 3347.25,
         "max_tourney_spectators": 4595,
         "mean_tourney_revenue": 668417.6865384615,
         "max_tourney_revenue": 981765.08,
         "_deepnote_index_column": 6157
        },
        {
         "Unnamed: 0": 6158,
         "name": "zizou bergs",
         "gender": "m",
         "total_tourneys_played": 30,
         "total_matches_played": 78,
         "total_matches_won": 49,
         "mean_won_ratio": 0.441111111111111,
         "max_won_ratio": 1,
         "min_won_ratio": 0,
         "ht": "nan",
         "age": 17.3360711841,
         "hand": "r",
         "mean_rank_points": 154.01333333333332,
         "max_rank_points": 361,
         "last_rank_points": 361,
         "variance_rank_points": 8264.093155555554,
         "mean_tourney_spectators": 3236.3205128205127,
         "max_tourney_spectators": 4248,
         "mean_tourney_revenue": 643760.6593589743,
         "max_tourney_revenue": 910152.87,
         "_deepnote_index_column": 6158
        },
        {
         "Unnamed: 0": 6159,
         "name": "zlata yankovskaya",
         "gender": "f",
         "total_tourneys_played": 4,
         "total_matches_played": 9,
         "total_matches_won": 5,
         "mean_won_ratio": 0.4583333333333332,
         "max_won_ratio": 0.6666666666666666,
         "min_won_ratio": 0,
         "ht": "nan",
         "age": "nan",
         "hand": "u",
         "mean_rank_points": "nan",
         "max_rank_points": "nan",
         "last_rank_points": "nan",
         "variance_rank_points": "nan",
         "mean_tourney_spectators": 3253.1111111111118,
         "max_tourney_spectators": 3495,
         "mean_tourney_revenue": 665846.2822222221,
         "max_tourney_revenue": 846752.36,
         "_deepnote_index_column": 6159
        },
        {
         "Unnamed: 0": 6160,
         "name": "zoe billon",
         "gender": "f",
         "total_tourneys_played": 6,
         "total_matches_played": 11,
         "total_matches_won": 5,
         "mean_won_ratio": 0.2916666666666667,
         "max_won_ratio": 0.75,
         "min_won_ratio": 0,
         "ht": "nan",
         "age": 16.7392197125,
         "hand": "u",
         "mean_rank_points": "nan",
         "max_rank_points": "nan",
         "last_rank_points": "nan",
         "variance_rank_points": "nan",
         "mean_tourney_spectators": 3211.6363636363635,
         "max_tourney_spectators": 3913,
         "mean_tourney_revenue": 592899.639090909,
         "max_tourney_revenue": 763369.13,
         "_deepnote_index_column": 6160
        },
        {
         "Unnamed: 0": 6161,
         "name": "zoe bourbotte",
         "gender": "f",
         "total_tourneys_played": 22,
         "total_matches_played": 29,
         "total_matches_won": 7,
         "mean_won_ratio": 0.1590909090909091,
         "max_won_ratio": 0.5,
         "min_won_ratio": 0,
         "ht": "nan",
         "age": 14.9185489391,
         "hand": "u",
         "mean_rank_points": "nan",
         "max_rank_points": "nan",
         "last_rank_points": "nan",
         "variance_rank_points": "nan",
         "mean_tourney_spectators": 3009.2413793103447,
         "max_tourney_spectators": 4072,
         "mean_tourney_revenue": 591063.2386206896,
         "max_tourney_revenue": 889706.85,
         "_deepnote_index_column": 6161
        },
        {
         "Unnamed: 0": 6162,
         "name": "zoe gwen scandalis",
         "gender": "f",
         "total_tourneys_played": 28,
         "total_matches_played": 55,
         "total_matches_won": 27,
         "mean_won_ratio": 0.3273809523809524,
         "max_won_ratio": 0.75,
         "min_won_ratio": 0,
         "ht": "nan",
         "age": 22.3052703628,
         "hand": "r",
         "mean_rank_points": 10.73076923076923,
         "max_rank_points": 14,
         "last_rank_points": 14,
         "variance_rank_points": 3.658284023668639,
         "mean_tourney_spectators": 3003.1454545454544,
         "max_tourney_spectators": 4803,
         "mean_tourney_revenue": 623365.8270909092,
         "max_tourney_revenue": 1056868.04,
         "_deepnote_index_column": 6162
        },
        {
         "Unnamed: 0": 6163,
         "name": "zoe hitt",
         "gender": "f",
         "total_tourneys_played": 26,
         "total_matches_played": 43,
         "total_matches_won": 17,
         "mean_won_ratio": 0.2435897435897435,
         "max_won_ratio": 0.75,
         "min_won_ratio": 0,
         "ht": "nan",
         "age": 16.8377823409,
         "hand": "r",
         "mean_rank_points": "nan",
         "max_rank_points": "nan",
         "last_rank_points": "nan",
         "variance_rank_points": "nan",
         "mean_tourney_spectators": 3215.906976744186,
         "max_tourney_spectators": 4260,
         "mean_tourney_revenue": 640015.4827906975,
         "max_tourney_revenue": 886499.24,
         "_deepnote_index_column": 6163
        },
        {
         "Unnamed: 0": 6164,
         "name": "zoe hives",
         "gender": "f",
         "total_tourneys_played": 53,
         "total_matches_played": 118,
         "total_matches_won": 68,
         "mean_won_ratio": 0.39874213836478,
         "max_won_ratio": 1,
         "min_won_ratio": 0,
         "ht": "nan",
         "age": 19.2142368241,
         "hand": "u",
         "mean_rank_points": 198.1071428571429,
         "max_rank_points": 425,
         "last_rank_points": 425,
         "variance_rank_points": 12371.970663265309,
         "mean_tourney_spectators": 3754.957627118644,
         "max_tourney_spectators": 17634,
         "mean_tourney_revenue": 723734.5838135588,
         "max_tourney_revenue": 4672240.98,
         "_deepnote_index_column": 6164
        },
        {
         "Unnamed: 0": 6165,
         "name": "zoe howard",
         "gender": "f",
         "total_tourneys_played": 24,
         "total_matches_played": 61,
         "total_matches_won": 35,
         "mean_won_ratio": 0.4604166666666666,
         "max_won_ratio": 0.8,
         "min_won_ratio": 0,
         "ht": "nan",
         "age": 17.87816564,
         "hand": "r",
         "mean_rank_points": 7.191489361702128,
         "max_rank_points": 18,
         "last_rank_points": 18,
         "variance_rank_points": 18.02716161158895,
         "mean_tourney_spectators": 3000.754098360656,
         "max_tourney_spectators": 3692,
         "mean_tourney_revenue": 598991.5765573772,
         "max_tourney_revenue": 846752.36,
         "_deepnote_index_column": 6165
        },
        {
         "Unnamed: 0": 6166,
         "name": "zoe kruger",
         "gender": "f",
         "total_tourneys_played": 42,
         "total_matches_played": 76,
         "total_matches_won": 34,
         "mean_won_ratio": 0.3166666666666666,
         "max_won_ratio": 0.8,
         "min_won_ratio": 0,
         "ht": "nan",
         "age": 14.2532511978,
         "hand": "u",
         "mean_rank_points": 27.897058823529413,
         "max_rank_points": 41,
         "last_rank_points": 36,
         "variance_rank_points": 110.29822664359862,
         "mean_tourney_spectators": 3294.368421052632,
         "max_tourney_spectators": 9552,
         "mean_tourney_revenue": 639165.0784210525,
         "max_tourney_revenue": 2484975.25,
         "_deepnote_index_column": 6166
        },
        {
         "Unnamed: 0": 6167,
         "name": "zoe richard",
         "gender": "f",
         "total_tourneys_played": 14,
         "total_matches_played": 23,
         "total_matches_won": 9,
         "mean_won_ratio": 0.2678571428571428,
         "max_won_ratio": 0.75,
         "min_won_ratio": 0,
         "ht": "nan",
         "age": 19.3483915127,
         "hand": "u",
         "mean_rank_points": "nan",
         "max_rank_points": "nan",
         "last_rank_points": "nan",
         "variance_rank_points": "nan",
         "mean_tourney_spectators": 3177.5652173913045,
         "max_tourney_spectators": 4523,
         "mean_tourney_revenue": 592076.2686956521,
         "max_tourney_revenue": 773067.58,
         "_deepnote_index_column": 6167
        },
        {
         "Unnamed: 0": 6168,
         "name": "zofia podbiol",
         "gender": "f",
         "total_tourneys_played": 6,
         "total_matches_played": 11,
         "total_matches_won": 5,
         "mean_won_ratio": 0.3611111111111111,
         "max_won_ratio": 0.6666666666666666,
         "min_won_ratio": 0,
         "ht": "nan",
         "age": "nan",
         "hand": "u",
         "mean_rank_points": "nan",
         "max_rank_points": "nan",
         "last_rank_points": "nan",
         "variance_rank_points": "nan",
         "mean_tourney_spectators": 3288.5454545454545,
         "max_tourney_spectators": 4082,
         "mean_tourney_revenue": 629672.3981818182,
         "max_tourney_revenue": 770582.38,
         "_deepnote_index_column": 6168
        },
        {
         "Unnamed: 0": 6169,
         "name": "zoi meers",
         "gender": "f",
         "total_tourneys_played": 24,
         "total_matches_played": 26,
         "total_matches_won": 1,
         "mean_won_ratio": 0.0138888888888888,
         "max_won_ratio": 0.3333333333333333,
         "min_won_ratio": 0,
         "ht": "nan",
         "age": 15.8685831622,
         "hand": "u",
         "mean_rank_points": 3,
         "max_rank_points": 3,
         "last_rank_points": 3,
         "variance_rank_points": 0,
         "mean_tourney_spectators": 3457.192307692308,
         "max_tourney_spectators": 4629,
         "mean_tourney_revenue": 697359.5726923074,
         "max_tourney_revenue": 1073007.12,
         "_deepnote_index_column": 6169
        },
        {
         "Unnamed: 0": 6170,
         "name": "zora hudson",
         "gender": "f",
         "total_tourneys_played": 21,
         "total_matches_played": 27,
         "total_matches_won": 6,
         "mean_won_ratio": 0.1428571428571428,
         "max_won_ratio": 0.5,
         "min_won_ratio": 0,
         "ht": "nan",
         "age": "nan",
         "hand": "u",
         "mean_rank_points": "nan",
         "max_rank_points": "nan",
         "last_rank_points": "nan",
         "variance_rank_points": "nan",
         "mean_tourney_spectators": 3087.037037037037,
         "max_tourney_spectators": 4671,
         "mean_tourney_revenue": 600050.1437037038,
         "max_tourney_revenue": 926529.94,
         "_deepnote_index_column": 6170
        },
        {
         "Unnamed: 0": 6171,
         "name": "zorica spasojevic",
         "gender": "f",
         "total_tourneys_played": 5,
         "total_matches_played": 7,
         "total_matches_won": 2,
         "mean_won_ratio": 0.1333333333333333,
         "max_won_ratio": 0.6666666666666666,
         "min_won_ratio": 0,
         "ht": "nan",
         "age": 16.5475701574,
         "hand": "u",
         "mean_rank_points": "nan",
         "max_rank_points": "nan",
         "last_rank_points": "nan",
         "variance_rank_points": "nan",
         "mean_tourney_spectators": 2726.428571428572,
         "max_tourney_spectators": 3922,
         "mean_tourney_revenue": 496135.6814285715,
         "max_tourney_revenue": 749884.44,
         "_deepnote_index_column": 6171
        },
        {
         "Unnamed: 0": 6172,
         "name": "zoziya kardava",
         "gender": "f",
         "total_tourneys_played": 45,
         "total_matches_played": 78,
         "total_matches_won": 32,
         "mean_won_ratio": 0.2429629629629629,
         "max_won_ratio": 1,
         "min_won_ratio": 0,
         "ht": "nan",
         "age": 15.1238877481,
         "hand": "u",
         "mean_rank_points": 9.648148148148149,
         "max_rank_points": 17,
         "last_rank_points": 17,
         "variance_rank_points": 5.89471879286694,
         "mean_tourney_spectators": 3184.8846153846152,
         "max_tourney_spectators": 6203,
         "mean_tourney_revenue": 645838.4228205128,
         "max_tourney_revenue": 1436125.64,
         "_deepnote_index_column": 6172
        },
        {
         "Unnamed: 0": 6173,
         "name": "zsombor piros",
         "gender": "m",
         "total_tourneys_played": 40,
         "total_matches_played": 86,
         "total_matches_won": 47,
         "mean_won_ratio": 0.38375,
         "max_won_ratio": 1,
         "min_won_ratio": 0,
         "ht": "nan",
         "age": 17.3196440794,
         "hand": "r",
         "mean_rank_points": 74.17441860465117,
         "max_rank_points": 108,
         "last_rank_points": 106,
         "variance_rank_points": 618.4928339643049,
         "mean_tourney_spectators": 4336.686046511628,
         "max_tourney_spectators": 8375,
         "mean_tourney_revenue": 814053.7394186045,
         "max_tourney_revenue": 1804103.26,
         "_deepnote_index_column": 6173
        },
        {
         "Unnamed: 0": 6174,
         "name": "zulay castaneda",
         "gender": "f",
         "total_tourneys_played": 3,
         "total_matches_played": 3,
         "total_matches_won": 1,
         "mean_won_ratio": 0.3333333333333333,
         "max_won_ratio": 1,
         "min_won_ratio": 0,
         "ht": "nan",
         "age": 18.9979466119,
         "hand": "u",
         "mean_rank_points": "nan",
         "max_rank_points": "nan",
         "last_rank_points": "nan",
         "variance_rank_points": "nan",
         "mean_tourney_spectators": 168.33333333333334,
         "max_tourney_spectators": 200,
         "mean_tourney_revenue": 34081.416666666664,
         "max_tourney_revenue": 41650.31,
         "_deepnote_index_column": 6174
        },
        {
         "Unnamed: 0": 6175,
         "name": "zuzana luknarova",
         "gender": "f",
         "total_tourneys_played": 1,
         "total_matches_played": 2,
         "total_matches_won": 1,
         "mean_won_ratio": 0.5,
         "max_won_ratio": 0.5,
         "min_won_ratio": 0.5,
         "ht": "nan",
         "age": 24.6078028747,
         "hand": "r",
         "mean_rank_points": 17,
         "max_rank_points": 17,
         "last_rank_points": 17,
         "variance_rank_points": 0,
         "mean_tourney_spectators": 4735,
         "max_tourney_spectators": 4735,
         "mean_tourney_revenue": 863337.81,
         "max_tourney_revenue": 863337.81,
         "_deepnote_index_column": 6175
        },
        {
         "Unnamed: 0": 6176,
         "name": "zuzana pavelekova",
         "gender": "f",
         "total_tourneys_played": 2,
         "total_matches_played": 4,
         "total_matches_won": 2,
         "mean_won_ratio": 0.3333333333333333,
         "max_won_ratio": 0.6666666666666666,
         "min_won_ratio": 0,
         "ht": "nan",
         "age": "nan",
         "hand": "u",
         "mean_rank_points": "nan",
         "max_rank_points": "nan",
         "last_rank_points": "nan",
         "variance_rank_points": "nan",
         "mean_tourney_spectators": 4240,
         "max_tourney_spectators": 4503,
         "mean_tourney_revenue": 717073.4725000001,
         "max_tourney_revenue": 764152.53,
         "_deepnote_index_column": 6176
        },
        {
         "Unnamed: 0": 6177,
         "name": "zuzana zalabska",
         "gender": "f",
         "total_tourneys_played": 1,
         "total_matches_played": 3,
         "total_matches_won": 2,
         "mean_won_ratio": 0.6666666666666666,
         "max_won_ratio": 0.6666666666666666,
         "min_won_ratio": 0.6666666666666666,
         "ht": "nan",
         "age": 30.6475017112,
         "hand": "r",
         "mean_rank_points": 14,
         "max_rank_points": 14,
         "last_rank_points": 14,
         "variance_rank_points": 0,
         "mean_tourney_spectators": 1303,
         "max_tourney_spectators": 1303,
         "mean_tourney_revenue": 239390.33,
         "max_tourney_revenue": 239390.33,
         "_deepnote_index_column": 6177
        },
        {
         "Unnamed: 0": 6178,
         "name": "zuzana zlochova",
         "gender": "f",
         "total_tourneys_played": 88,
         "total_matches_played": 179,
         "total_matches_won": 93,
         "mean_won_ratio": 0.3375811688311689,
         "max_won_ratio": 1,
         "min_won_ratio": 0,
         "ht": "nan",
         "age": 26.0205338809,
         "hand": "r",
         "mean_rank_points": 87.78212290502793,
         "max_rank_points": 166,
         "last_rank_points": 142,
         "variance_rank_points": 1924.036328454168,
         "mean_tourney_spectators": 3236.458100558659,
         "max_tourney_spectators": 10338,
         "mean_tourney_revenue": 650492.7692737429,
         "max_tourney_revenue": 2291040,
         "_deepnote_index_column": 6178
        }
       ]
      },
      "text/plain": "      Unnamed: 0               name gender  total_tourneys_played  \\\n0              0     aaliya ebrahim      f                      7   \n1              1    aaliyah hohmann      f                      2   \n2              2      aanu ayegbusi      f                      3   \n3              3      aaron addison      m                      9   \n4              4     aastha dargude      f                      2   \n...          ...                ...    ...                    ...   \n6174        6174    zulay castaneda      f                      3   \n6175        6175   zuzana luknarova      f                      1   \n6176        6176  zuzana pavelekova      f                      2   \n6177        6177    zuzana zalabska      f                      1   \n6178        6178    zuzana zlochova      f                     88   \n\n      total_matches_played  total_matches_won  mean_won_ratio  max_won_ratio  \\\n0                        9                  2        0.142857       0.500000   \n1                        3                  1        0.250000       0.500000   \n2                        6                  3        0.388889       0.666667   \n3                       11                  2        0.074074       0.666667   \n4                        3                  1        0.250000       0.500000   \n...                    ...                ...             ...            ...   \n6174                     3                  1        0.333333       1.000000   \n6175                     2                  1        0.500000       0.500000   \n6176                     4                  2        0.333333       0.666667   \n6177                     3                  2        0.666667       0.666667   \n6178                   179                 93        0.337581       1.000000   \n\n      min_won_ratio  ht        age hand  mean_rank_points  max_rank_points  \\\n0          0.000000 NaN        NaN    r               NaN              NaN   \n1          0.000000 NaN        NaN    u               NaN              NaN   \n2          0.000000 NaN        NaN    u               NaN              NaN   \n3          0.000000 NaN  20.164271    r          7.700000             10.0   \n4          0.000000 NaN  17.571526    r               NaN              NaN   \n...             ...  ..        ...  ...               ...              ...   \n6174       0.000000 NaN  18.997947    u               NaN              NaN   \n6175       0.500000 NaN  24.607803    r         17.000000             17.0   \n6176       0.000000 NaN        NaN    u               NaN              NaN   \n6177       0.666667 NaN  30.647502    r         14.000000             14.0   \n6178       0.000000 NaN  26.020534    r         87.782123            166.0   \n\n      last_rank_points  variance_rank_points  mean_tourney_spectators  \\\n0                  NaN                   NaN              3632.666667   \n1                  NaN                   NaN              2792.666667   \n2                  NaN                   NaN              3186.000000   \n3                  8.0              2.410000              5288.181818   \n4                  NaN                   NaN              3877.333333   \n...                ...                   ...                      ...   \n6174               NaN                   NaN               168.333333   \n6175              17.0              0.000000              4735.000000   \n6176               NaN                   NaN              4240.000000   \n6177              14.0              0.000000              1303.000000   \n6178             142.0           1924.036328              3236.458101   \n\n      max_tourney_spectators  mean_tourney_revenue  max_tourney_revenue  \n0                     4070.0          7.379440e+05            885863.35  \n1                     2996.0          5.519173e+05            593484.95  \n2                     4290.0          6.453260e+05            862412.04  \n3                    10492.0          1.143687e+06           2384802.94  \n4                     4444.0          7.454654e+05            759730.64  \n...                      ...                   ...                  ...  \n6174                   200.0          3.408142e+04             41650.31  \n6175                  4735.0          8.633378e+05            863337.81  \n6176                  4503.0          7.170735e+05            764152.53  \n6177                  1303.0          2.393903e+05            239390.33  \n6178                 10338.0          6.504928e+05           2291040.00  \n\n[6179 rows x 20 columns]",
      "text/html": "<div>\n<style scoped>\n    .dataframe tbody tr th:only-of-type {\n        vertical-align: middle;\n    }\n\n    .dataframe tbody tr th {\n        vertical-align: top;\n    }\n\n    .dataframe thead th {\n        text-align: right;\n    }\n</style>\n<table border=\"1\" class=\"dataframe\">\n  <thead>\n    <tr style=\"text-align: right;\">\n      <th></th>\n      <th>Unnamed: 0</th>\n      <th>name</th>\n      <th>gender</th>\n      <th>total_tourneys_played</th>\n      <th>total_matches_played</th>\n      <th>total_matches_won</th>\n      <th>mean_won_ratio</th>\n      <th>max_won_ratio</th>\n      <th>min_won_ratio</th>\n      <th>ht</th>\n      <th>age</th>\n      <th>hand</th>\n      <th>mean_rank_points</th>\n      <th>max_rank_points</th>\n      <th>last_rank_points</th>\n      <th>variance_rank_points</th>\n      <th>mean_tourney_spectators</th>\n      <th>max_tourney_spectators</th>\n      <th>mean_tourney_revenue</th>\n      <th>max_tourney_revenue</th>\n    </tr>\n  </thead>\n  <tbody>\n    <tr>\n      <th>0</th>\n      <td>0</td>\n      <td>aaliya ebrahim</td>\n      <td>f</td>\n      <td>7</td>\n      <td>9</td>\n      <td>2</td>\n      <td>0.142857</td>\n      <td>0.500000</td>\n      <td>0.000000</td>\n      <td>NaN</td>\n      <td>NaN</td>\n      <td>r</td>\n      <td>NaN</td>\n      <td>NaN</td>\n      <td>NaN</td>\n      <td>NaN</td>\n      <td>3632.666667</td>\n      <td>4070.0</td>\n      <td>7.379440e+05</td>\n      <td>885863.35</td>\n    </tr>\n    <tr>\n      <th>1</th>\n      <td>1</td>\n      <td>aaliyah hohmann</td>\n      <td>f</td>\n      <td>2</td>\n      <td>3</td>\n      <td>1</td>\n      <td>0.250000</td>\n      <td>0.500000</td>\n      <td>0.000000</td>\n      <td>NaN</td>\n      <td>NaN</td>\n      <td>u</td>\n      <td>NaN</td>\n      <td>NaN</td>\n      <td>NaN</td>\n      <td>NaN</td>\n      <td>2792.666667</td>\n      <td>2996.0</td>\n      <td>5.519173e+05</td>\n      <td>593484.95</td>\n    </tr>\n    <tr>\n      <th>2</th>\n      <td>2</td>\n      <td>aanu ayegbusi</td>\n      <td>f</td>\n      <td>3</td>\n      <td>6</td>\n      <td>3</td>\n      <td>0.388889</td>\n      <td>0.666667</td>\n      <td>0.000000</td>\n      <td>NaN</td>\n      <td>NaN</td>\n      <td>u</td>\n      <td>NaN</td>\n      <td>NaN</td>\n      <td>NaN</td>\n      <td>NaN</td>\n      <td>3186.000000</td>\n      <td>4290.0</td>\n      <td>6.453260e+05</td>\n      <td>862412.04</td>\n    </tr>\n    <tr>\n      <th>3</th>\n      <td>3</td>\n      <td>aaron addison</td>\n      <td>m</td>\n      <td>9</td>\n      <td>11</td>\n      <td>2</td>\n      <td>0.074074</td>\n      <td>0.666667</td>\n      <td>0.000000</td>\n      <td>NaN</td>\n      <td>20.164271</td>\n      <td>r</td>\n      <td>7.700000</td>\n      <td>10.0</td>\n      <td>8.0</td>\n      <td>2.410000</td>\n      <td>5288.181818</td>\n      <td>10492.0</td>\n      <td>1.143687e+06</td>\n      <td>2384802.94</td>\n    </tr>\n    <tr>\n      <th>4</th>\n      <td>4</td>\n      <td>aastha dargude</td>\n      <td>f</td>\n      <td>2</td>\n      <td>3</td>\n      <td>1</td>\n      <td>0.250000</td>\n      <td>0.500000</td>\n      <td>0.000000</td>\n      <td>NaN</td>\n      <td>17.571526</td>\n      <td>r</td>\n      <td>NaN</td>\n      <td>NaN</td>\n      <td>NaN</td>\n      <td>NaN</td>\n      <td>3877.333333</td>\n      <td>4444.0</td>\n      <td>7.454654e+05</td>\n      <td>759730.64</td>\n    </tr>\n    <tr>\n      <th>...</th>\n      <td>...</td>\n      <td>...</td>\n      <td>...</td>\n      <td>...</td>\n      <td>...</td>\n      <td>...</td>\n      <td>...</td>\n      <td>...</td>\n      <td>...</td>\n      <td>...</td>\n      <td>...</td>\n      <td>...</td>\n      <td>...</td>\n      <td>...</td>\n      <td>...</td>\n      <td>...</td>\n      <td>...</td>\n      <td>...</td>\n      <td>...</td>\n      <td>...</td>\n    </tr>\n    <tr>\n      <th>6174</th>\n      <td>6174</td>\n      <td>zulay castaneda</td>\n      <td>f</td>\n      <td>3</td>\n      <td>3</td>\n      <td>1</td>\n      <td>0.333333</td>\n      <td>1.000000</td>\n      <td>0.000000</td>\n      <td>NaN</td>\n      <td>18.997947</td>\n      <td>u</td>\n      <td>NaN</td>\n      <td>NaN</td>\n      <td>NaN</td>\n      <td>NaN</td>\n      <td>168.333333</td>\n      <td>200.0</td>\n      <td>3.408142e+04</td>\n      <td>41650.31</td>\n    </tr>\n    <tr>\n      <th>6175</th>\n      <td>6175</td>\n      <td>zuzana luknarova</td>\n      <td>f</td>\n      <td>1</td>\n      <td>2</td>\n      <td>1</td>\n      <td>0.500000</td>\n      <td>0.500000</td>\n      <td>0.500000</td>\n      <td>NaN</td>\n      <td>24.607803</td>\n      <td>r</td>\n      <td>17.000000</td>\n      <td>17.0</td>\n      <td>17.0</td>\n      <td>0.000000</td>\n      <td>4735.000000</td>\n      <td>4735.0</td>\n      <td>8.633378e+05</td>\n      <td>863337.81</td>\n    </tr>\n    <tr>\n      <th>6176</th>\n      <td>6176</td>\n      <td>zuzana pavelekova</td>\n      <td>f</td>\n      <td>2</td>\n      <td>4</td>\n      <td>2</td>\n      <td>0.333333</td>\n      <td>0.666667</td>\n      <td>0.000000</td>\n      <td>NaN</td>\n      <td>NaN</td>\n      <td>u</td>\n      <td>NaN</td>\n      <td>NaN</td>\n      <td>NaN</td>\n      <td>NaN</td>\n      <td>4240.000000</td>\n      <td>4503.0</td>\n      <td>7.170735e+05</td>\n      <td>764152.53</td>\n    </tr>\n    <tr>\n      <th>6177</th>\n      <td>6177</td>\n      <td>zuzana zalabska</td>\n      <td>f</td>\n      <td>1</td>\n      <td>3</td>\n      <td>2</td>\n      <td>0.666667</td>\n      <td>0.666667</td>\n      <td>0.666667</td>\n      <td>NaN</td>\n      <td>30.647502</td>\n      <td>r</td>\n      <td>14.000000</td>\n      <td>14.0</td>\n      <td>14.0</td>\n      <td>0.000000</td>\n      <td>1303.000000</td>\n      <td>1303.0</td>\n      <td>2.393903e+05</td>\n      <td>239390.33</td>\n    </tr>\n    <tr>\n      <th>6178</th>\n      <td>6178</td>\n      <td>zuzana zlochova</td>\n      <td>f</td>\n      <td>88</td>\n      <td>179</td>\n      <td>93</td>\n      <td>0.337581</td>\n      <td>1.000000</td>\n      <td>0.000000</td>\n      <td>NaN</td>\n      <td>26.020534</td>\n      <td>r</td>\n      <td>87.782123</td>\n      <td>166.0</td>\n      <td>142.0</td>\n      <td>1924.036328</td>\n      <td>3236.458101</td>\n      <td>10338.0</td>\n      <td>6.504928e+05</td>\n      <td>2291040.00</td>\n    </tr>\n  </tbody>\n</table>\n<p>6179 rows × 20 columns</p>\n</div>"
     },
     "metadata": {}
    }
   ],
   "execution_count": null
  },
  {
   "cell_type": "code",
   "source": "df_norm = MinMaxScaler().fit_transform(df_players[[\"total_tourneys_played\", \"total_matches_won\"]].to_numpy())\ndf_norm",
   "metadata": {
    "tags": [],
    "cell_id": "00003-360386fb-4bf9-4397-80e9-e52cff92d892",
    "deepnote_to_be_reexecuted": false,
    "source_hash": "b9909bb5",
    "execution_start": 1636725976755,
    "execution_millis": 7,
    "deepnote_cell_type": "code"
   },
   "outputs": [
    {
     "output_type": "execute_result",
     "execution_count": 10,
     "data": {
      "text/plain": "array([[0.03448276, 0.00347222],\n       [0.00574713, 0.        ],\n       [0.01149425, 0.00694444],\n       ...,\n       [0.00574713, 0.00347222],\n       [0.        , 0.00347222],\n       [0.5       , 0.31944444]])"
     },
     "metadata": {}
    }
   ],
   "execution_count": null
  },
  {
   "cell_type": "markdown",
   "source": "## K-means",
   "metadata": {
    "tags": [],
    "is_collapsed": false,
    "cell_id": "00003-5fc1c385-044d-4c46-8322-a804af0bb406",
    "deepnote_cell_type": "text-cell-h2"
   }
  },
  {
   "cell_type": "markdown",
   "source": "## Density-based",
   "metadata": {
    "tags": [],
    "is_collapsed": false,
    "cell_id": "00003-796cb1fb-dcc9-404b-a80c-8f08768ec146",
    "deepnote_cell_type": "text-cell-h2"
   }
  },
  {
   "cell_type": "markdown",
   "source": "## Hierarchical",
   "metadata": {
    "tags": [],
    "is_collapsed": false,
    "cell_id": "00004-b12ab06a-5381-496f-88f5-cf08aaef7cbb",
    "deepnote_cell_type": "text-cell-h2"
   }
  },
  {
   "cell_type": "markdown",
   "source": "## Optional",
   "metadata": {
    "tags": [],
    "is_collapsed": false,
    "cell_id": "00005-b575ff62-84bd-4d6a-b55b-18f871f22505",
    "deepnote_cell_type": "text-cell-h2"
   }
  },
  {
   "cell_type": "markdown",
   "source": "<a style='text-decoration:none;line-height:16px;display:flex;color:#5B5B62;padding:10px;justify-content:end;' href='https://deepnote.com?utm_source=created-in-deepnote-cell&projectId=56da3ab5-e195-41aa-a609-f5fefeb3379d' target=\"_blank\">\n<img alt='Created in deepnote.com' style='display:inline;max-height:16px;margin:0px;margin-right:7.5px;' src='data:image/svg+xml;base64,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' > </img>\nCreated in <span style='font-weight:600;margin-left:4px;'>Deepnote</span></a>",
   "metadata": {
    "tags": [],
    "created_in_deepnote_cell": true,
    "deepnote_cell_type": "markdown"
   }
  }
 ],
 "nbformat": 4,
 "nbformat_minor": 2,
 "metadata": {
  "orig_nbformat": 2,
  "deepnote": {
   "is_reactive": false
  },
  "deepnote_notebook_id": "86f61efd-3d03-421b-8496-cf838ba66d00",
  "deepnote_execution_queue": []
 }
}