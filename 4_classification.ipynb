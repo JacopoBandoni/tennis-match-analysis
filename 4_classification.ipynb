{
 "cells": [
  {
   "cell_type": "markdown",
   "metadata": {},
   "source": [
    "# Classification"
   ]
  },
  {
   "cell_type": "code",
   "execution_count": null,
   "metadata": {},
   "outputs": [],
   "source": [
    "import pandas as pd\n",
    "import numpy as np\n",
    "\n",
    "# Metrics and model evaluation\n",
    "from sklearn.preprocessing import MinMaxScaler\n",
    "from sklearn.model_selection import train_test_split\n",
    "from sklearn.metrics import classification_report, confusion_matrix, roc_auc_score, roc_curve\n",
    "from sklearn.model_selection import GridSearchCV, learning_curve, validation_curve\n",
    "from sklearn.pipeline import Pipeline\n",
    "\n",
    "# Classifiers\n",
    "import wittgenstein as lw\n",
    "from sklearn import tree\n",
    "from sklearn.tree import DecisionTreeClassifier\n",
    "from sklearn.ensemble import RandomForestClassifier, AdaBoostClassifier\n",
    "from sklearn.neighbors import KNeighborsClassifier\n",
    "from sklearn.naive_bayes import GaussianNB\n",
    "from sklearn.svm import SVC\n",
    "from sklearn.neural_network import MLPClassifier\n",
    "\n",
    "# Visualization\n",
    "from IPython.display import Image, Markdown, display\n",
    "from sklearn.decomposition import PCA\n",
    "import pydotplus\n",
    "\n",
    "import plotly.express as px\n",
    "import plotly.io as pio\n",
    "import plotly.graph_objects as go\n",
    "import plotly.figure_factory as ff\n",
    "pd.options.plotting.backend = \"plotly\"\n",
    "pio.templates.default = \"seaborn\"\n",
    "\n",
    "pd.set_option('display.max_columns', None)"
   ]
  },
  {
   "cell_type": "markdown",
   "metadata": {},
   "source": [
    "## Helper class"
   ]
  },
  {
   "cell_type": "markdown",
   "metadata": {},
   "source": [
    "This class is used to split the data into train and test and then is used to show a report for each classifier, that contains info about the validation and the test"
   ]
  },
  {
   "cell_type": "code",
   "execution_count": null,
   "metadata": {},
   "outputs": [],
   "source": [
    "class Classification:\n",
    "  \n",
    "  # constructors that takes models and data\n",
    "  def __init__(self, X, Y, classes):\n",
    "    self._models = []\n",
    "    self.X = X\n",
    "    self.Y = Y\n",
    "    self.classes = classes\n",
    "    # Split the data into training and test sets with a test size of 30%\n",
    "    self.x_train, self.x_test, self.y_train, self.y_test = train_test_split(X, Y, stratify=Y, test_size=0.3, random_state=0)\n",
    "\n",
    "  # This function executes a grid search for a specific model and then saves the best model and its parameters\n",
    "  def show_report(self, estimator_name, estimator, parameters, validation_parameter, normalization=True):\n",
    "    # add clf to parameters\n",
    "    parameters = {'clf__' + k: v for k, v in parameters.items()}\n",
    "    validation_parameter = 'clf__' + validation_parameter\n",
    "\n",
    "    # Execute grid search for the classifier given the parameters on the training set with 5-fold cross validation\n",
    "    grid_search_clf = self._estimator_to_grid_search(estimator, parameters, cross_validation=5, normalization=normalization)\n",
    "    grid_search_clf.fit(self.x_train, self.y_train)\n",
    "\n",
    "    # Test the best classifier on the test set\n",
    "    y_pred = grid_search_clf.predict(self.x_test)\n",
    "\n",
    "    # Get the best classifier of the grid search and \n",
    "    self._models.append((estimator_name, grid_search_clf.best_estimator_))\n",
    "\n",
    "    # REPORT\n",
    "    \n",
    "    ## Show grid search results with the best top 10 results\n",
    "    self._print_grid_search_results(grid_search_clf)\n",
    "\n",
    "    ## Show the confusion matrix for the best classifier on the TEST set\n",
    "    self._plot_confusion_matrix(y_pred, labels=grid_search_clf.classes_)\n",
    "\n",
    "    ## Show the metrics for the best classifier on the TEST set\n",
    "    display(Markdown('### Metrics'))\n",
    "    print(classification_report(self.y_test, y_pred, target_names=self.classes, zero_division=0, sample_weight=None))\n",
    "\n",
    "    # Plot the validation curve\n",
    "    if parameters and validation_parameter:\n",
    "      self._plot_validation_curve(grid_search_clf.best_estimator_, parameters, validation_parameter)\n",
    "\n",
    "    # Plot the learning curve\n",
    "    self._plot_learning_curve(grid_search_clf.best_estimator_)\n",
    "\n",
    "    # Return the best classifier\n",
    "    return grid_search_clf.best_estimator_\n",
    "\n",
    "  # Return all best models tested with show_report\n",
    "  def get_best_models(self):\n",
    "    return self._models\n",
    "\n",
    "  def _estimator_to_grid_search(self, estimator, parameters, cross_validation=5, normalization=True, random_state=42):\n",
    "    estimator.random_state = random_state\n",
    "    if normalization:\n",
    "        pipeline = Pipeline(steps=[('scaler', MinMaxScaler()), ('clf', estimator)])\n",
    "    else:\n",
    "        pipeline = Pipeline(steps=[('clf', estimator)])\n",
    "\n",
    "    return GridSearchCV(pipeline, param_grid=parameters, cv=cross_validation, n_jobs=-1, refit=True, return_train_score=True)\n",
    "\n",
    "  def _print_grid_search_results(self, grid_search):\n",
    "    display(Markdown('### Top 10 results of the grid search with 5-fold cross validation'))\n",
    "    df = pd.DataFrame(grid_search.cv_results_)[['params', 'mean_train_score', 'mean_test_score', 'rank_test_score']].sort_values(by='rank_test_score')\n",
    "\n",
    "    # remove the 'clf__' prefix from the parameters column\n",
    "    df['params'] = df['params'].apply(lambda x: {k[5:]: v for k, v in x.items()})\n",
    "    # create a column for each parameter in params column in df_new\n",
    "    df_new = pd.DataFrame()\n",
    "    for param in df['params'].iloc[0].keys():\n",
    "      df_new[param] = df['params'].apply(lambda x: x[param])\n",
    "    # add old columns to new df\n",
    "    df_new = df_new.join(df[['mean_train_score', 'mean_test_score', 'rank_test_score']])\n",
    "\n",
    "    display(df_new.head(10).style.hide_index())\n",
    "\n",
    "  def _plot_confusion_matrix(self, y_pred, labels, normalize=False):\n",
    "    cm = confusion_matrix(self.y_test, y_pred, labels=labels)\n",
    "    if normalize:\n",
    "      cm = cm.astype('float') / cm.sum(axis=1)[:, np.newaxis]\n",
    "      display(Markdown('### Normalized confusion matrix for the best classifier obtained by the Grid Search on the TEST set'))\n",
    "    else:\n",
    "      display(Markdown('### Confusion matrix for the best classifier obtained by the Grid Search on the TEST set'))\n",
    "\n",
    "    # px.imshow(cm, x=classes, y=classes, title='Confusion matrix', color_continuous_scale=\"Blues\", labels=dict(x=\"Real value\", y=\"Predicted value\", color=\"Records\"), text_auto=True)\n",
    "    fig = ff.create_annotated_heatmap(cm[[1, 0]], x=self.classes, y=self.classes, colorscale='Blues', showscale=True)\n",
    "    fig.update_layout(xaxis = dict(title='Predicted value'), yaxis = dict(title='Real value'))\n",
    "    fig.show()\n",
    "\n",
    "  def _plot_learning_curve(self, clf, scoring='accuracy', cv=5, train_sizes=np.linspace(.1, 1.0, 5), shuffle=False, random_state=None):\n",
    "\n",
    "    train_sizes, train_scores, test_scores = learning_curve(clf, self.X, self.Y, train_sizes=train_sizes, cv=cv,\n",
    "                                                            scoring=scoring, n_jobs=-1, shuffle=shuffle,\n",
    "                                                            random_state=random_state)\n",
    "    mean_train_score = np.mean(train_scores, axis=1)\n",
    "    std_train_score = np.std(train_scores, axis=1)\n",
    "    mean_test_score = np.mean(test_scores, axis=1)\n",
    "    std_test_score = np.std(test_scores, axis=1)\n",
    "\n",
    "    fig = go.Figure()\n",
    "\n",
    "    fig.add_trace(go.Scatter(x=train_sizes, y=mean_train_score, name='train score', line=dict(color='royalblue')))\n",
    "    fig.add_trace(go.Scatter(x=train_sizes, y=mean_train_score + std_train_score, mode=\"lines\", showlegend=False, line=dict(width=0)))\n",
    "    fig.add_trace(go.Scatter(x=train_sizes, y=mean_train_score - std_train_score, fill='tonexty', showlegend=False, \n",
    "      fillcolor='rgba(65,105,225,0.2)',\n",
    "      line_color='rgba(255,255,255,0)',))\n",
    "\n",
    "    fig.add_trace(go.Scatter(x=train_sizes, y=mean_test_score, name='cross-validation score', line=dict(color='firebrick')))\n",
    "    fig.add_trace(go.Scatter(x=train_sizes, y=mean_test_score + std_test_score, mode=\"lines\", showlegend=False, line=dict(width=0)))\n",
    "    fig.add_trace(go.Scatter(x=train_sizes, y=mean_test_score - std_test_score, fill='tonexty', showlegend=False, \n",
    "      fillcolor='rgba(255,107,107,0.2)',\n",
    "      line_color='rgba(255,255,255,0)',))\n",
    "\n",
    "    model_name = str(clf[\"clf\"].__class__.__name__)\n",
    "    fig.update_layout(title=f'Learning Curve for {model_name}',\n",
    "                   xaxis_title='Train set size',\n",
    "                   yaxis_title='Accuracy')\n",
    "\n",
    "    display(Markdown('### Learning curve'))\n",
    "    fig.show()\n",
    "\n",
    "  def _plot_validation_curve(self, clf, parameters, validation_parameter, scoring='accuracy', cv=5):\n",
    "    param_range = parameters[validation_parameter]\n",
    "    train_scores, test_scores = validation_curve(clf, self.X, self.Y, param_name=validation_parameter, param_range=param_range,\n",
    "                                                  cv=cv, scoring=scoring, n_jobs=-1)\n",
    "    mean_train_score = np.mean(train_scores, axis=1)\n",
    "    std_train_score = np.std(train_scores, axis=1)\n",
    "    mean_test_score = np.mean(test_scores, axis=1)\n",
    "    std_test_score = np.std(test_scores, axis=1)\n",
    "\n",
    "    fig = go.Figure()\n",
    "\n",
    "    fig.add_trace(go.Scatter(x=param_range, y=mean_train_score, name='train score', line=dict(color='royalblue')))\n",
    "    fig.add_trace(go.Scatter(x=param_range, y=mean_train_score + std_train_score, mode=\"lines\", showlegend=False, line=dict(width=0)))\n",
    "    fig.add_trace(go.Scatter(x=param_range, y=mean_train_score - std_train_score, fill='tonexty', showlegend=False, \n",
    "      fillcolor='rgba(65,105,225,0.2)',\n",
    "      line_color='rgba(255,255,255,0)',))\n",
    "\n",
    "    fig.add_trace(go.Scatter(x=param_range, y=mean_test_score, name='cross-validation score', line=dict(color='firebrick')))\n",
    "    fig.add_trace(go.Scatter(x=param_range, y=mean_test_score + std_test_score, mode=\"lines\", showlegend=False, line=dict(width=0)))\n",
    "    fig.add_trace(go.Scatter(x=param_range, y=mean_test_score - std_test_score, fill='tonexty', showlegend=False, \n",
    "      fillcolor='rgba(255,107,107,0.2)',\n",
    "      line_color='rgba(255,255,255,0)',))\n",
    "\n",
    "    param_name = str(validation_parameter).replace(\"clf__\", \"\")\n",
    "    model_name = str(clf[\"clf\"].__class__.__name__)\n",
    "    fig.update_layout(title=f'Validation Curve for {model_name}',\n",
    "                    xaxis_title=param_name,\n",
    "                    yaxis_title='Accuracy')\n",
    "    display(Markdown('### Validation curve'))\n",
    "    fig.show()"
   ]
  },
  {
   "cell_type": "markdown",
   "metadata": {},
   "source": [
    "## Pre-processing"
   ]
  },
  {
   "cell_type": "code",
   "execution_count": null,
   "metadata": {},
   "outputs": [],
   "source": [
    "df_players_complete = pd.read_csv(\"./datasets/players.csv\", index_col=0)"
   ]
  },
  {
   "cell_type": "markdown",
   "metadata": {},
   "source": [
    "### Label computation"
   ]
  },
  {
   "cell_type": "markdown",
   "metadata": {},
   "source": [
    "#### Median splitting"
   ]
  },
  {
   "cell_type": "code",
   "execution_count": null,
   "metadata": {},
   "outputs": [],
   "source": [
    "df_players_complete['is_high_ranked'] = np.digitize(df_players_complete['mean_rank_points'], bins=[df_players_complete['mean_rank_points'].median()])\n",
    "print(df_players_complete['is_high_ranked'].value_counts())\n",
    "px.histogram(df_players_complete, x=\"mean_rank_points\", color=\"is_high_ranked\", title=\"Histogram of mean rank points\")"
   ]
  },
  {
   "cell_type": "markdown",
   "metadata": {},
   "source": [
    "#### Pareto splitting"
   ]
  },
  {
   "cell_type": "code",
   "execution_count": null,
   "metadata": {},
   "outputs": [],
   "source": [
    "# # lowest 80% of mean rank points are considered low ranked\n",
    "# df_players_complete['is_high_ranked'] = np.digitize(df_players_complete['mean_rank_points'], bins=[df_players_complete['mean_rank_points'].quantile(0.8)])\n",
    "# print(df_players_complete['is_high_ranked'].value_counts())\n",
    "# px.histogram(df_players_complete, x=\"mean_rank_points\", color=\"is_high_ranked\", title=\"Histogram of mean rank points\")"
   ]
  },
  {
   "cell_type": "markdown",
   "metadata": {},
   "source": [
    "#### K-means"
   ]
  },
  {
   "cell_type": "code",
   "execution_count": null,
   "metadata": {},
   "outputs": [],
   "source": [
    "# # Apply k-means to identify cluster of good and bad players\n",
    "# from sklearn.cluster import KMeans\n",
    "\n",
    "# feautures = ['max_tourney_revenue', 'mean_rank_points', 'lrpOnMxrp', 'matches_won_ratio']\n",
    "# df_data = df_players_complete[feautures].reset_index(drop=True)\n",
    "# #df_data = pd.DataFrame(MinMaxScaler().fit_transform(df_data), columns=df_data.columns)\n",
    "# #df_data = df_data.round(3)\n",
    "# kmeans = KMeans(n_clusters=2, n_init=10, max_iter=100, init=\"k-means++\", random_state=42).fit(df_data)\n",
    "# df_players_complete['cluster'] = kmeans.labels_\n",
    "\n",
    "# # is high ranked based on cluster results\n",
    "# df_players_complete['is_high_ranked'] = df_players_complete['cluster']\n",
    "# # print number of players\n",
    "# print(df_players_complete['is_high_ranked'].value_counts())\n",
    "# px.histogram(df_players_complete, x=\"mean_rank_points\", color=\"is_high_ranked\", title=\"Histogram of mean rank points\")"
   ]
  },
  {
   "cell_type": "markdown",
   "metadata": {},
   "source": [
    "#### Choice of the label to use"
   ]
  },
  {
   "cell_type": "code",
   "execution_count": null,
   "metadata": {},
   "outputs": [],
   "source": [
    "classes = ['low_ranked', 'high_ranked']\n",
    "df_players = df_players_complete.copy()\n",
    "df_players['is_high_ranked'] = np.digitize(df_players['mean_rank_points'], bins=[df_players['mean_rank_points'].median()])\n",
    "df_players[['mean_rank_points', 'is_high_ranked']]\n",
    "df_players"
   ]
  },
  {
   "cell_type": "code",
   "execution_count": null,
   "metadata": {},
   "outputs": [],
   "source": [
    "df_players.is_high_ranked.value_counts().plot(kind='bar')"
   ]
  },
  {
   "cell_type": "markdown",
   "metadata": {},
   "source": [
    "### Feature choice"
   ]
  },
  {
   "cell_type": "code",
   "execution_count": null,
   "metadata": {},
   "outputs": [],
   "source": [
    "# drop correlated features with label\n",
    "features_correlated_with_high_ranked = ['max_rank_points', 'last_rank_points', 'variance_rank_points']\n",
    "\n",
    "# drop all columns with missing values\n",
    "df_players = df_players.dropna(axis=1)\n",
    "features_with_missing_values = ['minutes_entropy']  # this one is computed over minutes that contains a lot of missing values\n",
    "\n",
    "# consider only numeric features\n",
    "df_players = df_players.select_dtypes(include=['int64', 'float64'])\n",
    "\n",
    "features_to_drop = features_correlated_with_high_ranked + features_with_missing_values\n",
    "df_players.drop(columns=features_to_drop, inplace=True)\n",
    "df_players.info()"
   ]
  },
  {
   "cell_type": "code",
   "execution_count": null,
   "metadata": {},
   "outputs": [],
   "source": [
    "def get_redundant_pairs(df):\n",
    "    '''Get diagonal and lower triangular pairs of correlation matrix'''\n",
    "    pairs_to_drop = set()\n",
    "    cols = df.columns\n",
    "    for i in range(0, df.shape[1]):\n",
    "        for j in range(0, i+1):\n",
    "            pairs_to_drop.add((cols[i], cols[j]))\n",
    "    \n",
    "    return pairs_to_drop\n",
    "\n",
    "corr_threshold = 0.8\n",
    "correlation = df_players.corr(method=\"pearson\") #.abs()\n",
    "correlation = correlation.where(np.tril(np.ones(correlation.shape)).astype(bool)) # remove upper triangle\n",
    "\n",
    "px.imshow(correlation, labels=dict(color=\"Correlation\"), color_continuous_scale=px.colors.diverging.RdBu, zmin=-1, zmax=1, width=1000, height=1000).show()\n",
    "\n",
    "correlation = correlation.unstack().drop(labels=get_redundant_pairs(correlation)).sort_values(ascending=False).drop_duplicates()\n",
    "print(f\"These are {len(correlation[(correlation>=corr_threshold) | (correlation<=-corr_threshold)])} pairs whose correlation is bigger/small than ±{corr_threshold*100}%:\")\n",
    "correlation[(correlation>=corr_threshold) | (correlation<=-corr_threshold)]"
   ]
  },
  {
   "cell_type": "markdown",
   "metadata": {},
   "source": [
    "Drop all features that are highly correlated. Between two of them, the choice is to drop the one with the lowest correlation with `mean_rank_points`"
   ]
  },
  {
   "cell_type": "code",
   "execution_count": null,
   "metadata": {},
   "outputs": [],
   "source": [
    "features_correlated = [\"mean_tourney_revenue\", \"total_matches_played\", \"total_tourneys_played\", \"max_tourney_spectators\", \"min_performance_index\", \"max_performance_index\", \"mean_performance_index\", \"rel_gmsWon\", \"performance_index_entropy\"]\n",
    "df_players.drop(columns=features_correlated, inplace=True)\n",
    "\n",
    "# Drop label\n",
    "df_players.drop(columns=['mean_rank_points'], inplace=True)\n",
    "df_players.info()"
   ]
  },
  {
   "cell_type": "markdown",
   "metadata": {},
   "source": [
    "## Classification"
   ]
  },
  {
   "cell_type": "code",
   "execution_count": null,
   "metadata": {},
   "outputs": [],
   "source": [
    "X = df_players.drop(columns=['is_high_ranked'])\n",
    "Y = df_players['is_high_ranked']\n",
    "classification = Classification(X, Y, classes = ['low_ranked', 'high_ranked'])"
   ]
  },
  {
   "cell_type": "markdown",
   "metadata": {},
   "source": [
    "### Decision Tree"
   ]
  },
  {
   "cell_type": "code",
   "execution_count": null,
   "metadata": {},
   "outputs": [],
   "source": [
    "parameters = {'max_depth': [2,3,4,5,6,7,8,9,10], 'criterion': ['gini', 'entropy'], 'splitter': ['best', 'random'], 'min_samples_split': [3, 5, 7, 9, 12], 'min_samples_leaf': [3, 5, 7, 9, 12], 'max_features': ['sqrt', 'log2', None]}\n",
    "best_model = classification.show_report(\"Decision Tree\", DecisionTreeClassifier(), parameters, validation_parameter='max_depth', normalization=False)"
   ]
  },
  {
   "cell_type": "markdown",
   "metadata": {},
   "source": [
    "#### Explanation"
   ]
  },
  {
   "cell_type": "code",
   "execution_count": null,
   "metadata": {},
   "outputs": [],
   "source": [
    "cdot_data = tree.export_graphviz(best_model[\"clf\"], out_file=None,\n",
    "                         feature_names=list(classification.x_train.columns),\n",
    "                         class_names=classes,\n",
    "                         filled=True, rounded=True)\n",
    "graph = pydotplus.graph_from_dot_data(cdot_data)\n",
    "Image(graph.create_png())\n",
    "\n",
    "#TODO: problema, cos'è il rettangolo nero?"
   ]
  },
  {
   "cell_type": "markdown",
   "metadata": {},
   "source": [
    "#### Feature importance"
   ]
  },
  {
   "cell_type": "code",
   "execution_count": null,
   "metadata": {},
   "outputs": [],
   "source": [
    "# get the names of the most important features according to the model\n",
    "# map the feature importances to the feature names\n",
    "feature_importances = pd.DataFrame({'feature': X.columns, 'importance': best_model[\"clf\"].feature_importances_})\n",
    "# sort according to the importance\n",
    "feature_importances.sort_values('importance', ascending=False).reset_index(drop=True)"
   ]
  },
  {
   "cell_type": "markdown",
   "metadata": {},
   "source": [
    "### Rule based (RIPPER)"
   ]
  },
  {
   "cell_type": "code",
   "execution_count": null,
   "metadata": {},
   "outputs": [],
   "source": [
    "# parameters = {\"prune_size\": [0.33, 0.5], \"k\": [1, 2]}\n",
    "# clf = get_grid_search(lw.RIPPER(), parameters).fit(x_train, y_train, pos_class=1)\n",
    "# y_pred = clf.predict(x_test)\n",
    "\n",
    "# models.append((\"Rule based\", clf.best_estimator_))\n",
    "# report(clf, X, Y, y_test, y_pred, clf.classes_)"
   ]
  },
  {
   "cell_type": "code",
   "execution_count": null,
   "metadata": {},
   "outputs": [],
   "source": [
    "# clf.best_estimator_.out_model()"
   ]
  },
  {
   "cell_type": "markdown",
   "metadata": {},
   "source": [
    "### Random forest"
   ]
  },
  {
   "cell_type": "code",
   "execution_count": null,
   "metadata": {},
   "outputs": [],
   "source": [
    "parameters = {'max_depth': [2,3,4,5,6,7,8,9,10], 'n_estimators': [10, 20, 50, 100], 'max_features': range(1, len(classification.x_train.iloc[0]) + 1), 'bootstrap':[True, False], 'min_samples_leaf': [10, 20, 30, 40, 50], 'min_samples_split': [10, 20, 30, 40, 50], \"class_weight\":['balanced', None, {0: 0.3, 1: 0.7}]}\n",
    "parameters = {'max_depth': [2,3,4,5,6,7,8,9,10], 'n_estimators': [10, 20, 50, 100], 'max_features': ['sqrt', 'log2', None]}\n",
    "best_model = classification.show_report(\"Random Forest\", RandomForestClassifier(), parameters, validation_parameter='max_depth', normalization=False)"
   ]
  },
  {
   "cell_type": "markdown",
   "metadata": {},
   "source": [
    "### AdaBoost"
   ]
  },
  {
   "cell_type": "code",
   "execution_count": null,
   "metadata": {},
   "outputs": [],
   "source": [
    "parameters = {'n_estimators': [10, 20, 50, 100]}\n",
    "best_model = classification.show_report(\"AdaBoost\", AdaBoostClassifier(), parameters, validation_parameter='n_estimators', normalization=False)"
   ]
  },
  {
   "cell_type": "markdown",
   "metadata": {},
   "source": [
    "### KNN"
   ]
  },
  {
   "cell_type": "code",
   "execution_count": null,
   "metadata": {},
   "outputs": [],
   "source": [
    "# Use SQRT heuristic on train set to find the optimal K\n",
    "k_euristic = int(np.sqrt(len(classification.x_train))) + 1\n",
    "# add 20% to k_euristic to get the upper bound\n",
    "k_euristic = int(k_euristic * 1.2)\n",
    "k_range = list(range(1, k_euristic, 2))\n",
    "\n",
    "parameters = {'n_neighbors': k_range, 'weights':['uniform', 'distance'], 'algorithm': ['ball_tree', 'kd_tree', 'brute'], 'metric': ['euclidean', 'manhattan', 'minkowski', 'chebyshev']}\n",
    "best_model = classification.show_report(\"KNN\", KNeighborsClassifier(), parameters, validation_parameter='n_neighbors', normalization=True)"
   ]
  },
  {
   "cell_type": "markdown",
   "metadata": {},
   "source": [
    "### Naive Bayes"
   ]
  },
  {
   "cell_type": "code",
   "execution_count": null,
   "metadata": {},
   "outputs": [],
   "source": [
    "parameters = {}\n",
    "best_model = classification.show_report(\"Naive Bayes\", GaussianNB(), parameters, validation_parameter='', normalization=False)"
   ]
  },
  {
   "cell_type": "markdown",
   "metadata": {},
   "source": [
    "### Support Vector Machine"
   ]
  },
  {
   "cell_type": "code",
   "execution_count": null,
   "metadata": {},
   "outputs": [],
   "source": [
    "parameters = {'C': [0.1, 1, 10, 100, 1000], 'kernel': ['linear', 'poly', 'rbf', 'sigmoid']}\n",
    "best_model = classification.show_report(\"SVM\", SVC(probability=True), parameters, validation_parameter='C', normalization=True)"
   ]
  },
  {
   "cell_type": "markdown",
   "metadata": {},
   "source": [
    "### Neural Networks"
   ]
  },
  {
   "cell_type": "code",
   "execution_count": null,
   "metadata": {},
   "outputs": [],
   "source": [
    "parameters = {\"solver\": ['lbfgs', 'sgd', 'adam'], \"alpha\": [0.0001, 0.001, 0.01], \"hidden_layer_sizes\": [(10,), (20, )], \"activation\": ['logistic', 'tanh', 'relu'], \"learning_rate\": ['constant', 'invscaling', 'adaptive']}\n",
    "best_model = classification.show_report(\"Neural Network\", MLPClassifier(), parameters, validation_parameter='alpha', normalization=True)"
   ]
  },
  {
   "cell_type": "markdown",
   "metadata": {},
   "source": [
    "## Result analysis"
   ]
  },
  {
   "cell_type": "markdown",
   "metadata": {},
   "source": [
    "### Comparison (ROC)"
   ]
  },
  {
   "cell_type": "code",
   "execution_count": null,
   "metadata": {},
   "outputs": [],
   "source": [
    "fig = go.Figure()\n",
    "fig.add_shape(type=\"line\", x0=0, y0=0, x1=1, y1=1, line=dict(color=\"RoyalBlue\",width=3, dash=\"dash\"))\n",
    "\n",
    "models = classification.get_best_models()\n",
    "\n",
    "for i in range(len(models)):\n",
    "    y_score = models[i][1].predict_proba(classification.x_test)[:, 1]\n",
    "    fpr, tpr, thresholds = roc_curve(classification.y_test, y_score)\n",
    "    auc_score = roc_auc_score(classification.y_test, y_score)\n",
    "    models[i] += (auc_score,)\n",
    "    \n",
    "# Sort according to AUC score\n",
    "models.sort(key=lambda x: x[2], reverse=True)  \n",
    "for model in models:\n",
    "    y_score = model[1].predict_proba(classification.x_test)[:, 1]\n",
    "    fpr, tpr, thresholds = roc_curve(classification.y_test, y_score)\n",
    "    name = f\"{model[0]} - AUC={model[2]:.3f}\"\n",
    "    fig.add_trace(go.Scatter(x=fpr, y=tpr, name=name, mode='lines'))\n",
    "\n",
    "fig.update_layout(\n",
    "    xaxis_title='False Positive Rate',\n",
    "    yaxis_title='True Positive Rate',\n",
    "    yaxis=dict(scaleanchor=\"x\", scaleratio=1),\n",
    "    xaxis=dict(constrain='domain'),\n",
    "    width=700, height=500)\n",
    "fig.show()"
   ]
  },
  {
   "cell_type": "markdown",
   "metadata": {},
   "source": [
    "### Visualization of the best model"
   ]
  },
  {
   "cell_type": "code",
   "execution_count": null,
   "metadata": {},
   "outputs": [],
   "source": [
    "# Search for the model with the best AUC score\n",
    "best_model = max(models, key=lambda x: x[2])\n",
    "\n",
    "# PCA\n",
    "X_r = pd.DataFrame(PCA(n_components=2).fit_transform(classification.x_train))\n",
    "prediction = best_model[1].predict_proba(classification.x_train)\n",
    "fig = px.scatter(x=X_r[0], y=X_r[1], color=prediction[:, 1], color_continuous_scale='RdBu', symbol=classification.y_train, symbol_map={'0': 'square-dot', '1': 'circle-dot'},  labels={'symbol': 'label', 'color': 'score of <br>first class'})\n",
    "fig.update_traces(marker_size=12, marker_line_width=1.5)\n",
    "fig.update_layout(title=f\"PCA visualization for {best_model[0]}\", legend_orientation='h')\n",
    "fig.show()"
   ]
  },
  {
   "cell_type": "markdown",
   "metadata": {},
   "source": [
    "### Accuracy of all models on train and test set"
   ]
  },
  {
   "cell_type": "code",
   "execution_count": null,
   "metadata": {},
   "outputs": [],
   "source": [
    "df_accuracy_train = pd.DataFrame()\n",
    "df_accuracy_train['Model'] = [model[0] for model in models]\n",
    "df_accuracy_train['Accuracy'] = [model[1].score(classification.x_train, classification.y_train) for model in models]\n",
    "df_accuracy_train['Set'] = ['Train' for model in models]\n",
    "\n",
    "df_accuracy_test = pd.DataFrame()\n",
    "df_accuracy_test['Model'] = [model[0] for model in models]\n",
    "df_accuracy_test['Accuracy'] = [model[1].score(classification.x_test, classification.y_test) for model in models]\n",
    "df_accuracy_test['Set'] = ['Test' for model in models]\n",
    "\n",
    "# merge the dataframes\n",
    "df_accuracy = pd.concat([df_accuracy_train, df_accuracy_test]).reset_index(drop=True)\n",
    "df_accuracy = df_accuracy.sort_values(by=['Set', 'Accuracy', 'Model'], ascending=[1, 0, 1]).reset_index(drop=True)\n",
    "df_accuracy['Accuracy'] = df_accuracy['Accuracy'].round(4)\n",
    "\n",
    "# plotly express barcharth for each model with the train and test accuracy\n",
    "px.bar(df_accuracy, x=\"Model\", y=\"Accuracy\", color=\"Set\", barmode=\"group\", text_auto=True, color_discrete_sequence=[\"firebrick\", \"royalblue\"]).show()"
   ]
  }
 ],
 "metadata": {
  "interpreter": {
   "hash": "f625ebbd10e36045cf734aa94df07d176492c240bf54797abcd7e809b7fa9e5b"
  },
  "kernelspec": {
   "display_name": "Python 3 (ipykernel)",
   "language": "python",
   "name": "python3"
  },
  "language_info": {
   "codemirror_mode": {
    "name": "ipython",
    "version": 3
   },
   "file_extension": ".py",
   "mimetype": "text/x-python",
   "name": "python",
   "nbconvert_exporter": "python",
   "pygments_lexer": "ipython3",
   "version": "3.9.7"
  }
 },
 "nbformat": 4,
 "nbformat_minor": 2
}
